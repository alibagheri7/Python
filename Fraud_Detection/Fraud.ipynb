{
 "cells": [
  {
   "cell_type": "markdown",
   "source": [
    "# Financial Transaction Fraud Detection"
   ],
   "metadata": {
    "collapsed": false,
    "pycharm": {
     "name": "#%% md\n"
    }
   }
  },
  {
   "cell_type": "markdown",
   "source": [
    "Data Decription\n",
    "The dataset contains transactions made by credit cards in September 2013 by European cardholders.\n",
    "This dataset presents transactions that occurred in two days, where we have 492 frauds out of 284,807 transactions. The dataset is highly unbalanced, the positive class (frauds) account for 0.172% of all transactions.\n",
    "\n",
    "It contains only numerical input variables which are the result of a PCA transformation. Unfortunately, due to confidentiality issues, we cannot provide the original features and more background information about the data. Features V1, V2, … V28 are the principal components obtained with PCA, the only features which have not been transformed with PCA are 'Time' and 'Amount'. Feature 'Time' contains the seconds elapsed between each transaction and the first transaction in the dataset. The feature 'Amount' is the transaction Amount, this feature can be used for example-dependant cost-sensitive learning. Feature 'Class' is the response variable and it takes value 1 in case of fraud and 0 otherwise.\n",
    "\n",
    "Given the class imbalance ratio, we recommend measuring the accuracy using the Area Under the Precision-Recall Curve (AUPRC). Confusion matrix accuracy is not meaningful for unbalanced classification."
   ],
   "metadata": {
    "collapsed": false,
    "pycharm": {
     "name": "#%% md\n"
    }
   }
  },
  {
   "cell_type": "markdown",
   "source": [
    "good notebook on other notebooks\n",
    "https://www.kaggle.com/datasets/mlg-ulb/creditcardfraud/discussion/277570?sort=votes"
   ],
   "metadata": {
    "collapsed": false,
    "pycharm": {
     "name": "#%% md\n"
    }
   }
  },
  {
   "cell_type": "markdown",
   "source": [
    "https://app.datacamp.com/learn/courses/credit-risk-modeling-in-python\n",
    "\n",
    "https://corporatefinanceinstitute.com/resources/knowledge/finance/credit-risk/"
   ],
   "metadata": {
    "collapsed": false,
    "pycharm": {
     "name": "#%% md\n"
    }
   }
  },
  {
   "cell_type": "code",
   "execution_count": null,
   "outputs": [],
   "source": [],
   "metadata": {
    "collapsed": false,
    "pycharm": {
     "name": "#%%\n"
    }
   }
  },
  {
   "cell_type": "markdown",
   "source": [
    "https://www.coursera.org/learn/credit-risk-management#syllabus\n",
    "\n"
   ],
   "metadata": {
    "collapsed": false,
    "pycharm": {
     "name": "#%% md\n"
    }
   }
  },
  {
   "cell_type": "markdown",
   "source": [
    "https://journals.plos.org/plosone/article?id=10.1371/journal.pone.0118432"
   ],
   "metadata": {
    "collapsed": false,
    "pycharm": {
     "name": "#%% md\n"
    }
   }
  },
  {
   "cell_type": "code",
   "execution_count": null,
   "outputs": [],
   "source": [],
   "metadata": {
    "collapsed": false,
    "pycharm": {
     "name": "#%%\n"
    }
   }
  },
  {
   "cell_type": "markdown",
   "source": [
    "# a. Recourses"
   ],
   "metadata": {
    "collapsed": false,
    "pycharm": {
     "name": "#%% md\n"
    }
   },
   "outputs": []
  },
  {
   "cell_type": "markdown",
   "source": [
    "####  The practical handbook on Machine Learning for Credit Card Fraud Detection\n",
    "[transaction_Fraud_detection_handbook](https://fraud-detection-handbook.github.io/fraud-detection-handbook/Chapter_2_Background/Introduction.html)"
   ],
   "metadata": {
    "collapsed": false,
    "pycharm": {
     "name": "#%% md\n"
    }
   },
   "outputs": []
  },
  {
   "cell_type": "markdown",
   "source": [
    "#### A Series of kaggle notebooks can be found in the following link\n",
    "[kaggle_link](https://www.kaggle.com/datasets/mlg-ulb/creditcardfraud?sort=votes)"
   ],
   "metadata": {
    "collapsed": false,
    "pycharm": {
     "name": "#%% md\n"
    }
   }
  },
  {
   "cell_type": "markdown",
   "source": [
    "#### Train, Evaluate, Repeat: Building a Credit Card Fraud Detection System - Leela Senthil Nathan\n",
    "\n",
    "[youtube_link](https://www.youtube.com/watch?v=rHSpab1Wi9k)\n",
    "\n",
    "This is a great talk on fraud detection system development.\n",
    "- It is important to set a definition for fraudulent transactions. There could be different ones.\n",
    "- In stripe they used undersampling and the ratio that they had for their final model was 90-10 starting from 990-10.\n",
    "- Importance of unbiased training data:\n",
    "    - when the model is working, it will catch fraudulent transactions, when retraining the model, what we are going to feed the model is very difficult to catch frauds and over time model will lose its sensitivity to easy frauds. needs to find easy fruad.\n",
    "    - So to find conterfactuals, they set a threshhold and they used the inverse probability of being fradualent after that threshold as the weight for that transaction, and retrained the model. and used the weighth also in validation.\n",
    "    - they actually let some risky transaction to go through to help them have unbiased training data.\n",
    "    - The approach did not work as it did lead to a lot of noise, so they changed it.\n",
    "    - They used a single value to weight the transactions that could pass. all of them 1/p.\n",
    "    - For training model a constant target rate should be used, the fixed ratio of data that is fradualent. rather than how much should I under or oversample. because the datavolume does change.\n",
    "    - The nature of fraud is changing very quickly and it is better to change the training at appropriate times, and update the model."
   ],
   "metadata": {
    "collapsed": false,
    "pycharm": {
     "name": "#%% md\n"
    }
   }
  },
  {
   "cell_type": "markdown",
   "source": [
    "# b. Fraud Detection Handbook"
   ],
   "metadata": {
    "collapsed": false,
    "pycharm": {
     "name": "#%% md\n"
    }
   }
  },
  {
   "cell_type": "markdown",
   "source": [
    "## 2 Background"
   ],
   "metadata": {
    "collapsed": false,
    "pycharm": {
     "name": "#%% md\n"
    }
   },
   "outputs": []
  },
  {
   "cell_type": "markdown",
   "source": [
    "### 2.2. Credit card fraud scenarios\n",
    "#### 2.2.1. Card-present vs Card-not-present frauds\n",
    "##### 2.2.1.1. Card-present frauds\n",
    "Lost or stolen card\n",
    "Counterfeited card\n",
    "Card not received\n",
    "##### 2.2.1.2. Card-not-present frauds"
   ],
   "metadata": {
    "collapsed": false,
    "pycharm": {
     "name": "#%% md\n"
    }
   }
  },
  {
   "cell_type": "markdown",
   "source": [
    "### 2.3. Credit card fraud detection system"
   ],
   "metadata": {
    "collapsed": false,
    "pycharm": {
     "name": "#%% md\n"
    }
   },
   "outputs": []
  },
  {
   "cell_type": "markdown",
   "source": [
    "#### 2.3.1. Terminal\n",
    "Security checks include controlling the PIN code (possible only in case of cards provided with chip), the number of attempts, the card status (either active or blocked), the balance available, and the expenditure limit. These operations have to be performed in real-time (response has to be provided in a few milliseconds), during which the terminal queries a server of the card-issuing company.\n",
    "#### 2.3.2. Transaction-Blocking Rules\n",
    "blocking rules should be: i) quick to compute and ii) very precise, namely\n",
    "These rules use the information available when the payment is requested, without analyzing historical records or cardholder profiles. An example of a blocking rule could be: “IF internet transactions AND unsecured website THEN deny the transaction”.\n",
    "#### 2.3.3. Scoring Rules\n",
    "Scoring rules are also expert-driven models that are expressed as if-then (-else) statements\n",
    "“IF previous transaction in a different continent AND less than one hour from the previous transaction THEN fraud score = 0.95”.\n",
    "scoring rules are rather subjective, since different experts design different rules.\n",
    "Finally, they can be incomplete and are difficult to maintain over time.\n",
    "#### 2.3.4. Data-Driven Model (DDM)\n",
    "the data-driven model is trained from a set of labeled transactions and cannot be interpreted or manually modified by investigators. An effective data-driven model is expected to detect fraudulent patterns by simultaneously analyzing multiple components of the feature vector, possibly through nonlinear expressions.\n",
    "#### 2.3.5. Investigators\n",
    "Investigators are professionals experienced in analyzing credit card transactions and are responsible for the expert-driven layers of the FDS."
   ],
   "metadata": {
    "collapsed": false,
    "pycharm": {
     "name": "#%% md\n"
    }
   }
  },
  {
   "cell_type": "markdown",
   "source": [
    "### 2.4. Machine learning for credit card fraud detection\n",
    "looking for needles in a haystack."
   ],
   "metadata": {
    "collapsed": false,
    "pycharm": {
     "name": "#%% md\n"
    }
   },
   "outputs": []
  },
  {
   "cell_type": "markdown",
   "source": [
    "#### 2.4.1. Recent surveys\n",
    "To get a picture of the current state of research on ML for CCFD, we searched Google Scholar for all reviews and surveys made on this topic in the last five years."
   ],
   "metadata": {
    "collapsed": false,
    "pycharm": {
     "name": "#%% md\n"
    }
   }
  },
  {
   "cell_type": "markdown",
   "source": [
    "#### 2.4.2. Baseline methodology - Supervised learning\n",
    "- Account-related features: They include for example the account number, the date of the account opening, the card limit, the card expiry date, etc.\n",
    "- Transaction-related features: They include for example the transaction reference number, the account number, the transaction amount, the terminal (i.e., POS) number, the transaction time, etc. From the terminal, one can also obtain an additional category of information: merchant-related features such as its category code (restaurant, supermarket, …) or its location.\n",
    "\n",
    "- Customer-related features: They include for example the customer number, the type of customer (low profile, high profile, …), etc."
   ],
   "metadata": {
    "collapsed": false,
    "pycharm": {
     "name": "#%% md\n"
    }
   }
  },
  {
   "cell_type": "markdown",
   "source": [
    "#### 2.4.3. Overview of challenges\n",
    "- Class imbalance\n",
    "- Concept drift: Transaction and fraud patterns change over time. On the one hand, the spending habits of credit card users are different during weekdays, weekends, vacation periods, and more generally evolve over time. On the other hand, fraudsters adopt new techniques as the old ones become obsolete. These time-dependent changes in the distributions of transactions and frauds are referred to as concept drift. Concept drift requires the design of learning strategies that can cope with temporal changes in statistical distributions, a topic known as online learning. The concept drift problem is accentuated in practice by the delayed feedbacks.\n",
    "- Near real-time requirements: Fraud detection systems must be able to quickly detect fraudulent transactions. Given the potentially high volume of transaction data\n",
    "- Categorical features: Transactional data typically contain numerous categorical features, such as the ID of a customer, a terminal, the card type, and so on. Categorical features are not well handled by machine learning algorithms and must be transformed into numerical features. Common strategies for transforming categorical features include feature aggregation, graph-based transformation, or deep-learning approaches such as feature embeddings.\n",
    "- Sequential modeling: Each terminal and/or customer generates a stream of sequential data with unique characteristics. An important challenge of fraud detection consists in modeling these streams to better characterize their expected behaviors and detect when abnormal behaviors occur. Modeling may be done by aggregating features over time (for example, keeping track of the mean frequency or transaction amounts of a customer), or by relying on sequential prediction models (such as hidden Markov models, or recurrent neural networks for example).\n",
    "- Class overlap: With only raw information about a transaction, distinguishing between a fraudulent or a genuine transaction is close to impossible. This issue is commonly addressed using feature engineering techniques, that add contextual information to raw payment information.\n",
    "- Performance measures: Standard measures for classification systems, such as the mean misclassification error or the AUC ROC, are not well suited for detection problems due to the class imbalance issue. It is often necessary to consider multiple measures to assess the overall performance of a fraud detection system.\n",
    "- Lack of public datasets: For obvious confidentiality reasons, real-world credit card transactions cannot be publicly shared.\n"
   ],
   "metadata": {
    "collapsed": false,
    "pycharm": {
     "name": "#%% md\n"
    }
   }
  },
  {
   "cell_type": "markdown",
   "source": [
    "## 3. Getting Started"
   ],
   "metadata": {
    "collapsed": false,
    "pycharm": {
     "name": "#%% md\n"
    }
   },
   "outputs": []
  },
  {
   "cell_type": "markdown",
   "source": [
    "### 3.3 Baseline feature transformation\n",
    "- The first type of transformation involves the date/time variable.\n",
    "    - In real-world datasets that fraudulent patterns differ between weekdays and weekends, and between the day and night.\n",
    "    - during the day (0) or during the night (1)\n",
    "- The second type of transformation involves the customer ID and consists in creating features that characterize the customer spending behaviors. RFM (Recency, Frequency, Monetary value)\n",
    "    - The first feature will be the number of transactions that occur within a time window (Frequency).\n",
    "    - The second will be the average amount spent in these transactions (Monetary value).\n",
    "    - The time windows will be set to one, seven, and thirty days. The Time window can be changed. This will generate six new features.\n",
    "- The third type of transformation involves the terminal ID and consists in creating new features that characterize the ‘risk’ associated with the terminal.\n",
    "    - Contrary to customer ID transformations, the time windows will not directly precede a given transaction. Instead, they will be shifted back by a delay period. The delay period accounts for the fact that, in practice, the fraudulent transactions are only discovered after a fraud investigation or a customer complaint. Hence, the fraudulent labels, which are needed to compute the risk score, are only available after this delay period. To a first approximation, this delay period will be set to one week."
   ],
   "metadata": {
    "collapsed": false,
    "pycharm": {
     "name": "#%% md\n"
    }
   }
  },
  {
   "cell_type": "markdown",
   "source": [
    "### 3.4. Baseline fraud detection system"
   ],
   "metadata": {
    "collapsed": false,
    "pycharm": {
     "name": "#%% md\n"
    }
   }
  },
  {
   "cell_type": "markdown",
   "source": [
    "#### 3.4.1. Defining the training and test sets\n",
    "- Data should be splited to before and after.\n",
    "- It is worth noting that we choose our test set to take place one week after the last transaction of the training set.\n",
    "#### 3.4.4. performance assessment\n",
    "- The Card Precision top-k is the most pragmatic and interpretable measure.\n",
    "- The Average Precision is a proxy for the Card Precision top-k.\n",
    "- The AUC ROC is an alternative measure"
   ],
   "metadata": {
    "collapsed": false,
    "pycharm": {
     "name": "#%% md\n"
    }
   }
  },
  {
   "cell_type": "markdown",
   "source": [
    "## 4- Performance Metrics"
   ],
   "metadata": {
    "collapsed": false,
    "pycharm": {
     "name": "#%% md\n"
    }
   }
  },
  {
   "cell_type": "markdown",
   "source": [
    "### 4.2. Threshold-based metrics"
   ],
   "metadata": {
    "collapsed": false,
    "pycharm": {
     "name": "#%% md\n"
    }
   }
  },
  {
   "cell_type": "markdown",
   "source": [
    "#### 4.2.1. Confusion matrix"
   ],
   "metadata": {
    "collapsed": false,
    "pycharm": {
     "name": "#%% md\n"
    }
   }
  },
  {
   "cell_type": "markdown",
   "source": [
    "#### 4.2.2. Mean misclassification error\n",
    "MME = (FP + FN) / (N)\n",
    "The MME is usually a good indicator of a classifier performance for balanced datasets. For cost-sensitive problems such as fraud detection"
   ],
   "metadata": {
    "collapsed": false,
    "pycharm": {
     "name": "#%% md\n"
    }
   }
  },
  {
   "cell_type": "markdown",
   "source": [
    "#### 4.2.3. Cost matrix and weigthed loss\n",
    "MME = (FP * C0 + FN * C1) / (N)\n",
    "- In the transaction-dependent case, the cost of a missed fraud (FN) is often assumed to be equal to the transaction amount\n",
    "- The cost of correct or false alerts is considered to be equivalent to the cost of an investigator verifying with the cardholder whether a transaction was fraudulent.\n",
    "- The cost of a phone call is negligible compared to the loss that occurs in the case of a fraud. However, when the number of false alerts is too large or the card is blocked by error, the impossibility to make transactions can translate into big losses for the customer.\n",
    "- The overall cost should also include the time taken by the detection system to react. The shorter the reaction time, the larger the number of frauds that can be prevented.\n",
    "-"
   ],
   "metadata": {
    "collapsed": false,
    "pycharm": {
     "name": "#%% md\n"
    }
   }
  },
  {
   "cell_type": "markdown",
   "source": [
    "### 4.3. Threshold-free metrics"
   ],
   "metadata": {
    "collapsed": false,
    "pycharm": {
     "name": "#%% md\n"
    }
   }
  },
  {
   "cell_type": "markdown",
   "source": [
    "#### 4.3.1. Receiving Operating Characteristic (ROC) curve\n",
    "- obtained by plotting the Recall (or True Positive Rate - TPR) against the False Positive Rate (FPR)\n",
    "- A classifier K is said to be more performant than a classifier W in the ROC space only if the curve of K always dominates the curve of W.\n",
    "- When there is not a clear winner (e.g. classifier K dominates W only in one part of the ROC space), the comparison is usually done by calculating the Area Under the ROC Curve (AUC ROC)."
   ],
   "metadata": {
    "collapsed": false,
    "pycharm": {
     "name": "#%% md\n"
    }
   }
  },
  {
   "cell_type": "markdown",
   "source": [
    "#### 4.3.2. Precision-Recall curve\n",
    "percision = TP / (TP + FP)\n",
    "recall = TP / (TP + FN)"
   ],
   "metadata": {
    "collapsed": false,
    "pycharm": {
     "name": "#%% md\n"
    }
   }
  },
  {
   "cell_type": "markdown",
   "source": [
    "### 4.4. Precision top-k metrics\n",
    "Precisions are computed daily, reflecting the precisions obtained for a working day of fraud investigators. The  parameter quantifies the maximum number of alerts that can be checked by investigators in a day."
   ],
   "metadata": {
    "collapsed": false,
    "pycharm": {
     "name": "#%% md\n"
    }
   }
  },
  {
   "cell_type": "markdown",
   "source": [
    "![title](https://fraud-detection-handbook.github.io/fraud-detection-handbook/_images/TopKBased_21_0.png)"
   ],
   "metadata": {
    "collapsed": false,
    "pycharm": {
     "name": "#%% md\n"
    }
   }
  },
  {
   "cell_type": "markdown",
   "source": [
    "### 4.5. Real world data\n",
    "- The main fraud pattern uncovered by the tree (blue leaf at the bottom right) consists of transactions that occurred on a recently compromised terminal (TERMINAL_ID_RISK_30DAY_WINDOW>0.075), and for which the customer had realized a large number of transactions in the previous 24 hours (CUSTOMER_ID_NB_TX_1DAY_WINDOW>13.5). This rule actually relates to a common fraud behavior: Fraudsters usually try to carry out as many transactions as they can when they manage to compromise a credit card, thus increasing the number of transactions carried out in the last day.\n",
    "- The models the least sensitive to overfitting are the logistic regression model, and the decision tree with depth 2 are showing the best performance on test data.\n",
    "- Executaion time of the models should be also considred as these models are going to be used in a real-world environment, with millions of transactions.\n",
    "-\n"
   ],
   "metadata": {
    "collapsed": false,
    "pycharm": {
     "name": "#%% md\n"
    }
   }
  },
  {
   "cell_type": "markdown",
   "source": [
    "## 5. Model Validation and Model Selection"
   ],
   "metadata": {
    "collapsed": false,
    "pycharm": {
     "name": "#%% md\n"
    }
   }
  },
  {
   "cell_type": "markdown",
   "source": [
    "### 5.2. Validation strategies\n",
    "The purpose of a fraud detection system is to maximize the detection of fraudulent transactions that will occur in the future."
   ],
   "metadata": {
    "collapsed": false,
    "pycharm": {
     "name": "#%% md\n"
    }
   }
  },
  {
   "cell_type": "markdown",
   "source": [
    "![title](https://fraud-detection-handbook.github.io/fraud-detection-handbook/_images/stream_valid.png)"
   ],
   "metadata": {
    "collapsed": false,
    "pycharm": {
     "name": "#%% md\n"
    }
   }
  },
  {
   "cell_type": "markdown",
   "source": [
    "- Both repeated hold-out and prequential validations allow providing estimates of performances on the test set, together with confidence intervals\n",
    "\n",
    "- For training a model, and assessing its performances on the training and test sets. The four main steps are:\n",
    "    - Setting the start date for the training period, and the deltas for training, delay and test\n",
    "    - Getting the training and test sets\n",
    "    - Fitting the model and collecting the predictions\n",
    "    - Assessing the performances for both the training and test sets"
   ],
   "metadata": {
    "collapsed": false,
    "pycharm": {
     "name": "#%% md\n"
    }
   }
  },
  {
   "cell_type": "markdown",
   "source": [
    "#### 5.2.3. Repeated hold-out validation"
   ],
   "metadata": {
    "collapsed": false,
    "pycharm": {
     "name": "#%% md\n"
    }
   }
  },
  {
   "cell_type": "markdown",
   "source": [
    "#### 5.2.4. Prequential validation\n",
    "It offers the most robust way to perform model selection and will be the preferred approach in the rest of this book."
   ],
   "metadata": {
    "collapsed": false,
    "pycharm": {
     "name": "#%% md\n"
    }
   }
  },
  {
   "cell_type": "markdown",
   "source": [
    "![title](https://fraud-detection-handbook.github.io/fraud-detection-handbook/_images/stream_prequential_1block.png)"
   ],
   "metadata": {
    "collapsed": false,
    "pycharm": {
     "name": "#%% md\n"
    }
   }
  },
  {
   "cell_type": "markdown",
   "source": [
    "##### 5.2.5.2. Card Precision top-k\n",
    "Custom metrics can be implemented in sklearn thanks to the make_scorer factory function. The computation of the Card Precision top-k requires the scoring function to be aware of the customer ID and the day of the transation (see Section Precision Top K Metrics)."
   ],
   "metadata": {
    "collapsed": false,
    "pycharm": {
     "name": "#%% md\n"
    }
   }
  },
  {
   "cell_type": "markdown",
   "source": [
    "### 5.3. Model selection"
   ],
   "metadata": {
    "collapsed": false,
    "pycharm": {
     "name": "#%% md\n"
    }
   }
  },
  {
   "cell_type": "markdown",
   "source": [
    "## 6- Imbalanced Learning"
   ],
   "metadata": {
    "collapsed": false,
    "pycharm": {
     "name": "#%% md\n"
    }
   }
  },
  {
   "cell_type": "markdown",
   "source": [
    " - Imbalanced learning techniques can be broadly categorized into cost-sensitive and resampling methods. In cost-sensitive methods, algorithms are adjusted to favor the detection of the minority class.\n",
    " - Resampling methods operate at the data level, by adding a pre-processing step to rebalance the dataset before the training algorithm is applied."
   ],
   "metadata": {
    "collapsed": false,
    "pycharm": {
     "name": "#%% md\n"
    }
   }
  },
  {
   "cell_type": "markdown",
   "source": [
    "### 6.2. Cost_sensitive Learning\n",
    "- Missing a fraudulent transaction (false negative) involves a loss directly related to the amount of the transaction, but also on further fraudulent uses of the card, and on the company reputation.\n",
    "- At the same time, the blocking of transactions that are legitimate (false positive) causes inconvenience to customers, generates useless investigation costs, and also impacts the company reputation.\n",
    "- sklearn provides support for cost-sensitive learning for most baseline classifiers thanks to the class_weight parameter."
   ],
   "metadata": {
    "collapsed": false,
    "pycharm": {
     "name": "#%% md\n"
    }
   }
  },
  {
   "cell_type": "markdown",
   "source": [
    "![title](https://fraud-detection-handbook.github.io/fraud-detection-handbook/_images/CostSensitive_21_0.png)"
   ],
   "metadata": {
    "collapsed": false,
    "pycharm": {
     "name": "#%% md\n"
    }
   }
  },
  {
   "cell_type": "markdown",
   "source": [
    "The benefits of relying on misclassification costs in the training procedure therefore appear to be strongly dependent on the characteristics of a dataset and on the performance metric to optimize. The experiments provided in this section showed that cost-sensitive learning effectively allows to shift the decision boundary of a classifier and to favor the classification of the minority class."
   ],
   "metadata": {
    "collapsed": false,
    "pycharm": {
     "name": "#%% md\n"
    }
   }
  },
  {
   "cell_type": "markdown",
   "source": [
    "### 6-3 Resampling Strategies"
   ],
   "metadata": {
    "collapsed": false,
    "pycharm": {
     "name": "#%% md\n"
    }
   }
  },
  {
   "cell_type": "markdown",
   "source": [
    "- Resampling strategies address class imbalance at the data level, by rreducing the imbalance ratio.\n",
    "- It occurs before the training of the prediction model and can be seen as a data preprocessing step.\n",
    "- Three main strategies: oversampling, undersampling, and hybrid strategies\n",
    "- Oversampling consists in artificially increasing the proportion of samples from the minority class. The most naive approach is random oversampling (ROS), in which samples from the minority class are randomly duplicated. More sophisticated approaches consist in generating synthetic data by interpolating samples from the minority class. Two standard methods based on interpolation are SMOTE (Synthetic Minority Oversampling Technique) and ADASYN (Adaptive Synthetic Sampling)\n",
    "- Undersampling, on the contrary, consists in reducing the imbalance ratio by removing samples from the majority class. Samples may be simply randomly removed, as in random undersampling (RUS). RUS is a fast and easy way to balance a dataset and is therefore widely used. A significant drawback of the method is that samples that are useful for the learning process may be discarded. More advanced strategies aim at removing samples from overlapping regions (such as NearMiss, Tomek Links or Edited Nearest-Neighbors (ENN)), or by replacing subsets of samples by their centroids.\n",
    "- oversampling techniques tend to be particularly effective when the number of samples from the minority class is very low.\n",
    "- Undersampling techniques, on the other hand, are well-suited for large datasets. In particular, they allow to speed up the training times by reducing the dataset size.\n",
    "- The ability of oversampling or undersampling techniques to improve classification performances largely depends on the characteristics of a dataset.\n",
    "- Oversampling and undersampling techniques can also be combined, resulting in hybrid resampling techniques. Hybridization of undersampling and oversampling has been shown to almost always increase the classification performances.\n",
    "- Python package imblearn"
   ],
   "metadata": {
    "collapsed": false,
    "pycharm": {
     "name": "#%% md\n"
    }
   }
  },
  {
   "cell_type": "markdown",
   "source": [
    "https://www.sciencedirect.com/science/article/abs/pii/S0957417416307175"
   ],
   "metadata": {
    "collapsed": false,
    "pycharm": {
     "name": "#%% md\n"
    }
   }
  },
  {
   "cell_type": "markdown",
   "source": [
    "###### 6.3.1.1.2. SMOTE\n",
    "- SMOTE oversamples the minority class by generating synthetic examples in the neighborhood of observed ones. The idea is to form new minority examples by interpolating between samples of the same class.\n",
    "- By creating synthetic observations, the classifier builds larger decision regions that contain nearby instances from the minority class. SMOTE has been shown to improve the performances of a base classifier in many applications"
   ],
   "metadata": {
    "collapsed": false,
    "pycharm": {
     "name": "#%% md\n"
    }
   }
  },
  {
   "cell_type": "markdown",
   "source": [
    "###### 6.3.1.1.3. Other oversampling strategies\n",
    "There exists a range of more sophisticated strategies for oversampling, whose details go beyond the scope of this book. We refer the reader to [FernandezGarciaG+18] for a review and to the imblearn page on oversampling methods for their implementations in Python."
   ],
   "metadata": {
    "collapsed": false,
    "pycharm": {
     "name": "#%% md\n"
    }
   }
  },
  {
   "cell_type": "markdown",
   "source": [
    "##### 6.3.1.2. Undersampling\n",
    "###### 6.3.1.2.1. Random undersampling"
   ],
   "metadata": {
    "collapsed": false,
    "pycharm": {
     "name": "#%% md\n"
    }
   }
  },
  {
   "cell_type": "markdown",
   "source": [
    "###### 6.3.1.2.2. Edited Nearest Neighbor\n",
    "The Edited Nearest Neighbor rule is an undersampling technique that removes samples from the majority class in overlapping regions of the dataset [Lau01, Wil72]. It is based on a nearest neighbor rule, that removes majority class samples as follows [FernandezGarciaG+18] (Chapter 5, Page 84):\n",
    "\n",
    "For each majority class sample, the k-nearest neighbors are found. If the majority of these samples are from the minority class, the majority class sample is removed.\n",
    "\n",
    "For each minority class sample, the k-nearest neighbors are found. If the majority of these samples are from the majority class, the majority class sample(s) is (are) removed."
   ],
   "metadata": {
    "collapsed": false,
    "pycharm": {
     "name": "#%% md\n"
    }
   }
  },
  {
   "cell_type": "markdown",
   "source": [
    "###### 6.3.1.2.3. Other undersampling strategies\n",
    "As for ovesampling techniques, we refer the reader to [FernandezGarciaG+18] for a review of more sophisticated undersampling techniques and to the imblearn page on undersampling methods for their implementations in Python. In particular the imblearn library provides ten other undersampling methods, which can be tested by simply replacing the sampler with the desired method in the code above."
   ],
   "metadata": {
    "collapsed": false,
    "pycharm": {
     "name": "#%% md\n"
    }
   }
  },
  {
   "cell_type": "markdown",
   "source": [
    "##### 6.3.1.3. Combining over and undersampling\n",
    "Oversampling and undersampling are often complementary. On the one hand, oversampling techniques allow to generate synthetic samples from the minority class, and help a classifier in identifying more precisely the decision boundary between the two classes. On the other hand, undersampling techniques reduce the size of the training set, and allow to speed-up the classifier training time. Combining over and undersampling techniques has often been reported to successfully improve the classifier performances"
   ],
   "metadata": {
    "collapsed": false,
    "pycharm": {
     "name": "#%% md\n"
    }
   }
  },
  {
   "cell_type": "markdown",
   "source": [
    "### 6.4. Ensemble methods\n",
    "Ensembles of models very often allow to provide better prediction performances than single models, since combining the predictions from multiple models usually allows to reduce the overfitting phenomenon."
   ],
   "metadata": {
    "collapsed": false,
    "pycharm": {
     "name": "#%% md\n"
    }
   }
  },
  {
   "cell_type": "markdown",
   "source": [
    "- A common strategy when dealing with ensembles and imbalanced data is to use a different sampling of the training set for the training of the baseline learners. The procedure is illustrated in Fig. 1 for parallel-based ensembles.\n",
    "- A first stage of resampling may aim at rebalancing samples by either oversampling the minority class, undersampling the majority class, or both. In a second stage, the number of features may also be sampled before proceeding to the training of baseline learners.\n",
    "- Cost-sensitive learning techniques may also be used together with resampling techniques by weighting the classes during the training of the baseline learners. Ensemble methods therefore provide a very flexible framework, where all of the techniques presented in the two previous sections can be used, but also combined with different types of baseline learners."
   ],
   "metadata": {
    "collapsed": false,
    "pycharm": {
     "name": "#%% md\n"
    }
   }
  },
  {
   "cell_type": "markdown",
   "source": [
    "![title](https://fraud-detection-handbook.github.io/fraud-detection-handbook/_images/parallel_based_framework.png)"
   ],
   "metadata": {
    "collapsed": false,
    "pycharm": {
     "name": "#%% md\n"
    }
   }
  },
  {
   "cell_type": "markdown",
   "source": [
    "# 1- libraries"
   ],
   "metadata": {
    "collapsed": false,
    "pycharm": {
     "name": "#%% md\n"
    }
   }
  },
  {
   "cell_type": "code",
   "execution_count": 3,
   "outputs": [],
   "source": [
    "import dill\n",
    "import pandas as pd\n",
    "import numpy as np\n",
    "import matplotlib.pyplot as plt\n",
    "import seaborn as sns\n",
    "sns.set_theme(style=\"darkgrid\")\n",
    "\n",
    "from sklearn.metrics import roc_auc_score, average_precision_score, f1_score, balanced_accuracy_score\n",
    "\n",
    "from time import time\n",
    "\n",
    "from IPython.display import Image\n",
    "import warnings\n",
    "import imblearn"
   ],
   "metadata": {
    "collapsed": false,
    "pycharm": {
     "name": "#%%\n"
    }
   }
  },
  {
   "cell_type": "markdown",
   "source": [
    "# 2- Data Preparation"
   ],
   "metadata": {
    "collapsed": false,
    "pycharm": {
     "name": "#%% md\n"
    }
   }
  },
  {
   "cell_type": "code",
   "execution_count": 184,
   "outputs": [],
   "source": [
    "data = pd.read_csv('creditcard.csv')"
   ],
   "metadata": {
    "collapsed": false,
    "pycharm": {
     "name": "#%%\n"
    }
   }
  },
  {
   "cell_type": "code",
   "execution_count": 185,
   "outputs": [
    {
     "data": {
      "text/plain": "(284807, 31)"
     },
     "execution_count": 185,
     "metadata": {},
     "output_type": "execute_result"
    }
   ],
   "source": [
    "data.shape"
   ],
   "metadata": {
    "collapsed": false,
    "pycharm": {
     "name": "#%%\n"
    }
   }
  },
  {
   "cell_type": "code",
   "execution_count": 186,
   "outputs": [
    {
     "data": {
      "text/plain": "   Time        V1        V2        V3        V4        V5        V6        V7  \\\n0   0.0 -1.359807 -0.072781  2.536347  1.378155 -0.338321  0.462388  0.239599   \n1   0.0  1.191857  0.266151  0.166480  0.448154  0.060018 -0.082361 -0.078803   \n2   1.0 -1.358354 -1.340163  1.773209  0.379780 -0.503198  1.800499  0.791461   \n3   1.0 -0.966272 -0.185226  1.792993 -0.863291 -0.010309  1.247203  0.237609   \n4   2.0 -1.158233  0.877737  1.548718  0.403034 -0.407193  0.095921  0.592941   \n\n         V8        V9  ...       V21       V22       V23       V24       V25  \\\n0  0.098698  0.363787  ... -0.018307  0.277838 -0.110474  0.066928  0.128539   \n1  0.085102 -0.255425  ... -0.225775 -0.638672  0.101288 -0.339846  0.167170   \n2  0.247676 -1.514654  ...  0.247998  0.771679  0.909412 -0.689281 -0.327642   \n3  0.377436 -1.387024  ... -0.108300  0.005274 -0.190321 -1.175575  0.647376   \n4 -0.270533  0.817739  ... -0.009431  0.798278 -0.137458  0.141267 -0.206010   \n\n        V26       V27       V28  Amount  Class  \n0 -0.189115  0.133558 -0.021053  149.62      0  \n1  0.125895 -0.008983  0.014724    2.69      0  \n2 -0.139097 -0.055353 -0.059752  378.66      0  \n3 -0.221929  0.062723  0.061458  123.50      0  \n4  0.502292  0.219422  0.215153   69.99      0  \n\n[5 rows x 31 columns]",
      "text/html": "<div>\n<style scoped>\n    .dataframe tbody tr th:only-of-type {\n        vertical-align: middle;\n    }\n\n    .dataframe tbody tr th {\n        vertical-align: top;\n    }\n\n    .dataframe thead th {\n        text-align: right;\n    }\n</style>\n<table border=\"1\" class=\"dataframe\">\n  <thead>\n    <tr style=\"text-align: right;\">\n      <th></th>\n      <th>Time</th>\n      <th>V1</th>\n      <th>V2</th>\n      <th>V3</th>\n      <th>V4</th>\n      <th>V5</th>\n      <th>V6</th>\n      <th>V7</th>\n      <th>V8</th>\n      <th>V9</th>\n      <th>...</th>\n      <th>V21</th>\n      <th>V22</th>\n      <th>V23</th>\n      <th>V24</th>\n      <th>V25</th>\n      <th>V26</th>\n      <th>V27</th>\n      <th>V28</th>\n      <th>Amount</th>\n      <th>Class</th>\n    </tr>\n  </thead>\n  <tbody>\n    <tr>\n      <th>0</th>\n      <td>0.0</td>\n      <td>-1.359807</td>\n      <td>-0.072781</td>\n      <td>2.536347</td>\n      <td>1.378155</td>\n      <td>-0.338321</td>\n      <td>0.462388</td>\n      <td>0.239599</td>\n      <td>0.098698</td>\n      <td>0.363787</td>\n      <td>...</td>\n      <td>-0.018307</td>\n      <td>0.277838</td>\n      <td>-0.110474</td>\n      <td>0.066928</td>\n      <td>0.128539</td>\n      <td>-0.189115</td>\n      <td>0.133558</td>\n      <td>-0.021053</td>\n      <td>149.62</td>\n      <td>0</td>\n    </tr>\n    <tr>\n      <th>1</th>\n      <td>0.0</td>\n      <td>1.191857</td>\n      <td>0.266151</td>\n      <td>0.166480</td>\n      <td>0.448154</td>\n      <td>0.060018</td>\n      <td>-0.082361</td>\n      <td>-0.078803</td>\n      <td>0.085102</td>\n      <td>-0.255425</td>\n      <td>...</td>\n      <td>-0.225775</td>\n      <td>-0.638672</td>\n      <td>0.101288</td>\n      <td>-0.339846</td>\n      <td>0.167170</td>\n      <td>0.125895</td>\n      <td>-0.008983</td>\n      <td>0.014724</td>\n      <td>2.69</td>\n      <td>0</td>\n    </tr>\n    <tr>\n      <th>2</th>\n      <td>1.0</td>\n      <td>-1.358354</td>\n      <td>-1.340163</td>\n      <td>1.773209</td>\n      <td>0.379780</td>\n      <td>-0.503198</td>\n      <td>1.800499</td>\n      <td>0.791461</td>\n      <td>0.247676</td>\n      <td>-1.514654</td>\n      <td>...</td>\n      <td>0.247998</td>\n      <td>0.771679</td>\n      <td>0.909412</td>\n      <td>-0.689281</td>\n      <td>-0.327642</td>\n      <td>-0.139097</td>\n      <td>-0.055353</td>\n      <td>-0.059752</td>\n      <td>378.66</td>\n      <td>0</td>\n    </tr>\n    <tr>\n      <th>3</th>\n      <td>1.0</td>\n      <td>-0.966272</td>\n      <td>-0.185226</td>\n      <td>1.792993</td>\n      <td>-0.863291</td>\n      <td>-0.010309</td>\n      <td>1.247203</td>\n      <td>0.237609</td>\n      <td>0.377436</td>\n      <td>-1.387024</td>\n      <td>...</td>\n      <td>-0.108300</td>\n      <td>0.005274</td>\n      <td>-0.190321</td>\n      <td>-1.175575</td>\n      <td>0.647376</td>\n      <td>-0.221929</td>\n      <td>0.062723</td>\n      <td>0.061458</td>\n      <td>123.50</td>\n      <td>0</td>\n    </tr>\n    <tr>\n      <th>4</th>\n      <td>2.0</td>\n      <td>-1.158233</td>\n      <td>0.877737</td>\n      <td>1.548718</td>\n      <td>0.403034</td>\n      <td>-0.407193</td>\n      <td>0.095921</td>\n      <td>0.592941</td>\n      <td>-0.270533</td>\n      <td>0.817739</td>\n      <td>...</td>\n      <td>-0.009431</td>\n      <td>0.798278</td>\n      <td>-0.137458</td>\n      <td>0.141267</td>\n      <td>-0.206010</td>\n      <td>0.502292</td>\n      <td>0.219422</td>\n      <td>0.215153</td>\n      <td>69.99</td>\n      <td>0</td>\n    </tr>\n  </tbody>\n</table>\n<p>5 rows × 31 columns</p>\n</div>"
     },
     "execution_count": 186,
     "metadata": {},
     "output_type": "execute_result"
    }
   ],
   "source": [
    "data.head()"
   ],
   "metadata": {
    "collapsed": false,
    "pycharm": {
     "name": "#%%\n"
    }
   }
  },
  {
   "cell_type": "code",
   "execution_count": 187,
   "outputs": [
    {
     "data": {
      "text/plain": "0"
     },
     "execution_count": 187,
     "metadata": {},
     "output_type": "execute_result"
    }
   ],
   "source": [
    "data.isna().sum().sum()"
   ],
   "metadata": {
    "collapsed": false,
    "pycharm": {
     "name": "#%%\n"
    }
   }
  },
  {
   "cell_type": "markdown",
   "source": [
    "Fraud detection in a real world scenario a time dependent problem and the correct way to split a train and test set would be to order them in that manner. However since we only have 2 days worth of data, I have to simple startified train test split."
   ],
   "metadata": {
    "collapsed": false,
    "pycharm": {
     "name": "#%% md\n"
    }
   }
  },
  {
   "cell_type": "code",
   "execution_count": 188,
   "outputs": [],
   "source": [
    "from sklearn.model_selection import train_test_split\n",
    "X_train, X_test, y_train, y_test= train_test_split(data.drop('Class',axis=1), data[['Class']],\n",
    "                                                   stratify=data['Class'],\n",
    "                                                   test_size=0.2, random_state=42)"
   ],
   "metadata": {
    "collapsed": false,
    "pycharm": {
     "name": "#%%\n"
    }
   }
  },
  {
   "cell_type": "code",
   "execution_count": 189,
   "outputs": [],
   "source": [
    "from sklearn.model_selection import train_test_split\n",
    "X_train, X_val, y_train, y_val= train_test_split(X_train, y_train,\n",
    "                                                   stratify=y_train,\n",
    "                                                   test_size=0.2, random_state=42)"
   ],
   "metadata": {
    "collapsed": false,
    "pycharm": {
     "name": "#%%\n"
    }
   }
  },
  {
   "cell_type": "code",
   "execution_count": 190,
   "outputs": [
    {
     "data": {
      "text/plain": "((182276, 30), (182276, 1), (45569, 30), (45569, 1), (56962, 30), (56962, 1))"
     },
     "execution_count": 190,
     "metadata": {},
     "output_type": "execute_result"
    }
   ],
   "source": [
    "X_train.shape, y_train.shape, X_val.shape, y_val.shape, X_test.shape, y_test.shape"
   ],
   "metadata": {
    "collapsed": false,
    "pycharm": {
     "name": "#%%\n"
    }
   }
  },
  {
   "cell_type": "markdown",
   "source": [
    "# 3- Explanatory Data Analysis"
   ],
   "metadata": {
    "collapsed": false,
    "pycharm": {
     "name": "#%% md\n"
    }
   }
  },
  {
   "cell_type": "markdown",
   "source": [
    "## 3.1- Time"
   ],
   "metadata": {
    "collapsed": false,
    "pycharm": {
     "name": "#%% md\n"
    }
   }
  },
  {
   "cell_type": "markdown",
   "source": [
    "Time is the number of seconds since the first transaction has been recorded in dataset."
   ],
   "metadata": {
    "collapsed": false,
    "pycharm": {
     "name": "#%% md\n"
    }
   }
  },
  {
   "cell_type": "code",
   "execution_count": 19,
   "outputs": [
    {
     "name": "stdout",
     "output_type": "stream",
     "text": [
      "Time min is 0.0\n",
      "Time max is 172788.0\n",
      "The number of days in the data is 1.99986\n",
      "About 50.76 % od transacations are in the first day.\n"
     ]
    }
   ],
   "source": [
    "print('Time min is', X_train['Time'].min())\n",
    "print('Time max is', X_train['Time'].max())\n",
    "print('The number of days in the data is', round(X_train['Time'].max() / (3600*24),5))\n",
    "print('About', round(X_train[X_train['Time']<3600*24].shape[0]/X_train.shape[0] * 100,2) ,'% od transacations are in the first day.')"
   ],
   "metadata": {
    "collapsed": false,
    "pycharm": {
     "name": "#%%\n"
    }
   }
  },
  {
   "cell_type": "markdown",
   "source": [
    "The time span of data is 2 days, I am going to add the feature Hour, using time devided by number of seconds in an hour."
   ],
   "metadata": {
    "collapsed": false,
    "pycharm": {
     "name": "#%% md\n"
    }
   }
  },
  {
   "cell_type": "code",
   "execution_count": 193,
   "outputs": [],
   "source": [
    "X_train['Hour'] = X_train['Time'] // 3600\n",
    "X_test['Hour'] = X_test['Time'] // 3600\n",
    "X_val['Hour'] = X_val['Time'] // 3600"
   ],
   "metadata": {
    "collapsed": false,
    "pycharm": {
     "name": "#%%\n"
    }
   }
  },
  {
   "cell_type": "code",
   "execution_count": 194,
   "outputs": [
    {
     "data": {
      "text/plain": "<Figure size 1728x648 with 1 Axes>",
      "image/png": "[encoded data removed]"
     },
     "metadata": {
      "needs_background": "light"
     },
     "output_type": "display_data"
    }
   ],
   "source": [
    "#histogram of number of trasnaction by time\n",
    "plt.rcParams['figure.figsize'] = [24, 9]\n",
    "sns.histplot(x='Hour', kde=True, data=X_train, bins = 48)\n",
    "# Adding vertical lines\n",
    "#first morning\n",
    "plt.axvline(x = 8, linewidth = 4, color ='Orange', linestyle =\"--\")\n",
    "#first night\n",
    "plt.axvline(x = 8+15, linewidth = 4, color ='Green', linestyle =\"--\")\n",
    "#Second morning\n",
    "plt.axvline(x = 8+24, linewidth = 4, color ='Orange', linestyle =\"--\")\n",
    "#second night\n",
    "plt.axvline(x = 8+24+15, linewidth = 4, color ='Green', linestyle =\"--\")\n",
    "plt.xlabel('Hour', fontsize=18)\n",
    "plt.ylabel('Count', fontsize=16)\n",
    "plt.title('Number of Transaction by Hour',fontsize=20)\n",
    "plt.show();"
   ],
   "metadata": {
    "collapsed": false,
    "pycharm": {
     "name": "#%%\n"
    }
   }
  },
  {
   "cell_type": "markdown",
   "source": [
    "From the above we see that the number of transaction at each hour has a bimodal graph.\n",
    "One would expect the number of transactions would start to increas at a certain hour in the morning and then decrease at  night. However it seems that days are quite long at europe and to find the night time it is a bit more difficult.\n",
    "Since the data is masked, it is more of a guess but my bet would be that the transactions are starting at 0:00 in te morning and they end at 24:00 in the second day.\n",
    "I am going to add another feature for time of day and am going to loosley call it midnight. It probably would be more useful for data sets with more days, but we can see how it will help with fradulant behavior detection."
   ],
   "metadata": {
    "collapsed": false,
    "pycharm": {
     "name": "#%% md\n"
    }
   }
  },
  {
   "cell_type": "code",
   "execution_count": 195,
   "outputs": [],
   "source": [
    "#midnight function\n",
    "def midnight(x):\n",
    "    if x < 8:\n",
    "        return 1\n",
    "    elif x < 24:\n",
    "        return 0\n",
    "    elif x < 24+8:\n",
    "        return 1\n",
    "    else:\n",
    "        return 0"
   ],
   "metadata": {
    "collapsed": false,
    "pycharm": {
     "name": "#%%\n"
    }
   }
  },
  {
   "cell_type": "code",
   "execution_count": 196,
   "outputs": [],
   "source": [
    "X_train['Midnight'] = X_train['Hour'].apply(midnight)\n",
    "X_test['Midnight'] = X_test['Hour'].apply(midnight)\n",
    "X_val['Midnight'] = X_val['Hour'].apply(midnight)"
   ],
   "metadata": {
    "collapsed": false,
    "pycharm": {
     "name": "#%%\n"
    }
   }
  },
  {
   "cell_type": "markdown",
   "source": [
    "Now we take a look at number of fradulant activities by time of day."
   ],
   "metadata": {
    "collapsed": false,
    "pycharm": {
     "name": "#%% md\n"
    }
   }
  },
  {
   "cell_type": "code",
   "execution_count": 197,
   "outputs": [
    {
     "data": {
      "text/plain": "<Figure size 1728x648 with 1 Axes>",
      "image/png": "[encoded data removed]"
     },
     "metadata": {
      "needs_background": "light"
     },
     "output_type": "display_data"
    }
   ],
   "source": [
    "#histogram of number of trasnaction by time\n",
    "plt.rcParams['figure.figsize'] = [24, 9]\n",
    "sns.histplot(x='Hour', kde=True, data=X_train[y_train['Class']==1], bins = 48)\n",
    "# Adding vertical lines\n",
    "#first morning\n",
    "plt.axvline(x = 8, linewidth = 4, color ='Orange', linestyle =\"--\")\n",
    "#first night\n",
    "plt.axvline(x = 8+15, linewidth = 4, color ='Green', linestyle =\"--\")\n",
    "#Second morning\n",
    "plt.axvline(x = 8+24, linewidth = 4, color ='Orange', linestyle =\"--\")\n",
    "#second night\n",
    "plt.axvline(x = 8+24+15, linewidth = 4, color ='Green', linestyle =\"--\")\n",
    "plt.xlabel('Hour', fontsize=18)\n",
    "plt.ylabel('Count', fontsize=16)\n",
    "plt.title('Number of Fraud by Hour',fontsize=20)\n",
    "plt.show();"
   ],
   "metadata": {
    "collapsed": false,
    "pycharm": {
     "name": "#%%\n"
    }
   }
  },
  {
   "cell_type": "markdown",
   "source": [
    "We see two peaks in the number of frauds detected, however the time period is too short to try to assume any pattern."
   ],
   "metadata": {
    "collapsed": false,
    "pycharm": {
     "name": "#%% md\n"
    }
   }
  },
  {
   "cell_type": "code",
   "execution_count": 26,
   "outputs": [],
   "source": [
    "temp = pd.merge(X_train,y_train, left_index=True, right_index=True)\n",
    "temp = temp.groupby(\"Hour\")['Class'].sum() / temp.groupby(\"Hour\")['Time'].count()"
   ],
   "metadata": {
    "collapsed": false,
    "pycharm": {
     "name": "#%%\n"
    }
   }
  },
  {
   "cell_type": "code",
   "execution_count": 27,
   "outputs": [
    {
     "data": {
      "text/plain": "<Figure size 1728x648 with 1 Axes>",
      "image/png": "[encoded data removed]"
     },
     "metadata": {
      "needs_background": "light"
     },
     "output_type": "display_data"
    }
   ],
   "source": [
    "#histogram of number of trasnaction by time\n",
    "plt.rcParams['figure.figsize'] = [24, 9]\n",
    "#sns.histplot(x='Hour', kde=True, data=temp[temp['Class']<.5]['Class'], bins = 48)\n",
    "temp.plot()\n",
    "# Adding vertical lines\n",
    "#first morning\n",
    "plt.axvline(x = 8, linewidth = 4, color ='Orange', linestyle =\"--\")\n",
    "#first night\n",
    "plt.axvline(x = 8+15, linewidth = 4, color ='Green', linestyle =\"--\")\n",
    "#Second morning\n",
    "plt.axvline(x = 8+24, linewidth = 4, color ='Orange', linestyle =\"--\")\n",
    "#second night\n",
    "plt.axvline(x = 8+24+15, linewidth = 4, color ='Green', linestyle =\"--\")\n",
    "plt.xlabel('Hour', fontsize=18)\n",
    "plt.ylabel('Ratio', fontsize=16)\n",
    "plt.title('Ratio of Fraud to Total transactions by Hour',fontsize=20)\n",
    "plt.show();"
   ],
   "metadata": {
    "collapsed": false,
    "pycharm": {
     "name": "#%%\n"
    }
   }
  },
  {
   "cell_type": "markdown",
   "source": [
    "## 3.2- Amount"
   ],
   "metadata": {
    "collapsed": false,
    "pycharm": {
     "name": "#%% md\n"
    }
   }
  },
  {
   "cell_type": "markdown",
   "source": [
    "As excpected transaction amount data is highly skewed."
   ],
   "metadata": {
    "collapsed": false,
    "pycharm": {
     "name": "#%% md\n"
    }
   }
  },
  {
   "cell_type": "code",
   "execution_count": 28,
   "outputs": [
    {
     "name": "stdout",
     "output_type": "stream",
     "text": [
      "Amount min is 0.0\n",
      "Amount max is 19656.53\n",
      "Amount mean is 87.97016\n",
      "Amount median is 22.0\n",
      "About 0.23 % of transactions have a value above mean.\n"
     ]
    }
   ],
   "source": [
    "print('Amount min is', X_train['Amount'].min())\n",
    "print('Amount max is', X_train['Amount'].max())\n",
    "print('Amount mean is', round(X_train['Amount'].mean(), 5))\n",
    "print('Amount median is', round(X_train['Amount'].median(), 2))\n",
    "print('About',  round(1 -X_train[X_train['Amount'] < X_train['Amount'].mean()]['Amount'].count() / X_train['Amount'].count(), 2),'% of transactions have a value above mean.')"
   ],
   "metadata": {
    "collapsed": false,
    "pycharm": {
     "name": "#%%\n"
    }
   }
  },
  {
   "cell_type": "code",
   "execution_count": 29,
   "outputs": [
    {
     "data": {
      "text/plain": "<Figure size 576x360 with 1 Axes>",
      "image/png": "[encoded data removed]"
     },
     "metadata": {
      "needs_background": "light"
     },
     "output_type": "display_data"
    }
   ],
   "source": [
    "#histogram of number of trasnaction by time\n",
    "plt.rcParams['figure.figsize'] = [8, 5]\n",
    "sns.histplot(x='Amount', kde=True, data=X_train, bins = 50)\n",
    "plt.xlabel('Frequency', fontsize=18)\n",
    "plt.ylabel('Count', fontsize=16)\n",
    "plt.title('Transaction Amount Distribution',fontsize=20)\n",
    "plt.show();"
   ],
   "metadata": {
    "collapsed": false,
    "pycharm": {
     "name": "#%%\n"
    }
   }
  },
  {
   "cell_type": "markdown",
   "source": [
    "As we can see the transaction amount is highly skewed, we limit the X axis."
   ],
   "metadata": {
    "collapsed": false,
    "pycharm": {
     "name": "#%% md\n"
    }
   }
  },
  {
   "cell_type": "code",
   "execution_count": 30,
   "outputs": [
    {
     "data": {
      "text/plain": "<Figure size 576x360 with 1 Axes>",
      "image/png": "[encoded data removed]"
     },
     "metadata": {
      "needs_background": "light"
     },
     "output_type": "display_data"
    }
   ],
   "source": [
    "#histogram of number of trasnaction by time\n",
    "plt.rcParams['figure.figsize'] = [8, 5]\n",
    "sns.histplot(x='Amount', kde=True, data=X_train[X_train['Amount']<100], bins = 50)\n",
    "plt.xlabel('Frequency', fontsize=18)\n",
    "plt.ylabel('Count', fontsize=16)\n",
    "plt.title('Transaction Amount Distribution, Amount under 100',fontsize=20)\n",
    "plt.show();"
   ],
   "metadata": {
    "collapsed": false,
    "pycharm": {
     "name": "#%%\n"
    }
   }
  },
  {
   "cell_type": "markdown",
   "source": [
    "Now we limit the value of transactions even more."
   ],
   "metadata": {
    "collapsed": false,
    "pycharm": {
     "name": "#%% md\n"
    }
   }
  },
  {
   "cell_type": "code",
   "execution_count": 31,
   "outputs": [
    {
     "data": {
      "text/plain": "<Figure size 576x360 with 1 Axes>",
      "image/png": "[encoded data removed]"
     },
     "metadata": {
      "needs_background": "light"
     },
     "output_type": "display_data"
    }
   ],
   "source": [
    "#histogram of number of trasnaction by time\n",
    "plt.rcParams['figure.figsize'] = [8, 5]\n",
    "sns.histplot(x='Amount', kde=True, data=X_train[X_train['Amount']<100], bins = 48)\n",
    "plt.title('Transaction Amount');"
   ],
   "metadata": {
    "collapsed": false,
    "pycharm": {
     "name": "#%%\n"
    }
   }
  },
  {
   "cell_type": "code",
   "execution_count": 32,
   "outputs": [
    {
     "data": {
      "text/plain": "<Figure size 576x360 with 1 Axes>",
      "image/png": "[encoded data removed]"
     },
     "metadata": {
      "needs_background": "light"
     },
     "output_type": "display_data"
    }
   ],
   "source": [
    "#histogram of number of trasnaction by time\n",
    "plt.rcParams['figure.figsize'] = [8, 5]\n",
    "sns.histplot(x=X_train.iloc[:,-1], kde=True, data=X_train[X_train.iloc[:,-1]<.0001], bins = 48)\n",
    "plt.title('Transaction Amount');"
   ],
   "metadata": {
    "collapsed": false,
    "pycharm": {
     "name": "#%%\n"
    }
   }
  },
  {
   "cell_type": "code",
   "execution_count": 33,
   "outputs": [],
   "source": [
    "X_train = pd.DataFrame(X_train)"
   ],
   "metadata": {
    "collapsed": false,
    "pycharm": {
     "name": "#%%\n"
    }
   }
  },
  {
   "cell_type": "code",
   "execution_count": 34,
   "outputs": [
    {
     "data": {
      "text/plain": "Index(['Time', 'V1', 'V2', 'V3', 'V4', 'V5', 'V6', 'V7', 'V8', 'V9', 'V10',\n       'V11', 'V12', 'V13', 'V14', 'V15', 'V16', 'V17', 'V18', 'V19', 'V20',\n       'V21', 'V22', 'V23', 'V24', 'V25', 'V26', 'V27', 'V28', 'Amount'],\n      dtype='object')"
     },
     "execution_count": 34,
     "metadata": {},
     "output_type": "execute_result"
    }
   ],
   "source": [
    "data.columns[:-1]"
   ],
   "metadata": {
    "collapsed": false,
    "pycharm": {
     "name": "#%%\n"
    }
   }
  },
  {
   "cell_type": "code",
   "execution_count": 35,
   "outputs": [],
   "source": [
    "Amount_cum = []\n",
    "j = 30\n",
    "t = 15\n",
    "for i in range(30,t*j,j):\n",
    "    Amount_cum.append(X_train[(X_train['Amount']>=i-j) &(X_train['Amount']<i)]['Amount'].sum())"
   ],
   "metadata": {
    "collapsed": false,
    "pycharm": {
     "name": "#%%\n"
    }
   }
  },
  {
   "cell_type": "code",
   "execution_count": 37,
   "outputs": [
    {
     "data": {
      "text/plain": "<Figure size 576x360 with 1 Axes>",
      "image/png": "[encoded data removed]"
     },
     "metadata": {
      "needs_background": "light"
     },
     "output_type": "display_data"
    }
   ],
   "source": [
    "#histogram of number of trasnaction by time\n",
    "plt.rcParams['figure.figsize'] = [8, 5]\n",
    "sns.lineplot(x=range(1,t,1),  y=Amount_cum)\n",
    "x_ticks_list = [\"{:02d}\".format(x) for x in range(30,t*j,j)]\n",
    "#x_ticks_list.append('+450')\n",
    "plt.xticks(np.arange(1,t,1),x_ticks_list)\n",
    "plt.xlabel('30 Unit Steps', fontsize=14)\n",
    "plt.ylabel('Total Value', fontsize=14)\n",
    "plt.title('Total Transaction Amount by 30 Unit Steps \\n above 450 is not included', fontsize=20);"
   ],
   "metadata": {
    "collapsed": false,
    "pycharm": {
     "name": "#%%\n"
    }
   }
  },
  {
   "cell_type": "markdown",
   "source": [
    "The trimmed part of distribution looks like Khai Square. However, the majority of value is at the higher end, which is not depicted here, but the graph holds."
   ],
   "metadata": {
    "collapsed": false,
    "pycharm": {
     "name": "#%% md\n"
    }
   }
  },
  {
   "cell_type": "markdown",
   "source": [
    "## 3.3 - Class 1 (Fraudulent)"
   ],
   "metadata": {
    "collapsed": false,
    "pycharm": {
     "name": "#%% md\n"
    }
   }
  },
  {
   "cell_type": "markdown",
   "source": [
    "Now we take a look at Fraudulent transactions amount."
   ],
   "metadata": {
    "collapsed": false,
    "pycharm": {
     "name": "#%% md\n"
    }
   }
  },
  {
   "cell_type": "code",
   "execution_count": 38,
   "outputs": [],
   "source": [
    "X_train = pd.merge(X_train,y_train,right_index=True,left_index=True)"
   ],
   "metadata": {
    "collapsed": false,
    "pycharm": {
     "name": "#%%\n"
    }
   }
  },
  {
   "cell_type": "code",
   "execution_count": 39,
   "outputs": [
    {
     "name": "stdout",
     "output_type": "stream",
     "text": [
      "Amount min is 0.0\n",
      "Amount max is 2125.87\n",
      "Amount mean is 130.93581\n",
      "Amount median is 8.3\n",
      "Ratio of number of frauelent transactions is % 0.17281\n"
     ]
    }
   ],
   "source": [
    "print('Amount min is', X_train[X_train['Class']==1]['Amount'].min())\n",
    "print('Amount max is', X_train[X_train['Class']==1]['Amount'].max())\n",
    "print('Amount mean is', round(X_train[X_train['Class']==1]['Amount'].mean(), 5))\n",
    "print('Amount median is', round(X_train[X_train['Class']==1]['Amount'].median(), 2))\n",
    "print('Ratio of number of frauelent transactions is %', round(X_train[X_train['Class']==1]['Class'].sum()/ X_train.shape[0]*100,5))"
   ],
   "metadata": {
    "collapsed": false,
    "pycharm": {
     "name": "#%%\n"
    }
   }
  },
  {
   "cell_type": "markdown",
   "source": [
    "The fraudulent transactions have values lower than legitimate transaction values."
   ],
   "metadata": {
    "collapsed": false,
    "pycharm": {
     "name": "#%% md\n"
    }
   }
  },
  {
   "cell_type": "code",
   "execution_count": 40,
   "outputs": [
    {
     "data": {
      "text/plain": "<Figure size 576x360 with 1 Axes>",
      "image/png": "[encoded data removed]"
     },
     "metadata": {
      "needs_background": "light"
     },
     "output_type": "display_data"
    }
   ],
   "source": [
    "#histogram of number of trasnaction by time\n",
    "plt.rcParams['figure.figsize'] = [8, 5]\n",
    "sns.histplot(x='Amount', kde=True, data=X_train[X_train['Class']==1], bins = 50)\n",
    "plt.xlabel('Frequency', fontsize=18)\n",
    "plt.ylabel('Count', fontsize=16)\n",
    "plt.title('Fraudulent Transaction Amount Distribution',fontsize=20)\n",
    "plt.show();"
   ],
   "metadata": {
    "collapsed": false,
    "pycharm": {
     "name": "#%%\n"
    }
   }
  },
  {
   "cell_type": "code",
   "execution_count": 41,
   "outputs": [
    {
     "data": {
      "text/plain": "<Figure size 576x360 with 1 Axes>",
      "image/png": "[encoded data removed]"
     },
     "metadata": {
      "needs_background": "light"
     },
     "output_type": "display_data"
    }
   ],
   "source": [
    "#histogram of number of trasnaction by time\n",
    "plt.rcParams['figure.figsize'] = [8, 5]\n",
    "sns.histplot(x='Amount', kde=True, data= X_train[(X_train['Class']==1)&(X_train['Amount']<100)], bins = 50)\n",
    "plt.xlabel('Frequency', fontsize=18)\n",
    "plt.ylabel('Count', fontsize=16)\n",
    "plt.title('Fraudulent Transaction Amount Distribution, Amount Under 100',fontsize=20)\n",
    "plt.show();"
   ],
   "metadata": {
    "collapsed": false,
    "pycharm": {
     "name": "#%%\n"
    }
   }
  },
  {
   "cell_type": "code",
   "execution_count": 42,
   "outputs": [],
   "source": [
    "Amount_cum = []\n",
    "j = 30\n",
    "t = 15\n",
    "for i in range(30,t*j,j):\n",
    "    Amount_cum.append(X_train[(X_train['Class']==1)&(X_train['Amount']>=i-j) &(X_train['Amount']<i)]['Amount'].sum())"
   ],
   "metadata": {
    "collapsed": false,
    "pycharm": {
     "name": "#%%\n"
    }
   }
  },
  {
   "cell_type": "code",
   "execution_count": 44,
   "outputs": [
    {
     "data": {
      "text/plain": "<Figure size 576x360 with 1 Axes>",
      "image/png": "[encoded data removed]"
     },
     "metadata": {
      "needs_background": "light"
     },
     "output_type": "display_data"
    }
   ],
   "source": [
    "#histogram of number of trasnaction by time\n",
    "plt.rcParams['figure.figsize'] = [8, 5]\n",
    "sns.lineplot(x=range(1,t,1),  y=Amount_cum)\n",
    "x_ticks_list = [\"{:02d}\".format(x) for x in range(30,t*j,j)]\n",
    "#x_ticks_list.append('+450')\n",
    "plt.xticks(np.arange(1,t,1),x_ticks_list)\n",
    "plt.xlabel('30 Unit Steps ', fontsize=14)\n",
    "plt.ylabel('Total Value', fontsize=14)\n",
    "plt.title('Total Transaction Amount by 30 Unit Steps \\n above 450 is not included', fontsize=20);"
   ],
   "metadata": {
    "collapsed": false,
    "pycharm": {
     "name": "#%%\n"
    }
   }
  },
  {
   "cell_type": "markdown",
   "source": [
    "other variables"
   ],
   "metadata": {
    "collapsed": false,
    "pycharm": {
     "name": "#%% md\n"
    }
   }
  },
  {
   "cell_type": "markdown",
   "source": [
    "## 3.4 - Heatmap"
   ],
   "metadata": {
    "collapsed": false,
    "pycharm": {
     "name": "#%% md\n"
    }
   }
  },
  {
   "cell_type": "markdown",
   "source": [
    "Setting a 0.3 threshold we see that the data which has been transformed with PCA, does not have that many correlated columns."
   ],
   "metadata": {
    "collapsed": false,
    "pycharm": {
     "name": "#%% md\n"
    }
   }
  },
  {
   "cell_type": "code",
   "execution_count": 45,
   "outputs": [
    {
     "data": {
      "text/plain": "<Figure size 576x360 with 2 Axes>",
      "image/png": "[encoded data removed]"
     },
     "metadata": {
      "needs_background": "light"
     },
     "output_type": "display_data"
    }
   ],
   "source": [
    "sns.heatmap(X_train.corr()[X_train.corr().abs()>.3]);"
   ],
   "metadata": {
    "collapsed": false,
    "pycharm": {
     "name": "#%%\n"
    }
   }
  },
  {
   "cell_type": "code",
   "execution_count": 46,
   "outputs": [],
   "source": [
    "X_train = X_train.drop('Class',axis=1)"
   ],
   "metadata": {
    "collapsed": false,
    "pycharm": {
     "name": "#%%\n"
    }
   }
  },
  {
   "cell_type": "code",
   "execution_count": 47,
   "outputs": [],
   "source": [
    "col_names = X_train.columns"
   ],
   "metadata": {
    "collapsed": false,
    "pycharm": {
     "name": "#%%\n"
    }
   }
  },
  {
   "cell_type": "code",
   "execution_count": 48,
   "outputs": [],
   "source": [
    "dill.dump(X_train, open('X_train.p', \"wb\"))\n",
    "dill.dump(X_test, open('X_test.p', \"wb\"))\n",
    "dill.dump(y_train, open('y_train.p', \"wb\"))\n",
    "dill.dump(y_test, open('y_test.p', \"wb\"))\n",
    "dill.dump(col_names,open('col_names.p','wb'))"
   ],
   "metadata": {
    "collapsed": false,
    "pycharm": {
     "name": "#%%\n"
    }
   }
  },
  {
   "cell_type": "code",
   "execution_count": 5,
   "outputs": [],
   "source": [
    "X_train = dill.load(open(\"X_train.p\", \"rb\"))\n",
    "X_test = dill.load(open(\"X_test.p\", \"rb\"))\n",
    "y_train = dill.load(open(\"y_train.p\", \"rb\"))\n",
    "y_test = dill.load(open(\"y_test.p\", \"rb\"))\n",
    "col_names = dill.load(open('col_names.p', \"rb\"))"
   ],
   "metadata": {
    "collapsed": false,
    "pycharm": {
     "name": "#%%\n"
    }
   }
  },
  {
   "cell_type": "markdown",
   "source": [
    "# 4- Data Preprocessing"
   ],
   "metadata": {
    "collapsed": false,
    "pycharm": {
     "name": "#%% md\n"
    }
   }
  },
  {
   "cell_type": "markdown",
   "source": [
    "## 4.1- Feature Engineering"
   ],
   "metadata": {
    "collapsed": false,
    "pycharm": {
     "name": "#%% md\n"
    }
   }
  },
  {
   "cell_type": "markdown",
   "source": [
    "### autofeat library"
   ],
   "metadata": {
    "collapsed": false,
    "pycharm": {
     "name": "#%% md\n"
    }
   }
  },
  {
   "cell_type": "markdown",
   "source": [
    "The process should actually has been done after data scale transformation, however since I found that non transformed data has the best performance, i moved the auto feature engineering part to an earlier stage, in the hope that if succseful, I would use it as the prior for transformation methods.\n",
    "\n",
    "Although it was not expected, but it seems that the imbalance lead to poor results and it would be better if we would use these methods after data balance. However, the processing demand makes it not that probable and I leave the code just to show that I tempered with the idea."
   ],
   "metadata": {
    "collapsed": false,
    "pycharm": {
     "name": "#%% md\n"
    }
   }
  },
  {
   "cell_type": "markdown",
   "source": [
    "%%time\n",
    "from autofeat import AutoFeatClassifier\n",
    "auto_feat = AutoFeatClassifier(feateng_steps = 2 , n_jobs = -1)\n",
    "train_eng = auto_feat.fit_transform(X_train.loc[:,['V17', 'V14', 'V10', 'V4', 'V7']] , y_train)"
   ],
   "metadata": {
    "collapsed": false,
    "pycharm": {
     "name": "#%% md\n"
    }
   }
  },
  {
   "cell_type": "markdown",
   "source": [
    "dill.dump(auto_feat, open('auto_feat.pkl', 'wb'))\n",
    "dill.dump(train_eng, open('train_eng.pkl', 'wb'))"
   ],
   "metadata": {
    "collapsed": false,
    "pycharm": {
     "name": "#%% md\n"
    }
   }
  },
  {
   "cell_type": "markdown",
   "source": [
    "#### the main columns are removed s only new ones be attached\n",
    "train_eng.set_index(X_train.index, inplace=True)\n",
    "train_eng.drop(['V17', 'V14', 'V10', 'V4', 'V7'], axis=1, inplace=True)"
   ],
   "metadata": {
    "collapsed": false,
    "pycharm": {
     "name": "#%% md\n"
    }
   }
  },
  {
   "cell_type": "markdown",
   "source": [
    "test_eng= auto_feat.transform(X_test.loc[:,['V17', 'V14', 'V10', 'V4', 'V7']])\n",
    "test_eng.set_index(X_test.index, inplace=True)\n",
    "test_eng.drop(['V17', 'V14', 'V10', 'V4', 'V7'], axis=1, inplace=True)"
   ],
   "metadata": {
    "collapsed": false,
    "pycharm": {
     "name": "#%% md\n"
    }
   }
  },
  {
   "cell_type": "markdown",
   "source": [
    "val_eng= auto_feat.transform(X_val.loc[:,['V17', 'V14', 'V10', 'V4', 'V7']])\n",
    "val_eng.set_index(X_val.index, inplace=True)\n",
    "val_eng.drop(['V17', 'V14', 'V10', 'V4', 'V7'], axis=1, inplace=True)"
   ],
   "metadata": {
    "collapsed": false,
    "pycharm": {
     "name": "#%% md\n"
    }
   }
  },
  {
   "cell_type": "markdown",
   "source": [
    "dill.dump(train_eng, open(\"./train_eng.p\", \"wb\"))\n",
    "dill.dump(test_eng, open(\"./test_eng.p\", \"wb\"))\n",
    "dill.dump(val_eng, open(\"./val_eng.p\", \"wb\"))"
   ],
   "metadata": {
    "collapsed": false,
    "pycharm": {
     "name": "#%% md\n"
    }
   }
  },
  {
   "cell_type": "markdown",
   "source": [
    "train_eng = dill.load(open(\"./train_eng.p\", \"rb\"))\n",
    "test_eng = dill.load(open(\"./test_eng.p\", \"rb\"))\n",
    "val_eng = dill.load(open(\"./val_eng.p\", \"rb\"))"
   ],
   "metadata": {
    "collapsed": false,
    "pycharm": {
     "name": "#%% md\n"
    }
   }
  },
  {
   "cell_type": "markdown",
   "source": [
    "X_train_en = pd.concat([X_train, train_eng], axis=1)\n",
    "X_test_en = pd.concat([X_test, test_eng], axis=1)\n",
    "X_val_en = pd.concat([X_val, val_eng], axis=1)"
   ],
   "metadata": {
    "collapsed": false,
    "pycharm": {
     "name": "#%% md\n"
    }
   }
  },
  {
   "cell_type": "markdown",
   "source": [
    "dill.dump(X_train_en, open(\"./X_train_en.p\", \"wb\"))\n",
    "dill.dump(X_test_en, open(\"./X_test_en.p\", \"wb\"))\n",
    "dill.dump(X_val_en, open(\"./X_val_en.p\", \"wb\"))"
   ],
   "metadata": {
    "collapsed": false,
    "pycharm": {
     "name": "#%% md\n"
    }
   }
  },
  {
   "cell_type": "markdown",
   "source": [
    "X_train_en = dill.load(open(\"./X_train_en.p\", \"rb\"))\n",
    "X_test_en = dill.load(open(\"./X_test_en.p\", \"rb\"))\n",
    "X_val_en = dill.load(open(\"./X_val_en.p\", \"rb\"))"
   ],
   "metadata": {
    "collapsed": false,
    "pycharm": {
     "name": "#%% md\n"
    }
   }
  },
  {
   "cell_type": "markdown",
   "source": [
    "## 4.2- Data Transformation"
   ],
   "metadata": {
    "collapsed": false,
    "pycharm": {
     "name": "#%% md\n"
    }
   }
  },
  {
   "cell_type": "markdown",
   "source": [
    "As data normality is rejected strongly with statistical tests, I am going to use a variety of scaling techniques and use them as input for different predictive models. The Tree based methods are fairly robust to non normall input however even them would them benefit from outlier metigation procedures."
   ],
   "metadata": {
    "collapsed": false,
    "pycharm": {
     "name": "#%% md\n"
    }
   }
  },
  {
   "cell_type": "markdown",
   "source": [
    "### Jarque–Bera test of normality\n",
    "The values smaller than 0.05 will be considered a sign for null hypothesis rejection."
   ],
   "metadata": {
    "collapsed": false,
    "pycharm": {
     "name": "#%% md\n"
    }
   }
  },
  {
   "cell_type": "code",
   "execution_count": 51,
   "outputs": [
    {
     "name": "stdout",
     "output_type": "stream",
     "text": [
      "[0.0, 0.0, 0.0, 0.0, 0.0, 0.0, 0.0, 0.0, 0.0, 0.0, 0.0, 0.0, 0.0, 0.0, 0.0, 0.0, 0.0, 0.0, 0.0, 0.0, 0.0, 0.0, 0.0, 0.0, 0.0, 0.0, 0.0, 0.0, 0.0, 0.0, 0.0, 0.0]\n"
     ]
    }
   ],
   "source": [
    "from scipy import stats\n",
    "Jarque_Bera_pre= []\n",
    "for i in range(X_train.shape[1]):\n",
    "    Jarque_Bera_pre.append(stats.jarque_bera(X_train.iloc[:,i]).pvalue)\n",
    "print(Jarque_Bera_pre)"
   ],
   "metadata": {
    "collapsed": false,
    "pycharm": {
     "name": "#%%\n"
    }
   }
  },
  {
   "cell_type": "code",
   "execution_count": 52,
   "outputs": [
    {
     "name": "stdout",
     "output_type": "stream",
     "text": [
      "Transaction value mean any transformation: 87.97016354319821\n",
      "Transaction value any transformation: 245.57689058205864\n",
      "Transaction value skewness any transformation: 15.295298039308157\n"
     ]
    }
   ],
   "source": [
    "print('Transaction value mean any transformation:',X_train['Amount'].mean())\n",
    "print('Transaction value any transformation:',X_train['Amount'].std())\n",
    "print('Transaction value skewness any transformation:',X_train['Amount'].skew())"
   ],
   "metadata": {
    "collapsed": false,
    "pycharm": {
     "name": "#%%\n"
    }
   }
  },
  {
   "cell_type": "markdown",
   "source": [
    "### Min Max Scaler\n",
    "I just run the min max scaler which does not change the distribution of data."
   ],
   "metadata": {
    "collapsed": false,
    "pycharm": {
     "name": "#%% md\n"
    }
   }
  },
  {
   "cell_type": "code",
   "execution_count": 53,
   "outputs": [],
   "source": [
    "from sklearn.preprocessing import MinMaxScaler\n",
    "MinMax = MinMaxScaler()\n",
    "MinMax.fit(X_train)\n",
    "X_train_min_max= MinMax.transform(X_train)\n",
    "X_test_min_max= MinMax.transform(X_test)\n",
    "#X_val_min_max= MinMax.transform(X_val)\n",
    "X_train_min_max= pd.DataFrame(X_train_min_max,columns=col_names)\n",
    "X_test_min_max= pd.DataFrame(X_test_min_max,columns=col_names)"
   ],
   "metadata": {
    "collapsed": false,
    "pycharm": {
     "name": "#%%\n"
    }
   }
  },
  {
   "cell_type": "code",
   "execution_count": 54,
   "outputs": [
    {
     "name": "stdout",
     "output_type": "stream",
     "text": [
      "Transaction value mean after MinMax transformation: 0.004475365872979527\n",
      "Transaction value after MinMax transformation: 0.012493399932849727\n",
      "Transaction value skewness after MinMax transformation: 15.295298039308161\n"
     ]
    }
   ],
   "source": [
    "print('Transaction value mean after MinMax transformation:',X_train_min_max['Amount'].mean())\n",
    "print('Transaction value after MinMax transformation:',X_train_min_max['Amount'].std())\n",
    "print('Transaction value skewness after MinMax transformation:',X_train_min_max['Amount'].skew())"
   ],
   "metadata": {
    "collapsed": false,
    "pycharm": {
     "name": "#%%\n"
    }
   }
  },
  {
   "cell_type": "markdown",
   "source": [
    "### Robust Scaler"
   ],
   "metadata": {
    "collapsed": false,
    "pycharm": {
     "name": "#%% md\n"
    }
   }
  },
  {
   "cell_type": "code",
   "execution_count": 55,
   "outputs": [],
   "source": [
    "from sklearn.preprocessing import RobustScaler\n",
    "Robust = RobustScaler()\n",
    "Robust.fit(X_train)\n",
    "X_train_robust= Robust.transform(X_train)\n",
    "X_test_robust= Robust.transform(X_test)\n",
    "X_train_robust= pd.DataFrame(X_train_robust,columns=col_names)\n",
    "X_test_robust= pd.DataFrame(X_test_robust,columns=col_names)"
   ],
   "metadata": {
    "collapsed": false,
    "pycharm": {
     "name": "#%%\n"
    }
   }
  },
  {
   "cell_type": "code",
   "execution_count": 56,
   "outputs": [
    {
     "name": "stdout",
     "output_type": "stream",
     "text": [
      "Transaction value mean after Robust transformation: 0.9189004916000726\n",
      "Transaction value after Robust transformation: 3.4206482652374364\n",
      "Transaction value skewness after Robust transformation: 15.295298039308152\n"
     ]
    }
   ],
   "source": [
    "print('Transaction value mean after Robust transformation:',X_train_robust['Amount'].mean())\n",
    "print('Transaction value after Robust transformation:',X_train_robust['Amount'].std())\n",
    "print('Transaction value skewness after Robust transformation:',X_train_robust['Amount'].skew())"
   ],
   "metadata": {
    "collapsed": false,
    "pycharm": {
     "name": "#%%\n"
    }
   }
  },
  {
   "cell_type": "markdown",
   "source": [
    "### Power Transformation - Yeo Johnson"
   ],
   "metadata": {
    "collapsed": false,
    "pycharm": {
     "name": "#%% md\n"
    }
   }
  },
  {
   "cell_type": "markdown",
   "source": [
    "### Jarque–Bera test\n",
    "Testing for non-normailty of data and then power transforming to address the issue."
   ],
   "metadata": {
    "collapsed": false,
    "pycharm": {
     "name": "#%% md\n"
    }
   }
  },
  {
   "cell_type": "code",
   "execution_count": 57,
   "outputs": [],
   "source": [
    "from sklearn.preprocessing import PowerTransformer\n",
    "pt = PowerTransformer(method='yeo-johnson', standardize=False)\n",
    "pt.fit(X_train)\n",
    "X_train_power= pt.transform(X_train)\n",
    "X_test_power= pt.transform(X_test)\n",
    "X_train_power= pd.DataFrame(X_train_power,columns=col_names)\n",
    "X_test_power= pd.DataFrame(X_test_power,columns=col_names)"
   ],
   "metadata": {
    "collapsed": false,
    "pycharm": {
     "name": "#%%\n"
    }
   }
  },
  {
   "cell_type": "code",
   "execution_count": 58,
   "outputs": [
    {
     "name": "stdout",
     "output_type": "stream",
     "text": [
      "[0.0, 0.0, 0.0, 0.0, 0.0, 0.0, 0.0, 0.0, 0.0, 0.0, 0.0, 0.0, 0.0, 0.0, 0.0, 0.0, 0.0, 0.0, 0.0, 0.0, 0.0, 0.0, 0.0, 0.0, 0.0, 0.0, 0.0, 0.0, 0.0, 0.0, 0.0, 0.0]\n"
     ]
    }
   ],
   "source": [
    "from scipy import stats\n",
    "Jarque_Bera_post= []\n",
    "for i in range(X_train_power.shape[1]):\n",
    "    Jarque_Bera_post.append(stats.jarque_bera(X_train_power.iloc[:,i]).pvalue)\n",
    "print(Jarque_Bera_post)"
   ],
   "metadata": {
    "collapsed": false,
    "pycharm": {
     "name": "#%%\n"
    }
   }
  },
  {
   "cell_type": "code",
   "execution_count": 59,
   "outputs": [
    {
     "name": "stdout",
     "output_type": "stream",
     "text": [
      "Transaction value mean before Yeo Johnson transformation: 2.892654611554365\n",
      "Transaction value SD Yeo Johnson transformation: 1.438488875930354\n",
      "Transaction value skewness Yeo Johnson transformation: 0.017954737112211967\n"
     ]
    }
   ],
   "source": [
    "print('Transaction value mean before Yeo Johnson transformation:',X_train_power['Amount'].mean())\n",
    "print('Transaction value SD Yeo Johnson transformation:',X_train_power['Amount'].std())\n",
    "print('Transaction value skewness Yeo Johnson transformation:',X_train_power['Amount'].skew())"
   ],
   "metadata": {
    "collapsed": false,
    "pycharm": {
     "name": "#%%\n"
    }
   }
  },
  {
   "cell_type": "markdown",
   "source": [
    "Even after the transformation, although the data normality is rejected by the performed statistical tests, it is less skewed."
   ],
   "metadata": {
    "collapsed": false,
    "pycharm": {
     "name": "#%% md\n"
    }
   }
  },
  {
   "cell_type": "markdown",
   "source": [
    "### Quantile Transformer - uniform"
   ],
   "metadata": {
    "collapsed": false,
    "pycharm": {
     "name": "#%% md\n"
    }
   }
  },
  {
   "cell_type": "code",
   "execution_count": 60,
   "outputs": [],
   "source": [
    "from sklearn.preprocessing import QuantileTransformer\n",
    "qt = QuantileTransformer(output_distribution='uniform')\n",
    "qt.fit(X_train)\n",
    "X_train_q_uni= qt.transform(X_train)\n",
    "X_test_q_uni= qt.transform(X_test)\n",
    "X_train_q_uni= pd.DataFrame(X_train_q_uni,columns=col_names)\n",
    "X_test_q_uni= pd.DataFrame(X_test_q_uni,columns=col_names)"
   ],
   "metadata": {
    "collapsed": false,
    "pycharm": {
     "name": "#%%\n"
    }
   }
  },
  {
   "cell_type": "code",
   "execution_count": 61,
   "outputs": [
    {
     "name": "stdout",
     "output_type": "stream",
     "text": [
      "Transaction value mean after Quantile Transformer - uniform transformation: 0.4987138121466453\n",
      "Transaction value SD after Quantile Transformer - uniform: 0.28873863613676287\n",
      "Transaction value skewness after Quantile Transformer - uniform: 0.007147371692289761\n"
     ]
    }
   ],
   "source": [
    "print('Transaction value mean after Quantile Transformer - uniform transformation:',X_test_q_uni['Amount'].mean())\n",
    "print('Transaction value SD after Quantile Transformer - uniform:',X_test_q_uni['Amount'].std())\n",
    "print('Transaction value skewness after Quantile Transformer - uniform:',X_test_q_uni['Amount'].skew())"
   ],
   "metadata": {
    "collapsed": false,
    "pycharm": {
     "name": "#%%\n"
    }
   }
  },
  {
   "cell_type": "markdown",
   "source": [
    "### Quantile Transformer - Gaussian"
   ],
   "metadata": {
    "collapsed": false,
    "pycharm": {
     "name": "#%% md\n"
    }
   }
  },
  {
   "cell_type": "code",
   "execution_count": 62,
   "outputs": [],
   "source": [
    "from sklearn.preprocessing import QuantileTransformer\n",
    "qt = QuantileTransformer(output_distribution='normal')\n",
    "qt.fit(X_train)\n",
    "X_train_q_gaus= qt.transform(X_train)\n",
    "X_test_q_gaus= qt.transform(X_test)\n",
    "X_train_q_gaus= pd.DataFrame(X_train_q_gaus,columns=col_names)\n",
    "X_test_q_gaus= pd.DataFrame(X_test_q_gaus,columns=col_names)"
   ],
   "metadata": {
    "collapsed": false,
    "pycharm": {
     "name": "#%%\n"
    }
   }
  },
  {
   "cell_type": "code",
   "execution_count": 63,
   "outputs": [
    {
     "name": "stdout",
     "output_type": "stream",
     "text": [
      "Transaction value mean after Quantile Transformer - Gaussian transformation: 0.4987138121466453\n",
      "Transaction value SD after Quantile Transformer - Gaussian transformation: 0.28873863613676287\n",
      "Transaction value skewness after Quantile Transformer - Gaussian transformation: 0.007147371692289761\n"
     ]
    }
   ],
   "source": [
    "print('Transaction value mean after Quantile Transformer - Gaussian transformation:',X_test_q_uni['Amount'].mean())\n",
    "print('Transaction value SD after Quantile Transformer - Gaussian transformation:',X_test_q_uni['Amount'].std())\n",
    "print('Transaction value skewness after Quantile Transformer - Gaussian transformation:',X_test_q_uni['Amount'].skew())"
   ],
   "metadata": {
    "collapsed": false,
    "pycharm": {
     "name": "#%%\n"
    }
   }
  },
  {
   "cell_type": "markdown",
   "source": [
    "## 4-4 Anomaly Detection\n",
    "https://www.kaggle.com/code/janiobachmann/credit-fraud-dealing-with-imbalanced-datasets"
   ],
   "metadata": {
    "collapsed": false,
    "pycharm": {
     "name": "#%% md\n"
    }
   }
  },
  {
   "cell_type": "markdown",
   "source": [
    "outlier detection:\n",
    "The training data contains outliers which are defined as observations that are far from the others. Outlier detection estimators thus try to fit the regions where the training data is the most concentrated, ignoring the deviant observations."
   ],
   "metadata": {
    "collapsed": false,
    "pycharm": {
     "name": "#%% md\n"
    }
   }
  },
  {
   "cell_type": "markdown",
   "source": [
    "### 4.4.1 - Isolation Forest"
   ],
   "metadata": {
    "collapsed": false,
    "pycharm": {
     "name": "#%% md\n"
    }
   }
  },
  {
   "cell_type": "code",
   "execution_count": 64,
   "outputs": [
    {
     "name": "stderr",
     "output_type": "stream",
     "text": [
      "C:\\Users\\axb190032\\Desktop\\Python-Virtual-Enviroment\\Enviroment1\\lib\\site-packages\\sklearn\\base.py:450: UserWarning: X does not have valid feature names, but IsolationForest was fitted with feature names\n",
      "  warnings.warn(\n"
     ]
    }
   ],
   "source": [
    "from sklearn.ensemble import IsolationForest\n",
    "IsoForest = IsolationForest(random_state=42,contamination=.001)\n",
    "IsoForest.fit(X_train)\n",
    "IsoPred = IsoForest.predict(X_train)\n",
    "X_train_Iso_001 = X_train[IsoPred == 1]\n",
    "y_train_Iso_001 = y_train[IsoPred == 1]"
   ],
   "metadata": {
    "collapsed": false,
    "pycharm": {
     "name": "#%%\n"
    }
   }
  },
  {
   "cell_type": "code",
   "execution_count": 65,
   "outputs": [
    {
     "name": "stderr",
     "output_type": "stream",
     "text": [
      "C:\\Users\\axb190032\\Desktop\\Python-Virtual-Enviroment\\Enviroment1\\lib\\site-packages\\sklearn\\base.py:450: UserWarning: X does not have valid feature names, but IsolationForest was fitted with feature names\n",
      "  warnings.warn(\n"
     ]
    }
   ],
   "source": [
    "from sklearn.ensemble import IsolationForest\n",
    "IsoForest = IsolationForest(random_state=42,contamination=.002)\n",
    "IsoForest.fit(X_train)\n",
    "IsoPred = IsoForest.predict(X_train)\n",
    "X_train_Iso_002 = X_train[IsoPred == 1]\n",
    "y_train_Iso_002 = y_train[IsoPred == 1]"
   ],
   "metadata": {
    "collapsed": false,
    "pycharm": {
     "name": "#%%\n"
    }
   }
  },
  {
   "cell_type": "code",
   "execution_count": 66,
   "outputs": [
    {
     "name": "stderr",
     "output_type": "stream",
     "text": [
      "C:\\Users\\axb190032\\Desktop\\Python-Virtual-Enviroment\\Enviroment1\\lib\\site-packages\\sklearn\\base.py:450: UserWarning: X does not have valid feature names, but IsolationForest was fitted with feature names\n",
      "  warnings.warn(\n"
     ]
    }
   ],
   "source": [
    "from sklearn.ensemble import IsolationForest\n",
    "IsoForest = IsolationForest(random_state=42,contamination=.005)\n",
    "IsoForest.fit(X_train)\n",
    "IsoPred = IsoForest.predict(X_train)\n",
    "X_train_Iso_005 = X_train[IsoPred == 1]\n",
    "y_train_Iso_005 = y_train[IsoPred == 1]"
   ],
   "metadata": {
    "collapsed": false,
    "pycharm": {
     "name": "#%%\n"
    }
   }
  },
  {
   "cell_type": "code",
   "execution_count": 68,
   "outputs": [
    {
     "name": "stderr",
     "output_type": "stream",
     "text": [
      "C:\\Users\\axb190032\\Desktop\\Python-Virtual-Enviroment\\Enviroment1\\lib\\site-packages\\sklearn\\base.py:450: UserWarning: X does not have valid feature names, but IsolationForest was fitted with feature names\n",
      "  warnings.warn(\n"
     ]
    }
   ],
   "source": [
    "from sklearn.ensemble import IsolationForest\n",
    "IsoForest = IsolationForest(random_state=42,contamination=.007)\n",
    "IsoForest.fit(X_train)\n",
    "IsoPred = IsoForest.predict(X_train)\n",
    "X_train_Iso_007 = X_train[IsoPred == 1]\n",
    "y_train_Iso_007 = y_train[IsoPred == 1]"
   ],
   "metadata": {
    "collapsed": false,
    "pycharm": {
     "name": "#%%\n"
    }
   }
  },
  {
   "cell_type": "code",
   "execution_count": 69,
   "outputs": [
    {
     "name": "stderr",
     "output_type": "stream",
     "text": [
      "C:\\Users\\axb190032\\Desktop\\Python-Virtual-Enviroment\\Enviroment1\\lib\\site-packages\\sklearn\\base.py:450: UserWarning: X does not have valid feature names, but IsolationForest was fitted with feature names\n",
      "  warnings.warn(\n"
     ]
    }
   ],
   "source": [
    "from sklearn.ensemble import IsolationForest\n",
    "IsoForest = IsolationForest(random_state=42,contamination=.010)\n",
    "IsoForest.fit(X_train)\n",
    "IsoPred = IsoForest.predict(X_train)\n",
    "X_train_Iso_010 = X_train[IsoPred == 1]\n",
    "y_train_Iso_010 = y_train[IsoPred == 1]"
   ],
   "metadata": {
    "collapsed": false,
    "pycharm": {
     "name": "#%%\n"
    }
   }
  },
  {
   "cell_type": "markdown",
   "source": [
    "### 4.4.2 Mahalanobis Distance"
   ],
   "metadata": {
    "collapsed": false,
    "pycharm": {
     "name": "#%% md\n"
    }
   }
  },
  {
   "cell_type": "code",
   "execution_count": null,
   "outputs": [],
   "source": [
    "#!pip3 install torch torchvision torchaudio --extra-index-url https://download.pytorch.org/whl/cu116"
   ],
   "metadata": {
    "collapsed": false,
    "pycharm": {
     "name": "#%%\n"
    }
   }
  },
  {
   "cell_type": "code",
   "execution_count": null,
   "outputs": [],
   "source": [
    "#!pip install alibi-detect"
   ],
   "metadata": {
    "collapsed": false,
    "pycharm": {
     "name": "#%%\n"
    }
   }
  },
  {
   "cell_type": "code",
   "execution_count": 70,
   "outputs": [
    {
     "name": "stderr",
     "output_type": "stream",
     "text": [
      "C:\\Users\\axb190032\\Desktop\\Python-Virtual-Enviroment\\Enviroment1\\lib\\site-packages\\alibi_detect\\utils\\pytorch\\kernels.py:60: UserWarning: Failed to initialize NumPy: module compiled against API version 0x10 but this version of numpy is 0xf (Triggered internally at  ..\\torch\\csrc\\utils\\tensor_numpy.cpp:68.)\n",
      "  self.log_sigma = nn.Parameter(torch.empty(1), requires_grad=trainable)\n"
     ]
    }
   ],
   "source": [
    "from alibi_detect.od import Mahalanobis\n",
    "\n",
    "od = Mahalanobis(threshold=.01)\n",
    "preds = od.predict(np.array(X_train),  return_instance_score = True)\n",
    "\n",
    "X_train_Mah_001 = X_train[preds[\"data\"][\"is_outlier\"]==1]\n",
    "y_train_Mah_001 = y_train[preds[\"data\"][\"is_outlier\"]==1]"
   ],
   "metadata": {
    "collapsed": false,
    "pycharm": {
     "name": "#%%\n"
    }
   }
  },
  {
   "cell_type": "code",
   "execution_count": 71,
   "outputs": [],
   "source": [
    "from alibi_detect.od import Mahalanobis\n",
    "\n",
    "od = Mahalanobis(threshold=.05)\n",
    "preds = od.predict(np.array(X_train),  return_instance_score = True)\n",
    "\n",
    "X_train_Mah_005 = X_train[preds[\"data\"][\"is_outlier\"]==1]\n",
    "y_train_Mah_005 = y_train[preds[\"data\"][\"is_outlier\"]==1]"
   ],
   "metadata": {
    "collapsed": false,
    "pycharm": {
     "name": "#%%\n"
    }
   }
  },
  {
   "cell_type": "code",
   "execution_count": 72,
   "outputs": [],
   "source": [
    "from alibi_detect.od import Mahalanobis\n",
    "\n",
    "od = Mahalanobis(threshold=.1)\n",
    "preds = od.predict(np.array(X_train),  return_instance_score = True)\n",
    "\n",
    "X_train_Mah_01 = X_train[preds[\"data\"][\"is_outlier\"]==1]\n",
    "y_train_Mah_01 = y_train[preds[\"data\"][\"is_outlier\"]==1]"
   ],
   "metadata": {
    "collapsed": false,
    "pycharm": {
     "name": "#%%\n"
    }
   }
  },
  {
   "cell_type": "code",
   "execution_count": 73,
   "outputs": [],
   "source": [
    "from  alibi_detect.od import Mahalanobis\n",
    "\n",
    "od = Mahalanobis(threshold=.5)\n",
    "preds = od.predict(np.array(X_train),  return_instance_score = True)\n",
    "\n",
    "X_train_Mah_05 = X_train[preds[\"data\"][\"is_outlier\"]==1]\n",
    "y_train_Mah_05 = y_train[preds[\"data\"][\"is_outlier\"]==1]"
   ],
   "metadata": {
    "collapsed": false,
    "pycharm": {
     "name": "#%%\n"
    }
   }
  },
  {
   "cell_type": "code",
   "execution_count": 74,
   "outputs": [],
   "source": [
    "from  alibi_detect.od import Mahalanobis\n",
    "\n",
    "od = Mahalanobis(threshold=1)\n",
    "preds = od.predict(np.array(X_train),  return_instance_score = True)\n",
    "\n",
    "X_train_Mah_1 = X_train[preds[\"data\"][\"is_outlier\"]==1]\n",
    "y_train_Mah_1 = y_train[preds[\"data\"][\"is_outlier\"]==1]"
   ],
   "metadata": {
    "collapsed": false,
    "pycharm": {
     "name": "#%%\n"
    }
   }
  },
  {
   "cell_type": "markdown",
   "source": [
    "### saving all the data in a single dictionary"
   ],
   "metadata": {
    "collapsed": false,
    "pycharm": {
     "name": "#%% md\n"
    }
   }
  },
  {
   "cell_type": "markdown",
   "source": [
    "After trying some transformation, those that lead to drop in model performance are removed."
   ],
   "metadata": {
    "collapsed": false,
    "pycharm": {
     "name": "#%% md\n"
    }
   }
  },
  {
   "cell_type": "code",
   "execution_count": 140,
   "outputs": [],
   "source": [
    "data_dict = {'default': {0: X_train, 1: y_train},\n",
    "             #'min_max': {0: X_train_min_max, 1: y_train},\n",
    "             #'robust': {0: X_train_robust, 1: y_train},\n",
    "             #'power': {0: X_train_power, 1: y_train},\n",
    "             #'q_uni': {0: X_train_q_uni, 1: y_train},\n",
    "             #'q_gaus': {0: X_train_q_gaus, 1: y_train},\n",
    "             'Iso_001': {0: X_train_Iso_001, 1: y_train_Iso_001},\n",
    "             #'Iso_002': {0: X_train_Iso_002, 1: y_train_Iso_002},\n",
    "             'Iso_005': {0: X_train_Iso_005, 1: y_train_Iso_005},\n",
    "             #'Iso_007': {0: X_train_Iso_007, 1: y_train_Iso_007},\n",
    "             'Iso_010': {0: X_train_Iso_010, 1: y_train_Iso_010},\n",
    "              #'Mah_001': {0: X_train_Mah_001, 1: y_train_Mah_001},\n",
    "              #'Mah_005': {0: X_train_Mah_005, 1: y_train_Mah_005},\n",
    "              #'Mah_01': {0: X_train_Mah_01, 1: y_train_Mah_01},\n",
    "              #'Mah_05': {0: X_train_Mah_05, 1: y_train_Mah_05},\n",
    "              #'Mah_1': {0: X_train_Mah_1, 1: y_train_Mah_1}\n",
    "             }"
   ],
   "metadata": {
    "collapsed": false,
    "pycharm": {
     "name": "#%%\n"
    }
   }
  },
  {
   "cell_type": "code",
   "execution_count": 141,
   "outputs": [],
   "source": [
    "dill.dump(data_dict, open('data_dict.p', \"wb\"))"
   ],
   "metadata": {
    "collapsed": false,
    "pycharm": {
     "name": "#%%\n"
    }
   }
  },
  {
   "cell_type": "code",
   "execution_count": 6,
   "outputs": [],
   "source": [
    "data_dict = dill.load(open(\"data_dict.p\", \"rb\"))"
   ],
   "metadata": {
    "collapsed": false,
    "pycharm": {
     "name": "#%%\n"
    }
   }
  },
  {
   "cell_type": "markdown",
   "source": [
    "## 4-3 Autoencoder\n",
    "#https://www.kaggle.com/code/shivamb/semi-supervised-classification-using-autoencoders\n",
    "https://www.kaggle.com/code/shivamb/how-autoencoders-work-intro-and-usecases/notebook"
   ],
   "metadata": {
    "collapsed": false,
    "pycharm": {
     "name": "#%% md\n"
    }
   }
  },
  {
   "cell_type": "markdown",
   "source": [
    "Autoencoders are a special type of neural network architectures in which the output is same as the input. Autoencoders are trained in an unsupervised manner in order to learn the exteremely low level repersentations of the input data. These low level features are then deformed back to project the actual data. An autoencoder is a regression task where the network is asked to predict its input (in other words, model the identity function). These networks has a tight bottleneck of a few neurons in the middle, forcing them to create effective representations that compress the input into a low-dimensional code that can be used by the decoder to reproduce the original input.\n",
    "\n",
    "A typical autoencoder architecture comprises of three main components:\n",
    "\n",
    "- Encoding Architecture : The encoder architecture comprises of series of layers with decreasing number of nodes and ultimately reduces to a latent view repersentation.\n",
    "- Latent View Repersentation : Latent view repersents the lowest level space in which the inputs are reduced and information is preserved.\n",
    "- Decoding Architecture : The decoding architecture is the mirro image of the encoding architecture but in which number of nodes in every layer increases and ultimately outputs the similar (almost) input."
   ],
   "metadata": {
    "collapsed": false,
    "pycharm": {
     "name": "#%% md\n"
    }
   }
  },
  {
   "cell_type": "markdown",
   "source": [
    "Although the idea is very intresting, but getting a model that actually improves the performance in the tabular setting is very difficult compared to other methods so I am going to skip the use of this transformed data. And just leave the code for the refrence."
   ],
   "metadata": {
    "collapsed": false,
    "pycharm": {
     "name": "#%% md\n"
    }
   }
  },
  {
   "cell_type": "markdown",
   "source": [
    "import tensorflow as tf\n",
    "print(\"TensorFlow version:\", tf.__version__)\n",
    "\n",
    "from tensorflow.keras.layers import Dense, Input\n",
    "from tensorflow.keras import Model, regularizers, Sequential"
   ],
   "metadata": {
    "collapsed": false,
    "pycharm": {
     "name": "#%% md\n"
    }
   }
  },
  {
   "cell_type": "markdown",
   "source": [
    "### define the model\n",
    "input_layer = Input(shape=(X_train_min_max.shape[1],))\n",
    "encoded = Dense(100, activation='relu', activity_regularizer=regularizers.l1(10e-5))(input_layer)\n",
    "encoded = Dense(75, activation='relu')(encoded)\n",
    "encoded = Dense(30, activation='relu')(encoded)\n",
    "encoded = Dense(10, activation='sigmoid')(encoded)\n",
    "decoded = Dense(30, activation='relu')(encoded)\n",
    "decoded = Dense(70, activation='relu')(decoded)\n",
    "decoded = Dense(100, activation='relu')(decoded)\n",
    "output_layer = Dense(X_train_min_max.shape[1], activation='relu')(decoded)\n",
    "\n",
    "autoencoder = Model(input_layer, output_layer)\n",
    "autoencoder.compile(optimizer=\"adam\", loss=\"mse\")"
   ],
   "metadata": {
    "collapsed": false,
    "pycharm": {
     "name": "#%% md\n"
    }
   }
  },
  {
   "cell_type": "markdown",
   "source": [
    "autoencoder.summary()"
   ],
   "metadata": {
    "collapsed": false,
    "pycharm": {
     "name": "#%% md\n"
    }
   }
  },
  {
   "cell_type": "markdown",
   "source": [
    "autoencoder.fit(X_train_min_max, X_train_min_max,\n",
    "                batch_size = 256, epochs = 30,\n",
    "                shuffle = True, validation_split = 0.20);"
   ],
   "metadata": {
    "collapsed": false,
    "pycharm": {
     "name": "#%% md\n"
    }
   }
  },
  {
   "cell_type": "markdown",
   "source": [
    "hidden_representation = Sequential()\n",
    "hidden_representation.add(autoencoder.layers[0])\n",
    "hidden_representation.add(autoencoder.layers[1])\n",
    "hidden_representation.add(autoencoder.layers[2])\n",
    "hidden_representation.add(autoencoder.layers[3])\n",
    "hidden_representation.add(autoencoder.layers[4])"
   ],
   "metadata": {
    "collapsed": false,
    "pycharm": {
     "name": "#%% md\n"
    }
   }
  },
  {
   "cell_type": "markdown",
   "source": [
    "X_train_auto = hidden_representation.predict(X_train_min_max)\n",
    "X_test_auto = hidden_representation.predict(X_test_min_max)\n",
    "X_val_auto = hidden_representation.predict(X_val_min_max)"
   ],
   "metadata": {
    "collapsed": false,
    "pycharm": {
     "name": "#%% md\n"
    }
   }
  },
  {
   "cell_type": "markdown",
   "source": [
    "pd.DataFrame(X_train_auto).shape , X_train.shape"
   ],
   "metadata": {
    "collapsed": false,
    "pycharm": {
     "name": "#%% md\n"
    }
   }
  },
  {
   "cell_type": "markdown",
   "source": [
    "## 4-6 Oversampling\n",
    "##from imblearn.metrics import classification_report_imbalanced\n",
    "SMOT is a good option if the fraud activities are close together, otherwise it leads to noise.\n",
    "https://towardsdatascience.com/5-smote-techniques-for-oversampling-your-imbalance-data-b8155bdbe2b5"
   ],
   "metadata": {
    "collapsed": false,
    "pycharm": {
     "name": "#%% md\n"
    }
   }
  },
  {
   "cell_type": "markdown",
   "source": [
    "### 4.6.1 SMOTE - Synthetic Minority Oversampling Technique\n",
    "the basic implementation of SMOTE will not make any distinction between easy and hard samples to be classified using the nearest neighbors rule."
   ],
   "metadata": {
    "collapsed": false,
    "pycharm": {
     "name": "#%% md\n"
    }
   }
  },
  {
   "cell_type": "code",
   "execution_count": 146,
   "outputs": [],
   "source": [
    "from imblearn.over_sampling import SMOTE"
   ],
   "metadata": {
    "collapsed": false,
    "pycharm": {
     "name": "#%%\n"
    }
   }
  },
  {
   "cell_type": "code",
   "execution_count": 147,
   "outputs": [],
   "source": [
    "from collections import defaultdict\n",
    "\n",
    "data_dict_SMOTE = defaultdict(dict)\n",
    "\n",
    "for key in data_dict:\n",
    "    data_dict_SMOTE[key][0],data_dict_SMOTE[key][1] = SMOTE(random_state=42).fit_resample(data_dict[key][0],data_dict[key][1])"
   ],
   "metadata": {
    "collapsed": false,
    "pycharm": {
     "name": "#%%\n"
    }
   }
  },
  {
   "cell_type": "code",
   "execution_count": 148,
   "outputs": [],
   "source": [
    "dill.dump(data_dict_SMOTE, open('data_dict_SMOTE.p', \"wb\"))"
   ],
   "metadata": {
    "collapsed": false,
    "pycharm": {
     "name": "#%%\n"
    }
   }
  },
  {
   "cell_type": "code",
   "execution_count": 7,
   "outputs": [],
   "source": [
    "data_dict_SMOTE = dill.load(open(\"data_dict_SMOTE.p\", \"rb\"))"
   ],
   "metadata": {
    "collapsed": false,
    "pycharm": {
     "name": "#%%\n"
    }
   }
  },
  {
   "cell_type": "markdown",
   "source": [
    "### 4.6.2 ADASYN -  Adaptive Synthetic\n",
    "ADASYN focuses on generating samples next to the original samples which are wrongly classified using a k-Nearest Neighbors classifier"
   ],
   "metadata": {
    "collapsed": false,
    "pycharm": {
     "name": "#%% md\n"
    }
   }
  },
  {
   "cell_type": "code",
   "execution_count": 150,
   "outputs": [],
   "source": [
    "from imblearn.over_sampling import ADASYN"
   ],
   "metadata": {
    "collapsed": false,
    "pycharm": {
     "name": "#%%\n"
    }
   }
  },
  {
   "cell_type": "code",
   "execution_count": 151,
   "outputs": [],
   "source": [
    "from collections import defaultdict\n",
    "\n",
    "data_dict_ADASYN = defaultdict(dict)\n",
    "\n",
    "for key in data_dict:\n",
    "    data_dict_ADASYN[key][0],data_dict_ADASYN[key][1] = ADASYN(random_state=42).fit_resample(data_dict[key][0],data_dict[key][1])"
   ],
   "metadata": {
    "collapsed": false,
    "pycharm": {
     "name": "#%%\n"
    }
   }
  },
  {
   "cell_type": "code",
   "execution_count": 152,
   "outputs": [],
   "source": [
    "dill.dump(data_dict_ADASYN, open('data_dict_ADASYN.p', \"wb\"))"
   ],
   "metadata": {
    "collapsed": false,
    "pycharm": {
     "name": "#%%\n"
    }
   }
  },
  {
   "cell_type": "code",
   "execution_count": 8,
   "outputs": [],
   "source": [
    "data_dict_ADASYN = dill.load(open(\"data_dict_ADASYN.p\", \"rb\"))"
   ],
   "metadata": {
    "collapsed": false,
    "pycharm": {
     "name": "#%%\n"
    }
   }
  },
  {
   "cell_type": "markdown",
   "source": [
    "### 4.6.3 BorderlineSMOTE - Borderline Synthetic Minority Oversampling"
   ],
   "metadata": {
    "collapsed": false,
    "pycharm": {
     "name": "#%% md\n"
    }
   }
  },
  {
   "cell_type": "code",
   "execution_count": 154,
   "outputs": [],
   "source": [
    "from imblearn.over_sampling import BorderlineSMOTE"
   ],
   "metadata": {
    "collapsed": false,
    "pycharm": {
     "name": "#%%\n"
    }
   }
  },
  {
   "cell_type": "code",
   "execution_count": 155,
   "outputs": [],
   "source": [
    "from collections import defaultdict\n",
    "\n",
    "data_dict_BorderlineSMOTE = defaultdict(dict)\n",
    "\n",
    "for key in data_dict:\n",
    "    data_dict_BorderlineSMOTE[key][0],data_dict_BorderlineSMOTE[key][1] = BorderlineSMOTE(random_state=42).fit_resample(data_dict[key][0],data_dict[key][1])"
   ],
   "metadata": {
    "collapsed": false,
    "pycharm": {
     "name": "#%%\n"
    }
   }
  },
  {
   "cell_type": "code",
   "execution_count": 156,
   "outputs": [],
   "source": [
    "dill.dump(data_dict_BorderlineSMOTE, open('data_dict_BorderlineSMOTE.p', \"wb\"))"
   ],
   "metadata": {
    "collapsed": false,
    "pycharm": {
     "name": "#%%\n"
    }
   }
  },
  {
   "cell_type": "code",
   "execution_count": 9,
   "outputs": [],
   "source": [
    "data_dict_BorderlineSMOTE = dill.load(open(\"data_dict_BorderlineSMOTE.p\", \"rb\"))"
   ],
   "metadata": {
    "collapsed": false,
    "pycharm": {
     "name": "#%%\n"
    }
   }
  },
  {
   "cell_type": "markdown",
   "source": [
    "## 4.7- Hybrid Over and Undersampling"
   ],
   "metadata": {
    "collapsed": false,
    "pycharm": {
     "name": "#%% md\n"
    }
   }
  },
  {
   "cell_type": "markdown",
   "source": [
    "### 4.7.1 SMOTEENN"
   ],
   "metadata": {
    "collapsed": false,
    "pycharm": {
     "name": "#%% md\n"
    }
   }
  },
  {
   "cell_type": "markdown",
   "source": [
    "Over-sampling using SMOTE and cleaning using ENN."
   ],
   "metadata": {
    "collapsed": false,
    "pycharm": {
     "name": "#%% md\n"
    }
   }
  },
  {
   "cell_type": "code",
   "execution_count": 158,
   "outputs": [],
   "source": [
    "from imblearn.combine import SMOTEENN"
   ],
   "metadata": {
    "collapsed": false,
    "pycharm": {
     "name": "#%%\n"
    }
   }
  },
  {
   "cell_type": "code",
   "execution_count": 159,
   "outputs": [],
   "source": [
    "from collections import defaultdict\n",
    "\n",
    "data_dict_SMOTEENN = defaultdict(dict)\n",
    "\n",
    "for key in data_dict:\n",
    "    data_dict_SMOTEENN[key][0],data_dict_SMOTEENN[key][1] = SMOTEENN(random_state=42).fit_resample(data_dict[key][0],data_dict[key][1])"
   ],
   "metadata": {
    "collapsed": false,
    "pycharm": {
     "name": "#%%\n"
    }
   }
  },
  {
   "cell_type": "code",
   "execution_count": 160,
   "outputs": [],
   "source": [
    "dill.dump(data_dict_SMOTEENN, open('data_dict_SMOTEENN.p', \"wb\"))"
   ],
   "metadata": {
    "collapsed": false,
    "pycharm": {
     "name": "#%%\n"
    }
   }
  },
  {
   "cell_type": "code",
   "execution_count": 10,
   "outputs": [],
   "source": [
    "data_dict_SMOTEENN = dill.load(open(\"data_dict_SMOTEENN.p\", \"rb\"))"
   ],
   "metadata": {
    "collapsed": false,
    "pycharm": {
     "name": "#%%\n"
    }
   }
  },
  {
   "cell_type": "markdown",
   "source": [
    "### 4.7.2 SMOTETomek - SMOTE and ENN"
   ],
   "metadata": {
    "collapsed": false,
    "pycharm": {
     "name": "#%% md\n"
    }
   }
  },
  {
   "cell_type": "markdown",
   "source": [
    "Over-sampling using SMOTE and cleaning using Tomek links."
   ],
   "metadata": {
    "collapsed": false,
    "pycharm": {
     "name": "#%% md\n"
    }
   }
  },
  {
   "cell_type": "code",
   "execution_count": 13,
   "outputs": [],
   "source": [
    "from imblearn.combine import SMOTETomek"
   ],
   "metadata": {
    "collapsed": false,
    "pycharm": {
     "name": "#%%\n"
    }
   }
  },
  {
   "cell_type": "code",
   "execution_count": 14,
   "outputs": [],
   "source": [
    "from collections import defaultdict\n",
    "\n",
    "data_dict_SMOTETomek = defaultdict(dict)\n",
    "\n",
    "for key in data_dict:\n",
    "    data_dict_SMOTETomek[key][0],data_dict_SMOTETomek[key][1] = SMOTETomek(random_state=42).fit_resample(data_dict[key][0],data_dict[key][1])"
   ],
   "metadata": {
    "collapsed": false,
    "pycharm": {
     "name": "#%%\n"
    }
   }
  },
  {
   "cell_type": "code",
   "execution_count": 15,
   "outputs": [],
   "source": [
    "dill.dump(data_dict_SMOTETomek, open('data_dict_SMOTETomek.p', \"wb\"))"
   ],
   "metadata": {
    "collapsed": false,
    "pycharm": {
     "name": "#%%\n"
    }
   }
  },
  {
   "cell_type": "code",
   "execution_count": null,
   "outputs": [],
   "source": [
    "data_dict_SMOTETomek = dill.load(open(\"data_dict_SMOTETomek.p\", \"rb\"))"
   ],
   "metadata": {
    "collapsed": false,
    "pycharm": {
     "name": "#%%\n",
     "is_executing": true
    }
   }
  },
  {
   "cell_type": "markdown",
   "source": [
    "Saving all over and hybrid sampling dictionaries in a single dictionary. The only method that on average leads to a reduction in performance is BorderlineSMOTE, so I will comment it out."
   ],
   "metadata": {
    "collapsed": false,
    "pycharm": {
     "name": "#%% md\n"
    }
   }
  },
  {
   "cell_type": "code",
   "execution_count": 16,
   "outputs": [],
   "source": [
    "data_dict_sampled= {'notSampled': data_dict,\n",
    "                    'SMOTE': data_dict_SMOTE,\n",
    "                    'ADASYN': data_dict_ADASYN,\n",
    "                    #'BorderlineSMOTE': data_dict_BorderlineSMOTE,\n",
    "                    'SMOTEENN': data_dict_SMOTEENN,\n",
    "                    'SMOTETomek': data_dict_SMOTETomek\n",
    "                    }"
   ],
   "metadata": {
    "collapsed": false,
    "pycharm": {
     "name": "#%%\n"
    }
   }
  },
  {
   "cell_type": "code",
   "execution_count": 17,
   "outputs": [],
   "source": [
    "dill.dump(data_dict_sampled, open('data_dict_sampled.p', \"wb\"))"
   ],
   "metadata": {
    "collapsed": false,
    "pycharm": {
     "name": "#%%\n"
    }
   }
  },
  {
   "cell_type": "code",
   "execution_count": null,
   "outputs": [],
   "source": [
    "data_dict_sampled = dill.load(open(\"data_dict_sampled.p\", \"rb\"))"
   ],
   "metadata": {
    "collapsed": false,
    "pycharm": {
     "name": "#%%\n"
    }
   }
  },
  {
   "cell_type": "markdown",
   "source": [
    "# 5- Modeling"
   ],
   "metadata": {
    "collapsed": false,
    "pycharm": {
     "name": "#%% md\n"
    }
   }
  },
  {
   "cell_type": "markdown",
   "source": [
    "## 5-1.XGBoost"
   ],
   "metadata": {
    "collapsed": false,
    "pycharm": {
     "name": "#%% md\n"
    }
   }
  },
  {
   "cell_type": "markdown",
   "source": [
    "I am going"
   ],
   "metadata": {
    "collapsed": false,
    "pycharm": {
     "name": "#%% md\n"
    }
   }
  },
  {
   "cell_type": "code",
   "execution_count": 18,
   "outputs": [],
   "source": [
    "# funcion showing summary score for auc and average percision\n",
    "def summary_score(y_test, predictions):\n",
    "    print('The AUC score is:',roc_auc_score(y_test, predictions))\n",
    "    print('The Average Precision score is:',average_precision_score(y_test, predictions))\n",
    "    #print('The f1 score is:',f1_score(y_test, predictions))\n",
    "    #print('The balanced accuracy score is:',balanced_accuracy_score(y_test, predictions))"
   ],
   "metadata": {
    "collapsed": false,
    "pycharm": {
     "name": "#%%\n"
    }
   }
  },
  {
   "cell_type": "code",
   "execution_count": 19,
   "outputs": [],
   "source": [
    "# function for plotting AUC and AvgPrecision\n",
    "def plot_performance(y_test, predictions):\n",
    "    fig, (ax1, ax2) = plt.subplots(1, 2, figsize=(13,6))\n",
    "    fig.suptitle('Model Performance')\n",
    "\n",
    "    from sklearn.metrics import roc_curve\n",
    "    y_pred_proba = predictions\n",
    "    fpr, tpr, _ = roc_curve(y_test, y_pred_proba)\n",
    "    #create ROC curve\n",
    "    ax1.plot(fpr, tpr)\n",
    "    ax1.set_ylabel('True Positive Rate')\n",
    "    ax1.set_xlabel('False Positive Rate')\n",
    "\n",
    "    from sklearn.metrics import precision_recall_curve\n",
    "    precision, recall, _ = precision_recall_curve(y_test, predictions)\n",
    "    ax2.plot(precision, recall,'Orange')\n",
    "    #create ROC curve\n",
    "    ax2.set_ylabel('Precision')\n",
    "    ax2.set_xlabel('Recall')"
   ],
   "metadata": {
    "collapsed": false,
    "pycharm": {
     "name": "#%%\n"
    }
   }
  },
  {
   "cell_type": "code",
   "execution_count": 212,
   "outputs": [],
   "source": [
    "# calibration curve\n",
    "def calib_curve(y_test,predictions):\n",
    "    from sklearn.calibration import calibration_curve\n",
    "\n",
    "    plt.rcParams['figure.figsize'] = [6, 6]\n",
    "    # Creating Calibration Curve\n",
    "    x, y = calibration_curve(y_test, predictions, n_bins = 20)\n",
    "\n",
    "    # Plot calibration curve\n",
    "\n",
    "    # Plot perfectly calibrated\n",
    "    plt.plot([0, 1], [0, 1], linestyle = '--', label = 'Ideally Calibrated')\n",
    "\n",
    "    # Plot model's calibration curve\n",
    "    plt.plot(y, x, marker = '.', label = 'Classifier')\n",
    "\n",
    "    sns.rugplot(predictions, height=0.025,  color='k')\n",
    "\n",
    "    leg = plt.legend(loc = 'upper left')\n",
    "    plt.xlabel('Average Predicted Probability in each bin')\n",
    "    plt.ylabel('Ratio of positives')\n",
    "    plt.show()"
   ],
   "metadata": {
    "collapsed": false,
    "pycharm": {
     "name": "#%%\n"
    }
   }
  },
  {
   "cell_type": "markdown",
   "source": [
    "### 5.1.1. XGBoost - Default"
   ],
   "metadata": {
    "collapsed": false,
    "pycharm": {
     "name": "#%% md\n"
    }
   }
  },
  {
   "cell_type": "code",
   "execution_count": 21,
   "outputs": [],
   "source": [
    "from xgboost import XGBClassifier\n",
    "from sklearn.metrics import roc_auc_score, average_precision_score"
   ],
   "metadata": {
    "collapsed": false,
    "pycharm": {
     "name": "#%%\n"
    }
   }
  },
  {
   "cell_type": "code",
   "execution_count": 114,
   "outputs": [],
   "source": [
    "%%capture\n",
    "xgb_1 = XGBClassifier()\n",
    "xgb_1.fit(X_train, y_train)\n",
    "predictions = xgb_1.predict_proba(X_test)[:,1]"
   ],
   "metadata": {
    "collapsed": false,
    "pycharm": {
     "name": "#%%\n"
    }
   }
  },
  {
   "cell_type": "code",
   "execution_count": 122,
   "outputs": [
    {
     "name": "stdout",
     "output_type": "stream",
     "text": [
      "The AUC score is: 0.9782144005604492\n",
      "The Average Precision score is: 0.8718013792999797\n"
     ]
    }
   ],
   "source": [
    "summary_score(y_test, predictions)"
   ],
   "metadata": {
    "collapsed": false,
    "pycharm": {
     "name": "#%%\n"
    }
   }
  },
  {
   "cell_type": "code",
   "execution_count": null,
   "outputs": [],
   "source": [
    "plot_performance(y_test, predictions)"
   ],
   "metadata": {
    "collapsed": false,
    "pycharm": {
     "name": "#%%\n"
    }
   }
  },
  {
   "cell_type": "code",
   "execution_count": 22,
   "outputs": [
    {
     "name": "stdout",
     "output_type": "stream",
     "text": [
      "The AUC score is: 0.9782144005604492\n",
      "The Average Precision score is: 0.8718013792999797\n",
      "model 1 sampling notSampled transformingdefault fitted in 14.824s\n",
      "The AUC score is: 0.9688018602207342\n",
      "The Average Precision score is: 0.8642438293439324\n",
      "model 2 sampling notSampled transformingIso_001 fitted in 15.168s\n",
      "The AUC score is: 0.978645432568075\n",
      "The Average Precision score is: 0.8054054544295703\n",
      "model 3 sampling notSampled transformingIso_005 fitted in 14.762s\n",
      "The AUC score is: 0.9801549418304182\n",
      "The Average Precision score is: 0.8430252068737687\n",
      "model 4 sampling notSampled transformingIso_010 fitted in 14.200s\n",
      "The AUC score is: 0.9826937598337028\n",
      "The Average Precision score is: 0.8717382525383007\n",
      "model 5 sampling SMOTE transformingdefault fitted in 39.366s\n",
      "The AUC score is: 0.9776145088029584\n",
      "The Average Precision score is: 0.8708396169651744\n",
      "model 6 sampling SMOTE transformingIso_001 fitted in 39.834s\n",
      "The AUC score is: 0.9845371304824688\n",
      "The Average Precision score is: 0.8086419660425381\n",
      "model 7 sampling SMOTE transformingIso_005 fitted in 40.178s\n",
      "The AUC score is: 0.9787812740459155\n",
      "The Average Precision score is: 0.8005003366918683\n",
      "model 8 sampling SMOTE transformingIso_010 fitted in 40.678s\n",
      "The AUC score is: 0.9792041412091005\n",
      "The Average Precision score is: 0.8714621937444882\n",
      "model 9 sampling ADASYN transformingdefault fitted in 39.288s\n",
      "The AUC score is: 0.9827122428881514\n",
      "The Average Precision score is: 0.8674631209438677\n",
      "model 10 sampling ADASYN transformingIso_001 fitted in 39.147s\n",
      "The AUC score is: 0.98400417250468\n",
      "The Average Precision score is: 0.8072002940261229\n",
      "model 11 sampling ADASYN transformingIso_005 fitted in 39.928s\n",
      "The AUC score is: 0.9837018938132371\n",
      "The Average Precision score is: 0.8063684526298998\n",
      "model 12 sampling ADASYN transformingIso_010 fitted in 39.788s\n",
      "The AUC score is: 0.9841548183707923\n",
      "The Average Precision score is: 0.8726304661948463\n",
      "model 13 sampling SMOTEENN transformingdefault fitted in 35.320s\n",
      "The AUC score is: 0.978543506597912\n",
      "The Average Precision score is: 0.8599246936145045\n",
      "model 14 sampling SMOTEENN transformingIso_001 fitted in 34.820s\n",
      "The AUC score is: 0.9830522054770134\n",
      "The Average Precision score is: 0.7819355670932702\n",
      "model 15 sampling SMOTEENN transformingIso_005 fitted in 34.992s\n",
      "The AUC score is: 0.9812816006396932\n",
      "The Average Precision score is: 0.7982582783183726\n",
      "model 16 sampling SMOTEENN transformingIso_010 fitted in 35.382s\n",
      "The AUC score is: 0.9813283466172062\n",
      "The Average Precision score is: 0.867096287262803\n",
      "model 17 sampling SMOTETomek transformingdefault fitted in 38.569s\n",
      "The AUC score is: 0.9785847794379428\n",
      "The Average Precision score is: 0.8638654409813166\n",
      "model 18 sampling SMOTETomek transformingIso_001 fitted in 40.553s\n",
      "The AUC score is: 0.9835307012506747\n",
      "The Average Precision score is: 0.8420789777474473\n",
      "model 19 sampling SMOTETomek transformingIso_005 fitted in 40.459s\n",
      "The AUC score is: 0.983711583958288\n",
      "The Average Precision score is: 0.8208935179907365\n",
      "model 20 sampling SMOTETomek transformingIso_010 fitted in 39.709s\n"
     ]
    }
   ],
   "source": [
    "from collections import defaultdict\n",
    "\n",
    "xgb_def_dict = defaultdict(dict)\n",
    "xgb_def_scores = defaultdict(dict)\n",
    "i = 1\n",
    "\n",
    "for data_set in data_dict_sampled:\n",
    "    for key in data_dict_sampled[data_set]:\n",
    "        tic = time()\n",
    "        xgb = XGBClassifier()\n",
    "        xgb.fit(data_dict_sampled[data_set][key][0], data_dict_sampled[data_set][key][1])\n",
    "        predictions = xgb.predict_proba(X_test)[:, 1]\n",
    "        xgb_def_dict[data_set][key] = xgb\n",
    "        xgb_def_scores[data_set][key] = [roc_auc_score(y_test, predictions), average_precision_score(y_test, predictions)]\n",
    "        summary_score(y_test, predictions)\n",
    "        print(f\"model\",i , 'sampling' , f\"{data_set}\" , 'transforming' f\"{key}\",f\"fitted in {time() - tic:.3f}s\")\n",
    "        i += 1\n",
    "\n",
    "xgb_def_scores = pd.concat({k: pd.DataFrame.from_dict(v, 'index') for k, v in xgb_def_scores.items()}, axis=0)\n",
    "xgb_def_scores.rename(columns={0: 'AUC', 1: 'AvgPrecision', 2: 'det_curve', 3:'perc_recall'}, inplace=True)\n",
    "xgb_def_scores.index.names = ['Sampling', 'Transformation']"
   ],
   "metadata": {
    "collapsed": false,
    "pycharm": {
     "name": "#%%\n"
    }
   }
  },
  {
   "cell_type": "code",
   "execution_count": 23,
   "outputs": [],
   "source": [
    "dill.dump(xgb_def_dict, open('xgb_dict.p', \"wb\"))\n",
    "dill.dump(xgb_def_scores, open('xgb_def_scores.p', \"wb\"))"
   ],
   "metadata": {
    "collapsed": false,
    "pycharm": {
     "name": "#%%\n"
    }
   }
  },
  {
   "cell_type": "code",
   "execution_count": null,
   "outputs": [],
   "source": [
    "xgb_def_dict = dill.load(open(\"xgb_dict.p\", \"rb\"))\n",
    "xgb_def_scores = dill.load(open(\"xgb_def_scores.p\", \"rb\"))"
   ],
   "metadata": {
    "collapsed": false,
    "pycharm": {
     "name": "#%%\n"
    }
   }
  },
  {
   "cell_type": "code",
   "execution_count": 24,
   "outputs": [
    {
     "data": {
      "text/plain": "                     AUC           AvgPrecision          \n                    mean       std         mean       std\nTransformation                                           \ndefault         0.981119  0.002441     0.870946  0.002196\nIso_001         0.977251  0.005118     0.865267  0.004106\nIso_005         0.982754  0.002362     0.809052  0.021465\nIso_010         0.981526  0.002179     0.813809  0.018561",
      "text/html": "<div>\n<style scoped>\n    .dataframe tbody tr th:only-of-type {\n        vertical-align: middle;\n    }\n\n    .dataframe tbody tr th {\n        vertical-align: top;\n    }\n\n    .dataframe thead tr th {\n        text-align: left;\n    }\n\n    .dataframe thead tr:last-of-type th {\n        text-align: right;\n    }\n</style>\n<table border=\"1\" class=\"dataframe\">\n  <thead>\n    <tr>\n      <th></th>\n      <th colspan=\"2\" halign=\"left\">AUC</th>\n      <th colspan=\"2\" halign=\"left\">AvgPrecision</th>\n    </tr>\n    <tr>\n      <th></th>\n      <th>mean</th>\n      <th>std</th>\n      <th>mean</th>\n      <th>std</th>\n    </tr>\n    <tr>\n      <th>Transformation</th>\n      <th></th>\n      <th></th>\n      <th></th>\n      <th></th>\n    </tr>\n  </thead>\n  <tbody>\n    <tr>\n      <th>default</th>\n      <td>0.981119</td>\n      <td>0.002441</td>\n      <td>0.870946</td>\n      <td>0.002196</td>\n    </tr>\n    <tr>\n      <th>Iso_001</th>\n      <td>0.977251</td>\n      <td>0.005118</td>\n      <td>0.865267</td>\n      <td>0.004106</td>\n    </tr>\n    <tr>\n      <th>Iso_005</th>\n      <td>0.982754</td>\n      <td>0.002362</td>\n      <td>0.809052</td>\n      <td>0.021465</td>\n    </tr>\n    <tr>\n      <th>Iso_010</th>\n      <td>0.981526</td>\n      <td>0.002179</td>\n      <td>0.813809</td>\n      <td>0.018561</td>\n    </tr>\n  </tbody>\n</table>\n</div>"
     },
     "execution_count": 24,
     "metadata": {},
     "output_type": "execute_result"
    }
   ],
   "source": [
    "xgb_def_scores.groupby('Transformation').agg(['mean','std'])"
   ],
   "metadata": {
    "collapsed": false,
    "pycharm": {
     "name": "#%%\n"
    }
   }
  },
  {
   "cell_type": "code",
   "execution_count": 25,
   "outputs": [
    {
     "data": {
      "text/plain": "                 AUC           AvgPrecision          \n                mean       std         mean       std\nSampling                                             \nnotSampled  0.976454  0.005169     0.846119  0.029750\nSMOTE       0.980907  0.003252     0.837930  0.038664\nADASYN      0.982406  0.002204     0.838124  0.036226\nSMOTEENN    0.981758  0.002448     0.828187  0.044786\nSMOTETomek  0.981789  0.002395     0.848484  0.021488",
      "text/html": "<div>\n<style scoped>\n    .dataframe tbody tr th:only-of-type {\n        vertical-align: middle;\n    }\n\n    .dataframe tbody tr th {\n        vertical-align: top;\n    }\n\n    .dataframe thead tr th {\n        text-align: left;\n    }\n\n    .dataframe thead tr:last-of-type th {\n        text-align: right;\n    }\n</style>\n<table border=\"1\" class=\"dataframe\">\n  <thead>\n    <tr>\n      <th></th>\n      <th colspan=\"2\" halign=\"left\">AUC</th>\n      <th colspan=\"2\" halign=\"left\">AvgPrecision</th>\n    </tr>\n    <tr>\n      <th></th>\n      <th>mean</th>\n      <th>std</th>\n      <th>mean</th>\n      <th>std</th>\n    </tr>\n    <tr>\n      <th>Sampling</th>\n      <th></th>\n      <th></th>\n      <th></th>\n      <th></th>\n    </tr>\n  </thead>\n  <tbody>\n    <tr>\n      <th>notSampled</th>\n      <td>0.976454</td>\n      <td>0.005169</td>\n      <td>0.846119</td>\n      <td>0.029750</td>\n    </tr>\n    <tr>\n      <th>SMOTE</th>\n      <td>0.980907</td>\n      <td>0.003252</td>\n      <td>0.837930</td>\n      <td>0.038664</td>\n    </tr>\n    <tr>\n      <th>ADASYN</th>\n      <td>0.982406</td>\n      <td>0.002204</td>\n      <td>0.838124</td>\n      <td>0.036226</td>\n    </tr>\n    <tr>\n      <th>SMOTEENN</th>\n      <td>0.981758</td>\n      <td>0.002448</td>\n      <td>0.828187</td>\n      <td>0.044786</td>\n    </tr>\n    <tr>\n      <th>SMOTETomek</th>\n      <td>0.981789</td>\n      <td>0.002395</td>\n      <td>0.848484</td>\n      <td>0.021488</td>\n    </tr>\n  </tbody>\n</table>\n</div>"
     },
     "execution_count": 25,
     "metadata": {},
     "output_type": "execute_result"
    }
   ],
   "source": [
    "xgb_def_scores.groupby('Sampling').agg(['mean','std'])"
   ],
   "metadata": {
    "collapsed": false,
    "pycharm": {
     "name": "#%%\n"
    }
   }
  },
  {
   "cell_type": "code",
   "execution_count": 26,
   "outputs": [
    {
     "data": {
      "text/plain": "0.9806626650554708"
     },
     "execution_count": 26,
     "metadata": {},
     "output_type": "execute_result"
    }
   ],
   "source": [
    "xgb_def_scores['AUC'].mean()"
   ],
   "metadata": {
    "collapsed": false,
    "pycharm": {
     "name": "#%%\n"
    }
   }
  },
  {
   "cell_type": "markdown",
   "source": [
    "### 5.1.2 XGBoost- scale_pos_weight"
   ],
   "metadata": {
    "collapsed": false,
    "pycharm": {
     "name": "#%% md\n"
    }
   }
  },
  {
   "cell_type": "code",
   "execution_count": 27,
   "outputs": [],
   "source": [
    "from xgboost import XGBClassifier\n",
    "from sklearn.metrics import roc_auc_score"
   ],
   "metadata": {
    "collapsed": false,
    "pycharm": {
     "name": "#%%\n"
    }
   }
  },
  {
   "cell_type": "markdown",
   "source": [
    "scale_pos_weight = total_negative_examples / total_positive_examples"
   ],
   "metadata": {
    "collapsed": false,
    "pycharm": {
     "name": "#%% md\n"
    }
   }
  },
  {
   "cell_type": "code",
   "execution_count": 38,
   "outputs": [
    {
     "name": "stdout",
     "output_type": "stream",
     "text": [
      "The AUC score is: 0.9722808017410679\n",
      "The Average Precision score is: 0.8725314995962937\n",
      "model 1 sampling notSampled transformingdefault fitted in 20.984s\n",
      "The AUC score is: 0.979056635667773\n",
      "The Average Precision score is: 0.865528542374344\n",
      "model 2 sampling notSampled transformingIso_001 fitted in 18.754s\n",
      "The AUC score is: 0.9790094410724335\n",
      "The Average Precision score is: 0.810606325168496\n",
      "model 3 sampling notSampled transformingIso_005 fitted in 18.268s\n",
      "The AUC score is: 0.9815528349775475\n",
      "The Average Precision score is: 0.8301636078799205\n",
      "model 4 sampling notSampled transformingIso_010 fitted in 17.458s\n",
      "The AUC score is: 0.9826937598337028\n",
      "The Average Precision score is: 0.8717382525383007\n",
      "model 5 sampling SMOTE transformingdefault fitted in 39.501s\n",
      "The AUC score is: 0.9776145088029584\n",
      "The Average Precision score is: 0.8708396169651744\n",
      "model 6 sampling SMOTE transformingIso_001 fitted in 39.607s\n",
      "The AUC score is: 0.9845371304824688\n",
      "The Average Precision score is: 0.8086419660425381\n",
      "model 7 sampling SMOTE transformingIso_005 fitted in 40.785s\n",
      "The AUC score is: 0.9787812740459155\n",
      "The Average Precision score is: 0.8005003366918683\n",
      "model 8 sampling SMOTE transformingIso_010 fitted in 40.930s\n",
      "The AUC score is: 0.982411668944449\n",
      "The Average Precision score is: 0.8732357545451487\n",
      "model 9 sampling ADASYN transformingdefault fitted in 38.875s\n",
      "The AUC score is: 0.9840484959459305\n",
      "The Average Precision score is: 0.8623272498723866\n",
      "model 10 sampling ADASYN transformingIso_001 fitted in 39.344s\n",
      "The AUC score is: 0.9782847438356321\n",
      "The Average Precision score is: 0.8309063643212826\n",
      "model 11 sampling ADASYN transformingIso_005 fitted in 39.973s\n",
      "The AUC score is: 0.9853487698540306\n",
      "The Average Precision score is: 0.8151998422539692\n",
      "model 12 sampling ADASYN transformingIso_010 fitted in 39.994s\n",
      "The AUC score is: 0.985114411901508\n",
      "The Average Precision score is: 0.8689518661749178\n",
      "model 13 sampling SMOTEENN transformingdefault fitted in 35.766s\n",
      "The AUC score is: 0.9803177003778438\n",
      "The Average Precision score is: 0.8652445396884438\n",
      "model 14 sampling SMOTEENN transformingIso_001 fitted in 35.384s\n",
      "The AUC score is: 0.9829342189886647\n",
      "The Average Precision score is: 0.7204673959899509\n",
      "model 15 sampling SMOTEENN transformingIso_005 fitted in 35.451s\n",
      "The AUC score is: 0.9760833761613819\n",
      "The Average Precision score is: 0.8010916162740372\n",
      "model 16 sampling SMOTEENN transformingIso_010 fitted in 35.660s\n",
      "The AUC score is: 0.9813283466172062\n",
      "The Average Precision score is: 0.867096287262803\n",
      "model 17 sampling SMOTETomek transformingdefault fitted in 48.641s\n",
      "The AUC score is: 0.9785847794379428\n",
      "The Average Precision score is: 0.8638654409813166\n",
      "model 18 sampling SMOTETomek transformingIso_001 fitted in 40.331s\n",
      "The AUC score is: 0.9835307012506747\n",
      "The Average Precision score is: 0.8420789777474473\n",
      "model 19 sampling SMOTETomek transformingIso_005 fitted in 40.131s\n",
      "The AUC score is: 0.983711583958288\n",
      "The Average Precision score is: 0.8208935179907365\n",
      "model 20 sampling SMOTETomek transformingIso_010 fitted in 40.218s\n"
     ]
    }
   ],
   "source": [
    "from collections import defaultdict\n",
    "\n",
    "xgb_spw_dict = defaultdict(dict)\n",
    "xgb_spw_scores = defaultdict(dict)\n",
    "i = 1\n",
    "\n",
    "for data_set in data_dict_sampled:\n",
    "    for key in data_dict_sampled[data_set]:\n",
    "        tic = time()\n",
    "        spw = np.sum(data_dict_sampled[data_set][key][1]['Class']==0) / np.sum(data_dict_sampled[data_set][key][1]['Class']==1)\n",
    "        xgb = XGBClassifier(scale_pos_weight= spw)\n",
    "        xgb.fit(data_dict_sampled[data_set][key][0], data_dict_sampled[data_set][key][1])\n",
    "        predictions = xgb.predict_proba(X_test)[:, 1]\n",
    "        xgb_spw_dict[data_set][key] = xgb\n",
    "        xgb_spw_scores[data_set][key] = [roc_auc_score(y_test, predictions), average_precision_score(y_test, predictions)]\n",
    "        summary_score(y_test, predictions)\n",
    "        print(f\"model\",i , 'sampling' , f\"{data_set}\" , 'transforming' f\"{key}\",f\"fitted in {time() - tic:.3f}s\")\n",
    "        i += 1\n",
    "\n",
    "xgb_spw_scores = pd.concat({k: pd.DataFrame.from_dict(v, 'index') for k, v in xgb_spw_scores.items()}, axis=0)\n",
    "xgb_spw_scores.rename(columns={0: 'AUC', 1: 'AvgPrecision', 2: 'det_curve', 3:'perc_recall'}, inplace=True)\n",
    "xgb_spw_scores.index.names = ['Sampling', 'Transformation']"
   ],
   "metadata": {
    "collapsed": false,
    "pycharm": {
     "name": "#%%\n"
    }
   }
  },
  {
   "cell_type": "code",
   "execution_count": 39,
   "outputs": [],
   "source": [
    "dill.dump(xgb_spw_dict, open('xgb_spw_dict.p', \"wb\"))\n",
    "dill.dump(xgb_spw_scores, open('xgb_spw_scores.p', \"wb\"))"
   ],
   "metadata": {
    "collapsed": false,
    "pycharm": {
     "name": "#%%\n"
    }
   }
  },
  {
   "cell_type": "code",
   "execution_count": 40,
   "outputs": [],
   "source": [
    "xgb_spw_dict = dill.load(open(\"xgb_spw_dict.p\", \"rb\"))\n",
    "xgb_spw_scores = dill.load(open(\"xgb_spw_scores.p\", \"rb\"))"
   ],
   "metadata": {
    "collapsed": false,
    "pycharm": {
     "name": "#%%\n"
    }
   }
  },
  {
   "cell_type": "code",
   "execution_count": 41,
   "outputs": [
    {
     "data": {
      "text/plain": "                     AUC           AvgPrecision          \n                    mean       std         mean       std\nTransformation                                           \ndefault         0.980766  0.004941     0.870711  0.002593\nIso_001         0.979924  0.002502     0.865561  0.003213\nIso_005         0.981659  0.002820     0.802540  0.047974\nIso_010         0.981096  0.003729     0.813570  0.012827",
      "text/html": "<div>\n<style scoped>\n    .dataframe tbody tr th:only-of-type {\n        vertical-align: middle;\n    }\n\n    .dataframe tbody tr th {\n        vertical-align: top;\n    }\n\n    .dataframe thead tr th {\n        text-align: left;\n    }\n\n    .dataframe thead tr:last-of-type th {\n        text-align: right;\n    }\n</style>\n<table border=\"1\" class=\"dataframe\">\n  <thead>\n    <tr>\n      <th></th>\n      <th colspan=\"2\" halign=\"left\">AUC</th>\n      <th colspan=\"2\" halign=\"left\">AvgPrecision</th>\n    </tr>\n    <tr>\n      <th></th>\n      <th>mean</th>\n      <th>std</th>\n      <th>mean</th>\n      <th>std</th>\n    </tr>\n    <tr>\n      <th>Transformation</th>\n      <th></th>\n      <th></th>\n      <th></th>\n      <th></th>\n    </tr>\n  </thead>\n  <tbody>\n    <tr>\n      <th>default</th>\n      <td>0.980766</td>\n      <td>0.004941</td>\n      <td>0.870711</td>\n      <td>0.002593</td>\n    </tr>\n    <tr>\n      <th>Iso_001</th>\n      <td>0.979924</td>\n      <td>0.002502</td>\n      <td>0.865561</td>\n      <td>0.003213</td>\n    </tr>\n    <tr>\n      <th>Iso_005</th>\n      <td>0.981659</td>\n      <td>0.002820</td>\n      <td>0.802540</td>\n      <td>0.047974</td>\n    </tr>\n    <tr>\n      <th>Iso_010</th>\n      <td>0.981096</td>\n      <td>0.003729</td>\n      <td>0.813570</td>\n      <td>0.012827</td>\n    </tr>\n  </tbody>\n</table>\n</div>"
     },
     "execution_count": 41,
     "metadata": {},
     "output_type": "execute_result"
    }
   ],
   "source": [
    "xgb_spw_scores.groupby('Transformation').agg(['mean','std'])"
   ],
   "metadata": {
    "collapsed": false,
    "pycharm": {
     "name": "#%%\n"
    }
   }
  },
  {
   "cell_type": "code",
   "execution_count": 42,
   "outputs": [
    {
     "data": {
      "text/plain": "                 AUC           AvgPrecision          \n                mean       std         mean       std\nSampling                                             \nnotSampled  0.977975  0.003978     0.844707  0.029338\nSMOTE       0.980907  0.003252     0.837930  0.038664\nADASYN      0.982523  0.003071     0.845417  0.026978\nSMOTEENN    0.981112  0.003884     0.813939  0.069667\nSMOTETomek  0.981789  0.002395     0.848484  0.021488",
      "text/html": "<div>\n<style scoped>\n    .dataframe tbody tr th:only-of-type {\n        vertical-align: middle;\n    }\n\n    .dataframe tbody tr th {\n        vertical-align: top;\n    }\n\n    .dataframe thead tr th {\n        text-align: left;\n    }\n\n    .dataframe thead tr:last-of-type th {\n        text-align: right;\n    }\n</style>\n<table border=\"1\" class=\"dataframe\">\n  <thead>\n    <tr>\n      <th></th>\n      <th colspan=\"2\" halign=\"left\">AUC</th>\n      <th colspan=\"2\" halign=\"left\">AvgPrecision</th>\n    </tr>\n    <tr>\n      <th></th>\n      <th>mean</th>\n      <th>std</th>\n      <th>mean</th>\n      <th>std</th>\n    </tr>\n    <tr>\n      <th>Sampling</th>\n      <th></th>\n      <th></th>\n      <th></th>\n      <th></th>\n    </tr>\n  </thead>\n  <tbody>\n    <tr>\n      <th>notSampled</th>\n      <td>0.977975</td>\n      <td>0.003978</td>\n      <td>0.844707</td>\n      <td>0.029338</td>\n    </tr>\n    <tr>\n      <th>SMOTE</th>\n      <td>0.980907</td>\n      <td>0.003252</td>\n      <td>0.837930</td>\n      <td>0.038664</td>\n    </tr>\n    <tr>\n      <th>ADASYN</th>\n      <td>0.982523</td>\n      <td>0.003071</td>\n      <td>0.845417</td>\n      <td>0.026978</td>\n    </tr>\n    <tr>\n      <th>SMOTEENN</th>\n      <td>0.981112</td>\n      <td>0.003884</td>\n      <td>0.813939</td>\n      <td>0.069667</td>\n    </tr>\n    <tr>\n      <th>SMOTETomek</th>\n      <td>0.981789</td>\n      <td>0.002395</td>\n      <td>0.848484</td>\n      <td>0.021488</td>\n    </tr>\n  </tbody>\n</table>\n</div>"
     },
     "execution_count": 42,
     "metadata": {},
     "output_type": "execute_result"
    }
   ],
   "source": [
    "xgb_spw_scores.groupby('Sampling').agg(['mean','std'])"
   ],
   "metadata": {
    "collapsed": false,
    "pycharm": {
     "name": "#%%\n"
    }
   }
  },
  {
   "cell_type": "markdown",
   "source": [
    "## 5.2. LightGBM"
   ],
   "metadata": {
    "collapsed": false,
    "pycharm": {
     "name": "#%% md\n"
    }
   }
  },
  {
   "cell_type": "code",
   "execution_count": 43,
   "outputs": [],
   "source": [
    "from lightgbm import LGBMClassifier"
   ],
   "metadata": {
    "collapsed": false,
    "pycharm": {
     "name": "#%%\n"
    }
   }
  },
  {
   "cell_type": "code",
   "execution_count": 47,
   "outputs": [],
   "source": [
    "%%capture\n",
    "from collections import defaultdict\n",
    "\n",
    "lgb_def_dict = defaultdict(dict)\n",
    "lgb_def_scores = defaultdict(dict)\n",
    "i = 1\n",
    "\n",
    "for data_set in data_dict_sampled:\n",
    "    for key in data_dict_sampled[data_set]:\n",
    "        tic = time()\n",
    "        lgb = LGBMClassifier()\n",
    "        lgb.fit(data_dict_sampled[data_set][key][0], data_dict_sampled[data_set][key][1])\n",
    "        predictions = lgb.predict_proba(X_test)[:, 1]\n",
    "        lgb_def_dict[data_set][key] = lgb\n",
    "        lgb_def_scores[data_set][key] = [roc_auc_score(y_test, predictions), average_precision_score(y_test, predictions)]\n",
    "        summary_score(y_test, predictions)\n",
    "        print(f\"model\",i , 'sampling' , f\"{data_set}\" , 'transforming' f\"{key}\",f\"fitted in {time() - tic:.3f}s\")\n",
    "        i += 1\n",
    "\n",
    "lgb_def_scores = pd.concat({k: pd.DataFrame.from_dict(v, 'index') for k, v in lgb_def_scores.items()}, axis=0)\n",
    "lgb_def_scores.rename(columns={0: 'AUC', 1: 'AvgPrecision', 2: 'det_curve', 3:'perc_recall'}, inplace=True)\n",
    "lgb_def_scores.index.names = ['Sampling', 'Transformation']"
   ],
   "metadata": {
    "collapsed": false,
    "pycharm": {
     "name": "#%%\n"
    }
   }
  },
  {
   "cell_type": "code",
   "execution_count": 48,
   "outputs": [],
   "source": [
    "dill.dump(lgb_def_dict, open('lgb_dict.p', \"wb\"))\n",
    "dill.dump(lgb_def_scores, open('lgb_def_scores.p', \"wb\"))"
   ],
   "metadata": {
    "collapsed": false,
    "pycharm": {
     "name": "#%%\n"
    }
   }
  },
  {
   "cell_type": "code",
   "execution_count": 49,
   "outputs": [],
   "source": [
    "lgb_def_dict = dill.load(open(\"lgb_dict.p\", \"rb\"))\n",
    "lgb_def_scores = dill.load(open(\"lgb_def_scores.p\", \"rb\"))"
   ],
   "metadata": {
    "collapsed": false,
    "pycharm": {
     "name": "#%%\n"
    }
   }
  },
  {
   "cell_type": "code",
   "execution_count": 50,
   "outputs": [
    {
     "data": {
      "text/plain": "                     AUC           AvgPrecision          \n                    mean       std         mean       std\nTransformation                                           \ndefault         0.910702  0.104579     0.658305  0.255178\nIso_001         0.901932  0.069598     0.643263  0.196842\nIso_005         0.911831  0.118957     0.586090  0.257410\nIso_010         0.919217  0.112565     0.602693  0.217438",
      "text/html": "<div>\n<style scoped>\n    .dataframe tbody tr th:only-of-type {\n        vertical-align: middle;\n    }\n\n    .dataframe tbody tr th {\n        vertical-align: top;\n    }\n\n    .dataframe thead tr th {\n        text-align: left;\n    }\n\n    .dataframe thead tr:last-of-type th {\n        text-align: right;\n    }\n</style>\n<table border=\"1\" class=\"dataframe\">\n  <thead>\n    <tr>\n      <th></th>\n      <th colspan=\"2\" halign=\"left\">AUC</th>\n      <th colspan=\"2\" halign=\"left\">AvgPrecision</th>\n    </tr>\n    <tr>\n      <th></th>\n      <th>mean</th>\n      <th>std</th>\n      <th>mean</th>\n      <th>std</th>\n    </tr>\n    <tr>\n      <th>Transformation</th>\n      <th></th>\n      <th></th>\n      <th></th>\n      <th></th>\n    </tr>\n  </thead>\n  <tbody>\n    <tr>\n      <th>default</th>\n      <td>0.910702</td>\n      <td>0.104579</td>\n      <td>0.658305</td>\n      <td>0.255178</td>\n    </tr>\n    <tr>\n      <th>Iso_001</th>\n      <td>0.901932</td>\n      <td>0.069598</td>\n      <td>0.643263</td>\n      <td>0.196842</td>\n    </tr>\n    <tr>\n      <th>Iso_005</th>\n      <td>0.911831</td>\n      <td>0.118957</td>\n      <td>0.586090</td>\n      <td>0.257410</td>\n    </tr>\n    <tr>\n      <th>Iso_010</th>\n      <td>0.919217</td>\n      <td>0.112565</td>\n      <td>0.602693</td>\n      <td>0.217438</td>\n    </tr>\n  </tbody>\n</table>\n</div>"
     },
     "execution_count": 50,
     "metadata": {},
     "output_type": "execute_result"
    }
   ],
   "source": [
    "lgb_def_scores.groupby('Transformation').agg(['mean','std'])"
   ],
   "metadata": {
    "collapsed": false,
    "pycharm": {
     "name": "#%%\n"
    }
   }
  },
  {
   "cell_type": "code",
   "execution_count": 51,
   "outputs": [
    {
     "data": {
      "text/plain": "                 AUC           AvgPrecision          \n                mean       std         mean       std\nSampling                                             \nnotSampled  0.739199  0.050779     0.216832  0.069856\nSMOTE       0.935225  0.038849     0.726084  0.029969\nADASYN      0.947669  0.051951     0.739616  0.055180\nSMOTEENN    0.968749  0.005428     0.732084  0.047385\nSMOTETomek  0.963759  0.012274     0.698324  0.093946",
      "text/html": "<div>\n<style scoped>\n    .dataframe tbody tr th:only-of-type {\n        vertical-align: middle;\n    }\n\n    .dataframe tbody tr th {\n        vertical-align: top;\n    }\n\n    .dataframe thead tr th {\n        text-align: left;\n    }\n\n    .dataframe thead tr:last-of-type th {\n        text-align: right;\n    }\n</style>\n<table border=\"1\" class=\"dataframe\">\n  <thead>\n    <tr>\n      <th></th>\n      <th colspan=\"2\" halign=\"left\">AUC</th>\n      <th colspan=\"2\" halign=\"left\">AvgPrecision</th>\n    </tr>\n    <tr>\n      <th></th>\n      <th>mean</th>\n      <th>std</th>\n      <th>mean</th>\n      <th>std</th>\n    </tr>\n    <tr>\n      <th>Sampling</th>\n      <th></th>\n      <th></th>\n      <th></th>\n      <th></th>\n    </tr>\n  </thead>\n  <tbody>\n    <tr>\n      <th>notSampled</th>\n      <td>0.739199</td>\n      <td>0.050779</td>\n      <td>0.216832</td>\n      <td>0.069856</td>\n    </tr>\n    <tr>\n      <th>SMOTE</th>\n      <td>0.935225</td>\n      <td>0.038849</td>\n      <td>0.726084</td>\n      <td>0.029969</td>\n    </tr>\n    <tr>\n      <th>ADASYN</th>\n      <td>0.947669</td>\n      <td>0.051951</td>\n      <td>0.739616</td>\n      <td>0.055180</td>\n    </tr>\n    <tr>\n      <th>SMOTEENN</th>\n      <td>0.968749</td>\n      <td>0.005428</td>\n      <td>0.732084</td>\n      <td>0.047385</td>\n    </tr>\n    <tr>\n      <th>SMOTETomek</th>\n      <td>0.963759</td>\n      <td>0.012274</td>\n      <td>0.698324</td>\n      <td>0.093946</td>\n    </tr>\n  </tbody>\n</table>\n</div>"
     },
     "execution_count": 51,
     "metadata": {},
     "output_type": "execute_result"
    }
   ],
   "source": [
    "lgb_def_scores.groupby('Sampling').agg(['mean','std'])"
   ],
   "metadata": {
    "collapsed": false,
    "pycharm": {
     "name": "#%%\n"
    }
   }
  },
  {
   "cell_type": "code",
   "execution_count": 52,
   "outputs": [
    {
     "data": {
      "text/plain": "0.910920501870557"
     },
     "execution_count": 52,
     "metadata": {},
     "output_type": "execute_result"
    }
   ],
   "source": [
    "lgb_def_scores['AUC'].mean()"
   ],
   "metadata": {
    "collapsed": false,
    "pycharm": {
     "name": "#%%\n"
    }
   }
  },
  {
   "cell_type": "markdown",
   "source": [
    "## 5.3. Logistic Regression"
   ],
   "metadata": {
    "collapsed": false,
    "pycharm": {
     "name": "#%% md\n"
    }
   }
  },
  {
   "cell_type": "code",
   "execution_count": 53,
   "outputs": [],
   "source": [
    "from sklearn.linear_model import LogisticRegression"
   ],
   "metadata": {
    "collapsed": false,
    "pycharm": {
     "name": "#%%\n"
    }
   }
  },
  {
   "cell_type": "code",
   "execution_count": 54,
   "outputs": [],
   "source": [
    "%%capture\n",
    "from collections import defaultdict\n",
    "\n",
    "logit_dict = defaultdict(dict)\n",
    "logit_dict_scores = defaultdict(dict)\n",
    "i = 1\n",
    "\n",
    "for data_set in data_dict_sampled:\n",
    "    for key in data_dict_sampled[data_set]:\n",
    "        tic = time()\n",
    "        log = LogisticRegression()\n",
    "        log.fit(data_dict_sampled[data_set][key][0], data_dict_sampled[data_set][key][1])\n",
    "        predictions = log.predict_proba(X_test)[:, 1]\n",
    "        logit_dict[data_set][key] = log\n",
    "        logit_dict_scores[data_set][key] = [roc_auc_score(y_test, predictions),\n",
    "                                         average_precision_score(y_test, predictions)]\n",
    "        summary_score(y_test, predictions)\n",
    "        print(f\"model\", i, 'sampling', f\"{data_set}\", 'transforming' f\"{key}\", f\"fitted in {time() - tic:.3f}s\")\n",
    "        i += 1\n",
    "\n",
    "logit_dict_scores = pd.concat({k: pd.DataFrame.from_dict(v, 'index') for k, v in logit_dict_scores.items()}, axis=0)\n",
    "logit_dict_scores.rename(columns={0: 'AUC', 1: 'AvgPrecision'}, inplace=True)\n",
    "logit_dict_scores.index.names = ['Sampling', 'Transformation']"
   ],
   "metadata": {
    "collapsed": false,
    "pycharm": {
     "name": "#%%\n"
    }
   }
  },
  {
   "cell_type": "code",
   "execution_count": 55,
   "outputs": [],
   "source": [
    "dill.dump(logit_dict, open('logit_dict.p', \"wb\"))\n",
    "dill.dump(logit_dict_scores, open('logit_dict_scores.p', \"wb\"))"
   ],
   "metadata": {
    "collapsed": false,
    "pycharm": {
     "name": "#%%\n"
    }
   }
  },
  {
   "cell_type": "code",
   "execution_count": null,
   "outputs": [],
   "source": [
    "logit_dict = dill.load(open(\"logit_dict.p\", \"rb\"))\n",
    "logit_dict_scores = dill.load(open(\"logit_dict_scores.p\", \"rb\"))"
   ],
   "metadata": {
    "collapsed": false,
    "pycharm": {
     "name": "#%%\n"
    }
   }
  },
  {
   "cell_type": "code",
   "execution_count": 56,
   "outputs": [
    {
     "data": {
      "text/plain": "                     AUC  AvgPrecision\nTransformation                        \ndefault         0.965000      0.680191\nIso_001         0.965440      0.698219\nIso_005         0.968239      0.697384\nIso_010         0.968209      0.688394",
      "text/html": "<div>\n<style scoped>\n    .dataframe tbody tr th:only-of-type {\n        vertical-align: middle;\n    }\n\n    .dataframe tbody tr th {\n        vertical-align: top;\n    }\n\n    .dataframe thead th {\n        text-align: right;\n    }\n</style>\n<table border=\"1\" class=\"dataframe\">\n  <thead>\n    <tr style=\"text-align: right;\">\n      <th></th>\n      <th>AUC</th>\n      <th>AvgPrecision</th>\n    </tr>\n    <tr>\n      <th>Transformation</th>\n      <th></th>\n      <th></th>\n    </tr>\n  </thead>\n  <tbody>\n    <tr>\n      <th>default</th>\n      <td>0.965000</td>\n      <td>0.680191</td>\n    </tr>\n    <tr>\n      <th>Iso_001</th>\n      <td>0.965440</td>\n      <td>0.698219</td>\n    </tr>\n    <tr>\n      <th>Iso_005</th>\n      <td>0.968239</td>\n      <td>0.697384</td>\n    </tr>\n    <tr>\n      <th>Iso_010</th>\n      <td>0.968209</td>\n      <td>0.688394</td>\n    </tr>\n  </tbody>\n</table>\n</div>"
     },
     "execution_count": 56,
     "metadata": {},
     "output_type": "execute_result"
    }
   ],
   "source": [
    "logit_dict_scores.groupby('Transformation').mean()"
   ],
   "metadata": {
    "collapsed": false,
    "pycharm": {
     "name": "#%%\n"
    }
   }
  },
  {
   "cell_type": "code",
   "execution_count": 57,
   "outputs": [
    {
     "data": {
      "text/plain": "                 AUC  AvgPrecision\nSampling                          \nnotSampled  0.941606      0.670972\nSMOTE       0.972798      0.693465\nADASYN      0.972519      0.688944\nSMOTEENN    0.973844      0.700478\nSMOTETomek  0.972843      0.701376",
      "text/html": "<div>\n<style scoped>\n    .dataframe tbody tr th:only-of-type {\n        vertical-align: middle;\n    }\n\n    .dataframe tbody tr th {\n        vertical-align: top;\n    }\n\n    .dataframe thead th {\n        text-align: right;\n    }\n</style>\n<table border=\"1\" class=\"dataframe\">\n  <thead>\n    <tr style=\"text-align: right;\">\n      <th></th>\n      <th>AUC</th>\n      <th>AvgPrecision</th>\n    </tr>\n    <tr>\n      <th>Sampling</th>\n      <th></th>\n      <th></th>\n    </tr>\n  </thead>\n  <tbody>\n    <tr>\n      <th>notSampled</th>\n      <td>0.941606</td>\n      <td>0.670972</td>\n    </tr>\n    <tr>\n      <th>SMOTE</th>\n      <td>0.972798</td>\n      <td>0.693465</td>\n    </tr>\n    <tr>\n      <th>ADASYN</th>\n      <td>0.972519</td>\n      <td>0.688944</td>\n    </tr>\n    <tr>\n      <th>SMOTEENN</th>\n      <td>0.973844</td>\n      <td>0.700478</td>\n    </tr>\n    <tr>\n      <th>SMOTETomek</th>\n      <td>0.972843</td>\n      <td>0.701376</td>\n    </tr>\n  </tbody>\n</table>\n</div>"
     },
     "execution_count": 57,
     "metadata": {},
     "output_type": "execute_result"
    }
   ],
   "source": [
    "logit_dict_scores.groupby('Sampling').mean()"
   ],
   "metadata": {
    "collapsed": false,
    "pycharm": {
     "name": "#%%\n"
    }
   }
  },
  {
   "cell_type": "code",
   "execution_count": 58,
   "outputs": [
    {
     "data": {
      "text/plain": "0.9667218526408874"
     },
     "execution_count": 58,
     "metadata": {},
     "output_type": "execute_result"
    }
   ],
   "source": [
    "logit_dict_scores['AUC'].mean()"
   ],
   "metadata": {
    "collapsed": false,
    "pycharm": {
     "name": "#%%\n"
    }
   }
  },
  {
   "cell_type": "markdown",
   "source": [
    "## 5.n. Stacking"
   ],
   "metadata": {
    "collapsed": false,
    "pycharm": {
     "name": "#%% md\n"
    }
   }
  },
  {
   "cell_type": "markdown",
   "source": [
    "### 5.n.1. Stacking the XGboosts"
   ],
   "metadata": {
    "collapsed": false,
    "pycharm": {
     "name": "#%% md\n"
    }
   }
  },
  {
   "cell_type": "code",
   "execution_count": 153,
   "outputs": [],
   "source": [
    "from sklearn.ensemble import StackingClassifier\n",
    "from sklearn.linear_model import LogisticRegression"
   ],
   "metadata": {
    "collapsed": false,
    "pycharm": {
     "name": "#%%\n"
    }
   }
  },
  {
   "cell_type": "code",
   "execution_count": 154,
   "outputs": [],
   "source": [
    "level_0 = []\n",
    "\n",
    "for i in xgb_def_dict:\n",
    "    for j in xgb_def_dict[i]:\n",
    "        level_0.append((i+'_'+j, xgb_def_dict[i][j]))\n",
    "\n",
    "level_1 = LogisticRegression()\n",
    "\n",
    "stc_xgb = StackingClassifier(estimators=level_0,\n",
    "                               final_estimator=level_1,\n",
    "                               cv=5,\n",
    "                               n_jobs=-1)"
   ],
   "metadata": {
    "collapsed": false,
    "pycharm": {
     "name": "#%%\n"
    }
   }
  },
  {
   "cell_type": "code",
   "execution_count": 155,
   "outputs": [],
   "source": [
    "%%capture\n",
    "stc_xgb.fit(X_train, y_train)"
   ],
   "metadata": {
    "collapsed": false,
    "pycharm": {
     "name": "#%%\n"
    }
   }
  },
  {
   "cell_type": "code",
   "execution_count": 213,
   "outputs": [],
   "source": [
    "predictions = stc_xgb.predict_proba(X_test)[:,1]"
   ],
   "metadata": {
    "collapsed": false,
    "pycharm": {
     "name": "#%%\n"
    }
   }
  },
  {
   "cell_type": "code",
   "execution_count": 157,
   "outputs": [
    {
     "name": "stdout",
     "output_type": "stream",
     "text": [
      "The AUC score is: 0.9782144005604492\n",
      "The Average Precision score is: 0.8718013792999797\n"
     ]
    }
   ],
   "source": [
    "summary_score(y_test, predictions)"
   ],
   "metadata": {
    "collapsed": false,
    "pycharm": {
     "name": "#%%\n"
    }
   }
  },
  {
   "cell_type": "code",
   "execution_count": 158,
   "outputs": [],
   "source": [
    "dill.dump(stc_xgb, open('stc_xgb.p', \"wb\"))"
   ],
   "metadata": {
    "collapsed": false,
    "pycharm": {
     "name": "#%%\n"
    }
   }
  },
  {
   "cell_type": "code",
   "execution_count": null,
   "outputs": [],
   "source": [
    "stc_xgb = dill.load(open(\"stc_xgb.p\", \"rb\"))"
   ],
   "metadata": {
    "collapsed": false,
    "pycharm": {
     "name": "#%%\n"
    }
   }
  },
  {
   "cell_type": "markdown",
   "source": [
    "### Calibrating the XGboosts"
   ],
   "metadata": {
    "collapsed": false,
    "pycharm": {
     "name": "#%% md\n"
    }
   }
  },
  {
   "cell_type": "markdown",
   "source": [
    "https://towardsdatascience.com/calibrating-classifiers-559abc30711a"
   ],
   "metadata": {
    "collapsed": false,
    "pycharm": {
     "name": "#%% md\n"
    }
   }
  },
  {
   "cell_type": "code",
   "execution_count": 215,
   "outputs": [
    {
     "data": {
      "text/plain": "<Figure size 432x432 with 1 Axes>",
      "image/png": "[encoded data removed]"
     },
     "metadata": {
      "needs_background": "light"
     },
     "output_type": "display_data"
    }
   ],
   "source": [
    "calib_curve(y_train, stc_xgb.predict_proba(X_train)[:,1])"
   ],
   "metadata": {
    "collapsed": false,
    "pycharm": {
     "name": "#%%\n"
    }
   }
  },
  {
   "cell_type": "code",
   "execution_count": 216,
   "outputs": [
    {
     "data": {
      "text/plain": "<Figure size 432x432 with 1 Axes>",
      "image/png": "[encoded data removed]"
     },
     "metadata": {
      "needs_background": "light"
     },
     "output_type": "display_data"
    }
   ],
   "source": [
    "calib_curve(y_test, stc_xgb.predict_proba(X_test)[:,1])"
   ],
   "metadata": {
    "collapsed": false,
    "pycharm": {
     "name": "#%%\n"
    }
   }
  },
  {
   "cell_type": "code",
   "execution_count": 217,
   "outputs": [
    {
     "data": {
      "text/plain": "<Figure size 432x432 with 1 Axes>",
      "image/png": "[encoded data removed]"
     },
     "metadata": {
      "needs_background": "light"
     },
     "output_type": "display_data"
    }
   ],
   "source": [
    "calib_curve(y_val, stc_xgb.predict_proba(X_val)[:,1])"
   ],
   "metadata": {
    "collapsed": false,
    "pycharm": {
     "name": "#%%\n"
    }
   }
  },
  {
   "cell_type": "markdown",
   "source": [
    "### 5.n.2. Stacking the XGboosts Scale positive weights"
   ],
   "metadata": {
    "collapsed": false,
    "pycharm": {
     "name": "#%% md\n"
    }
   }
  },
  {
   "cell_type": "code",
   "execution_count": 153,
   "outputs": [],
   "source": [
    "from sklearn.ensemble import StackingClassifier\n",
    "from sklearn.linear_model import LogisticRegression"
   ],
   "metadata": {
    "collapsed": false,
    "pycharm": {
     "name": "#%%\n"
    }
   }
  },
  {
   "cell_type": "code",
   "execution_count": 172,
   "outputs": [],
   "source": [
    "level_0 = []\n",
    "\n",
    "for i in xgb_spw_dict:\n",
    "    for j in xgb_spw_dict[i]:\n",
    "        level_0.append((i+'_'+j, xgb_spw_dict[i][j]))\n",
    "\n",
    "level_1 = LogisticRegression()\n",
    "\n",
    "stc_xgb_spw = StackingClassifier(estimators=level_0,\n",
    "                               final_estimator=level_1,\n",
    "                               cv=5,\n",
    "                               n_jobs=-1)"
   ],
   "metadata": {
    "collapsed": false,
    "pycharm": {
     "name": "#%%\n"
    }
   }
  },
  {
   "cell_type": "code",
   "execution_count": 173,
   "outputs": [],
   "source": [
    "%%capture\n",
    "stc_xgb_spw.fit(X_train, y_train)"
   ],
   "metadata": {
    "collapsed": false,
    "pycharm": {
     "name": "#%%\n"
    }
   }
  },
  {
   "cell_type": "code",
   "execution_count": 174,
   "outputs": [],
   "source": [
    "predictions = stc_xgb_spw.predict_proba(X_test)[:,1]"
   ],
   "metadata": {
    "collapsed": false,
    "pycharm": {
     "name": "#%%\n"
    }
   }
  },
  {
   "cell_type": "code",
   "execution_count": 175,
   "outputs": [
    {
     "name": "stdout",
     "output_type": "stream",
     "text": [
      "The AUC score is: 0.978683295912625\n",
      "The Average Precision score is: 0.8879461778763236\n"
     ]
    }
   ],
   "source": [
    "summary_score(y_test, predictions)"
   ],
   "metadata": {
    "collapsed": false,
    "pycharm": {
     "name": "#%%\n"
    }
   }
  },
  {
   "cell_type": "code",
   "execution_count": 176,
   "outputs": [],
   "source": [
    "dill.dump(stc_xgb_spw, open('stc_xgb_spw.p', \"wb\"))"
   ],
   "metadata": {
    "collapsed": false,
    "pycharm": {
     "name": "#%%\n"
    }
   }
  },
  {
   "cell_type": "code",
   "execution_count": null,
   "outputs": [],
   "source": [
    "stc_xgb = dill.load(open(\"stc_xgb_spw.p\", \"rb\"))"
   ],
   "metadata": {
    "collapsed": false,
    "pycharm": {
     "name": "#%%\n"
    }
   }
  },
  {
   "cell_type": "markdown",
   "source": [
    "### 5.n.2. Stacking the LightGBMs"
   ],
   "metadata": {
    "collapsed": false,
    "pycharm": {
     "name": "#%% md\n"
    }
   }
  },
  {
   "cell_type": "code",
   "execution_count": 159,
   "outputs": [],
   "source": [
    "from sklearn.ensemble import StackingClassifier\n",
    "from sklearn.linear_model import LogisticRegression"
   ],
   "metadata": {
    "collapsed": false,
    "pycharm": {
     "name": "#%%\n"
    }
   }
  },
  {
   "cell_type": "code",
   "execution_count": 160,
   "outputs": [],
   "source": [
    "level_0 = []\n",
    "\n",
    "for i in lgb_def_dict:\n",
    "    for j in lgb_def_dict[i]:\n",
    "        level_0.append((i+'_'+j, lgb_def_dict[i][j]))\n",
    "\n",
    "level_1 = LogisticRegression()\n",
    "\n",
    "stc_lgb = StackingClassifier(estimators=level_0,\n",
    "                               final_estimator=level_1,\n",
    "                               cv=5,\n",
    "                               n_jobs=-1)"
   ],
   "metadata": {
    "collapsed": false,
    "pycharm": {
     "name": "#%%\n"
    }
   }
  },
  {
   "cell_type": "code",
   "execution_count": 161,
   "outputs": [],
   "source": [
    "%%capture\n",
    "stc_lgb.fit(X_train, y_train)"
   ],
   "metadata": {
    "collapsed": false,
    "pycharm": {
     "name": "#%%\n"
    }
   }
  },
  {
   "cell_type": "code",
   "execution_count": 162,
   "outputs": [],
   "source": [
    "predictions = stc_lgb.predict_proba(X_test)[:,1]"
   ],
   "metadata": {
    "collapsed": false,
    "pycharm": {
     "name": "#%%\n"
    }
   }
  },
  {
   "cell_type": "code",
   "execution_count": 163,
   "outputs": [
    {
     "name": "stdout",
     "output_type": "stream",
     "text": [
      "The AUC score is: 0.7611573047902335\n",
      "The Average Precision score is: 0.20758563995128002\n"
     ]
    }
   ],
   "source": [
    "summary_score(y_test, predictions)"
   ],
   "metadata": {
    "collapsed": false,
    "pycharm": {
     "name": "#%%\n"
    }
   }
  },
  {
   "cell_type": "code",
   "execution_count": 164,
   "outputs": [],
   "source": [
    "dill.dump(stc_lgb, open('stc_lgb.p', \"wb\"))"
   ],
   "metadata": {
    "collapsed": false,
    "pycharm": {
     "name": "#%%\n"
    }
   }
  },
  {
   "cell_type": "code",
   "execution_count": null,
   "outputs": [],
   "source": [
    "stc_lgb = dill.load(open(\"stc_lgb.p\", \"rb\"))"
   ],
   "metadata": {
    "collapsed": false,
    "pycharm": {
     "name": "#%%\n"
    }
   }
  },
  {
   "cell_type": "markdown",
   "source": [
    "### 5.n.3. Stacking the Logistic Regressions"
   ],
   "metadata": {
    "collapsed": false,
    "pycharm": {
     "name": "#%% md\n"
    }
   }
  },
  {
   "cell_type": "code",
   "execution_count": 165,
   "outputs": [],
   "source": [
    "level_0 = []\n",
    "\n",
    "for i in logit_dict:\n",
    "    for j in logit_dict[i]:\n",
    "        level_0.append((i+'_'+j, logit_dict[i][j]))\n",
    "\n",
    "level_1 = LogisticRegression()\n",
    "\n",
    "stc_log = StackingClassifier(estimators=level_0,\n",
    "                               final_estimator=level_1,\n",
    "                               cv=5,\n",
    "                               n_jobs=-1)"
   ],
   "metadata": {
    "collapsed": false,
    "pycharm": {
     "name": "#%%\n"
    }
   }
  },
  {
   "cell_type": "code",
   "execution_count": 166,
   "outputs": [],
   "source": [
    "%%capture\n",
    "stc_log.fit(X_train, y_train)"
   ],
   "metadata": {
    "collapsed": false,
    "pycharm": {
     "name": "#%%\n"
    }
   }
  },
  {
   "cell_type": "code",
   "execution_count": 167,
   "outputs": [],
   "source": [
    "predictions = stc_log.predict_proba(X_test)[:,1]"
   ],
   "metadata": {
    "collapsed": false,
    "pycharm": {
     "name": "#%%\n"
    }
   }
  },
  {
   "cell_type": "code",
   "execution_count": 168,
   "outputs": [
    {
     "name": "stdout",
     "output_type": "stream",
     "text": [
      "The AUC score is: 0.9488092965098252\n",
      "The Average Precision score is: 0.656643168778582\n"
     ]
    }
   ],
   "source": [
    "summary_score(y_test, predictions)"
   ],
   "metadata": {
    "collapsed": false,
    "pycharm": {
     "name": "#%%\n"
    }
   }
  },
  {
   "cell_type": "code",
   "execution_count": 169,
   "outputs": [],
   "source": [
    "dill.dump(stc_log, open('stc_log.p', \"wb\"))"
   ],
   "metadata": {
    "collapsed": false,
    "pycharm": {
     "name": "#%%\n"
    }
   }
  },
  {
   "cell_type": "code",
   "execution_count": null,
   "outputs": [],
   "source": [
    "stc_log = dill.load(open(\"stc_log.p\", \"rb\"))"
   ],
   "metadata": {
    "collapsed": false,
    "pycharm": {
     "name": "#%%\n"
    }
   }
  },
  {
   "cell_type": "markdown",
   "source": [
    "### 5.n.4. Stacking all three models"
   ],
   "metadata": {
    "collapsed": false,
    "pycharm": {
     "name": "#%% md\n"
    }
   }
  },
  {
   "cell_type": "code",
   "execution_count": 179,
   "outputs": [],
   "source": [
    "level_0 = []\n",
    "\n",
    "for i in xgb_def_dict:\n",
    "    for j in xgb_def_dict[i]:\n",
    "        level_0.append((i+'_'+j+'xgb', xgb_def_dict[i][j]))\n",
    "\n",
    "for i in xgb_spw_dict:\n",
    "    for j in xgb_spw_dict[i]:\n",
    "        level_0.append((i+'_'+j+'spw', xgb_spw_dict[i][j]))\n",
    "\n",
    "for i in logit_dict:\n",
    "    for j in logit_dict[i]:\n",
    "        level_0.append((i+'_'+j+'log', logit_dict[i][j]))\n",
    "\n",
    "for i in lgb_def_dict:\n",
    "    for j in lgb_def_dict[i]:\n",
    "        level_0.append((i+'_'+j+'lgb', lgb_def_dict[i][j]))\n",
    "\n",
    "level_1 = LogisticRegression()\n",
    "\n",
    "stc_all = StackingClassifier(estimators=level_0,\n",
    "                               final_estimator=level_1,\n",
    "                               cv=5)"
   ],
   "metadata": {
    "collapsed": false,
    "pycharm": {
     "name": "#%%\n"
    }
   }
  },
  {
   "cell_type": "code",
   "execution_count": 180,
   "outputs": [],
   "source": [
    "%%capture\n",
    "stc_all.fit(X_train, y_train)"
   ],
   "metadata": {
    "collapsed": false,
    "pycharm": {
     "name": "#%%\n"
    }
   }
  },
  {
   "cell_type": "code",
   "execution_count": 181,
   "outputs": [],
   "source": [
    "predictions = stc_all.predict_proba(X_test)[:,1]"
   ],
   "metadata": {
    "collapsed": false,
    "pycharm": {
     "name": "#%%\n"
    }
   }
  },
  {
   "cell_type": "code",
   "execution_count": 182,
   "outputs": [
    {
     "name": "stdout",
     "output_type": "stream",
     "text": [
      "The AUC score is: 0.9737436547494631\n",
      "The Average Precision score is: 0.8666635917195962\n"
     ]
    }
   ],
   "source": [
    "summary_score(y_test, predictions)"
   ],
   "metadata": {
    "collapsed": false,
    "pycharm": {
     "name": "#%%\n"
    }
   }
  },
  {
   "cell_type": "code",
   "execution_count": 183,
   "outputs": [],
   "source": [
    "dill.dump(stc_all, open('stc_all.p', \"wb\"))"
   ],
   "metadata": {
    "collapsed": false,
    "pycharm": {
     "name": "#%%\n"
    }
   }
  },
  {
   "cell_type": "code",
   "execution_count": null,
   "outputs": [],
   "source": [],
   "metadata": {
    "collapsed": false,
    "pycharm": {
     "name": "#%%\n"
    }
   }
  },
  {
   "cell_type": "code",
   "execution_count": null,
   "outputs": [],
   "source": [],
   "metadata": {
    "collapsed": false,
    "pycharm": {
     "name": "#%%\n"
    }
   }
  },
  {
   "cell_type": "code",
   "execution_count": null,
   "outputs": [],
   "source": [
    "stc_class.fit(X_train, y_train)"
   ],
   "metadata": {
    "collapsed": false,
    "pycharm": {
     "name": "#%%\n"
    }
   }
  },
  {
   "cell_type": "code",
   "execution_count": null,
   "outputs": [],
   "source": [
    "predictions = stc_class.predict_proba(X_test)[:,1]"
   ],
   "metadata": {
    "collapsed": false,
    "pycharm": {
     "name": "#%%\n"
    }
   }
  },
  {
   "cell_type": "code",
   "execution_count": null,
   "outputs": [],
   "source": [
    "summary_score(y_test, predictions)"
   ],
   "metadata": {
    "collapsed": false,
    "pycharm": {
     "name": "#%%\n"
    }
   }
  },
  {
   "cell_type": "code",
   "execution_count": null,
   "outputs": [],
   "source": [
    "# funcion showing summary score for auc and average percision\n",
    "def summary_score(y_test, predictions):\n",
    "    print('The AUC score is:',roc_auc_score(y_test, predictions))\n",
    "    print('The Average Precision score is:',average_precision_score(y_test, predictions))"
   ],
   "metadata": {
    "collapsed": false,
    "pycharm": {
     "name": "#%%\n"
    }
   }
  },
  {
   "cell_type": "code",
   "execution_count": null,
   "outputs": [],
   "source": [
    "# function for plotting AUC and AvgPrecision\n",
    "def plot_performance(y_test, predictions):\n",
    "    fig, (ax1, ax2) = plt.subplots(1, 2, figsize=(13,6))\n",
    "    fig.suptitle('Model Performance')\n",
    "\n",
    "    from sklearn.metrics import roc_curve\n",
    "    y_pred_proba = predictions\n",
    "    fpr, tpr, _ = roc_curve(y_test, y_pred_proba)\n",
    "    #create ROC curve\n",
    "    ax1.plot(fpr, tpr)\n",
    "    ax1.set_ylabel('True Positive Rate')\n",
    "    ax1.set_xlabel('False Positive Rate')\n",
    "\n",
    "    from sklearn.metrics import precision_recall_curve\n",
    "    precision, recall, _ = precision_recall_curve(y_test, predictions)\n",
    "    ax2.plot(precision, recall,'Orange')\n",
    "    #create ROC curve\n",
    "    ax2.set_ylabel('Precision')\n",
    "    ax2.set_xlabel('Recall')"
   ],
   "metadata": {
    "collapsed": false,
    "pycharm": {
     "name": "#%%\n"
    }
   }
  },
  {
   "cell_type": "code",
   "execution_count": null,
   "outputs": [],
   "source": [
    "# calibration curve\n",
    "def calib_curve(y_test,predictions):\n",
    "    from sklearn.calibration import calibration_curve\n",
    "\n",
    "    plt.rcParams['figure.figsize'] = [6, 6]\n",
    "    # Creating Calibration Curve\n",
    "    x, y = calibration_curve(y_test, predictions, n_bins = 20)\n",
    "\n",
    "    # Plot calibration curve\n",
    "\n",
    "    # Plot perfectly calibrated\n",
    "    plt.plot([0, 1], [0, 1], linestyle = '--', label = 'Ideally Calibrated')\n",
    "\n",
    "    # Plot model's calibration curve\n",
    "    plt.plot(y, x, marker = '.', label = 'Classifier')\n",
    "\n",
    "    sns.rugplot(predictions, height=0.025,  color='k')\n",
    "\n",
    "    leg = plt.legend(loc = 'upper left')\n",
    "    plt.xlabel('Average Predicted Probability in each bin')\n",
    "    plt.ylabel('Ratio of positives')\n",
    "    plt.show()"
   ],
   "metadata": {
    "collapsed": false,
    "pycharm": {
     "name": "#%%\n"
    }
   }
  },
  {
   "cell_type": "markdown",
   "source": [
    "# Validation results"
   ],
   "metadata": {
    "collapsed": false,
    "pycharm": {
     "name": "#%% md\n"
    }
   }
  },
  {
   "cell_type": "markdown",
   "source": [
    "Since during model tunning steps, I was using X_test and y_test to tune the steps, I use a final validation set which has not been used before at all to have a metric of the performance on an unseen data, and not the one that I was indirectly finetunning towards. It turns out that the stack of default XGBoost model has the best performance."
   ],
   "metadata": {
    "collapsed": false,
    "pycharm": {
     "name": "#%% md\n"
    }
   }
  },
  {
   "cell_type": "markdown",
   "source": [
    "#### 1 - winner - XGB Default stack"
   ],
   "metadata": {
    "collapsed": false,
    "pycharm": {
     "name": "#%% md\n"
    }
   }
  },
  {
   "cell_type": "code",
   "execution_count": 202,
   "outputs": [],
   "source": [
    "predictions = stc_xgb.predict_proba(X_val)[:,1]"
   ],
   "metadata": {
    "collapsed": false,
    "pycharm": {
     "name": "#%%\n"
    }
   }
  },
  {
   "cell_type": "code",
   "execution_count": 203,
   "outputs": [
    {
     "name": "stdout",
     "output_type": "stream",
     "text": [
      "The AUC score is: 0.9705446460621475\n",
      "The Average Precision score is: 0.8328709518293751\n"
     ]
    }
   ],
   "source": [
    "summary_score(y_val, predictions)"
   ],
   "metadata": {
    "collapsed": false,
    "pycharm": {
     "name": "#%%\n"
    }
   }
  },
  {
   "cell_type": "markdown",
   "source": [
    "#### 2 - second place - XGB with scale positive rate stack"
   ],
   "metadata": {
    "collapsed": false,
    "pycharm": {
     "name": "#%% md\n"
    }
   }
  },
  {
   "cell_type": "code",
   "execution_count": 204,
   "outputs": [],
   "source": [
    "predictions = stc_xgb_spw.predict_proba(X_val)[:,1]"
   ],
   "metadata": {
    "collapsed": false,
    "pycharm": {
     "name": "#%%\n"
    }
   }
  },
  {
   "cell_type": "code",
   "execution_count": 205,
   "outputs": [
    {
     "name": "stdout",
     "output_type": "stream",
     "text": [
      "The AUC score is: 0.9700476666175067\n",
      "The Average Precision score is: 0.8457526727134628\n"
     ]
    }
   ],
   "source": [
    "summary_score(y_val, predictions)"
   ],
   "metadata": {
    "collapsed": false,
    "pycharm": {
     "name": "#%%\n"
    }
   }
  },
  {
   "cell_type": "markdown",
   "source": [
    "#### 3 - third place - All trained models stack"
   ],
   "metadata": {
    "collapsed": false,
    "pycharm": {
     "name": "#%% md\n"
    }
   }
  },
  {
   "cell_type": "code",
   "execution_count": 210,
   "outputs": [],
   "source": [
    "predictions = stc_all.predict_proba(X_val)[:,1]"
   ],
   "metadata": {
    "collapsed": false,
    "pycharm": {
     "name": "#%%\n"
    }
   }
  },
  {
   "cell_type": "code",
   "execution_count": 211,
   "outputs": [
    {
     "name": "stdout",
     "output_type": "stream",
     "text": [
      "The AUC score is: 0.9608001202100336\n",
      "The Average Precision score is: 0.8169803568451239\n"
     ]
    }
   ],
   "source": [
    "summary_score(y_val, predictions)"
   ],
   "metadata": {
    "collapsed": false,
    "pycharm": {
     "name": "#%%\n"
    }
   }
  },
  {
   "cell_type": "markdown",
   "source": [
    "#### 4 - fourth place - Logistic Regression stack"
   ],
   "metadata": {
    "collapsed": false,
    "pycharm": {
     "name": "#%% md\n"
    }
   }
  },
  {
   "cell_type": "code",
   "execution_count": 208,
   "outputs": [],
   "source": [
    "predictions = stc_log.predict_proba(X_val)[:,1]"
   ],
   "metadata": {
    "collapsed": false,
    "pycharm": {
     "name": "#%%\n"
    }
   }
  },
  {
   "cell_type": "code",
   "execution_count": 209,
   "outputs": [
    {
     "name": "stdout",
     "output_type": "stream",
     "text": [
      "The AUC score is: 0.9093955828377915\n",
      "The Average Precision score is: 0.557951100927007\n"
     ]
    }
   ],
   "source": [
    "summary_score(y_val, predictions)"
   ],
   "metadata": {
    "collapsed": false,
    "pycharm": {
     "name": "#%%\n"
    }
   }
  },
  {
   "cell_type": "markdown",
   "source": [
    "#### 5 - last place - LightGBM Default stack"
   ],
   "metadata": {
    "collapsed": false,
    "pycharm": {
     "name": "#%% md\n"
    }
   }
  },
  {
   "cell_type": "code",
   "execution_count": 206,
   "outputs": [],
   "source": [
    "predictions = stc_lgb.predict_proba(X_val)[:,1]"
   ],
   "metadata": {
    "collapsed": false,
    "pycharm": {
     "name": "#%%\n"
    }
   }
  },
  {
   "cell_type": "code",
   "execution_count": 207,
   "outputs": [
    {
     "name": "stdout",
     "output_type": "stream",
     "text": [
      "The AUC score is: 0.778227653316489\n",
      "The Average Precision score is: 0.22738635691377912\n"
     ]
    }
   ],
   "source": [
    "summary_score(y_val, predictions)"
   ],
   "metadata": {
    "collapsed": false,
    "pycharm": {
     "name": "#%%\n"
    }
   }
  }
 ],
 "metadata": {
  "kernelspec": {
   "display_name": "Python 3",
   "language": "python",
   "name": "python3"
  },
  "language_info": {
   "codemirror_mode": {
    "name": "ipython",
    "version": 2
   },
   "file_extension": ".py",
   "mimetype": "text/x-python",
   "name": "python",
   "nbconvert_exporter": "python",
   "pygments_lexer": "ipython2",
   "version": "2.7.6"
  }
 },
 "nbformat": 4,
 "nbformat_minor": 0
}