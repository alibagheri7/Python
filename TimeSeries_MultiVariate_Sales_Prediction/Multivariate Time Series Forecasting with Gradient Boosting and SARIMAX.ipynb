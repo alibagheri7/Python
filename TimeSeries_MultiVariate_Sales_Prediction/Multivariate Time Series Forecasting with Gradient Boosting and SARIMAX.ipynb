{
 "cells": [
  {
   "cell_type": "markdown",
   "source": [
    "# Multivariate Time Series Analysis and Forecasting With Gradiant Boosting"
   ],
   "metadata": {
    "collapsed": false,
    "pycharm": {
     "name": "#%% md\n"
    }
   }
  },
  {
   "cell_type": "markdown",
   "source": [
    "# Project Description\n",
    "#### 1. goal\n",
    "This project aimed to compare various predictive tools on a large time series dataset and predict the future values. Due to this project’s nature, the solution needed to be scalable and fast in addition to accurate.\n",
    "#### 2. data\n",
    "The dataset is from Kaggle and consists of 34 months worth of data for 214,000 items across 42 stores. The dataset includes the number of units sold and the price for that item.\n",
    "One of the main challenges of working with this dataset was its limited past data, making it hard to learn trends and seasonality.\n",
    "The other challenge was its data preparation step, as each model needed its input.\n",
    "#### 3. EDA and Visualisation\n",
    "After preprocessing the data, to get a sense of how it looked, I used statistical tests to check for trends and seasonality in the data and plotted graphs to visualize it.\n",
    "#### 4. Modeling and Prediction\n",
    "I used three different models for predicting the future values.\n",
    "##### 4.1. Facebook Prophet\n",
    "Besides compatibility issues and that I had to downgrade a series of packages to use fbprophet, the main problem with fbprophet was its speed. So, of course, in many circumstances, the package would have its merits, but I had to use other tools. The codes for fbprophet are available in another notebook.\n",
    "##### 4.2. Gradient Boosting\n",
    "The second method that I used was XGBoost. To do so, I had to flatten data and reshape each 2D time series matrix into a 1D row. After that, I tried two hypotheses, whether to fit data using all the prior time blocks or to use a more limited horizon to replicate the seasonality and the trends. (i.e., I wanted to see whether it would help to have all the seasons with the same number of repetitions.)\n",
    "The result was that the model did better with more data from the past.\n",
    "##### 4.3. SARIMAX\n",
    "The third method which showed the lowest error was SARIMAX. Seasonal Autoregressive Integrated Moving Average with Exogenous\n",
    "variables Regressions. However, finding the optimum parameters for fitting was not as fast as one would hope it would be.\n",
    "##### 4.4 Final model\n",
    "The main predictive method was SARIMAX and on occasions when the data could not be fitted using the pmdarima package, I used XGBoost, and for the rows that there were not any sales before the target month, I set the prediction to be zero."
   ],
   "metadata": {
    "collapsed": false,
    "pycharm": {
     "name": "#%% md\n"
    }
   }
  },
  {
   "cell_type": "code",
   "execution_count": 1,
   "outputs": [
    {
     "name": "stdout",
     "output_type": "stream",
     "text": [
      "C:\\Users\\axb190032\\Desktop\\Python-Virtual-Enviroment\\Enviroment1\\Scripts\\python.exe\n",
      "3.10.5 (tags/v3.10.5:f377153, Jun  6 2022, 16:14:13) [MSC v.1929 64 bit (AMD64)]\n",
      "sys.version_info(major=3, minor=10, micro=5, releaselevel='final', serial=0)\n"
     ]
    }
   ],
   "source": [
    "import sys\n",
    "print(sys.executable)\n",
    "print(sys.version)\n",
    "print(sys.version_info)"
   ],
   "metadata": {
    "collapsed": false,
    "pycharm": {
     "name": "#%%\n"
    }
   }
  },
  {
   "cell_type": "markdown",
   "source": [
    "pmdarima version\n",
    "\n",
    "pip: 21.0.1\n",
    "setuptools: 49.2.1\n",
    "sklearn: 0.24.1\n",
    "statsmodels: 0.12.2\n",
    "numpy: 1.19.4\n",
    "scipy: 1.6.2\n",
    "Cython: 0.29.23\n",
    "pandas: 1.2.4\n",
    "joblib: 1.0.1\n",
    "pmdarima: 1.8.2rc3"
   ],
   "metadata": {
    "collapsed": false,
    "pycharm": {
     "name": "#%% md\n"
    }
   }
  },
  {
   "cell_type": "code",
   "execution_count": 9,
   "outputs": [
    {
     "data": {
      "text/plain": "sys.version_info(major=3, minor=10, micro=5, releaselevel='final', serial=0)"
     },
     "execution_count": 9,
     "metadata": {},
     "output_type": "execute_result"
    }
   ],
   "source": [
    "import numpy as np\n",
    "import pandas as pd\n",
    "\n",
    "from itertools import product\n",
    "from sklearn.preprocessing import LabelEncoder\n",
    "\n",
    "import seaborn as sns\n",
    "import matplotlib.pyplot as plt\n",
    "\n",
    "import statsmodels\n",
    "\n",
    "import warnings\n",
    "warnings.filterwarnings('ignore')\n",
    "\n",
    "import dill\n",
    "import pickle\n",
    "\n",
    "import sys\n",
    "\n",
    "sys.version_info"
   ],
   "metadata": {
    "collapsed": false,
    "pycharm": {
     "name": "#%%\n"
    }
   }
  },
  {
   "cell_type": "markdown",
   "metadata": {
    "collapsed": false,
    "id": "DqvsWdA7jI4I",
    "pycharm": {
     "name": "#%% md\n"
    }
   },
   "source": [
    "# 1- Importing The Data"
   ]
  },
  {
   "cell_type": "code",
   "execution_count": 10,
   "metadata": {
    "id": "Dj8dSjxYjI4K",
    "pycharm": {
     "name": "#%%\n"
    }
   },
   "outputs": [],
   "source": [
    "items = pd.read_csv('./items.csv')\n",
    "shops = pd.read_csv('./shops.csv')\n",
    "cats = pd.read_csv('./item_categories.csv')\n",
    "train = pd.read_csv('./sales_train.csv')\n",
    "# set index to ID to avoid droping it later\n",
    "test  = pd.read_csv('./test.csv').set_index('ID')\n",
    "sample = pd.read_csv('./sample_submission.csv')\n",
    "#data1 = pd.read_csv('./data1.csv')"
   ]
  },
  {
   "cell_type": "markdown",
   "metadata": {
    "collapsed": false,
    "id": "6Mk-IRPGjI4L",
    "pycharm": {
     "name": "#%% md\n"
    }
   },
   "source": [
    "# 2- Data Cleaning and Conversion"
   ]
  },
  {
   "cell_type": "code",
   "execution_count": 11,
   "metadata": {
    "colab": {
     "base_uri": "https://localhost:8080/"
    },
    "id": "Bn6PDPQ3jI4M",
    "outputId": "ed5f20f0-4aee-4a44-c52d-f1c95c6f01e5",
    "pycharm": {
     "name": "#%%\n"
    }
   },
   "outputs": [],
   "source": [
    "train['date'] = train['date'].str.replace('.','-')\n",
    "train['date'] = pd.to_datetime(train['date'], format='%d-%m-%Y', errors='coerce')"
   ]
  },
  {
   "cell_type": "code",
   "execution_count": 12,
   "metadata": {
    "colab": {
     "base_uri": "https://localhost:8080/"
    },
    "id": "wownweIZjI4M",
    "outputId": "8ef6f286-2188-44d9-b789-938c3450968f",
    "pycharm": {
     "name": "#%%\n"
    }
   },
   "outputs": [],
   "source": [
    "train = train[train.item_price < 100000]\n",
    "train = train[train.item_cnt_day < 1001]\n",
    "median = train[(train.shop_id == 32) & (train.item_id == 2973) & (train.date_block_num == 4) & (\n",
    "            train.item_price > 0)].item_price.median()\n",
    "train.loc[train.item_price < 0, 'item_price'] = median\n",
    "\n",
    "# Якутск Орджоникидзе, 56\n",
    "train.loc[train.shop_id == 0, 'shop_id'] = 57\n",
    "test.loc[test.shop_id == 0, 'shop_id'] = 57\n",
    "# Якутск ТЦ \"Центральный\"\n",
    "train.loc[train.shop_id == 1, 'shop_id'] = 58\n",
    "test.loc[test.shop_id == 1, 'shop_id'] = 58\n",
    "# Жуковский ул. Чкалова 39м²\n",
    "train.loc[train.shop_id == 10, 'shop_id'] = 11\n",
    "test.loc[test.shop_id == 10, 'shop_id'] = 11\n",
    "shops.loc[shops.shop_name == 'Сергиев Посад ТЦ \"7Я\"', 'shop_name'] = 'СергиевПосад ТЦ \"7Я\"'\n",
    "shops['city'] = shops['shop_name'].str.split(' ').map(lambda x: x[0])\n",
    "shops.loc[shops.city == '!Якутск', 'city'] = 'Якутск'\n",
    "shops['city_code'] = LabelEncoder().fit_transform(shops['city'])\n",
    "shops = shops[['shop_id', 'city_code']]\n",
    "\n",
    "cats['split'] = cats['item_category_name'].str.split('-')\n",
    "cats['type'] = cats['split'].map(lambda x: x[0].strip())\n",
    "cats['type_code'] = LabelEncoder().fit_transform(cats['type'])\n",
    "# if subtype is nan then type\n",
    "cats['subtype'] = cats['split'].map(lambda x: x[1].strip() if len(x) > 1 else x[0].strip())\n",
    "cats['subtype_code'] = LabelEncoder().fit_transform(cats['subtype'])\n",
    "cats = cats[['item_category_id', 'type_code', 'subtype_code']]\n",
    "\n",
    "items.drop(['item_name'], axis=1, inplace=True)\n"
   ]
  },
  {
   "cell_type": "markdown",
   "metadata": {
    "collapsed": false,
    "id": "O5dcGnipjI4O",
    "pycharm": {
     "name": "#%% md\n"
    }
   },
   "source": [
    "# 3- Creating a data matrix"
   ]
  },
  {
   "cell_type": "markdown",
   "metadata": {
    "collapsed": false,
    "id": "2vX-_-kXjI4Q",
    "pycharm": {
     "name": "#%% md\n"
    }
   },
   "source": [
    "we are going to make an empty dataframe which will include all the possible combinations of items sold and their monthblock. Then we are going to add the aggregated sales and price data."
   ]
  },
  {
   "cell_type": "code",
   "execution_count": 13,
   "metadata": {
    "id": "nPMiV73FjI4R",
    "pycharm": {
     "name": "#%%\n"
    }
   },
   "outputs": [],
   "source": [
    "# aggregate on item level\n",
    "matrix = []\n",
    "cols = ['date_block_num','shop_id','item_id']\n",
    "for i in range(34):\n",
    "    sales = train[train.date_block_num==i]\n",
    "    matrix.append(np.array(list(product([i],set(test.shop_id.unique()),set(test.item_id.unique()))), dtype='int16'))\n",
    "\n",
    "matrix = pd.DataFrame(np.vstack(matrix), columns=cols)\n",
    "matrix['date_block_num'] = matrix['date_block_num'].astype(np.int8)\n",
    "#matrix['shop_id'] = matrix['shop_id'].astype(np.int8)\n",
    "matrix['item_id'] = matrix['item_id'].astype(np.int16)\n",
    "matrix.sort_values(cols,inplace=True)"
   ]
  },
  {
   "cell_type": "code",
   "execution_count": 14,
   "metadata": {
    "colab": {
     "base_uri": "https://localhost:8080/"
    },
    "id": "H4_Z3xpgjI4T",
    "outputId": "6072ad29-9feb-4b23-9c06-e72e71c67d0a",
    "pycharm": {
     "name": "#%%\n"
    }
   },
   "outputs": [
    {
     "data": {
      "text/plain": "((7282800, 3), (2935847, 6))"
     },
     "execution_count": 14,
     "metadata": {},
     "output_type": "execute_result"
    }
   ],
   "source": [
    "matrix.shape , train.shape"
   ]
  },
  {
   "cell_type": "markdown",
   "metadata": {
    "collapsed": false,
    "id": "Mrx2EAWpjI4V",
    "pycharm": {
     "name": "#%% md\n"
    }
   },
   "source": [
    "After creating the initial matrix, we add aggregated data from our train dataset."
   ]
  },
  {
   "cell_type": "markdown",
   "metadata": {
    "collapsed": false,
    "id": "AZ6ZcZkDjI4W",
    "pycharm": {
     "name": "#%% md\n"
    }
   },
   "source": [
    "first we average price per month"
   ]
  },
  {
   "cell_type": "code",
   "execution_count": 64,
   "metadata": {
    "id": "MYYwgQdWjI4X",
    "pycharm": {
     "name": "#%%\n"
    }
   },
   "outputs": [],
   "source": [
    "monthly_price = train.groupby(['shop_id','item_id', 'date_block_num' , pd.Grouper(key=\"date\",freq='M')])['item_price'].mean().reset_index()"
   ]
  },
  {
   "cell_type": "markdown",
   "metadata": {
    "collapsed": false,
    "id": "QwDOV0zWjI4Y",
    "pycharm": {
     "name": "#%% md\n"
    }
   },
   "source": [
    "first we average price per month for each item at each shop."
   ]
  },
  {
   "cell_type": "code",
   "execution_count": 65,
   "metadata": {
    "id": "yGOGZdQxjI4Z",
    "pycharm": {
     "name": "#%%\n"
    }
   },
   "outputs": [],
   "source": [
    "data = matrix.merge(monthly_price.drop(['date'],axis=1),\n",
    "                    how= 'left',\n",
    "                    on= ['date_block_num','shop_id' , 'item_id']\n",
    "                    )"
   ]
  },
  {
   "cell_type": "code",
   "execution_count": 66,
   "metadata": {
    "colab": {
     "base_uri": "https://localhost:8080/",
     "height": 424
    },
    "id": "VtLAxbJ6jI4Z",
    "outputId": "a7e59800-a802-485d-c620-afd63dd7ac69",
    "pycharm": {
     "name": "#%%\n"
    }
   },
   "outputs": [
    {
     "data": {
      "text/plain": "         date_block_num  shop_id  item_id  item_price\n0                     0        2       30         NaN\n1                     0        2       31         NaN\n2                     0        2       32         NaN\n3                     0        2       33       499.0\n4                     0        2       38         NaN\n...                 ...      ...      ...         ...\n7282795              33       59    22162         NaN\n7282796              33       59    22163         NaN\n7282797              33       59    22164         NaN\n7282798              33       59    22166         NaN\n7282799              33       59    22167         NaN\n\n[7282800 rows x 4 columns]",
      "text/html": "<div>\n<style scoped>\n    .dataframe tbody tr th:only-of-type {\n        vertical-align: middle;\n    }\n\n    .dataframe tbody tr th {\n        vertical-align: top;\n    }\n\n    .dataframe thead th {\n        text-align: right;\n    }\n</style>\n<table border=\"1\" class=\"dataframe\">\n  <thead>\n    <tr style=\"text-align: right;\">\n      <th></th>\n      <th>date_block_num</th>\n      <th>shop_id</th>\n      <th>item_id</th>\n      <th>item_price</th>\n    </tr>\n  </thead>\n  <tbody>\n    <tr>\n      <th>0</th>\n      <td>0</td>\n      <td>2</td>\n      <td>30</td>\n      <td>NaN</td>\n    </tr>\n    <tr>\n      <th>1</th>\n      <td>0</td>\n      <td>2</td>\n      <td>31</td>\n      <td>NaN</td>\n    </tr>\n    <tr>\n      <th>2</th>\n      <td>0</td>\n      <td>2</td>\n      <td>32</td>\n      <td>NaN</td>\n    </tr>\n    <tr>\n      <th>3</th>\n      <td>0</td>\n      <td>2</td>\n      <td>33</td>\n      <td>499.0</td>\n    </tr>\n    <tr>\n      <th>4</th>\n      <td>0</td>\n      <td>2</td>\n      <td>38</td>\n      <td>NaN</td>\n    </tr>\n    <tr>\n      <th>...</th>\n      <td>...</td>\n      <td>...</td>\n      <td>...</td>\n      <td>...</td>\n    </tr>\n    <tr>\n      <th>7282795</th>\n      <td>33</td>\n      <td>59</td>\n      <td>22162</td>\n      <td>NaN</td>\n    </tr>\n    <tr>\n      <th>7282796</th>\n      <td>33</td>\n      <td>59</td>\n      <td>22163</td>\n      <td>NaN</td>\n    </tr>\n    <tr>\n      <th>7282797</th>\n      <td>33</td>\n      <td>59</td>\n      <td>22164</td>\n      <td>NaN</td>\n    </tr>\n    <tr>\n      <th>7282798</th>\n      <td>33</td>\n      <td>59</td>\n      <td>22166</td>\n      <td>NaN</td>\n    </tr>\n    <tr>\n      <th>7282799</th>\n      <td>33</td>\n      <td>59</td>\n      <td>22167</td>\n      <td>NaN</td>\n    </tr>\n  </tbody>\n</table>\n<p>7282800 rows × 4 columns</p>\n</div>"
     },
     "execution_count": 66,
     "metadata": {},
     "output_type": "execute_result"
    }
   ],
   "source": [
    "data"
   ]
  },
  {
   "cell_type": "markdown",
   "metadata": {
    "collapsed": false,
    "id": "cnp6_RNUjI4b",
    "pycharm": {
     "name": "#%% md\n"
    }
   },
   "source": [
    "Now we sum the monthly sale for each month for each product at each store to aggregate the data"
   ]
  },
  {
   "cell_type": "code",
   "execution_count": 34,
   "metadata": {
    "id": "X5ysAURWjI4b",
    "pycharm": {
     "name": "#%%\n"
    }
   },
   "outputs": [],
   "source": [
    "monthly_sale = train.groupby(['shop_id' ,'item_id', 'date_block_num' , pd.Grouper(key=\"date\",freq='M')])['item_cnt_day'].agg(sum).reset_index()"
   ]
  },
  {
   "cell_type": "code",
   "execution_count": 35,
   "metadata": {
    "id": "bIyJ3TxzjI4c",
    "pycharm": {
     "name": "#%%\n"
    }
   },
   "outputs": [],
   "source": [
    "date_month = [*monthly_sale['date'].unique()]\n",
    "#date_month = date_month.sort()\n",
    "date_month = np.sort(date_month, axis=0)\n",
    "date_month = pd.Series(date_month)"
   ]
  },
  {
   "cell_type": "code",
   "execution_count": 69,
   "outputs": [],
   "source": [
    "for i in range(len(date_month)):\n",
    "    date_month[i] = date_month[i].replace(day = 1)"
   ],
   "metadata": {
    "collapsed": false,
    "pycharm": {
     "name": "#%%\n"
    }
   }
  },
  {
   "cell_type": "code",
   "execution_count": 70,
   "metadata": {
    "id": "O_iZhRIojI4c",
    "pycharm": {
     "name": "#%%\n"
    }
   },
   "outputs": [],
   "source": [
    "data = data.merge(monthly_sale.drop(['date'],axis=1),\n",
    "                    how = 'left' ,\n",
    "                    on = ['date_block_num','shop_id','item_id'] )"
   ]
  },
  {
   "cell_type": "code",
   "execution_count": 71,
   "metadata": {
    "id": "nyxoQxCxjI4d",
    "pycharm": {
     "name": "#%%\n"
    }
   },
   "outputs": [],
   "source": [
    "data = data.sort_values(['shop_id' , 'item_id','date_block_num']).reset_index().drop(['index'],axis=1)"
   ]
  },
  {
   "cell_type": "code",
   "execution_count": 72,
   "outputs": [],
   "source": [
    "data = data.rename(columns = {'item_cnt_day' : 'item_cnt_month'})"
   ],
   "metadata": {
    "collapsed": false,
    "pycharm": {
     "name": "#%%\n"
    }
   }
  },
  {
   "cell_type": "code",
   "execution_count": 73,
   "outputs": [
    {
     "data": {
      "text/plain": "   date_block_num  shop_id  item_id  item_price  item_cnt_month\n0               0        2       30         NaN             NaN\n1               1        2       30         NaN             NaN\n2               2        2       30       359.0             1.0\n3               3        2       30         NaN             NaN\n4               4        2       30         NaN             NaN",
      "text/html": "<div>\n<style scoped>\n    .dataframe tbody tr th:only-of-type {\n        vertical-align: middle;\n    }\n\n    .dataframe tbody tr th {\n        vertical-align: top;\n    }\n\n    .dataframe thead th {\n        text-align: right;\n    }\n</style>\n<table border=\"1\" class=\"dataframe\">\n  <thead>\n    <tr style=\"text-align: right;\">\n      <th></th>\n      <th>date_block_num</th>\n      <th>shop_id</th>\n      <th>item_id</th>\n      <th>item_price</th>\n      <th>item_cnt_month</th>\n    </tr>\n  </thead>\n  <tbody>\n    <tr>\n      <th>0</th>\n      <td>0</td>\n      <td>2</td>\n      <td>30</td>\n      <td>NaN</td>\n      <td>NaN</td>\n    </tr>\n    <tr>\n      <th>1</th>\n      <td>1</td>\n      <td>2</td>\n      <td>30</td>\n      <td>NaN</td>\n      <td>NaN</td>\n    </tr>\n    <tr>\n      <th>2</th>\n      <td>2</td>\n      <td>2</td>\n      <td>30</td>\n      <td>359.0</td>\n      <td>1.0</td>\n    </tr>\n    <tr>\n      <th>3</th>\n      <td>3</td>\n      <td>2</td>\n      <td>30</td>\n      <td>NaN</td>\n      <td>NaN</td>\n    </tr>\n    <tr>\n      <th>4</th>\n      <td>4</td>\n      <td>2</td>\n      <td>30</td>\n      <td>NaN</td>\n      <td>NaN</td>\n    </tr>\n  </tbody>\n</table>\n</div>"
     },
     "execution_count": 73,
     "metadata": {},
     "output_type": "execute_result"
    }
   ],
   "source": [
    "data.head()"
   ],
   "metadata": {
    "collapsed": false,
    "pycharm": {
     "name": "#%%\n"
    }
   }
  },
  {
   "cell_type": "code",
   "execution_count": 74,
   "metadata": {
    "id": "Qz2Hy4icO_R2",
    "pycharm": {
     "name": "#%%\n"
    }
   },
   "outputs": [],
   "source": [
    "data.to_csv('./data.csv', index= False)"
   ]
  },
  {
   "cell_type": "code",
   "execution_count": 22,
   "outputs": [],
   "source": [
    "data = pd.read_csv('./data.csv')"
   ],
   "metadata": {
    "collapsed": false,
    "pycharm": {
     "name": "#%%\n"
    }
   }
  },
  {
   "cell_type": "markdown",
   "source": [
    "keeping the unique set of items and shops"
   ],
   "metadata": {
    "collapsed": false,
    "pycharm": {
     "name": "#%% md\n"
    }
   }
  },
  {
   "cell_type": "code",
   "execution_count": 23,
   "metadata": {
    "id": "wmJWFjFsQkXu",
    "pycharm": {
     "name": "#%%\n"
    }
   },
   "outputs": [],
   "source": [
    "shop_list = [*set(data.shop_id)]\n",
    "item_list = [*set(data.item_id)]"
   ]
  },
  {
   "cell_type": "markdown",
   "source": [
    "# 4- Missing Data"
   ],
   "metadata": {
    "collapsed": false,
    "pycharm": {
     "name": "#%% md\n"
    }
   }
  },
  {
   "cell_type": "markdown",
   "metadata": {
    "collapsed": false,
    "id": "uZmmTNPujI4g",
    "pycharm": {
     "name": "#%% md\n"
    }
   },
   "source": [
    "we have two data columns with missing data, price and sales count.\n",
    "After inspecting the data, I belive missing data is the result of lack of sale for a particular item in a particular month.\n",
    "Since the dataset is very big and price generally foloolws a steay trend I will use simple methods to impute missing prices. If we have the value for past and future of a certain point, we interpolate the missing data in between and for the future and past we use forward fill and backward fill."
   ]
  },
  {
   "cell_type": "code",
   "execution_count": 78,
   "outputs": [],
   "source": [
    "data['item_cnt_month'] = data['item_cnt_month'].fillna(0)"
   ],
   "metadata": {
    "collapsed": false,
    "pycharm": {
     "name": "#%%\n"
    }
   }
  },
  {
   "cell_type": "code",
   "execution_count": 79,
   "outputs": [
    {
     "name": "stdout",
     "output_type": "stream",
     "text": [
      "CPU times: total: 2min 43s\n",
      "Wall time: 2min 43s\n"
     ]
    }
   ],
   "source": [
    "%%time\n",
    "interpolate = []\n",
    "for j in shop_list:\n",
    "    temp = data[(data[\"shop_id\"] == j)].copy()\n",
    "    for i in item_list:\n",
    "        interpolate.append(temp[temp['item_id']==i]['item_price'].interpolate(method='linear').fillna(method='bfill').fillna(method=\"ffill\").copy())\n",
    "\n",
    "# the interpolate method forward fills missing values if there is no future value"
   ],
   "metadata": {
    "collapsed": false,
    "pycharm": {
     "name": "#%%\n"
    }
   }
  },
  {
   "cell_type": "code",
   "execution_count": 80,
   "metadata": {
    "id": "qEhsbaMTjI4h",
    "pycharm": {
     "name": "#%%\n"
    }
   },
   "outputs": [],
   "source": [
    "# we need to convert the list of series to a single list of values\n",
    "import itertools\n",
    "interpolate_series = list(itertools.chain.from_iterable(interpolate))"
   ]
  },
  {
   "cell_type": "code",
   "execution_count": 81,
   "metadata": {
    "colab": {
     "base_uri": "https://localhost:8080/"
    },
    "id": "s_fdfTDMmjfT",
    "outputId": "3f8d2d09-09df-49d5-e55d-63221757118c",
    "pycharm": {
     "name": "#%%\n"
    }
   },
   "outputs": [
    {
     "data": {
      "text/plain": "(True, 7282800, 7282800)"
     },
     "execution_count": 81,
     "metadata": {},
     "output_type": "execute_result"
    }
   ],
   "source": [
    "# we check for the length of the list to see if it is the same as the original dataframe\n",
    "len(interpolate_series) == data.shape[0], len(interpolate_series), data.shape[0]"
   ]
  },
  {
   "cell_type": "code",
   "execution_count": 82,
   "metadata": {
    "id": "_nhufUXqlmDL",
    "pycharm": {
     "name": "#%%\n"
    }
   },
   "outputs": [],
   "source": [
    "# dill.dump(interpolate_series, open('interpolate_series.pkl', 'wb'))\n",
    "# interpolate = dill.load(open('./interpolate.pkl', 'rb'))"
   ]
  },
  {
   "cell_type": "code",
   "execution_count": 83,
   "metadata": {
    "id": "ewTpt11gjI4i",
    "pycharm": {
     "name": "#%%\n"
    }
   },
   "outputs": [],
   "source": [
    "data['item_price'] = interpolate_series"
   ]
  },
  {
   "cell_type": "code",
   "execution_count": 84,
   "metadata": {
    "id": "FZIVyq-lvz_a",
    "pycharm": {
     "name": "#%%\n"
    }
   },
   "outputs": [],
   "source": [
    "data.to_csv('./data.csv', index= False)"
   ]
  },
  {
   "cell_type": "markdown",
   "source": [
    "# 5- Feature Engineering"
   ],
   "metadata": {
    "collapsed": false,
    "pycharm": {
     "name": "#%% md\n"
    }
   }
  },
  {
   "cell_type": "markdown",
   "metadata": {
    "collapsed": false,
    "id": "_kmBYlAGjI4l",
    "pycharm": {
     "name": "#%% md\n"
    }
   },
   "source": [
    "adding the length of each month"
   ]
  },
  {
   "cell_type": "code",
   "execution_count": 85,
   "metadata": {
    "colab": {
     "base_uri": "https://localhost:8080/"
    },
    "id": "CP2Z-OlqjI4m",
    "outputId": "0194350e-f93b-4dec-fd5a-de2669ef93f3",
    "pycharm": {
     "name": "#%%\n"
    }
   },
   "outputs": [
    {
     "data": {
      "text/plain": "34"
     },
     "execution_count": 85,
     "metadata": {},
     "output_type": "execute_result"
    }
   ],
   "source": [
    "m_len = pd.Series([31,28,31,30,31,30,31,31,30,31,30,31,\n",
    "                   31,28,31,30,31,30,31,31,30,31,30,31,\n",
    "                   31,28,31,30,31,30,31,31,30,31])\n",
    "len(m_len)"
   ]
  },
  {
   "cell_type": "code",
   "execution_count": 86,
   "metadata": {
    "colab": {
     "base_uri": "https://localhost:8080/",
     "height": 424
    },
    "id": "WBRM11aLjI4m",
    "outputId": "98b8e44b-b113-4ff6-c034-3bb75c95bec9",
    "pycharm": {
     "name": "#%%\n"
    }
   },
   "outputs": [
    {
     "data": {
      "text/plain": "   date_block_num  shop_id  item_id  item_price  item_cnt_month  \\\n0               0        2       30  359.000000             0.0   \n1               1        2       30  359.000000             0.0   \n2               2        2       30  359.000000             1.0   \n3               3        2       30  372.333333             0.0   \n4               4        2       30  385.666667             0.0   \n\n   num_days_in_month  \n0                 31  \n1                 28  \n2                 31  \n3                 30  \n4                 31  ",
      "text/html": "<div>\n<style scoped>\n    .dataframe tbody tr th:only-of-type {\n        vertical-align: middle;\n    }\n\n    .dataframe tbody tr th {\n        vertical-align: top;\n    }\n\n    .dataframe thead th {\n        text-align: right;\n    }\n</style>\n<table border=\"1\" class=\"dataframe\">\n  <thead>\n    <tr style=\"text-align: right;\">\n      <th></th>\n      <th>date_block_num</th>\n      <th>shop_id</th>\n      <th>item_id</th>\n      <th>item_price</th>\n      <th>item_cnt_month</th>\n      <th>num_days_in_month</th>\n    </tr>\n  </thead>\n  <tbody>\n    <tr>\n      <th>0</th>\n      <td>0</td>\n      <td>2</td>\n      <td>30</td>\n      <td>359.000000</td>\n      <td>0.0</td>\n      <td>31</td>\n    </tr>\n    <tr>\n      <th>1</th>\n      <td>1</td>\n      <td>2</td>\n      <td>30</td>\n      <td>359.000000</td>\n      <td>0.0</td>\n      <td>28</td>\n    </tr>\n    <tr>\n      <th>2</th>\n      <td>2</td>\n      <td>2</td>\n      <td>30</td>\n      <td>359.000000</td>\n      <td>1.0</td>\n      <td>31</td>\n    </tr>\n    <tr>\n      <th>3</th>\n      <td>3</td>\n      <td>2</td>\n      <td>30</td>\n      <td>372.333333</td>\n      <td>0.0</td>\n      <td>30</td>\n    </tr>\n    <tr>\n      <th>4</th>\n      <td>4</td>\n      <td>2</td>\n      <td>30</td>\n      <td>385.666667</td>\n      <td>0.0</td>\n      <td>31</td>\n    </tr>\n  </tbody>\n</table>\n</div>"
     },
     "execution_count": 86,
     "metadata": {},
     "output_type": "execute_result"
    }
   ],
   "source": [
    "data['num_days_in_month'] = data['date_block_num'].map(m_len).astype(np.int8)"
   ]
  },
  {
   "cell_type": "markdown",
   "source": [
    "adding month and year as dummy variables"
   ],
   "metadata": {
    "collapsed": false,
    "pycharm": {
     "name": "#%% md\n"
    }
   }
  },
  {
   "cell_type": "code",
   "execution_count": 87,
   "metadata": {
    "colab": {
     "base_uri": "https://localhost:8080/",
     "height": 424
    },
    "id": "dYtmCJTQjI4n",
    "outputId": "1db14f3c-4f5a-4940-981b-c5baa857725c",
    "pycharm": {
     "name": "#%%\n"
    }
   },
   "outputs": [
    {
     "data": {
      "text/plain": "         date_block_num  shop_id  item_id  item_price  item_cnt_month  \\\n0                     0        2       30  359.000000             0.0   \n1                     1        2       30  359.000000             0.0   \n2                     2        2       30  359.000000             1.0   \n3                     3        2       30  372.333333             0.0   \n4                     4        2       30  385.666667             0.0   \n...                 ...      ...      ...         ...             ...   \n7282795              29       59    22167  299.000000             0.0   \n7282796              30       59    22167  299.000000             0.0   \n7282797              31       59    22167  299.000000             0.0   \n7282798              32       59    22167  299.000000             0.0   \n7282799              33       59    22167  299.000000             0.0   \n\n         num_days_in_month  month  year  \n0                       31      1     0  \n1                       28      2     0  \n2                       31      3     0  \n3                       30      4     0  \n4                       31      5     0  \n...                    ...    ...   ...  \n7282795                 30      6     2  \n7282796                 31      7     2  \n7282797                 31      8     2  \n7282798                 30      9     2  \n7282799                 31     10     2  \n\n[7282800 rows x 8 columns]",
      "text/html": "<div>\n<style scoped>\n    .dataframe tbody tr th:only-of-type {\n        vertical-align: middle;\n    }\n\n    .dataframe tbody tr th {\n        vertical-align: top;\n    }\n\n    .dataframe thead th {\n        text-align: right;\n    }\n</style>\n<table border=\"1\" class=\"dataframe\">\n  <thead>\n    <tr style=\"text-align: right;\">\n      <th></th>\n      <th>date_block_num</th>\n      <th>shop_id</th>\n      <th>item_id</th>\n      <th>item_price</th>\n      <th>item_cnt_month</th>\n      <th>num_days_in_month</th>\n      <th>month</th>\n      <th>year</th>\n    </tr>\n  </thead>\n  <tbody>\n    <tr>\n      <th>0</th>\n      <td>0</td>\n      <td>2</td>\n      <td>30</td>\n      <td>359.000000</td>\n      <td>0.0</td>\n      <td>31</td>\n      <td>1</td>\n      <td>0</td>\n    </tr>\n    <tr>\n      <th>1</th>\n      <td>1</td>\n      <td>2</td>\n      <td>30</td>\n      <td>359.000000</td>\n      <td>0.0</td>\n      <td>28</td>\n      <td>2</td>\n      <td>0</td>\n    </tr>\n    <tr>\n      <th>2</th>\n      <td>2</td>\n      <td>2</td>\n      <td>30</td>\n      <td>359.000000</td>\n      <td>1.0</td>\n      <td>31</td>\n      <td>3</td>\n      <td>0</td>\n    </tr>\n    <tr>\n      <th>3</th>\n      <td>3</td>\n      <td>2</td>\n      <td>30</td>\n      <td>372.333333</td>\n      <td>0.0</td>\n      <td>30</td>\n      <td>4</td>\n      <td>0</td>\n    </tr>\n    <tr>\n      <th>4</th>\n      <td>4</td>\n      <td>2</td>\n      <td>30</td>\n      <td>385.666667</td>\n      <td>0.0</td>\n      <td>31</td>\n      <td>5</td>\n      <td>0</td>\n    </tr>\n    <tr>\n      <th>...</th>\n      <td>...</td>\n      <td>...</td>\n      <td>...</td>\n      <td>...</td>\n      <td>...</td>\n      <td>...</td>\n      <td>...</td>\n      <td>...</td>\n    </tr>\n    <tr>\n      <th>7282795</th>\n      <td>29</td>\n      <td>59</td>\n      <td>22167</td>\n      <td>299.000000</td>\n      <td>0.0</td>\n      <td>30</td>\n      <td>6</td>\n      <td>2</td>\n    </tr>\n    <tr>\n      <th>7282796</th>\n      <td>30</td>\n      <td>59</td>\n      <td>22167</td>\n      <td>299.000000</td>\n      <td>0.0</td>\n      <td>31</td>\n      <td>7</td>\n      <td>2</td>\n    </tr>\n    <tr>\n      <th>7282797</th>\n      <td>31</td>\n      <td>59</td>\n      <td>22167</td>\n      <td>299.000000</td>\n      <td>0.0</td>\n      <td>31</td>\n      <td>8</td>\n      <td>2</td>\n    </tr>\n    <tr>\n      <th>7282798</th>\n      <td>32</td>\n      <td>59</td>\n      <td>22167</td>\n      <td>299.000000</td>\n      <td>0.0</td>\n      <td>30</td>\n      <td>9</td>\n      <td>2</td>\n    </tr>\n    <tr>\n      <th>7282799</th>\n      <td>33</td>\n      <td>59</td>\n      <td>22167</td>\n      <td>299.000000</td>\n      <td>0.0</td>\n      <td>31</td>\n      <td>10</td>\n      <td>2</td>\n    </tr>\n  </tbody>\n</table>\n<p>7282800 rows × 8 columns</p>\n</div>"
     },
     "execution_count": 87,
     "metadata": {},
     "output_type": "execute_result"
    }
   ],
   "source": [
    "data['month'] = data['date_block_num']%12+1\n",
    "data['year'] = (data['date_block_num']//12)"
   ]
  },
  {
   "cell_type": "markdown",
   "source": [
    "adding revenue per month as a feature"
   ],
   "metadata": {
    "collapsed": false,
    "pycharm": {
     "name": "#%% md\n"
    }
   }
  },
  {
   "cell_type": "code",
   "execution_count": 88,
   "metadata": {
    "colab": {
     "base_uri": "https://localhost:8080/",
     "height": 424
    },
    "id": "0Bdl9wY0jI4n",
    "outputId": "e19e1d8a-24e2-42fa-e5ad-e485d1cb1dc8",
    "pycharm": {
     "name": "#%%\n"
    }
   },
   "outputs": [
    {
     "data": {
      "text/plain": "         date_block_num  shop_id  item_id  item_price  item_cnt_month  \\\n0                     0        2       30  359.000000             0.0   \n1                     1        2       30  359.000000             0.0   \n2                     2        2       30  359.000000             1.0   \n3                     3        2       30  372.333333             0.0   \n4                     4        2       30  385.666667             0.0   \n...                 ...      ...      ...         ...             ...   \n7282795              29       59    22167  299.000000             0.0   \n7282796              30       59    22167  299.000000             0.0   \n7282797              31       59    22167  299.000000             0.0   \n7282798              32       59    22167  299.000000             0.0   \n7282799              33       59    22167  299.000000             0.0   \n\n         num_days_in_month  month  year  revenue  \n0                       31      1     0      0.0  \n1                       28      2     0      0.0  \n2                       31      3     0    359.0  \n3                       30      4     0      0.0  \n4                       31      5     0      0.0  \n...                    ...    ...   ...      ...  \n7282795                 30      6     2      0.0  \n7282796                 31      7     2      0.0  \n7282797                 31      8     2      0.0  \n7282798                 30      9     2      0.0  \n7282799                 31     10     2      0.0  \n\n[7282800 rows x 9 columns]",
      "text/html": "<div>\n<style scoped>\n    .dataframe tbody tr th:only-of-type {\n        vertical-align: middle;\n    }\n\n    .dataframe tbody tr th {\n        vertical-align: top;\n    }\n\n    .dataframe thead th {\n        text-align: right;\n    }\n</style>\n<table border=\"1\" class=\"dataframe\">\n  <thead>\n    <tr style=\"text-align: right;\">\n      <th></th>\n      <th>date_block_num</th>\n      <th>shop_id</th>\n      <th>item_id</th>\n      <th>item_price</th>\n      <th>item_cnt_month</th>\n      <th>num_days_in_month</th>\n      <th>month</th>\n      <th>year</th>\n      <th>revenue</th>\n    </tr>\n  </thead>\n  <tbody>\n    <tr>\n      <th>0</th>\n      <td>0</td>\n      <td>2</td>\n      <td>30</td>\n      <td>359.000000</td>\n      <td>0.0</td>\n      <td>31</td>\n      <td>1</td>\n      <td>0</td>\n      <td>0.0</td>\n    </tr>\n    <tr>\n      <th>1</th>\n      <td>1</td>\n      <td>2</td>\n      <td>30</td>\n      <td>359.000000</td>\n      <td>0.0</td>\n      <td>28</td>\n      <td>2</td>\n      <td>0</td>\n      <td>0.0</td>\n    </tr>\n    <tr>\n      <th>2</th>\n      <td>2</td>\n      <td>2</td>\n      <td>30</td>\n      <td>359.000000</td>\n      <td>1.0</td>\n      <td>31</td>\n      <td>3</td>\n      <td>0</td>\n      <td>359.0</td>\n    </tr>\n    <tr>\n      <th>3</th>\n      <td>3</td>\n      <td>2</td>\n      <td>30</td>\n      <td>372.333333</td>\n      <td>0.0</td>\n      <td>30</td>\n      <td>4</td>\n      <td>0</td>\n      <td>0.0</td>\n    </tr>\n    <tr>\n      <th>4</th>\n      <td>4</td>\n      <td>2</td>\n      <td>30</td>\n      <td>385.666667</td>\n      <td>0.0</td>\n      <td>31</td>\n      <td>5</td>\n      <td>0</td>\n      <td>0.0</td>\n    </tr>\n    <tr>\n      <th>...</th>\n      <td>...</td>\n      <td>...</td>\n      <td>...</td>\n      <td>...</td>\n      <td>...</td>\n      <td>...</td>\n      <td>...</td>\n      <td>...</td>\n      <td>...</td>\n    </tr>\n    <tr>\n      <th>7282795</th>\n      <td>29</td>\n      <td>59</td>\n      <td>22167</td>\n      <td>299.000000</td>\n      <td>0.0</td>\n      <td>30</td>\n      <td>6</td>\n      <td>2</td>\n      <td>0.0</td>\n    </tr>\n    <tr>\n      <th>7282796</th>\n      <td>30</td>\n      <td>59</td>\n      <td>22167</td>\n      <td>299.000000</td>\n      <td>0.0</td>\n      <td>31</td>\n      <td>7</td>\n      <td>2</td>\n      <td>0.0</td>\n    </tr>\n    <tr>\n      <th>7282797</th>\n      <td>31</td>\n      <td>59</td>\n      <td>22167</td>\n      <td>299.000000</td>\n      <td>0.0</td>\n      <td>31</td>\n      <td>8</td>\n      <td>2</td>\n      <td>0.0</td>\n    </tr>\n    <tr>\n      <th>7282798</th>\n      <td>32</td>\n      <td>59</td>\n      <td>22167</td>\n      <td>299.000000</td>\n      <td>0.0</td>\n      <td>30</td>\n      <td>9</td>\n      <td>2</td>\n      <td>0.0</td>\n    </tr>\n    <tr>\n      <th>7282799</th>\n      <td>33</td>\n      <td>59</td>\n      <td>22167</td>\n      <td>299.000000</td>\n      <td>0.0</td>\n      <td>31</td>\n      <td>10</td>\n      <td>2</td>\n      <td>0.0</td>\n    </tr>\n  </tbody>\n</table>\n<p>7282800 rows × 9 columns</p>\n</div>"
     },
     "execution_count": 88,
     "metadata": {},
     "output_type": "execute_result"
    }
   ],
   "source": [
    "data['revenue'] = data['item_price'] *  data['item_cnt_month']"
   ]
  },
  {
   "cell_type": "markdown",
   "source": [
    "adding date as a feature"
   ],
   "metadata": {
    "collapsed": false,
    "pycharm": {
     "name": "#%% md\n"
    }
   }
  },
  {
   "cell_type": "code",
   "execution_count": 89,
   "metadata": {
    "id": "P55hQf9UjI4o",
    "pycharm": {
     "name": "#%%\n"
    }
   },
   "outputs": [],
   "source": [
    "data['date'] = data['date_block_num'].map(date_month)"
   ]
  },
  {
   "cell_type": "code",
   "execution_count": 98,
   "outputs": [],
   "source": [
    "data.to_csv('./data.csv', index= False)"
   ],
   "metadata": {
    "collapsed": false,
    "pycharm": {
     "name": "#%%\n"
    }
   }
  },
  {
   "cell_type": "markdown",
   "source": [
    "The company requires us to predict sales for particular stores and items, we are going to merge oor main data with the test set to narrow our predictions."
   ],
   "metadata": {
    "collapsed": false,
    "pycharm": {
     "name": "#%% md\n"
    }
   }
  },
  {
   "cell_type": "code",
   "execution_count": 90,
   "outputs": [
    {
     "data": {
      "text/plain": "             ID  shop_id  item_id  date_block_num  item_price  item_cnt_month  \\\n0         22987        2       30               0  359.000000             0.0   \n1         22987        2       30               1  359.000000             0.0   \n2         22987        2       30               2  359.000000             1.0   \n3         22987        2       30               3  372.333333             0.0   \n4         22987        2       30               4  385.666667             0.0   \n...         ...      ...      ...             ...         ...             ...   \n7282795  148377       59    22167              29  299.000000             0.0   \n7282796  148377       59    22167              30  299.000000             0.0   \n7282797  148377       59    22167              31  299.000000             0.0   \n7282798  148377       59    22167              32  299.000000             0.0   \n7282799  148377       59    22167              33  299.000000             0.0   \n\n         num_days_in_month  month  year  revenue       date  \n0                       31      1     0      0.0 2013-01-01  \n1                       28      2     0      0.0 2013-02-01  \n2                       31      3     0    359.0 2013-03-01  \n3                       30      4     0      0.0 2013-04-01  \n4                       31      5     0      0.0 2013-05-01  \n...                    ...    ...   ...      ...        ...  \n7282795                 30      6     2      0.0 2015-06-01  \n7282796                 31      7     2      0.0 2015-07-01  \n7282797                 31      8     2      0.0 2015-08-01  \n7282798                 30      9     2      0.0 2015-09-01  \n7282799                 31     10     2      0.0 2015-10-01  \n\n[7282800 rows x 11 columns]",
      "text/html": "<div>\n<style scoped>\n    .dataframe tbody tr th:only-of-type {\n        vertical-align: middle;\n    }\n\n    .dataframe tbody tr th {\n        vertical-align: top;\n    }\n\n    .dataframe thead th {\n        text-align: right;\n    }\n</style>\n<table border=\"1\" class=\"dataframe\">\n  <thead>\n    <tr style=\"text-align: right;\">\n      <th></th>\n      <th>ID</th>\n      <th>shop_id</th>\n      <th>item_id</th>\n      <th>date_block_num</th>\n      <th>item_price</th>\n      <th>item_cnt_month</th>\n      <th>num_days_in_month</th>\n      <th>month</th>\n      <th>year</th>\n      <th>revenue</th>\n      <th>date</th>\n    </tr>\n  </thead>\n  <tbody>\n    <tr>\n      <th>0</th>\n      <td>22987</td>\n      <td>2</td>\n      <td>30</td>\n      <td>0</td>\n      <td>359.000000</td>\n      <td>0.0</td>\n      <td>31</td>\n      <td>1</td>\n      <td>0</td>\n      <td>0.0</td>\n      <td>2013-01-01</td>\n    </tr>\n    <tr>\n      <th>1</th>\n      <td>22987</td>\n      <td>2</td>\n      <td>30</td>\n      <td>1</td>\n      <td>359.000000</td>\n      <td>0.0</td>\n      <td>28</td>\n      <td>2</td>\n      <td>0</td>\n      <td>0.0</td>\n      <td>2013-02-01</td>\n    </tr>\n    <tr>\n      <th>2</th>\n      <td>22987</td>\n      <td>2</td>\n      <td>30</td>\n      <td>2</td>\n      <td>359.000000</td>\n      <td>1.0</td>\n      <td>31</td>\n      <td>3</td>\n      <td>0</td>\n      <td>359.0</td>\n      <td>2013-03-01</td>\n    </tr>\n    <tr>\n      <th>3</th>\n      <td>22987</td>\n      <td>2</td>\n      <td>30</td>\n      <td>3</td>\n      <td>372.333333</td>\n      <td>0.0</td>\n      <td>30</td>\n      <td>4</td>\n      <td>0</td>\n      <td>0.0</td>\n      <td>2013-04-01</td>\n    </tr>\n    <tr>\n      <th>4</th>\n      <td>22987</td>\n      <td>2</td>\n      <td>30</td>\n      <td>4</td>\n      <td>385.666667</td>\n      <td>0.0</td>\n      <td>31</td>\n      <td>5</td>\n      <td>0</td>\n      <td>0.0</td>\n      <td>2013-05-01</td>\n    </tr>\n    <tr>\n      <th>...</th>\n      <td>...</td>\n      <td>...</td>\n      <td>...</td>\n      <td>...</td>\n      <td>...</td>\n      <td>...</td>\n      <td>...</td>\n      <td>...</td>\n      <td>...</td>\n      <td>...</td>\n      <td>...</td>\n    </tr>\n    <tr>\n      <th>7282795</th>\n      <td>148377</td>\n      <td>59</td>\n      <td>22167</td>\n      <td>29</td>\n      <td>299.000000</td>\n      <td>0.0</td>\n      <td>30</td>\n      <td>6</td>\n      <td>2</td>\n      <td>0.0</td>\n      <td>2015-06-01</td>\n    </tr>\n    <tr>\n      <th>7282796</th>\n      <td>148377</td>\n      <td>59</td>\n      <td>22167</td>\n      <td>30</td>\n      <td>299.000000</td>\n      <td>0.0</td>\n      <td>31</td>\n      <td>7</td>\n      <td>2</td>\n      <td>0.0</td>\n      <td>2015-07-01</td>\n    </tr>\n    <tr>\n      <th>7282797</th>\n      <td>148377</td>\n      <td>59</td>\n      <td>22167</td>\n      <td>31</td>\n      <td>299.000000</td>\n      <td>0.0</td>\n      <td>31</td>\n      <td>8</td>\n      <td>2</td>\n      <td>0.0</td>\n      <td>2015-08-01</td>\n    </tr>\n    <tr>\n      <th>7282798</th>\n      <td>148377</td>\n      <td>59</td>\n      <td>22167</td>\n      <td>32</td>\n      <td>299.000000</td>\n      <td>0.0</td>\n      <td>30</td>\n      <td>9</td>\n      <td>2</td>\n      <td>0.0</td>\n      <td>2015-09-01</td>\n    </tr>\n    <tr>\n      <th>7282799</th>\n      <td>148377</td>\n      <td>59</td>\n      <td>22167</td>\n      <td>33</td>\n      <td>299.000000</td>\n      <td>0.0</td>\n      <td>31</td>\n      <td>10</td>\n      <td>2</td>\n      <td>0.0</td>\n      <td>2015-10-01</td>\n    </tr>\n  </tbody>\n</table>\n<p>7282800 rows × 11 columns</p>\n</div>"
     },
     "execution_count": 90,
     "metadata": {},
     "output_type": "execute_result"
    }
   ],
   "source": [
    "df = test.sort_values(['shop_id','item_id']).reset_index().merge(data, how='left', on=['shop_id','item_id'])\n",
    "df"
   ],
   "metadata": {
    "collapsed": false,
    "pycharm": {
     "name": "#%%\n"
    }
   }
  },
  {
   "cell_type": "code",
   "execution_count": null,
   "outputs": [],
   "source": [
    "#df.to_csv('./df.csv', index= False)"
   ],
   "metadata": {
    "collapsed": false,
    "pycharm": {
     "name": "#%%\n"
    }
   }
  },
  {
   "cell_type": "code",
   "execution_count": 15,
   "outputs": [],
   "source": [
    "df = pd.read_csv('./df.csv')"
   ],
   "metadata": {
    "collapsed": false,
    "pycharm": {
     "name": "#%%\n"
    }
   }
  },
  {
   "cell_type": "code",
   "execution_count": null,
   "outputs": [],
   "source": [
    "df.head()"
   ],
   "metadata": {
    "collapsed": false,
    "pycharm": {
     "name": "#%%\n"
    }
   }
  },
  {
   "cell_type": "markdown",
   "source": [
    "# 5- Visualisation"
   ],
   "metadata": {
    "collapsed": false,
    "pycharm": {
     "name": "#%% md\n"
    }
   }
  },
  {
   "cell_type": "markdown",
   "source": [
    "to get a rough idea of how the data looks like, we are going to plot its monthly averages.\n",
    "There is a clear seasonality and an upward trend both for sales count and total revenue."
   ],
   "metadata": {
    "collapsed": false,
    "pycharm": {
     "name": "#%% md\n"
    }
   }
  },
  {
   "cell_type": "code",
   "execution_count": 16,
   "outputs": [
    {
     "data": {
      "text/plain": "<Figure size 864x432 with 1 Axes>",
      "image/png": "[encoded data removed]"
     },
     "metadata": {
      "needs_background": "light"
     },
     "output_type": "display_data"
    }
   ],
   "source": [
    "ax = df.groupby(['date'])['item_cnt_month'].mean().plot(kind='line',figsize=(12,6))\n",
    "ax.autoscale(axis='x',tight=True); ax.set(xlabel=''); ax.set(ylabel='Total Sales Count'), ax.set(title='Sales Count per Month');"
   ],
   "metadata": {
    "collapsed": false,
    "pycharm": {
     "name": "#%%\n"
    }
   }
  },
  {
   "cell_type": "code",
   "execution_count": 17,
   "outputs": [
    {
     "data": {
      "text/plain": "<Figure size 864x432 with 1 Axes>",
      "image/png": "[encoded data removed]"
     },
     "metadata": {
      "needs_background": "light"
     },
     "output_type": "display_data"
    }
   ],
   "source": [
    "ax = df.groupby(['date'])['revenue'].mean().plot(kind='line',figsize=(12,6))\n",
    "ax.autoscale(axis='x',tight=True); ax.set(xlabel=''); ax.set(ylabel='Total Revenue'), ax.set_title('Total Revenue per Month');"
   ],
   "metadata": {
    "collapsed": false,
    "pycharm": {
     "name": "#%%\n"
    }
   }
  },
  {
   "cell_type": "code",
   "execution_count": 37,
   "outputs": [
    {
     "data": {
      "text/plain": "<Figure size 1080x576 with 2 Axes>",
      "image/png": "[encoded data removed]"
     },
     "metadata": {
      "needs_background": "light"
     },
     "output_type": "display_data"
    }
   ],
   "source": [
    "# creating subplots()\n",
    "fig,ax = plt.subplots(figsize=(15,8))\n",
    "# plot 1\n",
    "x = date_month\n",
    "total_sales_count = df.groupby(['date'])['item_cnt_month'].mean()\n",
    "ax.plot(x, total_sales_count,label=\"Total Sales Count\")\n",
    "# axis labels\n",
    "ax.set_xlabel(\"Month\", fontsize = 14)\n",
    "ax.set_ylabel(\"Total Sales Count\", fontsize=14)\n",
    "# twin object for two different y-axis on the sample plot\n",
    "ax2=ax.twinx()\n",
    "total_revenue = df.groupby(['date'])['revenue'].mean()\n",
    "# make a plot with different y-axis using second axis object\n",
    "ax2.plot(x, total_revenue,color=\"Orange\",label=\"Total Revenue\")\n",
    "ax2.set_ylabel(\"Total Revenue\",fontsize=14)\n",
    "ax.autoscale(axis='x',tight=True); ax2.autoscale(axis='x',tight=True);\n",
    "ax.legend(loc='upper left'),ax2.legend()\n",
    "ax.set(title='Sales Count and Revenue per Month');"
   ],
   "metadata": {
    "collapsed": false,
    "pycharm": {
     "name": "#%%\n"
    }
   }
  },
  {
   "cell_type": "markdown",
   "source": [
    "here we can see that the sales count and revenue are highly correlated, so we later are going to chack if using revenue can improve our predictions."
   ],
   "metadata": {
    "collapsed": false,
    "pycharm": {
     "name": "#%% md\n"
    }
   }
  },
  {
   "cell_type": "code",
   "execution_count": 36,
   "outputs": [
    {
     "data": {
      "text/plain": "<Figure size 1080x576 with 2 Axes>",
      "image/png": "[encoded data removed]"
     },
     "metadata": {
      "needs_background": "light"
     },
     "output_type": "display_data"
    }
   ],
   "source": [
    "# creating subplots()\n",
    "fig,ax = plt.subplots(figsize=(15,8))\n",
    "# plot 1\n",
    "x = date_month\n",
    "total_sales_count = df.groupby(['date'])['item_cnt_month'].mean()\n",
    "ax.plot(x, total_sales_count,label=\"Total Sales Count\")\n",
    "# axis labels\n",
    "ax.set_xlabel(\"Month\", fontsize = 14)\n",
    "ax.set_ylabel(\"Total Sales Count\", fontsize=14)\n",
    "# twin object for two different y-axis on the sample plot\n",
    "ax2=ax.twinx()\n",
    "total_revenue = df.groupby(['date'])['revenue'].mean()\n",
    "# make a plot with different y-axis using second axis object\n",
    "ax2.plot(x, total_revenue,color=\"Orange\",label=\"Total Revenue\")\n",
    "ax2.set_ylabel(\"Total Revenue\",fontsize=14)\n",
    "ax.autoscale(axis='x',tight=True); ax2.autoscale(axis='x',tight=True);\n",
    "ax.legend(loc='upper left'),ax2.legend()\n",
    "ax.set(title='Sales Count and Revenue per Month');"
   ],
   "metadata": {
    "collapsed": false,
    "pycharm": {
     "name": "#%%\n"
    }
   }
  },
  {
   "cell_type": "markdown",
   "source": [
    "here we check if sales count and revenue for a set of shops and we see that comparteively the ploted lines are more volatile."
   ],
   "metadata": {
    "collapsed": false,
    "pycharm": {
     "name": "#%% md\n"
    }
   }
  },
  {
   "cell_type": "code",
   "execution_count": 26,
   "outputs": [
    {
     "data": {
      "text/plain": "<Figure size 864x432 with 1 Axes>",
      "image/png": "[encoded data removed]"
     },
     "metadata": {
      "needs_background": "light"
     },
     "output_type": "display_data"
    }
   ],
   "source": [
    "import random\n",
    "random.seed(42)\n",
    "rand_index = random.sample(shop_list, 5)\n",
    "for i in rand_index:\n",
    "    df[df['shop_id']==i].groupby(['date'])['item_cnt_month'].mean().rename(i).plot(kind='line',figsize=(12,6));"
   ],
   "metadata": {
    "collapsed": false,
    "pycharm": {
     "name": "#%%\n"
    }
   }
  },
  {
   "cell_type": "code",
   "execution_count": 27,
   "outputs": [
    {
     "data": {
      "text/plain": "<Figure size 864x432 with 1 Axes>",
      "image/png": "[encoded data removed]"
     },
     "metadata": {
      "needs_background": "light"
     },
     "output_type": "display_data"
    }
   ],
   "source": [
    "for i in rand_index:\n",
    "    df[df['shop_id']==i].groupby(['date'])['revenue'].mean().rename(i).plot(kind='line',figsize=(12,6));"
   ],
   "metadata": {
    "collapsed": false,
    "pycharm": {
     "name": "#%%\n"
    }
   }
  },
  {
   "cell_type": "markdown",
   "source": [
    "we are going to add these averages as potential exogenous predictor to our data set."
   ],
   "metadata": {
    "collapsed": false,
    "pycharm": {
     "name": "#%% md\n"
    }
   }
  },
  {
   "cell_type": "code",
   "execution_count": 28,
   "outputs": [
    {
     "data": {
      "text/plain": "      ID  shop_id  item_id  date_block_num  item_price  item_cnt_month  \\\n0  22987        2       30               0  359.000000             0.0   \n1  22987        2       30               1  359.000000             0.0   \n2  22987        2       30               2  359.000000             1.0   \n3  22987        2       30               3  372.333333             0.0   \n4  22987        2       30               4  385.666667             0.0   \n\n   num_days_in_month  month  year  revenue        date   tot_cnt     tot_rev  \\\n0                 31      1     0      0.0  2013-01-01  0.103492  140.614816   \n1                 28      2     0      0.0  2013-02-01  0.112470  168.683851   \n2                 31      3     0    359.0  2013-03-01  0.147521  220.938295   \n3                 30      4     0      0.0  2013-04-01  0.096657  129.369977   \n4                 31      5     0      0.0  2013-05-01  0.108880  124.717622   \n\n   tot_cnt_by_itm  tot_itm_by_shop  tot_rev_by_itm  tot_rev_by_shop  \n0        0.000000         0.048627        0.000000       113.851484  \n1       15.238095         0.026471     6707.465762        81.497120  \n2        9.380952         0.046471     4236.825000       123.823106  \n3        2.500000         0.032941     1130.126536        85.339833  \n4        1.071429         0.031176      478.027027        73.187402  ",
      "text/html": "<div>\n<style scoped>\n    .dataframe tbody tr th:only-of-type {\n        vertical-align: middle;\n    }\n\n    .dataframe tbody tr th {\n        vertical-align: top;\n    }\n\n    .dataframe thead th {\n        text-align: right;\n    }\n</style>\n<table border=\"1\" class=\"dataframe\">\n  <thead>\n    <tr style=\"text-align: right;\">\n      <th></th>\n      <th>ID</th>\n      <th>shop_id</th>\n      <th>item_id</th>\n      <th>date_block_num</th>\n      <th>item_price</th>\n      <th>item_cnt_month</th>\n      <th>num_days_in_month</th>\n      <th>month</th>\n      <th>year</th>\n      <th>revenue</th>\n      <th>date</th>\n      <th>tot_cnt</th>\n      <th>tot_rev</th>\n      <th>tot_cnt_by_itm</th>\n      <th>tot_itm_by_shop</th>\n      <th>tot_rev_by_itm</th>\n      <th>tot_rev_by_shop</th>\n    </tr>\n  </thead>\n  <tbody>\n    <tr>\n      <th>0</th>\n      <td>22987</td>\n      <td>2</td>\n      <td>30</td>\n      <td>0</td>\n      <td>359.000000</td>\n      <td>0.0</td>\n      <td>31</td>\n      <td>1</td>\n      <td>0</td>\n      <td>0.0</td>\n      <td>2013-01-01</td>\n      <td>0.103492</td>\n      <td>140.614816</td>\n      <td>0.000000</td>\n      <td>0.048627</td>\n      <td>0.000000</td>\n      <td>113.851484</td>\n    </tr>\n    <tr>\n      <th>1</th>\n      <td>22987</td>\n      <td>2</td>\n      <td>30</td>\n      <td>1</td>\n      <td>359.000000</td>\n      <td>0.0</td>\n      <td>28</td>\n      <td>2</td>\n      <td>0</td>\n      <td>0.0</td>\n      <td>2013-02-01</td>\n      <td>0.112470</td>\n      <td>168.683851</td>\n      <td>15.238095</td>\n      <td>0.026471</td>\n      <td>6707.465762</td>\n      <td>81.497120</td>\n    </tr>\n    <tr>\n      <th>2</th>\n      <td>22987</td>\n      <td>2</td>\n      <td>30</td>\n      <td>2</td>\n      <td>359.000000</td>\n      <td>1.0</td>\n      <td>31</td>\n      <td>3</td>\n      <td>0</td>\n      <td>359.0</td>\n      <td>2013-03-01</td>\n      <td>0.147521</td>\n      <td>220.938295</td>\n      <td>9.380952</td>\n      <td>0.046471</td>\n      <td>4236.825000</td>\n      <td>123.823106</td>\n    </tr>\n    <tr>\n      <th>3</th>\n      <td>22987</td>\n      <td>2</td>\n      <td>30</td>\n      <td>3</td>\n      <td>372.333333</td>\n      <td>0.0</td>\n      <td>30</td>\n      <td>4</td>\n      <td>0</td>\n      <td>0.0</td>\n      <td>2013-04-01</td>\n      <td>0.096657</td>\n      <td>129.369977</td>\n      <td>2.500000</td>\n      <td>0.032941</td>\n      <td>1130.126536</td>\n      <td>85.339833</td>\n    </tr>\n    <tr>\n      <th>4</th>\n      <td>22987</td>\n      <td>2</td>\n      <td>30</td>\n      <td>4</td>\n      <td>385.666667</td>\n      <td>0.0</td>\n      <td>31</td>\n      <td>5</td>\n      <td>0</td>\n      <td>0.0</td>\n      <td>2013-05-01</td>\n      <td>0.108880</td>\n      <td>124.717622</td>\n      <td>1.071429</td>\n      <td>0.031176</td>\n      <td>478.027027</td>\n      <td>73.187402</td>\n    </tr>\n  </tbody>\n</table>\n</div>"
     },
     "execution_count": 28,
     "metadata": {},
     "output_type": "execute_result"
    }
   ],
   "source": [
    "df.head()"
   ],
   "metadata": {
    "collapsed": false,
    "pycharm": {
     "name": "#%%\n"
    }
   }
  },
  {
   "cell_type": "markdown",
   "source": [
    "first we add the monthly total sales count average."
   ],
   "metadata": {
    "collapsed": false,
    "pycharm": {
     "name": "#%% md\n"
    }
   }
  },
  {
   "cell_type": "code",
   "execution_count": 29,
   "outputs": [],
   "source": [
    "df = df.merge(df.groupby(['date'])['item_cnt_month'].mean().rename('tot_cnt').reset_index(), how='left', on='date')"
   ],
   "metadata": {
    "collapsed": false,
    "pycharm": {
     "name": "#%%\n"
    }
   }
  },
  {
   "cell_type": "markdown",
   "source": [
    "monthly total revenue average."
   ],
   "metadata": {
    "collapsed": false,
    "pycharm": {
     "name": "#%% md\n"
    }
   }
  },
  {
   "cell_type": "code",
   "execution_count": 30,
   "outputs": [],
   "source": [
    "df = df.merge(df.groupby(['date'])['revenue'].mean().rename('tot_rev').reset_index(), how='left', on='date')"
   ],
   "metadata": {
    "collapsed": false,
    "pycharm": {
     "name": "#%%\n"
    }
   }
  },
  {
   "cell_type": "markdown",
   "source": [
    "monthly total sales by item average."
   ],
   "metadata": {
    "collapsed": false,
    "pycharm": {
     "name": "#%% md\n"
    }
   }
  },
  {
   "cell_type": "code",
   "execution_count": 31,
   "outputs": [],
   "source": [
    "df = df.merge(df.groupby(['date','item_id'])['item_cnt_month'].mean().rename('tot_cnt_by_itm').reset_index(), how='left', on=['date','item_id'])"
   ],
   "metadata": {
    "collapsed": false,
    "pycharm": {
     "name": "#%%\n"
    }
   }
  },
  {
   "cell_type": "markdown",
   "source": [
    "monthly total sales by shop average."
   ],
   "metadata": {
    "collapsed": false,
    "pycharm": {
     "name": "#%% md\n"
    }
   }
  },
  {
   "cell_type": "code",
   "execution_count": null,
   "outputs": [],
   "source": [
    "df = df.merge(df.groupby(['date','shop_id'])['item_cnt_month'].mean().rename('tot_itm_by_shop').reset_index(), how='left', on=['date','shop_id'])"
   ],
   "metadata": {
    "collapsed": false,
    "pycharm": {
     "name": "#%%\n"
    }
   }
  },
  {
   "cell_type": "markdown",
   "source": [
    "monthly revenue by item average."
   ],
   "metadata": {
    "collapsed": false,
    "pycharm": {
     "name": "#%% md\n"
    }
   }
  },
  {
   "cell_type": "code",
   "execution_count": null,
   "outputs": [],
   "source": [
    "df = df.merge(df.groupby(['date','item_id'])['revenue'].mean().rename('tot_rev_by_itm').reset_index(), how='left', on=['date','item_id'])"
   ],
   "metadata": {
    "collapsed": false,
    "pycharm": {
     "name": "#%%\n"
    }
   }
  },
  {
   "cell_type": "markdown",
   "source": [
    "monthly revenue by shop average."
   ],
   "metadata": {
    "collapsed": false,
    "pycharm": {
     "name": "#%% md\n"
    }
   }
  },
  {
   "cell_type": "code",
   "execution_count": null,
   "outputs": [],
   "source": [
    "df = df.merge(df.groupby(['date','shop_id'])['revenue'].mean().rename('tot_rev_by_shop').reset_index(), how='left', on=['date','shop_id'])"
   ],
   "metadata": {
    "collapsed": false,
    "pycharm": {
     "name": "#%%\n"
    }
   }
  },
  {
   "cell_type": "code",
   "execution_count": null,
   "outputs": [],
   "source": [
    "df.to_csv('./df.csv', index= False)"
   ],
   "metadata": {
    "collapsed": false,
    "pycharm": {
     "name": "#%%\n"
    }
   }
  },
  {
   "cell_type": "code",
   "execution_count": null,
   "outputs": [],
   "source": [
    "df = pd.read_csv('./df.csv')"
   ],
   "metadata": {
    "collapsed": false,
    "pycharm": {
     "name": "#%%\n"
    }
   }
  },
  {
   "cell_type": "markdown",
   "source": [
    "# 6- Statistical Analysis and SARIMAX Forcasting"
   ],
   "metadata": {
    "collapsed": false,
    "pycharm": {
     "name": "#%% md\n"
    }
   }
  },
  {
   "cell_type": "markdown",
   "source": [
    "We have to predict sales for 214,000 item-shop combination, hence the statmodels is not the most scalable library. I am going to use it only to check the general characteristics of the mean data."
   ],
   "metadata": {
    "collapsed": false,
    "pycharm": {
     "name": "#%% md\n"
    }
   }
  },
  {
   "cell_type": "code",
   "execution_count": null,
   "outputs": [],
   "source": [
    "df_tot_item = df.groupby(['date'])['item_cnt_month'].mean()\n",
    "df_tot_item.index = pd.DatetimeIndex(df_tot_item.index.values)\n",
    "df_tot_item.index.freq = 'MS'"
   ],
   "metadata": {
    "collapsed": false,
    "pycharm": {
     "name": "#%%\n"
    }
   }
  },
  {
   "cell_type": "code",
   "execution_count": null,
   "outputs": [],
   "source": [
    "ax = df.groupby(['date'])['item_cnt_month'].mean().plot(kind='line',figsize=(12,6))\n",
    "ax.autoscale(axis='x',tight=True); ax.set(xlabel=''); ax.set(ylabel='Total Sales Count'), ax.set(title='Sales Count per Month');"
   ],
   "metadata": {
    "collapsed": false,
    "pycharm": {
     "name": "#%%\n"
    }
   }
  },
  {
   "cell_type": "markdown",
   "source": [
    "First we begin to check for trend in the data. We run the Dickey-Fuller test"
   ],
   "metadata": {
    "collapsed": false,
    "pycharm": {
     "name": "#%% md\n"
    }
   }
  },
  {
   "cell_type": "code",
   "execution_count": null,
   "outputs": [],
   "source": [
    "from statsmodels.tsa.stattools import adfuller\n",
    "print('Augmented Dickey-Fuller aver Data')\n",
    "dftest = adfuller(df_tot_item,autolag='AIC')\n",
    "dfout = pd.Series(dftest[0:4],index=['ADF test statistic','p-value','# lags used','# observations'])\n",
    "\n",
    "for key,val in dftest[4].items():\n",
    "    dfout[f'critical value ({key})']=val\n",
    "print(dfout)"
   ],
   "metadata": {
    "collapsed": false,
    "pycharm": {
     "name": "#%%\n"
    }
   }
  },
  {
   "cell_type": "markdown",
   "source": [
    "We do one degree of defrentiation and it seems that we get an almost stationary series."
   ],
   "metadata": {
    "collapsed": false,
    "pycharm": {
     "name": "#%% md\n"
    }
   }
  },
  {
   "cell_type": "code",
   "execution_count": null,
   "outputs": [],
   "source": [
    "df_tot_item.diff(1).plot(kind='line',figsize=(12,6)).autoscale(axis='x',tight=True);"
   ],
   "metadata": {
    "collapsed": false,
    "pycharm": {
     "name": "#%%\n"
    }
   }
  },
  {
   "cell_type": "markdown",
   "source": [
    "The p-value is smaller than 0.05 and hence we can say that the series is stationary after differentiation."
   ],
   "metadata": {
    "collapsed": false,
    "pycharm": {
     "name": "#%% md\n"
    }
   }
  },
  {
   "cell_type": "code",
   "execution_count": null,
   "outputs": [],
   "source": [
    "print('Augmented Dickey-Fuller aver Data')\n",
    "dftest = adfuller(df_tot_item.diff(1)[1:],autolag='AIC')\n",
    "dfout = pd.Series(dftest[0:4],index=['ADF test statistic','p-value','# lags used','# observations'])\n",
    "\n",
    "for key,val in dftest[4].items():\n",
    "    dfout[f'critical value ({key})']=val\n",
    "print(dfout)"
   ],
   "metadata": {
    "collapsed": false,
    "pycharm": {
     "name": "#%%\n"
    }
   }
  },
  {
   "cell_type": "markdown",
   "source": [
    "Now we plot the monthly and quarterly graphs and we see observe the strong seasoanlity in the data and the increase in the sale in the last month. Also we see the trend for the qurterly graph"
   ],
   "metadata": {
    "collapsed": false,
    "pycharm": {
     "name": "#%% md\n"
    }
   }
  },
  {
   "cell_type": "code",
   "execution_count": null,
   "outputs": [],
   "source": [
    "from statsmodels.graphics.tsaplots import month_plot,quarter_plot\n",
    "\n",
    "month_plot(df_tot_item);"
   ],
   "metadata": {
    "collapsed": false,
    "pycharm": {
     "name": "#%%\n"
    }
   }
  },
  {
   "cell_type": "code",
   "execution_count": null,
   "outputs": [],
   "source": [
    "quarter_plot(df_tot_item.resample(rule='Q').mean());"
   ],
   "metadata": {
    "collapsed": false,
    "pycharm": {
     "name": "#%%\n"
    }
   }
  },
  {
   "cell_type": "code",
   "execution_count": null,
   "outputs": [],
   "source": [
    "from statsmodels.tsa.statespace.sarimax import SARIMAX\n",
    "\n",
    "from statsmodels.graphics.tsaplots import plot_acf,plot_pacf # for determining (p,q) orders\n",
    "from statsmodels.tsa.seasonal import seasonal_decompose      # for ETS Plots\n",
    "from pmdarima import auto_arima"
   ],
   "metadata": {
    "collapsed": false,
    "pycharm": {
     "name": "#%%\n"
    }
   }
  },
  {
   "cell_type": "markdown",
   "source": [
    "We decompose the data and we observe each component seperatley."
   ],
   "metadata": {
    "collapsed": false,
    "pycharm": {
     "name": "#%% md\n"
    }
   }
  },
  {
   "cell_type": "code",
   "execution_count": null,
   "outputs": [],
   "source": [
    "seasonal_decompose(df_tot_item, model='add').plot();"
   ],
   "metadata": {
    "collapsed": false,
    "pycharm": {
     "name": "#%%\n"
    }
   }
  },
  {
   "cell_type": "markdown",
   "source": [
    "Here observing the autocorrelation graph we see that there is autocorrelation of at least degree 1."
   ],
   "metadata": {
    "collapsed": false,
    "pycharm": {
     "name": "#%% md\n"
    }
   }
  },
  {
   "cell_type": "code",
   "execution_count": null,
   "outputs": [],
   "source": [
    "plot_acf(df_tot_item,lags=30);"
   ],
   "metadata": {
    "collapsed": false,
    "pycharm": {
     "name": "#%%\n"
    }
   }
  },
  {
   "cell_type": "markdown",
   "source": [
    "investigating the partial autocorrelation graph we see that the data has a yearly reacurrence."
   ],
   "metadata": {
    "collapsed": false,
    "pycharm": {
     "name": "#%% md\n"
    }
   }
  },
  {
   "cell_type": "code",
   "execution_count": null,
   "outputs": [],
   "source": [
    "plot_pacf(df_tot_item, lags=12);"
   ],
   "metadata": {
    "collapsed": false,
    "pycharm": {
     "name": "#%%\n"
    }
   }
  },
  {
   "cell_type": "markdown",
   "source": [
    "Now to fit the model we are going to use the autoarima, however since the dataset time horison is very small, the function does not preform well, and we see that replaceing the model components to what we can see with naked eyes, we get lower errors."
   ],
   "metadata": {
    "collapsed": false,
    "pycharm": {
     "name": "#%% md\n"
    }
   }
  },
  {
   "cell_type": "code",
   "execution_count": null,
   "outputs": [],
   "source": [
    "auto_arima(df_tot_item[:'2015-07-01'], seasonal=True, m=12).summary()"
   ],
   "metadata": {
    "collapsed": false,
    "pycharm": {
     "name": "#%%\n"
    }
   }
  },
  {
   "cell_type": "code",
   "execution_count": null,
   "outputs": [],
   "source": [
    "auto_model = SARIMAX(df_tot_item[:'2015-07-01'],order=(0,0,1),seasonal_order=(0,1,0,12)).fit()\n",
    "man_model = SARIMAX(df_tot_item[:'2015-07-01'],order=(1,1,0),seasonal_order=(1,1,0,12)).fit()"
   ],
   "metadata": {
    "collapsed": false,
    "pycharm": {
     "name": "#%%\n"
    }
   }
  },
  {
   "cell_type": "code",
   "execution_count": null,
   "outputs": [],
   "source": [
    "df_tot_item['2015-07-01':]"
   ],
   "metadata": {
    "collapsed": false,
    "pycharm": {
     "name": "#%%\n"
    }
   }
  },
  {
   "cell_type": "code",
   "execution_count": null,
   "outputs": [],
   "source": [
    "auto_pre = auto_model.predict(start='2015-08-01',end='2015-10-1',dynamic=False, typ='levels').rename('SARIMA(0,0,1)(0,1,0,12) Auto Predictions')\n",
    "man_pre = man_model.predict(start='2015-08-01',end='2015-10-1',dynamic=False, typ='levels').rename('SARIMA(1,1,0)(1,1,0,12) Manual Predictions')"
   ],
   "metadata": {
    "collapsed": false,
    "pycharm": {
     "name": "#%%\n"
    }
   }
  },
  {
   "cell_type": "code",
   "execution_count": null,
   "outputs": [],
   "source": [
    "df_tot_item.loc['2014-9-1':].rename('actual data').plot(figsize=(12,6),legend=True);\n",
    "auto_pre.plot(figsize=(12,6),legend=True);\n",
    "man_pre.plot(figsize=(12,6),legend=True);"
   ],
   "metadata": {
    "collapsed": false,
    "pycharm": {
     "name": "#%%\n"
    }
   }
  },
  {
   "cell_type": "code",
   "execution_count": null,
   "outputs": [],
   "source": [
    "from statsmodels.tools.eval_measures import rmse\n",
    "from sklearn.metrics import mean_squared_error\n",
    "print('auto_model error: {:0.4f}'.format(rmse(df_tot_item.loc['2015-08-01':'2015-10-1'],auto_pre)))\n",
    "print('manual_model error: {:0.4f}'.format( rmse(df_tot_item.loc['2015-08-01':'2015-10-1'],man_pre)))"
   ],
   "metadata": {
    "collapsed": false,
    "pycharm": {
     "name": "#%%\n"
    }
   }
  },
  {
   "cell_type": "markdown",
   "source": [
    "#### SARIMAX\n"
   ],
   "metadata": {
    "collapsed": false,
    "pycharm": {
     "name": "#%% md\n"
    }
   }
  },
  {
   "cell_type": "markdown",
   "source": [
    "Now we try to add other predictors at our disposal to see if we can improve the predictions by switching to SARIMAX. Although the number of exogenous predictors is smaller compared to the full dataset."
   ],
   "metadata": {
    "collapsed": false,
    "pycharm": {
     "name": "#%% md\n"
    }
   }
  },
  {
   "cell_type": "code",
   "execution_count": null,
   "outputs": [],
   "source": [
    "df_tot_ex = df.groupby('date')['item_cnt_month','revenue','num_days_in_month','month','year'].mean()"
   ],
   "metadata": {
    "collapsed": false,
    "pycharm": {
     "name": "#%%\n"
    }
   }
  },
  {
   "cell_type": "code",
   "execution_count": null,
   "outputs": [],
   "source": [
    "%%time\n",
    "model = SARIMAX(df_tot_ex['item_cnt_month'],exog=df_tot_ex[['revenue','num_days_in_month']],order=(1,1,0),seasonal_order=(1,1,0,12),enforce_invertibility=False).fit()\n",
    "sar_pre = model.predict(start='2015-08-01',end='2015-10-1',dynamic=False, typ='levels').rename('SARIMAX(1,1,0)(1,1,0,12) Exo Predictors')"
   ],
   "metadata": {
    "collapsed": false,
    "pycharm": {
     "name": "#%%\n"
    }
   }
  },
  {
   "cell_type": "code",
   "execution_count": null,
   "outputs": [],
   "source": [
    "df_tot_item.loc['2014-9-1':].rename('actual data').plot(figsize=(12,6),legend=True);\n",
    "auto_pre.plot(figsize=(12,6),legend=True);\n",
    "man_pre.plot(figsize=(12,6),legend=True);\n",
    "sar_pre.plot(figsize=(12,6),legend=True);"
   ],
   "metadata": {
    "collapsed": false,
    "pycharm": {
     "name": "#%%\n"
    }
   }
  },
  {
   "cell_type": "code",
   "execution_count": null,
   "outputs": [],
   "source": [
    "print('auto_model error: {:0.5f}'.format(rmse(df_tot_item.loc['2015-08-01':'2015-10-1'],auto_pre)))\n",
    "print('manual_model error: {:0.5f}'.format(rmse(df_tot_item.loc['2015-08-01':'2015-10-1'],man_pre)))\n",
    "print('SARIMAX_model error: {:0.5f}'.format(rmse(df_tot_item.loc['2015-08-01':'2015-10-1'],sar_pre)))"
   ],
   "metadata": {
    "collapsed": false,
    "pycharm": {
     "name": "#%%\n"
    }
   }
  },
  {
   "cell_type": "markdown",
   "source": [
    "# 7- Gradient Boosting"
   ],
   "metadata": {
    "collapsed": false,
    "pycharm": {
     "name": "#%% md\n"
    }
   }
  },
  {
   "cell_type": "markdown",
   "source": [
    "## 7-1 Flattening the Dataframe"
   ],
   "metadata": {
    "collapsed": false,
    "pycharm": {
     "name": "#%% md\n"
    }
   }
  },
  {
   "cell_type": "markdown",
   "source": [
    "Gradiant boosting methods only accept 2d arrays, so we need to flatten the dataframe. which as actually a 3d array.\n",
    "So we have to drop a few of the columns wich we used in our prior analysis and models.\n",
    "then we are going to make a list of of the unique IDs of the items. and based on this list we are goign to slice the data set and flatten it through a for loop.\n",
    "As there is trend in the data I can not be sure in advance how well the data works for prediction of our out of range target variable.\n",
    "\n",
    "To make the best predictions, I am not sure whether I should use as many lags available or try to reproduce the trend and seasonality as much as possible. To test the first hypothesis, I am going to use the first 21 lags which allow us as much as possible back with the same seasonality and trend.\n",
    "In the other hypothesis, I am going to use all the prior lags, 32, and use the mode to predict the last period."
   ],
   "metadata": {
    "collapsed": false,
    "pycharm": {
     "name": "#%% md\n"
    }
   }
  },
  {
   "cell_type": "code",
   "execution_count": 21,
   "outputs": [],
   "source": [
    "df = pd.read_csv('./df.csv')"
   ],
   "metadata": {
    "collapsed": false,
    "pycharm": {
     "name": "#%%\n"
    }
   }
  },
  {
   "cell_type": "code",
   "execution_count": 22,
   "outputs": [
    {
     "data": {
      "text/plain": "      ID  shop_id  item_id  item_price  item_cnt_month  num_days_in_month  \\\n0  22987        2       30  359.000000             0.0                 31   \n1  22987        2       30  359.000000             0.0                 28   \n2  22987        2       30  359.000000             1.0                 31   \n3  22987        2       30  372.333333             0.0                 30   \n4  22987        2       30  385.666667             0.0                 31   \n\n   revenue   tot_cnt     tot_rev  tot_cnt_by_itm  tot_itm_by_shop  \\\n0      0.0  0.103492  140.614816        0.000000         0.048627   \n1      0.0  0.112470  168.683851       15.238095         0.026471   \n2    359.0  0.147521  220.938295        9.380952         0.046471   \n3      0.0  0.096657  129.369977        2.500000         0.032941   \n4      0.0  0.108880  124.717622        1.071429         0.031176   \n\n   tot_rev_by_itm  tot_rev_by_shop  \n0        0.000000       113.851484  \n1     6707.465762        81.497120  \n2     4236.825000       123.823106  \n3     1130.126536        85.339833  \n4      478.027027        73.187402  ",
      "text/html": "<div>\n<style scoped>\n    .dataframe tbody tr th:only-of-type {\n        vertical-align: middle;\n    }\n\n    .dataframe tbody tr th {\n        vertical-align: top;\n    }\n\n    .dataframe thead th {\n        text-align: right;\n    }\n</style>\n<table border=\"1\" class=\"dataframe\">\n  <thead>\n    <tr style=\"text-align: right;\">\n      <th></th>\n      <th>ID</th>\n      <th>shop_id</th>\n      <th>item_id</th>\n      <th>item_price</th>\n      <th>item_cnt_month</th>\n      <th>num_days_in_month</th>\n      <th>revenue</th>\n      <th>tot_cnt</th>\n      <th>tot_rev</th>\n      <th>tot_cnt_by_itm</th>\n      <th>tot_itm_by_shop</th>\n      <th>tot_rev_by_itm</th>\n      <th>tot_rev_by_shop</th>\n    </tr>\n  </thead>\n  <tbody>\n    <tr>\n      <th>0</th>\n      <td>22987</td>\n      <td>2</td>\n      <td>30</td>\n      <td>359.000000</td>\n      <td>0.0</td>\n      <td>31</td>\n      <td>0.0</td>\n      <td>0.103492</td>\n      <td>140.614816</td>\n      <td>0.000000</td>\n      <td>0.048627</td>\n      <td>0.000000</td>\n      <td>113.851484</td>\n    </tr>\n    <tr>\n      <th>1</th>\n      <td>22987</td>\n      <td>2</td>\n      <td>30</td>\n      <td>359.000000</td>\n      <td>0.0</td>\n      <td>28</td>\n      <td>0.0</td>\n      <td>0.112470</td>\n      <td>168.683851</td>\n      <td>15.238095</td>\n      <td>0.026471</td>\n      <td>6707.465762</td>\n      <td>81.497120</td>\n    </tr>\n    <tr>\n      <th>2</th>\n      <td>22987</td>\n      <td>2</td>\n      <td>30</td>\n      <td>359.000000</td>\n      <td>1.0</td>\n      <td>31</td>\n      <td>359.0</td>\n      <td>0.147521</td>\n      <td>220.938295</td>\n      <td>9.380952</td>\n      <td>0.046471</td>\n      <td>4236.825000</td>\n      <td>123.823106</td>\n    </tr>\n    <tr>\n      <th>3</th>\n      <td>22987</td>\n      <td>2</td>\n      <td>30</td>\n      <td>372.333333</td>\n      <td>0.0</td>\n      <td>30</td>\n      <td>0.0</td>\n      <td>0.096657</td>\n      <td>129.369977</td>\n      <td>2.500000</td>\n      <td>0.032941</td>\n      <td>1130.126536</td>\n      <td>85.339833</td>\n    </tr>\n    <tr>\n      <th>4</th>\n      <td>22987</td>\n      <td>2</td>\n      <td>30</td>\n      <td>385.666667</td>\n      <td>0.0</td>\n      <td>31</td>\n      <td>0.0</td>\n      <td>0.108880</td>\n      <td>124.717622</td>\n      <td>1.071429</td>\n      <td>0.031176</td>\n      <td>478.027027</td>\n      <td>73.187402</td>\n    </tr>\n  </tbody>\n</table>\n</div>"
     },
     "execution_count": 22,
     "metadata": {},
     "output_type": "execute_result"
    }
   ],
   "source": [
    "pre_df = df.drop(['date_block_num','month','year','date'],axis=1)\n",
    "# the items that have not sold at all, do not have  price tag, so we are going to drop them and predict their final value to be zero.\n",
    "pre_df = pre_df.dropna()\n",
    "pre_df.head()"
   ],
   "metadata": {
    "collapsed": false,
    "pycharm": {
     "name": "#%%\n"
    }
   }
  },
  {
   "cell_type": "code",
   "execution_count": null,
   "outputs": [],
   "source": [
    "df.head()"
   ],
   "metadata": {
    "collapsed": false,
    "pycharm": {
     "name": "#%%\n"
    }
   }
  },
  {
   "cell_type": "code",
   "execution_count": null,
   "outputs": [],
   "source": [
    "np.array(df[df['ID']==22987].iloc[:21,4:]).flatten('F').reshape(1,-1)"
   ],
   "metadata": {
    "collapsed": false,
    "pycharm": {
     "name": "#%%\n"
    }
   }
  },
  {
   "cell_type": "code",
   "execution_count": null,
   "outputs": [],
   "source": [
    "pre_df[pre_df['ID']==22491].iloc[:21,3:]"
   ],
   "metadata": {
    "collapsed": false,
    "pycharm": {
     "name": "#%%\n"
    }
   }
  },
  {
   "cell_type": "markdown",
   "source": [
    "#### Flat dataframe for the first 21 periods - train data"
   ],
   "metadata": {
    "collapsed": false,
    "pycharm": {
     "name": "#%% md\n"
    }
   }
  },
  {
   "cell_type": "markdown",
   "source": [
    "the x_train"
   ],
   "metadata": {
    "collapsed": false,
    "pycharm": {
     "name": "#%% md\n"
    }
   }
  },
  {
   "cell_type": "code",
   "execution_count": null,
   "outputs": [],
   "source": [
    "%%time\n",
    "gb_train_l = []\n",
    "l = 0\n",
    "for i in df.ID.unique():\n",
    "    gb_train_l.append(np.append(df[df['ID']==i].iloc[0,0:3].values,(pre_df[pre_df['ID']==i].iloc[:21,3:].values.flatten('F').reshape(1,-1))))\n",
    "    l += 1\n",
    "    if l%1000==0:\n",
    "        print(l)"
   ],
   "metadata": {
    "collapsed": false,
    "pycharm": {
     "name": "#%%\n"
    }
   }
  },
  {
   "cell_type": "code",
   "execution_count": null,
   "outputs": [],
   "source": [
    "gb_train_21_per = pd.DataFrame(gb_train_l)"
   ],
   "metadata": {
    "collapsed": false,
    "pycharm": {
     "name": "#%%\n"
    }
   }
  },
  {
   "cell_type": "code",
   "execution_count": null,
   "outputs": [],
   "source": [
    "gb_train_21_per.head(n=10)"
   ],
   "metadata": {
    "collapsed": false,
    "pycharm": {
     "name": "#%%\n"
    }
   }
  },
  {
   "cell_type": "code",
   "execution_count": null,
   "outputs": [],
   "source": [
    "gb_train_21_per.to_csv('gb_train_21_periods.csv',index=False)"
   ],
   "metadata": {
    "collapsed": false,
    "pycharm": {
     "name": "#%%\n"
    }
   }
  },
  {
   "cell_type": "code",
   "execution_count": null,
   "outputs": [],
   "source": [
    "target_ID =  gb_train_21_per.iloc[:,0].values"
   ],
   "metadata": {
    "collapsed": false,
    "pycharm": {
     "name": "#%%\n"
    }
   }
  },
  {
   "cell_type": "markdown",
   "source": [
    "the y_train, I am going to use the range command o create a list of a apporpriate values for target variables."
   ],
   "metadata": {
    "collapsed": false,
    "pycharm": {
     "name": "#%% md\n"
    }
   }
  },
  {
   "cell_type": "code",
   "execution_count": null,
   "outputs": [],
   "source": [
    "y_train_21_per = df[(df['ID'].isin(target_ID))]\n",
    "y_train_21_per = y_train_21_per[y_train_21_per['date_block_num']==21]\n",
    "y_train_21_per = y_train_21_per[['ID','item_cnt_month']]"
   ],
   "metadata": {
    "collapsed": false,
    "pycharm": {
     "name": "#%%\n"
    }
   }
  },
  {
   "cell_type": "code",
   "execution_count": null,
   "outputs": [],
   "source": [
    "gb_train_21_per.shape, y_train_21_per.shape"
   ],
   "metadata": {
    "collapsed": false,
    "pycharm": {
     "name": "#%%\n"
    }
   }
  },
  {
   "cell_type": "code",
   "execution_count": null,
   "outputs": [],
   "source": [
    "gb_train_21_per = gb_train_21_per.merge(y_train_21_per,left_on=0,right_on='ID',how='left').drop(columns='ID')"
   ],
   "metadata": {
    "collapsed": false,
    "pycharm": {
     "name": "#%%\n"
    }
   }
  },
  {
   "cell_type": "code",
   "execution_count": null,
   "outputs": [],
   "source": [
    "gb_train_21_per_col_names = ['ID','shop_id','item_id']\n",
    "for col in df.drop(['ID','shop_id','item_id','date_block_num','year','month','date'],axis=1).columns:\n",
    "    for i in range(0,21):\n",
    "        gb_train_21_per_col_names.append(str(col)+'_'+str(i))\n",
    "\n",
    "gb_train_21_per_col_names.append('target')"
   ],
   "metadata": {
    "collapsed": false,
    "pycharm": {
     "name": "#%%\n"
    }
   }
  },
  {
   "cell_type": "code",
   "execution_count": null,
   "outputs": [],
   "source": [
    "gb_train_21_per.columns = gb_train_21_per_col_names"
   ],
   "metadata": {
    "collapsed": false,
    "pycharm": {
     "name": "#%%\n"
    }
   }
  },
  {
   "cell_type": "code",
   "execution_count": null,
   "outputs": [],
   "source": [
    "gb_train_21_per.to_csv('gb_train_21_periods.csv',index=False, header=True)"
   ],
   "metadata": {
    "collapsed": false,
    "pycharm": {
     "name": "#%%\n"
    }
   }
  },
  {
   "cell_type": "code",
   "execution_count": null,
   "outputs": [],
   "source": [
    "gb_train_21_per = pd.read_csv('gb_train_21_periods.csv', header= 0)"
   ],
   "metadata": {
    "collapsed": false,
    "pycharm": {
     "name": "#%%\n"
    }
   }
  },
  {
   "cell_type": "code",
   "execution_count": null,
   "outputs": [],
   "source": [
    "%%time\n",
    "gb_test_l = []\n",
    "l = 0\n",
    "for i in pre_df.ID.unique():\n",
    "    gb_test_l.append(np.append(pre_df[pre_df['ID']==i].iloc[0,0:3].values,(pre_df[pre_df['ID']==i].iloc[12:33,3:].values.flatten('F').reshape(1,-1))))\n",
    "    l += 1\n",
    "    if l%1000==0:\n",
    "        print(l)"
   ],
   "metadata": {
    "collapsed": false,
    "pycharm": {
     "name": "#%%\n"
    }
   }
  },
  {
   "cell_type": "code",
   "execution_count": null,
   "outputs": [],
   "source": [
    "gb_test_21_per = pd.DataFrame(gb_test_l)\n",
    "gb_test_21_per.head()"
   ],
   "metadata": {
    "collapsed": false,
    "pycharm": {
     "name": "#%%\n"
    }
   }
  },
  {
   "cell_type": "code",
   "execution_count": null,
   "outputs": [],
   "source": [
    "y_test_21_per = df[(df['ID'].isin(target_ID))]\n",
    "y_test_21_per = y_test_21_per[y_test_21_per['date_block_num']==33]\n",
    "y_test_21_per = y_test_21_per[['ID','item_cnt_month']]"
   ],
   "metadata": {
    "collapsed": false,
    "pycharm": {
     "name": "#%%\n"
    }
   }
  },
  {
   "cell_type": "code",
   "execution_count": null,
   "outputs": [],
   "source": [
    "gb_test_21_per = gb_test_21_per.merge(y_test_21_per,left_on=0,right_on='ID',how='left').drop(columns='ID')"
   ],
   "metadata": {
    "collapsed": false,
    "pycharm": {
     "name": "#%%\n"
    }
   }
  },
  {
   "cell_type": "code",
   "execution_count": null,
   "outputs": [],
   "source": [
    "gb_test_21_per.shape, y_test_21_per.shape, gb_train_21_per.shape, y_train_21_per.shape"
   ],
   "metadata": {
    "collapsed": false,
    "pycharm": {
     "name": "#%%\n"
    }
   }
  },
  {
   "cell_type": "code",
   "execution_count": null,
   "outputs": [],
   "source": [
    "gb_test_21_per.columns = gb_train_21_per_col_names"
   ],
   "metadata": {
    "collapsed": false,
    "pycharm": {
     "name": "#%%\n"
    }
   }
  },
  {
   "cell_type": "code",
   "execution_count": null,
   "outputs": [],
   "source": [
    "gb_test_21_per.to_csv('gb_test_21_periods.csv',index=False, header=True)"
   ],
   "metadata": {
    "collapsed": false,
    "pycharm": {
     "name": "#%%\n"
    }
   }
  },
  {
   "cell_type": "code",
   "execution_count": 39,
   "outputs": [],
   "source": [
    "gb_test_21_per = pd.read_csv('gb_test_21_periods.csv', header= 0)"
   ],
   "metadata": {
    "collapsed": false,
    "pycharm": {
     "name": "#%%\n"
    }
   }
  },
  {
   "cell_type": "code",
   "execution_count": 40,
   "outputs": [],
   "source": [
    "gb_train_21_per = pd.read_csv('gb_train_21_periods.csv', header= 0)"
   ],
   "metadata": {
    "collapsed": false,
    "pycharm": {
     "name": "#%%\n"
    }
   }
  },
  {
   "cell_type": "markdown",
   "source": [
    "#### Flat dataframe for the first 32 periods"
   ],
   "metadata": {
    "collapsed": false,
    "pycharm": {
     "name": "#%% md\n"
    }
   }
  },
  {
   "cell_type": "code",
   "execution_count": null,
   "outputs": [],
   "source": [
    "%%time\n",
    "gb_train_l = []\n",
    "l = 0\n",
    "for i in pre_df.ID.unique():\n",
    "    gb_train_l.append(np.append(pre_df[pre_df['ID']==i].iloc[0,0:3].values,(pre_df[pre_df['ID']==i].iloc[:32,3:].values.flatten('F').reshape(1,-1))))\n",
    "    l += 1\n",
    "    if l%1000==0:\n",
    "        print(l)"
   ],
   "metadata": {
    "collapsed": false,
    "pycharm": {
     "name": "#%%\n"
    }
   }
  },
  {
   "cell_type": "code",
   "execution_count": null,
   "outputs": [],
   "source": [
    "gb_train_32_per = pd.DataFrame(gb_train_l)"
   ],
   "metadata": {
    "collapsed": false,
    "pycharm": {
     "name": "#%%\n"
    }
   }
  },
  {
   "cell_type": "code",
   "execution_count": null,
   "outputs": [],
   "source": [
    "y_train_32_per = df[(df['ID'].isin(target_ID))]\n",
    "y_train_32_per = y_train_32_per[y_train_32_per['date_block_num']==32]\n",
    "y_train_32_per = y_train_32_per[['ID','item_cnt_month']]"
   ],
   "metadata": {
    "collapsed": false,
    "pycharm": {
     "name": "#%%\n"
    }
   }
  },
  {
   "cell_type": "code",
   "execution_count": null,
   "outputs": [],
   "source": [
    "gb_train_32_per = gb_train_32_per.merge(y_train_32_per,left_on=0,right_on='ID',how='left').drop(columns='ID')"
   ],
   "metadata": {
    "collapsed": false,
    "pycharm": {
     "name": "#%%\n"
    }
   }
  },
  {
   "cell_type": "code",
   "execution_count": null,
   "outputs": [],
   "source": [
    "%%time\n",
    "gb_test_l = []\n",
    "l = 0\n",
    "for i in pre_df.ID.unique():\n",
    "    gb_test_l.append(np.append(pre_df[pre_df['ID']==i].iloc[0,0:3].values,(pre_df[pre_df['ID']==i].iloc[1:33,3:].values.flatten('F').reshape(1,-1))))\n",
    "    l += 1\n",
    "    if l%1000==0:\n",
    "        print(l)"
   ],
   "metadata": {
    "collapsed": false,
    "pycharm": {
     "name": "#%%\n"
    }
   }
  },
  {
   "cell_type": "code",
   "execution_count": null,
   "outputs": [],
   "source": [
    "gb_test_32_per = pd.DataFrame(gb_test_l)"
   ],
   "metadata": {
    "collapsed": false,
    "pycharm": {
     "name": "#%%\n"
    }
   }
  },
  {
   "cell_type": "code",
   "execution_count": null,
   "outputs": [],
   "source": [
    "y_test_32_per = df[(df['ID'].isin(target_ID))]\n",
    "y_test_32_per = y_test_32_per[y_test_32_per['date_block_num']==33]\n",
    "y_test_32_per = y_test_32_per[['ID','item_cnt_month']]"
   ],
   "metadata": {
    "collapsed": false,
    "pycharm": {
     "name": "#%%\n"
    }
   }
  },
  {
   "cell_type": "code",
   "execution_count": null,
   "outputs": [],
   "source": [
    "gb_test_32_per = gb_test_32_per.merge(y_test_32_per,left_on=0,right_on='ID',how='left').drop(columns='ID')"
   ],
   "metadata": {
    "collapsed": false,
    "pycharm": {
     "name": "#%%\n"
    }
   }
  },
  {
   "cell_type": "code",
   "execution_count": null,
   "outputs": [],
   "source": [
    "gb_test_32_per.shape, y_test_32_per.shape, gb_train_32_per.shape, y_train_32_per.shape"
   ],
   "metadata": {
    "collapsed": false,
    "pycharm": {
     "name": "#%%\n"
    }
   }
  },
  {
   "cell_type": "code",
   "execution_count": null,
   "outputs": [],
   "source": [
    "gb_train_32_per_col_names = ['ID','shop_id','item_id']\n",
    "for col in df.drop(['ID','shop_id','item_id','date_block_num','year','month','date'],axis=1).columns:\n",
    "    for i in range(0,32):\n",
    "        gb_train_32_per_col_names.append(str(col)+'_'+str(i))\n",
    "\n",
    "gb_train_32_per_col_names.append('target')\n",
    "len(gb_train_32_per_col_names), gb_test_32_per.shape[1], gb_train_32_per.shape[1]"
   ],
   "metadata": {
    "collapsed": false,
    "pycharm": {
     "name": "#%%\n"
    }
   }
  },
  {
   "cell_type": "code",
   "execution_count": null,
   "outputs": [],
   "source": [
    "gb_train_32_per.columns = gb_train_32_per_col_names\n",
    "gb_test_32_per.columns = gb_train_32_per_col_names"
   ],
   "metadata": {
    "collapsed": false,
    "pycharm": {
     "name": "#%%\n"
    }
   }
  },
  {
   "cell_type": "code",
   "execution_count": null,
   "outputs": [],
   "source": [
    "#gb_train_32_per.to_csv('gb_train_32_periods.csv',index=False, header=True)\n",
    "#gb_test_32_per.to_csv('gb_test_32_periods.csv',index=False, header=True)"
   ],
   "metadata": {
    "collapsed": false,
    "pycharm": {
     "name": "#%%\n"
    }
   }
  },
  {
   "cell_type": "code",
   "execution_count": 38,
   "outputs": [],
   "source": [
    "gb_train_32_per = pd.read_csv('gb_train_32_periods.csv', header= 0)\n",
    "gb_test_32_per = pd.read_csv('gb_test_32_periods.csv', header= 0)"
   ],
   "metadata": {
    "collapsed": false,
    "pycharm": {
     "name": "#%%\n"
    }
   }
  },
  {
   "cell_type": "markdown",
   "source": [
    "## 7-2 Gradient Boosting models"
   ],
   "metadata": {
    "collapsed": false,
    "pycharm": {
     "name": "#%% md\n"
    }
   }
  },
  {
   "cell_type": "markdown",
   "source": [
    "#### XGBoost - 21 periods"
   ],
   "metadata": {
    "collapsed": false,
    "pycharm": {
     "name": "#%% md\n"
    }
   }
  },
  {
   "cell_type": "code",
   "execution_count": null,
   "outputs": [],
   "source": [
    "gb_train_21_per.head()"
   ],
   "metadata": {
    "collapsed": false,
    "pycharm": {
     "name": "#%%\n"
    }
   }
  },
  {
   "cell_type": "code",
   "execution_count": 42,
   "outputs": [],
   "source": [
    "from sklearn.model_selection import RandomizedSearchCV\n",
    "from xgboost import XGBRegressor"
   ],
   "metadata": {
    "collapsed": false,
    "pycharm": {
     "name": "#%%\n"
    }
   }
  },
  {
   "cell_type": "code",
   "execution_count": null,
   "outputs": [],
   "source": [
    "from scipy.stats import uniform, loguniform, randint"
   ],
   "metadata": {
    "collapsed": false,
    "pycharm": {
     "name": "#%%\n"
    }
   }
  },
  {
   "cell_type": "code",
   "execution_count": null,
   "outputs": [],
   "source": [
    "#xgboost search space\n",
    "params = {'n_estimators': [100,200,500,1000,1500],\n",
    "          'learning_rate': loguniform(1e-5, 1), # [0.1,0.2,0.3,0.4,0.5,0.6,0.7,0.8,0.9,1],\n",
    "          'max_depth': randint(3,15), #[3,4,5,6,7,8,9,10,15],\n",
    "          'min_child_weight': randint(1,10),#[1,2,3,4,5,6,7,8,9,10],\n",
    "          'subsample': uniform(.5,1), #[0.5,0.6,0.7,0.8,0.9,1],\n",
    "          #'colsample_bytree': [0.5,0.6,0.7,0.8,0.9,1],\n",
    "          #'colsample_bylevel': [0.5,0.6,0.7,0.8,0.9,1],\n",
    "          'gamma': loguniform(1e-5, 1), # [0,0.1,0.2,0.3,0.4,0.5,0.6,0.7,0.8,0.9,1],\n",
    "          #'reg_alpha': loguniform(1e-5, 1), # [0,0.1,0.2,0.3,0.4,0.5,0.6,0.7,0.8,0.9,1],\n",
    "          'reg_lambda': loguniform(1e-5, 1), # [0,0.1,0.2,0.3,0.4,0.5,0.6,0.7,0.8,0.9,1],\n",
    "          'scale_pos_weight': randint(1,10)} #[1,2,3,4,5,6,7,8,9,10]}"
   ],
   "metadata": {
    "collapsed": false,
    "pycharm": {
     "name": "#%%\n"
    }
   }
  },
  {
   "cell_type": "code",
   "execution_count": null,
   "outputs": [],
   "source": [
    "#xgboost grid search\n",
    "xgb_grid = RandomizedSearchCV(XGBRegressor(), params, n_iter=12, cv=4, verbose=1, random_state=42)"
   ],
   "metadata": {
    "collapsed": false,
    "pycharm": {
     "name": "#%%\n"
    }
   }
  },
  {
   "cell_type": "code",
   "execution_count": null,
   "outputs": [],
   "source": [
    "xgb_grid.fit(gb_train_21_per.iloc[:,1:-1],gb_train_21_per['target'])"
   ],
   "metadata": {
    "collapsed": false,
    "pycharm": {
     "name": "#%%\n"
    }
   }
  },
  {
   "cell_type": "code",
   "execution_count": null,
   "outputs": [],
   "source": [
    "xgb_grid.best_params_"
   ],
   "metadata": {
    "collapsed": false,
    "pycharm": {
     "name": "#%%\n"
    }
   }
  },
  {
   "cell_type": "markdown",
   "source": [
    "{'gamma': 1.304103694341302e-05,\n",
    " 'learning_rate': 0.004206039057901996,\n",
    " 'max_depth': 12,\n",
    " 'min_child_weight': 3,\n",
    " 'n_estimators': 1000,\n",
    " 'reg_lambda': 0.003725393839578885,\n",
    " 'scale_pos_weight': 9,\n",
    " 'subsample': 0.5464504127199977}"
   ],
   "metadata": {
    "collapsed": false,
    "pycharm": {
     "name": "#%% md\n"
    }
   }
  },
  {
   "cell_type": "code",
   "execution_count": null,
   "outputs": [],
   "source": [
    "opt_xgb = XGBRegressor(**xgb_grid.best_params_)\n",
    "opt_xgb.fit(gb_train_21_per.drop(['target'],axis=1),gb_train_21_per['target'])"
   ],
   "metadata": {
    "collapsed": false,
    "pycharm": {
     "name": "#%%\n"
    }
   }
  },
  {
   "cell_type": "code",
   "execution_count": 43,
   "outputs": [
    {
     "data": {
      "text/plain": "XGBRegressor(base_score=0.5, booster='gbtree', callbacks=None,\n             colsample_bylevel=1, colsample_bynode=1, colsample_bytree=1,\n             early_stopping_rounds=None, enable_categorical=False,\n             eval_metric=None, gamma=1.304103694341302e-05, gpu_id=-1,\n             grow_policy='depthwise', importance_type=None,\n             interaction_constraints='', learning_rate=0.004206039057901996,\n             max_bin=256, max_cat_to_onehot=4, max_delta_step=0, max_depth=12,\n             max_leaves=0, min_child_weight=3, missing=nan,\n             monotone_constraints='()', n_estimators=1000, n_jobs=0,\n             num_parallel_tree=1, predictor='auto', random_state=0, reg_alpha=0,\n             reg_lambda=0.003725393839578885, ...)",
      "text/html": "<style>#sk-container-id-1 {color: black;background-color: white;}#sk-container-id-1 pre{padding: 0;}#sk-container-id-1 div.sk-toggleable {background-color: white;}#sk-container-id-1 label.sk-toggleable__label {cursor: pointer;display: block;width: 100%;margin-bottom: 0;padding: 0.3em;box-sizing: border-box;text-align: center;}#sk-container-id-1 label.sk-toggleable__label-arrow:before {content: \"▸\";float: left;margin-right: 0.25em;color: #696969;}#sk-container-id-1 label.sk-toggleable__label-arrow:hover:before {color: black;}#sk-container-id-1 div.sk-estimator:hover label.sk-toggleable__label-arrow:before {color: black;}#sk-container-id-1 div.sk-toggleable__content {max-height: 0;max-width: 0;overflow: hidden;text-align: left;background-color: #f0f8ff;}#sk-container-id-1 div.sk-toggleable__content pre {margin: 0.2em;color: black;border-radius: 0.25em;background-color: #f0f8ff;}#sk-container-id-1 input.sk-toggleable__control:checked~div.sk-toggleable__content {max-height: 200px;max-width: 100%;overflow: auto;}#sk-container-id-1 input.sk-toggleable__control:checked~label.sk-toggleable__label-arrow:before {content: \"▾\";}#sk-container-id-1 div.sk-estimator input.sk-toggleable__control:checked~label.sk-toggleable__label {background-color: #d4ebff;}#sk-container-id-1 div.sk-label input.sk-toggleable__control:checked~label.sk-toggleable__label {background-color: #d4ebff;}#sk-container-id-1 input.sk-hidden--visually {border: 0;clip: rect(1px 1px 1px 1px);clip: rect(1px, 1px, 1px, 1px);height: 1px;margin: -1px;overflow: hidden;padding: 0;position: absolute;width: 1px;}#sk-container-id-1 div.sk-estimator {font-family: monospace;background-color: #f0f8ff;border: 1px dotted black;border-radius: 0.25em;box-sizing: border-box;margin-bottom: 0.5em;}#sk-container-id-1 div.sk-estimator:hover {background-color: #d4ebff;}#sk-container-id-1 div.sk-parallel-item::after {content: \"\";width: 100%;border-bottom: 1px solid gray;flex-grow: 1;}#sk-container-id-1 div.sk-label:hover label.sk-toggleable__label {background-color: #d4ebff;}#sk-container-id-1 div.sk-serial::before {content: \"\";position: absolute;border-left: 1px solid gray;box-sizing: border-box;top: 0;bottom: 0;left: 50%;z-index: 0;}#sk-container-id-1 div.sk-serial {display: flex;flex-direction: column;align-items: center;background-color: white;padding-right: 0.2em;padding-left: 0.2em;position: relative;}#sk-container-id-1 div.sk-item {position: relative;z-index: 1;}#sk-container-id-1 div.sk-parallel {display: flex;align-items: stretch;justify-content: center;background-color: white;position: relative;}#sk-container-id-1 div.sk-item::before, #sk-container-id-1 div.sk-parallel-item::before {content: \"\";position: absolute;border-left: 1px solid gray;box-sizing: border-box;top: 0;bottom: 0;left: 50%;z-index: -1;}#sk-container-id-1 div.sk-parallel-item {display: flex;flex-direction: column;z-index: 1;position: relative;background-color: white;}#sk-container-id-1 div.sk-parallel-item:first-child::after {align-self: flex-end;width: 50%;}#sk-container-id-1 div.sk-parallel-item:last-child::after {align-self: flex-start;width: 50%;}#sk-container-id-1 div.sk-parallel-item:only-child::after {width: 0;}#sk-container-id-1 div.sk-dashed-wrapped {border: 1px dashed gray;margin: 0 0.4em 0.5em 0.4em;box-sizing: border-box;padding-bottom: 0.4em;background-color: white;}#sk-container-id-1 div.sk-label label {font-family: monospace;font-weight: bold;display: inline-block;line-height: 1.2em;}#sk-container-id-1 div.sk-label-container {text-align: center;}#sk-container-id-1 div.sk-container {/* jupyter's `normalize.less` sets `[hidden] { display: none; }` but bootstrap.min.css set `[hidden] { display: none !important; }` so we also need the `!important` here to be able to override the default hidden behavior on the sphinx rendered scikit-learn.org. See: https://github.com/scikit-learn/scikit-learn/issues/21755 */display: inline-block !important;position: relative;}#sk-container-id-1 div.sk-text-repr-fallback {display: none;}</style><div id=\"sk-container-id-1\" class=\"sk-top-container\"><div class=\"sk-text-repr-fallback\"><pre>XGBRegressor(base_score=0.5, booster=&#x27;gbtree&#x27;, callbacks=None,\n             colsample_bylevel=1, colsample_bynode=1, colsample_bytree=1,\n             early_stopping_rounds=None, enable_categorical=False,\n             eval_metric=None, gamma=1.304103694341302e-05, gpu_id=-1,\n             grow_policy=&#x27;depthwise&#x27;, importance_type=None,\n             interaction_constraints=&#x27;&#x27;, learning_rate=0.004206039057901996,\n             max_bin=256, max_cat_to_onehot=4, max_delta_step=0, max_depth=12,\n             max_leaves=0, min_child_weight=3, missing=nan,\n             monotone_constraints=&#x27;()&#x27;, n_estimators=1000, n_jobs=0,\n             num_parallel_tree=1, predictor=&#x27;auto&#x27;, random_state=0, reg_alpha=0,\n             reg_lambda=0.003725393839578885, ...)</pre><b>In a Jupyter environment, please rerun this cell to show the HTML representation or trust the notebook. <br />On GitHub, the HTML representation is unable to render, please try loading this page with nbviewer.org.</b></div><div class=\"sk-container\" hidden><div class=\"sk-item\"><div class=\"sk-estimator sk-toggleable\"><input class=\"sk-toggleable__control sk-hidden--visually\" id=\"sk-estimator-id-1\" type=\"checkbox\" checked><label for=\"sk-estimator-id-1\" class=\"sk-toggleable__label sk-toggleable__label-arrow\">XGBRegressor</label><div class=\"sk-toggleable__content\"><pre>XGBRegressor(base_score=0.5, booster=&#x27;gbtree&#x27;, callbacks=None,\n             colsample_bylevel=1, colsample_bynode=1, colsample_bytree=1,\n             early_stopping_rounds=None, enable_categorical=False,\n             eval_metric=None, gamma=1.304103694341302e-05, gpu_id=-1,\n             grow_policy=&#x27;depthwise&#x27;, importance_type=None,\n             interaction_constraints=&#x27;&#x27;, learning_rate=0.004206039057901996,\n             max_bin=256, max_cat_to_onehot=4, max_delta_step=0, max_depth=12,\n             max_leaves=0, min_child_weight=3, missing=nan,\n             monotone_constraints=&#x27;()&#x27;, n_estimators=1000, n_jobs=0,\n             num_parallel_tree=1, predictor=&#x27;auto&#x27;, random_state=0, reg_alpha=0,\n             reg_lambda=0.003725393839578885, ...)</pre></div></div></div></div></div>"
     },
     "execution_count": 43,
     "metadata": {},
     "output_type": "execute_result"
    }
   ],
   "source": [
    "opt_xgb = XGBRegressor(**xgb_grid.best_params_)\n",
    "opt_xgb.fit(gb_train_21_per.drop(['target'],axis=1),gb_train_21_per['target'])"
   ],
   "metadata": {
    "collapsed": false,
    "pycharm": {
     "name": "#%%\n"
    }
   }
  },
  {
   "cell_type": "code",
   "execution_count": 45,
   "outputs": [
    {
     "name": "stdout",
     "output_type": "stream",
     "text": [
      "train mse: 1.2373038213781897\n",
      "test mse: 6.607990619472938\n"
     ]
    }
   ],
   "source": [
    "from sklearn.metrics import mean_squared_error\n",
    "train_pred = opt_xgb.predict(gb_train_21_per.iloc[:,0:-1])\n",
    "test_pred = opt_xgb.predict(gb_test_21_per.iloc[:,0:-1])\n",
    "print('train mse:',mean_squared_error(gb_train_21_per.iloc[:,-1],train_pred))\n",
    "print('test mse:',mean_squared_error(gb_test_21_per.iloc[:,-1],test_pred))"
   ],
   "metadata": {
    "collapsed": false,
    "pycharm": {
     "name": "#%%\n"
    }
   }
  },
  {
   "cell_type": "markdown",
   "source": [
    "#### XGBoost - 32 periods"
   ],
   "metadata": {
    "collapsed": false,
    "pycharm": {
     "name": "#%% md\n"
    }
   }
  },
  {
   "cell_type": "code",
   "execution_count": null,
   "outputs": [],
   "source": [
    "gb_train_32_per.head()"
   ],
   "metadata": {
    "collapsed": false,
    "pycharm": {
     "name": "#%%\n"
    }
   }
  },
  {
   "cell_type": "code",
   "execution_count": null,
   "outputs": [],
   "source": [
    "from sklearn.model_selection import RandomizedSearchCV\n",
    "from xgboost import XGBRegressor"
   ],
   "metadata": {
    "collapsed": false,
    "pycharm": {
     "name": "#%%\n"
    }
   }
  },
  {
   "cell_type": "code",
   "execution_count": null,
   "outputs": [],
   "source": [
    "from scipy.stats import uniform, loguniform, randint"
   ],
   "metadata": {
    "collapsed": false,
    "pycharm": {
     "name": "#%%\n"
    }
   }
  },
  {
   "cell_type": "code",
   "execution_count": null,
   "outputs": [],
   "source": [
    "#xgboost search space\n",
    "params = {'n_estimators': [100,200,500,1000,1500],\n",
    "          'learning_rate': loguniform(1e-5, 1), # [0.1,0.2,0.3,0.4,0.5,0.6,0.7,0.8,0.9,1],\n",
    "          'max_depth': randint(3,15), #[3,4,5,6,7,8,9,10,15],\n",
    "          'min_child_weight': randint(1,10),#[1,2,3,4,5,6,7,8,9,10],\n",
    "          'subsample': uniform(.5,1), #[0.5,0.6,0.7,0.8,0.9,1],\n",
    "          #'colsample_bytree': [0.5,0.6,0.7,0.8,0.9,1],\n",
    "          #'colsample_bylevel': [0.5,0.6,0.7,0.8,0.9,1],\n",
    "          'gamma': loguniform(1e-5, 1), # [0,0.1,0.2,0.3,0.4,0.5,0.6,0.7,0.8,0.9,1],\n",
    "          #'reg_alpha': loguniform(1e-5, 1), # [0,0.1,0.2,0.3,0.4,0.5,0.6,0.7,0.8,0.9,1],\n",
    "          'reg_lambda': loguniform(1e-5, 1), # [0,0.1,0.2,0.3,0.4,0.5,0.6,0.7,0.8,0.9,1],\n",
    "          'scale_pos_weight': randint(1,10)} #[1,2,3,4,5,6,7,8,9,10]}"
   ],
   "metadata": {
    "collapsed": false,
    "pycharm": {
     "name": "#%%\n"
    }
   }
  },
  {
   "cell_type": "code",
   "execution_count": null,
   "outputs": [],
   "source": [
    "#xgboost grid search\n",
    "xgb_grid = RandomizedSearchCV(XGBRegressor(), params, n_iter=12, cv=4, verbose=1, random_state=42)"
   ],
   "metadata": {
    "collapsed": false,
    "pycharm": {
     "name": "#%%\n"
    }
   }
  },
  {
   "cell_type": "code",
   "execution_count": null,
   "outputs": [],
   "source": [
    "xgb_grid.fit(gb_train_32_per.iloc[:,1:-1],gb_train_32_per['target'])"
   ],
   "metadata": {
    "collapsed": false,
    "pycharm": {
     "name": "#%%\n"
    }
   }
  },
  {
   "cell_type": "code",
   "execution_count": null,
   "outputs": [],
   "source": [
    "xgb_grid.best_params_"
   ],
   "metadata": {
    "collapsed": false,
    "pycharm": {
     "name": "#%%\n"
    }
   }
  },
  {
   "cell_type": "markdown",
   "source": [],
   "metadata": {
    "collapsed": false,
    "pycharm": {
     "name": "#%% md\n"
    }
   }
  },
  {
   "cell_type": "code",
   "execution_count": null,
   "outputs": [],
   "source": [
    "opt_xgb = XGBRegressor(**xgb_grid.best_params_)\n",
    "opt_xgb.fit(gb_train_32_per.iloc[:,1:-1],gb_train_32_per['target'])"
   ],
   "metadata": {
    "collapsed": false,
    "pycharm": {
     "name": "#%%\n"
    }
   }
  },
  {
   "cell_type": "code",
   "execution_count": 47,
   "outputs": [
    {
     "data": {
      "text/plain": "XGBRegressor(base_score=0.5, booster='gbtree', callbacks=None,\n             colsample_bylevel=1, colsample_bynode=1, colsample_bytree=1,\n             early_stopping_rounds=None, enable_categorical=False,\n             eval_metric=None, gamma=1.304103694341302e-05, gpu_id=-1,\n             grow_policy='depthwise', importance_type=None,\n             interaction_constraints='', learning_rate=0.004206039057901996,\n             max_bin=256, max_cat_to_onehot=4, max_delta_step=0, max_depth=12,\n             max_leaves=0, min_child_weight=3, missing=nan,\n             monotone_constraints='()', n_estimators=1000, n_jobs=0,\n             num_parallel_tree=1, predictor='auto', random_state=0, reg_alpha=0,\n             reg_lambda=0.003725393839578885, ...)",
      "text/html": "<style>#sk-container-id-2 {color: black;background-color: white;}#sk-container-id-2 pre{padding: 0;}#sk-container-id-2 div.sk-toggleable {background-color: white;}#sk-container-id-2 label.sk-toggleable__label {cursor: pointer;display: block;width: 100%;margin-bottom: 0;padding: 0.3em;box-sizing: border-box;text-align: center;}#sk-container-id-2 label.sk-toggleable__label-arrow:before {content: \"▸\";float: left;margin-right: 0.25em;color: #696969;}#sk-container-id-2 label.sk-toggleable__label-arrow:hover:before {color: black;}#sk-container-id-2 div.sk-estimator:hover label.sk-toggleable__label-arrow:before {color: black;}#sk-container-id-2 div.sk-toggleable__content {max-height: 0;max-width: 0;overflow: hidden;text-align: left;background-color: #f0f8ff;}#sk-container-id-2 div.sk-toggleable__content pre {margin: 0.2em;color: black;border-radius: 0.25em;background-color: #f0f8ff;}#sk-container-id-2 input.sk-toggleable__control:checked~div.sk-toggleable__content {max-height: 200px;max-width: 100%;overflow: auto;}#sk-container-id-2 input.sk-toggleable__control:checked~label.sk-toggleable__label-arrow:before {content: \"▾\";}#sk-container-id-2 div.sk-estimator input.sk-toggleable__control:checked~label.sk-toggleable__label {background-color: #d4ebff;}#sk-container-id-2 div.sk-label input.sk-toggleable__control:checked~label.sk-toggleable__label {background-color: #d4ebff;}#sk-container-id-2 input.sk-hidden--visually {border: 0;clip: rect(1px 1px 1px 1px);clip: rect(1px, 1px, 1px, 1px);height: 1px;margin: -1px;overflow: hidden;padding: 0;position: absolute;width: 1px;}#sk-container-id-2 div.sk-estimator {font-family: monospace;background-color: #f0f8ff;border: 1px dotted black;border-radius: 0.25em;box-sizing: border-box;margin-bottom: 0.5em;}#sk-container-id-2 div.sk-estimator:hover {background-color: #d4ebff;}#sk-container-id-2 div.sk-parallel-item::after {content: \"\";width: 100%;border-bottom: 1px solid gray;flex-grow: 1;}#sk-container-id-2 div.sk-label:hover label.sk-toggleable__label {background-color: #d4ebff;}#sk-container-id-2 div.sk-serial::before {content: \"\";position: absolute;border-left: 1px solid gray;box-sizing: border-box;top: 0;bottom: 0;left: 50%;z-index: 0;}#sk-container-id-2 div.sk-serial {display: flex;flex-direction: column;align-items: center;background-color: white;padding-right: 0.2em;padding-left: 0.2em;position: relative;}#sk-container-id-2 div.sk-item {position: relative;z-index: 1;}#sk-container-id-2 div.sk-parallel {display: flex;align-items: stretch;justify-content: center;background-color: white;position: relative;}#sk-container-id-2 div.sk-item::before, #sk-container-id-2 div.sk-parallel-item::before {content: \"\";position: absolute;border-left: 1px solid gray;box-sizing: border-box;top: 0;bottom: 0;left: 50%;z-index: -1;}#sk-container-id-2 div.sk-parallel-item {display: flex;flex-direction: column;z-index: 1;position: relative;background-color: white;}#sk-container-id-2 div.sk-parallel-item:first-child::after {align-self: flex-end;width: 50%;}#sk-container-id-2 div.sk-parallel-item:last-child::after {align-self: flex-start;width: 50%;}#sk-container-id-2 div.sk-parallel-item:only-child::after {width: 0;}#sk-container-id-2 div.sk-dashed-wrapped {border: 1px dashed gray;margin: 0 0.4em 0.5em 0.4em;box-sizing: border-box;padding-bottom: 0.4em;background-color: white;}#sk-container-id-2 div.sk-label label {font-family: monospace;font-weight: bold;display: inline-block;line-height: 1.2em;}#sk-container-id-2 div.sk-label-container {text-align: center;}#sk-container-id-2 div.sk-container {/* jupyter's `normalize.less` sets `[hidden] { display: none; }` but bootstrap.min.css set `[hidden] { display: none !important; }` so we also need the `!important` here to be able to override the default hidden behavior on the sphinx rendered scikit-learn.org. See: https://github.com/scikit-learn/scikit-learn/issues/21755 */display: inline-block !important;position: relative;}#sk-container-id-2 div.sk-text-repr-fallback {display: none;}</style><div id=\"sk-container-id-2\" class=\"sk-top-container\"><div class=\"sk-text-repr-fallback\"><pre>XGBRegressor(base_score=0.5, booster=&#x27;gbtree&#x27;, callbacks=None,\n             colsample_bylevel=1, colsample_bynode=1, colsample_bytree=1,\n             early_stopping_rounds=None, enable_categorical=False,\n             eval_metric=None, gamma=1.304103694341302e-05, gpu_id=-1,\n             grow_policy=&#x27;depthwise&#x27;, importance_type=None,\n             interaction_constraints=&#x27;&#x27;, learning_rate=0.004206039057901996,\n             max_bin=256, max_cat_to_onehot=4, max_delta_step=0, max_depth=12,\n             max_leaves=0, min_child_weight=3, missing=nan,\n             monotone_constraints=&#x27;()&#x27;, n_estimators=1000, n_jobs=0,\n             num_parallel_tree=1, predictor=&#x27;auto&#x27;, random_state=0, reg_alpha=0,\n             reg_lambda=0.003725393839578885, ...)</pre><b>In a Jupyter environment, please rerun this cell to show the HTML representation or trust the notebook. <br />On GitHub, the HTML representation is unable to render, please try loading this page with nbviewer.org.</b></div><div class=\"sk-container\" hidden><div class=\"sk-item\"><div class=\"sk-estimator sk-toggleable\"><input class=\"sk-toggleable__control sk-hidden--visually\" id=\"sk-estimator-id-2\" type=\"checkbox\" checked><label for=\"sk-estimator-id-2\" class=\"sk-toggleable__label sk-toggleable__label-arrow\">XGBRegressor</label><div class=\"sk-toggleable__content\"><pre>XGBRegressor(base_score=0.5, booster=&#x27;gbtree&#x27;, callbacks=None,\n             colsample_bylevel=1, colsample_bynode=1, colsample_bytree=1,\n             early_stopping_rounds=None, enable_categorical=False,\n             eval_metric=None, gamma=1.304103694341302e-05, gpu_id=-1,\n             grow_policy=&#x27;depthwise&#x27;, importance_type=None,\n             interaction_constraints=&#x27;&#x27;, learning_rate=0.004206039057901996,\n             max_bin=256, max_cat_to_onehot=4, max_delta_step=0, max_depth=12,\n             max_leaves=0, min_child_weight=3, missing=nan,\n             monotone_constraints=&#x27;()&#x27;, n_estimators=1000, n_jobs=0,\n             num_parallel_tree=1, predictor=&#x27;auto&#x27;, random_state=0, reg_alpha=0,\n             reg_lambda=0.003725393839578885, ...)</pre></div></div></div></div></div>"
     },
     "execution_count": 47,
     "metadata": {},
     "output_type": "execute_result"
    }
   ],
   "source": [
    "opt_xgb = XGBRegressor(**xgb_grid.best_params_)\n",
    "opt_xgb.fit(gb_train_32_per.iloc[:,1:-1],gb_train_32_per['target'])"
   ],
   "metadata": {
    "collapsed": false,
    "pycharm": {
     "name": "#%%\n"
    }
   }
  },
  {
   "cell_type": "code",
   "execution_count": 48,
   "outputs": [
    {
     "name": "stdout",
     "output_type": "stream",
     "text": [
      "train mse: 1.3327057722559492\n",
      "test mse: 5.591176907286429\n"
     ]
    }
   ],
   "source": [
    "from sklearn.metrics import mean_squared_error\n",
    "train_pred = opt_xgb.predict(gb_train_32_per.iloc[:,1:-1])\n",
    "test_pred = opt_xgb.predict(gb_test_32_per.iloc[:,1:-1])\n",
    "print('train mse:',mean_squared_error(gb_train_32_per.iloc[:,-1],train_pred))\n",
    "print('test mse:',mean_squared_error(gb_test_32_per.iloc[:,-1],test_pred))"
   ],
   "metadata": {
    "collapsed": false,
    "pycharm": {
     "name": "#%%\n"
    }
   }
  },
  {
   "cell_type": "code",
   "execution_count": null,
   "outputs": [],
   "source": [
    "with open('file.txt','w') as data:\n",
    "    data.write(str(xgb_grid.best_params_))"
   ],
   "metadata": {
    "collapsed": false,
    "pycharm": {
     "name": "#%%\n"
    }
   }
  },
  {
   "cell_type": "markdown",
   "source": [
    "# 8- AutoArima amd SARIMAX"
   ],
   "metadata": {
    "collapsed": false,
    "pycharm": {
     "name": "#%% md\n"
    }
   },
   "execution_count": 9
  },
  {
   "cell_type": "code",
   "execution_count": 2,
   "outputs": [
    {
     "data": {
      "text/plain": "'c:\\\\users\\\\axb190032\\\\desktop\\\\python-virtual-enviroment\\\\env-2-3.9.0\\\\python.exe'"
     },
     "execution_count": 2,
     "metadata": {},
     "output_type": "execute_result"
    }
   ],
   "source": [
    "import sys\n",
    "sys.executable"
   ],
   "metadata": {
    "collapsed": false,
    "pycharm": {
     "name": "#%%\n"
    }
   }
  },
  {
   "cell_type": "code",
   "execution_count": 4,
   "outputs": [
    {
     "name": "stdout",
     "output_type": "stream",
     "text": [
      "3.9.0\n"
     ]
    }
   ],
   "source": [
    "from platform import python_version\n",
    "\n",
    "print(python_version())"
   ],
   "metadata": {
    "collapsed": false,
    "pycharm": {
     "name": "#%%\n"
    }
   }
  },
  {
   "cell_type": "code",
   "execution_count": 5,
   "outputs": [],
   "source": [
    "import warnings\n",
    "warnings.filterwarnings('ignore')"
   ],
   "metadata": {
    "collapsed": false,
    "pycharm": {
     "name": "#%%\n"
    }
   }
  },
  {
   "cell_type": "code",
   "execution_count": 6,
   "outputs": [],
   "source": [
    "import numpy as np\n",
    "import pandas as pd\n",
    "import joblib"
   ],
   "metadata": {
    "collapsed": false,
    "pycharm": {
     "name": "#%%\n"
    }
   }
  },
  {
   "cell_type": "code",
   "execution_count": 15,
   "outputs": [
    {
     "data": {
      "text/plain": "'1.2.4'"
     },
     "execution_count": 15,
     "metadata": {},
     "output_type": "execute_result"
    }
   ],
   "source": [
    "np.__version__ ; pd.__version__"
   ],
   "metadata": {
    "collapsed": false,
    "pycharm": {
     "name": "#%%\n"
    }
   }
  },
  {
   "cell_type": "code",
   "execution_count": 7,
   "outputs": [
    {
     "data": {
      "text/plain": "      ID  shop_id  item_id  item_price  item_cnt_month  num_days_in_month  \\\n0  22987        2       30  359.000000             0.0                 31   \n1  22987        2       30  359.000000             0.0                 28   \n2  22987        2       30  359.000000             1.0                 31   \n3  22987        2       30  372.333333             0.0                 30   \n4  22987        2       30  385.666667             0.0                 31   \n\n   revenue   tot_cnt     tot_rev  tot_cnt_by_itm  tot_itm_by_shop  \\\n0      0.0  0.103492  140.614816        0.000000         0.048627   \n1      0.0  0.112470  168.683851       15.238095         0.026471   \n2    359.0  0.147521  220.938295        9.380952         0.046471   \n3      0.0  0.096657  129.369977        2.500000         0.032941   \n4      0.0  0.108880  124.717622        1.071429         0.031176   \n\n   tot_rev_by_itm  tot_rev_by_shop  \n0        0.000000       113.851484  \n1     6707.465762        81.497120  \n2     4236.825000       123.823106  \n3     1130.126536        85.339833  \n4      478.027027        73.187402  ",
      "text/html": "<div>\n<style scoped>\n    .dataframe tbody tr th:only-of-type {\n        vertical-align: middle;\n    }\n\n    .dataframe tbody tr th {\n        vertical-align: top;\n    }\n\n    .dataframe thead th {\n        text-align: right;\n    }\n</style>\n<table border=\"1\" class=\"dataframe\">\n  <thead>\n    <tr style=\"text-align: right;\">\n      <th></th>\n      <th>ID</th>\n      <th>shop_id</th>\n      <th>item_id</th>\n      <th>item_price</th>\n      <th>item_cnt_month</th>\n      <th>num_days_in_month</th>\n      <th>revenue</th>\n      <th>tot_cnt</th>\n      <th>tot_rev</th>\n      <th>tot_cnt_by_itm</th>\n      <th>tot_itm_by_shop</th>\n      <th>tot_rev_by_itm</th>\n      <th>tot_rev_by_shop</th>\n    </tr>\n  </thead>\n  <tbody>\n    <tr>\n      <th>0</th>\n      <td>22987</td>\n      <td>2</td>\n      <td>30</td>\n      <td>359.000000</td>\n      <td>0.0</td>\n      <td>31</td>\n      <td>0.0</td>\n      <td>0.103492</td>\n      <td>140.614816</td>\n      <td>0.000000</td>\n      <td>0.048627</td>\n      <td>0.000000</td>\n      <td>113.851484</td>\n    </tr>\n    <tr>\n      <th>1</th>\n      <td>22987</td>\n      <td>2</td>\n      <td>30</td>\n      <td>359.000000</td>\n      <td>0.0</td>\n      <td>28</td>\n      <td>0.0</td>\n      <td>0.112470</td>\n      <td>168.683851</td>\n      <td>15.238095</td>\n      <td>0.026471</td>\n      <td>6707.465762</td>\n      <td>81.497120</td>\n    </tr>\n    <tr>\n      <th>2</th>\n      <td>22987</td>\n      <td>2</td>\n      <td>30</td>\n      <td>359.000000</td>\n      <td>1.0</td>\n      <td>31</td>\n      <td>359.0</td>\n      <td>0.147521</td>\n      <td>220.938295</td>\n      <td>9.380952</td>\n      <td>0.046471</td>\n      <td>4236.825000</td>\n      <td>123.823106</td>\n    </tr>\n    <tr>\n      <th>3</th>\n      <td>22987</td>\n      <td>2</td>\n      <td>30</td>\n      <td>372.333333</td>\n      <td>0.0</td>\n      <td>30</td>\n      <td>0.0</td>\n      <td>0.096657</td>\n      <td>129.369977</td>\n      <td>2.500000</td>\n      <td>0.032941</td>\n      <td>1130.126536</td>\n      <td>85.339833</td>\n    </tr>\n    <tr>\n      <th>4</th>\n      <td>22987</td>\n      <td>2</td>\n      <td>30</td>\n      <td>385.666667</td>\n      <td>0.0</td>\n      <td>31</td>\n      <td>0.0</td>\n      <td>0.108880</td>\n      <td>124.717622</td>\n      <td>1.071429</td>\n      <td>0.031176</td>\n      <td>478.027027</td>\n      <td>73.187402</td>\n    </tr>\n  </tbody>\n</table>\n</div>"
     },
     "execution_count": 7,
     "metadata": {},
     "output_type": "execute_result"
    }
   ],
   "source": [
    "df = pd.read_csv('./df.csv')\n",
    "pre_df = df.drop(['date_block_num', 'month', 'year', 'date'], axis=1)\n",
    "# the items that have not sold at all, do not have  price tag, so we are going to drop them and predict their final value to be zero.\n",
    "pre_df = pre_df.dropna()\n",
    "pre_df.head()"
   ],
   "metadata": {
    "collapsed": false,
    "pycharm": {
     "name": "#%%\n"
    }
   }
  },
  {
   "cell_type": "code",
   "execution_count": 8,
   "outputs": [],
   "source": [
    "from pmdarima import auto_arima\n",
    "from statsmodels.tsa.statespace.sarimax import SARIMAX"
   ],
   "metadata": {
    "collapsed": false,
    "pycharm": {
     "name": "#%%\n"
    }
   }
  },
  {
   "cell_type": "markdown",
   "source": [
    "making a list of items that are our target to loop over and forcast their future values"
   ],
   "metadata": {
    "collapsed": false,
    "pycharm": {
     "name": "#%% md\n"
    }
   }
  },
  {
   "cell_type": "code",
   "execution_count": 9,
   "outputs": [],
   "source": [
    "target_ID = pre_df['ID'].unique().tolist()"
   ],
   "metadata": {
    "collapsed": false,
    "pycharm": {
     "name": "#%%\n"
    }
   }
  },
  {
   "cell_type": "code",
   "execution_count": 10,
   "outputs": [
    {
     "data": {
      "text/plain": "111471"
     },
     "execution_count": 10,
     "metadata": {},
     "output_type": "execute_result"
    }
   ],
   "source": [
    "len(target_ID)"
   ],
   "metadata": {
    "collapsed": false,
    "pycharm": {
     "name": "#%%\n"
    }
   }
  },
  {
   "cell_type": "markdown",
   "source": [
    "Next we have to make the predictive regression for each target ID and slice the dataframe to get the variable of intrest and other exogenous variables.\n",
    "The autoarima function does not give the output of its model fit as a callable object so we have to retrive it from the string that it is provide for each itteration.\n",
    "We have to consider that the auto arima model does not fit necessarily on every time series so we should pass the loop over the errors and use other methods to fit unpredicted values.\n",
    "we use the first 33 time periods for prediction and then used the fitted model for prediction."
   ],
   "metadata": {
    "collapsed": false,
    "pycharm": {
     "name": "#%% md\n"
    }
   }
  },
  {
   "cell_type": "code",
   "execution_count": null,
   "outputs": [],
   "source": [
    "%%capture\n",
    "pred_dict = {}\n",
    "l = 0\n",
    "for i in target_ID:\n",
    "    l += 1\n",
    "    try:\n",
    "        print(i)\n",
    "        temp = pre_df[pre_df['ID'] == i].loc[:,['item_price', 'item_cnt_month', 'num_days_in_month']]\n",
    "        train_temp = temp.iloc[:33,:]\n",
    "        test_temp = temp.iloc[33:,:]\n",
    "        aa = auto_arima(train_temp[['item_cnt_month']], exogenous=train_temp[['item_price','num_days_in_month']], seasonal=True, m=12,\n",
    "                stepwise=True, suppress_warnings=True, n_jobs=-1, random_state=42)\n",
    "\n",
    "        a = int(str(aa.params.__str__())[43:44])\n",
    "        b = int(str(aa.params.__str__())[46:47])\n",
    "        c = int(str(aa.params.__str__())[49:50])\n",
    "        d = int(str(aa.params.__str__())[86:87])\n",
    "        e = int(str(aa.params.__str__())[89:90])\n",
    "        f = int(str(aa.params.__str__())[92:93])\n",
    "\n",
    "        model = SARIMAX(train_temp[['item_cnt_month']], order=(a,b,c), seasonal_order=(d,e,f,12), exog=train_temp[['item_price', 'num_days_in_month']], enforce_stationarity=False, enforce_invertibility=False).fit()\n",
    "        pred = model.predict(start=33, end=33, exog=test_temp[['item_price', 'num_days_in_month']])\n",
    "        pred_dict[i] = pred.values\n",
    "        print(l)\n",
    "        if l % 10000 == 0:\n",
    "            joblib.dump(pred_dict, 'pred_dict_' + str(l) +'.pkl')\n",
    "            print('pred_dict_' + str(l) +'.pkl saved')\n",
    "    except:\n",
    "        pass"
   ],
   "metadata": {
    "collapsed": false,
    "pycharm": {
     "name": "#%%\n",
     "is_executing": true
    }
   }
  },
  {
   "cell_type": "code",
   "execution_count": null,
   "outputs": [],
   "source": [
    "sarimax_pre = pd.DataFrame(pred_dict).T.merge(df[['ID','item_cnt_month']][df['date_block_num']==33], how='left', left_index=True, right_on='ID')\n",
    "sarimax_pre.columns = ['predictions', 'ID', 'item_cnt_month']\n",
    "sarimax_pre['predictions'] = sarimax_pre['predictions'].clip(lower=0,upper=20)\n",
    "sarimax_pre['sq_error'] = (sarimax_pre['predictions'] - sarimax_pre['item_cnt_month'])**2"
   ],
   "metadata": {
    "collapsed": false,
    "pycharm": {
     "name": "#%%\n",
     "is_executing": true
    }
   }
  },
  {
   "cell_type": "code",
   "execution_count": null,
   "outputs": [],
   "source": [
    "sarimax_pre.to_csv('predictions.csv', index=False, header=True)"
   ],
   "metadata": {
    "collapsed": false,
    "pycharm": {
     "name": "#%%\n",
     "is_executing": true
    }
   }
  },
  {
   "cell_type": "code",
   "execution_count": null,
   "outputs": [],
   "source": [
    "np.mean(sarimax_pre['sq_error'])"
   ],
   "metadata": {
    "collapsed": false,
    "pycharm": {
     "name": "#%%\n",
     "is_executing": true
    }
   }
  }
 ],
 "metadata": {
  "colab": {
   "collapsed_sections": [],
   "name": "sales_time_series.ipynb",
   "provenance": []
  },
  "kernelspec": {
   "display_name": "Python 3",
   "language": "python",
   "name": "python3"
  },
  "language_info": {
   "codemirror_mode": {
    "name": "ipython",
    "version": 2
   },
   "file_extension": ".py",
   "mimetype": "text/x-python",
   "name": "python",
   "nbconvert_exporter": "python",
   "pygments_lexer": "ipython2",
   "version": "2.7.6"
  }
 },
 "nbformat": 4,
 "nbformat_minor": 0
}