{
 "cells": [
  {
   "cell_type": "code",
   "execution_count": 3,
   "id": "a4e99a99",
   "metadata": {},
   "outputs": [],
   "source": [
    "import numpy as np\n",
    "import pandas as pd\n",
    "import pickle\n",
    "import dill\n",
    "import category_encoders as ce\n",
    "pd.set_option('display.max_columns', None)"
   ]
  },
  {
   "cell_type": "code",
   "execution_count": null,
   "outputs": [],
   "source": [
    "#!pip install category_encoders\n",
    "#!pip install dill\n",
    "#!pip3 install miceforest --no-cache-dir\n",
    "#!pip install autofeat\n",
    "#!pip install openpyxl\n",
    "#!pip install catboost\n",
    "#!pip install xgboost\n",
    "#!pip install optuna"
   ],
   "metadata": {
    "collapsed": false,
    "pycharm": {
     "name": "#%%\n"
    }
   }
  },
  {
   "cell_type": "code",
   "execution_count": 11,
   "outputs": [
    {
     "name": "stdout",
     "output_type": "stream",
     "text": [
      "Requirement already satisfied: joblib in c:\\users\\seve\\anaconda3\\envs\\lab 3\\lib\\site-packages (1.1.0)\n"
     ]
    }
   ],
   "source": [
    "!pip install joblib"
   ],
   "metadata": {
    "collapsed": false,
    "pycharm": {
     "name": "#%%\n"
    }
   }
  },
  {
   "cell_type": "code",
   "execution_count": 5,
   "id": "b7b14d8a",
   "metadata": {},
   "outputs": [
    {
     "name": "stdout",
     "output_type": "stream",
     "text": [
      "E:\\Ali\\OneDrive - The University of Texas at Dallas\\Season 5\\6- crecsent\n"
     ]
    }
   ],
   "source": [
    "import os\n",
    "working_directory = os.getcwd()\n",
    "print(working_directory)"
   ]
  },
  {
   "cell_type": "markdown",
   "id": "1e9499d8",
   "metadata": {},
   "source": [
    "## Loading data"
   ]
  },
  {
   "cell_type": "markdown",
   "id": "67d9c851",
   "metadata": {},
   "source": [
    "### UTD_Data"
   ]
  },
  {
   "cell_type": "code",
   "execution_count": 37,
   "id": "0d9774b3",
   "metadata": {},
   "outputs": [
    {
     "ename": "FileNotFoundError",
     "evalue": "[Errno 2] No such file or directory: './Data/Data dictionary for UTD dataset.xlsx'",
     "output_type": "error",
     "traceback": [
      "\u001B[1;31m---------------------------------------------------------------------------\u001B[0m",
      "\u001B[1;31mFileNotFoundError\u001B[0m                         Traceback (most recent call last)",
      "\u001B[1;32mC:\\Users\\AXB190~1\\AppData\\Local\\Temp/ipykernel_28144/1393888905.py\u001B[0m in \u001B[0;36m<module>\u001B[1;34m\u001B[0m\n\u001B[1;32m----> 1\u001B[1;33m \u001B[0mnames1\u001B[0m \u001B[1;33m=\u001B[0m \u001B[0mpd\u001B[0m\u001B[1;33m.\u001B[0m\u001B[0mread_excel\u001B[0m\u001B[1;33m(\u001B[0m\u001B[1;34m'./Data/Data dictionary for UTD dataset.xlsx'\u001B[0m\u001B[1;33m,\u001B[0m \u001B[0msheet_name\u001B[0m\u001B[1;33m=\u001B[0m\u001B[1;34m'Main Data'\u001B[0m\u001B[1;33m)\u001B[0m\u001B[1;33m\u001B[0m\u001B[1;33m\u001B[0m\u001B[0m\n\u001B[0m",
      "\u001B[1;32mC:\\jupyterL\\lib\\site-packages\\pandas\\util\\_decorators.py\u001B[0m in \u001B[0;36mwrapper\u001B[1;34m(*args, **kwargs)\u001B[0m\n\u001B[0;32m    309\u001B[0m                     \u001B[0mstacklevel\u001B[0m\u001B[1;33m=\u001B[0m\u001B[0mstacklevel\u001B[0m\u001B[1;33m,\u001B[0m\u001B[1;33m\u001B[0m\u001B[1;33m\u001B[0m\u001B[0m\n\u001B[0;32m    310\u001B[0m                 )\n\u001B[1;32m--> 311\u001B[1;33m             \u001B[1;32mreturn\u001B[0m \u001B[0mfunc\u001B[0m\u001B[1;33m(\u001B[0m\u001B[1;33m*\u001B[0m\u001B[0margs\u001B[0m\u001B[1;33m,\u001B[0m \u001B[1;33m**\u001B[0m\u001B[0mkwargs\u001B[0m\u001B[1;33m)\u001B[0m\u001B[1;33m\u001B[0m\u001B[1;33m\u001B[0m\u001B[0m\n\u001B[0m\u001B[0;32m    312\u001B[0m \u001B[1;33m\u001B[0m\u001B[0m\n\u001B[0;32m    313\u001B[0m         \u001B[1;32mreturn\u001B[0m \u001B[0mwrapper\u001B[0m\u001B[1;33m\u001B[0m\u001B[1;33m\u001B[0m\u001B[0m\n",
      "\u001B[1;32mC:\\jupyterL\\lib\\site-packages\\pandas\\io\\excel\\_base.py\u001B[0m in \u001B[0;36mread_excel\u001B[1;34m(io, sheet_name, header, names, index_col, usecols, squeeze, dtype, engine, converters, true_values, false_values, skiprows, nrows, na_values, keep_default_na, na_filter, verbose, parse_dates, date_parser, thousands, comment, skipfooter, convert_float, mangle_dupe_cols, storage_options)\u001B[0m\n\u001B[0;32m    362\u001B[0m     \u001B[1;32mif\u001B[0m \u001B[1;32mnot\u001B[0m \u001B[0misinstance\u001B[0m\u001B[1;33m(\u001B[0m\u001B[0mio\u001B[0m\u001B[1;33m,\u001B[0m \u001B[0mExcelFile\u001B[0m\u001B[1;33m)\u001B[0m\u001B[1;33m:\u001B[0m\u001B[1;33m\u001B[0m\u001B[1;33m\u001B[0m\u001B[0m\n\u001B[0;32m    363\u001B[0m         \u001B[0mshould_close\u001B[0m \u001B[1;33m=\u001B[0m \u001B[1;32mTrue\u001B[0m\u001B[1;33m\u001B[0m\u001B[1;33m\u001B[0m\u001B[0m\n\u001B[1;32m--> 364\u001B[1;33m         \u001B[0mio\u001B[0m \u001B[1;33m=\u001B[0m \u001B[0mExcelFile\u001B[0m\u001B[1;33m(\u001B[0m\u001B[0mio\u001B[0m\u001B[1;33m,\u001B[0m \u001B[0mstorage_options\u001B[0m\u001B[1;33m=\u001B[0m\u001B[0mstorage_options\u001B[0m\u001B[1;33m,\u001B[0m \u001B[0mengine\u001B[0m\u001B[1;33m=\u001B[0m\u001B[0mengine\u001B[0m\u001B[1;33m)\u001B[0m\u001B[1;33m\u001B[0m\u001B[1;33m\u001B[0m\u001B[0m\n\u001B[0m\u001B[0;32m    365\u001B[0m     \u001B[1;32melif\u001B[0m \u001B[0mengine\u001B[0m \u001B[1;32mand\u001B[0m \u001B[0mengine\u001B[0m \u001B[1;33m!=\u001B[0m \u001B[0mio\u001B[0m\u001B[1;33m.\u001B[0m\u001B[0mengine\u001B[0m\u001B[1;33m:\u001B[0m\u001B[1;33m\u001B[0m\u001B[1;33m\u001B[0m\u001B[0m\n\u001B[0;32m    366\u001B[0m         raise ValueError(\n",
      "\u001B[1;32mC:\\jupyterL\\lib\\site-packages\\pandas\\io\\excel\\_base.py\u001B[0m in \u001B[0;36m__init__\u001B[1;34m(self, path_or_buffer, engine, storage_options)\u001B[0m\n\u001B[0;32m   1189\u001B[0m                 \u001B[0mext\u001B[0m \u001B[1;33m=\u001B[0m \u001B[1;34m\"xls\"\u001B[0m\u001B[1;33m\u001B[0m\u001B[1;33m\u001B[0m\u001B[0m\n\u001B[0;32m   1190\u001B[0m             \u001B[1;32melse\u001B[0m\u001B[1;33m:\u001B[0m\u001B[1;33m\u001B[0m\u001B[1;33m\u001B[0m\u001B[0m\n\u001B[1;32m-> 1191\u001B[1;33m                 ext = inspect_excel_format(\n\u001B[0m\u001B[0;32m   1192\u001B[0m                     \u001B[0mcontent_or_path\u001B[0m\u001B[1;33m=\u001B[0m\u001B[0mpath_or_buffer\u001B[0m\u001B[1;33m,\u001B[0m \u001B[0mstorage_options\u001B[0m\u001B[1;33m=\u001B[0m\u001B[0mstorage_options\u001B[0m\u001B[1;33m\u001B[0m\u001B[1;33m\u001B[0m\u001B[0m\n\u001B[0;32m   1193\u001B[0m                 )\n",
      "\u001B[1;32mC:\\jupyterL\\lib\\site-packages\\pandas\\io\\excel\\_base.py\u001B[0m in \u001B[0;36minspect_excel_format\u001B[1;34m(content_or_path, storage_options)\u001B[0m\n\u001B[0;32m   1068\u001B[0m         \u001B[0mcontent_or_path\u001B[0m \u001B[1;33m=\u001B[0m \u001B[0mBytesIO\u001B[0m\u001B[1;33m(\u001B[0m\u001B[0mcontent_or_path\u001B[0m\u001B[1;33m)\u001B[0m\u001B[1;33m\u001B[0m\u001B[1;33m\u001B[0m\u001B[0m\n\u001B[0;32m   1069\u001B[0m \u001B[1;33m\u001B[0m\u001B[0m\n\u001B[1;32m-> 1070\u001B[1;33m     with get_handle(\n\u001B[0m\u001B[0;32m   1071\u001B[0m         \u001B[0mcontent_or_path\u001B[0m\u001B[1;33m,\u001B[0m \u001B[1;34m\"rb\"\u001B[0m\u001B[1;33m,\u001B[0m \u001B[0mstorage_options\u001B[0m\u001B[1;33m=\u001B[0m\u001B[0mstorage_options\u001B[0m\u001B[1;33m,\u001B[0m \u001B[0mis_text\u001B[0m\u001B[1;33m=\u001B[0m\u001B[1;32mFalse\u001B[0m\u001B[1;33m\u001B[0m\u001B[1;33m\u001B[0m\u001B[0m\n\u001B[0;32m   1072\u001B[0m     ) as handle:\n",
      "\u001B[1;32mC:\\jupyterL\\lib\\site-packages\\pandas\\io\\common.py\u001B[0m in \u001B[0;36mget_handle\u001B[1;34m(path_or_buf, mode, encoding, compression, memory_map, is_text, errors, storage_options)\u001B[0m\n\u001B[0;32m    709\u001B[0m         \u001B[1;32melse\u001B[0m\u001B[1;33m:\u001B[0m\u001B[1;33m\u001B[0m\u001B[1;33m\u001B[0m\u001B[0m\n\u001B[0;32m    710\u001B[0m             \u001B[1;31m# Binary mode\u001B[0m\u001B[1;33m\u001B[0m\u001B[1;33m\u001B[0m\u001B[1;33m\u001B[0m\u001B[0m\n\u001B[1;32m--> 711\u001B[1;33m             \u001B[0mhandle\u001B[0m \u001B[1;33m=\u001B[0m \u001B[0mopen\u001B[0m\u001B[1;33m(\u001B[0m\u001B[0mhandle\u001B[0m\u001B[1;33m,\u001B[0m \u001B[0mioargs\u001B[0m\u001B[1;33m.\u001B[0m\u001B[0mmode\u001B[0m\u001B[1;33m)\u001B[0m\u001B[1;33m\u001B[0m\u001B[1;33m\u001B[0m\u001B[0m\n\u001B[0m\u001B[0;32m    712\u001B[0m         \u001B[0mhandles\u001B[0m\u001B[1;33m.\u001B[0m\u001B[0mappend\u001B[0m\u001B[1;33m(\u001B[0m\u001B[0mhandle\u001B[0m\u001B[1;33m)\u001B[0m\u001B[1;33m\u001B[0m\u001B[1;33m\u001B[0m\u001B[0m\n\u001B[0;32m    713\u001B[0m \u001B[1;33m\u001B[0m\u001B[0m\n",
      "\u001B[1;31mFileNotFoundError\u001B[0m: [Errno 2] No such file or directory: './Data/Data dictionary for UTD dataset.xlsx'"
     ]
    }
   ],
   "source": [
    "names1 = pd.read_excel('./Data/Data dictionary for UTD dataset.xlsx', sheet_name='Main Data')"
   ]
  },
  {
   "cell_type": "code",
   "execution_count": 38,
   "id": "d6fba19a",
   "metadata": {},
   "outputs": [],
   "source": [
    "name1 = names1['Column Field'].tolist()"
   ]
  },
  {
   "cell_type": "code",
   "execution_count": 39,
   "id": "46f3b7b4",
   "metadata": {},
   "outputs": [
    {
     "ename": "FileNotFoundError",
     "evalue": "[Errno 2] No such file or directory: './Data/UTD_Data_1.csv'",
     "output_type": "error",
     "traceback": [
      "\u001B[1;31m---------------------------------------------------------------------------\u001B[0m",
      "\u001B[1;31mFileNotFoundError\u001B[0m                         Traceback (most recent call last)",
      "\u001B[1;32m<timed exec>\u001B[0m in \u001B[0;36m<module>\u001B[1;34m\u001B[0m\n",
      "\u001B[1;32mC:\\jupyterL\\lib\\site-packages\\pandas\\util\\_decorators.py\u001B[0m in \u001B[0;36mwrapper\u001B[1;34m(*args, **kwargs)\u001B[0m\n\u001B[0;32m    309\u001B[0m                     \u001B[0mstacklevel\u001B[0m\u001B[1;33m=\u001B[0m\u001B[0mstacklevel\u001B[0m\u001B[1;33m,\u001B[0m\u001B[1;33m\u001B[0m\u001B[1;33m\u001B[0m\u001B[0m\n\u001B[0;32m    310\u001B[0m                 )\n\u001B[1;32m--> 311\u001B[1;33m             \u001B[1;32mreturn\u001B[0m \u001B[0mfunc\u001B[0m\u001B[1;33m(\u001B[0m\u001B[1;33m*\u001B[0m\u001B[0margs\u001B[0m\u001B[1;33m,\u001B[0m \u001B[1;33m**\u001B[0m\u001B[0mkwargs\u001B[0m\u001B[1;33m)\u001B[0m\u001B[1;33m\u001B[0m\u001B[1;33m\u001B[0m\u001B[0m\n\u001B[0m\u001B[0;32m    312\u001B[0m \u001B[1;33m\u001B[0m\u001B[0m\n\u001B[0;32m    313\u001B[0m         \u001B[1;32mreturn\u001B[0m \u001B[0mwrapper\u001B[0m\u001B[1;33m\u001B[0m\u001B[1;33m\u001B[0m\u001B[0m\n",
      "\u001B[1;32mC:\\jupyterL\\lib\\site-packages\\pandas\\io\\parsers\\readers.py\u001B[0m in \u001B[0;36mread_csv\u001B[1;34m(filepath_or_buffer, sep, delimiter, header, names, index_col, usecols, squeeze, prefix, mangle_dupe_cols, dtype, engine, converters, true_values, false_values, skipinitialspace, skiprows, skipfooter, nrows, na_values, keep_default_na, na_filter, verbose, skip_blank_lines, parse_dates, infer_datetime_format, keep_date_col, date_parser, dayfirst, cache_dates, iterator, chunksize, compression, thousands, decimal, lineterminator, quotechar, quoting, doublequote, escapechar, comment, encoding, encoding_errors, dialect, error_bad_lines, warn_bad_lines, on_bad_lines, delim_whitespace, low_memory, memory_map, float_precision, storage_options)\u001B[0m\n\u001B[0;32m    584\u001B[0m     \u001B[0mkwds\u001B[0m\u001B[1;33m.\u001B[0m\u001B[0mupdate\u001B[0m\u001B[1;33m(\u001B[0m\u001B[0mkwds_defaults\u001B[0m\u001B[1;33m)\u001B[0m\u001B[1;33m\u001B[0m\u001B[1;33m\u001B[0m\u001B[0m\n\u001B[0;32m    585\u001B[0m \u001B[1;33m\u001B[0m\u001B[0m\n\u001B[1;32m--> 586\u001B[1;33m     \u001B[1;32mreturn\u001B[0m \u001B[0m_read\u001B[0m\u001B[1;33m(\u001B[0m\u001B[0mfilepath_or_buffer\u001B[0m\u001B[1;33m,\u001B[0m \u001B[0mkwds\u001B[0m\u001B[1;33m)\u001B[0m\u001B[1;33m\u001B[0m\u001B[1;33m\u001B[0m\u001B[0m\n\u001B[0m\u001B[0;32m    587\u001B[0m \u001B[1;33m\u001B[0m\u001B[0m\n\u001B[0;32m    588\u001B[0m \u001B[1;33m\u001B[0m\u001B[0m\n",
      "\u001B[1;32mC:\\jupyterL\\lib\\site-packages\\pandas\\io\\parsers\\readers.py\u001B[0m in \u001B[0;36m_read\u001B[1;34m(filepath_or_buffer, kwds)\u001B[0m\n\u001B[0;32m    480\u001B[0m \u001B[1;33m\u001B[0m\u001B[0m\n\u001B[0;32m    481\u001B[0m     \u001B[1;31m# Create the parser.\u001B[0m\u001B[1;33m\u001B[0m\u001B[1;33m\u001B[0m\u001B[1;33m\u001B[0m\u001B[0m\n\u001B[1;32m--> 482\u001B[1;33m     \u001B[0mparser\u001B[0m \u001B[1;33m=\u001B[0m \u001B[0mTextFileReader\u001B[0m\u001B[1;33m(\u001B[0m\u001B[0mfilepath_or_buffer\u001B[0m\u001B[1;33m,\u001B[0m \u001B[1;33m**\u001B[0m\u001B[0mkwds\u001B[0m\u001B[1;33m)\u001B[0m\u001B[1;33m\u001B[0m\u001B[1;33m\u001B[0m\u001B[0m\n\u001B[0m\u001B[0;32m    483\u001B[0m \u001B[1;33m\u001B[0m\u001B[0m\n\u001B[0;32m    484\u001B[0m     \u001B[1;32mif\u001B[0m \u001B[0mchunksize\u001B[0m \u001B[1;32mor\u001B[0m \u001B[0miterator\u001B[0m\u001B[1;33m:\u001B[0m\u001B[1;33m\u001B[0m\u001B[1;33m\u001B[0m\u001B[0m\n",
      "\u001B[1;32mC:\\jupyterL\\lib\\site-packages\\pandas\\io\\parsers\\readers.py\u001B[0m in \u001B[0;36m__init__\u001B[1;34m(self, f, engine, **kwds)\u001B[0m\n\u001B[0;32m    809\u001B[0m             \u001B[0mself\u001B[0m\u001B[1;33m.\u001B[0m\u001B[0moptions\u001B[0m\u001B[1;33m[\u001B[0m\u001B[1;34m\"has_index_names\"\u001B[0m\u001B[1;33m]\u001B[0m \u001B[1;33m=\u001B[0m \u001B[0mkwds\u001B[0m\u001B[1;33m[\u001B[0m\u001B[1;34m\"has_index_names\"\u001B[0m\u001B[1;33m]\u001B[0m\u001B[1;33m\u001B[0m\u001B[1;33m\u001B[0m\u001B[0m\n\u001B[0;32m    810\u001B[0m \u001B[1;33m\u001B[0m\u001B[0m\n\u001B[1;32m--> 811\u001B[1;33m         \u001B[0mself\u001B[0m\u001B[1;33m.\u001B[0m\u001B[0m_engine\u001B[0m \u001B[1;33m=\u001B[0m \u001B[0mself\u001B[0m\u001B[1;33m.\u001B[0m\u001B[0m_make_engine\u001B[0m\u001B[1;33m(\u001B[0m\u001B[0mself\u001B[0m\u001B[1;33m.\u001B[0m\u001B[0mengine\u001B[0m\u001B[1;33m)\u001B[0m\u001B[1;33m\u001B[0m\u001B[1;33m\u001B[0m\u001B[0m\n\u001B[0m\u001B[0;32m    812\u001B[0m \u001B[1;33m\u001B[0m\u001B[0m\n\u001B[0;32m    813\u001B[0m     \u001B[1;32mdef\u001B[0m \u001B[0mclose\u001B[0m\u001B[1;33m(\u001B[0m\u001B[0mself\u001B[0m\u001B[1;33m)\u001B[0m\u001B[1;33m:\u001B[0m\u001B[1;33m\u001B[0m\u001B[1;33m\u001B[0m\u001B[0m\n",
      "\u001B[1;32mC:\\jupyterL\\lib\\site-packages\\pandas\\io\\parsers\\readers.py\u001B[0m in \u001B[0;36m_make_engine\u001B[1;34m(self, engine)\u001B[0m\n\u001B[0;32m   1038\u001B[0m             )\n\u001B[0;32m   1039\u001B[0m         \u001B[1;31m# error: Too many arguments for \"ParserBase\"\u001B[0m\u001B[1;33m\u001B[0m\u001B[1;33m\u001B[0m\u001B[1;33m\u001B[0m\u001B[0m\n\u001B[1;32m-> 1040\u001B[1;33m         \u001B[1;32mreturn\u001B[0m \u001B[0mmapping\u001B[0m\u001B[1;33m[\u001B[0m\u001B[0mengine\u001B[0m\u001B[1;33m]\u001B[0m\u001B[1;33m(\u001B[0m\u001B[0mself\u001B[0m\u001B[1;33m.\u001B[0m\u001B[0mf\u001B[0m\u001B[1;33m,\u001B[0m \u001B[1;33m**\u001B[0m\u001B[0mself\u001B[0m\u001B[1;33m.\u001B[0m\u001B[0moptions\u001B[0m\u001B[1;33m)\u001B[0m  \u001B[1;31m# type: ignore[call-arg]\u001B[0m\u001B[1;33m\u001B[0m\u001B[1;33m\u001B[0m\u001B[0m\n\u001B[0m\u001B[0;32m   1041\u001B[0m \u001B[1;33m\u001B[0m\u001B[0m\n\u001B[0;32m   1042\u001B[0m     \u001B[1;32mdef\u001B[0m \u001B[0m_failover_to_python\u001B[0m\u001B[1;33m(\u001B[0m\u001B[0mself\u001B[0m\u001B[1;33m)\u001B[0m\u001B[1;33m:\u001B[0m\u001B[1;33m\u001B[0m\u001B[1;33m\u001B[0m\u001B[0m\n",
      "\u001B[1;32mC:\\jupyterL\\lib\\site-packages\\pandas\\io\\parsers\\c_parser_wrapper.py\u001B[0m in \u001B[0;36m__init__\u001B[1;34m(self, src, **kwds)\u001B[0m\n\u001B[0;32m     49\u001B[0m \u001B[1;33m\u001B[0m\u001B[0m\n\u001B[0;32m     50\u001B[0m         \u001B[1;31m# open handles\u001B[0m\u001B[1;33m\u001B[0m\u001B[1;33m\u001B[0m\u001B[1;33m\u001B[0m\u001B[0m\n\u001B[1;32m---> 51\u001B[1;33m         \u001B[0mself\u001B[0m\u001B[1;33m.\u001B[0m\u001B[0m_open_handles\u001B[0m\u001B[1;33m(\u001B[0m\u001B[0msrc\u001B[0m\u001B[1;33m,\u001B[0m \u001B[0mkwds\u001B[0m\u001B[1;33m)\u001B[0m\u001B[1;33m\u001B[0m\u001B[1;33m\u001B[0m\u001B[0m\n\u001B[0m\u001B[0;32m     52\u001B[0m         \u001B[1;32massert\u001B[0m \u001B[0mself\u001B[0m\u001B[1;33m.\u001B[0m\u001B[0mhandles\u001B[0m \u001B[1;32mis\u001B[0m \u001B[1;32mnot\u001B[0m \u001B[1;32mNone\u001B[0m\u001B[1;33m\u001B[0m\u001B[1;33m\u001B[0m\u001B[0m\n\u001B[0;32m     53\u001B[0m \u001B[1;33m\u001B[0m\u001B[0m\n",
      "\u001B[1;32mC:\\jupyterL\\lib\\site-packages\\pandas\\io\\parsers\\base_parser.py\u001B[0m in \u001B[0;36m_open_handles\u001B[1;34m(self, src, kwds)\u001B[0m\n\u001B[0;32m    220\u001B[0m         \u001B[0mLet\u001B[0m \u001B[0mthe\u001B[0m \u001B[0mreaders\u001B[0m \u001B[0mopen\u001B[0m \u001B[0mIOHandles\u001B[0m \u001B[0mafter\u001B[0m \u001B[0mthey\u001B[0m \u001B[0mare\u001B[0m \u001B[0mdone\u001B[0m \u001B[1;32mwith\u001B[0m \u001B[0mtheir\u001B[0m \u001B[0mpotential\u001B[0m \u001B[0mraises\u001B[0m\u001B[1;33m.\u001B[0m\u001B[1;33m\u001B[0m\u001B[1;33m\u001B[0m\u001B[0m\n\u001B[0;32m    221\u001B[0m         \"\"\"\n\u001B[1;32m--> 222\u001B[1;33m         self.handles = get_handle(\n\u001B[0m\u001B[0;32m    223\u001B[0m             \u001B[0msrc\u001B[0m\u001B[1;33m,\u001B[0m\u001B[1;33m\u001B[0m\u001B[1;33m\u001B[0m\u001B[0m\n\u001B[0;32m    224\u001B[0m             \u001B[1;34m\"r\"\u001B[0m\u001B[1;33m,\u001B[0m\u001B[1;33m\u001B[0m\u001B[1;33m\u001B[0m\u001B[0m\n",
      "\u001B[1;32mC:\\jupyterL\\lib\\site-packages\\pandas\\io\\common.py\u001B[0m in \u001B[0;36mget_handle\u001B[1;34m(path_or_buf, mode, encoding, compression, memory_map, is_text, errors, storage_options)\u001B[0m\n\u001B[0;32m    700\u001B[0m         \u001B[1;32mif\u001B[0m \u001B[0mioargs\u001B[0m\u001B[1;33m.\u001B[0m\u001B[0mencoding\u001B[0m \u001B[1;32mand\u001B[0m \u001B[1;34m\"b\"\u001B[0m \u001B[1;32mnot\u001B[0m \u001B[1;32min\u001B[0m \u001B[0mioargs\u001B[0m\u001B[1;33m.\u001B[0m\u001B[0mmode\u001B[0m\u001B[1;33m:\u001B[0m\u001B[1;33m\u001B[0m\u001B[1;33m\u001B[0m\u001B[0m\n\u001B[0;32m    701\u001B[0m             \u001B[1;31m# Encoding\u001B[0m\u001B[1;33m\u001B[0m\u001B[1;33m\u001B[0m\u001B[1;33m\u001B[0m\u001B[0m\n\u001B[1;32m--> 702\u001B[1;33m             handle = open(\n\u001B[0m\u001B[0;32m    703\u001B[0m                 \u001B[0mhandle\u001B[0m\u001B[1;33m,\u001B[0m\u001B[1;33m\u001B[0m\u001B[1;33m\u001B[0m\u001B[0m\n\u001B[0;32m    704\u001B[0m                 \u001B[0mioargs\u001B[0m\u001B[1;33m.\u001B[0m\u001B[0mmode\u001B[0m\u001B[1;33m,\u001B[0m\u001B[1;33m\u001B[0m\u001B[1;33m\u001B[0m\u001B[0m\n",
      "\u001B[1;31mFileNotFoundError\u001B[0m: [Errno 2] No such file or directory: './Data/UTD_Data_1.csv'"
     ]
    }
   ],
   "source": [
    "%%time\n",
    "UTD_Data = pd.read_csv('./Data/UTD_Data_1.csv',names=name1)\n",
    "UTD_Data.info()"
   ]
  },
  {
   "cell_type": "code",
   "execution_count": 91,
   "id": "53bae569",
   "metadata": {},
   "outputs": [
    {
     "data": {
      "text/plain": "           PullDate  Veh_Value  ApplicantFICOScore       DTI       LTV  \\\n0        2019-04-26      20050                 557  0.372500  0.977700   \n1        2019-04-26      20379                   0  0.247900  0.841600   \n2        2019-04-26      15950                 639  0.400600  1.134500   \n3        2019-04-26      20950                 639  0.257900  1.015900   \n4        2019-04-26      11975                 542  0.350900  0.904100   \n...             ...        ...                 ...       ...       ...   \n5727353  2019-06-21      19206                 527  0.370007  1.219306   \n5727354  2019-06-21      17445                 583  0.518039  1.003324   \n5727355  2019-06-21      13970                 465  0.500427  1.223583   \n5727356  2019-06-21      19795                 493  0.431426  1.012422   \n5727357  2019-06-21      19860                 572  0.329260  1.285793   \n\n         PTI_BOOKED  SalesTax  AMOUNT_FINANCED  Appl_Debt  Appl_Income  \\\n0          0.123500      0.00       19603.0508    1433.01      3847.00   \n1          0.087000   1258.40       17151.9004    1074.23      4333.33   \n2          0.190400   1288.52       18095.0000     863.69      2156.00   \n3          0.075900   1446.25       21282.2500    1518.00      5886.00   \n4          0.107000    755.94       10826.4297     842.16      2400.00   \n...             ...       ...              ...        ...          ...   \n5727353    0.130182    639.00       23417.9900    1517.87      4102.27   \n5727354    0.139789   1665.68       17502.9900    1524.33      2942.50   \n5727355    0.092129   1652.46       17093.4600    2122.81      4242.00   \n5727356    0.184023   1142.21       20041.3300    1046.64      2426.00   \n5727357    0.128570   1450.76       25535.8400    1433.41      4353.43   \n\n         PTI_Approved  CUSTOM_SCORE  DTI_RATIO  MOB  DOWN_CASH  \\\n0            0.118800           456   0.372500   71        0.0   \n1            0.086400           507   0.247900   71     1000.0   \n2            0.159900           574   0.400600   71     1000.0   \n3            0.067500           555   0.257900   71     2000.0   \n4            0.097200           517   0.350900   71     2700.0   \n...               ...           ...        ...  ...        ...   \n5727353      0.105624           434   0.370007    8        0.0   \n5727354      0.091993           544   0.518039    8     3000.0   \n5727355      0.065568           586   0.500427    8     3000.0   \n5727356      0.134023           476   0.431426    8     2500.0   \n5727357      0.098564           581   0.329260    8     1400.0   \n\n         FINANCED_AMOUNT  BACKEND_TOTAL  LINE4_LTV  ContactCount  \\\n0               19603.05          699.0     0.9428           7.0   \n1               17151.90            0.0 -2499.1584           4.0   \n2               18095.00         2795.0     0.9592           2.0   \n3               21282.25         2145.0     0.9134           NaN   \n4               10826.43            0.0     0.9040          14.0   \n...                  ...            ...        ...           ...   \n5727353         23417.99         2890.0 -1498.9312           6.0   \n5727354         17502.99         2895.0 -2999.1627           NaN   \n5727355         17093.46         2000.0     1.0804           4.0   \n5727356         20041.33         2849.0     0.8685           NaN   \n5727357         25535.84         2895.0 -2498.8600           2.0   \n\n         F0066_CONTACT_NO_PROMISE_COUNT  DSL_NSF  \\\n0                                  78.0    856.0   \n1                                   4.0      NaN   \n2                                  30.0      NaN   \n3                                  16.0    555.0   \n4                                  42.0    750.0   \n...                                 ...      ...   \n5727353                             7.0     34.0   \n5727354                             NaN      NaN   \n5727355                             2.0      NaN   \n5727356                             7.0    140.0   \n5727357                             2.0      NaN   \n\n         F0315_DAYS_SINCE_LAST_PROMISE_1  F0065_PROMISES_TAKEN_COUNT  \\\n0                                   -2.0                        91.0   \n1                                    1.0                        11.0   \n2                                  208.0                        17.0   \n3                                    NaN                        26.0   \n4                                   -3.0                        56.0   \n...                                  ...                         ...   \n5727353                             43.0                         9.0   \n5727354                              NaN                         NaN   \n5727355                              1.0                         4.0   \n5727356                            139.0                         5.0   \n5727357                             61.0                         4.0   \n\n         F0068_ATTEMPTED_CONTACT_COUNT  F0071_CORRESPONDENCE_COUNT  \\\n0                                494.0                       138.0   \n1                                174.0                       151.0   \n2                                836.0                        42.0   \n3                               1372.0                        90.0   \n4                                401.0                       118.0   \n...                                ...                         ...   \n5727353                           99.0                        14.0   \n5727354                            8.0                         1.0   \n5727355                           90.0                         NaN   \n5727356                            2.0                         1.0   \n5727357                          179.0                         8.0   \n\n         F0089_PROMISE_AMT_1  F0283_PROMISES_KEPT_LIFE_TO_DATE  \\\n0                     475.25                               4.0   \n1                     396.78                               6.0   \n2                     410.55                               0.0   \n3                       0.00                               0.0   \n4                     300.00                               4.0   \n...                      ...                               ...   \n5727353               565.00                               6.0   \n5727354                  NaN                               NaN   \n5727355               820.70                               2.0   \n5727356               446.44                               3.0   \n5727357               584.72                               3.0   \n\n         F0304_TODAY_MINUS_PROMISES_TAKEN_DATE  \\\n0                                          1.0   \n1                                          1.0   \n2                                        213.0   \n3                                        542.0   \n4                                          9.0   \n...                                        ...   \n5727353                                   44.0   \n5727354                                    NaN   \n5727355                                    1.0   \n5727356                                  144.0   \n5727357                                   72.0   \n\n         F0305_TODAY_MINUS_CONTACT_NO_PROMISE_DATE  \\\n0                                             19.0   \n1                                             89.0   \n2                                              9.0   \n3                                            878.0   \n4                                             54.0   \n...                                            ...   \n5727353                                       25.0   \n5727354                                        NaN   \n5727355                                        2.0   \n5727356                                      141.0   \n5727357                                       72.0   \n\n         F0306_TODAY_MINUS_LEFT_MESSAGES_DATE  \\\n0                                       105.0   \n1                                       918.0   \n2                                       253.0   \n3                                       772.0   \n4                                        22.0   \n...                                       ...   \n5727353                                   NaN   \n5727354                                 136.0   \n5727355                                   3.0   \n5727356                                   NaN   \n5727357                                  11.0   \n\n         F0307_TODAY_MINUS_ATTEMPTED_CONTACT_DATE  \\\n0                                             3.0   \n1                                             1.0   \n2                                             1.0   \n3                                           542.0   \n4                                             9.0   \n...                                           ...   \n5727353                                      25.0   \n5727354                                     130.0   \n5727355                                       3.0   \n5727356                                     148.0   \n5727357                                       1.0   \n\n         F0314_TODAY_MINUS_DAYS_LAST_CONTACT  F0317_DAYS_SINCE_LAST_LETTER  \\\n0                                        1.0                         144.0   \n1                                        1.0                         457.0   \n2                                        9.0                         213.0   \n3                                      586.0                         437.0   \n4                                        9.0                         247.0   \n...                                      ...                           ...   \n5727353                                 25.0                          68.0   \n5727354                                  NaN                         102.0   \n5727355                                  1.0                           NaN   \n5727356                                141.0                         148.0   \n5727357                                 72.0                          47.0   \n\n         F0320_TODAY_MINUS_DAYS_LAST_MONETARY  F0381_DAYS_DELINQUENT_360  \\\n0                                        59.0                       51.0   \n1                                         1.0                      -17.0   \n2                                        51.0                       34.0   \n3                                        22.0                      -97.0   \n4                                         9.0                        9.0   \n...                                       ...                        ...   \n5727353                                  43.0                      123.0   \n5727354                                   5.0                      141.0   \n5727355                                   1.0                      -16.0   \n5727356                                  15.0                      -11.0   \n5727357                                   5.0                       45.0   \n\n             F0385_LAST_NSF_DATE  PROMISE_STATUS_O  BALANCE_PERCENT_LOAN  \\\n0        2016-12-21 00:00:00.000                 1                0.4511   \n1                            NaN                 0                0.0344   \n2                            NaN                 0                0.2663   \n3        2017-10-18 00:00:00.000                 0                0.2589   \n4        2017-04-06 00:00:00.000                 1                0.0573   \n...                          ...               ...                   ...   \n5727353  2019-05-18 00:00:00.000                 0                0.9923   \n5727354                      NaN                 0                0.1270   \n5727355                      NaN                 0                0.9582   \n5727356  2019-02-01 00:00:00.000                 0                0.9486   \n5727357                      NaN                 0                0.9907   \n\n         F0146_PAST_DUE_PAYMENTS  DSLP  DSL_ext  DAY_OF_MONTH_DUE_DATE  \\\n0                         950.50  59.0    470.0                    6.0   \n1                           0.00   1.0      NaN                   14.0   \n2                         785.48  51.0    212.0                   23.0   \n3                           0.00  22.0    585.0                    4.0   \n4                         621.42   9.0    150.0                   18.0   \n...                          ...   ...      ...                    ...   \n5727353                  2664.20  43.0      NaN                   19.0   \n5727354                  2056.65   5.0      NaN                    1.0   \n5727355                     0.00   1.0      NaN                    8.0   \n5727356                     0.00  15.0      NaN                    3.0   \n5727357                  1038.88   5.0      NaN                    7.0   \n\n         EXTENSION_ELIGIBLE_Y  F0145_BALANCE  F0180_CURRENT_INTEREST_RATE  \\\n0                           0        8843.67                       0.2050   \n1                           1         590.40                       0.1625   \n2                           0        4819.59                       0.1750   \n3                           1        5512.04                       0.1450   \n4                           0         621.42                       0.1725   \n...                       ...            ...                          ...   \n5727353                     0       23237.99                       0.1800   \n5727354                     0        2223.10                       0.1890   \n5727355                     1       16378.98                       0.1780   \n5727356                     1       19012.51                       0.1678   \n5727357                     0       25299.02                       0.1615   \n\n         F0198_NUMBER_OF_PAYMENTS_PAID  F0217_NSF_HISTORY  \\\n0                                 61.0       0.000000e+00   \n1                                 71.0       0.000000e+00   \n2                                 63.0       0.000000e+00   \n3                                 72.0       0.000000e+00   \n4                                 65.0       0.000000e+00   \n...                                ...                ...   \n5727353                            3.0       1.000000e+10   \n5727354                            2.0       0.000000e+00   \n5727355                            7.0       0.000000e+00   \n5727356                            7.0       6.000000e+06   \n5727357                            5.0       0.000000e+00   \n\n         F0223_NUMBER_OF_EXTENSIONS  PMT_RAT_OBS  lastchannel_Z  \\\n0                               6.0       0.0000              1   \n1                               0.0       2.1061              1   \n2                               6.0       0.0000              1   \n3                               2.0       1.2630              1   \n4                               4.0       2.2466              1   \n...                             ...          ...            ...   \n5727353                         0.0       0.0000              1   \n5727354                         0.0      32.6698              1   \n5727355                         0.0       2.0999              1   \n5727356                         0.0       1.0000              1   \n5727357                         0.0       1.6079              1   \n\n         LatefeeAmtLast120Days  PaymentAmtLast120Days  PaymentAmtLast30Days  \\\n0                          0.0                2376.25                  0.00   \n1                          0.0                1567.12                793.56   \n2                          0.0                1340.00                  0.00   \n3                          0.0                1583.59                372.61   \n4                          0.0                1089.16                577.16   \n...                        ...                    ...                   ...   \n5727353                    0.0                1105.04                  0.00   \n5727354                    0.0               15182.22              13438.09   \n5727355                    0.0                2032.21                820.70   \n5727356                    0.0                1785.76                446.44   \n5727357                    0.0                1784.72                900.00   \n\n         PaymentAmtLast60Days  PaymentAmtLast90Days  PaymentNumLast120Days  \\\n0                      475.25                925.75                      4   \n1                     1190.34               1190.34                      4   \n2                      440.00                440.00                      5   \n3                      838.37               1210.98                      4   \n4                     1089.16               1089.16                      2   \n...                       ...                   ...                    ...   \n5727353                565.00                565.00                      2   \n5727354              13438.09              15182.22                      2   \n5727355               1231.05               1231.05                      4   \n5727356                892.88               1339.32                      4   \n5727357               1200.00               1200.00                      4   \n\n         PmtNumFullAmtLast60Days  LIFETIME_COUNT_Paymentus_Debit  D31P_TOT_2  \\\n0                              1                               0        22.0   \n1                              3                               0         0.0   \n2                              0                               0         5.0   \n3                              2                               0         0.0   \n4                              2                               0        29.0   \n...                          ...                             ...         ...   \n5727353                        1                               0        60.0   \n5727354                        1                               0        60.0   \n5727355                        2                               0        14.0   \n5727356                        2                               0         0.0   \n5727357                        0                               0        60.0   \n\n         D9P_TOT_2  D9P_TOT_3  D9P_TOT_4  D9P_TOT_6  D5P_TOT_4  D5P_TOT_1  \\\n0             45.0       59.0       89.0      149.0       97.0       30.0   \n1             12.0       16.0       19.0       23.0       35.0        8.0   \n2             31.0       31.0       31.0       65.0       42.0       30.0   \n3              0.0        0.0        0.0        0.0        0.0        0.0   \n4             52.0       81.0      111.0      156.0      116.0       26.0   \n...            ...        ...        ...        ...        ...        ...   \n5727353       60.0       90.0      115.0      152.0      119.0       30.0   \n5727354       60.0       90.0      120.0      133.0      120.0       30.0   \n5727355       44.0       51.0       65.0       71.0       77.0       29.0   \n5727356        0.0        0.0        0.0        6.0        5.0        0.0   \n5727357       60.0       90.0      105.0      112.0      109.0       30.0   \n\n         D31P_TOT_6  DD_AVG_1  BAL_RAT_TRN_3  BAL_RAT_TRN_6  PMT_RAT_AVG_1  \\\n0              94.0      37.0           0.04           0.05          100.0   \n1               0.0      -2.0           0.07           0.08          105.0   \n2               8.0      20.0           0.02           0.04           24.0   \n3               0.0    -105.0           0.05           0.05          135.0   \n4              85.0      35.0           0.10           0.07          207.0   \n...             ...       ...            ...            ...            ...   \n5727353        96.0     108.0           0.00           0.00          106.0   \n5727354       111.0     126.0           0.96           0.48          803.0   \n5727355        14.0      28.0           0.03           0.02          108.0   \n5727356         0.0     -10.0           0.03           0.03          100.0   \n5727357        77.0      69.0           0.00           0.00           71.0   \n\n         PMT_RAT_AVG_2  PMT_RAT_AVG_3  PMT_RAT_AVG_4  BAL_TRN_3  BAL_TRN_6  \\\n0                100.0          101.0          111.0      -7.79      -9.95   \n1                105.0          103.0          103.0     -11.96     -13.48   \n2                 35.0           56.0           68.0      -3.23      -7.63   \n3                143.0          138.0          137.0     -11.06     -10.78   \n4                203.0          170.0          152.0     -11.13      -8.00   \n...                ...            ...            ...        ...        ...   \n5727353          104.0          103.0          103.0       0.00      -0.53   \n5727354          614.0          504.0          403.0    -168.69     -84.87   \n5727355          106.0          104.0          103.0      -4.31      -3.97   \n5727356          100.0          100.0          100.0      -5.88      -5.72   \n5727357           62.0           76.0           83.0       0.00      -1.22   \n\n         CBTINDIRECTGEN23  CBTINDIRECTGEN30  REM_TM_RAT_OBS  LOANFUNDINGSCORE  \\\n0                   429.0               NaN               0             489.0   \n1                   542.0               NaN               0             527.0   \n2                   485.0               NaN               0             468.0   \n3                   573.0               NaN               0             573.0   \n4                   508.0               NaN               1             532.0   \n...                   ...               ...             ...               ...   \n5727353               NaN               NaN               0             440.0   \n5727354               NaN               NaN               0             500.0   \n5727355               NaN               NaN               0             534.0   \n5727356               NaN               NaN               0             480.0   \n5727357               NaN               NaN               0             535.0   \n\n          VRS   LTVEffective  DepreciationRate  INQ12_5  \\\n0        76.0   65508.666667          0.423980      NaN   \n1        66.0    4373.333333          0.381582      NaN   \n2        79.0   35700.666667          0.423980      NaN   \n3        47.0   35561.548387          0.369178      NaN   \n4        74.0    4603.111111          0.423980      NaN   \n...       ...            ...               ...      ...   \n5727353  65.0  172133.259259          0.817059      5.0   \n5727354   0.0   12350.555556          0.788470      0.0   \n5727355  43.0  105670.838710          0.893795      2.0   \n5727356   0.0  105625.055556          0.788470      6.0   \n5727357   0.0  140550.111111          0.788470      2.0   \n\n                                            masked_account  booked_yr_mo  \n0        0x9141ACA4B5D583EC44F35003EEC1495FAFD9E6923EFE...        201305  \n1        0x44575E78B9056F6DE3B84F399F41DFFAB116C29C8000...        201305  \n2        0x192B7529EA22734C5C17866207A1DA9473BD54B10115...        201305  \n3        0xABD1739111128491CD14209186264C80091FFE3A0F83...        201305  \n4        0xC8E3BB4A1F304CD809CF3DE12776777767083E978332...        201305  \n...                                                    ...           ...  \n5727353  0x68B40261316D3EC00E303953073C4DF3B3C6CEDDA5D1...        201810  \n5727354  0x94522D595B75E3BF6FA304D563C799D16B022C0DE25C...        201810  \n5727355  0x94FAFAB24C10929AF1E0CB15D1C89E1AE2BC5E314E06...        201810  \n5727356  0x251D8E4167A71C371D15BDE31F670FDB2DE430BAAE6E...        201810  \n5727357  0x96EE3EB283A291C7FA091C309A8C3E941C46C727F42E...        201810  \n\n[5727358 rows x 85 columns]",
      "text/html": "<div>\n<style scoped>\n    .dataframe tbody tr th:only-of-type {\n        vertical-align: middle;\n    }\n\n    .dataframe tbody tr th {\n        vertical-align: top;\n    }\n\n    .dataframe thead th {\n        text-align: right;\n    }\n</style>\n<table border=\"1\" class=\"dataframe\">\n  <thead>\n    <tr style=\"text-align: right;\">\n      <th></th>\n      <th>PullDate</th>\n      <th>Veh_Value</th>\n      <th>ApplicantFICOScore</th>\n      <th>DTI</th>\n      <th>LTV</th>\n      <th>PTI_BOOKED</th>\n      <th>SalesTax</th>\n      <th>AMOUNT_FINANCED</th>\n      <th>Appl_Debt</th>\n      <th>Appl_Income</th>\n      <th>PTI_Approved</th>\n      <th>CUSTOM_SCORE</th>\n      <th>DTI_RATIO</th>\n      <th>MOB</th>\n      <th>DOWN_CASH</th>\n      <th>FINANCED_AMOUNT</th>\n      <th>BACKEND_TOTAL</th>\n      <th>LINE4_LTV</th>\n      <th>ContactCount</th>\n      <th>F0066_CONTACT_NO_PROMISE_COUNT</th>\n      <th>DSL_NSF</th>\n      <th>F0315_DAYS_SINCE_LAST_PROMISE_1</th>\n      <th>F0065_PROMISES_TAKEN_COUNT</th>\n      <th>F0068_ATTEMPTED_CONTACT_COUNT</th>\n      <th>F0071_CORRESPONDENCE_COUNT</th>\n      <th>F0089_PROMISE_AMT_1</th>\n      <th>F0283_PROMISES_KEPT_LIFE_TO_DATE</th>\n      <th>F0304_TODAY_MINUS_PROMISES_TAKEN_DATE</th>\n      <th>F0305_TODAY_MINUS_CONTACT_NO_PROMISE_DATE</th>\n      <th>F0306_TODAY_MINUS_LEFT_MESSAGES_DATE</th>\n      <th>F0307_TODAY_MINUS_ATTEMPTED_CONTACT_DATE</th>\n      <th>F0314_TODAY_MINUS_DAYS_LAST_CONTACT</th>\n      <th>F0317_DAYS_SINCE_LAST_LETTER</th>\n      <th>F0320_TODAY_MINUS_DAYS_LAST_MONETARY</th>\n      <th>F0381_DAYS_DELINQUENT_360</th>\n      <th>F0385_LAST_NSF_DATE</th>\n      <th>PROMISE_STATUS_O</th>\n      <th>BALANCE_PERCENT_LOAN</th>\n      <th>F0146_PAST_DUE_PAYMENTS</th>\n      <th>DSLP</th>\n      <th>DSL_ext</th>\n      <th>DAY_OF_MONTH_DUE_DATE</th>\n      <th>EXTENSION_ELIGIBLE_Y</th>\n      <th>F0145_BALANCE</th>\n      <th>F0180_CURRENT_INTEREST_RATE</th>\n      <th>F0198_NUMBER_OF_PAYMENTS_PAID</th>\n      <th>F0217_NSF_HISTORY</th>\n      <th>F0223_NUMBER_OF_EXTENSIONS</th>\n      <th>PMT_RAT_OBS</th>\n      <th>lastchannel_Z</th>\n      <th>LatefeeAmtLast120Days</th>\n      <th>PaymentAmtLast120Days</th>\n      <th>PaymentAmtLast30Days</th>\n      <th>PaymentAmtLast60Days</th>\n      <th>PaymentAmtLast90Days</th>\n      <th>PaymentNumLast120Days</th>\n      <th>PmtNumFullAmtLast60Days</th>\n      <th>LIFETIME_COUNT_Paymentus_Debit</th>\n      <th>D31P_TOT_2</th>\n      <th>D9P_TOT_2</th>\n      <th>D9P_TOT_3</th>\n      <th>D9P_TOT_4</th>\n      <th>D9P_TOT_6</th>\n      <th>D5P_TOT_4</th>\n      <th>D5P_TOT_1</th>\n      <th>D31P_TOT_6</th>\n      <th>DD_AVG_1</th>\n      <th>BAL_RAT_TRN_3</th>\n      <th>BAL_RAT_TRN_6</th>\n      <th>PMT_RAT_AVG_1</th>\n      <th>PMT_RAT_AVG_2</th>\n      <th>PMT_RAT_AVG_3</th>\n      <th>PMT_RAT_AVG_4</th>\n      <th>BAL_TRN_3</th>\n      <th>BAL_TRN_6</th>\n      <th>CBTINDIRECTGEN23</th>\n      <th>CBTINDIRECTGEN30</th>\n      <th>REM_TM_RAT_OBS</th>\n      <th>LOANFUNDINGSCORE</th>\n      <th>VRS</th>\n      <th>LTVEffective</th>\n      <th>DepreciationRate</th>\n      <th>INQ12_5</th>\n      <th>masked_account</th>\n      <th>booked_yr_mo</th>\n    </tr>\n  </thead>\n  <tbody>\n    <tr>\n      <th>0</th>\n      <td>2019-04-26</td>\n      <td>20050</td>\n      <td>557</td>\n      <td>0.372500</td>\n      <td>0.977700</td>\n      <td>0.123500</td>\n      <td>0.00</td>\n      <td>19603.0508</td>\n      <td>1433.01</td>\n      <td>3847.00</td>\n      <td>0.118800</td>\n      <td>456</td>\n      <td>0.372500</td>\n      <td>71</td>\n      <td>0.0</td>\n      <td>19603.05</td>\n      <td>699.0</td>\n      <td>0.9428</td>\n      <td>7.0</td>\n      <td>78.0</td>\n      <td>856.0</td>\n      <td>-2.0</td>\n      <td>91.0</td>\n      <td>494.0</td>\n      <td>138.0</td>\n      <td>475.25</td>\n      <td>4.0</td>\n      <td>1.0</td>\n      <td>19.0</td>\n      <td>105.0</td>\n      <td>3.0</td>\n      <td>1.0</td>\n      <td>144.0</td>\n      <td>59.0</td>\n      <td>51.0</td>\n      <td>2016-12-21 00:00:00.000</td>\n      <td>1</td>\n      <td>0.4511</td>\n      <td>950.50</td>\n      <td>59.0</td>\n      <td>470.0</td>\n      <td>6.0</td>\n      <td>0</td>\n      <td>8843.67</td>\n      <td>0.2050</td>\n      <td>61.0</td>\n      <td>0.000000e+00</td>\n      <td>6.0</td>\n      <td>0.0000</td>\n      <td>1</td>\n      <td>0.0</td>\n      <td>2376.25</td>\n      <td>0.00</td>\n      <td>475.25</td>\n      <td>925.75</td>\n      <td>4</td>\n      <td>1</td>\n      <td>0</td>\n      <td>22.0</td>\n      <td>45.0</td>\n      <td>59.0</td>\n      <td>89.0</td>\n      <td>149.0</td>\n      <td>97.0</td>\n      <td>30.0</td>\n      <td>94.0</td>\n      <td>37.0</td>\n      <td>0.04</td>\n      <td>0.05</td>\n      <td>100.0</td>\n      <td>100.0</td>\n      <td>101.0</td>\n      <td>111.0</td>\n      <td>-7.79</td>\n      <td>-9.95</td>\n      <td>429.0</td>\n      <td>NaN</td>\n      <td>0</td>\n      <td>489.0</td>\n      <td>76.0</td>\n      <td>65508.666667</td>\n      <td>0.423980</td>\n      <td>NaN</td>\n      <td>0x9141ACA4B5D583EC44F35003EEC1495FAFD9E6923EFE...</td>\n      <td>201305</td>\n    </tr>\n    <tr>\n      <th>1</th>\n      <td>2019-04-26</td>\n      <td>20379</td>\n      <td>0</td>\n      <td>0.247900</td>\n      <td>0.841600</td>\n      <td>0.087000</td>\n      <td>1258.40</td>\n      <td>17151.9004</td>\n      <td>1074.23</td>\n      <td>4333.33</td>\n      <td>0.086400</td>\n      <td>507</td>\n      <td>0.247900</td>\n      <td>71</td>\n      <td>1000.0</td>\n      <td>17151.90</td>\n      <td>0.0</td>\n      <td>-2499.1584</td>\n      <td>4.0</td>\n      <td>4.0</td>\n      <td>NaN</td>\n      <td>1.0</td>\n      <td>11.0</td>\n      <td>174.0</td>\n      <td>151.0</td>\n      <td>396.78</td>\n      <td>6.0</td>\n      <td>1.0</td>\n      <td>89.0</td>\n      <td>918.0</td>\n      <td>1.0</td>\n      <td>1.0</td>\n      <td>457.0</td>\n      <td>1.0</td>\n      <td>-17.0</td>\n      <td>NaN</td>\n      <td>0</td>\n      <td>0.0344</td>\n      <td>0.00</td>\n      <td>1.0</td>\n      <td>NaN</td>\n      <td>14.0</td>\n      <td>1</td>\n      <td>590.40</td>\n      <td>0.1625</td>\n      <td>71.0</td>\n      <td>0.000000e+00</td>\n      <td>0.0</td>\n      <td>2.1061</td>\n      <td>1</td>\n      <td>0.0</td>\n      <td>1567.12</td>\n      <td>793.56</td>\n      <td>1190.34</td>\n      <td>1190.34</td>\n      <td>4</td>\n      <td>3</td>\n      <td>0</td>\n      <td>0.0</td>\n      <td>12.0</td>\n      <td>16.0</td>\n      <td>19.0</td>\n      <td>23.0</td>\n      <td>35.0</td>\n      <td>8.0</td>\n      <td>0.0</td>\n      <td>-2.0</td>\n      <td>0.07</td>\n      <td>0.08</td>\n      <td>105.0</td>\n      <td>105.0</td>\n      <td>103.0</td>\n      <td>103.0</td>\n      <td>-11.96</td>\n      <td>-13.48</td>\n      <td>542.0</td>\n      <td>NaN</td>\n      <td>0</td>\n      <td>527.0</td>\n      <td>66.0</td>\n      <td>4373.333333</td>\n      <td>0.381582</td>\n      <td>NaN</td>\n      <td>0x44575E78B9056F6DE3B84F399F41DFFAB116C29C8000...</td>\n      <td>201305</td>\n    </tr>\n    <tr>\n      <th>2</th>\n      <td>2019-04-26</td>\n      <td>15950</td>\n      <td>639</td>\n      <td>0.400600</td>\n      <td>1.134500</td>\n      <td>0.190400</td>\n      <td>1288.52</td>\n      <td>18095.0000</td>\n      <td>863.69</td>\n      <td>2156.00</td>\n      <td>0.159900</td>\n      <td>574</td>\n      <td>0.400600</td>\n      <td>71</td>\n      <td>1000.0</td>\n      <td>18095.00</td>\n      <td>2795.0</td>\n      <td>0.9592</td>\n      <td>2.0</td>\n      <td>30.0</td>\n      <td>NaN</td>\n      <td>208.0</td>\n      <td>17.0</td>\n      <td>836.0</td>\n      <td>42.0</td>\n      <td>410.55</td>\n      <td>0.0</td>\n      <td>213.0</td>\n      <td>9.0</td>\n      <td>253.0</td>\n      <td>1.0</td>\n      <td>9.0</td>\n      <td>213.0</td>\n      <td>51.0</td>\n      <td>34.0</td>\n      <td>NaN</td>\n      <td>0</td>\n      <td>0.2663</td>\n      <td>785.48</td>\n      <td>51.0</td>\n      <td>212.0</td>\n      <td>23.0</td>\n      <td>0</td>\n      <td>4819.59</td>\n      <td>0.1750</td>\n      <td>63.0</td>\n      <td>0.000000e+00</td>\n      <td>6.0</td>\n      <td>0.0000</td>\n      <td>1</td>\n      <td>0.0</td>\n      <td>1340.00</td>\n      <td>0.00</td>\n      <td>440.00</td>\n      <td>440.00</td>\n      <td>5</td>\n      <td>0</td>\n      <td>0</td>\n      <td>5.0</td>\n      <td>31.0</td>\n      <td>31.0</td>\n      <td>31.0</td>\n      <td>65.0</td>\n      <td>42.0</td>\n      <td>30.0</td>\n      <td>8.0</td>\n      <td>20.0</td>\n      <td>0.02</td>\n      <td>0.04</td>\n      <td>24.0</td>\n      <td>35.0</td>\n      <td>56.0</td>\n      <td>68.0</td>\n      <td>-3.23</td>\n      <td>-7.63</td>\n      <td>485.0</td>\n      <td>NaN</td>\n      <td>0</td>\n      <td>468.0</td>\n      <td>79.0</td>\n      <td>35700.666667</td>\n      <td>0.423980</td>\n      <td>NaN</td>\n      <td>0x192B7529EA22734C5C17866207A1DA9473BD54B10115...</td>\n      <td>201305</td>\n    </tr>\n    <tr>\n      <th>3</th>\n      <td>2019-04-26</td>\n      <td>20950</td>\n      <td>639</td>\n      <td>0.257900</td>\n      <td>1.015900</td>\n      <td>0.075900</td>\n      <td>1446.25</td>\n      <td>21282.2500</td>\n      <td>1518.00</td>\n      <td>5886.00</td>\n      <td>0.067500</td>\n      <td>555</td>\n      <td>0.257900</td>\n      <td>71</td>\n      <td>2000.0</td>\n      <td>21282.25</td>\n      <td>2145.0</td>\n      <td>0.9134</td>\n      <td>NaN</td>\n      <td>16.0</td>\n      <td>555.0</td>\n      <td>NaN</td>\n      <td>26.0</td>\n      <td>1372.0</td>\n      <td>90.0</td>\n      <td>0.00</td>\n      <td>0.0</td>\n      <td>542.0</td>\n      <td>878.0</td>\n      <td>772.0</td>\n      <td>542.0</td>\n      <td>586.0</td>\n      <td>437.0</td>\n      <td>22.0</td>\n      <td>-97.0</td>\n      <td>2017-10-18 00:00:00.000</td>\n      <td>0</td>\n      <td>0.2589</td>\n      <td>0.00</td>\n      <td>22.0</td>\n      <td>585.0</td>\n      <td>4.0</td>\n      <td>1</td>\n      <td>5512.04</td>\n      <td>0.1450</td>\n      <td>72.0</td>\n      <td>0.000000e+00</td>\n      <td>2.0</td>\n      <td>1.2630</td>\n      <td>1</td>\n      <td>0.0</td>\n      <td>1583.59</td>\n      <td>372.61</td>\n      <td>838.37</td>\n      <td>1210.98</td>\n      <td>4</td>\n      <td>2</td>\n      <td>0</td>\n      <td>0.0</td>\n      <td>0.0</td>\n      <td>0.0</td>\n      <td>0.0</td>\n      <td>0.0</td>\n      <td>0.0</td>\n      <td>0.0</td>\n      <td>0.0</td>\n      <td>-105.0</td>\n      <td>0.05</td>\n      <td>0.05</td>\n      <td>135.0</td>\n      <td>143.0</td>\n      <td>138.0</td>\n      <td>137.0</td>\n      <td>-11.06</td>\n      <td>-10.78</td>\n      <td>573.0</td>\n      <td>NaN</td>\n      <td>0</td>\n      <td>573.0</td>\n      <td>47.0</td>\n      <td>35561.548387</td>\n      <td>0.369178</td>\n      <td>NaN</td>\n      <td>0xABD1739111128491CD14209186264C80091FFE3A0F83...</td>\n      <td>201305</td>\n    </tr>\n    <tr>\n      <th>4</th>\n      <td>2019-04-26</td>\n      <td>11975</td>\n      <td>542</td>\n      <td>0.350900</td>\n      <td>0.904100</td>\n      <td>0.107000</td>\n      <td>755.94</td>\n      <td>10826.4297</td>\n      <td>842.16</td>\n      <td>2400.00</td>\n      <td>0.097200</td>\n      <td>517</td>\n      <td>0.350900</td>\n      <td>71</td>\n      <td>2700.0</td>\n      <td>10826.43</td>\n      <td>0.0</td>\n      <td>0.9040</td>\n      <td>14.0</td>\n      <td>42.0</td>\n      <td>750.0</td>\n      <td>-3.0</td>\n      <td>56.0</td>\n      <td>401.0</td>\n      <td>118.0</td>\n      <td>300.00</td>\n      <td>4.0</td>\n      <td>9.0</td>\n      <td>54.0</td>\n      <td>22.0</td>\n      <td>9.0</td>\n      <td>9.0</td>\n      <td>247.0</td>\n      <td>9.0</td>\n      <td>9.0</td>\n      <td>2017-04-06 00:00:00.000</td>\n      <td>1</td>\n      <td>0.0573</td>\n      <td>621.42</td>\n      <td>9.0</td>\n      <td>150.0</td>\n      <td>18.0</td>\n      <td>0</td>\n      <td>621.42</td>\n      <td>0.1725</td>\n      <td>65.0</td>\n      <td>0.000000e+00</td>\n      <td>4.0</td>\n      <td>2.2466</td>\n      <td>1</td>\n      <td>0.0</td>\n      <td>1089.16</td>\n      <td>577.16</td>\n      <td>1089.16</td>\n      <td>1089.16</td>\n      <td>2</td>\n      <td>2</td>\n      <td>0</td>\n      <td>29.0</td>\n      <td>52.0</td>\n      <td>81.0</td>\n      <td>111.0</td>\n      <td>156.0</td>\n      <td>116.0</td>\n      <td>26.0</td>\n      <td>85.0</td>\n      <td>35.0</td>\n      <td>0.10</td>\n      <td>0.07</td>\n      <td>207.0</td>\n      <td>203.0</td>\n      <td>170.0</td>\n      <td>152.0</td>\n      <td>-11.13</td>\n      <td>-8.00</td>\n      <td>508.0</td>\n      <td>NaN</td>\n      <td>1</td>\n      <td>532.0</td>\n      <td>74.0</td>\n      <td>4603.111111</td>\n      <td>0.423980</td>\n      <td>NaN</td>\n      <td>0xC8E3BB4A1F304CD809CF3DE12776777767083E978332...</td>\n      <td>201305</td>\n    </tr>\n    <tr>\n      <th>...</th>\n      <td>...</td>\n      <td>...</td>\n      <td>...</td>\n      <td>...</td>\n      <td>...</td>\n      <td>...</td>\n      <td>...</td>\n      <td>...</td>\n      <td>...</td>\n      <td>...</td>\n      <td>...</td>\n      <td>...</td>\n      <td>...</td>\n      <td>...</td>\n      <td>...</td>\n      <td>...</td>\n      <td>...</td>\n      <td>...</td>\n      <td>...</td>\n      <td>...</td>\n      <td>...</td>\n      <td>...</td>\n      <td>...</td>\n      <td>...</td>\n      <td>...</td>\n      <td>...</td>\n      <td>...</td>\n      <td>...</td>\n      <td>...</td>\n      <td>...</td>\n      <td>...</td>\n      <td>...</td>\n      <td>...</td>\n      <td>...</td>\n      <td>...</td>\n      <td>...</td>\n      <td>...</td>\n      <td>...</td>\n      <td>...</td>\n      <td>...</td>\n      <td>...</td>\n      <td>...</td>\n      <td>...</td>\n      <td>...</td>\n      <td>...</td>\n      <td>...</td>\n      <td>...</td>\n      <td>...</td>\n      <td>...</td>\n      <td>...</td>\n      <td>...</td>\n      <td>...</td>\n      <td>...</td>\n      <td>...</td>\n      <td>...</td>\n      <td>...</td>\n      <td>...</td>\n      <td>...</td>\n      <td>...</td>\n      <td>...</td>\n      <td>...</td>\n      <td>...</td>\n      <td>...</td>\n      <td>...</td>\n      <td>...</td>\n      <td>...</td>\n      <td>...</td>\n      <td>...</td>\n      <td>...</td>\n      <td>...</td>\n      <td>...</td>\n      <td>...</td>\n      <td>...</td>\n      <td>...</td>\n      <td>...</td>\n      <td>...</td>\n      <td>...</td>\n      <td>...</td>\n      <td>...</td>\n      <td>...</td>\n      <td>...</td>\n      <td>...</td>\n      <td>...</td>\n      <td>...</td>\n      <td>...</td>\n    </tr>\n    <tr>\n      <th>5727353</th>\n      <td>2019-06-21</td>\n      <td>19206</td>\n      <td>527</td>\n      <td>0.370007</td>\n      <td>1.219306</td>\n      <td>0.130182</td>\n      <td>639.00</td>\n      <td>23417.9900</td>\n      <td>1517.87</td>\n      <td>4102.27</td>\n      <td>0.105624</td>\n      <td>434</td>\n      <td>0.370007</td>\n      <td>8</td>\n      <td>0.0</td>\n      <td>23417.99</td>\n      <td>2890.0</td>\n      <td>-1498.9312</td>\n      <td>6.0</td>\n      <td>7.0</td>\n      <td>34.0</td>\n      <td>43.0</td>\n      <td>9.0</td>\n      <td>99.0</td>\n      <td>14.0</td>\n      <td>565.00</td>\n      <td>6.0</td>\n      <td>44.0</td>\n      <td>25.0</td>\n      <td>NaN</td>\n      <td>25.0</td>\n      <td>25.0</td>\n      <td>68.0</td>\n      <td>43.0</td>\n      <td>123.0</td>\n      <td>2019-05-18 00:00:00.000</td>\n      <td>0</td>\n      <td>0.9923</td>\n      <td>2664.20</td>\n      <td>43.0</td>\n      <td>NaN</td>\n      <td>19.0</td>\n      <td>0</td>\n      <td>23237.99</td>\n      <td>0.1800</td>\n      <td>3.0</td>\n      <td>1.000000e+10</td>\n      <td>0.0</td>\n      <td>0.0000</td>\n      <td>1</td>\n      <td>0.0</td>\n      <td>1105.04</td>\n      <td>0.00</td>\n      <td>565.00</td>\n      <td>565.00</td>\n      <td>2</td>\n      <td>1</td>\n      <td>0</td>\n      <td>60.0</td>\n      <td>60.0</td>\n      <td>90.0</td>\n      <td>115.0</td>\n      <td>152.0</td>\n      <td>119.0</td>\n      <td>30.0</td>\n      <td>96.0</td>\n      <td>108.0</td>\n      <td>0.00</td>\n      <td>0.00</td>\n      <td>106.0</td>\n      <td>104.0</td>\n      <td>103.0</td>\n      <td>103.0</td>\n      <td>0.00</td>\n      <td>-0.53</td>\n      <td>NaN</td>\n      <td>NaN</td>\n      <td>0</td>\n      <td>440.0</td>\n      <td>65.0</td>\n      <td>172133.259259</td>\n      <td>0.817059</td>\n      <td>5.0</td>\n      <td>0x68B40261316D3EC00E303953073C4DF3B3C6CEDDA5D1...</td>\n      <td>201810</td>\n    </tr>\n    <tr>\n      <th>5727354</th>\n      <td>2019-06-21</td>\n      <td>17445</td>\n      <td>583</td>\n      <td>0.518039</td>\n      <td>1.003324</td>\n      <td>0.139789</td>\n      <td>1665.68</td>\n      <td>17502.9900</td>\n      <td>1524.33</td>\n      <td>2942.50</td>\n      <td>0.091993</td>\n      <td>544</td>\n      <td>0.518039</td>\n      <td>8</td>\n      <td>3000.0</td>\n      <td>17502.99</td>\n      <td>2895.0</td>\n      <td>-2999.1627</td>\n      <td>NaN</td>\n      <td>NaN</td>\n      <td>NaN</td>\n      <td>NaN</td>\n      <td>NaN</td>\n      <td>8.0</td>\n      <td>1.0</td>\n      <td>NaN</td>\n      <td>NaN</td>\n      <td>NaN</td>\n      <td>NaN</td>\n      <td>136.0</td>\n      <td>130.0</td>\n      <td>NaN</td>\n      <td>102.0</td>\n      <td>5.0</td>\n      <td>141.0</td>\n      <td>NaN</td>\n      <td>0</td>\n      <td>0.1270</td>\n      <td>2056.65</td>\n      <td>5.0</td>\n      <td>NaN</td>\n      <td>1.0</td>\n      <td>0</td>\n      <td>2223.10</td>\n      <td>0.1890</td>\n      <td>2.0</td>\n      <td>0.000000e+00</td>\n      <td>0.0</td>\n      <td>32.6698</td>\n      <td>1</td>\n      <td>0.0</td>\n      <td>15182.22</td>\n      <td>13438.09</td>\n      <td>13438.09</td>\n      <td>15182.22</td>\n      <td>2</td>\n      <td>1</td>\n      <td>0</td>\n      <td>60.0</td>\n      <td>60.0</td>\n      <td>90.0</td>\n      <td>120.0</td>\n      <td>133.0</td>\n      <td>120.0</td>\n      <td>30.0</td>\n      <td>111.0</td>\n      <td>126.0</td>\n      <td>0.96</td>\n      <td>0.48</td>\n      <td>803.0</td>\n      <td>614.0</td>\n      <td>504.0</td>\n      <td>403.0</td>\n      <td>-168.69</td>\n      <td>-84.87</td>\n      <td>NaN</td>\n      <td>NaN</td>\n      <td>0</td>\n      <td>500.0</td>\n      <td>0.0</td>\n      <td>12350.555556</td>\n      <td>0.788470</td>\n      <td>0.0</td>\n      <td>0x94522D595B75E3BF6FA304D563C799D16B022C0DE25C...</td>\n      <td>201810</td>\n    </tr>\n    <tr>\n      <th>5727355</th>\n      <td>2019-06-21</td>\n      <td>13970</td>\n      <td>465</td>\n      <td>0.500427</td>\n      <td>1.223583</td>\n      <td>0.092129</td>\n      <td>1652.46</td>\n      <td>17093.4600</td>\n      <td>2122.81</td>\n      <td>4242.00</td>\n      <td>0.065568</td>\n      <td>586</td>\n      <td>0.500427</td>\n      <td>8</td>\n      <td>3000.0</td>\n      <td>17093.46</td>\n      <td>2000.0</td>\n      <td>1.0804</td>\n      <td>4.0</td>\n      <td>2.0</td>\n      <td>NaN</td>\n      <td>1.0</td>\n      <td>4.0</td>\n      <td>90.0</td>\n      <td>NaN</td>\n      <td>820.70</td>\n      <td>2.0</td>\n      <td>1.0</td>\n      <td>2.0</td>\n      <td>3.0</td>\n      <td>3.0</td>\n      <td>1.0</td>\n      <td>NaN</td>\n      <td>1.0</td>\n      <td>-16.0</td>\n      <td>NaN</td>\n      <td>0</td>\n      <td>0.9582</td>\n      <td>0.00</td>\n      <td>1.0</td>\n      <td>NaN</td>\n      <td>8.0</td>\n      <td>1</td>\n      <td>16378.98</td>\n      <td>0.1780</td>\n      <td>7.0</td>\n      <td>0.000000e+00</td>\n      <td>0.0</td>\n      <td>2.0999</td>\n      <td>1</td>\n      <td>0.0</td>\n      <td>2032.21</td>\n      <td>820.70</td>\n      <td>1231.05</td>\n      <td>1231.05</td>\n      <td>4</td>\n      <td>2</td>\n      <td>0</td>\n      <td>14.0</td>\n      <td>44.0</td>\n      <td>51.0</td>\n      <td>65.0</td>\n      <td>71.0</td>\n      <td>77.0</td>\n      <td>29.0</td>\n      <td>14.0</td>\n      <td>28.0</td>\n      <td>0.03</td>\n      <td>0.02</td>\n      <td>108.0</td>\n      <td>106.0</td>\n      <td>104.0</td>\n      <td>103.0</td>\n      <td>-4.31</td>\n      <td>-3.97</td>\n      <td>NaN</td>\n      <td>NaN</td>\n      <td>0</td>\n      <td>534.0</td>\n      <td>43.0</td>\n      <td>105670.838710</td>\n      <td>0.893795</td>\n      <td>2.0</td>\n      <td>0x94FAFAB24C10929AF1E0CB15D1C89E1AE2BC5E314E06...</td>\n      <td>201810</td>\n    </tr>\n    <tr>\n      <th>5727356</th>\n      <td>2019-06-21</td>\n      <td>19795</td>\n      <td>493</td>\n      <td>0.431426</td>\n      <td>1.012422</td>\n      <td>0.184023</td>\n      <td>1142.21</td>\n      <td>20041.3300</td>\n      <td>1046.64</td>\n      <td>2426.00</td>\n      <td>0.134023</td>\n      <td>476</td>\n      <td>0.431426</td>\n      <td>8</td>\n      <td>2500.0</td>\n      <td>20041.33</td>\n      <td>2849.0</td>\n      <td>0.8685</td>\n      <td>NaN</td>\n      <td>7.0</td>\n      <td>140.0</td>\n      <td>139.0</td>\n      <td>5.0</td>\n      <td>2.0</td>\n      <td>1.0</td>\n      <td>446.44</td>\n      <td>3.0</td>\n      <td>144.0</td>\n      <td>141.0</td>\n      <td>NaN</td>\n      <td>148.0</td>\n      <td>141.0</td>\n      <td>148.0</td>\n      <td>15.0</td>\n      <td>-11.0</td>\n      <td>2019-02-01 00:00:00.000</td>\n      <td>0</td>\n      <td>0.9486</td>\n      <td>0.00</td>\n      <td>15.0</td>\n      <td>NaN</td>\n      <td>3.0</td>\n      <td>1</td>\n      <td>19012.51</td>\n      <td>0.1678</td>\n      <td>7.0</td>\n      <td>6.000000e+06</td>\n      <td>0.0</td>\n      <td>1.0000</td>\n      <td>1</td>\n      <td>0.0</td>\n      <td>1785.76</td>\n      <td>446.44</td>\n      <td>892.88</td>\n      <td>1339.32</td>\n      <td>4</td>\n      <td>2</td>\n      <td>0</td>\n      <td>0.0</td>\n      <td>0.0</td>\n      <td>0.0</td>\n      <td>0.0</td>\n      <td>6.0</td>\n      <td>5.0</td>\n      <td>0.0</td>\n      <td>0.0</td>\n      <td>-10.0</td>\n      <td>0.03</td>\n      <td>0.03</td>\n      <td>100.0</td>\n      <td>100.0</td>\n      <td>100.0</td>\n      <td>100.0</td>\n      <td>-5.88</td>\n      <td>-5.72</td>\n      <td>NaN</td>\n      <td>NaN</td>\n      <td>0</td>\n      <td>480.0</td>\n      <td>0.0</td>\n      <td>105625.055556</td>\n      <td>0.788470</td>\n      <td>6.0</td>\n      <td>0x251D8E4167A71C371D15BDE31F670FDB2DE430BAAE6E...</td>\n      <td>201810</td>\n    </tr>\n    <tr>\n      <th>5727357</th>\n      <td>2019-06-21</td>\n      <td>19860</td>\n      <td>572</td>\n      <td>0.329260</td>\n      <td>1.285793</td>\n      <td>0.128570</td>\n      <td>1450.76</td>\n      <td>25535.8400</td>\n      <td>1433.41</td>\n      <td>4353.43</td>\n      <td>0.098564</td>\n      <td>581</td>\n      <td>0.329260</td>\n      <td>8</td>\n      <td>1400.0</td>\n      <td>25535.84</td>\n      <td>2895.0</td>\n      <td>-2498.8600</td>\n      <td>2.0</td>\n      <td>2.0</td>\n      <td>NaN</td>\n      <td>61.0</td>\n      <td>4.0</td>\n      <td>179.0</td>\n      <td>8.0</td>\n      <td>584.72</td>\n      <td>3.0</td>\n      <td>72.0</td>\n      <td>72.0</td>\n      <td>11.0</td>\n      <td>1.0</td>\n      <td>72.0</td>\n      <td>47.0</td>\n      <td>5.0</td>\n      <td>45.0</td>\n      <td>NaN</td>\n      <td>0</td>\n      <td>0.9907</td>\n      <td>1038.88</td>\n      <td>5.0</td>\n      <td>NaN</td>\n      <td>7.0</td>\n      <td>0</td>\n      <td>25299.02</td>\n      <td>0.1615</td>\n      <td>5.0</td>\n      <td>0.000000e+00</td>\n      <td>0.0</td>\n      <td>1.6079</td>\n      <td>1</td>\n      <td>0.0</td>\n      <td>1784.72</td>\n      <td>900.00</td>\n      <td>1200.00</td>\n      <td>1200.00</td>\n      <td>4</td>\n      <td>0</td>\n      <td>0</td>\n      <td>60.0</td>\n      <td>60.0</td>\n      <td>90.0</td>\n      <td>105.0</td>\n      <td>112.0</td>\n      <td>109.0</td>\n      <td>30.0</td>\n      <td>77.0</td>\n      <td>69.0</td>\n      <td>0.00</td>\n      <td>0.00</td>\n      <td>71.0</td>\n      <td>62.0</td>\n      <td>76.0</td>\n      <td>83.0</td>\n      <td>0.00</td>\n      <td>-1.22</td>\n      <td>NaN</td>\n      <td>NaN</td>\n      <td>0</td>\n      <td>535.0</td>\n      <td>0.0</td>\n      <td>140550.111111</td>\n      <td>0.788470</td>\n      <td>2.0</td>\n      <td>0x96EE3EB283A291C7FA091C309A8C3E941C46C727F42E...</td>\n      <td>201810</td>\n    </tr>\n  </tbody>\n</table>\n<p>5727358 rows × 85 columns</p>\n</div>"
     },
     "execution_count": 91,
     "metadata": {},
     "output_type": "execute_result"
    }
   ],
   "source": [
    "UTD_Data"
   ]
  },
  {
   "cell_type": "code",
   "execution_count": 92,
   "outputs": [
    {
     "data": {
      "text/plain": "           PullDate  Veh_Value  ApplicantFICOScore     DTI     LTV  \\\n12       2019-04-26      14475                 548  0.3067  1.2328   \n9760     2019-04-24      14475                 548  0.3067  1.2328   \n118338   2019-04-25      14475                 548  0.3067  1.2328   \n234133   2019-04-19      14475                 548  0.3067  1.2328   \n300377   2019-06-09      14475                 548  0.3067  1.2328   \n...             ...        ...                 ...     ...     ...   \n5215414  2019-05-11      14475                 548  0.3067  1.2328   \n5408989  2019-04-13      14475                 548  0.3067  1.2328   \n5515346  2019-04-04      14475                 548  0.3067  1.2328   \n5530503  2019-04-16      14475                 548  0.3067  1.2328   \n5536551  2019-04-28      14475                 548  0.3067  1.2328   \n\n         PTI_BOOKED  SalesTax  AMOUNT_FINANCED  Appl_Debt  Appl_Income  \\\n12           0.1688   2015.64       17845.0605     799.41       2606.5   \n9760         0.1688   2015.64       17845.0605     799.41       2606.5   \n118338       0.1688   2015.64       17845.0605     799.41       2606.5   \n234133       0.1688   2015.64       17845.0605     799.41       2606.5   \n300377       0.1688   2015.64       17845.0605     799.41       2606.5   \n...             ...       ...              ...        ...          ...   \n5215414      0.1688   2015.64       17845.0605     799.41       2606.5   \n5408989      0.1688   2015.64       17845.0605     799.41       2606.5   \n5515346      0.1688   2015.64       17845.0605     799.41       2606.5   \n5530503      0.1688   2015.64       17845.0605     799.41       2606.5   \n5536551      0.1688   2015.64       17845.0605     799.41       2606.5   \n\n         PTI_Approved  CUSTOM_SCORE  DTI_RATIO  MOB  DOWN_CASH  \\\n12             0.1164           501     0.3067   25     4000.0   \n9760           0.1164           501     0.3067   25     4000.0   \n118338         0.1164           501     0.3067   25     4000.0   \n234133         0.1164           501     0.3067   25     4000.0   \n300377         0.1164           501     0.3067   27     4000.0   \n...               ...           ...        ...  ...        ...   \n5215414        0.1164           501     0.3067   26     4000.0   \n5408989        0.1164           501     0.3067   25     4000.0   \n5515346        0.1164           501     0.3067   25     4000.0   \n5530503        0.1164           501     0.3067   25     4000.0   \n5536551        0.1164           501     0.3067   25     4000.0   \n\n         FINANCED_AMOUNT  BACKEND_TOTAL  LINE4_LTV  ContactCount  \\\n12              17845.06        2641.92     1.0503           1.0   \n9760            17845.06        2641.92     1.0503           3.0   \n118338          17845.06        2641.92     1.0503           2.0   \n234133          17845.06        2641.92     1.0503           3.0   \n300377          17845.06        2641.92     1.0503           1.0   \n...                  ...            ...        ...           ...   \n5215414         17845.06        2641.92     1.0503           1.0   \n5408989         17845.06        2641.92     1.0503           3.0   \n5515346         17845.06        2641.92     1.0503           2.0   \n5530503         17845.06        2641.92     1.0503           3.0   \n5536551         17845.06        2641.92     1.0503           1.0   \n\n         F0066_CONTACT_NO_PROMISE_COUNT  DSL_NSF  \\\n12                                 24.0      NaN   \n9760                               24.0      NaN   \n118338                             24.0      NaN   \n234133                             24.0      NaN   \n300377                             24.0      NaN   \n...                                 ...      ...   \n5215414                            24.0      NaN   \n5408989                            24.0      NaN   \n5515346                            24.0      NaN   \n5530503                            24.0      NaN   \n5536551                            24.0      NaN   \n\n         F0315_DAYS_SINCE_LAST_PROMISE_1  F0065_PROMISES_TAKEN_COUNT  \\\n12                                   8.0                        22.0   \n9760                                 6.0                        22.0   \n118338                               7.0                        22.0   \n234133                               1.0                        22.0   \n300377                              52.0                        22.0   \n...                                  ...                         ...   \n5215414                             23.0                        22.0   \n5408989                             -5.0                        22.0   \n5515346                             46.0                        21.0   \n5530503                             -2.0                        22.0   \n5536551                             10.0                        22.0   \n\n         F0068_ATTEMPTED_CONTACT_COUNT  F0071_CORRESPONDENCE_COUNT  \\\n12                               394.0                        49.0   \n9760                             389.0                        49.0   \n118338                           392.0                        49.0   \n234133                           378.0                        49.0   \n300377                           494.0                        50.0   \n...                                ...                         ...   \n5215414                          430.0                        49.0   \n5408989                          369.0                        48.0   \n5515346                          360.0                        48.0   \n5530503                          374.0                        49.0   \n5536551                          395.0                        49.0   \n\n         F0089_PROMISE_AMT_1  F0283_PROMISES_KEPT_LIFE_TO_DATE  \\\n12                      70.0                               4.0   \n9760                    70.0                               4.0   \n118338                  70.0                               4.0   \n234133                  70.0                               4.0   \n300377                  70.0                               4.0   \n...                      ...                               ...   \n5215414                 70.0                               4.0   \n5408989                 70.0                               4.0   \n5515346                440.0                               3.0   \n5530503                 70.0                               4.0   \n5536551                 70.0                               4.0   \n\n         F0304_TODAY_MINUS_PROMISES_TAKEN_DATE  \\\n12                                        18.0   \n9760                                      16.0   \n118338                                    17.0   \n234133                                    11.0   \n300377                                    62.0   \n...                                        ...   \n5215414                                   33.0   \n5408989                                    5.0   \n5515346                                   70.0   \n5530503                                    8.0   \n5536551                                   20.0   \n\n         F0305_TODAY_MINUS_CONTACT_NO_PROMISE_DATE  \\\n12                                           138.0   \n9760                                         136.0   \n118338                                       137.0   \n234133                                       131.0   \n300377                                       182.0   \n...                                            ...   \n5215414                                      153.0   \n5408989                                      125.0   \n5515346                                      116.0   \n5530503                                      128.0   \n5536551                                      140.0   \n\n         F0306_TODAY_MINUS_LEFT_MESSAGES_DATE  \\\n12                                      221.0   \n9760                                    219.0   \n118338                                  220.0   \n234133                                  214.0   \n300377                                  265.0   \n...                                       ...   \n5215414                                 236.0   \n5408989                                 208.0   \n5515346                                 199.0   \n5530503                                 211.0   \n5536551                                 223.0   \n\n         F0307_TODAY_MINUS_ATTEMPTED_CONTACT_DATE  \\\n12                                            1.0   \n9760                                          1.0   \n118338                                        1.0   \n234133                                        1.0   \n300377                                        3.0   \n...                                           ...   \n5215414                                       2.0   \n5408989                                       5.0   \n5515346                                       1.0   \n5530503                                       1.0   \n5536551                                       2.0   \n\n         F0314_TODAY_MINUS_DAYS_LAST_CONTACT  F0317_DAYS_SINCE_LAST_LETTER  \\\n12                                      18.0                          11.0   \n9760                                    16.0                           9.0   \n118338                                  17.0                          10.0   \n234133                                  11.0                           4.0   \n300377                                  62.0                           5.0   \n...                                      ...                           ...   \n5215414                                 33.0                          26.0   \n5408989                                  5.0                          79.0   \n5515346                                 70.0                          70.0   \n5530503                                  8.0                           1.0   \n5536551                                 20.0                          13.0   \n\n         F0320_TODAY_MINUS_DAYS_LAST_MONETARY  F0381_DAYS_DELINQUENT_360  \\\n12                                       18.0                       40.0   \n9760                                     16.0                       38.0   \n118338                                   17.0                       39.0   \n234133                                   11.0                       33.0   \n300377                                    6.0                       53.0   \n...                                       ...                        ...   \n5215414                                  33.0                       55.0   \n5408989                                   5.0                       27.0   \n5515346                                  35.0                       18.0   \n5530503                                   8.0                       30.0   \n5536551                                  20.0                       42.0   \n\n        F0385_LAST_NSF_DATE  PROMISE_STATUS_O  BALANCE_PERCENT_LOAN  \\\n12                      NaN                 0                0.9863   \n9760                    NaN                 0                0.9863   \n118338                  NaN                 0                0.9863   \n234133                  NaN                 0                0.9863   \n300377                  NaN                 0                0.9863   \n...                     ...               ...                   ...   \n5215414                 NaN                 0                0.9863   \n5408989                 NaN                 1                0.9863   \n5515346                 NaN                 0                0.9863   \n5530503                 NaN                 1                0.9863   \n5536551                 NaN                 0                0.9863   \n\n         F0146_PAST_DUE_PAYMENTS  DSLP  DSL_ext  DAY_OF_MONTH_DUE_DATE  \\\n12                         550.0  18.0     91.0                   17.0   \n9760                       550.0  16.0     89.0                   17.0   \n118338                     550.0  17.0     90.0                   17.0   \n234133                     550.0  11.0     84.0                   17.0   \n300377                     600.0   6.0    135.0                   17.0   \n...                          ...   ...      ...                    ...   \n5215414                    550.0  33.0    106.0                   17.0   \n5408989                    110.0   5.0     78.0                   17.0   \n5515346                    440.0  35.0     69.0                   17.0   \n5530503                    110.0   8.0     81.0                   17.0   \n5536551                    550.0  20.0     93.0                   17.0   \n\n         EXTENSION_ELIGIBLE_Y  F0145_BALANCE  F0180_CURRENT_INTEREST_RATE  \\\n12                          0       17601.55                       0.2099   \n9760                        0       17601.55                       0.2099   \n118338                      0       17601.55                       0.2099   \n234133                      0       17601.55                       0.2099   \n300377                      0       17601.55                       0.2099   \n...                       ...            ...                          ...   \n5215414                     0       17601.55                       0.2099   \n5408989                     0       17601.55                       0.2099   \n5515346                     0       17601.55                       0.2099   \n5530503                     0       17601.55                       0.2099   \n5536551                     0       17601.55                       0.2099   \n\n         F0198_NUMBER_OF_PAYMENTS_PAID  F0217_NSF_HISTORY  \\\n12                                17.0                0.0   \n9760                              17.0                0.0   \n118338                            17.0                0.0   \n234133                            17.0                0.0   \n300377                            18.0                0.0   \n...                                ...                ...   \n5215414                           17.0                0.0   \n5408989                           17.0                0.0   \n5515346                           17.0                0.0   \n5530503                           17.0                0.0   \n5536551                           17.0                0.0   \n\n         F0223_NUMBER_OF_EXTENSIONS  PMT_RAT_OBS  lastchannel_Z  \\\n12                              4.0       0.7500              1   \n9760                            4.0       0.7500              1   \n118338                          4.0       0.7500              1   \n234133                          4.0       0.7500              1   \n300377                          4.0       0.8863              1   \n...                             ...          ...            ...   \n5215414                         4.0       0.0000              1   \n5408989                         4.0       0.7500              1   \n5515346                         4.0       0.0000              1   \n5530503                         4.0       0.7500              1   \n5536551                         4.0       0.7500              1   \n\n         LatefeeAmtLast120Days  PaymentAmtLast120Days  PaymentAmtLast30Days  \\\n12                         0.0                 1640.0                 330.0   \n9760                       0.0                 1640.0                 330.0   \n118338                     0.0                 1640.0                 330.0   \n234133                     0.0                 1640.0                 330.0   \n300377                     0.0                 1130.0                 390.0   \n...                        ...                    ...                   ...   \n5215414                    0.0                 1640.0                   0.0   \n5408989                    0.0                 1640.0                 330.0   \n5515346                    0.0                 1310.0                   0.0   \n5530503                    0.0                 1640.0                 330.0   \n5536551                    0.0                 1640.0                 330.0   \n\n         PaymentAmtLast60Days  PaymentAmtLast90Days  PaymentNumLast120Days  \\\n12                      740.0                 740.0                      3   \n9760                    740.0                1640.0                      3   \n118338                  740.0                 740.0                      3   \n234133                  740.0                1640.0                      3   \n300377                  390.0                 720.0                      4   \n...                       ...                   ...                    ...   \n5215414                 330.0                 740.0                      3   \n5408989                 740.0                1640.0                      3   \n5515346                 410.0                1310.0                      2   \n5530503                 740.0                1640.0                      3   \n5536551                 740.0                 740.0                      3   \n\n         PmtNumFullAmtLast60Days  LIFETIME_COUNT_Paymentus_Debit  D31P_TOT_2  \\\n12                             0                               0        11.0   \n9760                           0                               0         9.0   \n118338                         0                               0        10.0   \n234133                         0                               0         4.0   \n300377                         0                               0        55.0   \n...                          ...                             ...         ...   \n5215414                        0                               0        26.0   \n5408989                        0                               0         0.0   \n5515346                        0                               0         0.0   \n5530503                        0                               0         1.0   \n5536551                        0                               0        13.0   \n\n         D9P_TOT_2  D9P_TOT_3  D9P_TOT_4  D9P_TOT_6  D5P_TOT_4  D5P_TOT_1  \\\n12            36.0       37.0       64.0      124.0       73.0       30.0   \n9760          35.0       35.0       64.0      124.0       73.0       30.0   \n118338        36.0       36.0       64.0      124.0       73.0       30.0   \n234133        30.0       34.0       64.0      124.0       73.0       30.0   \n300377        60.0       77.0       81.0      124.0       89.0       30.0   \n...            ...        ...        ...        ...        ...        ...   \n5215414       48.0       52.0       64.0      124.0       73.0       30.0   \n5408989       24.0       34.0       64.0      124.0       73.0       24.0   \n5515346       15.0       34.0       64.0      124.0       73.0       15.0   \n5530503       27.0       34.0       64.0      124.0       73.0       27.0   \n5536551       36.0       39.0       64.0      124.0       73.0       30.0   \n\n         D31P_TOT_6  DD_AVG_1  BAL_RAT_TRN_3  BAL_RAT_TRN_6  PMT_RAT_AVG_1  \\\n12             76.0      26.0            0.0            0.0           82.0   \n9760           76.0      24.0            0.0            0.0           83.0   \n118338         76.0      25.0            0.0            0.0           83.0   \n234133         76.0      19.0            0.0            0.0           87.0   \n300377         93.0      45.0            0.0            0.0           55.0   \n...             ...       ...            ...            ...            ...   \n5215414        76.0      41.0            0.0            0.0           75.0   \n5408989        78.0      13.0            0.0            0.0           90.0   \n5515346        87.0       4.0            0.0            0.0           93.0   \n5530503        76.0      16.0            0.0            0.0           88.0   \n5536551        76.0      28.0            0.0            0.0           81.0   \n\n         PMT_RAT_AVG_2  PMT_RAT_AVG_3  PMT_RAT_AVG_4  BAL_TRN_3  BAL_TRN_6  \\\n12                93.0          130.0          110.0        0.0        0.0   \n9760              98.0          133.0          110.0        0.0        0.0   \n118338            95.0          132.0          110.0        0.0        0.0   \n234133           108.0          133.0          108.0        0.0        0.0   \n300377            65.0           74.0           97.0        0.0        0.0   \n...                ...            ...            ...        ...        ...   \n5215414           83.0          109.0          116.0        0.0        0.0   \n5408989          121.0          130.0          106.0        0.0        0.0   \n5515346          140.0          125.0          102.0        0.0        0.0   \n5530503          115.0          131.0          107.0        0.0        0.0   \n5536551           89.0          127.0          111.0        0.0        0.0   \n\n         CBTINDIRECTGEN23  CBTINDIRECTGEN30  REM_TM_RAT_OBS  LOANFUNDINGSCORE  \\\n12                  501.0               NaN               0             491.0   \n9760                501.0               NaN               0             491.0   \n118338              501.0               NaN               0             491.0   \n234133              501.0               NaN               0             491.0   \n300377              501.0               NaN               0             491.0   \n...                   ...               ...             ...               ...   \n5215414             501.0               NaN               0             491.0   \n5408989             501.0               NaN               0             491.0   \n5515346             501.0               NaN               0             491.0   \n5530503             501.0               NaN               0             491.0   \n5536551             501.0               NaN               0             491.0   \n\n          VRS   LTVEffective  DepreciationRate  INQ12_5  \\\n12       63.0  130381.851852          0.739237      NaN   \n9760     63.0  130381.851852          0.739237      NaN   \n118338   63.0  130381.851852          0.739237      NaN   \n234133   63.0  130381.851852          0.739237      NaN   \n300377   63.0  130381.851852          0.721583      NaN   \n...       ...            ...               ...      ...   \n5215414  63.0  130381.851852          0.730356      NaN   \n5408989  63.0  130381.851852          0.739237      NaN   \n5515346  63.0  130381.851852          0.739237      NaN   \n5530503  63.0  130381.851852          0.739237      NaN   \n5536551  63.0  130381.851852          0.739237      NaN   \n\n                                            masked_account  booked_yr_mo  \n12       0x87100E243B9BFBFD9709EF51515F41713032C5DD5392...        201703  \n9760     0x87100E243B9BFBFD9709EF51515F41713032C5DD5392...        201703  \n118338   0x87100E243B9BFBFD9709EF51515F41713032C5DD5392...        201703  \n234133   0x87100E243B9BFBFD9709EF51515F41713032C5DD5392...        201703  \n300377   0x87100E243B9BFBFD9709EF51515F41713032C5DD5392...        201703  \n...                                                    ...           ...  \n5215414  0x87100E243B9BFBFD9709EF51515F41713032C5DD5392...        201703  \n5408989  0x87100E243B9BFBFD9709EF51515F41713032C5DD5392...        201703  \n5515346  0x87100E243B9BFBFD9709EF51515F41713032C5DD5392...        201703  \n5530503  0x87100E243B9BFBFD9709EF51515F41713032C5DD5392...        201703  \n5536551  0x87100E243B9BFBFD9709EF51515F41713032C5DD5392...        201703  \n\n[91 rows x 85 columns]",
      "text/html": "<div>\n<style scoped>\n    .dataframe tbody tr th:only-of-type {\n        vertical-align: middle;\n    }\n\n    .dataframe tbody tr th {\n        vertical-align: top;\n    }\n\n    .dataframe thead th {\n        text-align: right;\n    }\n</style>\n<table border=\"1\" class=\"dataframe\">\n  <thead>\n    <tr style=\"text-align: right;\">\n      <th></th>\n      <th>PullDate</th>\n      <th>Veh_Value</th>\n      <th>ApplicantFICOScore</th>\n      <th>DTI</th>\n      <th>LTV</th>\n      <th>PTI_BOOKED</th>\n      <th>SalesTax</th>\n      <th>AMOUNT_FINANCED</th>\n      <th>Appl_Debt</th>\n      <th>Appl_Income</th>\n      <th>PTI_Approved</th>\n      <th>CUSTOM_SCORE</th>\n      <th>DTI_RATIO</th>\n      <th>MOB</th>\n      <th>DOWN_CASH</th>\n      <th>FINANCED_AMOUNT</th>\n      <th>BACKEND_TOTAL</th>\n      <th>LINE4_LTV</th>\n      <th>ContactCount</th>\n      <th>F0066_CONTACT_NO_PROMISE_COUNT</th>\n      <th>DSL_NSF</th>\n      <th>F0315_DAYS_SINCE_LAST_PROMISE_1</th>\n      <th>F0065_PROMISES_TAKEN_COUNT</th>\n      <th>F0068_ATTEMPTED_CONTACT_COUNT</th>\n      <th>F0071_CORRESPONDENCE_COUNT</th>\n      <th>F0089_PROMISE_AMT_1</th>\n      <th>F0283_PROMISES_KEPT_LIFE_TO_DATE</th>\n      <th>F0304_TODAY_MINUS_PROMISES_TAKEN_DATE</th>\n      <th>F0305_TODAY_MINUS_CONTACT_NO_PROMISE_DATE</th>\n      <th>F0306_TODAY_MINUS_LEFT_MESSAGES_DATE</th>\n      <th>F0307_TODAY_MINUS_ATTEMPTED_CONTACT_DATE</th>\n      <th>F0314_TODAY_MINUS_DAYS_LAST_CONTACT</th>\n      <th>F0317_DAYS_SINCE_LAST_LETTER</th>\n      <th>F0320_TODAY_MINUS_DAYS_LAST_MONETARY</th>\n      <th>F0381_DAYS_DELINQUENT_360</th>\n      <th>F0385_LAST_NSF_DATE</th>\n      <th>PROMISE_STATUS_O</th>\n      <th>BALANCE_PERCENT_LOAN</th>\n      <th>F0146_PAST_DUE_PAYMENTS</th>\n      <th>DSLP</th>\n      <th>DSL_ext</th>\n      <th>DAY_OF_MONTH_DUE_DATE</th>\n      <th>EXTENSION_ELIGIBLE_Y</th>\n      <th>F0145_BALANCE</th>\n      <th>F0180_CURRENT_INTEREST_RATE</th>\n      <th>F0198_NUMBER_OF_PAYMENTS_PAID</th>\n      <th>F0217_NSF_HISTORY</th>\n      <th>F0223_NUMBER_OF_EXTENSIONS</th>\n      <th>PMT_RAT_OBS</th>\n      <th>lastchannel_Z</th>\n      <th>LatefeeAmtLast120Days</th>\n      <th>PaymentAmtLast120Days</th>\n      <th>PaymentAmtLast30Days</th>\n      <th>PaymentAmtLast60Days</th>\n      <th>PaymentAmtLast90Days</th>\n      <th>PaymentNumLast120Days</th>\n      <th>PmtNumFullAmtLast60Days</th>\n      <th>LIFETIME_COUNT_Paymentus_Debit</th>\n      <th>D31P_TOT_2</th>\n      <th>D9P_TOT_2</th>\n      <th>D9P_TOT_3</th>\n      <th>D9P_TOT_4</th>\n      <th>D9P_TOT_6</th>\n      <th>D5P_TOT_4</th>\n      <th>D5P_TOT_1</th>\n      <th>D31P_TOT_6</th>\n      <th>DD_AVG_1</th>\n      <th>BAL_RAT_TRN_3</th>\n      <th>BAL_RAT_TRN_6</th>\n      <th>PMT_RAT_AVG_1</th>\n      <th>PMT_RAT_AVG_2</th>\n      <th>PMT_RAT_AVG_3</th>\n      <th>PMT_RAT_AVG_4</th>\n      <th>BAL_TRN_3</th>\n      <th>BAL_TRN_6</th>\n      <th>CBTINDIRECTGEN23</th>\n      <th>CBTINDIRECTGEN30</th>\n      <th>REM_TM_RAT_OBS</th>\n      <th>LOANFUNDINGSCORE</th>\n      <th>VRS</th>\n      <th>LTVEffective</th>\n      <th>DepreciationRate</th>\n      <th>INQ12_5</th>\n      <th>masked_account</th>\n      <th>booked_yr_mo</th>\n    </tr>\n  </thead>\n  <tbody>\n    <tr>\n      <th>12</th>\n      <td>2019-04-26</td>\n      <td>14475</td>\n      <td>548</td>\n      <td>0.3067</td>\n      <td>1.2328</td>\n      <td>0.1688</td>\n      <td>2015.64</td>\n      <td>17845.0605</td>\n      <td>799.41</td>\n      <td>2606.5</td>\n      <td>0.1164</td>\n      <td>501</td>\n      <td>0.3067</td>\n      <td>25</td>\n      <td>4000.0</td>\n      <td>17845.06</td>\n      <td>2641.92</td>\n      <td>1.0503</td>\n      <td>1.0</td>\n      <td>24.0</td>\n      <td>NaN</td>\n      <td>8.0</td>\n      <td>22.0</td>\n      <td>394.0</td>\n      <td>49.0</td>\n      <td>70.0</td>\n      <td>4.0</td>\n      <td>18.0</td>\n      <td>138.0</td>\n      <td>221.0</td>\n      <td>1.0</td>\n      <td>18.0</td>\n      <td>11.0</td>\n      <td>18.0</td>\n      <td>40.0</td>\n      <td>NaN</td>\n      <td>0</td>\n      <td>0.9863</td>\n      <td>550.0</td>\n      <td>18.0</td>\n      <td>91.0</td>\n      <td>17.0</td>\n      <td>0</td>\n      <td>17601.55</td>\n      <td>0.2099</td>\n      <td>17.0</td>\n      <td>0.0</td>\n      <td>4.0</td>\n      <td>0.7500</td>\n      <td>1</td>\n      <td>0.0</td>\n      <td>1640.0</td>\n      <td>330.0</td>\n      <td>740.0</td>\n      <td>740.0</td>\n      <td>3</td>\n      <td>0</td>\n      <td>0</td>\n      <td>11.0</td>\n      <td>36.0</td>\n      <td>37.0</td>\n      <td>64.0</td>\n      <td>124.0</td>\n      <td>73.0</td>\n      <td>30.0</td>\n      <td>76.0</td>\n      <td>26.0</td>\n      <td>0.0</td>\n      <td>0.0</td>\n      <td>82.0</td>\n      <td>93.0</td>\n      <td>130.0</td>\n      <td>110.0</td>\n      <td>0.0</td>\n      <td>0.0</td>\n      <td>501.0</td>\n      <td>NaN</td>\n      <td>0</td>\n      <td>491.0</td>\n      <td>63.0</td>\n      <td>130381.851852</td>\n      <td>0.739237</td>\n      <td>NaN</td>\n      <td>0x87100E243B9BFBFD9709EF51515F41713032C5DD5392...</td>\n      <td>201703</td>\n    </tr>\n    <tr>\n      <th>9760</th>\n      <td>2019-04-24</td>\n      <td>14475</td>\n      <td>548</td>\n      <td>0.3067</td>\n      <td>1.2328</td>\n      <td>0.1688</td>\n      <td>2015.64</td>\n      <td>17845.0605</td>\n      <td>799.41</td>\n      <td>2606.5</td>\n      <td>0.1164</td>\n      <td>501</td>\n      <td>0.3067</td>\n      <td>25</td>\n      <td>4000.0</td>\n      <td>17845.06</td>\n      <td>2641.92</td>\n      <td>1.0503</td>\n      <td>3.0</td>\n      <td>24.0</td>\n      <td>NaN</td>\n      <td>6.0</td>\n      <td>22.0</td>\n      <td>389.0</td>\n      <td>49.0</td>\n      <td>70.0</td>\n      <td>4.0</td>\n      <td>16.0</td>\n      <td>136.0</td>\n      <td>219.0</td>\n      <td>1.0</td>\n      <td>16.0</td>\n      <td>9.0</td>\n      <td>16.0</td>\n      <td>38.0</td>\n      <td>NaN</td>\n      <td>0</td>\n      <td>0.9863</td>\n      <td>550.0</td>\n      <td>16.0</td>\n      <td>89.0</td>\n      <td>17.0</td>\n      <td>0</td>\n      <td>17601.55</td>\n      <td>0.2099</td>\n      <td>17.0</td>\n      <td>0.0</td>\n      <td>4.0</td>\n      <td>0.7500</td>\n      <td>1</td>\n      <td>0.0</td>\n      <td>1640.0</td>\n      <td>330.0</td>\n      <td>740.0</td>\n      <td>1640.0</td>\n      <td>3</td>\n      <td>0</td>\n      <td>0</td>\n      <td>9.0</td>\n      <td>35.0</td>\n      <td>35.0</td>\n      <td>64.0</td>\n      <td>124.0</td>\n      <td>73.0</td>\n      <td>30.0</td>\n      <td>76.0</td>\n      <td>24.0</td>\n      <td>0.0</td>\n      <td>0.0</td>\n      <td>83.0</td>\n      <td>98.0</td>\n      <td>133.0</td>\n      <td>110.0</td>\n      <td>0.0</td>\n      <td>0.0</td>\n      <td>501.0</td>\n      <td>NaN</td>\n      <td>0</td>\n      <td>491.0</td>\n      <td>63.0</td>\n      <td>130381.851852</td>\n      <td>0.739237</td>\n      <td>NaN</td>\n      <td>0x87100E243B9BFBFD9709EF51515F41713032C5DD5392...</td>\n      <td>201703</td>\n    </tr>\n    <tr>\n      <th>118338</th>\n      <td>2019-04-25</td>\n      <td>14475</td>\n      <td>548</td>\n      <td>0.3067</td>\n      <td>1.2328</td>\n      <td>0.1688</td>\n      <td>2015.64</td>\n      <td>17845.0605</td>\n      <td>799.41</td>\n      <td>2606.5</td>\n      <td>0.1164</td>\n      <td>501</td>\n      <td>0.3067</td>\n      <td>25</td>\n      <td>4000.0</td>\n      <td>17845.06</td>\n      <td>2641.92</td>\n      <td>1.0503</td>\n      <td>2.0</td>\n      <td>24.0</td>\n      <td>NaN</td>\n      <td>7.0</td>\n      <td>22.0</td>\n      <td>392.0</td>\n      <td>49.0</td>\n      <td>70.0</td>\n      <td>4.0</td>\n      <td>17.0</td>\n      <td>137.0</td>\n      <td>220.0</td>\n      <td>1.0</td>\n      <td>17.0</td>\n      <td>10.0</td>\n      <td>17.0</td>\n      <td>39.0</td>\n      <td>NaN</td>\n      <td>0</td>\n      <td>0.9863</td>\n      <td>550.0</td>\n      <td>17.0</td>\n      <td>90.0</td>\n      <td>17.0</td>\n      <td>0</td>\n      <td>17601.55</td>\n      <td>0.2099</td>\n      <td>17.0</td>\n      <td>0.0</td>\n      <td>4.0</td>\n      <td>0.7500</td>\n      <td>1</td>\n      <td>0.0</td>\n      <td>1640.0</td>\n      <td>330.0</td>\n      <td>740.0</td>\n      <td>740.0</td>\n      <td>3</td>\n      <td>0</td>\n      <td>0</td>\n      <td>10.0</td>\n      <td>36.0</td>\n      <td>36.0</td>\n      <td>64.0</td>\n      <td>124.0</td>\n      <td>73.0</td>\n      <td>30.0</td>\n      <td>76.0</td>\n      <td>25.0</td>\n      <td>0.0</td>\n      <td>0.0</td>\n      <td>83.0</td>\n      <td>95.0</td>\n      <td>132.0</td>\n      <td>110.0</td>\n      <td>0.0</td>\n      <td>0.0</td>\n      <td>501.0</td>\n      <td>NaN</td>\n      <td>0</td>\n      <td>491.0</td>\n      <td>63.0</td>\n      <td>130381.851852</td>\n      <td>0.739237</td>\n      <td>NaN</td>\n      <td>0x87100E243B9BFBFD9709EF51515F41713032C5DD5392...</td>\n      <td>201703</td>\n    </tr>\n    <tr>\n      <th>234133</th>\n      <td>2019-04-19</td>\n      <td>14475</td>\n      <td>548</td>\n      <td>0.3067</td>\n      <td>1.2328</td>\n      <td>0.1688</td>\n      <td>2015.64</td>\n      <td>17845.0605</td>\n      <td>799.41</td>\n      <td>2606.5</td>\n      <td>0.1164</td>\n      <td>501</td>\n      <td>0.3067</td>\n      <td>25</td>\n      <td>4000.0</td>\n      <td>17845.06</td>\n      <td>2641.92</td>\n      <td>1.0503</td>\n      <td>3.0</td>\n      <td>24.0</td>\n      <td>NaN</td>\n      <td>1.0</td>\n      <td>22.0</td>\n      <td>378.0</td>\n      <td>49.0</td>\n      <td>70.0</td>\n      <td>4.0</td>\n      <td>11.0</td>\n      <td>131.0</td>\n      <td>214.0</td>\n      <td>1.0</td>\n      <td>11.0</td>\n      <td>4.0</td>\n      <td>11.0</td>\n      <td>33.0</td>\n      <td>NaN</td>\n      <td>0</td>\n      <td>0.9863</td>\n      <td>550.0</td>\n      <td>11.0</td>\n      <td>84.0</td>\n      <td>17.0</td>\n      <td>0</td>\n      <td>17601.55</td>\n      <td>0.2099</td>\n      <td>17.0</td>\n      <td>0.0</td>\n      <td>4.0</td>\n      <td>0.7500</td>\n      <td>1</td>\n      <td>0.0</td>\n      <td>1640.0</td>\n      <td>330.0</td>\n      <td>740.0</td>\n      <td>1640.0</td>\n      <td>3</td>\n      <td>0</td>\n      <td>0</td>\n      <td>4.0</td>\n      <td>30.0</td>\n      <td>34.0</td>\n      <td>64.0</td>\n      <td>124.0</td>\n      <td>73.0</td>\n      <td>30.0</td>\n      <td>76.0</td>\n      <td>19.0</td>\n      <td>0.0</td>\n      <td>0.0</td>\n      <td>87.0</td>\n      <td>108.0</td>\n      <td>133.0</td>\n      <td>108.0</td>\n      <td>0.0</td>\n      <td>0.0</td>\n      <td>501.0</td>\n      <td>NaN</td>\n      <td>0</td>\n      <td>491.0</td>\n      <td>63.0</td>\n      <td>130381.851852</td>\n      <td>0.739237</td>\n      <td>NaN</td>\n      <td>0x87100E243B9BFBFD9709EF51515F41713032C5DD5392...</td>\n      <td>201703</td>\n    </tr>\n    <tr>\n      <th>300377</th>\n      <td>2019-06-09</td>\n      <td>14475</td>\n      <td>548</td>\n      <td>0.3067</td>\n      <td>1.2328</td>\n      <td>0.1688</td>\n      <td>2015.64</td>\n      <td>17845.0605</td>\n      <td>799.41</td>\n      <td>2606.5</td>\n      <td>0.1164</td>\n      <td>501</td>\n      <td>0.3067</td>\n      <td>27</td>\n      <td>4000.0</td>\n      <td>17845.06</td>\n      <td>2641.92</td>\n      <td>1.0503</td>\n      <td>1.0</td>\n      <td>24.0</td>\n      <td>NaN</td>\n      <td>52.0</td>\n      <td>22.0</td>\n      <td>494.0</td>\n      <td>50.0</td>\n      <td>70.0</td>\n      <td>4.0</td>\n      <td>62.0</td>\n      <td>182.0</td>\n      <td>265.0</td>\n      <td>3.0</td>\n      <td>62.0</td>\n      <td>5.0</td>\n      <td>6.0</td>\n      <td>53.0</td>\n      <td>NaN</td>\n      <td>0</td>\n      <td>0.9863</td>\n      <td>600.0</td>\n      <td>6.0</td>\n      <td>135.0</td>\n      <td>17.0</td>\n      <td>0</td>\n      <td>17601.55</td>\n      <td>0.2099</td>\n      <td>18.0</td>\n      <td>0.0</td>\n      <td>4.0</td>\n      <td>0.8863</td>\n      <td>1</td>\n      <td>0.0</td>\n      <td>1130.0</td>\n      <td>390.0</td>\n      <td>390.0</td>\n      <td>720.0</td>\n      <td>4</td>\n      <td>0</td>\n      <td>0</td>\n      <td>55.0</td>\n      <td>60.0</td>\n      <td>77.0</td>\n      <td>81.0</td>\n      <td>124.0</td>\n      <td>89.0</td>\n      <td>30.0</td>\n      <td>93.0</td>\n      <td>45.0</td>\n      <td>0.0</td>\n      <td>0.0</td>\n      <td>55.0</td>\n      <td>65.0</td>\n      <td>74.0</td>\n      <td>97.0</td>\n      <td>0.0</td>\n      <td>0.0</td>\n      <td>501.0</td>\n      <td>NaN</td>\n      <td>0</td>\n      <td>491.0</td>\n      <td>63.0</td>\n      <td>130381.851852</td>\n      <td>0.721583</td>\n      <td>NaN</td>\n      <td>0x87100E243B9BFBFD9709EF51515F41713032C5DD5392...</td>\n      <td>201703</td>\n    </tr>\n    <tr>\n      <th>...</th>\n      <td>...</td>\n      <td>...</td>\n      <td>...</td>\n      <td>...</td>\n      <td>...</td>\n      <td>...</td>\n      <td>...</td>\n      <td>...</td>\n      <td>...</td>\n      <td>...</td>\n      <td>...</td>\n      <td>...</td>\n      <td>...</td>\n      <td>...</td>\n      <td>...</td>\n      <td>...</td>\n      <td>...</td>\n      <td>...</td>\n      <td>...</td>\n      <td>...</td>\n      <td>...</td>\n      <td>...</td>\n      <td>...</td>\n      <td>...</td>\n      <td>...</td>\n      <td>...</td>\n      <td>...</td>\n      <td>...</td>\n      <td>...</td>\n      <td>...</td>\n      <td>...</td>\n      <td>...</td>\n      <td>...</td>\n      <td>...</td>\n      <td>...</td>\n      <td>...</td>\n      <td>...</td>\n      <td>...</td>\n      <td>...</td>\n      <td>...</td>\n      <td>...</td>\n      <td>...</td>\n      <td>...</td>\n      <td>...</td>\n      <td>...</td>\n      <td>...</td>\n      <td>...</td>\n      <td>...</td>\n      <td>...</td>\n      <td>...</td>\n      <td>...</td>\n      <td>...</td>\n      <td>...</td>\n      <td>...</td>\n      <td>...</td>\n      <td>...</td>\n      <td>...</td>\n      <td>...</td>\n      <td>...</td>\n      <td>...</td>\n      <td>...</td>\n      <td>...</td>\n      <td>...</td>\n      <td>...</td>\n      <td>...</td>\n      <td>...</td>\n      <td>...</td>\n      <td>...</td>\n      <td>...</td>\n      <td>...</td>\n      <td>...</td>\n      <td>...</td>\n      <td>...</td>\n      <td>...</td>\n      <td>...</td>\n      <td>...</td>\n      <td>...</td>\n      <td>...</td>\n      <td>...</td>\n      <td>...</td>\n      <td>...</td>\n      <td>...</td>\n      <td>...</td>\n      <td>...</td>\n      <td>...</td>\n    </tr>\n    <tr>\n      <th>5215414</th>\n      <td>2019-05-11</td>\n      <td>14475</td>\n      <td>548</td>\n      <td>0.3067</td>\n      <td>1.2328</td>\n      <td>0.1688</td>\n      <td>2015.64</td>\n      <td>17845.0605</td>\n      <td>799.41</td>\n      <td>2606.5</td>\n      <td>0.1164</td>\n      <td>501</td>\n      <td>0.3067</td>\n      <td>26</td>\n      <td>4000.0</td>\n      <td>17845.06</td>\n      <td>2641.92</td>\n      <td>1.0503</td>\n      <td>1.0</td>\n      <td>24.0</td>\n      <td>NaN</td>\n      <td>23.0</td>\n      <td>22.0</td>\n      <td>430.0</td>\n      <td>49.0</td>\n      <td>70.0</td>\n      <td>4.0</td>\n      <td>33.0</td>\n      <td>153.0</td>\n      <td>236.0</td>\n      <td>2.0</td>\n      <td>33.0</td>\n      <td>26.0</td>\n      <td>33.0</td>\n      <td>55.0</td>\n      <td>NaN</td>\n      <td>0</td>\n      <td>0.9863</td>\n      <td>550.0</td>\n      <td>33.0</td>\n      <td>106.0</td>\n      <td>17.0</td>\n      <td>0</td>\n      <td>17601.55</td>\n      <td>0.2099</td>\n      <td>17.0</td>\n      <td>0.0</td>\n      <td>4.0</td>\n      <td>0.0000</td>\n      <td>1</td>\n      <td>0.0</td>\n      <td>1640.0</td>\n      <td>0.0</td>\n      <td>330.0</td>\n      <td>740.0</td>\n      <td>3</td>\n      <td>0</td>\n      <td>0</td>\n      <td>26.0</td>\n      <td>48.0</td>\n      <td>52.0</td>\n      <td>64.0</td>\n      <td>124.0</td>\n      <td>73.0</td>\n      <td>30.0</td>\n      <td>76.0</td>\n      <td>41.0</td>\n      <td>0.0</td>\n      <td>0.0</td>\n      <td>75.0</td>\n      <td>83.0</td>\n      <td>109.0</td>\n      <td>116.0</td>\n      <td>0.0</td>\n      <td>0.0</td>\n      <td>501.0</td>\n      <td>NaN</td>\n      <td>0</td>\n      <td>491.0</td>\n      <td>63.0</td>\n      <td>130381.851852</td>\n      <td>0.730356</td>\n      <td>NaN</td>\n      <td>0x87100E243B9BFBFD9709EF51515F41713032C5DD5392...</td>\n      <td>201703</td>\n    </tr>\n    <tr>\n      <th>5408989</th>\n      <td>2019-04-13</td>\n      <td>14475</td>\n      <td>548</td>\n      <td>0.3067</td>\n      <td>1.2328</td>\n      <td>0.1688</td>\n      <td>2015.64</td>\n      <td>17845.0605</td>\n      <td>799.41</td>\n      <td>2606.5</td>\n      <td>0.1164</td>\n      <td>501</td>\n      <td>0.3067</td>\n      <td>25</td>\n      <td>4000.0</td>\n      <td>17845.06</td>\n      <td>2641.92</td>\n      <td>1.0503</td>\n      <td>3.0</td>\n      <td>24.0</td>\n      <td>NaN</td>\n      <td>-5.0</td>\n      <td>22.0</td>\n      <td>369.0</td>\n      <td>48.0</td>\n      <td>70.0</td>\n      <td>4.0</td>\n      <td>5.0</td>\n      <td>125.0</td>\n      <td>208.0</td>\n      <td>5.0</td>\n      <td>5.0</td>\n      <td>79.0</td>\n      <td>5.0</td>\n      <td>27.0</td>\n      <td>NaN</td>\n      <td>1</td>\n      <td>0.9863</td>\n      <td>110.0</td>\n      <td>5.0</td>\n      <td>78.0</td>\n      <td>17.0</td>\n      <td>0</td>\n      <td>17601.55</td>\n      <td>0.2099</td>\n      <td>17.0</td>\n      <td>0.0</td>\n      <td>4.0</td>\n      <td>0.7500</td>\n      <td>1</td>\n      <td>0.0</td>\n      <td>1640.0</td>\n      <td>330.0</td>\n      <td>740.0</td>\n      <td>1640.0</td>\n      <td>3</td>\n      <td>0</td>\n      <td>0</td>\n      <td>0.0</td>\n      <td>24.0</td>\n      <td>34.0</td>\n      <td>64.0</td>\n      <td>124.0</td>\n      <td>73.0</td>\n      <td>24.0</td>\n      <td>78.0</td>\n      <td>13.0</td>\n      <td>0.0</td>\n      <td>0.0</td>\n      <td>90.0</td>\n      <td>121.0</td>\n      <td>130.0</td>\n      <td>106.0</td>\n      <td>0.0</td>\n      <td>0.0</td>\n      <td>501.0</td>\n      <td>NaN</td>\n      <td>0</td>\n      <td>491.0</td>\n      <td>63.0</td>\n      <td>130381.851852</td>\n      <td>0.739237</td>\n      <td>NaN</td>\n      <td>0x87100E243B9BFBFD9709EF51515F41713032C5DD5392...</td>\n      <td>201703</td>\n    </tr>\n    <tr>\n      <th>5515346</th>\n      <td>2019-04-04</td>\n      <td>14475</td>\n      <td>548</td>\n      <td>0.3067</td>\n      <td>1.2328</td>\n      <td>0.1688</td>\n      <td>2015.64</td>\n      <td>17845.0605</td>\n      <td>799.41</td>\n      <td>2606.5</td>\n      <td>0.1164</td>\n      <td>501</td>\n      <td>0.3067</td>\n      <td>25</td>\n      <td>4000.0</td>\n      <td>17845.06</td>\n      <td>2641.92</td>\n      <td>1.0503</td>\n      <td>2.0</td>\n      <td>24.0</td>\n      <td>NaN</td>\n      <td>46.0</td>\n      <td>21.0</td>\n      <td>360.0</td>\n      <td>48.0</td>\n      <td>440.0</td>\n      <td>3.0</td>\n      <td>70.0</td>\n      <td>116.0</td>\n      <td>199.0</td>\n      <td>1.0</td>\n      <td>70.0</td>\n      <td>70.0</td>\n      <td>35.0</td>\n      <td>18.0</td>\n      <td>NaN</td>\n      <td>0</td>\n      <td>0.9863</td>\n      <td>440.0</td>\n      <td>35.0</td>\n      <td>69.0</td>\n      <td>17.0</td>\n      <td>0</td>\n      <td>17601.55</td>\n      <td>0.2099</td>\n      <td>17.0</td>\n      <td>0.0</td>\n      <td>4.0</td>\n      <td>0.0000</td>\n      <td>1</td>\n      <td>0.0</td>\n      <td>1310.0</td>\n      <td>0.0</td>\n      <td>410.0</td>\n      <td>1310.0</td>\n      <td>2</td>\n      <td>0</td>\n      <td>0</td>\n      <td>0.0</td>\n      <td>15.0</td>\n      <td>34.0</td>\n      <td>64.0</td>\n      <td>124.0</td>\n      <td>73.0</td>\n      <td>15.0</td>\n      <td>87.0</td>\n      <td>4.0</td>\n      <td>0.0</td>\n      <td>0.0</td>\n      <td>93.0</td>\n      <td>140.0</td>\n      <td>125.0</td>\n      <td>102.0</td>\n      <td>0.0</td>\n      <td>0.0</td>\n      <td>501.0</td>\n      <td>NaN</td>\n      <td>0</td>\n      <td>491.0</td>\n      <td>63.0</td>\n      <td>130381.851852</td>\n      <td>0.739237</td>\n      <td>NaN</td>\n      <td>0x87100E243B9BFBFD9709EF51515F41713032C5DD5392...</td>\n      <td>201703</td>\n    </tr>\n    <tr>\n      <th>5530503</th>\n      <td>2019-04-16</td>\n      <td>14475</td>\n      <td>548</td>\n      <td>0.3067</td>\n      <td>1.2328</td>\n      <td>0.1688</td>\n      <td>2015.64</td>\n      <td>17845.0605</td>\n      <td>799.41</td>\n      <td>2606.5</td>\n      <td>0.1164</td>\n      <td>501</td>\n      <td>0.3067</td>\n      <td>25</td>\n      <td>4000.0</td>\n      <td>17845.06</td>\n      <td>2641.92</td>\n      <td>1.0503</td>\n      <td>3.0</td>\n      <td>24.0</td>\n      <td>NaN</td>\n      <td>-2.0</td>\n      <td>22.0</td>\n      <td>374.0</td>\n      <td>49.0</td>\n      <td>70.0</td>\n      <td>4.0</td>\n      <td>8.0</td>\n      <td>128.0</td>\n      <td>211.0</td>\n      <td>1.0</td>\n      <td>8.0</td>\n      <td>1.0</td>\n      <td>8.0</td>\n      <td>30.0</td>\n      <td>NaN</td>\n      <td>1</td>\n      <td>0.9863</td>\n      <td>110.0</td>\n      <td>8.0</td>\n      <td>81.0</td>\n      <td>17.0</td>\n      <td>0</td>\n      <td>17601.55</td>\n      <td>0.2099</td>\n      <td>17.0</td>\n      <td>0.0</td>\n      <td>4.0</td>\n      <td>0.7500</td>\n      <td>1</td>\n      <td>0.0</td>\n      <td>1640.0</td>\n      <td>330.0</td>\n      <td>740.0</td>\n      <td>1640.0</td>\n      <td>3</td>\n      <td>0</td>\n      <td>0</td>\n      <td>1.0</td>\n      <td>27.0</td>\n      <td>34.0</td>\n      <td>64.0</td>\n      <td>124.0</td>\n      <td>73.0</td>\n      <td>27.0</td>\n      <td>76.0</td>\n      <td>16.0</td>\n      <td>0.0</td>\n      <td>0.0</td>\n      <td>88.0</td>\n      <td>115.0</td>\n      <td>131.0</td>\n      <td>107.0</td>\n      <td>0.0</td>\n      <td>0.0</td>\n      <td>501.0</td>\n      <td>NaN</td>\n      <td>0</td>\n      <td>491.0</td>\n      <td>63.0</td>\n      <td>130381.851852</td>\n      <td>0.739237</td>\n      <td>NaN</td>\n      <td>0x87100E243B9BFBFD9709EF51515F41713032C5DD5392...</td>\n      <td>201703</td>\n    </tr>\n    <tr>\n      <th>5536551</th>\n      <td>2019-04-28</td>\n      <td>14475</td>\n      <td>548</td>\n      <td>0.3067</td>\n      <td>1.2328</td>\n      <td>0.1688</td>\n      <td>2015.64</td>\n      <td>17845.0605</td>\n      <td>799.41</td>\n      <td>2606.5</td>\n      <td>0.1164</td>\n      <td>501</td>\n      <td>0.3067</td>\n      <td>25</td>\n      <td>4000.0</td>\n      <td>17845.06</td>\n      <td>2641.92</td>\n      <td>1.0503</td>\n      <td>1.0</td>\n      <td>24.0</td>\n      <td>NaN</td>\n      <td>10.0</td>\n      <td>22.0</td>\n      <td>395.0</td>\n      <td>49.0</td>\n      <td>70.0</td>\n      <td>4.0</td>\n      <td>20.0</td>\n      <td>140.0</td>\n      <td>223.0</td>\n      <td>2.0</td>\n      <td>20.0</td>\n      <td>13.0</td>\n      <td>20.0</td>\n      <td>42.0</td>\n      <td>NaN</td>\n      <td>0</td>\n      <td>0.9863</td>\n      <td>550.0</td>\n      <td>20.0</td>\n      <td>93.0</td>\n      <td>17.0</td>\n      <td>0</td>\n      <td>17601.55</td>\n      <td>0.2099</td>\n      <td>17.0</td>\n      <td>0.0</td>\n      <td>4.0</td>\n      <td>0.7500</td>\n      <td>1</td>\n      <td>0.0</td>\n      <td>1640.0</td>\n      <td>330.0</td>\n      <td>740.0</td>\n      <td>740.0</td>\n      <td>3</td>\n      <td>0</td>\n      <td>0</td>\n      <td>13.0</td>\n      <td>36.0</td>\n      <td>39.0</td>\n      <td>64.0</td>\n      <td>124.0</td>\n      <td>73.0</td>\n      <td>30.0</td>\n      <td>76.0</td>\n      <td>28.0</td>\n      <td>0.0</td>\n      <td>0.0</td>\n      <td>81.0</td>\n      <td>89.0</td>\n      <td>127.0</td>\n      <td>111.0</td>\n      <td>0.0</td>\n      <td>0.0</td>\n      <td>501.0</td>\n      <td>NaN</td>\n      <td>0</td>\n      <td>491.0</td>\n      <td>63.0</td>\n      <td>130381.851852</td>\n      <td>0.739237</td>\n      <td>NaN</td>\n      <td>0x87100E243B9BFBFD9709EF51515F41713032C5DD5392...</td>\n      <td>201703</td>\n    </tr>\n  </tbody>\n</table>\n<p>91 rows × 85 columns</p>\n</div>"
     },
     "execution_count": 92,
     "metadata": {},
     "output_type": "execute_result"
    }
   ],
   "source": [
    "UTD_Data[UTD_Data['masked_account']== \"0x87100E243B9BFBFD9709EF51515F41713032C5DD5392769BE5713CAC4BF7CE40\"]"
   ],
   "metadata": {
    "collapsed": false,
    "pycharm": {
     "name": "#%%\n"
    }
   }
  },
  {
   "cell_type": "code",
   "execution_count": 93,
   "id": "9fb39369",
   "metadata": {},
   "outputs": [
    {
     "data": {
      "text/plain": "PullDate                    0\nVeh_Value                   0\nApplicantFICOScore          0\nDTI                         0\nLTV                         0\n                       ...   \nLTVEffective           311912\nDepreciationRate          455\nINQ12_5               4731727\nmasked_account              0\nbooked_yr_mo                0\nLength: 85, dtype: int64"
     },
     "execution_count": 93,
     "metadata": {},
     "output_type": "execute_result"
    }
   ],
   "source": [
    "UTD_Data.isna().sum()"
   ]
  },
  {
   "cell_type": "code",
   "execution_count": 94,
   "id": "115fce0a",
   "metadata": {},
   "outputs": [
    {
     "data": {
      "text/plain": "62938"
     },
     "execution_count": 94,
     "metadata": {},
     "output_type": "execute_result"
    }
   ],
   "source": [
    "UTD_Data['masked_account'].nunique()"
   ]
  },
  {
   "cell_type": "code",
   "execution_count": 95,
   "id": "d708299f",
   "metadata": {},
   "outputs": [],
   "source": [
    "UTD_Data = UTD_Data.astype({\"PullDate\": 'datetime64[ns]'})\n",
    "UTD_Data = UTD_Data.astype({\"F0385_LAST_NSF_DATE\": 'datetime64[ns]'})"
   ]
  },
  {
   "cell_type": "code",
   "execution_count": 96,
   "id": "e39f2ba0",
   "metadata": {},
   "outputs": [],
   "source": [
    "UTD_Data = UTD_Data.astype({\"booked_yr_mo\": str})"
   ]
  },
  {
   "cell_type": "code",
   "execution_count": 97,
   "id": "7382664f",
   "metadata": {},
   "outputs": [],
   "source": [
    "UTD_Data['booked_yr_mo']=UTD_Data['booked_yr_mo'].str[:4] + '-' + UTD_Data['booked_yr_mo'].str[4:] + '-01'"
   ]
  },
  {
   "cell_type": "code",
   "execution_count": 98,
   "id": "2133213d",
   "metadata": {},
   "outputs": [],
   "source": [
    "UTD_Data = UTD_Data.astype({\"booked_yr_mo\": 'datetime64[ns]'})\n",
    "UTD_Data.rename(columns={'masked_account': 'Masked_Account'}, inplace=True)"
   ]
  },
  {
   "cell_type": "code",
   "execution_count": 99,
   "id": "ce0d5975",
   "metadata": {
    "scrolled": true
   },
   "outputs": [],
   "source": [
    "dill.dump(UTD_Data, open('./Data/UTD_Data.pkl', 'wb'))"
   ]
  },
  {
   "cell_type": "code",
   "execution_count": 87,
   "id": "662f902d",
   "metadata": {},
   "outputs": [
    {
     "ename": "AttributeError",
     "evalue": "Can't get attribute '_unpickle_block' on <module 'pandas._libs.internals' from 'C:\\\\jupyterL\\\\lib\\\\site-packages\\\\pandas\\\\_libs\\\\internals.cp38-win_amd64.pyd'>",
     "output_type": "error",
     "traceback": [
      "\u001B[1;31m---------------------------------------------------------------------------\u001B[0m",
      "\u001B[1;31mAttributeError\u001B[0m                            Traceback (most recent call last)",
      "\u001B[1;32mC:\\Users\\AXB190~1\\AppData\\Local\\Temp/ipykernel_22408/2229050557.py\u001B[0m in \u001B[0;36m<module>\u001B[1;34m\u001B[0m\n\u001B[1;32m----> 1\u001B[1;33m \u001B[0mUTD_Data\u001B[0m \u001B[1;33m=\u001B[0m \u001B[0mdill\u001B[0m\u001B[1;33m.\u001B[0m\u001B[0mload\u001B[0m\u001B[1;33m(\u001B[0m\u001B[0mopen\u001B[0m\u001B[1;33m(\u001B[0m\u001B[1;34m'./Data/UTD_Data.pkl'\u001B[0m\u001B[1;33m,\u001B[0m \u001B[1;34m'rb'\u001B[0m\u001B[1;33m)\u001B[0m\u001B[1;33m)\u001B[0m\u001B[1;33m\u001B[0m\u001B[1;33m\u001B[0m\u001B[0m\n\u001B[0m",
      "\u001B[1;32mC:\\jupyterL\\lib\\site-packages\\dill\\_dill.py\u001B[0m in \u001B[0;36mload\u001B[1;34m(file, ignore, **kwds)\u001B[0m\n\u001B[0;32m    311\u001B[0m     \u001B[0mSee\u001B[0m \u001B[1;33m:\u001B[0m\u001B[0mfunc\u001B[0m\u001B[1;33m:\u001B[0m\u001B[0;31m`\u001B[0m\u001B[0mloads\u001B[0m\u001B[0;31m`\u001B[0m \u001B[1;32mfor\u001B[0m \u001B[0mkeyword\u001B[0m \u001B[0marguments\u001B[0m\u001B[1;33m.\u001B[0m\u001B[1;33m\u001B[0m\u001B[1;33m\u001B[0m\u001B[0m\n\u001B[0;32m    312\u001B[0m     \"\"\"\n\u001B[1;32m--> 313\u001B[1;33m     \u001B[1;32mreturn\u001B[0m \u001B[0mUnpickler\u001B[0m\u001B[1;33m(\u001B[0m\u001B[0mfile\u001B[0m\u001B[1;33m,\u001B[0m \u001B[0mignore\u001B[0m\u001B[1;33m=\u001B[0m\u001B[0mignore\u001B[0m\u001B[1;33m,\u001B[0m \u001B[1;33m**\u001B[0m\u001B[0mkwds\u001B[0m\u001B[1;33m)\u001B[0m\u001B[1;33m.\u001B[0m\u001B[0mload\u001B[0m\u001B[1;33m(\u001B[0m\u001B[1;33m)\u001B[0m\u001B[1;33m\u001B[0m\u001B[1;33m\u001B[0m\u001B[0m\n\u001B[0m\u001B[0;32m    314\u001B[0m \u001B[1;33m\u001B[0m\u001B[0m\n\u001B[0;32m    315\u001B[0m \u001B[1;32mdef\u001B[0m \u001B[0mloads\u001B[0m\u001B[1;33m(\u001B[0m\u001B[0mstr\u001B[0m\u001B[1;33m,\u001B[0m \u001B[0mignore\u001B[0m\u001B[1;33m=\u001B[0m\u001B[1;32mNone\u001B[0m\u001B[1;33m,\u001B[0m \u001B[1;33m**\u001B[0m\u001B[0mkwds\u001B[0m\u001B[1;33m)\u001B[0m\u001B[1;33m:\u001B[0m\u001B[1;33m\u001B[0m\u001B[1;33m\u001B[0m\u001B[0m\n",
      "\u001B[1;32mC:\\jupyterL\\lib\\site-packages\\dill\\_dill.py\u001B[0m in \u001B[0;36mload\u001B[1;34m(self)\u001B[0m\n\u001B[0;32m    523\u001B[0m \u001B[1;33m\u001B[0m\u001B[0m\n\u001B[0;32m    524\u001B[0m     \u001B[1;32mdef\u001B[0m \u001B[0mload\u001B[0m\u001B[1;33m(\u001B[0m\u001B[0mself\u001B[0m\u001B[1;33m)\u001B[0m\u001B[1;33m:\u001B[0m \u001B[1;31m#NOTE: if settings change, need to update attributes\u001B[0m\u001B[1;33m\u001B[0m\u001B[1;33m\u001B[0m\u001B[0m\n\u001B[1;32m--> 525\u001B[1;33m         \u001B[0mobj\u001B[0m \u001B[1;33m=\u001B[0m \u001B[0mStockUnpickler\u001B[0m\u001B[1;33m.\u001B[0m\u001B[0mload\u001B[0m\u001B[1;33m(\u001B[0m\u001B[0mself\u001B[0m\u001B[1;33m)\u001B[0m\u001B[1;33m\u001B[0m\u001B[1;33m\u001B[0m\u001B[0m\n\u001B[0m\u001B[0;32m    526\u001B[0m         \u001B[1;32mif\u001B[0m \u001B[0mtype\u001B[0m\u001B[1;33m(\u001B[0m\u001B[0mobj\u001B[0m\u001B[1;33m)\u001B[0m\u001B[1;33m.\u001B[0m\u001B[0m__module__\u001B[0m \u001B[1;33m==\u001B[0m \u001B[0mgetattr\u001B[0m\u001B[1;33m(\u001B[0m\u001B[0m_main_module\u001B[0m\u001B[1;33m,\u001B[0m \u001B[1;34m'__name__'\u001B[0m\u001B[1;33m,\u001B[0m \u001B[1;34m'__main__'\u001B[0m\u001B[1;33m)\u001B[0m\u001B[1;33m:\u001B[0m\u001B[1;33m\u001B[0m\u001B[1;33m\u001B[0m\u001B[0m\n\u001B[0;32m    527\u001B[0m             \u001B[1;32mif\u001B[0m \u001B[1;32mnot\u001B[0m \u001B[0mself\u001B[0m\u001B[1;33m.\u001B[0m\u001B[0m_ignore\u001B[0m\u001B[1;33m:\u001B[0m\u001B[1;33m\u001B[0m\u001B[1;33m\u001B[0m\u001B[0m\n",
      "\u001B[1;32mC:\\jupyterL\\lib\\site-packages\\dill\\_dill.py\u001B[0m in \u001B[0;36mfind_class\u001B[1;34m(self, module, name)\u001B[0m\n\u001B[0;32m    513\u001B[0m             \u001B[1;32mreturn\u001B[0m \u001B[0mtype\u001B[0m\u001B[1;33m(\u001B[0m\u001B[1;32mNone\u001B[0m\u001B[1;33m)\u001B[0m \u001B[1;31m#XXX: special case: NoneType missing\u001B[0m\u001B[1;33m\u001B[0m\u001B[1;33m\u001B[0m\u001B[0m\n\u001B[0;32m    514\u001B[0m         \u001B[1;32mif\u001B[0m \u001B[0mmodule\u001B[0m \u001B[1;33m==\u001B[0m \u001B[1;34m'dill.dill'\u001B[0m\u001B[1;33m:\u001B[0m \u001B[0mmodule\u001B[0m \u001B[1;33m=\u001B[0m \u001B[1;34m'dill._dill'\u001B[0m\u001B[1;33m\u001B[0m\u001B[1;33m\u001B[0m\u001B[0m\n\u001B[1;32m--> 515\u001B[1;33m         \u001B[1;32mreturn\u001B[0m \u001B[0mStockUnpickler\u001B[0m\u001B[1;33m.\u001B[0m\u001B[0mfind_class\u001B[0m\u001B[1;33m(\u001B[0m\u001B[0mself\u001B[0m\u001B[1;33m,\u001B[0m \u001B[0mmodule\u001B[0m\u001B[1;33m,\u001B[0m \u001B[0mname\u001B[0m\u001B[1;33m)\u001B[0m\u001B[1;33m\u001B[0m\u001B[1;33m\u001B[0m\u001B[0m\n\u001B[0m\u001B[0;32m    516\u001B[0m \u001B[1;33m\u001B[0m\u001B[0m\n\u001B[0;32m    517\u001B[0m     \u001B[1;32mdef\u001B[0m \u001B[0m__init__\u001B[0m\u001B[1;33m(\u001B[0m\u001B[0mself\u001B[0m\u001B[1;33m,\u001B[0m \u001B[1;33m*\u001B[0m\u001B[0margs\u001B[0m\u001B[1;33m,\u001B[0m \u001B[1;33m**\u001B[0m\u001B[0mkwds\u001B[0m\u001B[1;33m)\u001B[0m\u001B[1;33m:\u001B[0m\u001B[1;33m\u001B[0m\u001B[1;33m\u001B[0m\u001B[0m\n",
      "\u001B[1;31mAttributeError\u001B[0m: Can't get attribute '_unpickle_block' on <module 'pandas._libs.internals' from 'C:\\\\jupyterL\\\\lib\\\\site-packages\\\\pandas\\\\_libs\\\\internals.cp38-win_amd64.pyd'>"
     ]
    }
   ],
   "source": [
    "UTD_Data = dill.load(open('./Data/UTD_Data.pkl', 'rb'))"
   ]
  },
  {
   "cell_type": "markdown",
   "id": "1b134a43",
   "metadata": {},
   "source": [
    "### UTD_DPD"
   ]
  },
  {
   "cell_type": "code",
   "execution_count": 3,
   "id": "9559136f",
   "metadata": {},
   "outputs": [],
   "source": [
    "names2 = pd.read_excel('./Data/Data dictionary for UTD dataset.xlsx', sheet_name='UTD_DPD', header=None)\n",
    "name2 = names2.iloc[:,0].tolist()"
   ]
  },
  {
   "cell_type": "code",
   "execution_count": 4,
   "id": "b0cdb72e",
   "metadata": {},
   "outputs": [
    {
     "name": "stdout",
     "output_type": "stream",
     "text": [
      "<class 'pandas.core.frame.DataFrame'>\n",
      "RangeIndex: 5345906 entries, 0 to 5345905\n",
      "Data columns (total 4 columns):\n",
      " #   Column             Dtype  \n",
      "---  ------             -----  \n",
      " 0   Masked_Account     object \n",
      " 1   Business_Date      object \n",
      " 2   DPD                int64  \n",
      " 3   Principal Balance  float64\n",
      "dtypes: float64(1), int64(1), object(2)\n",
      "memory usage: 163.1+ MB\n"
     ]
    }
   ],
   "source": [
    "UTD_DPD = pd.read_csv('./Data/UTD_DPD.csv',names=name2)\n",
    "UTD_DPD.info()"
   ]
  },
  {
   "cell_type": "code",
   "execution_count": 5,
   "id": "dfe4430a",
   "metadata": {},
   "outputs": [],
   "source": [
    "UTD_DPD = UTD_DPD.astype({\"Business_Date\": 'datetime64[ns]'})"
   ]
  },
  {
   "cell_type": "code",
   "execution_count": 6,
   "id": "f757211b",
   "metadata": {
    "scrolled": true
   },
   "outputs": [
    {
     "data": {
      "text/plain": "                                       Masked_Account Business_Date  DPD  \\\n0   0x0000892A3160BBCC4BDFC8F29945E683ADC3AC16CE13...    2019-04-01    7   \n1   0x0000892A3160BBCC4BDFC8F29945E683ADC3AC16CE13...    2019-04-02    8   \n2   0x0000892A3160BBCC4BDFC8F29945E683ADC3AC16CE13...    2019-04-03    9   \n3   0x0000892A3160BBCC4BDFC8F29945E683ADC3AC16CE13...    2019-04-04   10   \n4   0x0000892A3160BBCC4BDFC8F29945E683ADC3AC16CE13...    2019-04-05   11   \n5   0x0000892A3160BBCC4BDFC8F29945E683ADC3AC16CE13...    2019-04-06   12   \n6   0x0000892A3160BBCC4BDFC8F29945E683ADC3AC16CE13...    2019-04-07   13   \n7   0x0000892A3160BBCC4BDFC8F29945E683ADC3AC16CE13...    2019-04-08   14   \n8   0x0000892A3160BBCC4BDFC8F29945E683ADC3AC16CE13...    2019-04-09   15   \n9   0x0000892A3160BBCC4BDFC8F29945E683ADC3AC16CE13...    2019-04-10   16   \n10  0x0000892A3160BBCC4BDFC8F29945E683ADC3AC16CE13...    2019-04-11   17   \n11  0x0000892A3160BBCC4BDFC8F29945E683ADC3AC16CE13...    2019-04-12  -13   \n12  0x0000892A3160BBCC4BDFC8F29945E683ADC3AC16CE13...    2019-04-13  -12   \n13  0x0000892A3160BBCC4BDFC8F29945E683ADC3AC16CE13...    2019-04-14  -11   \n14  0x0000892A3160BBCC4BDFC8F29945E683ADC3AC16CE13...    2019-04-15  -10   \n15  0x0000892A3160BBCC4BDFC8F29945E683ADC3AC16CE13...    2019-04-16   -9   \n16  0x0000892A3160BBCC4BDFC8F29945E683ADC3AC16CE13...    2019-04-17   -8   \n17  0x0000892A3160BBCC4BDFC8F29945E683ADC3AC16CE13...    2019-04-18   -7   \n18  0x0000892A3160BBCC4BDFC8F29945E683ADC3AC16CE13...    2019-04-19   -6   \n19  0x0000892A3160BBCC4BDFC8F29945E683ADC3AC16CE13...    2019-04-20   -5   \n20  0x0000892A3160BBCC4BDFC8F29945E683ADC3AC16CE13...    2019-04-21   -4   \n21  0x0000892A3160BBCC4BDFC8F29945E683ADC3AC16CE13...    2019-04-22   -3   \n22  0x0000892A3160BBCC4BDFC8F29945E683ADC3AC16CE13...    2019-04-23   -2   \n23  0x0000892A3160BBCC4BDFC8F29945E683ADC3AC16CE13...    2019-04-24   -1   \n24  0x0000892A3160BBCC4BDFC8F29945E683ADC3AC16CE13...    2019-04-25    0   \n25  0x0000892A3160BBCC4BDFC8F29945E683ADC3AC16CE13...    2019-04-26    1   \n26  0x0000892A3160BBCC4BDFC8F29945E683ADC3AC16CE13...    2019-04-27    2   \n27  0x0000892A3160BBCC4BDFC8F29945E683ADC3AC16CE13...    2019-04-28    3   \n28  0x0000892A3160BBCC4BDFC8F29945E683ADC3AC16CE13...    2019-04-29    4   \n29  0x0000892A3160BBCC4BDFC8F29945E683ADC3AC16CE13...    2019-04-30    5   \n30  0x0000892A3160BBCC4BDFC8F29945E683ADC3AC16CE13...    2019-05-01    6   \n31  0x0000892A3160BBCC4BDFC8F29945E683ADC3AC16CE13...    2019-05-02    7   \n32  0x0000892A3160BBCC4BDFC8F29945E683ADC3AC16CE13...    2019-05-03    8   \n33  0x0000892A3160BBCC4BDFC8F29945E683ADC3AC16CE13...    2019-05-04    9   \n34  0x0000892A3160BBCC4BDFC8F29945E683ADC3AC16CE13...    2019-05-05   10   \n35  0x0000892A3160BBCC4BDFC8F29945E683ADC3AC16CE13...    2019-05-06   11   \n36  0x0000892A3160BBCC4BDFC8F29945E683ADC3AC16CE13...    2019-05-07   12   \n37  0x0000892A3160BBCC4BDFC8F29945E683ADC3AC16CE13...    2019-05-08   13   \n38  0x0000892A3160BBCC4BDFC8F29945E683ADC3AC16CE13...    2019-05-09   14   \n39  0x0000892A3160BBCC4BDFC8F29945E683ADC3AC16CE13...    2019-05-10  -15   \n40  0x0000892A3160BBCC4BDFC8F29945E683ADC3AC16CE13...    2019-05-11  -14   \n41  0x0000892A3160BBCC4BDFC8F29945E683ADC3AC16CE13...    2019-05-12  -13   \n42  0x0000892A3160BBCC4BDFC8F29945E683ADC3AC16CE13...    2019-05-13  -12   \n43  0x0000892A3160BBCC4BDFC8F29945E683ADC3AC16CE13...    2019-05-14  -11   \n44  0x0000892A3160BBCC4BDFC8F29945E683ADC3AC16CE13...    2019-05-15  -10   \n45  0x0000892A3160BBCC4BDFC8F29945E683ADC3AC16CE13...    2019-05-16   -9   \n46  0x0000892A3160BBCC4BDFC8F29945E683ADC3AC16CE13...    2019-05-17   -8   \n47  0x0000892A3160BBCC4BDFC8F29945E683ADC3AC16CE13...    2019-05-18   -7   \n48  0x0000892A3160BBCC4BDFC8F29945E683ADC3AC16CE13...    2019-05-19   -6   \n49  0x0000892A3160BBCC4BDFC8F29945E683ADC3AC16CE13...    2019-05-20   -5   \n\n    Principal Balance  \n0             16643.9  \n1             16643.9  \n2             16643.9  \n3             16643.9  \n4             16643.9  \n5             16643.9  \n6             16643.9  \n7             16643.9  \n8             16643.9  \n9             16643.9  \n10            16643.9  \n11            16643.9  \n12            16643.9  \n13            16643.9  \n14            16643.9  \n15            16643.9  \n16            16643.9  \n17            16643.9  \n18            16643.9  \n19            16643.9  \n20            16643.9  \n21            16643.9  \n22            16643.9  \n23            16643.9  \n24            16643.9  \n25            16643.9  \n26            16643.9  \n27            16643.9  \n28            16643.9  \n29            16643.9  \n30            16643.9  \n31            16643.9  \n32            16643.9  \n33            16643.9  \n34            16643.9  \n35            16643.9  \n36            16643.9  \n37            16643.9  \n38            16643.9  \n39            16643.9  \n40            16643.9  \n41            16643.9  \n42            16643.9  \n43            16643.9  \n44            16643.9  \n45            16643.9  \n46            16643.9  \n47            16643.9  \n48            16643.9  \n49            16643.9  ",
      "text/html": "<div>\n<style scoped>\n    .dataframe tbody tr th:only-of-type {\n        vertical-align: middle;\n    }\n\n    .dataframe tbody tr th {\n        vertical-align: top;\n    }\n\n    .dataframe thead th {\n        text-align: right;\n    }\n</style>\n<table border=\"1\" class=\"dataframe\">\n  <thead>\n    <tr style=\"text-align: right;\">\n      <th></th>\n      <th>Masked_Account</th>\n      <th>Business_Date</th>\n      <th>DPD</th>\n      <th>Principal Balance</th>\n    </tr>\n  </thead>\n  <tbody>\n    <tr>\n      <th>0</th>\n      <td>0x0000892A3160BBCC4BDFC8F29945E683ADC3AC16CE13...</td>\n      <td>2019-04-01</td>\n      <td>7</td>\n      <td>16643.9</td>\n    </tr>\n    <tr>\n      <th>1</th>\n      <td>0x0000892A3160BBCC4BDFC8F29945E683ADC3AC16CE13...</td>\n      <td>2019-04-02</td>\n      <td>8</td>\n      <td>16643.9</td>\n    </tr>\n    <tr>\n      <th>2</th>\n      <td>0x0000892A3160BBCC4BDFC8F29945E683ADC3AC16CE13...</td>\n      <td>2019-04-03</td>\n      <td>9</td>\n      <td>16643.9</td>\n    </tr>\n    <tr>\n      <th>3</th>\n      <td>0x0000892A3160BBCC4BDFC8F29945E683ADC3AC16CE13...</td>\n      <td>2019-04-04</td>\n      <td>10</td>\n      <td>16643.9</td>\n    </tr>\n    <tr>\n      <th>4</th>\n      <td>0x0000892A3160BBCC4BDFC8F29945E683ADC3AC16CE13...</td>\n      <td>2019-04-05</td>\n      <td>11</td>\n      <td>16643.9</td>\n    </tr>\n    <tr>\n      <th>5</th>\n      <td>0x0000892A3160BBCC4BDFC8F29945E683ADC3AC16CE13...</td>\n      <td>2019-04-06</td>\n      <td>12</td>\n      <td>16643.9</td>\n    </tr>\n    <tr>\n      <th>6</th>\n      <td>0x0000892A3160BBCC4BDFC8F29945E683ADC3AC16CE13...</td>\n      <td>2019-04-07</td>\n      <td>13</td>\n      <td>16643.9</td>\n    </tr>\n    <tr>\n      <th>7</th>\n      <td>0x0000892A3160BBCC4BDFC8F29945E683ADC3AC16CE13...</td>\n      <td>2019-04-08</td>\n      <td>14</td>\n      <td>16643.9</td>\n    </tr>\n    <tr>\n      <th>8</th>\n      <td>0x0000892A3160BBCC4BDFC8F29945E683ADC3AC16CE13...</td>\n      <td>2019-04-09</td>\n      <td>15</td>\n      <td>16643.9</td>\n    </tr>\n    <tr>\n      <th>9</th>\n      <td>0x0000892A3160BBCC4BDFC8F29945E683ADC3AC16CE13...</td>\n      <td>2019-04-10</td>\n      <td>16</td>\n      <td>16643.9</td>\n    </tr>\n    <tr>\n      <th>10</th>\n      <td>0x0000892A3160BBCC4BDFC8F29945E683ADC3AC16CE13...</td>\n      <td>2019-04-11</td>\n      <td>17</td>\n      <td>16643.9</td>\n    </tr>\n    <tr>\n      <th>11</th>\n      <td>0x0000892A3160BBCC4BDFC8F29945E683ADC3AC16CE13...</td>\n      <td>2019-04-12</td>\n      <td>-13</td>\n      <td>16643.9</td>\n    </tr>\n    <tr>\n      <th>12</th>\n      <td>0x0000892A3160BBCC4BDFC8F29945E683ADC3AC16CE13...</td>\n      <td>2019-04-13</td>\n      <td>-12</td>\n      <td>16643.9</td>\n    </tr>\n    <tr>\n      <th>13</th>\n      <td>0x0000892A3160BBCC4BDFC8F29945E683ADC3AC16CE13...</td>\n      <td>2019-04-14</td>\n      <td>-11</td>\n      <td>16643.9</td>\n    </tr>\n    <tr>\n      <th>14</th>\n      <td>0x0000892A3160BBCC4BDFC8F29945E683ADC3AC16CE13...</td>\n      <td>2019-04-15</td>\n      <td>-10</td>\n      <td>16643.9</td>\n    </tr>\n    <tr>\n      <th>15</th>\n      <td>0x0000892A3160BBCC4BDFC8F29945E683ADC3AC16CE13...</td>\n      <td>2019-04-16</td>\n      <td>-9</td>\n      <td>16643.9</td>\n    </tr>\n    <tr>\n      <th>16</th>\n      <td>0x0000892A3160BBCC4BDFC8F29945E683ADC3AC16CE13...</td>\n      <td>2019-04-17</td>\n      <td>-8</td>\n      <td>16643.9</td>\n    </tr>\n    <tr>\n      <th>17</th>\n      <td>0x0000892A3160BBCC4BDFC8F29945E683ADC3AC16CE13...</td>\n      <td>2019-04-18</td>\n      <td>-7</td>\n      <td>16643.9</td>\n    </tr>\n    <tr>\n      <th>18</th>\n      <td>0x0000892A3160BBCC4BDFC8F29945E683ADC3AC16CE13...</td>\n      <td>2019-04-19</td>\n      <td>-6</td>\n      <td>16643.9</td>\n    </tr>\n    <tr>\n      <th>19</th>\n      <td>0x0000892A3160BBCC4BDFC8F29945E683ADC3AC16CE13...</td>\n      <td>2019-04-20</td>\n      <td>-5</td>\n      <td>16643.9</td>\n    </tr>\n    <tr>\n      <th>20</th>\n      <td>0x0000892A3160BBCC4BDFC8F29945E683ADC3AC16CE13...</td>\n      <td>2019-04-21</td>\n      <td>-4</td>\n      <td>16643.9</td>\n    </tr>\n    <tr>\n      <th>21</th>\n      <td>0x0000892A3160BBCC4BDFC8F29945E683ADC3AC16CE13...</td>\n      <td>2019-04-22</td>\n      <td>-3</td>\n      <td>16643.9</td>\n    </tr>\n    <tr>\n      <th>22</th>\n      <td>0x0000892A3160BBCC4BDFC8F29945E683ADC3AC16CE13...</td>\n      <td>2019-04-23</td>\n      <td>-2</td>\n      <td>16643.9</td>\n    </tr>\n    <tr>\n      <th>23</th>\n      <td>0x0000892A3160BBCC4BDFC8F29945E683ADC3AC16CE13...</td>\n      <td>2019-04-24</td>\n      <td>-1</td>\n      <td>16643.9</td>\n    </tr>\n    <tr>\n      <th>24</th>\n      <td>0x0000892A3160BBCC4BDFC8F29945E683ADC3AC16CE13...</td>\n      <td>2019-04-25</td>\n      <td>0</td>\n      <td>16643.9</td>\n    </tr>\n    <tr>\n      <th>25</th>\n      <td>0x0000892A3160BBCC4BDFC8F29945E683ADC3AC16CE13...</td>\n      <td>2019-04-26</td>\n      <td>1</td>\n      <td>16643.9</td>\n    </tr>\n    <tr>\n      <th>26</th>\n      <td>0x0000892A3160BBCC4BDFC8F29945E683ADC3AC16CE13...</td>\n      <td>2019-04-27</td>\n      <td>2</td>\n      <td>16643.9</td>\n    </tr>\n    <tr>\n      <th>27</th>\n      <td>0x0000892A3160BBCC4BDFC8F29945E683ADC3AC16CE13...</td>\n      <td>2019-04-28</td>\n      <td>3</td>\n      <td>16643.9</td>\n    </tr>\n    <tr>\n      <th>28</th>\n      <td>0x0000892A3160BBCC4BDFC8F29945E683ADC3AC16CE13...</td>\n      <td>2019-04-29</td>\n      <td>4</td>\n      <td>16643.9</td>\n    </tr>\n    <tr>\n      <th>29</th>\n      <td>0x0000892A3160BBCC4BDFC8F29945E683ADC3AC16CE13...</td>\n      <td>2019-04-30</td>\n      <td>5</td>\n      <td>16643.9</td>\n    </tr>\n    <tr>\n      <th>30</th>\n      <td>0x0000892A3160BBCC4BDFC8F29945E683ADC3AC16CE13...</td>\n      <td>2019-05-01</td>\n      <td>6</td>\n      <td>16643.9</td>\n    </tr>\n    <tr>\n      <th>31</th>\n      <td>0x0000892A3160BBCC4BDFC8F29945E683ADC3AC16CE13...</td>\n      <td>2019-05-02</td>\n      <td>7</td>\n      <td>16643.9</td>\n    </tr>\n    <tr>\n      <th>32</th>\n      <td>0x0000892A3160BBCC4BDFC8F29945E683ADC3AC16CE13...</td>\n      <td>2019-05-03</td>\n      <td>8</td>\n      <td>16643.9</td>\n    </tr>\n    <tr>\n      <th>33</th>\n      <td>0x0000892A3160BBCC4BDFC8F29945E683ADC3AC16CE13...</td>\n      <td>2019-05-04</td>\n      <td>9</td>\n      <td>16643.9</td>\n    </tr>\n    <tr>\n      <th>34</th>\n      <td>0x0000892A3160BBCC4BDFC8F29945E683ADC3AC16CE13...</td>\n      <td>2019-05-05</td>\n      <td>10</td>\n      <td>16643.9</td>\n    </tr>\n    <tr>\n      <th>35</th>\n      <td>0x0000892A3160BBCC4BDFC8F29945E683ADC3AC16CE13...</td>\n      <td>2019-05-06</td>\n      <td>11</td>\n      <td>16643.9</td>\n    </tr>\n    <tr>\n      <th>36</th>\n      <td>0x0000892A3160BBCC4BDFC8F29945E683ADC3AC16CE13...</td>\n      <td>2019-05-07</td>\n      <td>12</td>\n      <td>16643.9</td>\n    </tr>\n    <tr>\n      <th>37</th>\n      <td>0x0000892A3160BBCC4BDFC8F29945E683ADC3AC16CE13...</td>\n      <td>2019-05-08</td>\n      <td>13</td>\n      <td>16643.9</td>\n    </tr>\n    <tr>\n      <th>38</th>\n      <td>0x0000892A3160BBCC4BDFC8F29945E683ADC3AC16CE13...</td>\n      <td>2019-05-09</td>\n      <td>14</td>\n      <td>16643.9</td>\n    </tr>\n    <tr>\n      <th>39</th>\n      <td>0x0000892A3160BBCC4BDFC8F29945E683ADC3AC16CE13...</td>\n      <td>2019-05-10</td>\n      <td>-15</td>\n      <td>16643.9</td>\n    </tr>\n    <tr>\n      <th>40</th>\n      <td>0x0000892A3160BBCC4BDFC8F29945E683ADC3AC16CE13...</td>\n      <td>2019-05-11</td>\n      <td>-14</td>\n      <td>16643.9</td>\n    </tr>\n    <tr>\n      <th>41</th>\n      <td>0x0000892A3160BBCC4BDFC8F29945E683ADC3AC16CE13...</td>\n      <td>2019-05-12</td>\n      <td>-13</td>\n      <td>16643.9</td>\n    </tr>\n    <tr>\n      <th>42</th>\n      <td>0x0000892A3160BBCC4BDFC8F29945E683ADC3AC16CE13...</td>\n      <td>2019-05-13</td>\n      <td>-12</td>\n      <td>16643.9</td>\n    </tr>\n    <tr>\n      <th>43</th>\n      <td>0x0000892A3160BBCC4BDFC8F29945E683ADC3AC16CE13...</td>\n      <td>2019-05-14</td>\n      <td>-11</td>\n      <td>16643.9</td>\n    </tr>\n    <tr>\n      <th>44</th>\n      <td>0x0000892A3160BBCC4BDFC8F29945E683ADC3AC16CE13...</td>\n      <td>2019-05-15</td>\n      <td>-10</td>\n      <td>16643.9</td>\n    </tr>\n    <tr>\n      <th>45</th>\n      <td>0x0000892A3160BBCC4BDFC8F29945E683ADC3AC16CE13...</td>\n      <td>2019-05-16</td>\n      <td>-9</td>\n      <td>16643.9</td>\n    </tr>\n    <tr>\n      <th>46</th>\n      <td>0x0000892A3160BBCC4BDFC8F29945E683ADC3AC16CE13...</td>\n      <td>2019-05-17</td>\n      <td>-8</td>\n      <td>16643.9</td>\n    </tr>\n    <tr>\n      <th>47</th>\n      <td>0x0000892A3160BBCC4BDFC8F29945E683ADC3AC16CE13...</td>\n      <td>2019-05-18</td>\n      <td>-7</td>\n      <td>16643.9</td>\n    </tr>\n    <tr>\n      <th>48</th>\n      <td>0x0000892A3160BBCC4BDFC8F29945E683ADC3AC16CE13...</td>\n      <td>2019-05-19</td>\n      <td>-6</td>\n      <td>16643.9</td>\n    </tr>\n    <tr>\n      <th>49</th>\n      <td>0x0000892A3160BBCC4BDFC8F29945E683ADC3AC16CE13...</td>\n      <td>2019-05-20</td>\n      <td>-5</td>\n      <td>16643.9</td>\n    </tr>\n  </tbody>\n</table>\n</div>"
     },
     "execution_count": 6,
     "metadata": {},
     "output_type": "execute_result"
    }
   ],
   "source": [
    "UTD_DPD.head(50)"
   ]
  },
  {
   "cell_type": "code",
   "execution_count": 62,
   "outputs": [
    {
     "data": {
      "text/plain": "63008"
     },
     "execution_count": 62,
     "metadata": {},
     "output_type": "execute_result"
    }
   ],
   "source": [
    "UTD_DPD.Masked_Account.nunique()"
   ],
   "metadata": {
    "collapsed": false,
    "pycharm": {
     "name": "#%%\n"
    }
   }
  },
  {
   "cell_type": "code",
   "execution_count": 66,
   "outputs": [
    {
     "data": {
      "text/plain": "91    54126\n90      100\n89      159\n88      137\n87      167\n      ...  \n5        90\n4       134\n3       132\n2        45\n1        86\nName: Masked_Account, Length: 91, dtype: int64"
     },
     "execution_count": 66,
     "metadata": {},
     "output_type": "execute_result"
    }
   ],
   "source": [
    "# checking the number of days that are recorded for each customer, not every one have the same number of days\n",
    "UTD_DPD.Masked_Account.value_counts().value_counts().sort_index(ascending=False)"
   ],
   "metadata": {
    "collapsed": false,
    "pycharm": {
     "name": "#%%\n"
    }
   }
  },
  {
   "cell_type": "code",
   "execution_count": 67,
   "outputs": [
    {
     "data": {
      "text/plain": "54385"
     },
     "execution_count": 67,
     "metadata": {},
     "output_type": "execute_result"
    }
   ],
   "source": [
    "# we need to make sure that all observations have had the same amount of chance to become delinquent\n",
    "# on the other hand probably the test dataset will have the same issue of IID violations, hence we are going to keep them\n",
    "record_count = UTD_DPD.Masked_Account.value_counts().reset_index()\n",
    "record_count = record_count.rename(columns={'index': 'Masked_Account', 'Masked_Account': 'record_count'})\n",
    "record_count = record_count[record_count['record_count']>=89]\n",
    "long_enough_record = record_count.Masked_Account.unique().tolist()\n",
    "# chcking the number of identically distributed observations\n",
    "len(long_enough_record)"
   ],
   "metadata": {
    "collapsed": false,
    "pycharm": {
     "name": "#%%\n"
    }
   }
  },
  {
   "cell_type": "code",
   "execution_count": 36,
   "outputs": [
    {
     "data": {
      "text/plain": "(39488, 3)"
     },
     "execution_count": 36,
     "metadata": {},
     "output_type": "execute_result"
    }
   ],
   "source": [
    "# Finding Observations with delinquent 1 as we want to know whether those customer will pay in 30 days or not\n",
    "UTD_DPD_1_first= pd.DataFrame(UTD_DPD[UTD_DPD[\"DPD\"]==1].groupby(\"Masked_Account\").agg({\"Business_Date\": \"min\" , \"Principal Balance\": \"first\"})).reset_index()\n",
    "UTD_DPD_1_first.shape"
   ],
   "metadata": {
    "collapsed": false,
    "pycharm": {
     "name": "#%%\n"
    }
   }
  },
  {
   "cell_type": "code",
   "execution_count": 9,
   "outputs": [
    {
     "data": {
      "text/plain": "(3510647, 4)"
     },
     "execution_count": 9,
     "metadata": {},
     "output_type": "execute_result"
    }
   ],
   "source": [
    "# Listing those customers accounts\n",
    "MA_1  = UTD_DPD_1_first['Masked_Account'].unique()\n",
    "# slicing the dataset to only include select customers\n",
    "UTD_DPD_1 = UTD_DPD[UTD_DPD[\"Masked_Account\"].isin(MA_1)]\n",
    "UTD_DPD_1.shape"
   ],
   "metadata": {
    "collapsed": false,
    "pycharm": {
     "name": "#%%\n"
    }
   }
  },
  {
   "cell_type": "code",
   "execution_count": 10,
   "outputs": [],
   "source": [
    "#Nowe we are going to merge the sliced dataset with itself to be able find what happend to the customer in 30 days\n",
    "UTD_DPD_1_merge = pd.merge(UTD_DPD_1, UTD_DPD_1, on='Masked_Account', how='left')"
   ],
   "metadata": {
    "collapsed": false,
    "pycharm": {
     "name": "#%%\n"
    }
   }
  },
  {
   "cell_type": "code",
   "execution_count": 11,
   "outputs": [
    {
     "data": {
      "text/plain": "(315588393, 7)"
     },
     "execution_count": 11,
     "metadata": {},
     "output_type": "execute_result"
    }
   ],
   "source": [
    "# the merged dataset is very large\n",
    "UTD_DPD_1_merge.shape"
   ],
   "metadata": {
    "collapsed": false,
    "pycharm": {
     "name": "#%%\n"
    }
   }
  },
  {
   "cell_type": "code",
   "execution_count": 52,
   "outputs": [],
   "source": [
    "# we define a new column for the difference between the two merged dates\n",
    "UTD_DPD_1_merge['difference']= (UTD_DPD_1_merge['Business_Date_y'] - UTD_DPD_1_merge['Business_Date_x']).dt.days"
   ],
   "metadata": {
    "collapsed": false,
    "pycharm": {
     "name": "#%%\n"
    }
   }
  },
  {
   "cell_type": "code",
   "execution_count": 54,
   "outputs": [],
   "source": [
    "# slicing the dataset to only include those that have a DPD of 1 and we observe for 30 days\n",
    "UTD_DPD_target = UTD_DPD_1_merge[(UTD_DPD_1_merge['DPD_x']==1) & (UTD_DPD_1_merge['difference']==29)].copy()"
   ],
   "metadata": {
    "collapsed": false,
    "pycharm": {
     "name": "#%%\n"
    }
   }
  },
  {
   "cell_type": "code",
   "execution_count": 56,
   "outputs": [
    {
     "data": {
      "text/plain": "                                           Masked_Account Business_Date_x  \\\n2329    0x0000892A3160BBCC4BDFC8F29945E683ADC3AC16CE13...      2019-04-26   \n5089    0x0000892A3160BBCC4BDFC8F29945E683ADC3AC16CE13...      2019-05-26   \n12358   0x0004D32CDC5CE901D210ED22646D6CBCF05E890455AE...      2019-05-15   \n18891   0x0008FDC08BE2FFBD50937B4ECD181EF1FEF42C0A8C08...      2019-04-26   \n21651   0x0008FDC08BE2FFBD50937B4ECD181EF1FEF42C0A8C08...      2019-05-26   \n28000   0x000EC0A463EDA256613B8369D5095E0464C90CF08F5E...      2019-05-05   \n34993   0x000FB5CBB3D3FA4B9144890C691CB1957A33D44FF708...      2019-04-21   \n37753   0x000FB5CBB3D3FA4B9144890C691CB1957A33D44FF708...      2019-05-21   \n46494   0x0011916D767F15508D83A6C4BCEF97CC8EEB8ADA5414...      2019-05-26   \n49899   0x00132CAF58A05EF5B0112C334709F5A2385AE6D6CDC6...      2019-04-03   \n52659   0x00132CAF58A05EF5B0112C334709F5A2385AE6D6CDC6...      2019-05-03   \n62704   0x0015A7641975B75404EAA4B8DE6777305D4F57022D38...      2019-05-03   \n80646   0x001955EE3C52E8B31555AFBD1438CE21DD8620EEC5D9...      2019-05-18   \n86719   0x001B18A82FCB8AC77CE94C8E9C890480CB730C980168...      2019-04-24   \n89479   0x001B18A82FCB8AC77CE94C8E9C890480CB730C980168...      2019-05-24   \n95184   0x001D7C89981D2FB3BF9C04F3FBAF518928908475E0E0...      2019-04-26   \n97944   0x001D7C89981D2FB3BF9C04F3FBAF518928908475E0E0...      2019-05-26   \n105009  0x00239169D03A118E02186AA72B485560284B1995F6B1...      2019-05-03   \n119823  0x002630C2DE8055B62F9DC24AAF44873643E6271460F9...      2019-04-14   \n122583  0x002630C2DE8055B62F9DC24AAF44873643E6271460F9...      2019-05-14   \n145218  0x002C0A517404B13C214F12C884F06C30813E550FD175...      2019-04-20   \n147978  0x002C0A517404B13C214F12C884F06C30813E550FD175...      2019-05-20   \n152947  0x002CBBE1BCC5D6489BCFAE514885338F19378D9792F3...      2019-04-14   \n155707  0x002CBBE1BCC5D6489BCFAE514885338F19378D9792F3...      2019-05-14   \n161136  0x002D0BC4BA9D1DA1714CCB24E279A0000467C9579F54...      2019-04-13   \n170153  0x002E92FF5E43F5EA74A6ADDDFCE2885B703DBF1DC083...      2019-04-21   \n178066  0x00305403B7B0463CD0F608C788F6EE58D458232199C6...      2019-04-17   \n186071  0x00308DEAA5B7216A8F2C8377F8422DBEBC855B0E18C5...      2019-04-14   \n188831  0x00308DEAA5B7216A8F2C8377F8422DBEBC855B0E18C5...      2019-05-14   \n195364  0x003248FDA9F5236CCAE2DCC00701D628501D01D02B4D...      2019-04-25   \n198124  0x003248FDA9F5236CCAE2DCC00701D628501D01D02B4D...      2019-05-25   \n202357  0x00333FE981FF7C9C82565274B466452335222E8C9D86...      2019-04-11   \n205117  0x00333FE981FF7C9C82565274B466452335222E8C9D86...      2019-05-11   \n213122  0x0033A709D9A8D35945D59ABCC54FF6CFD5548D4CB67C...      2019-05-08   \n220299  0x003520447D293C7932830E185D1A946C13B9ED643C3B...      2019-04-26   \n223059  0x003520447D293C7932830E185D1A946C13B9ED643C3B...      2019-05-26   \n227568  0x0035CD3108D9136DA70E2F2D7B1FE3E4E3FC94939FA3...      2019-04-15   \n239345  0x003689950788BAC2DDBA853BBE7705158AD64AD7796D...      2019-05-23   \n243946  0x003750F36A033314FC1D1AD8A587B8E38502F1A99F24...      2019-04-13   \n246706  0x003750F36A033314FC1D1AD8A587B8E38502F1A99F24...      2019-05-13   \n252411  0x0037F29EEAE1785D8130E064D80C035F45DF056D74EB...      2019-04-15   \n260968  0x00394DA3C9A57343468AAF56DD2C0A9BD950F64ADD98...      2019-04-18   \n263728  0x00394DA3C9A57343468AAF56DD2C0A9BD950F64ADD98...      2019-05-18   \n269157  0x003C84C31251B8F26CE1B9CD90F956D7E12456920FC7...      2019-04-17   \n271917  0x003C84C31251B8F26CE1B9CD90F956D7E12456920FC7...      2019-05-17   \n278634  0x003D24FEB7B764BF88A6FA88C6F245F7A7E5B908B5F8...      2019-04-30   \n285995  0x003E59AC24556B950F105F698995D1EB3BFF521DD5E1...      2019-04-20   \n288755  0x003E59AC24556B950F105F698995D1EB3BFF521DD5E1...      2019-05-20   \n293356  0x003EE7A4FA87A37D5E62A1CDB98A046955CBECE13FA3...      2019-04-10   \n296116  0x003EE7A4FA87A37D5E62A1CDB98A046955CBECE13FA3...      2019-05-10   \n\n        Principal Balance_x  target  \n2329               16643.90       0  \n5089               16643.90       0  \n12358              14233.83       0  \n18891              20672.41       0  \n21651              20368.92       0  \n28000               9454.04       0  \n34993              10194.23       0  \n37753              10044.35       1  \n46494               8395.72       0  \n49899              17332.49       0  \n52659              17255.14       0  \n62704               8068.97       0  \n80646              14080.67       0  \n86719              11787.65       0  \n89479              11337.90       0  \n95184              11338.56       0  \n97944              11177.27       0  \n105009             16155.82       0  \n119823             18467.50       0  \n122583             18141.20       0  \n145218             14858.58       0  \n147978             14608.03       0  \n152947              7580.97       0  \n155707              7434.11       0  \n161136              8754.41       1  \n170153             16854.54       0  \n178066             25613.40       0  \n186071              3642.01       0  \n188831              3515.44       0  \n195364              9986.18       0  \n198124              9832.27       0  \n202357              9613.50       0  \n205117              9385.82       0  \n213122             17061.10       0  \n220299              8361.82       0  \n223059              8142.92       0  \n227568             15179.05       0  \n239345             10293.48       0  \n243946             12479.41       0  \n246706             12441.68       1  \n252411             22041.32       0  \n260968              7884.56       0  \n263728              7585.73       0  \n269157             13209.73       0  \n271917             13085.88       0  \n278634              7087.58       0  \n285995             23835.59       0  \n288755             23771.88       0  \n293356              9157.34       0  \n296116              9013.25       0  ",
      "text/html": "<div>\n<style scoped>\n    .dataframe tbody tr th:only-of-type {\n        vertical-align: middle;\n    }\n\n    .dataframe tbody tr th {\n        vertical-align: top;\n    }\n\n    .dataframe thead th {\n        text-align: right;\n    }\n</style>\n<table border=\"1\" class=\"dataframe\">\n  <thead>\n    <tr style=\"text-align: right;\">\n      <th></th>\n      <th>Masked_Account</th>\n      <th>Business_Date_x</th>\n      <th>Principal Balance_x</th>\n      <th>target</th>\n    </tr>\n  </thead>\n  <tbody>\n    <tr>\n      <th>2329</th>\n      <td>0x0000892A3160BBCC4BDFC8F29945E683ADC3AC16CE13...</td>\n      <td>2019-04-26</td>\n      <td>16643.90</td>\n      <td>0</td>\n    </tr>\n    <tr>\n      <th>5089</th>\n      <td>0x0000892A3160BBCC4BDFC8F29945E683ADC3AC16CE13...</td>\n      <td>2019-05-26</td>\n      <td>16643.90</td>\n      <td>0</td>\n    </tr>\n    <tr>\n      <th>12358</th>\n      <td>0x0004D32CDC5CE901D210ED22646D6CBCF05E890455AE...</td>\n      <td>2019-05-15</td>\n      <td>14233.83</td>\n      <td>0</td>\n    </tr>\n    <tr>\n      <th>18891</th>\n      <td>0x0008FDC08BE2FFBD50937B4ECD181EF1FEF42C0A8C08...</td>\n      <td>2019-04-26</td>\n      <td>20672.41</td>\n      <td>0</td>\n    </tr>\n    <tr>\n      <th>21651</th>\n      <td>0x0008FDC08BE2FFBD50937B4ECD181EF1FEF42C0A8C08...</td>\n      <td>2019-05-26</td>\n      <td>20368.92</td>\n      <td>0</td>\n    </tr>\n    <tr>\n      <th>28000</th>\n      <td>0x000EC0A463EDA256613B8369D5095E0464C90CF08F5E...</td>\n      <td>2019-05-05</td>\n      <td>9454.04</td>\n      <td>0</td>\n    </tr>\n    <tr>\n      <th>34993</th>\n      <td>0x000FB5CBB3D3FA4B9144890C691CB1957A33D44FF708...</td>\n      <td>2019-04-21</td>\n      <td>10194.23</td>\n      <td>0</td>\n    </tr>\n    <tr>\n      <th>37753</th>\n      <td>0x000FB5CBB3D3FA4B9144890C691CB1957A33D44FF708...</td>\n      <td>2019-05-21</td>\n      <td>10044.35</td>\n      <td>1</td>\n    </tr>\n    <tr>\n      <th>46494</th>\n      <td>0x0011916D767F15508D83A6C4BCEF97CC8EEB8ADA5414...</td>\n      <td>2019-05-26</td>\n      <td>8395.72</td>\n      <td>0</td>\n    </tr>\n    <tr>\n      <th>49899</th>\n      <td>0x00132CAF58A05EF5B0112C334709F5A2385AE6D6CDC6...</td>\n      <td>2019-04-03</td>\n      <td>17332.49</td>\n      <td>0</td>\n    </tr>\n    <tr>\n      <th>52659</th>\n      <td>0x00132CAF58A05EF5B0112C334709F5A2385AE6D6CDC6...</td>\n      <td>2019-05-03</td>\n      <td>17255.14</td>\n      <td>0</td>\n    </tr>\n    <tr>\n      <th>62704</th>\n      <td>0x0015A7641975B75404EAA4B8DE6777305D4F57022D38...</td>\n      <td>2019-05-03</td>\n      <td>8068.97</td>\n      <td>0</td>\n    </tr>\n    <tr>\n      <th>80646</th>\n      <td>0x001955EE3C52E8B31555AFBD1438CE21DD8620EEC5D9...</td>\n      <td>2019-05-18</td>\n      <td>14080.67</td>\n      <td>0</td>\n    </tr>\n    <tr>\n      <th>86719</th>\n      <td>0x001B18A82FCB8AC77CE94C8E9C890480CB730C980168...</td>\n      <td>2019-04-24</td>\n      <td>11787.65</td>\n      <td>0</td>\n    </tr>\n    <tr>\n      <th>89479</th>\n      <td>0x001B18A82FCB8AC77CE94C8E9C890480CB730C980168...</td>\n      <td>2019-05-24</td>\n      <td>11337.90</td>\n      <td>0</td>\n    </tr>\n    <tr>\n      <th>95184</th>\n      <td>0x001D7C89981D2FB3BF9C04F3FBAF518928908475E0E0...</td>\n      <td>2019-04-26</td>\n      <td>11338.56</td>\n      <td>0</td>\n    </tr>\n    <tr>\n      <th>97944</th>\n      <td>0x001D7C89981D2FB3BF9C04F3FBAF518928908475E0E0...</td>\n      <td>2019-05-26</td>\n      <td>11177.27</td>\n      <td>0</td>\n    </tr>\n    <tr>\n      <th>105009</th>\n      <td>0x00239169D03A118E02186AA72B485560284B1995F6B1...</td>\n      <td>2019-05-03</td>\n      <td>16155.82</td>\n      <td>0</td>\n    </tr>\n    <tr>\n      <th>119823</th>\n      <td>0x002630C2DE8055B62F9DC24AAF44873643E6271460F9...</td>\n      <td>2019-04-14</td>\n      <td>18467.50</td>\n      <td>0</td>\n    </tr>\n    <tr>\n      <th>122583</th>\n      <td>0x002630C2DE8055B62F9DC24AAF44873643E6271460F9...</td>\n      <td>2019-05-14</td>\n      <td>18141.20</td>\n      <td>0</td>\n    </tr>\n    <tr>\n      <th>145218</th>\n      <td>0x002C0A517404B13C214F12C884F06C30813E550FD175...</td>\n      <td>2019-04-20</td>\n      <td>14858.58</td>\n      <td>0</td>\n    </tr>\n    <tr>\n      <th>147978</th>\n      <td>0x002C0A517404B13C214F12C884F06C30813E550FD175...</td>\n      <td>2019-05-20</td>\n      <td>14608.03</td>\n      <td>0</td>\n    </tr>\n    <tr>\n      <th>152947</th>\n      <td>0x002CBBE1BCC5D6489BCFAE514885338F19378D9792F3...</td>\n      <td>2019-04-14</td>\n      <td>7580.97</td>\n      <td>0</td>\n    </tr>\n    <tr>\n      <th>155707</th>\n      <td>0x002CBBE1BCC5D6489BCFAE514885338F19378D9792F3...</td>\n      <td>2019-05-14</td>\n      <td>7434.11</td>\n      <td>0</td>\n    </tr>\n    <tr>\n      <th>161136</th>\n      <td>0x002D0BC4BA9D1DA1714CCB24E279A0000467C9579F54...</td>\n      <td>2019-04-13</td>\n      <td>8754.41</td>\n      <td>1</td>\n    </tr>\n    <tr>\n      <th>170153</th>\n      <td>0x002E92FF5E43F5EA74A6ADDDFCE2885B703DBF1DC083...</td>\n      <td>2019-04-21</td>\n      <td>16854.54</td>\n      <td>0</td>\n    </tr>\n    <tr>\n      <th>178066</th>\n      <td>0x00305403B7B0463CD0F608C788F6EE58D458232199C6...</td>\n      <td>2019-04-17</td>\n      <td>25613.40</td>\n      <td>0</td>\n    </tr>\n    <tr>\n      <th>186071</th>\n      <td>0x00308DEAA5B7216A8F2C8377F8422DBEBC855B0E18C5...</td>\n      <td>2019-04-14</td>\n      <td>3642.01</td>\n      <td>0</td>\n    </tr>\n    <tr>\n      <th>188831</th>\n      <td>0x00308DEAA5B7216A8F2C8377F8422DBEBC855B0E18C5...</td>\n      <td>2019-05-14</td>\n      <td>3515.44</td>\n      <td>0</td>\n    </tr>\n    <tr>\n      <th>195364</th>\n      <td>0x003248FDA9F5236CCAE2DCC00701D628501D01D02B4D...</td>\n      <td>2019-04-25</td>\n      <td>9986.18</td>\n      <td>0</td>\n    </tr>\n    <tr>\n      <th>198124</th>\n      <td>0x003248FDA9F5236CCAE2DCC00701D628501D01D02B4D...</td>\n      <td>2019-05-25</td>\n      <td>9832.27</td>\n      <td>0</td>\n    </tr>\n    <tr>\n      <th>202357</th>\n      <td>0x00333FE981FF7C9C82565274B466452335222E8C9D86...</td>\n      <td>2019-04-11</td>\n      <td>9613.50</td>\n      <td>0</td>\n    </tr>\n    <tr>\n      <th>205117</th>\n      <td>0x00333FE981FF7C9C82565274B466452335222E8C9D86...</td>\n      <td>2019-05-11</td>\n      <td>9385.82</td>\n      <td>0</td>\n    </tr>\n    <tr>\n      <th>213122</th>\n      <td>0x0033A709D9A8D35945D59ABCC54FF6CFD5548D4CB67C...</td>\n      <td>2019-05-08</td>\n      <td>17061.10</td>\n      <td>0</td>\n    </tr>\n    <tr>\n      <th>220299</th>\n      <td>0x003520447D293C7932830E185D1A946C13B9ED643C3B...</td>\n      <td>2019-04-26</td>\n      <td>8361.82</td>\n      <td>0</td>\n    </tr>\n    <tr>\n      <th>223059</th>\n      <td>0x003520447D293C7932830E185D1A946C13B9ED643C3B...</td>\n      <td>2019-05-26</td>\n      <td>8142.92</td>\n      <td>0</td>\n    </tr>\n    <tr>\n      <th>227568</th>\n      <td>0x0035CD3108D9136DA70E2F2D7B1FE3E4E3FC94939FA3...</td>\n      <td>2019-04-15</td>\n      <td>15179.05</td>\n      <td>0</td>\n    </tr>\n    <tr>\n      <th>239345</th>\n      <td>0x003689950788BAC2DDBA853BBE7705158AD64AD7796D...</td>\n      <td>2019-05-23</td>\n      <td>10293.48</td>\n      <td>0</td>\n    </tr>\n    <tr>\n      <th>243946</th>\n      <td>0x003750F36A033314FC1D1AD8A587B8E38502F1A99F24...</td>\n      <td>2019-04-13</td>\n      <td>12479.41</td>\n      <td>0</td>\n    </tr>\n    <tr>\n      <th>246706</th>\n      <td>0x003750F36A033314FC1D1AD8A587B8E38502F1A99F24...</td>\n      <td>2019-05-13</td>\n      <td>12441.68</td>\n      <td>1</td>\n    </tr>\n    <tr>\n      <th>252411</th>\n      <td>0x0037F29EEAE1785D8130E064D80C035F45DF056D74EB...</td>\n      <td>2019-04-15</td>\n      <td>22041.32</td>\n      <td>0</td>\n    </tr>\n    <tr>\n      <th>260968</th>\n      <td>0x00394DA3C9A57343468AAF56DD2C0A9BD950F64ADD98...</td>\n      <td>2019-04-18</td>\n      <td>7884.56</td>\n      <td>0</td>\n    </tr>\n    <tr>\n      <th>263728</th>\n      <td>0x00394DA3C9A57343468AAF56DD2C0A9BD950F64ADD98...</td>\n      <td>2019-05-18</td>\n      <td>7585.73</td>\n      <td>0</td>\n    </tr>\n    <tr>\n      <th>269157</th>\n      <td>0x003C84C31251B8F26CE1B9CD90F956D7E12456920FC7...</td>\n      <td>2019-04-17</td>\n      <td>13209.73</td>\n      <td>0</td>\n    </tr>\n    <tr>\n      <th>271917</th>\n      <td>0x003C84C31251B8F26CE1B9CD90F956D7E12456920FC7...</td>\n      <td>2019-05-17</td>\n      <td>13085.88</td>\n      <td>0</td>\n    </tr>\n    <tr>\n      <th>278634</th>\n      <td>0x003D24FEB7B764BF88A6FA88C6F245F7A7E5B908B5F8...</td>\n      <td>2019-04-30</td>\n      <td>7087.58</td>\n      <td>0</td>\n    </tr>\n    <tr>\n      <th>285995</th>\n      <td>0x003E59AC24556B950F105F698995D1EB3BFF521DD5E1...</td>\n      <td>2019-04-20</td>\n      <td>23835.59</td>\n      <td>0</td>\n    </tr>\n    <tr>\n      <th>288755</th>\n      <td>0x003E59AC24556B950F105F698995D1EB3BFF521DD5E1...</td>\n      <td>2019-05-20</td>\n      <td>23771.88</td>\n      <td>0</td>\n    </tr>\n    <tr>\n      <th>293356</th>\n      <td>0x003EE7A4FA87A37D5E62A1CDB98A046955CBECE13FA3...</td>\n      <td>2019-04-10</td>\n      <td>9157.34</td>\n      <td>0</td>\n    </tr>\n    <tr>\n      <th>296116</th>\n      <td>0x003EE7A4FA87A37D5E62A1CDB98A046955CBECE13FA3...</td>\n      <td>2019-05-10</td>\n      <td>9013.25</td>\n      <td>0</td>\n    </tr>\n  </tbody>\n</table>\n</div>"
     },
     "execution_count": 56,
     "metadata": {},
     "output_type": "execute_result"
    }
   ],
   "source": [
    "# find those observations that end with thirty as target and those below 30 as Null, other observations are considered as error\n",
    "def target_value(x):\n",
    "    if x > 30:\n",
    "        return np.NaN # There is probably a mistake in the dataset\n",
    "    elif x == 30:\n",
    "        return 1 # This is the target\n",
    "    else:\n",
    "        return 0 # if there is something less than -30 there is still the possiblity of mistake but as we are not sure, we leave it as 0\n",
    "\n",
    "UTD_DPD_target['target'] = UTD_DPD_target['DPD_y'].apply(target_value)\n",
    "# we drop the NA columns\n",
    "UTD_DPD_target.dropna(inplace=True)\n",
    "# we drop columns from future and those that are not needed for the final analysis\n",
    "UTD_DPD_target.drop(['Business_Date_y', 'DPD_x', 'DPD_y' , 'Principal Balance_y' , 'difference'], axis=1, inplace=True)\n",
    "# checking the final raget table\n",
    "UTD_DPD_target.head(50)"
   ],
   "metadata": {
    "collapsed": false,
    "pycharm": {
     "name": "#%%\n"
    }
   }
  },
  {
   "cell_type": "code",
   "execution_count": 72,
   "outputs": [
    {
     "data": {
      "text/plain": "                                              Masked_Account Business_Date_x  \\\n5089       0x0000892A3160BBCC4BDFC8F29945E683ADC3AC16CE13...      2019-05-26   \n12358      0x0004D32CDC5CE901D210ED22646D6CBCF05E890455AE...      2019-05-15   \n21651      0x0008FDC08BE2FFBD50937B4ECD181EF1FEF42C0A8C08...      2019-05-26   \n28000      0x000EC0A463EDA256613B8369D5095E0464C90CF08F5E...      2019-05-05   \n34993      0x000FB5CBB3D3FA4B9144890C691CB1957A33D44FF708...      2019-04-21   \n...                                                      ...             ...   \n315544784  0xFFF84E88046A17B3E8362ACD101908F23045158A2927...      2019-05-29   \n315548609  0xFFF91DC3BF395A7FCE0D235811BA3D3CB33A7E45C4F8...      2019-04-15   \n315564223  0xFFFA6ACA9D3BD0A0693BD78D31987B98DAC8D40C8074...      2019-04-08   \n315573700  0xFFFC15ADA4D4317EA4FFEA9BD706461D417993F59822...      2019-04-21   \n315584741  0xFFFC9A8709407BABDC5293E8DDB84972BEC52E8C57D0...      2019-05-21   \n\n           Principal Balance_x  target  \n5089                  16643.90       0  \n12358                 14233.83       0  \n21651                 20368.92       0  \n28000                  9454.04       0  \n34993                 10194.23       0  \n...                        ...     ...  \n315544784              6733.13       0  \n315548609             19789.47       0  \n315564223              4796.28       0  \n315573700             11458.97       0  \n315584741             11087.76       0  \n\n[34648 rows x 4 columns]",
      "text/html": "<div>\n<style scoped>\n    .dataframe tbody tr th:only-of-type {\n        vertical-align: middle;\n    }\n\n    .dataframe tbody tr th {\n        vertical-align: top;\n    }\n\n    .dataframe thead th {\n        text-align: right;\n    }\n</style>\n<table border=\"1\" class=\"dataframe\">\n  <thead>\n    <tr style=\"text-align: right;\">\n      <th></th>\n      <th>Masked_Account</th>\n      <th>Business_Date_x</th>\n      <th>Principal Balance_x</th>\n      <th>target</th>\n    </tr>\n  </thead>\n  <tbody>\n    <tr>\n      <th>5089</th>\n      <td>0x0000892A3160BBCC4BDFC8F29945E683ADC3AC16CE13...</td>\n      <td>2019-05-26</td>\n      <td>16643.90</td>\n      <td>0</td>\n    </tr>\n    <tr>\n      <th>12358</th>\n      <td>0x0004D32CDC5CE901D210ED22646D6CBCF05E890455AE...</td>\n      <td>2019-05-15</td>\n      <td>14233.83</td>\n      <td>0</td>\n    </tr>\n    <tr>\n      <th>21651</th>\n      <td>0x0008FDC08BE2FFBD50937B4ECD181EF1FEF42C0A8C08...</td>\n      <td>2019-05-26</td>\n      <td>20368.92</td>\n      <td>0</td>\n    </tr>\n    <tr>\n      <th>28000</th>\n      <td>0x000EC0A463EDA256613B8369D5095E0464C90CF08F5E...</td>\n      <td>2019-05-05</td>\n      <td>9454.04</td>\n      <td>0</td>\n    </tr>\n    <tr>\n      <th>34993</th>\n      <td>0x000FB5CBB3D3FA4B9144890C691CB1957A33D44FF708...</td>\n      <td>2019-04-21</td>\n      <td>10194.23</td>\n      <td>0</td>\n    </tr>\n    <tr>\n      <th>...</th>\n      <td>...</td>\n      <td>...</td>\n      <td>...</td>\n      <td>...</td>\n    </tr>\n    <tr>\n      <th>315544784</th>\n      <td>0xFFF84E88046A17B3E8362ACD101908F23045158A2927...</td>\n      <td>2019-05-29</td>\n      <td>6733.13</td>\n      <td>0</td>\n    </tr>\n    <tr>\n      <th>315548609</th>\n      <td>0xFFF91DC3BF395A7FCE0D235811BA3D3CB33A7E45C4F8...</td>\n      <td>2019-04-15</td>\n      <td>19789.47</td>\n      <td>0</td>\n    </tr>\n    <tr>\n      <th>315564223</th>\n      <td>0xFFFA6ACA9D3BD0A0693BD78D31987B98DAC8D40C8074...</td>\n      <td>2019-04-08</td>\n      <td>4796.28</td>\n      <td>0</td>\n    </tr>\n    <tr>\n      <th>315573700</th>\n      <td>0xFFFC15ADA4D4317EA4FFEA9BD706461D417993F59822...</td>\n      <td>2019-04-21</td>\n      <td>11458.97</td>\n      <td>0</td>\n    </tr>\n    <tr>\n      <th>315584741</th>\n      <td>0xFFFC9A8709407BABDC5293E8DDB84972BEC52E8C57D0...</td>\n      <td>2019-05-21</td>\n      <td>11087.76</td>\n      <td>0</td>\n    </tr>\n  </tbody>\n</table>\n<p>34648 rows × 4 columns</p>\n</div>"
     },
     "execution_count": 72,
     "metadata": {},
     "output_type": "execute_result"
    }
   ],
   "source": [
    "# there are customers who have failed to pay on time more than once\n",
    "# as we need the IID assumption for training tree based classifiers, we are going to only pick them once\n",
    "# although one might argue that they are more dangerous hence we should count them twice but we beilve the complications will hinder model accuracy\n",
    "# we are also not going to count the number of time someone was late as this would be a clear leakage\n",
    "# to be agnostic to the order of the occurance, we are going to the groupby selection by random\n",
    "np.random.RandomState(2021)\n",
    "UTD_DPD_target_s = UTD_DPD_target.groupby('Masked_Account').sample(n=1).copy()\n",
    "UTD_DPD_target_s"
   ],
   "metadata": {
    "collapsed": false,
    "pycharm": {
     "name": "#%%\n"
    }
   }
  },
  {
   "cell_type": "code",
   "execution_count": 73,
   "outputs": [
    {
     "data": {
      "text/plain": "0    27694\n1     6954\nName: target, dtype: int64"
     },
     "execution_count": 73,
     "metadata": {},
     "output_type": "execute_result"
    }
   ],
   "source": [
    "# checking for the number of targets\n",
    "UTD_DPD_target_s.target.value_counts()"
   ],
   "metadata": {
    "collapsed": false,
    "pycharm": {
     "name": "#%%\n"
    }
   }
  },
  {
   "cell_type": "code",
   "execution_count": 74,
   "outputs": [
    {
     "data": {
      "text/plain": "((34648, 4), (55351, 4))"
     },
     "execution_count": 74,
     "metadata": {},
     "output_type": "execute_result"
    }
   ],
   "source": [
    "UTD_DPD_target_s.shape , UTD_DPD_target.shape"
   ],
   "metadata": {
    "collapsed": false,
    "pycharm": {
     "name": "#%%\n"
    }
   }
  },
  {
   "cell_type": "code",
   "execution_count": 76,
   "outputs": [],
   "source": [
    "dill.dump(UTD_DPD_target_s, open('./Data/UTD_DPD_target_s.pkl', 'wb'))"
   ],
   "metadata": {
    "collapsed": false,
    "pycharm": {
     "name": "#%%\n"
    }
   }
  },
  {
   "cell_type": "code",
   "execution_count": null,
   "outputs": [],
   "source": [
    "UTD_DPD_target_s = dill.load(open('./Data/UTD_DPD_target_s.pkl', 'rb'))"
   ],
   "metadata": {
    "collapsed": false,
    "pycharm": {
     "name": "#%%\n"
    }
   }
  },
  {
   "cell_type": "markdown",
   "source": [
    "have had previous delinquency -> exist +1\n",
    "how many previous delinquency -> count +1\n",
    "how many time has paid before 30 days -> count 1 - count 30\n",
    "how many times did not pay within 30 days -> count 30\n",
    "\n",
    "count 30 > 0   -> target = 1\n",
    "all other -> target = 0"
   ],
   "metadata": {
    "collapsed": false,
    "pycharm": {
     "name": "#%% md\n"
    }
   }
  },
  {
   "cell_type": "markdown",
   "id": "c8e3fc2f",
   "metadata": {},
   "source": [
    "### UTD_Orig_Data"
   ]
  },
  {
   "cell_type": "code",
   "execution_count": 77,
   "id": "f65a4eb3",
   "metadata": {},
   "outputs": [],
   "source": [
    "names3 = pd.read_excel('./Data/Data dictionary for UTD dataset.xlsx', sheet_name='UTD_Orig_Data -Supplement data')\n",
    "name3 = names3['Column Field'].tolist()"
   ]
  },
  {
   "cell_type": "code",
   "execution_count": 78,
   "id": "ef1000bf",
   "metadata": {},
   "outputs": [
    {
     "name": "stdout",
     "output_type": "stream",
     "text": [
      "<class 'pandas.core.frame.DataFrame'>\n",
      "RangeIndex: 62983 entries, 0 to 62982\n",
      "Data columns (total 5 columns):\n",
      " #   Column            Non-Null Count  Dtype  \n",
      "---  ------            --------------  -----  \n",
      " 0   Masked_account    62983 non-null  object \n",
      " 1   Applicant_state   0 non-null      float64\n",
      " 2   Credit_tier       0 non-null      float64\n",
      " 3   Loan-Term_length  0 non-null      float64\n",
      " 4   PAYMENT_AMT       0 non-null      float64\n",
      "dtypes: float64(4), object(1)\n",
      "memory usage: 2.4+ MB\n"
     ]
    }
   ],
   "source": [
    "df3 = pd.read_csv('./Data/UTD_Orig_Data.csv', names = name3)\n",
    "df3.info()"
   ]
  },
  {
   "cell_type": "code",
   "execution_count": 79,
   "id": "558b6835",
   "metadata": {},
   "outputs": [
    {
     "name": "stdout",
     "output_type": "stream",
     "text": [
      "<class 'pandas.core.frame.DataFrame'>\n",
      "Int64Index: 62982 entries, 1 to 62982\n",
      "Data columns (total 5 columns):\n",
      " #   Column            Non-Null Count  Dtype \n",
      "---  ------            --------------  ----- \n",
      " 0   Masked_account    62982 non-null  object\n",
      " 1   Applicant_state   62982 non-null  object\n",
      " 2   Credit_tier       62982 non-null  object\n",
      " 3   Loan-Term_length  62982 non-null  object\n",
      " 4   PAYMENT_AMT       62982 non-null  object\n",
      "dtypes: object(5)\n",
      "memory usage: 2.9+ MB\n"
     ]
    }
   ],
   "source": [
    "df3.drop(df3.index[0], inplace = True)\n",
    "UTD_Orig_Data = df3.iloc[:,0].str.split('\t', expand=True)\n",
    "UTD_Orig_Data.columns = name3\n",
    "UTD_Orig_Data.info()"
   ]
  },
  {
   "cell_type": "code",
   "execution_count": 80,
   "id": "ead5aa54",
   "metadata": {},
   "outputs": [],
   "source": [
    "UTD_Orig_Data = UTD_Orig_Data.astype({\"Masked_account \": str})\n",
    "UTD_Orig_Data = UTD_Orig_Data.astype({\"Applicant_state\": str})\n",
    "UTD_Orig_Data = UTD_Orig_Data.astype({\"Credit_tier\": str})\n",
    "UTD_Orig_Data = UTD_Orig_Data.astype({\"Loan-Term_length\": int})\n",
    "UTD_Orig_Data = UTD_Orig_Data.astype({\"PAYMENT_AMT\": float})\n",
    "UTD_Orig_Data.reset_index(inplace = True, drop = True)"
   ]
  },
  {
   "cell_type": "code",
   "execution_count": 81,
   "outputs": [],
   "source": [
    "UTD_Orig_Data.columns = ['Masked_Account', 'Applicant_state', 'Credit_tier', 'Loan-Term_length','PAYMENT_AMT']"
   ],
   "metadata": {
    "collapsed": false,
    "pycharm": {
     "name": "#%%\n"
    }
   }
  },
  {
   "cell_type": "code",
   "execution_count": 82,
   "outputs": [
    {
     "data": {
      "text/plain": "Index(['Masked_Account', 'Applicant_state', 'Credit_tier', 'Loan-Term_length',\n       'PAYMENT_AMT'],\n      dtype='object')"
     },
     "execution_count": 82,
     "metadata": {},
     "output_type": "execute_result"
    }
   ],
   "source": [
    "UTD_Orig_Data.columns"
   ],
   "metadata": {
    "collapsed": false,
    "pycharm": {
     "name": "#%%\n"
    }
   }
  },
  {
   "cell_type": "code",
   "execution_count": 83,
   "id": "56e924c6",
   "metadata": {},
   "outputs": [
    {
     "data": {
      "text/plain": "A     16571\nB     16351\nC     10613\nB+     8511\nC+     4549\nA+     3426\nD      2811\nB-       95\nC-       31\nD+       14\nF        10\nName: Credit_tier, dtype: int64"
     },
     "execution_count": 83,
     "metadata": {},
     "output_type": "execute_result"
    }
   ],
   "source": [
    "UTD_Orig_Data['Credit_tier'].value_counts()"
   ]
  },
  {
   "cell_type": "code",
   "execution_count": 84,
   "id": "849f1e1c",
   "metadata": {},
   "outputs": [
    {
     "name": "stdout",
     "output_type": "stream",
     "text": [
      "<class 'pandas.core.frame.DataFrame'>\n",
      "RangeIndex: 62982 entries, 0 to 62981\n",
      "Data columns (total 5 columns):\n",
      " #   Column            Non-Null Count  Dtype  \n",
      "---  ------            --------------  -----  \n",
      " 0   Masked_Account    62982 non-null  object \n",
      " 1   Applicant_state   62982 non-null  object \n",
      " 2   Credit_tier       62982 non-null  object \n",
      " 3   Loan-Term_length  62982 non-null  int32  \n",
      " 4   PAYMENT_AMT       62982 non-null  float64\n",
      "dtypes: float64(1), int32(1), object(3)\n",
      "memory usage: 2.2+ MB\n"
     ]
    }
   ],
   "source": [
    "UTD_Orig_Data.info()"
   ]
  },
  {
   "cell_type": "code",
   "execution_count": 85,
   "id": "31e641c8",
   "metadata": {},
   "outputs": [
    {
     "data": {
      "text/plain": "(62982, 5)"
     },
     "execution_count": 85,
     "metadata": {},
     "output_type": "execute_result"
    }
   ],
   "source": [
    "UTD_Orig_Data.shape"
   ]
  },
  {
   "cell_type": "code",
   "execution_count": 86,
   "outputs": [],
   "source": [
    "dill.dump(UTD_Orig_Data, open('./Data/UTD_Orig_Data.pkl', 'wb'))"
   ],
   "metadata": {
    "collapsed": false,
    "pycharm": {
     "name": "#%%\n"
    }
   }
  },
  {
   "cell_type": "code",
   "execution_count": 70,
   "outputs": [],
   "source": [
    "UTD_Orig_Data = dill.load(open('./Data/UTD_Orig_Data.pkl', 'rb'))"
   ],
   "metadata": {
    "collapsed": false,
    "pycharm": {
     "name": "#%%\n"
    }
   }
  },
  {
   "cell_type": "markdown",
   "id": "cc3d8aa3",
   "metadata": {},
   "source": [
    "### Outcome_payment"
   ]
  },
  {
   "cell_type": "code",
   "execution_count": 59,
   "id": "90f65609",
   "metadata": {},
   "outputs": [],
   "source": [
    "names4 = pd.read_excel('./Data/Data dictionary for UTD dataset.xlsx', sheet_name='UTD_Outcome_Payment')\n",
    "name4 = names4['Column Field'].tolist()"
   ]
  },
  {
   "cell_type": "code",
   "execution_count": 60,
   "id": "ccfd99f7",
   "metadata": {},
   "outputs": [
    {
     "name": "stdout",
     "output_type": "stream",
     "text": [
      "<class 'pandas.core.frame.DataFrame'>\n",
      "RangeIndex: 213232 entries, 0 to 213231\n",
      "Data columns (total 3 columns):\n",
      " #   Column             Non-Null Count   Dtype \n",
      "---  ------             --------------   ----- \n",
      " 0   Masked_Account     213232 non-null  object\n",
      " 1   Payment_Date       213232 non-null  object\n",
      " 2   Full_Payment_Flag  213232 non-null  object\n",
      "dtypes: object(3)\n",
      "memory usage: 4.9+ MB\n"
     ]
    }
   ],
   "source": [
    "df5 = pd.read_csv('./Data/UTD_Outcome_payment.csv', names = name4)\n",
    "df5.info()"
   ]
  },
  {
   "cell_type": "code",
   "execution_count": 61,
   "id": "f6ad032f",
   "metadata": {},
   "outputs": [
    {
     "data": {
      "text/plain": "                                           Masked_Account  Payment_Date  \\\n0                                          masked_account  PAYMENT_DATE   \n1       0x6E8265A329C20A464208CB69DFC299366B6C6762C8B5...     7/12/2019   \n2       0x71E3F423450542A4B598E1CBB652F5F9DB28D3FEEBF3...      4/1/2019   \n3       0x71E3F423450542A4B598E1CBB652F5F9DB28D3FEEBF3...     5/29/2019   \n4       0x8F3A986C9F904BBFEC3356834E93EA25A8C03E1A6BEA...     5/29/2019   \n...                                                   ...           ...   \n213227  0x39B5CF764C09F9E29660FEE28D62917153B34B78BAF9...     4/14/2019   \n213228  0x73C732C0691BD5DE84F139F20E80B593C682048923B8...      5/3/2019   \n213229  0x49B0557842411D77B0FDA4A0AEAD9B6738D970FADC49...     6/21/2019   \n213230  0x7060E9AFF223F61EDFB4AFA7A3BCD3039E15D038D92E...     7/24/2019   \n213231  0x78D5E5E663CA3255A0A30DFA9DFD929259AA5C7DCCFE...     7/29/2019   \n\n        Full_Payment_Flag  \n0       Full_Payment_Flag  \n1                       1  \n2                       0  \n3                       1  \n4                       1  \n...                   ...  \n213227                  1  \n213228                  1  \n213229                  1  \n213230                  0  \n213231                  1  \n\n[213232 rows x 3 columns]",
      "text/html": "<div>\n<style scoped>\n    .dataframe tbody tr th:only-of-type {\n        vertical-align: middle;\n    }\n\n    .dataframe tbody tr th {\n        vertical-align: top;\n    }\n\n    .dataframe thead th {\n        text-align: right;\n    }\n</style>\n<table border=\"1\" class=\"dataframe\">\n  <thead>\n    <tr style=\"text-align: right;\">\n      <th></th>\n      <th>Masked_Account</th>\n      <th>Payment_Date</th>\n      <th>Full_Payment_Flag</th>\n    </tr>\n  </thead>\n  <tbody>\n    <tr>\n      <th>0</th>\n      <td>masked_account</td>\n      <td>PAYMENT_DATE</td>\n      <td>Full_Payment_Flag</td>\n    </tr>\n    <tr>\n      <th>1</th>\n      <td>0x6E8265A329C20A464208CB69DFC299366B6C6762C8B5...</td>\n      <td>7/12/2019</td>\n      <td>1</td>\n    </tr>\n    <tr>\n      <th>2</th>\n      <td>0x71E3F423450542A4B598E1CBB652F5F9DB28D3FEEBF3...</td>\n      <td>4/1/2019</td>\n      <td>0</td>\n    </tr>\n    <tr>\n      <th>3</th>\n      <td>0x71E3F423450542A4B598E1CBB652F5F9DB28D3FEEBF3...</td>\n      <td>5/29/2019</td>\n      <td>1</td>\n    </tr>\n    <tr>\n      <th>4</th>\n      <td>0x8F3A986C9F904BBFEC3356834E93EA25A8C03E1A6BEA...</td>\n      <td>5/29/2019</td>\n      <td>1</td>\n    </tr>\n    <tr>\n      <th>...</th>\n      <td>...</td>\n      <td>...</td>\n      <td>...</td>\n    </tr>\n    <tr>\n      <th>213227</th>\n      <td>0x39B5CF764C09F9E29660FEE28D62917153B34B78BAF9...</td>\n      <td>4/14/2019</td>\n      <td>1</td>\n    </tr>\n    <tr>\n      <th>213228</th>\n      <td>0x73C732C0691BD5DE84F139F20E80B593C682048923B8...</td>\n      <td>5/3/2019</td>\n      <td>1</td>\n    </tr>\n    <tr>\n      <th>213229</th>\n      <td>0x49B0557842411D77B0FDA4A0AEAD9B6738D970FADC49...</td>\n      <td>6/21/2019</td>\n      <td>1</td>\n    </tr>\n    <tr>\n      <th>213230</th>\n      <td>0x7060E9AFF223F61EDFB4AFA7A3BCD3039E15D038D92E...</td>\n      <td>7/24/2019</td>\n      <td>0</td>\n    </tr>\n    <tr>\n      <th>213231</th>\n      <td>0x78D5E5E663CA3255A0A30DFA9DFD929259AA5C7DCCFE...</td>\n      <td>7/29/2019</td>\n      <td>1</td>\n    </tr>\n  </tbody>\n</table>\n<p>213232 rows × 3 columns</p>\n</div>"
     },
     "execution_count": 61,
     "metadata": {},
     "output_type": "execute_result"
    }
   ],
   "source": [
    "df5"
   ]
  },
  {
   "cell_type": "code",
   "execution_count": 62,
   "id": "039b5f9b",
   "metadata": {},
   "outputs": [
    {
     "data": {
      "text/plain": "                                           Masked_Account Payment_Date  \\\n0       0x6E8265A329C20A464208CB69DFC299366B6C6762C8B5...    7/12/2019   \n1       0x71E3F423450542A4B598E1CBB652F5F9DB28D3FEEBF3...     4/1/2019   \n2       0x71E3F423450542A4B598E1CBB652F5F9DB28D3FEEBF3...    5/29/2019   \n3       0x8F3A986C9F904BBFEC3356834E93EA25A8C03E1A6BEA...    5/29/2019   \n4       0x8F3A986C9F904BBFEC3356834E93EA25A8C03E1A6BEA...    6/28/2019   \n...                                                   ...          ...   \n213226  0x39B5CF764C09F9E29660FEE28D62917153B34B78BAF9...    4/14/2019   \n213227  0x73C732C0691BD5DE84F139F20E80B593C682048923B8...     5/3/2019   \n213228  0x49B0557842411D77B0FDA4A0AEAD9B6738D970FADC49...    6/21/2019   \n213229  0x7060E9AFF223F61EDFB4AFA7A3BCD3039E15D038D92E...    7/24/2019   \n213230  0x78D5E5E663CA3255A0A30DFA9DFD929259AA5C7DCCFE...    7/29/2019   \n\n       Full_Payment_Flag  \n0                      1  \n1                      0  \n2                      1  \n3                      1  \n4                      1  \n...                  ...  \n213226                 1  \n213227                 1  \n213228                 1  \n213229                 0  \n213230                 1  \n\n[213231 rows x 3 columns]",
      "text/html": "<div>\n<style scoped>\n    .dataframe tbody tr th:only-of-type {\n        vertical-align: middle;\n    }\n\n    .dataframe tbody tr th {\n        vertical-align: top;\n    }\n\n    .dataframe thead th {\n        text-align: right;\n    }\n</style>\n<table border=\"1\" class=\"dataframe\">\n  <thead>\n    <tr style=\"text-align: right;\">\n      <th></th>\n      <th>Masked_Account</th>\n      <th>Payment_Date</th>\n      <th>Full_Payment_Flag</th>\n    </tr>\n  </thead>\n  <tbody>\n    <tr>\n      <th>0</th>\n      <td>0x6E8265A329C20A464208CB69DFC299366B6C6762C8B5...</td>\n      <td>7/12/2019</td>\n      <td>1</td>\n    </tr>\n    <tr>\n      <th>1</th>\n      <td>0x71E3F423450542A4B598E1CBB652F5F9DB28D3FEEBF3...</td>\n      <td>4/1/2019</td>\n      <td>0</td>\n    </tr>\n    <tr>\n      <th>2</th>\n      <td>0x71E3F423450542A4B598E1CBB652F5F9DB28D3FEEBF3...</td>\n      <td>5/29/2019</td>\n      <td>1</td>\n    </tr>\n    <tr>\n      <th>3</th>\n      <td>0x8F3A986C9F904BBFEC3356834E93EA25A8C03E1A6BEA...</td>\n      <td>5/29/2019</td>\n      <td>1</td>\n    </tr>\n    <tr>\n      <th>4</th>\n      <td>0x8F3A986C9F904BBFEC3356834E93EA25A8C03E1A6BEA...</td>\n      <td>6/28/2019</td>\n      <td>1</td>\n    </tr>\n    <tr>\n      <th>...</th>\n      <td>...</td>\n      <td>...</td>\n      <td>...</td>\n    </tr>\n    <tr>\n      <th>213226</th>\n      <td>0x39B5CF764C09F9E29660FEE28D62917153B34B78BAF9...</td>\n      <td>4/14/2019</td>\n      <td>1</td>\n    </tr>\n    <tr>\n      <th>213227</th>\n      <td>0x73C732C0691BD5DE84F139F20E80B593C682048923B8...</td>\n      <td>5/3/2019</td>\n      <td>1</td>\n    </tr>\n    <tr>\n      <th>213228</th>\n      <td>0x49B0557842411D77B0FDA4A0AEAD9B6738D970FADC49...</td>\n      <td>6/21/2019</td>\n      <td>1</td>\n    </tr>\n    <tr>\n      <th>213229</th>\n      <td>0x7060E9AFF223F61EDFB4AFA7A3BCD3039E15D038D92E...</td>\n      <td>7/24/2019</td>\n      <td>0</td>\n    </tr>\n    <tr>\n      <th>213230</th>\n      <td>0x78D5E5E663CA3255A0A30DFA9DFD929259AA5C7DCCFE...</td>\n      <td>7/29/2019</td>\n      <td>1</td>\n    </tr>\n  </tbody>\n</table>\n<p>213231 rows × 3 columns</p>\n</div>"
     },
     "execution_count": 62,
     "metadata": {},
     "output_type": "execute_result"
    }
   ],
   "source": [
    "df5.drop(df5.index[0], inplace = True)\n",
    "df5.reset_index(inplace = True, drop = True)\n",
    "UTD_Outcome_payment = df5\n",
    "UTD_Outcome_payment"
   ]
  },
  {
   "cell_type": "code",
   "execution_count": 63,
   "outputs": [
    {
     "name": "stdout",
     "output_type": "stream",
     "text": [
      "<class 'pandas.core.frame.DataFrame'>\n",
      "RangeIndex: 213231 entries, 0 to 213230\n",
      "Data columns (total 3 columns):\n",
      " #   Column             Non-Null Count   Dtype         \n",
      "---  ------             --------------   -----         \n",
      " 0   Masked_Account     213231 non-null  object        \n",
      " 1   Payment_Date       213231 non-null  datetime64[ns]\n",
      " 2   Full_Payment_Flag  213231 non-null  int32         \n",
      "dtypes: datetime64[ns](1), int32(1), object(1)\n",
      "memory usage: 4.1+ MB\n"
     ]
    }
   ],
   "source": [
    "UTD_Outcome_payment = UTD_Outcome_payment.astype({\"Payment_Date\": 'datetime64[ns]'})\n",
    "UTD_Outcome_payment = UTD_Outcome_payment.astype({\"Full_Payment_Flag\": int})\n",
    "UTD_Outcome_payment.info()"
   ],
   "metadata": {
    "collapsed": false,
    "pycharm": {
     "name": "#%%\n"
    }
   }
  },
  {
   "cell_type": "code",
   "execution_count": 64,
   "outputs": [
    {
     "data": {
      "text/plain": "                                      Masked_Account Payment_Date  \\\n0  0x6E8265A329C20A464208CB69DFC299366B6C6762C8B5...   2019-07-12   \n1  0x71E3F423450542A4B598E1CBB652F5F9DB28D3FEEBF3...   2019-04-01   \n2  0x71E3F423450542A4B598E1CBB652F5F9DB28D3FEEBF3...   2019-05-29   \n3  0x8F3A986C9F904BBFEC3356834E93EA25A8C03E1A6BEA...   2019-05-29   \n4  0x8F3A986C9F904BBFEC3356834E93EA25A8C03E1A6BEA...   2019-06-28   \n\n   Full_Payment_Flag  \n0                  1  \n1                  0  \n2                  1  \n3                  1  \n4                  1  ",
      "text/html": "<div>\n<style scoped>\n    .dataframe tbody tr th:only-of-type {\n        vertical-align: middle;\n    }\n\n    .dataframe tbody tr th {\n        vertical-align: top;\n    }\n\n    .dataframe thead th {\n        text-align: right;\n    }\n</style>\n<table border=\"1\" class=\"dataframe\">\n  <thead>\n    <tr style=\"text-align: right;\">\n      <th></th>\n      <th>Masked_Account</th>\n      <th>Payment_Date</th>\n      <th>Full_Payment_Flag</th>\n    </tr>\n  </thead>\n  <tbody>\n    <tr>\n      <th>0</th>\n      <td>0x6E8265A329C20A464208CB69DFC299366B6C6762C8B5...</td>\n      <td>2019-07-12</td>\n      <td>1</td>\n    </tr>\n    <tr>\n      <th>1</th>\n      <td>0x71E3F423450542A4B598E1CBB652F5F9DB28D3FEEBF3...</td>\n      <td>2019-04-01</td>\n      <td>0</td>\n    </tr>\n    <tr>\n      <th>2</th>\n      <td>0x71E3F423450542A4B598E1CBB652F5F9DB28D3FEEBF3...</td>\n      <td>2019-05-29</td>\n      <td>1</td>\n    </tr>\n    <tr>\n      <th>3</th>\n      <td>0x8F3A986C9F904BBFEC3356834E93EA25A8C03E1A6BEA...</td>\n      <td>2019-05-29</td>\n      <td>1</td>\n    </tr>\n    <tr>\n      <th>4</th>\n      <td>0x8F3A986C9F904BBFEC3356834E93EA25A8C03E1A6BEA...</td>\n      <td>2019-06-28</td>\n      <td>1</td>\n    </tr>\n  </tbody>\n</table>\n</div>"
     },
     "execution_count": 64,
     "metadata": {},
     "output_type": "execute_result"
    }
   ],
   "source": [
    "UTD_Outcome_payment.head()"
   ],
   "metadata": {
    "collapsed": false,
    "pycharm": {
     "name": "#%%\n"
    }
   }
  },
  {
   "cell_type": "code",
   "execution_count": 65,
   "outputs": [
    {
     "data": {
      "text/plain": "(213231, 3)"
     },
     "execution_count": 65,
     "metadata": {},
     "output_type": "execute_result"
    }
   ],
   "source": [
    "UTD_Outcome_payment.shape"
   ],
   "metadata": {
    "collapsed": false,
    "pycharm": {
     "name": "#%%\n"
    }
   }
  },
  {
   "cell_type": "markdown",
   "source": [
    "# Merging Data Sets"
   ],
   "metadata": {
    "collapsed": false
   }
  },
  {
   "cell_type": "code",
   "execution_count": null,
   "outputs": [],
   "source": [
    "UTD_DPD_target_s = dill.load(open('./Data/UTD_DPD_target_s.pkl', 'rb'))\n",
    "UTD_Orig_Data = dill.load(open('./Data/UTD_Orig_Data.pkl', 'rb'))\n",
    "UTD_Data = dill.load(open('./Data/UTD_Data.pkl', 'rb'))"
   ],
   "metadata": {
    "collapsed": false,
    "pycharm": {
     "name": "#%%\n"
    }
   }
  },
  {
   "cell_type": "code",
   "execution_count": 101,
   "outputs": [
    {
     "name": "stdout",
     "output_type": "stream",
     "text": [
      "Wall time: 6.7 s\n"
     ]
    }
   ],
   "source": [
    "%%time\n",
    "# merging data sets with closest dates\n",
    "df = pd.merge(UTD_DPD_target_s, UTD_Data, left_on=['Masked_Account','Business_Date_x'], right_on = ['Masked_Account','PullDate'], how=\"inner\")"
   ],
   "metadata": {
    "collapsed": false,
    "pycharm": {
     "name": "#%%\n"
    }
   }
  },
  {
   "cell_type": "code",
   "execution_count": 102,
   "outputs": [
    {
     "data": {
      "text/plain": "((34624, 88), (55351, 4), (5727358, 85))"
     },
     "execution_count": 102,
     "metadata": {},
     "output_type": "execute_result"
    }
   ],
   "source": [
    "df.shape , UTD_DPD_target_s.shape , UTD_Data.shape"
   ],
   "metadata": {
    "collapsed": false,
    "pycharm": {
     "name": "#%%\n"
    }
   }
  },
  {
   "cell_type": "code",
   "execution_count": 103,
   "outputs": [
    {
     "data": {
      "text/plain": "                                      Masked_Account Business_Date_x  \\\n0  0x0000892A3160BBCC4BDFC8F29945E683ADC3AC16CE13...      2019-05-26   \n1  0x0004D32CDC5CE901D210ED22646D6CBCF05E890455AE...      2019-05-15   \n2  0x0008FDC08BE2FFBD50937B4ECD181EF1FEF42C0A8C08...      2019-05-26   \n3  0x000EC0A463EDA256613B8369D5095E0464C90CF08F5E...      2019-05-05   \n4  0x000FB5CBB3D3FA4B9144890C691CB1957A33D44FF708...      2019-04-21   \n\n   Principal Balance_x  target   PullDate  Veh_Value  ApplicantFICOScore  \\\n0             16643.90       0 2019-05-26      15879                 545   \n1             14233.83       0 2019-05-15      21307                 587   \n2             20368.92       0 2019-05-26      24788                 524   \n3              9454.04       0 2019-05-05      19750                   0   \n4             10194.23       0 2019-04-21       9700                   0   \n\n      DTI     LTV  PTI_BOOKED  SalesTax  AMOUNT_FINANCED  Appl_Debt  \\\n0  0.3850  1.2568      0.0735   1286.94       19956.6895    2327.52   \n1  0.3687  1.0168      0.0929   1309.88       21665.8809    1915.03   \n2  0.1294  1.1093      0.0731   1197.70       27496.8301    1033.78   \n3  0.1608  1.0770      0.1048   1397.91       21270.9609     739.68   \n4  0.2693  1.1943      0.0890    983.39       11584.8896     885.46   \n\n   Appl_Income  PTI_Approved  CUSTOM_SCORE  DTI_RATIO  MOB  DOWN_CASH  \\\n0       6045.5        0.0504           520     0.3850   31     1700.0   \n1       5194.0        0.0822           468     0.3687   39     2000.0   \n2       7989.0        0.0555           557     0.1294   28     4000.0   \n3       4600.0        0.0956           578     0.1608   54     3500.0   \n4       3288.0        0.0692           541     0.2693   16     3000.0   \n\n   FINANCED_AMOUNT  BACKEND_TOTAL  LINE4_LTV  ContactCount  \\\n0         19956.69         3394.0 -1748.9570           1.0   \n1         21665.88          795.0  -499.0205           NaN   \n2         27496.83         2895.0  -999.0076           3.0   \n3         21270.96            0.0     1.0770           NaN   \n4         11584.89          895.0     1.1020           3.0   \n\n   F0066_CONTACT_NO_PROMISE_COUNT  DSL_NSF  F0315_DAYS_SINCE_LAST_PROMISE_1  \\\n0                            10.0      NaN                             23.0   \n1                             5.0      NaN                            275.0   \n2                             4.0    208.0                             27.0   \n3                            29.0      NaN                            133.0   \n4                             2.0    402.0                             53.0   \n\n   F0065_PROMISES_TAKEN_COUNT  F0068_ATTEMPTED_CONTACT_COUNT  \\\n0                         9.0                          549.0   \n1                        12.0                           11.0   \n2                        20.0                          259.0   \n3                        53.0                          549.0   \n4                         2.0                          379.0   \n\n   F0071_CORRESPONDENCE_COUNT  F0089_PROMISE_AMT_1  \\\n0                        59.0               444.26   \n1                        63.0               482.63   \n2                        54.0               583.66   \n3                        64.0               500.00   \n4                        27.0              1131.82   \n\n   F0283_PROMISES_KEPT_LIFE_TO_DATE  F0304_TODAY_MINUS_PROMISES_TAKEN_DATE  \\\n0                               0.0                                   45.0   \n1                               0.0                                  304.0   \n2                               7.0                                   27.0   \n3                               2.0                                  143.0   \n4                               1.0                                   53.0   \n\n   F0305_TODAY_MINUS_CONTACT_NO_PROMISE_DATE  \\\n0                                      172.0   \n1                                      237.0   \n2                                       82.0   \n3                                      136.0   \n4                                       46.0   \n\n   F0306_TODAY_MINUS_LEFT_MESSAGES_DATE  \\\n0                                 885.0   \n1                                 906.0   \n2                                 615.0   \n3                                 784.0   \n4                                   NaN   \n\n   F0307_TODAY_MINUS_ATTEMPTED_CONTACT_DATE  \\\n0                                      17.0   \n1                                      50.0   \n2                                      70.0   \n3                                     117.0   \n4                                       3.0   \n\n   F0314_TODAY_MINUS_DAYS_LAST_CONTACT  F0317_DAYS_SINCE_LAST_LETTER  \\\n0                                 45.0                          45.0   \n1                                237.0                         304.0   \n2                                 27.0                         276.0   \n3                                136.0                         335.0   \n4                                 46.0                           3.0   \n\n   F0320_TODAY_MINUS_DAYS_LAST_MONETARY  F0381_DAYS_DELINQUENT_360  \\\n0                                  17.0                        2.0   \n1                                  38.0                        2.0   \n2                                  27.0                        2.0   \n3                                  34.0                        2.0   \n4                                   2.0                        2.0   \n\n  F0385_LAST_NSF_DATE  PROMISE_STATUS_O  BALANCE_PERCENT_LOAN  \\\n0                 NaT                 0                0.8340   \n1                 NaT                 0                0.6569   \n2          2018-10-30                 0                0.7407   \n3                 NaT                 0                0.4444   \n4          2018-03-15                 0                0.8799   \n\n   F0146_PAST_DUE_PAYMENTS  DSLP  DSL_ext  DAY_OF_MONTH_DUE_DATE  \\\n0                   444.26  17.0     44.0                   25.0   \n1                   480.26  38.0    303.0                   14.0   \n2                   583.66  27.0    275.0                   25.0   \n3                   384.71  34.0    334.0                    4.0   \n4                   278.04   2.0      NaN                   20.0   \n\n   EXTENSION_ELIGIBLE_Y  F0145_BALANCE  F0180_CURRENT_INTEREST_RATE  \\\n0                     0       16643.90                       0.1675   \n1                     1       14233.83                       0.1678   \n2                     1       20368.92                       0.1499   \n3                     1        9454.04                       0.1775   \n4                     1       10194.23                       0.1995   \n\n   F0198_NUMBER_OF_PAYMENTS_PAID  F0217_NSF_HISTORY  \\\n0                           26.0                0.0   \n1                           36.0                0.0   \n2                           27.0            10010.0   \n3                           51.0                0.0   \n4                           15.0                0.0   \n\n   F0223_NUMBER_OF_EXTENSIONS  PMT_RAT_OBS  lastchannel_Z  \\\n0                         4.0       1.0450              1   \n1                         2.0       0.0000              1   \n2                         1.0       1.0000              1   \n3                         2.0       0.0000              1   \n4                         0.0       1.0499              1   \n\n   LatefeeAmtLast120Days  PaymentAmtLast120Days  PaymentAmtLast30Days  \\\n0                   0.00                1352.78                464.26   \n1                   0.00                1930.52                  0.00   \n2                   0.00                2363.82                583.66   \n3                   0.00                2000.00                  0.00   \n4                  43.87                2920.94                307.30   \n\n   PaymentAmtLast60Days  PaymentAmtLast90Days  PaymentNumLast120Days  \\\n0                464.26                908.52                      3   \n1                482.63                965.26                      4   \n2               1167.32               1780.16                      4   \n3                500.00               1500.00                      4   \n4               2570.94               2920.94                      6   \n\n   PmtNumFullAmtLast60Days  LIFETIME_COUNT_Paymentus_Debit  D31P_TOT_2  \\\n0                        1                               0         0.0   \n1                        1                               0         0.0   \n2                        2                               0         0.0   \n3                        1                               0         0.0   \n4                        3                               0         9.0   \n\n   D9P_TOT_2  D9P_TOT_3  D9P_TOT_4  D9P_TOT_6  D5P_TOT_4  D5P_TOT_1  \\\n0       17.0       19.0       19.0       24.0       34.0       11.0   \n1        0.0        0.0        0.0        0.0        0.0        0.0   \n2        0.0       13.0       13.0       32.0       20.0        1.0   \n3        0.0        0.0        0.0       10.0        1.0        0.0   \n4       31.0       61.0       91.0      147.0       95.0       27.0   \n\n   D31P_TOT_6  DD_AVG_1  BAL_RAT_TRN_3  BAL_RAT_TRN_6  PMT_RAT_AVG_1  \\\n0         0.0       0.0           0.01           0.01          103.0   \n1         0.0     -12.0           0.03           0.04          100.0   \n2         0.0      -9.0           0.04           0.04          100.0   \n3         0.0     -12.0           0.06           0.04          104.0   \n4       103.0      16.0           0.07           0.03          330.0   \n\n   PMT_RAT_AVG_2  PMT_RAT_AVG_3  PMT_RAT_AVG_4  BAL_TRN_3  BAL_TRN_6  \\\n0          101.0          101.0          101.0      -2.02      -2.29   \n1          100.0          100.0          100.0      -6.37      -7.88   \n2          100.0          101.0          100.0     -10.90     -10.99   \n3          104.0          104.0          104.0     -12.10      -9.24   \n4          316.0          251.0          197.0      -7.77      -3.89   \n\n   CBTINDIRECTGEN23  CBTINDIRECTGEN30  REM_TM_RAT_OBS  LOANFUNDINGSCORE   VRS  \\\n0             477.0               NaN               0             429.0  21.0   \n1             468.0               NaN               0             478.0  70.0   \n2             557.0               NaN               0             552.0  66.0   \n3             585.0               NaN               0             538.0  58.0   \n4             541.0               NaN               0             541.0  40.0   \n\n    LTVEffective  DepreciationRate  INQ12_5 booked_yr_mo Applicant_state  \\\n0   92466.111111          0.539007      NaN   2016-10-01              AZ   \n1  105435.777778          0.561752      NaN   2016-02-01              FL   \n2  150880.888889          0.641624      NaN   2017-01-01              FL   \n3   60993.806452          0.468657      NaN   2014-11-01              FL   \n4   65769.225806          0.798869      NaN   2017-12-01              OH   \n\n  Credit_tier  Loan-Term_length  PAYMENT_AMT  \n0           B                72       444.26  \n1           C                72       482.63  \n2           A                72       583.66  \n3           A                72       482.14  \n4          B+                66       292.67  ",
      "text/html": "<div>\n<style scoped>\n    .dataframe tbody tr th:only-of-type {\n        vertical-align: middle;\n    }\n\n    .dataframe tbody tr th {\n        vertical-align: top;\n    }\n\n    .dataframe thead th {\n        text-align: right;\n    }\n</style>\n<table border=\"1\" class=\"dataframe\">\n  <thead>\n    <tr style=\"text-align: right;\">\n      <th></th>\n      <th>Masked_Account</th>\n      <th>Business_Date_x</th>\n      <th>Principal Balance_x</th>\n      <th>target</th>\n      <th>PullDate</th>\n      <th>Veh_Value</th>\n      <th>ApplicantFICOScore</th>\n      <th>DTI</th>\n      <th>LTV</th>\n      <th>PTI_BOOKED</th>\n      <th>SalesTax</th>\n      <th>AMOUNT_FINANCED</th>\n      <th>Appl_Debt</th>\n      <th>Appl_Income</th>\n      <th>PTI_Approved</th>\n      <th>CUSTOM_SCORE</th>\n      <th>DTI_RATIO</th>\n      <th>MOB</th>\n      <th>DOWN_CASH</th>\n      <th>FINANCED_AMOUNT</th>\n      <th>BACKEND_TOTAL</th>\n      <th>LINE4_LTV</th>\n      <th>ContactCount</th>\n      <th>F0066_CONTACT_NO_PROMISE_COUNT</th>\n      <th>DSL_NSF</th>\n      <th>F0315_DAYS_SINCE_LAST_PROMISE_1</th>\n      <th>F0065_PROMISES_TAKEN_COUNT</th>\n      <th>F0068_ATTEMPTED_CONTACT_COUNT</th>\n      <th>F0071_CORRESPONDENCE_COUNT</th>\n      <th>F0089_PROMISE_AMT_1</th>\n      <th>F0283_PROMISES_KEPT_LIFE_TO_DATE</th>\n      <th>F0304_TODAY_MINUS_PROMISES_TAKEN_DATE</th>\n      <th>F0305_TODAY_MINUS_CONTACT_NO_PROMISE_DATE</th>\n      <th>F0306_TODAY_MINUS_LEFT_MESSAGES_DATE</th>\n      <th>F0307_TODAY_MINUS_ATTEMPTED_CONTACT_DATE</th>\n      <th>F0314_TODAY_MINUS_DAYS_LAST_CONTACT</th>\n      <th>F0317_DAYS_SINCE_LAST_LETTER</th>\n      <th>F0320_TODAY_MINUS_DAYS_LAST_MONETARY</th>\n      <th>F0381_DAYS_DELINQUENT_360</th>\n      <th>F0385_LAST_NSF_DATE</th>\n      <th>PROMISE_STATUS_O</th>\n      <th>BALANCE_PERCENT_LOAN</th>\n      <th>F0146_PAST_DUE_PAYMENTS</th>\n      <th>DSLP</th>\n      <th>DSL_ext</th>\n      <th>DAY_OF_MONTH_DUE_DATE</th>\n      <th>EXTENSION_ELIGIBLE_Y</th>\n      <th>F0145_BALANCE</th>\n      <th>F0180_CURRENT_INTEREST_RATE</th>\n      <th>F0198_NUMBER_OF_PAYMENTS_PAID</th>\n      <th>F0217_NSF_HISTORY</th>\n      <th>F0223_NUMBER_OF_EXTENSIONS</th>\n      <th>PMT_RAT_OBS</th>\n      <th>lastchannel_Z</th>\n      <th>LatefeeAmtLast120Days</th>\n      <th>PaymentAmtLast120Days</th>\n      <th>PaymentAmtLast30Days</th>\n      <th>PaymentAmtLast60Days</th>\n      <th>PaymentAmtLast90Days</th>\n      <th>PaymentNumLast120Days</th>\n      <th>PmtNumFullAmtLast60Days</th>\n      <th>LIFETIME_COUNT_Paymentus_Debit</th>\n      <th>D31P_TOT_2</th>\n      <th>D9P_TOT_2</th>\n      <th>D9P_TOT_3</th>\n      <th>D9P_TOT_4</th>\n      <th>D9P_TOT_6</th>\n      <th>D5P_TOT_4</th>\n      <th>D5P_TOT_1</th>\n      <th>D31P_TOT_6</th>\n      <th>DD_AVG_1</th>\n      <th>BAL_RAT_TRN_3</th>\n      <th>BAL_RAT_TRN_6</th>\n      <th>PMT_RAT_AVG_1</th>\n      <th>PMT_RAT_AVG_2</th>\n      <th>PMT_RAT_AVG_3</th>\n      <th>PMT_RAT_AVG_4</th>\n      <th>BAL_TRN_3</th>\n      <th>BAL_TRN_6</th>\n      <th>CBTINDIRECTGEN23</th>\n      <th>CBTINDIRECTGEN30</th>\n      <th>REM_TM_RAT_OBS</th>\n      <th>LOANFUNDINGSCORE</th>\n      <th>VRS</th>\n      <th>LTVEffective</th>\n      <th>DepreciationRate</th>\n      <th>INQ12_5</th>\n      <th>booked_yr_mo</th>\n      <th>Applicant_state</th>\n      <th>Credit_tier</th>\n      <th>Loan-Term_length</th>\n      <th>PAYMENT_AMT</th>\n    </tr>\n  </thead>\n  <tbody>\n    <tr>\n      <th>0</th>\n      <td>0x0000892A3160BBCC4BDFC8F29945E683ADC3AC16CE13...</td>\n      <td>2019-05-26</td>\n      <td>16643.90</td>\n      <td>0</td>\n      <td>2019-05-26</td>\n      <td>15879</td>\n      <td>545</td>\n      <td>0.3850</td>\n      <td>1.2568</td>\n      <td>0.0735</td>\n      <td>1286.94</td>\n      <td>19956.6895</td>\n      <td>2327.52</td>\n      <td>6045.5</td>\n      <td>0.0504</td>\n      <td>520</td>\n      <td>0.3850</td>\n      <td>31</td>\n      <td>1700.0</td>\n      <td>19956.69</td>\n      <td>3394.0</td>\n      <td>-1748.9570</td>\n      <td>1.0</td>\n      <td>10.0</td>\n      <td>NaN</td>\n      <td>23.0</td>\n      <td>9.0</td>\n      <td>549.0</td>\n      <td>59.0</td>\n      <td>444.26</td>\n      <td>0.0</td>\n      <td>45.0</td>\n      <td>172.0</td>\n      <td>885.0</td>\n      <td>17.0</td>\n      <td>45.0</td>\n      <td>45.0</td>\n      <td>17.0</td>\n      <td>2.0</td>\n      <td>NaT</td>\n      <td>0</td>\n      <td>0.8340</td>\n      <td>444.26</td>\n      <td>17.0</td>\n      <td>44.0</td>\n      <td>25.0</td>\n      <td>0</td>\n      <td>16643.90</td>\n      <td>0.1675</td>\n      <td>26.0</td>\n      <td>0.0</td>\n      <td>4.0</td>\n      <td>1.0450</td>\n      <td>1</td>\n      <td>0.00</td>\n      <td>1352.78</td>\n      <td>464.26</td>\n      <td>464.26</td>\n      <td>908.52</td>\n      <td>3</td>\n      <td>1</td>\n      <td>0</td>\n      <td>0.0</td>\n      <td>17.0</td>\n      <td>19.0</td>\n      <td>19.0</td>\n      <td>24.0</td>\n      <td>34.0</td>\n      <td>11.0</td>\n      <td>0.0</td>\n      <td>0.0</td>\n      <td>0.01</td>\n      <td>0.01</td>\n      <td>103.0</td>\n      <td>101.0</td>\n      <td>101.0</td>\n      <td>101.0</td>\n      <td>-2.02</td>\n      <td>-2.29</td>\n      <td>477.0</td>\n      <td>NaN</td>\n      <td>0</td>\n      <td>429.0</td>\n      <td>21.0</td>\n      <td>92466.111111</td>\n      <td>0.539007</td>\n      <td>NaN</td>\n      <td>2016-10-01</td>\n      <td>AZ</td>\n      <td>B</td>\n      <td>72</td>\n      <td>444.26</td>\n    </tr>\n    <tr>\n      <th>1</th>\n      <td>0x0004D32CDC5CE901D210ED22646D6CBCF05E890455AE...</td>\n      <td>2019-05-15</td>\n      <td>14233.83</td>\n      <td>0</td>\n      <td>2019-05-15</td>\n      <td>21307</td>\n      <td>587</td>\n      <td>0.3687</td>\n      <td>1.0168</td>\n      <td>0.0929</td>\n      <td>1309.88</td>\n      <td>21665.8809</td>\n      <td>1915.03</td>\n      <td>5194.0</td>\n      <td>0.0822</td>\n      <td>468</td>\n      <td>0.3687</td>\n      <td>39</td>\n      <td>2000.0</td>\n      <td>21665.88</td>\n      <td>795.0</td>\n      <td>-499.0205</td>\n      <td>NaN</td>\n      <td>5.0</td>\n      <td>NaN</td>\n      <td>275.0</td>\n      <td>12.0</td>\n      <td>11.0</td>\n      <td>63.0</td>\n      <td>482.63</td>\n      <td>0.0</td>\n      <td>304.0</td>\n      <td>237.0</td>\n      <td>906.0</td>\n      <td>50.0</td>\n      <td>237.0</td>\n      <td>304.0</td>\n      <td>38.0</td>\n      <td>2.0</td>\n      <td>NaT</td>\n      <td>0</td>\n      <td>0.6569</td>\n      <td>480.26</td>\n      <td>38.0</td>\n      <td>303.0</td>\n      <td>14.0</td>\n      <td>1</td>\n      <td>14233.83</td>\n      <td>0.1678</td>\n      <td>36.0</td>\n      <td>0.0</td>\n      <td>2.0</td>\n      <td>0.0000</td>\n      <td>1</td>\n      <td>0.00</td>\n      <td>1930.52</td>\n      <td>0.00</td>\n      <td>482.63</td>\n      <td>965.26</td>\n      <td>4</td>\n      <td>1</td>\n      <td>0</td>\n      <td>0.0</td>\n      <td>0.0</td>\n      <td>0.0</td>\n      <td>0.0</td>\n      <td>0.0</td>\n      <td>0.0</td>\n      <td>0.0</td>\n      <td>0.0</td>\n      <td>-12.0</td>\n      <td>0.03</td>\n      <td>0.04</td>\n      <td>100.0</td>\n      <td>100.0</td>\n      <td>100.0</td>\n      <td>100.0</td>\n      <td>-6.37</td>\n      <td>-7.88</td>\n      <td>468.0</td>\n      <td>NaN</td>\n      <td>0</td>\n      <td>478.0</td>\n      <td>70.0</td>\n      <td>105435.777778</td>\n      <td>0.561752</td>\n      <td>NaN</td>\n      <td>2016-02-01</td>\n      <td>FL</td>\n      <td>C</td>\n      <td>72</td>\n      <td>482.63</td>\n    </tr>\n    <tr>\n      <th>2</th>\n      <td>0x0008FDC08BE2FFBD50937B4ECD181EF1FEF42C0A8C08...</td>\n      <td>2019-05-26</td>\n      <td>20368.92</td>\n      <td>0</td>\n      <td>2019-05-26</td>\n      <td>24788</td>\n      <td>524</td>\n      <td>0.1294</td>\n      <td>1.1093</td>\n      <td>0.0731</td>\n      <td>1197.70</td>\n      <td>27496.8301</td>\n      <td>1033.78</td>\n      <td>7989.0</td>\n      <td>0.0555</td>\n      <td>557</td>\n      <td>0.1294</td>\n      <td>28</td>\n      <td>4000.0</td>\n      <td>27496.83</td>\n      <td>2895.0</td>\n      <td>-999.0076</td>\n      <td>3.0</td>\n      <td>4.0</td>\n      <td>208.0</td>\n      <td>27.0</td>\n      <td>20.0</td>\n      <td>259.0</td>\n      <td>54.0</td>\n      <td>583.66</td>\n      <td>7.0</td>\n      <td>27.0</td>\n      <td>82.0</td>\n      <td>615.0</td>\n      <td>70.0</td>\n      <td>27.0</td>\n      <td>276.0</td>\n      <td>27.0</td>\n      <td>2.0</td>\n      <td>2018-10-30</td>\n      <td>0</td>\n      <td>0.7407</td>\n      <td>583.66</td>\n      <td>27.0</td>\n      <td>275.0</td>\n      <td>25.0</td>\n      <td>1</td>\n      <td>20368.92</td>\n      <td>0.1499</td>\n      <td>27.0</td>\n      <td>10010.0</td>\n      <td>1.0</td>\n      <td>1.0000</td>\n      <td>1</td>\n      <td>0.00</td>\n      <td>2363.82</td>\n      <td>583.66</td>\n      <td>1167.32</td>\n      <td>1780.16</td>\n      <td>4</td>\n      <td>2</td>\n      <td>0</td>\n      <td>0.0</td>\n      <td>0.0</td>\n      <td>13.0</td>\n      <td>13.0</td>\n      <td>32.0</td>\n      <td>20.0</td>\n      <td>1.0</td>\n      <td>0.0</td>\n      <td>-9.0</td>\n      <td>0.04</td>\n      <td>0.04</td>\n      <td>100.0</td>\n      <td>100.0</td>\n      <td>101.0</td>\n      <td>100.0</td>\n      <td>-10.90</td>\n      <td>-10.99</td>\n      <td>557.0</td>\n      <td>NaN</td>\n      <td>0</td>\n      <td>552.0</td>\n      <td>66.0</td>\n      <td>150880.888889</td>\n      <td>0.641624</td>\n      <td>NaN</td>\n      <td>2017-01-01</td>\n      <td>FL</td>\n      <td>A</td>\n      <td>72</td>\n      <td>583.66</td>\n    </tr>\n    <tr>\n      <th>3</th>\n      <td>0x000EC0A463EDA256613B8369D5095E0464C90CF08F5E...</td>\n      <td>2019-05-05</td>\n      <td>9454.04</td>\n      <td>0</td>\n      <td>2019-05-05</td>\n      <td>19750</td>\n      <td>0</td>\n      <td>0.1608</td>\n      <td>1.0770</td>\n      <td>0.1048</td>\n      <td>1397.91</td>\n      <td>21270.9609</td>\n      <td>739.68</td>\n      <td>4600.0</td>\n      <td>0.0956</td>\n      <td>578</td>\n      <td>0.1608</td>\n      <td>54</td>\n      <td>3500.0</td>\n      <td>21270.96</td>\n      <td>0.0</td>\n      <td>1.0770</td>\n      <td>NaN</td>\n      <td>29.0</td>\n      <td>NaN</td>\n      <td>133.0</td>\n      <td>53.0</td>\n      <td>549.0</td>\n      <td>64.0</td>\n      <td>500.00</td>\n      <td>2.0</td>\n      <td>143.0</td>\n      <td>136.0</td>\n      <td>784.0</td>\n      <td>117.0</td>\n      <td>136.0</td>\n      <td>335.0</td>\n      <td>34.0</td>\n      <td>2.0</td>\n      <td>NaT</td>\n      <td>0</td>\n      <td>0.4444</td>\n      <td>384.71</td>\n      <td>34.0</td>\n      <td>334.0</td>\n      <td>4.0</td>\n      <td>1</td>\n      <td>9454.04</td>\n      <td>0.1775</td>\n      <td>51.0</td>\n      <td>0.0</td>\n      <td>2.0</td>\n      <td>0.0000</td>\n      <td>1</td>\n      <td>0.00</td>\n      <td>2000.00</td>\n      <td>0.00</td>\n      <td>500.00</td>\n      <td>1500.00</td>\n      <td>4</td>\n      <td>1</td>\n      <td>0</td>\n      <td>0.0</td>\n      <td>0.0</td>\n      <td>0.0</td>\n      <td>0.0</td>\n      <td>10.0</td>\n      <td>1.0</td>\n      <td>0.0</td>\n      <td>0.0</td>\n      <td>-12.0</td>\n      <td>0.06</td>\n      <td>0.04</td>\n      <td>104.0</td>\n      <td>104.0</td>\n      <td>104.0</td>\n      <td>104.0</td>\n      <td>-12.10</td>\n      <td>-9.24</td>\n      <td>585.0</td>\n      <td>NaN</td>\n      <td>0</td>\n      <td>538.0</td>\n      <td>58.0</td>\n      <td>60993.806452</td>\n      <td>0.468657</td>\n      <td>NaN</td>\n      <td>2014-11-01</td>\n      <td>FL</td>\n      <td>A</td>\n      <td>72</td>\n      <td>482.14</td>\n    </tr>\n    <tr>\n      <th>4</th>\n      <td>0x000FB5CBB3D3FA4B9144890C691CB1957A33D44FF708...</td>\n      <td>2019-04-21</td>\n      <td>10194.23</td>\n      <td>0</td>\n      <td>2019-04-21</td>\n      <td>9700</td>\n      <td>0</td>\n      <td>0.2693</td>\n      <td>1.1943</td>\n      <td>0.0890</td>\n      <td>983.39</td>\n      <td>11584.8896</td>\n      <td>885.46</td>\n      <td>3288.0</td>\n      <td>0.0692</td>\n      <td>541</td>\n      <td>0.2693</td>\n      <td>16</td>\n      <td>3000.0</td>\n      <td>11584.89</td>\n      <td>895.0</td>\n      <td>1.1020</td>\n      <td>3.0</td>\n      <td>2.0</td>\n      <td>402.0</td>\n      <td>53.0</td>\n      <td>2.0</td>\n      <td>379.0</td>\n      <td>27.0</td>\n      <td>1131.82</td>\n      <td>1.0</td>\n      <td>53.0</td>\n      <td>46.0</td>\n      <td>NaN</td>\n      <td>3.0</td>\n      <td>46.0</td>\n      <td>3.0</td>\n      <td>2.0</td>\n      <td>2.0</td>\n      <td>2018-03-15</td>\n      <td>0</td>\n      <td>0.8799</td>\n      <td>278.04</td>\n      <td>2.0</td>\n      <td>NaN</td>\n      <td>20.0</td>\n      <td>1</td>\n      <td>10194.23</td>\n      <td>0.1995</td>\n      <td>15.0</td>\n      <td>0.0</td>\n      <td>0.0</td>\n      <td>1.0499</td>\n      <td>1</td>\n      <td>43.87</td>\n      <td>2920.94</td>\n      <td>307.30</td>\n      <td>2570.94</td>\n      <td>2920.94</td>\n      <td>6</td>\n      <td>3</td>\n      <td>0</td>\n      <td>9.0</td>\n      <td>31.0</td>\n      <td>61.0</td>\n      <td>91.0</td>\n      <td>147.0</td>\n      <td>95.0</td>\n      <td>27.0</td>\n      <td>103.0</td>\n      <td>16.0</td>\n      <td>0.07</td>\n      <td>0.03</td>\n      <td>330.0</td>\n      <td>316.0</td>\n      <td>251.0</td>\n      <td>197.0</td>\n      <td>-7.77</td>\n      <td>-3.89</td>\n      <td>541.0</td>\n      <td>NaN</td>\n      <td>0</td>\n      <td>541.0</td>\n      <td>40.0</td>\n      <td>65769.225806</td>\n      <td>0.798869</td>\n      <td>NaN</td>\n      <td>2017-12-01</td>\n      <td>OH</td>\n      <td>B+</td>\n      <td>66</td>\n      <td>292.67</td>\n    </tr>\n  </tbody>\n</table>\n</div>"
     },
     "execution_count": 103,
     "metadata": {},
     "output_type": "execute_result"
    }
   ],
   "source": [
    "df = pd.merge(df, UTD_Orig_Data, on = \"Masked_Account\", how=\"left\")\n",
    "df.head()"
   ],
   "metadata": {
    "collapsed": false,
    "pycharm": {
     "name": "#%%\n"
    }
   }
  },
  {
   "cell_type": "code",
   "execution_count": 104,
   "outputs": [],
   "source": [
    "df.set_index(['Masked_Account'] , inplace = True)"
   ],
   "metadata": {
    "collapsed": false,
    "pycharm": {
     "name": "#%%\n"
    }
   }
  },
  {
   "cell_type": "code",
   "execution_count": 107,
   "outputs": [],
   "source": [
    "df['BookedDiff']=((df.Business_Date_x.dt.year - df.booked_yr_mo.dt.year) * 12) +(df.Business_Date_x.dt.month - df.booked_yr_mo.dt.month)\n",
    "df.drop(columns=['booked_yr_mo', 'PullDate' , 'Business_Date_x'], inplace = True)"
   ],
   "metadata": {
    "collapsed": false,
    "pycharm": {
     "name": "#%%\n"
    }
   }
  },
  {
   "cell_type": "code",
   "execution_count": 108,
   "outputs": [],
   "source": [
    "dill.dump(df, open( \"./Data/df.pkl\", \"wb\" ) )"
   ],
   "metadata": {
    "collapsed": false,
    "pycharm": {
     "name": "#%%\n"
    }
   }
  },
  {
   "cell_type": "code",
   "execution_count": 4,
   "outputs": [
    {
     "ename": "FileNotFoundError",
     "evalue": "[Errno 2] No such file or directory: './Data/df.pkl'",
     "output_type": "error",
     "traceback": [
      "\u001B[1;31m---------------------------------------------------------------------------\u001B[0m",
      "\u001B[1;31mFileNotFoundError\u001B[0m                         Traceback (most recent call last)",
      "\u001B[1;32mC:\\Users\\AXB190~1\\AppData\\Local\\Temp/ipykernel_28144/1887709744.py\u001B[0m in \u001B[0;36m<module>\u001B[1;34m\u001B[0m\n\u001B[1;32m----> 1\u001B[1;33m \u001B[0mdf\u001B[0m \u001B[1;33m=\u001B[0m \u001B[0mdill\u001B[0m\u001B[1;33m.\u001B[0m\u001B[0mload\u001B[0m\u001B[1;33m(\u001B[0m\u001B[0mopen\u001B[0m\u001B[1;33m(\u001B[0m \u001B[1;34m\"./Data/df.pkl\"\u001B[0m\u001B[1;33m,\u001B[0m \u001B[1;34m\"rb\"\u001B[0m \u001B[1;33m)\u001B[0m\u001B[1;33m)\u001B[0m\u001B[1;33m\u001B[0m\u001B[1;33m\u001B[0m\u001B[0m\n\u001B[0m",
      "\u001B[1;31mFileNotFoundError\u001B[0m: [Errno 2] No such file or directory: './Data/df.pkl'"
     ]
    }
   ],
   "source": [
    "df = dill.load(open( \"./Data/df.pkl\", \"rb\" ))"
   ],
   "metadata": {
    "collapsed": false,
    "pycharm": {
     "name": "#%%\n"
    }
   }
  },
  {
   "cell_type": "code",
   "execution_count": 14,
   "outputs": [
    {
     "data": {
      "text/plain": "6946"
     },
     "execution_count": 14,
     "metadata": {},
     "output_type": "execute_result"
    }
   ],
   "source": [
    "df.target.sum()"
   ],
   "metadata": {
    "collapsed": false,
    "pycharm": {
     "name": "#%%\n"
    }
   }
  },
  {
   "cell_type": "code",
   "execution_count": 15,
   "outputs": [
    {
     "name": "stdout",
     "output_type": "stream",
     "text": [
      "<class 'pandas.core.frame.DataFrame'>\n",
      "Index: 34624 entries, 0x0000892A3160BBCC4BDFC8F29945E683ADC3AC16CE13D66C272B70AEBA08B8E3 to 0xFFFC9A8709407BABDC5293E8DDB84972BEC52E8C57D09A7AD290BA954433C48B\n",
      "Data columns (total 89 columns):\n",
      " #   Column                                     Non-Null Count  Dtype         \n",
      "---  ------                                     --------------  -----         \n",
      " 0   Principal Balance_x                        34624 non-null  float64       \n",
      " 1   target                                     34624 non-null  int64         \n",
      " 2   Veh_Value                                  34624 non-null  int64         \n",
      " 3   ApplicantFICOScore                         34624 non-null  int64         \n",
      " 4   DTI                                        34624 non-null  float64       \n",
      " 5   LTV                                        34624 non-null  float64       \n",
      " 6   PTI_BOOKED                                 34624 non-null  float64       \n",
      " 7   SalesTax                                   34624 non-null  float64       \n",
      " 8   AMOUNT_FINANCED                            34624 non-null  float64       \n",
      " 9   Appl_Debt                                  34624 non-null  float64       \n",
      " 10  Appl_Income                                34624 non-null  float64       \n",
      " 11  PTI_Approved                               34624 non-null  float64       \n",
      " 12  CUSTOM_SCORE                               34624 non-null  int64         \n",
      " 13  DTI_RATIO                                  34624 non-null  float64       \n",
      " 14  MOB                                        34624 non-null  int64         \n",
      " 15  DOWN_CASH                                  34624 non-null  float64       \n",
      " 16  FINANCED_AMOUNT                            34624 non-null  float64       \n",
      " 17  BACKEND_TOTAL                              34624 non-null  float64       \n",
      " 18  LINE4_LTV                                  34624 non-null  float64       \n",
      " 19  ContactCount                               24219 non-null  float64       \n",
      " 20  F0066_CONTACT_NO_PROMISE_COUNT             31235 non-null  float64       \n",
      " 21  DSL_NSF                                    6498 non-null   float64       \n",
      " 22  F0315_DAYS_SINCE_LAST_PROMISE_1            32188 non-null  float64       \n",
      " 23  F0065_PROMISES_TAKEN_COUNT                 32977 non-null  float64       \n",
      " 24  F0068_ATTEMPTED_CONTACT_COUNT              33118 non-null  float64       \n",
      " 25  F0071_CORRESPONDENCE_COUNT                 31026 non-null  float64       \n",
      " 26  F0089_PROMISE_AMT_1                        32926 non-null  float64       \n",
      " 27  F0283_PROMISES_KEPT_LIFE_TO_DATE           32314 non-null  float64       \n",
      " 28  F0304_TODAY_MINUS_PROMISES_TAKEN_DATE      32248 non-null  float64       \n",
      " 29  F0305_TODAY_MINUS_CONTACT_NO_PROMISE_DATE  27184 non-null  float64       \n",
      " 30  F0306_TODAY_MINUS_LEFT_MESSAGES_DATE       19144 non-null  float64       \n",
      " 31  F0307_TODAY_MINUS_ATTEMPTED_CONTACT_DATE   31688 non-null  float64       \n",
      " 32  F0314_TODAY_MINUS_DAYS_LAST_CONTACT        32334 non-null  float64       \n",
      " 33  F0317_DAYS_SINCE_LAST_LETTER               25242 non-null  float64       \n",
      " 34  F0320_TODAY_MINUS_DAYS_LAST_MONETARY       34624 non-null  float64       \n",
      " 35  F0381_DAYS_DELINQUENT_360                  34624 non-null  float64       \n",
      " 36  F0385_LAST_NSF_DATE                        6498 non-null   datetime64[ns]\n",
      " 37  PROMISE_STATUS_O                           34624 non-null  int64         \n",
      " 38  BALANCE_PERCENT_LOAN                       34624 non-null  float64       \n",
      " 39  F0146_PAST_DUE_PAYMENTS                    34624 non-null  float64       \n",
      " 40  DSLP                                       33403 non-null  float64       \n",
      " 41  DSL_ext                                    17153 non-null  float64       \n",
      " 42  DAY_OF_MONTH_DUE_DATE                      34624 non-null  float64       \n",
      " 43  EXTENSION_ELIGIBLE_Y                       34624 non-null  int64         \n",
      " 44  F0145_BALANCE                              34624 non-null  float64       \n",
      " 45  F0180_CURRENT_INTEREST_RATE                34624 non-null  float64       \n",
      " 46  F0198_NUMBER_OF_PAYMENTS_PAID              34624 non-null  float64       \n",
      " 47  F0217_NSF_HISTORY                          34624 non-null  float64       \n",
      " 48  F0223_NUMBER_OF_EXTENSIONS                 34624 non-null  float64       \n",
      " 49  PMT_RAT_OBS                                34624 non-null  float64       \n",
      " 50  lastchannel_Z                              34624 non-null  int64         \n",
      " 51  LatefeeAmtLast120Days                      34624 non-null  float64       \n",
      " 52  PaymentAmtLast120Days                      34624 non-null  float64       \n",
      " 53  PaymentAmtLast30Days                       34624 non-null  float64       \n",
      " 54  PaymentAmtLast60Days                       34624 non-null  float64       \n",
      " 55  PaymentAmtLast90Days                       34624 non-null  float64       \n",
      " 56  PaymentNumLast120Days                      34624 non-null  int64         \n",
      " 57  PmtNumFullAmtLast60Days                    34624 non-null  int64         \n",
      " 58  LIFETIME_COUNT_Paymentus_Debit             34624 non-null  int64         \n",
      " 59  D31P_TOT_2                                 34624 non-null  float64       \n",
      " 60  D9P_TOT_2                                  34624 non-null  float64       \n",
      " 61  D9P_TOT_3                                  34624 non-null  float64       \n",
      " 62  D9P_TOT_4                                  34624 non-null  float64       \n",
      " 63  D9P_TOT_6                                  34624 non-null  float64       \n",
      " 64  D5P_TOT_4                                  34624 non-null  float64       \n",
      " 65  D5P_TOT_1                                  34624 non-null  float64       \n",
      " 66  D31P_TOT_6                                 34624 non-null  float64       \n",
      " 67  DD_AVG_1                                   34624 non-null  float64       \n",
      " 68  BAL_RAT_TRN_3                              34621 non-null  float64       \n",
      " 69  BAL_RAT_TRN_6                              34621 non-null  float64       \n",
      " 70  PMT_RAT_AVG_1                              34624 non-null  float64       \n",
      " 71  PMT_RAT_AVG_2                              34624 non-null  float64       \n",
      " 72  PMT_RAT_AVG_3                              34624 non-null  float64       \n",
      " 73  PMT_RAT_AVG_4                              34624 non-null  float64       \n",
      " 74  BAL_TRN_3                                  34624 non-null  float64       \n",
      " 75  BAL_TRN_6                                  34624 non-null  float64       \n",
      " 76  CBTINDIRECTGEN23                           29712 non-null  float64       \n",
      " 77  CBTINDIRECTGEN30                           691 non-null    float64       \n",
      " 78  REM_TM_RAT_OBS                             34624 non-null  int64         \n",
      " 79  LOANFUNDINGSCORE                           34624 non-null  float64       \n",
      " 80  VRS                                        34624 non-null  float64       \n",
      " 81  LTVEffective                               34624 non-null  float64       \n",
      " 82  DepreciationRate                           34624 non-null  float64       \n",
      " 83  INQ12_5                                    4731 non-null   float64       \n",
      " 84  Applicant_state                            34624 non-null  object        \n",
      " 85  Credit_tier                                34624 non-null  object        \n",
      " 86  Loan-Term_length                           34624 non-null  int32         \n",
      " 87  PAYMENT_AMT                                34624 non-null  float64       \n",
      " 88  BookedDiff                                 34624 non-null  int64         \n",
      "dtypes: datetime64[ns](1), float64(72), int32(1), int64(13), object(2)\n",
      "memory usage: 23.6+ MB\n"
     ]
    }
   ],
   "source": [
    "df.info()"
   ],
   "metadata": {
    "collapsed": false,
    "pycharm": {
     "name": "#%%\n"
    }
   }
  },
  {
   "cell_type": "markdown",
   "source": [
    "# Train Test Split"
   ],
   "metadata": {
    "collapsed": false,
    "pycharm": {
     "name": "#%% md\n"
    }
   }
  },
  {
   "cell_type": "code",
   "execution_count": 1,
   "outputs": [
    {
     "ename": "NameError",
     "evalue": "name 'df' is not defined",
     "output_type": "error",
     "traceback": [
      "\u001B[1;31m---------------------------------------------------------------------------\u001B[0m",
      "\u001B[1;31mNameError\u001B[0m                                 Traceback (most recent call last)",
      "\u001B[1;32mC:\\Users\\AXB190~1\\AppData\\Local\\Temp/ipykernel_28144/3642483941.py\u001B[0m in \u001B[0;36m<module>\u001B[1;34m\u001B[0m\n\u001B[0;32m      1\u001B[0m \u001B[1;32mfrom\u001B[0m \u001B[0msklearn\u001B[0m\u001B[1;33m.\u001B[0m\u001B[0mmodel_selection\u001B[0m \u001B[1;32mimport\u001B[0m \u001B[0mtrain_test_split\u001B[0m\u001B[1;33m\u001B[0m\u001B[1;33m\u001B[0m\u001B[0m\n\u001B[1;32m----> 2\u001B[1;33m X_train, X_test, y_train, y_test = train_test_split(df.drop(columns= ['target']), df.target,\n\u001B[0m\u001B[0;32m      3\u001B[0m                                                     \u001B[0mstratify\u001B[0m\u001B[1;33m=\u001B[0m\u001B[0mdf\u001B[0m\u001B[1;33m.\u001B[0m\u001B[0mtarget\u001B[0m\u001B[1;33m,\u001B[0m\u001B[1;33m\u001B[0m\u001B[1;33m\u001B[0m\u001B[0m\n\u001B[0;32m      4\u001B[0m                                                     \u001B[0mtest_size\u001B[0m\u001B[1;33m=\u001B[0m\u001B[1;36m0.25\u001B[0m\u001B[1;33m,\u001B[0m\u001B[1;33m\u001B[0m\u001B[1;33m\u001B[0m\u001B[0m\n\u001B[0;32m      5\u001B[0m                                                     random_state=41)\n",
      "\u001B[1;31mNameError\u001B[0m: name 'df' is not defined"
     ]
    }
   ],
   "source": [
    "from sklearn.model_selection import train_test_split\n",
    "X_train, X_test, y_train, y_test = train_test_split(df.drop(columns= ['target']), df.target,\n",
    "                                                    stratify=df.target,\n",
    "                                                    test_size=0.25,\n",
    "                                                    random_state=41)"
   ],
   "metadata": {
    "collapsed": false,
    "pycharm": {
     "name": "#%%\n"
    }
   }
  },
  {
   "cell_type": "code",
   "execution_count": 17,
   "outputs": [
    {
     "data": {
      "text/plain": "((25968, 88), (8656, 88), (25968,), (8656,))"
     },
     "execution_count": 17,
     "metadata": {},
     "output_type": "execute_result"
    }
   ],
   "source": [
    "X_train.shape , X_test.shape , y_train.shape , y_test.shape"
   ],
   "metadata": {
    "collapsed": false,
    "pycharm": {
     "name": "#%%\n"
    }
   }
  },
  {
   "cell_type": "markdown",
   "source": [
    "# Missing Values"
   ],
   "metadata": {
    "collapsed": false,
    "pycharm": {
     "name": "#%% md\n"
    }
   }
  },
  {
   "cell_type": "code",
   "execution_count": 18,
   "outputs": [
    {
     "data": {
      "text/plain": "CBTINDIRECTGEN30              0.981015\nINQ12_5                       0.863255\nF0385_LAST_NSF_DATE           0.813578\nDSL_NSF                       0.813578\nDSL_ext                       0.504891\n                                ...   \nF0223_NUMBER_OF_EXTENSIONS    0.000000\nPMT_RAT_OBS                   0.000000\nlastchannel_Z                 0.000000\nLatefeeAmtLast120Days         0.000000\nBookedDiff                    0.000000\nLength: 88, dtype: float64"
     },
     "execution_count": 18,
     "metadata": {},
     "output_type": "execute_result"
    }
   ],
   "source": [
    "(X_train.isna().sum()/X_train.shape[0]).sort_values(ascending=False)"
   ],
   "metadata": {
    "collapsed": false,
    "pycharm": {
     "name": "#%%\n"
    }
   }
  },
  {
   "cell_type": "code",
   "execution_count": 19,
   "outputs": [],
   "source": [
    "X_train.drop(['DSL_NSF', 'F0385_LAST_NSF_DATE','CBTINDIRECTGEN30','INQ12_5', 'DSL_ext', 'F0306_TODAY_MINUS_LEFT_MESSAGES_DATE' , 'F0317_DAYS_SINCE_LAST_LETTER' ], axis = 1, inplace = True)\n",
    "# 'Masked_Account', 'Business_Date', 'PullDate',\n",
    "X_test.drop(['DSL_NSF', 'F0385_LAST_NSF_DATE','CBTINDIRECTGEN30','INQ12_5', 'DSL_ext', 'F0306_TODAY_MINUS_LEFT_MESSAGES_DATE' , 'F0317_DAYS_SINCE_LAST_LETTER' ], axis = 1, inplace = True)"
   ],
   "metadata": {
    "collapsed": false,
    "pycharm": {
     "name": "#%%\n"
    }
   }
  },
  {
   "cell_type": "code",
   "execution_count": 20,
   "outputs": [
    {
     "name": "stdout",
     "output_type": "stream",
     "text": [
      "<class 'pandas.core.frame.DataFrame'>\n",
      "Index: 25968 entries, 0xC3AFB5C6DD801530916F0C31FBD01BBC6E31B07052CAB42E42B42DE82128D4BE to 0xFB6A5D64BD6901BD4964C6B0251E78415F3F2A2A0D191A04A7A0E96CDC135A49\n",
      "Data columns (total 81 columns):\n",
      " #   Column                                     Non-Null Count  Dtype  \n",
      "---  ------                                     --------------  -----  \n",
      " 0   Principal Balance_x                        25968 non-null  float64\n",
      " 1   Veh_Value                                  25968 non-null  int64  \n",
      " 2   ApplicantFICOScore                         25968 non-null  int64  \n",
      " 3   DTI                                        25968 non-null  float64\n",
      " 4   LTV                                        25968 non-null  float64\n",
      " 5   PTI_BOOKED                                 25968 non-null  float64\n",
      " 6   SalesTax                                   25968 non-null  float64\n",
      " 7   AMOUNT_FINANCED                            25968 non-null  float64\n",
      " 8   Appl_Debt                                  25968 non-null  float64\n",
      " 9   Appl_Income                                25968 non-null  float64\n",
      " 10  PTI_Approved                               25968 non-null  float64\n",
      " 11  CUSTOM_SCORE                               25968 non-null  int64  \n",
      " 12  DTI_RATIO                                  25968 non-null  float64\n",
      " 13  MOB                                        25968 non-null  int64  \n",
      " 14  DOWN_CASH                                  25968 non-null  float64\n",
      " 15  FINANCED_AMOUNT                            25968 non-null  float64\n",
      " 16  BACKEND_TOTAL                              25968 non-null  float64\n",
      " 17  LINE4_LTV                                  25968 non-null  float64\n",
      " 18  ContactCount                               18142 non-null  float64\n",
      " 19  F0066_CONTACT_NO_PROMISE_COUNT             23434 non-null  float64\n",
      " 20  F0315_DAYS_SINCE_LAST_PROMISE_1            24154 non-null  float64\n",
      " 21  F0065_PROMISES_TAKEN_COUNT                 24745 non-null  float64\n",
      " 22  F0068_ATTEMPTED_CONTACT_COUNT              24845 non-null  float64\n",
      " 23  F0071_CORRESPONDENCE_COUNT                 23261 non-null  float64\n",
      " 24  F0089_PROMISE_AMT_1                        24704 non-null  float64\n",
      " 25  F0283_PROMISES_KEPT_LIFE_TO_DATE           24234 non-null  float64\n",
      " 26  F0304_TODAY_MINUS_PROMISES_TAKEN_DATE      24204 non-null  float64\n",
      " 27  F0305_TODAY_MINUS_CONTACT_NO_PROMISE_DATE  20380 non-null  float64\n",
      " 28  F0307_TODAY_MINUS_ATTEMPTED_CONTACT_DATE   23788 non-null  float64\n",
      " 29  F0314_TODAY_MINUS_DAYS_LAST_CONTACT        24253 non-null  float64\n",
      " 30  F0320_TODAY_MINUS_DAYS_LAST_MONETARY       25968 non-null  float64\n",
      " 31  F0381_DAYS_DELINQUENT_360                  25968 non-null  float64\n",
      " 32  PROMISE_STATUS_O                           25968 non-null  int64  \n",
      " 33  BALANCE_PERCENT_LOAN                       25968 non-null  float64\n",
      " 34  F0146_PAST_DUE_PAYMENTS                    25968 non-null  float64\n",
      " 35  DSLP                                       25031 non-null  float64\n",
      " 36  DAY_OF_MONTH_DUE_DATE                      25968 non-null  float64\n",
      " 37  EXTENSION_ELIGIBLE_Y                       25968 non-null  int64  \n",
      " 38  F0145_BALANCE                              25968 non-null  float64\n",
      " 39  F0180_CURRENT_INTEREST_RATE                25968 non-null  float64\n",
      " 40  F0198_NUMBER_OF_PAYMENTS_PAID              25968 non-null  float64\n",
      " 41  F0217_NSF_HISTORY                          25968 non-null  float64\n",
      " 42  F0223_NUMBER_OF_EXTENSIONS                 25968 non-null  float64\n",
      " 43  PMT_RAT_OBS                                25968 non-null  float64\n",
      " 44  lastchannel_Z                              25968 non-null  int64  \n",
      " 45  LatefeeAmtLast120Days                      25968 non-null  float64\n",
      " 46  PaymentAmtLast120Days                      25968 non-null  float64\n",
      " 47  PaymentAmtLast30Days                       25968 non-null  float64\n",
      " 48  PaymentAmtLast60Days                       25968 non-null  float64\n",
      " 49  PaymentAmtLast90Days                       25968 non-null  float64\n",
      " 50  PaymentNumLast120Days                      25968 non-null  int64  \n",
      " 51  PmtNumFullAmtLast60Days                    25968 non-null  int64  \n",
      " 52  LIFETIME_COUNT_Paymentus_Debit             25968 non-null  int64  \n",
      " 53  D31P_TOT_2                                 25968 non-null  float64\n",
      " 54  D9P_TOT_2                                  25968 non-null  float64\n",
      " 55  D9P_TOT_3                                  25968 non-null  float64\n",
      " 56  D9P_TOT_4                                  25968 non-null  float64\n",
      " 57  D9P_TOT_6                                  25968 non-null  float64\n",
      " 58  D5P_TOT_4                                  25968 non-null  float64\n",
      " 59  D5P_TOT_1                                  25968 non-null  float64\n",
      " 60  D31P_TOT_6                                 25968 non-null  float64\n",
      " 61  DD_AVG_1                                   25968 non-null  float64\n",
      " 62  BAL_RAT_TRN_3                              25965 non-null  float64\n",
      " 63  BAL_RAT_TRN_6                              25965 non-null  float64\n",
      " 64  PMT_RAT_AVG_1                              25968 non-null  float64\n",
      " 65  PMT_RAT_AVG_2                              25968 non-null  float64\n",
      " 66  PMT_RAT_AVG_3                              25968 non-null  float64\n",
      " 67  PMT_RAT_AVG_4                              25968 non-null  float64\n",
      " 68  BAL_TRN_3                                  25968 non-null  float64\n",
      " 69  BAL_TRN_6                                  25968 non-null  float64\n",
      " 70  CBTINDIRECTGEN23                           22292 non-null  float64\n",
      " 71  REM_TM_RAT_OBS                             25968 non-null  int64  \n",
      " 72  LOANFUNDINGSCORE                           25968 non-null  float64\n",
      " 73  VRS                                        25968 non-null  float64\n",
      " 74  LTVEffective                               25968 non-null  float64\n",
      " 75  DepreciationRate                           25968 non-null  float64\n",
      " 76  Applicant_state                            25968 non-null  object \n",
      " 77  Credit_tier                                25968 non-null  object \n",
      " 78  Loan-Term_length                           25968 non-null  int32  \n",
      " 79  PAYMENT_AMT                                25968 non-null  float64\n",
      " 80  BookedDiff                                 25968 non-null  int64  \n",
      "dtypes: float64(66), int32(1), int64(12), object(2)\n",
      "memory usage: 16.1+ MB\n"
     ]
    }
   ],
   "source": [
    "X_train.info()"
   ],
   "metadata": {
    "collapsed": false,
    "pycharm": {
     "name": "#%%\n"
    }
   }
  },
  {
   "cell_type": "markdown",
   "source": [
    "# Categorical Data Encoding\n",
    "https://towardsdatascience.com/benchmarking-categorical-encoders-9c322bd77ee8\n",
    "https://github.com/DenisVorotyntsev/CategoricalEncodingBenchmark\n",
    "https://medium.com/@pouryaayria/k-fold-target-encoding-dfe9a594874b"
   ],
   "metadata": {
    "collapsed": false,
    "pycharm": {
     "name": "#%% md\n"
    }
   }
  },
  {
   "cell_type": "code",
   "execution_count": 21,
   "outputs": [
    {
     "data": {
      "text/plain": "['Applicant_state', 'Credit_tier']"
     },
     "execution_count": 21,
     "metadata": {},
     "output_type": "execute_result"
    }
   ],
   "source": [
    "X_train.select_dtypes(include=['object']).columns.tolist()"
   ],
   "metadata": {
    "collapsed": false,
    "pycharm": {
     "name": "#%%\n"
    }
   }
  },
  {
   "cell_type": "code",
   "execution_count": 22,
   "outputs": [
    {
     "data": {
      "text/plain": "LA    3076\nTX    2884\nFL    2556\nPA    1947\nNY    1445\nOH    1420\nAL    1127\nIN     911\nNC     888\nTN     798\nIL     791\nMI     733\nOK     710\nVA     693\nGA     673\nKY     643\nMS     639\nSC     443\nMD     417\nNM     406\nAZ     404\nNJ     402\nMO     397\nWV     321\nCO     301\nMN     245\nWA     204\nNV     196\nKS      78\nAR      61\nDC      44\nDE      24\nWI      18\nCA      11\nIA      10\nCT      10\nUT      10\nOR       8\nSD       8\nMA       3\nVT       3\nAK       3\nNA       2\nHI       1\nPR       1\nNE       1\nID       1\nWY       1\nName: Applicant_state, dtype: int64"
     },
     "execution_count": 22,
     "metadata": {},
     "output_type": "execute_result"
    }
   ],
   "source": [
    "X_train.Applicant_state.value_counts(ascending=False)"
   ],
   "metadata": {
    "collapsed": false,
    "pycharm": {
     "name": "#%%\n"
    }
   }
  },
  {
   "cell_type": "code",
   "execution_count": 23,
   "outputs": [
    {
     "data": {
      "text/plain": "A     6426\nA+    1109\nB     7021\nB+    3487\nB-       7\nC     4646\nC+    1972\nC-       6\nD     1286\nD+       2\nF        6\nName: Credit_tier, dtype: int64"
     },
     "execution_count": 23,
     "metadata": {},
     "output_type": "execute_result"
    }
   ],
   "source": [
    "X_train.Credit_tier.value_counts().sort_index()"
   ],
   "metadata": {
    "collapsed": false,
    "pycharm": {
     "name": "#%%\n"
    }
   }
  },
  {
   "cell_type": "code",
   "execution_count": 24,
   "outputs": [
    {
     "name": "stdout",
     "output_type": "stream",
     "text": [
      "WOEEncoder Encoding of  Applicant_state\n",
      "One-hot encoding of  Credit_tier\n"
     ]
    }
   ],
   "source": [
    "from sklearn.preprocessing import OneHotEncoder\n",
    "from category_encoders import WOEEncoder\n",
    "from copy import deepcopy\n",
    "import joblib\n",
    "\n",
    "'''Save original columns that need to be droped or not used\n",
    "   Save One-hot and Label encoders for future use\n",
    "'''\n",
    "#Columns to drop from ML models\n",
    "cols_to_drop = []\n",
    "#Categorical encoders disctionary\n",
    "cat_encoders = {}\n",
    "#New categorical (encoded) columns\n",
    "cat_enc_columns = []\n",
    "\n",
    "for col in X_train.columns:\n",
    "    if X_train[col].dtype == 'object':\n",
    "        if X_train[col].nunique() < 20:\n",
    "            print(\"One-hot encoding of \", col)\n",
    "            enc = OneHotEncoder( handle_unknown='ignore', sparse=False)\n",
    "            enc.fit(X_train[[col]])\n",
    "            joblib.dump(enc, col + '_enc.joblib')\n",
    "            result = enc.transform(X_train[[col]])\n",
    "            ohe_columns = [col+\"_\"+str(x) for x in enc.categories_[0]]\n",
    "            cat_enc_columns = cat_enc_columns + ohe_columns\n",
    "            result_train = pd.DataFrame(result, columns=ohe_columns , index=X_train.index)\n",
    "            X_train = pd.concat([X_train, result_train.reindex(X_train.index)], axis=1 , join='inner')\n",
    "            '''Encode Testing'''\n",
    "            result = enc.transform(X_test[[col]])\n",
    "            result_test = pd.DataFrame(result, columns=ohe_columns , index=X_test.index)\n",
    "            X_test = pd.concat([X_test, result_test.reindex(X_test.index)], axis=1 , join='inner')\n",
    "            cat_encoders[col] = [deepcopy(enc),\"ohe\"]\n",
    "        else:\n",
    "            print(\"WOEEncoder Encoding of \", col)\n",
    "            enc = WOEEncoder()\n",
    "            enc.fit(X_train[col] , y = y_train , handle_unknown='value' )\n",
    "            dill.dump(enc, open(col+'_trg_'+'pre_processing.p', \"wb\"))\n",
    "            new_col_name = col+\"_trg\"\n",
    "            X_train[new_col_name] = enc.transform(X_train[[col]])\n",
    "            X_test[new_col_name] = enc.transform(X_test[[col]])\n",
    "            cat_encoders[col] = [deepcopy(enc),\"trg\"]\n",
    "            cat_enc_columns.append(new_col_name)\n",
    "\n",
    "\n",
    "        cols_to_drop.append(col)\n",
    "\n",
    "X_train.drop(cols_to_drop, axis=1, inplace=True)\n",
    "X_test.drop(cols_to_drop, axis=1, inplace=True)"
   ],
   "metadata": {
    "collapsed": false,
    "pycharm": {
     "name": "#%%\n"
    }
   }
  },
  {
   "cell_type": "code",
   "execution_count": 25,
   "outputs": [
    {
     "name": "stdout",
     "output_type": "stream",
     "text": [
      "CPU times: total: 234 ms\n",
      "Wall time: 500 ms\n"
     ]
    }
   ],
   "source": [
    "%%time\n",
    "# calling the  MICE class\n",
    "from sklearn.experimental import enable_iterative_imputer\n",
    "from sklearn.impute import SimpleImputer\n",
    "mice_imputer = SimpleImputer()\n",
    "# imputing the missing value with mice imputer\n",
    "X_train1 = mice_imputer.fit_transform(X_train)\n",
    "X_test1 = mice_imputer.transform(X_test)"
   ],
   "metadata": {
    "collapsed": false,
    "pycharm": {
     "name": "#%%\n"
    }
   }
  },
  {
   "cell_type": "code",
   "execution_count": 26,
   "outputs": [],
   "source": [
    "# https://github.com/AnotherSamWilson/miceforest\n",
    "# https://towardsdatascience.com/dealing-with-leaky-missing-data-in-a-production-environment-d48304ad3b6b\n",
    "import miceforest as mf\n",
    "np.random.seed(42)\n",
    "# Creating predictive mean matching kernel.\n",
    "kernel = mf.ImputationKernel(X_train, datasets=1, mean_match_candidates=5)\n",
    "# getting the imputed train data\n",
    "X_train_imp = kernel.complete_data(0)\n",
    "# getting the imputed test data\n",
    "X_test_imp = kernel.impute_new_data(X_test).complete_data(0)"
   ],
   "metadata": {
    "collapsed": false,
    "pycharm": {
     "name": "#%%\n"
    }
   }
  },
  {
   "cell_type": "code",
   "execution_count": 27,
   "outputs": [],
   "source": [
    "dill.dump(kernel, open('kernel.p', \"wb\"))"
   ],
   "metadata": {
    "collapsed": false,
    "pycharm": {
     "name": "#%%\n"
    }
   }
  },
  {
   "cell_type": "code",
   "execution_count": 51,
   "outputs": [
    {
     "name": "stdout",
     "output_type": "stream",
     "text": [
      "<class 'pandas.core.frame.DataFrame'>\n",
      "Index: 25968 entries, 0xC3AFB5C6DD801530916F0C31FBD01BBC6E31B07052CAB42E42B42DE82128D4BE to 0xFB6A5D64BD6901BD4964C6B0251E78415F3F2A2A0D191A04A7A0E96CDC135A49\n",
      "Data columns (total 91 columns):\n",
      " #   Column                                     Non-Null Count  Dtype  \n",
      "---  ------                                     --------------  -----  \n",
      " 0   Principal Balance_x                        25968 non-null  float64\n",
      " 1   Veh_Value                                  25968 non-null  int64  \n",
      " 2   ApplicantFICOScore                         25968 non-null  int64  \n",
      " 3   DTI                                        25968 non-null  float64\n",
      " 4   LTV                                        25968 non-null  float64\n",
      " 5   PTI_BOOKED                                 25968 non-null  float64\n",
      " 6   SalesTax                                   25968 non-null  float64\n",
      " 7   AMOUNT_FINANCED                            25968 non-null  float64\n",
      " 8   Appl_Debt                                  25968 non-null  float64\n",
      " 9   Appl_Income                                25968 non-null  float64\n",
      " 10  PTI_Approved                               25968 non-null  float64\n",
      " 11  CUSTOM_SCORE                               25968 non-null  int64  \n",
      " 12  DTI_RATIO                                  25968 non-null  float64\n",
      " 13  MOB                                        25968 non-null  int64  \n",
      " 14  DOWN_CASH                                  25968 non-null  float64\n",
      " 15  FINANCED_AMOUNT                            25968 non-null  float64\n",
      " 16  BACKEND_TOTAL                              25968 non-null  float64\n",
      " 17  LINE4_LTV                                  25968 non-null  float64\n",
      " 18  ContactCount                               25968 non-null  float64\n",
      " 19  F0066_CONTACT_NO_PROMISE_COUNT             25968 non-null  float64\n",
      " 20  F0315_DAYS_SINCE_LAST_PROMISE_1            25968 non-null  float64\n",
      " 21  F0065_PROMISES_TAKEN_COUNT                 25968 non-null  float64\n",
      " 22  F0068_ATTEMPTED_CONTACT_COUNT              25968 non-null  float64\n",
      " 23  F0071_CORRESPONDENCE_COUNT                 25968 non-null  float64\n",
      " 24  F0089_PROMISE_AMT_1                        25968 non-null  float64\n",
      " 25  F0283_PROMISES_KEPT_LIFE_TO_DATE           25968 non-null  float64\n",
      " 26  F0304_TODAY_MINUS_PROMISES_TAKEN_DATE      25968 non-null  float64\n",
      " 27  F0305_TODAY_MINUS_CONTACT_NO_PROMISE_DATE  25968 non-null  float64\n",
      " 28  F0307_TODAY_MINUS_ATTEMPTED_CONTACT_DATE   25968 non-null  float64\n",
      " 29  F0314_TODAY_MINUS_DAYS_LAST_CONTACT        25968 non-null  float64\n",
      " 30  F0320_TODAY_MINUS_DAYS_LAST_MONETARY       25968 non-null  float64\n",
      " 31  F0381_DAYS_DELINQUENT_360                  25968 non-null  float64\n",
      " 32  PROMISE_STATUS_O                           25968 non-null  int64  \n",
      " 33  BALANCE_PERCENT_LOAN                       25968 non-null  float64\n",
      " 34  F0146_PAST_DUE_PAYMENTS                    25968 non-null  float64\n",
      " 35  DSLP                                       25968 non-null  float64\n",
      " 36  DAY_OF_MONTH_DUE_DATE                      25968 non-null  float64\n",
      " 37  EXTENSION_ELIGIBLE_Y                       25968 non-null  int64  \n",
      " 38  F0145_BALANCE                              25968 non-null  float64\n",
      " 39  F0180_CURRENT_INTEREST_RATE                25968 non-null  float64\n",
      " 40  F0198_NUMBER_OF_PAYMENTS_PAID              25968 non-null  float64\n",
      " 41  F0217_NSF_HISTORY                          25968 non-null  float64\n",
      " 42  F0223_NUMBER_OF_EXTENSIONS                 25968 non-null  float64\n",
      " 43  PMT_RAT_OBS                                25968 non-null  float64\n",
      " 44  lastchannel_Z                              25968 non-null  int64  \n",
      " 45  LatefeeAmtLast120Days                      25968 non-null  float64\n",
      " 46  PaymentAmtLast120Days                      25968 non-null  float64\n",
      " 47  PaymentAmtLast30Days                       25968 non-null  float64\n",
      " 48  PaymentAmtLast60Days                       25968 non-null  float64\n",
      " 49  PaymentAmtLast90Days                       25968 non-null  float64\n",
      " 50  PaymentNumLast120Days                      25968 non-null  int64  \n",
      " 51  PmtNumFullAmtLast60Days                    25968 non-null  int64  \n",
      " 52  LIFETIME_COUNT_Paymentus_Debit             25968 non-null  int64  \n",
      " 53  D31P_TOT_2                                 25968 non-null  float64\n",
      " 54  D9P_TOT_2                                  25968 non-null  float64\n",
      " 55  D9P_TOT_3                                  25968 non-null  float64\n",
      " 56  D9P_TOT_4                                  25968 non-null  float64\n",
      " 57  D9P_TOT_6                                  25968 non-null  float64\n",
      " 58  D5P_TOT_4                                  25968 non-null  float64\n",
      " 59  D5P_TOT_1                                  25968 non-null  float64\n",
      " 60  D31P_TOT_6                                 25968 non-null  float64\n",
      " 61  DD_AVG_1                                   25968 non-null  float64\n",
      " 62  BAL_RAT_TRN_3                              25968 non-null  float64\n",
      " 63  BAL_RAT_TRN_6                              25968 non-null  float64\n",
      " 64  PMT_RAT_AVG_1                              25968 non-null  float64\n",
      " 65  PMT_RAT_AVG_2                              25968 non-null  float64\n",
      " 66  PMT_RAT_AVG_3                              25968 non-null  float64\n",
      " 67  PMT_RAT_AVG_4                              25968 non-null  float64\n",
      " 68  BAL_TRN_3                                  25968 non-null  float64\n",
      " 69  BAL_TRN_6                                  25968 non-null  float64\n",
      " 70  CBTINDIRECTGEN23                           25968 non-null  float64\n",
      " 71  REM_TM_RAT_OBS                             25968 non-null  int64  \n",
      " 72  LOANFUNDINGSCORE                           25968 non-null  float64\n",
      " 73  VRS                                        25968 non-null  float64\n",
      " 74  LTVEffective                               25968 non-null  float64\n",
      " 75  DepreciationRate                           25968 non-null  float64\n",
      " 76  Loan-Term_length                           25968 non-null  int32  \n",
      " 77  PAYMENT_AMT                                25968 non-null  float64\n",
      " 78  BookedDiff                                 25968 non-null  int64  \n",
      " 79  Applicant_state_trg                        25968 non-null  float64\n",
      " 80  Credit_tier_A                              25968 non-null  float64\n",
      " 81  Credit_tier_A+                             25968 non-null  float64\n",
      " 82  Credit_tier_B                              25968 non-null  float64\n",
      " 83  Credit_tier_B+                             25968 non-null  float64\n",
      " 84  Credit_tier_B-                             25968 non-null  float64\n",
      " 85  Credit_tier_C                              25968 non-null  float64\n",
      " 86  Credit_tier_C+                             25968 non-null  float64\n",
      " 87  Credit_tier_C-                             25968 non-null  float64\n",
      " 88  Credit_tier_D                              25968 non-null  float64\n",
      " 89  Credit_tier_D+                             25968 non-null  float64\n",
      " 90  Credit_tier_F                              25968 non-null  float64\n",
      "dtypes: float64(78), int32(1), int64(12)\n",
      "memory usage: 19.1+ MB\n"
     ]
    }
   ],
   "source": [
    "X_train_imp.info()"
   ],
   "metadata": {
    "collapsed": false,
    "pycharm": {
     "name": "#%%\n"
    }
   }
  },
  {
   "cell_type": "code",
   "execution_count": 52,
   "outputs": [
    {
     "data": {
      "text/plain": "((25968, 91), (8656, 91))"
     },
     "execution_count": 52,
     "metadata": {},
     "output_type": "execute_result"
    }
   ],
   "source": [
    "X_train_imp.shape , X_test_imp.shape"
   ],
   "metadata": {
    "collapsed": false,
    "pycharm": {
     "name": "#%%\n"
    }
   }
  },
  {
   "cell_type": "code",
   "execution_count": 32,
   "outputs": [],
   "source": [
    "dill.dump(X_train_imp, open(\"X_train_imp.p\", \"wb\"))\n",
    "dill.dump(X_test_imp, open(\"X_test_imp.p\", \"wb\"))"
   ],
   "metadata": {
    "collapsed": false,
    "pycharm": {
     "name": "#%%\n"
    }
   }
  },
  {
   "cell_type": "code",
   "execution_count": 103,
   "outputs": [],
   "source": [
    "dill.dump(y_train, open(\"./data/y_train.p\", \"wb\"))\n",
    "dill.dump(y_test, open(\"./data/y_test.p\", \"wb\"))"
   ],
   "metadata": {
    "collapsed": false,
    "pycharm": {
     "name": "#%%\n"
    }
   }
  },
  {
   "cell_type": "code",
   "execution_count": 8,
   "outputs": [],
   "source": [
    "X_train_imp = dill.load(open(\"./data/X_train_imp.p\", \"rb\"))\n",
    "X_test_imp = dill.load(open(\"./data/X_test_imp.p\", \"rb\"))\n",
    "y_train = dill.load(open(\"./data/y_train.p\", \"rb\"))\n",
    "y_test = dill.load(open(\"./data/y_test.p\", \"rb\"))"
   ],
   "metadata": {
    "collapsed": false,
    "pycharm": {
     "name": "#%%\n"
    }
   }
  },
  {
   "cell_type": "markdown",
   "source": [
    "# Feature Engineering"
   ],
   "metadata": {
    "collapsed": false,
    "pycharm": {
     "name": "#%% md\n"
    }
   }
  },
  {
   "cell_type": "code",
   "execution_count": 2,
   "outputs": [
    {
     "name": "stdout",
     "output_type": "stream",
     "text": [
      "Collecting autofeat\n",
      "  Downloading autofeat-2.0.10-py3-none-any.whl (24 kB)\n",
      "Collecting future\n",
      "  Using cached future-0.18.2.tar.gz (829 kB)\n",
      "  Preparing metadata (setup.py): started\n",
      "  Preparing metadata (setup.py): finished with status 'done'\n",
      "Collecting pint\n",
      "  Downloading Pint-0.19.2.tar.gz (292 kB)\n",
      "     ------------------------------------- 292.0/292.0 KB 18.8 MB/s eta 0:00:00\n",
      "  Installing build dependencies: started\n",
      "  Installing build dependencies: finished with status 'done'\n",
      "  Getting requirements to build wheel: started\n",
      "  Getting requirements to build wheel: finished with status 'done'\n",
      "  Preparing metadata (pyproject.toml): started\n",
      "  Preparing metadata (pyproject.toml): finished with status 'done'\n",
      "Collecting scikit-learn\n",
      "  Using cached scikit_learn-1.0.2-cp310-cp310-win_amd64.whl (7.2 MB)\n",
      "Collecting joblib\n",
      "  Using cached joblib-1.1.0-py2.py3-none-any.whl (306 kB)\n",
      "Collecting sympy>=1.7.1\n",
      "  Downloading sympy-1.10.1-py3-none-any.whl (6.4 MB)\n",
      "     ---------------------------------------- 6.4/6.4 MB 40.9 MB/s eta 0:00:00\n",
      "Requirement already satisfied: pandas>=0.24.0 in c:\\users\\axb190032\\appdata\\local\\programs\\python\\python310\\lib\\site-packages (from autofeat) (1.4.2)\n",
      "Requirement already satisfied: numpy in c:\\users\\axb190032\\appdata\\local\\programs\\python\\python310\\lib\\site-packages (from autofeat) (1.21.6)\n",
      "Requirement already satisfied: numba in c:\\users\\axb190032\\appdata\\local\\programs\\python\\python310\\lib\\site-packages (from autofeat) (0.55.1)\n",
      "Requirement already satisfied: python-dateutil>=2.8.1 in c:\\users\\axb190032\\appdata\\local\\programs\\python\\python310\\lib\\site-packages (from pandas>=0.24.0->autofeat) (2.8.2)\n",
      "Requirement already satisfied: pytz>=2020.1 in c:\\users\\axb190032\\appdata\\local\\programs\\python\\python310\\lib\\site-packages (from pandas>=0.24.0->autofeat) (2022.1)\n",
      "Collecting mpmath>=0.19\n",
      "  Downloading mpmath-1.2.1-py3-none-any.whl (532 kB)\n",
      "     ------------------------------------- 532.6/532.6 KB 34.8 MB/s eta 0:00:00\n",
      "Requirement already satisfied: setuptools in c:\\users\\axb190032\\appdata\\local\\programs\\python\\python310\\lib\\site-packages (from numba->autofeat) (62.1.0)\n",
      "Requirement already satisfied: llvmlite<0.39,>=0.38.0rc1 in c:\\users\\axb190032\\appdata\\local\\programs\\python\\python310\\lib\\site-packages (from numba->autofeat) (0.38.0)\n",
      "Collecting scipy>=1.1.0\n",
      "  Using cached scipy-1.8.0-cp310-cp310-win_amd64.whl (37.0 MB)\n",
      "Collecting threadpoolctl>=2.0.0\n",
      "  Using cached threadpoolctl-3.1.0-py3-none-any.whl (14 kB)\n",
      "Requirement already satisfied: six>=1.5 in c:\\users\\axb190032\\appdata\\local\\programs\\python\\python310\\lib\\site-packages (from python-dateutil>=2.8.1->pandas>=0.24.0->autofeat) (1.16.0)\n",
      "Using legacy 'setup.py install' for future, since package 'wheel' is not installed.\n",
      "Building wheels for collected packages: pint\n",
      "  Building wheel for pint (pyproject.toml): started\n",
      "  Building wheel for pint (pyproject.toml): finished with status 'done'\n",
      "  Created wheel for pint: filename=Pint-0.19.2-py3-none-any.whl size=231034 sha256=e70a9524b2206c6ec2b40fea28d0dc97315abbd71ab8a05afdee90db2f7f290c\n",
      "  Stored in directory: c:\\users\\axb190032\\appdata\\local\\pip\\cache\\wheels\\eb\\00\\87\\c216aa83b91597845d9fec6fcd9dbe31c945a25d968dd4765a\n",
      "Successfully built pint\n",
      "Installing collected packages: mpmath, threadpoolctl, sympy, scipy, pint, joblib, future, scikit-learn, autofeat\n",
      "  Running setup.py install for future: started\n",
      "  Running setup.py install for future: finished with status 'done'\n",
      "Successfully installed autofeat-2.0.10 future-0.18.2 joblib-1.1.0 mpmath-1.2.1 pint-0.19.2 scikit-learn-1.0.2 scipy-1.8.0 sympy-1.10.1 threadpoolctl-3.1.0\n"
     ]
    }
   ],
   "source": [
    "!pip install autofeat"
   ],
   "metadata": {
    "collapsed": false,
    "pycharm": {
     "name": "#%%\n"
    }
   }
  },
  {
   "cell_type": "code",
   "execution_count": 134,
   "outputs": [
    {
     "name": "stderr",
     "output_type": "stream",
     "text": [
      "C:\\Users\\axb190032\\AppData\\Local\\Programs\\Python\\Python310\\lib\\site-packages\\numpy\\core\\_methods.py:233: RuntimeWarning: overflow encountered in multiply\n",
      "  x = um.multiply(x, x, out=x)\n"
     ]
    },
    {
     "name": "stdout",
     "output_type": "stream",
     "text": [
      "CPU times: total: 5.86 s\n",
      "Wall time: 15min 49s\n"
     ]
    }
   ],
   "source": [
    "%%time\n",
    "from autofeat import AutoFeatClassifier\n",
    "auto_feat = AutoFeatClassifier(feateng_steps = 2 , n_jobs = -1)\n",
    "train_eng = auto_feat.fit_transform(X_train_imp.loc[:,['F0146_PAST_DUE_PAYMENTS',\n",
    "                                                       'F0068_ATTEMPTED_CONTACT_COUNT',\n",
    "                                                       'F0315_DAYS_SINCE_LAST_PROMISE_1',\n",
    "                                                       'F0305_TODAY_MINUS_CONTACT_NO_PROMISE_DATE',\n",
    "                                                       'F0320_TODAY_MINUS_DAYS_LAST_MONETARY',\n",
    "                                                       'Appl_Income']], y_train )"
   ],
   "metadata": {
    "collapsed": false,
    "pycharm": {
     "name": "#%%\n"
    }
   }
  },
  {
   "cell_type": "code",
   "execution_count": 135,
   "outputs": [],
   "source": [
    "train_eng.set_index(X_train_imp.index, inplace=True)\n",
    "train_eng.drop(['F0146_PAST_DUE_PAYMENTS',\n",
    "                'F0068_ATTEMPTED_CONTACT_COUNT',\n",
    "                'F0315_DAYS_SINCE_LAST_PROMISE_1',\n",
    "                'F0305_TODAY_MINUS_CONTACT_NO_PROMISE_DATE',\n",
    "                'F0320_TODAY_MINUS_DAYS_LAST_MONETARY',\n",
    "                'Appl_Income'], axis=1, inplace=True)"
   ],
   "metadata": {
    "collapsed": false,
    "pycharm": {
     "name": "#%%\n"
    }
   }
  },
  {
   "cell_type": "code",
   "execution_count": 136,
   "outputs": [],
   "source": [
    "test_eng =auto_feat.transform(X_test_imp.loc[:,['F0146_PAST_DUE_PAYMENTS',\n",
    "                                                'F0068_ATTEMPTED_CONTACT_COUNT',\n",
    "                                                'F0315_DAYS_SINCE_LAST_PROMISE_1',\n",
    "                                                'F0305_TODAY_MINUS_CONTACT_NO_PROMISE_DATE',\n",
    "                                                'F0320_TODAY_MINUS_DAYS_LAST_MONETARY',\n",
    "                                                'Appl_Income']])\n",
    "\n",
    "test_eng.set_index(X_test_imp.index, inplace=True)\n",
    "\n",
    "test_eng.drop(['F0146_PAST_DUE_PAYMENTS',\n",
    "               'F0068_ATTEMPTED_CONTACT_COUNT',\n",
    "               'F0315_DAYS_SINCE_LAST_PROMISE_1',\n",
    "               'F0305_TODAY_MINUS_CONTACT_NO_PROMISE_DATE',\n",
    "               'F0320_TODAY_MINUS_DAYS_LAST_MONETARY',\n",
    "               'Appl_Income'], axis=1, inplace=True)"
   ],
   "metadata": {
    "collapsed": false,
    "pycharm": {
     "name": "#%%\n"
    }
   }
  },
  {
   "cell_type": "code",
   "execution_count": 137,
   "outputs": [],
   "source": [
    "dill.dump(train_eng, open(\"./data/train_eng.p\", \"wb\"))\n",
    "dill.dump(test_eng, open(\"./data/test_eng.p\", \"wb\"))"
   ],
   "metadata": {
    "collapsed": false,
    "pycharm": {
     "name": "#%%\n"
    }
   }
  },
  {
   "cell_type": "code",
   "execution_count": 138,
   "outputs": [],
   "source": [
    "dill.dump(auto_feat, open(\"./auto_feat.p\", \"wb\"))"
   ],
   "metadata": {
    "collapsed": false,
    "pycharm": {
     "name": "#%%\n"
    }
   }
  },
  {
   "cell_type": "code",
   "execution_count": null,
   "outputs": [],
   "source": [
    "train_eng = dill.load(open(\"./data/train_eng.p\", \"rb\"))\n",
    "test_eng = dill.load(open(\"./data/test_eng.p\", \"rb\"))"
   ],
   "metadata": {
    "collapsed": false,
    "pycharm": {
     "name": "#%%\n"
    }
   }
  },
  {
   "cell_type": "code",
   "execution_count": 139,
   "outputs": [],
   "source": [
    "X_train_final = pd.concat([X_train_imp, train_eng], axis=1)\n",
    "X_test_final = pd.concat([X_test_imp, test_eng], axis=1)"
   ],
   "metadata": {
    "collapsed": false,
    "pycharm": {
     "name": "#%%\n"
    }
   }
  },
  {
   "cell_type": "code",
   "execution_count": 61,
   "outputs": [
    {
     "name": "stdout",
     "output_type": "stream",
     "text": [
      "<class 'pandas.core.frame.DataFrame'>\n",
      "Index: 25968 entries, 0xC3AFB5C6DD801530916F0C31FBD01BBC6E31B07052CAB42E42B42DE82128D4BE to 0xFB6A5D64BD6901BD4964C6B0251E78415F3F2A2A0D191A04A7A0E96CDC135A49\n",
      "Data columns (total 93 columns):\n",
      " #   Column                                                              Non-Null Count  Dtype  \n",
      "---  ------                                                              --------------  -----  \n",
      " 0   Principal Balance_x                                                 25968 non-null  float64\n",
      " 1   Veh_Value                                                           25968 non-null  int64  \n",
      " 2   ApplicantFICOScore                                                  25968 non-null  int64  \n",
      " 3   DTI                                                                 25968 non-null  float64\n",
      " 4   LTV                                                                 25968 non-null  float64\n",
      " 5   PTI_BOOKED                                                          25968 non-null  float64\n",
      " 6   SalesTax                                                            25968 non-null  float64\n",
      " 7   AMOUNT_FINANCED                                                     25968 non-null  float64\n",
      " 8   Appl_Debt                                                           25968 non-null  float64\n",
      " 9   Appl_Income                                                         25968 non-null  float64\n",
      " 10  PTI_Approved                                                        25968 non-null  float64\n",
      " 11  CUSTOM_SCORE                                                        25968 non-null  int64  \n",
      " 12  DTI_RATIO                                                           25968 non-null  float64\n",
      " 13  MOB                                                                 25968 non-null  int64  \n",
      " 14  DOWN_CASH                                                           25968 non-null  float64\n",
      " 15  FINANCED_AMOUNT                                                     25968 non-null  float64\n",
      " 16  BACKEND_TOTAL                                                       25968 non-null  float64\n",
      " 17  LINE4_LTV                                                           25968 non-null  float64\n",
      " 18  ContactCount                                                        25968 non-null  float64\n",
      " 19  F0066_CONTACT_NO_PROMISE_COUNT                                      25968 non-null  float64\n",
      " 20  F0315_DAYS_SINCE_LAST_PROMISE_1                                     25968 non-null  float64\n",
      " 21  F0065_PROMISES_TAKEN_COUNT                                          25968 non-null  float64\n",
      " 22  F0068_ATTEMPTED_CONTACT_COUNT                                       25968 non-null  float64\n",
      " 23  F0071_CORRESPONDENCE_COUNT                                          25968 non-null  float64\n",
      " 24  F0089_PROMISE_AMT_1                                                 25968 non-null  float64\n",
      " 25  F0283_PROMISES_KEPT_LIFE_TO_DATE                                    25968 non-null  float64\n",
      " 26  F0304_TODAY_MINUS_PROMISES_TAKEN_DATE                               25968 non-null  float64\n",
      " 27  F0305_TODAY_MINUS_CONTACT_NO_PROMISE_DATE                           25968 non-null  float64\n",
      " 28  F0307_TODAY_MINUS_ATTEMPTED_CONTACT_DATE                            25968 non-null  float64\n",
      " 29  F0314_TODAY_MINUS_DAYS_LAST_CONTACT                                 25968 non-null  float64\n",
      " 30  F0320_TODAY_MINUS_DAYS_LAST_MONETARY                                25968 non-null  float64\n",
      " 31  F0381_DAYS_DELINQUENT_360                                           25968 non-null  float64\n",
      " 32  PROMISE_STATUS_O                                                    25968 non-null  int64  \n",
      " 33  BALANCE_PERCENT_LOAN                                                25968 non-null  float64\n",
      " 34  F0146_PAST_DUE_PAYMENTS                                             25968 non-null  float64\n",
      " 35  DSLP                                                                25968 non-null  float64\n",
      " 36  DAY_OF_MONTH_DUE_DATE                                               25968 non-null  float64\n",
      " 37  EXTENSION_ELIGIBLE_Y                                                25968 non-null  int64  \n",
      " 38  F0145_BALANCE                                                       25968 non-null  float64\n",
      " 39  F0180_CURRENT_INTEREST_RATE                                         25968 non-null  float64\n",
      " 40  F0198_NUMBER_OF_PAYMENTS_PAID                                       25968 non-null  float64\n",
      " 41  F0217_NSF_HISTORY                                                   25968 non-null  float64\n",
      " 42  F0223_NUMBER_OF_EXTENSIONS                                          25968 non-null  float64\n",
      " 43  PMT_RAT_OBS                                                         25968 non-null  float64\n",
      " 44  lastchannel_Z                                                       25968 non-null  int64  \n",
      " 45  LatefeeAmtLast120Days                                               25968 non-null  float64\n",
      " 46  PaymentAmtLast120Days                                               25968 non-null  float64\n",
      " 47  PaymentAmtLast30Days                                                25968 non-null  float64\n",
      " 48  PaymentAmtLast60Days                                                25968 non-null  float64\n",
      " 49  PaymentAmtLast90Days                                                25968 non-null  float64\n",
      " 50  PaymentNumLast120Days                                               25968 non-null  int64  \n",
      " 51  PmtNumFullAmtLast60Days                                             25968 non-null  int64  \n",
      " 52  LIFETIME_COUNT_Paymentus_Debit                                      25968 non-null  int64  \n",
      " 53  D31P_TOT_2                                                          25968 non-null  float64\n",
      " 54  D9P_TOT_2                                                           25968 non-null  float64\n",
      " 55  D9P_TOT_3                                                           25968 non-null  float64\n",
      " 56  D9P_TOT_4                                                           25968 non-null  float64\n",
      " 57  D9P_TOT_6                                                           25968 non-null  float64\n",
      " 58  D5P_TOT_4                                                           25968 non-null  float64\n",
      " 59  D5P_TOT_1                                                           25968 non-null  float64\n",
      " 60  D31P_TOT_6                                                          25968 non-null  float64\n",
      " 61  DD_AVG_1                                                            25968 non-null  float64\n",
      " 62  BAL_RAT_TRN_3                                                       25968 non-null  float64\n",
      " 63  BAL_RAT_TRN_6                                                       25968 non-null  float64\n",
      " 64  PMT_RAT_AVG_1                                                       25968 non-null  float64\n",
      " 65  PMT_RAT_AVG_2                                                       25968 non-null  float64\n",
      " 66  PMT_RAT_AVG_3                                                       25968 non-null  float64\n",
      " 67  PMT_RAT_AVG_4                                                       25968 non-null  float64\n",
      " 68  BAL_TRN_3                                                           25968 non-null  float64\n",
      " 69  BAL_TRN_6                                                           25968 non-null  float64\n",
      " 70  CBTINDIRECTGEN23                                                    25968 non-null  float64\n",
      " 71  REM_TM_RAT_OBS                                                      25968 non-null  int64  \n",
      " 72  LOANFUNDINGSCORE                                                    25968 non-null  float64\n",
      " 73  VRS                                                                 25968 non-null  float64\n",
      " 74  LTVEffective                                                        25968 non-null  float64\n",
      " 75  DepreciationRate                                                    25968 non-null  float64\n",
      " 76  Loan-Term_length                                                    25968 non-null  int32  \n",
      " 77  PAYMENT_AMT                                                         25968 non-null  float64\n",
      " 78  BookedDiff                                                          25968 non-null  int64  \n",
      " 79  Applicant_state_trg                                                 25968 non-null  float64\n",
      " 80  Credit_tier_A                                                       25968 non-null  float64\n",
      " 81  Credit_tier_A+                                                      25968 non-null  float64\n",
      " 82  Credit_tier_B                                                       25968 non-null  float64\n",
      " 83  Credit_tier_B+                                                      25968 non-null  float64\n",
      " 84  Credit_tier_B-                                                      25968 non-null  float64\n",
      " 85  Credit_tier_C                                                       25968 non-null  float64\n",
      " 86  Credit_tier_C+                                                      25968 non-null  float64\n",
      " 87  Credit_tier_C-                                                      25968 non-null  float64\n",
      " 88  Credit_tier_D                                                       25968 non-null  float64\n",
      " 89  Credit_tier_D+                                                      25968 non-null  float64\n",
      " 90  Credit_tier_F                                                       25968 non-null  float64\n",
      " 91  sqrt(F0068_ATTEMPTED_CONTACT_COUNT)*LOANFUNDINGSCORE**3             25968 non-null  float64\n",
      " 92  LOANFUNDINGSCORE**2*log(F0305_TODAY_MINUS_CONTACT_NO_PROMISE_DATE)  25968 non-null  float64\n",
      "dtypes: float64(80), int32(1), int64(12)\n",
      "memory usage: 19.5+ MB\n"
     ]
    }
   ],
   "source": [
    "X_train_final.info()"
   ],
   "metadata": {
    "collapsed": false,
    "pycharm": {
     "name": "#%%\n"
    }
   }
  },
  {
   "cell_type": "code",
   "execution_count": 134,
   "outputs": [],
   "source": [
    "dill.dump(X_train_final, open(\"./data/X_train_final.p\", \"wb\"))\n",
    "dill.dump(X_test_final, open(\"./data/X_test_final.p\", \"wb\"))"
   ],
   "metadata": {
    "collapsed": false,
    "pycharm": {
     "name": "#%%\n"
    }
   }
  },
  {
   "cell_type": "code",
   "execution_count": 7,
   "outputs": [],
   "source": [
    "X_train_final = dill.load(open(\"./data/X_train_final.p\", \"rb\"))\n",
    "X_test_final = dill.load(open(\"./data/X_test_final.p\", \"rb\"))\n",
    "y_train = dill.load(open(\"./data/y_train.p\", \"rb\"))\n",
    "y_test = dill.load(open(\"/.data/y_test.p\", \"rb\"))"
   ],
   "metadata": {
    "collapsed": false,
    "pycharm": {
     "name": "#%%\n"
    }
   }
  },
  {
   "cell_type": "markdown",
   "source": [
    "# Model_Building"
   ],
   "metadata": {
    "collapsed": false,
    "pycharm": {
     "name": "#%% md\n"
    }
   }
  },
  {
   "cell_type": "markdown",
   "source": [
    "### Default LightGBM"
   ],
   "metadata": {
    "collapsed": false,
    "pycharm": {
     "name": "#%% md\n"
    }
   }
  },
  {
   "cell_type": "code",
   "execution_count": 128,
   "outputs": [
    {
     "name": "stdout",
     "output_type": "stream",
     "text": [
      "LightGBM default performance on train set: 0.92235\n",
      "LightGBM default performance on test set: 0.82491\n",
      "CPU times: total: 3.78 s\n",
      "Wall time: 9.83 s\n"
     ]
    }
   ],
   "source": [
    "%%time\n",
    "from sklearn.metrics import roc_auc_score\n",
    "import lightgbm as lgb\n",
    "lgb_default = lgb.LGBMClassifier()\n",
    "lgb_default.fit(X_train_final, y_train)\n",
    "\n",
    "print('LightGBM default performance on train set: {:.5f}'.format(roc_auc_score(y_train, lgb_default.predict_proba(X_train_final)[:, 1])))\n",
    "print('LightGBM default performance on test set: {:.5f}'.format(roc_auc_score(y_test, lgb_default.predict_proba(X_test_final)[:, 1])))"
   ],
   "metadata": {
    "collapsed": false,
    "pycharm": {
     "name": "#%%\n"
    }
   }
  },
  {
   "cell_type": "code",
   "execution_count": 105,
   "outputs": [],
   "source": [
    "dill.dump(lgb_default, open(\"lgb_default.p\", \"wb\"))"
   ],
   "metadata": {
    "collapsed": false,
    "pycharm": {
     "name": "#%%\n"
    }
   }
  },
  {
   "cell_type": "code",
   "execution_count": null,
   "outputs": [],
   "source": [
    "lgb_default = dill.load(open(\"lgb_default.p\", \"rb\"))"
   ],
   "metadata": {
    "collapsed": false,
    "pycharm": {
     "name": "#%%\n"
    }
   }
  },
  {
   "cell_type": "code",
   "execution_count": 116,
   "outputs": [
    {
     "name": "stdout",
     "output_type": "stream",
     "text": [
      "LightGBM Model test accuracy score: 0.8291\n",
      "LightGBM Model test confusion matrix: \n",
      " [[6579  341]\n",
      " [1138  598]]\n"
     ]
    }
   ],
   "source": [
    "from sklearn.metrics import confusion_matrix\n",
    "from sklearn.metrics import accuracy_score\n",
    "\n",
    "print('LightGBM Model test accuracy score: {0:0.4f}'.format(accuracy_score(y_test, lgb_default.predict(X_test_final))))\n",
    "print('LightGBM Model test confusion matrix: \\n', confusion_matrix(y_test, lgb_default.predict(X_test_final),))"
   ],
   "metadata": {
    "collapsed": false,
    "pycharm": {
     "name": "#%%\n"
    }
   }
  },
  {
   "cell_type": "code",
   "execution_count": 111,
   "outputs": [
    {
     "data": {
      "text/plain": "<Figure size 1440x1440 with 1 Axes>",
      "image/png": "[encoded data removed]"
     },
     "metadata": {
      "needs_background": "light"
     },
     "output_type": "display_data"
    }
   ],
   "source": [
    "import matplotlib.pyplot as plt\n",
    "import seaborn as sns\n",
    "import warnings\n",
    "warnings.simplefilter(action='ignore', category=FutureWarning)\n",
    "\n",
    "# sorted(zip(clf.feature_importances_, X.columns), reverse=True)\n",
    "feature_imp = pd.DataFrame(sorted(zip(lgb_default.feature_importances_,X_train_final.columns)), columns=['Value','Feature'])\n",
    "\n",
    "plt.figure(figsize=(20, 20))\n",
    "sns.barplot(x=\"Value\", y=\"Feature\", data=feature_imp.sort_values(by=\"Value\", ascending=False))\n",
    "plt.title('LightGBM Features (avg over folds)')\n",
    "plt.tight_layout()\n",
    "plt.show()"
   ],
   "metadata": {
    "collapsed": false,
    "pycharm": {
     "name": "#%%\n"
    }
   }
  },
  {
   "cell_type": "markdown",
   "source": [
    "### Default XGBoost"
   ],
   "metadata": {
    "collapsed": false,
    "pycharm": {
     "name": "#%% md\n"
    }
   }
  },
  {
   "cell_type": "code",
   "execution_count": 118,
   "outputs": [
    {
     "name": "stdout",
     "output_type": "stream",
     "text": [
      "XGBoost default performance on train set: 0.98135\n",
      "XGBoost default performance on test set: 0.80801\n"
     ]
    }
   ],
   "source": [
    "import xgboost as xgb\n",
    "xgb_default = xgb.XGBClassifier()\n",
    "xgb_default.fit(X_train_final, y_train)\n",
    "\n",
    "print('XGBoost default performance on train set: {:.5f}'.format(roc_auc_score(y_train, xgb_default.predict_proba(X_train_final)[:, 1])))\n",
    "print('XGBoost default performance on test set: {:.5f}'.format(roc_auc_score(y_test, xgb_default.predict_proba(X_test_final)[:, 1])))"
   ],
   "metadata": {
    "collapsed": false,
    "pycharm": {
     "name": "#%%\n"
    }
   }
  },
  {
   "cell_type": "code",
   "execution_count": 115,
   "outputs": [],
   "source": [
    "dill.dump(xgb_default, open(\"xgb_default.p\", \"wb\"))"
   ],
   "metadata": {
    "collapsed": false,
    "pycharm": {
     "name": "#%%\n"
    }
   }
  },
  {
   "cell_type": "code",
   "execution_count": null,
   "outputs": [],
   "source": [
    "xgb_default = dill.load(open(\"xgb_default.p\", \"rb\"))"
   ],
   "metadata": {
    "collapsed": false,
    "pycharm": {
     "name": "#%%\n"
    }
   }
  },
  {
   "cell_type": "markdown",
   "source": [
    "### Default CatBoost"
   ],
   "metadata": {
    "collapsed": false,
    "pycharm": {
     "name": "#%% md\n"
    }
   }
  },
  {
   "cell_type": "code",
   "execution_count": 119,
   "outputs": [
    {
     "name": "stdout",
     "output_type": "stream",
     "text": [
      "Learning rate set to 0.04139\n",
      "0:\tlearn: 0.6666354\ttotal: 79.8ms\tremaining: 1m 19s\n",
      "1:\tlearn: 0.6429216\ttotal: 123ms\tremaining: 1m 1s\n",
      "2:\tlearn: 0.6203884\ttotal: 181ms\tremaining: 1m\n",
      "3:\tlearn: 0.6004897\ttotal: 234ms\tremaining: 58.2s\n",
      "4:\tlearn: 0.5825813\ttotal: 284ms\tremaining: 56.5s\n",
      "5:\tlearn: 0.5667263\ttotal: 322ms\tremaining: 53.4s\n",
      "6:\tlearn: 0.5511644\ttotal: 358ms\tremaining: 50.8s\n",
      "7:\tlearn: 0.5378386\ttotal: 413ms\tremaining: 51.2s\n",
      "8:\tlearn: 0.5267831\ttotal: 462ms\tremaining: 50.9s\n",
      "9:\tlearn: 0.5161606\ttotal: 512ms\tremaining: 50.7s\n",
      "10:\tlearn: 0.5055585\ttotal: 563ms\tremaining: 50.7s\n",
      "11:\tlearn: 0.4963800\ttotal: 610ms\tremaining: 50.2s\n",
      "12:\tlearn: 0.4887897\ttotal: 647ms\tremaining: 49.1s\n",
      "13:\tlearn: 0.4811804\ttotal: 695ms\tremaining: 49s\n",
      "14:\tlearn: 0.4747664\ttotal: 745ms\tremaining: 48.9s\n",
      "15:\tlearn: 0.4692145\ttotal: 807ms\tremaining: 49.7s\n",
      "16:\tlearn: 0.4630461\ttotal: 845ms\tremaining: 48.9s\n",
      "17:\tlearn: 0.4583091\ttotal: 884ms\tremaining: 48.2s\n",
      "18:\tlearn: 0.4532120\ttotal: 919ms\tremaining: 47.4s\n",
      "19:\tlearn: 0.4490164\ttotal: 961ms\tremaining: 47.1s\n",
      "20:\tlearn: 0.4447865\ttotal: 1.03s\tremaining: 47.9s\n",
      "21:\tlearn: 0.4413617\ttotal: 1.1s\tremaining: 49.1s\n",
      "22:\tlearn: 0.4374733\ttotal: 1.19s\tremaining: 50.8s\n",
      "23:\tlearn: 0.4344790\ttotal: 1.29s\tremaining: 52.6s\n",
      "24:\tlearn: 0.4313851\ttotal: 1.35s\tremaining: 52.6s\n",
      "25:\tlearn: 0.4284297\ttotal: 1.39s\tremaining: 52s\n",
      "26:\tlearn: 0.4260459\ttotal: 1.42s\tremaining: 51.2s\n",
      "27:\tlearn: 0.4238255\ttotal: 1.46s\tremaining: 50.7s\n",
      "28:\tlearn: 0.4219320\ttotal: 1.52s\tremaining: 51s\n",
      "29:\tlearn: 0.4200064\ttotal: 1.61s\tremaining: 52.1s\n",
      "30:\tlearn: 0.4180173\ttotal: 1.65s\tremaining: 51.7s\n",
      "31:\tlearn: 0.4163294\ttotal: 1.69s\tremaining: 51.2s\n",
      "32:\tlearn: 0.4145346\ttotal: 1.74s\tremaining: 50.8s\n",
      "33:\tlearn: 0.4132364\ttotal: 1.79s\tremaining: 50.9s\n",
      "34:\tlearn: 0.4116274\ttotal: 1.83s\tremaining: 50.6s\n",
      "35:\tlearn: 0.4098635\ttotal: 1.88s\tremaining: 50.4s\n",
      "36:\tlearn: 0.4085321\ttotal: 1.92s\tremaining: 50.1s\n",
      "37:\tlearn: 0.4075200\ttotal: 1.99s\tremaining: 50.4s\n",
      "38:\tlearn: 0.4063900\ttotal: 2.08s\tremaining: 51.2s\n",
      "39:\tlearn: 0.4052270\ttotal: 2.17s\tremaining: 52.2s\n",
      "40:\tlearn: 0.4040269\ttotal: 2.27s\tremaining: 53.1s\n",
      "41:\tlearn: 0.4030591\ttotal: 2.32s\tremaining: 52.9s\n",
      "42:\tlearn: 0.4023365\ttotal: 2.38s\tremaining: 53s\n",
      "43:\tlearn: 0.4015061\ttotal: 2.43s\tremaining: 52.8s\n",
      "44:\tlearn: 0.4006354\ttotal: 2.5s\tremaining: 53s\n",
      "45:\tlearn: 0.3997465\ttotal: 2.58s\tremaining: 53.5s\n",
      "46:\tlearn: 0.3988774\ttotal: 2.66s\tremaining: 53.9s\n",
      "47:\tlearn: 0.3982368\ttotal: 2.73s\tremaining: 54.2s\n",
      "48:\tlearn: 0.3975088\ttotal: 2.84s\tremaining: 55.1s\n",
      "49:\tlearn: 0.3969178\ttotal: 2.92s\tremaining: 55.5s\n",
      "50:\tlearn: 0.3962453\ttotal: 2.99s\tremaining: 55.7s\n",
      "51:\tlearn: 0.3956773\ttotal: 3.08s\tremaining: 56.1s\n",
      "52:\tlearn: 0.3951218\ttotal: 3.17s\tremaining: 56.6s\n",
      "53:\tlearn: 0.3946172\ttotal: 3.23s\tremaining: 56.6s\n",
      "54:\tlearn: 0.3941361\ttotal: 3.28s\tremaining: 56.4s\n",
      "55:\tlearn: 0.3935197\ttotal: 3.32s\tremaining: 56s\n",
      "56:\tlearn: 0.3931316\ttotal: 3.4s\tremaining: 56.3s\n",
      "57:\tlearn: 0.3926516\ttotal: 3.47s\tremaining: 56.4s\n",
      "58:\tlearn: 0.3921152\ttotal: 3.57s\tremaining: 56.9s\n",
      "59:\tlearn: 0.3917714\ttotal: 3.65s\tremaining: 57.2s\n",
      "60:\tlearn: 0.3911937\ttotal: 3.7s\tremaining: 57s\n",
      "61:\tlearn: 0.3908468\ttotal: 3.74s\tremaining: 56.6s\n",
      "62:\tlearn: 0.3905240\ttotal: 3.78s\tremaining: 56.2s\n",
      "63:\tlearn: 0.3901205\ttotal: 3.83s\tremaining: 56s\n",
      "64:\tlearn: 0.3896161\ttotal: 3.89s\tremaining: 56s\n",
      "65:\tlearn: 0.3892959\ttotal: 3.95s\tremaining: 55.9s\n",
      "66:\tlearn: 0.3889915\ttotal: 4.03s\tremaining: 56.1s\n",
      "67:\tlearn: 0.3887464\ttotal: 4.12s\tremaining: 56.5s\n",
      "68:\tlearn: 0.3884669\ttotal: 4.21s\tremaining: 56.8s\n",
      "69:\tlearn: 0.3882211\ttotal: 4.25s\tremaining: 56.5s\n",
      "70:\tlearn: 0.3879281\ttotal: 4.29s\tremaining: 56.2s\n",
      "71:\tlearn: 0.3877243\ttotal: 4.34s\tremaining: 56s\n",
      "72:\tlearn: 0.3874413\ttotal: 4.38s\tremaining: 55.7s\n",
      "73:\tlearn: 0.3871710\ttotal: 4.42s\tremaining: 55.3s\n",
      "74:\tlearn: 0.3869247\ttotal: 4.46s\tremaining: 55s\n",
      "75:\tlearn: 0.3867446\ttotal: 4.52s\tremaining: 55s\n",
      "76:\tlearn: 0.3865772\ttotal: 4.62s\tremaining: 55.4s\n",
      "77:\tlearn: 0.3862534\ttotal: 4.67s\tremaining: 55.2s\n",
      "78:\tlearn: 0.3859731\ttotal: 4.72s\tremaining: 55.1s\n",
      "79:\tlearn: 0.3856581\ttotal: 4.77s\tremaining: 54.8s\n",
      "80:\tlearn: 0.3853701\ttotal: 4.81s\tremaining: 54.6s\n",
      "81:\tlearn: 0.3850947\ttotal: 4.86s\tremaining: 54.4s\n",
      "82:\tlearn: 0.3848604\ttotal: 4.9s\tremaining: 54.1s\n",
      "83:\tlearn: 0.3846482\ttotal: 4.94s\tremaining: 53.9s\n",
      "84:\tlearn: 0.3844183\ttotal: 4.98s\tremaining: 53.6s\n",
      "85:\tlearn: 0.3842785\ttotal: 5.04s\tremaining: 53.5s\n",
      "86:\tlearn: 0.3840225\ttotal: 5.12s\tremaining: 53.8s\n",
      "87:\tlearn: 0.3837743\ttotal: 5.17s\tremaining: 53.6s\n",
      "88:\tlearn: 0.3835634\ttotal: 5.21s\tremaining: 53.4s\n",
      "89:\tlearn: 0.3832533\ttotal: 5.25s\tremaining: 53.1s\n",
      "90:\tlearn: 0.3830520\ttotal: 5.29s\tremaining: 52.9s\n",
      "91:\tlearn: 0.3828418\ttotal: 5.33s\tremaining: 52.7s\n",
      "92:\tlearn: 0.3826287\ttotal: 5.4s\tremaining: 52.7s\n",
      "93:\tlearn: 0.3824052\ttotal: 5.5s\tremaining: 53s\n",
      "94:\tlearn: 0.3822490\ttotal: 5.59s\tremaining: 53.3s\n",
      "95:\tlearn: 0.3820570\ttotal: 5.7s\tremaining: 53.7s\n",
      "96:\tlearn: 0.3818144\ttotal: 5.78s\tremaining: 53.9s\n",
      "97:\tlearn: 0.3816197\ttotal: 5.88s\tremaining: 54.1s\n",
      "98:\tlearn: 0.3813778\ttotal: 6.03s\tremaining: 54.9s\n",
      "99:\tlearn: 0.3811376\ttotal: 6.12s\tremaining: 55s\n",
      "100:\tlearn: 0.3809508\ttotal: 6.2s\tremaining: 55.2s\n",
      "101:\tlearn: 0.3808364\ttotal: 6.27s\tremaining: 55.2s\n",
      "102:\tlearn: 0.3806539\ttotal: 6.37s\tremaining: 55.5s\n",
      "103:\tlearn: 0.3804737\ttotal: 6.42s\tremaining: 55.4s\n",
      "104:\tlearn: 0.3801946\ttotal: 6.49s\tremaining: 55.3s\n",
      "105:\tlearn: 0.3800194\ttotal: 6.53s\tremaining: 55s\n",
      "106:\tlearn: 0.3798721\ttotal: 6.56s\tremaining: 54.8s\n",
      "107:\tlearn: 0.3796653\ttotal: 6.61s\tremaining: 54.6s\n",
      "108:\tlearn: 0.3794593\ttotal: 6.66s\tremaining: 54.5s\n",
      "109:\tlearn: 0.3793234\ttotal: 6.74s\tremaining: 54.6s\n",
      "110:\tlearn: 0.3791557\ttotal: 6.78s\tremaining: 54.3s\n",
      "111:\tlearn: 0.3790343\ttotal: 6.81s\tremaining: 54s\n",
      "112:\tlearn: 0.3788097\ttotal: 6.84s\tremaining: 53.7s\n",
      "113:\tlearn: 0.3786477\ttotal: 6.87s\tremaining: 53.4s\n",
      "114:\tlearn: 0.3785204\ttotal: 6.9s\tremaining: 53.1s\n",
      "115:\tlearn: 0.3783661\ttotal: 6.93s\tremaining: 52.8s\n",
      "116:\tlearn: 0.3782332\ttotal: 6.97s\tremaining: 52.6s\n",
      "117:\tlearn: 0.3780750\ttotal: 7.02s\tremaining: 52.5s\n",
      "118:\tlearn: 0.3779344\ttotal: 7.06s\tremaining: 52.3s\n",
      "119:\tlearn: 0.3777675\ttotal: 7.12s\tremaining: 52.2s\n",
      "120:\tlearn: 0.3776203\ttotal: 7.15s\tremaining: 52s\n",
      "121:\tlearn: 0.3774936\ttotal: 7.2s\tremaining: 51.8s\n",
      "122:\tlearn: 0.3773181\ttotal: 7.24s\tremaining: 51.6s\n",
      "123:\tlearn: 0.3771489\ttotal: 7.29s\tremaining: 51.5s\n",
      "124:\tlearn: 0.3770474\ttotal: 7.34s\tremaining: 51.4s\n",
      "125:\tlearn: 0.3768262\ttotal: 7.39s\tremaining: 51.3s\n",
      "126:\tlearn: 0.3766408\ttotal: 7.44s\tremaining: 51.2s\n",
      "127:\tlearn: 0.3764974\ttotal: 7.48s\tremaining: 51s\n",
      "128:\tlearn: 0.3763544\ttotal: 7.52s\tremaining: 50.8s\n",
      "129:\tlearn: 0.3761716\ttotal: 7.58s\tremaining: 50.7s\n",
      "130:\tlearn: 0.3760275\ttotal: 7.61s\tremaining: 50.5s\n",
      "131:\tlearn: 0.3758288\ttotal: 7.64s\tremaining: 50.3s\n",
      "132:\tlearn: 0.3757132\ttotal: 7.68s\tremaining: 50s\n",
      "133:\tlearn: 0.3755020\ttotal: 7.71s\tremaining: 49.8s\n",
      "134:\tlearn: 0.3753618\ttotal: 7.74s\tremaining: 49.6s\n",
      "135:\tlearn: 0.3752789\ttotal: 7.77s\tremaining: 49.3s\n",
      "136:\tlearn: 0.3751730\ttotal: 7.8s\tremaining: 49.1s\n",
      "137:\tlearn: 0.3750178\ttotal: 7.86s\tremaining: 49.1s\n",
      "138:\tlearn: 0.3748386\ttotal: 7.89s\tremaining: 48.9s\n",
      "139:\tlearn: 0.3746689\ttotal: 7.92s\tremaining: 48.7s\n",
      "140:\tlearn: 0.3745615\ttotal: 7.95s\tremaining: 48.4s\n",
      "141:\tlearn: 0.3744397\ttotal: 7.98s\tremaining: 48.2s\n",
      "142:\tlearn: 0.3743021\ttotal: 8.01s\tremaining: 48s\n",
      "143:\tlearn: 0.3742131\ttotal: 8.04s\tremaining: 47.8s\n",
      "144:\tlearn: 0.3740577\ttotal: 8.09s\tremaining: 47.7s\n",
      "145:\tlearn: 0.3739887\ttotal: 8.16s\tremaining: 47.7s\n",
      "146:\tlearn: 0.3738202\ttotal: 8.22s\tremaining: 47.7s\n",
      "147:\tlearn: 0.3736481\ttotal: 8.27s\tremaining: 47.6s\n",
      "148:\tlearn: 0.3735211\ttotal: 8.3s\tremaining: 47.4s\n",
      "149:\tlearn: 0.3734038\ttotal: 8.35s\tremaining: 47.3s\n",
      "150:\tlearn: 0.3731524\ttotal: 8.38s\tremaining: 47.1s\n",
      "151:\tlearn: 0.3730687\ttotal: 8.42s\tremaining: 47s\n",
      "152:\tlearn: 0.3730028\ttotal: 8.45s\tremaining: 46.8s\n",
      "153:\tlearn: 0.3729064\ttotal: 8.49s\tremaining: 46.6s\n",
      "154:\tlearn: 0.3728113\ttotal: 8.52s\tremaining: 46.5s\n",
      "155:\tlearn: 0.3727073\ttotal: 8.57s\tremaining: 46.3s\n",
      "156:\tlearn: 0.3725732\ttotal: 8.64s\tremaining: 46.4s\n",
      "157:\tlearn: 0.3724518\ttotal: 8.67s\tremaining: 46.2s\n",
      "158:\tlearn: 0.3723381\ttotal: 8.71s\tremaining: 46.1s\n",
      "159:\tlearn: 0.3721531\ttotal: 8.75s\tremaining: 45.9s\n",
      "160:\tlearn: 0.3719946\ttotal: 8.77s\tremaining: 45.7s\n",
      "161:\tlearn: 0.3718508\ttotal: 8.81s\tremaining: 45.6s\n",
      "162:\tlearn: 0.3717876\ttotal: 8.84s\tremaining: 45.4s\n",
      "163:\tlearn: 0.3716121\ttotal: 8.87s\tremaining: 45.2s\n",
      "164:\tlearn: 0.3715355\ttotal: 8.9s\tremaining: 45.1s\n",
      "165:\tlearn: 0.3713847\ttotal: 8.94s\tremaining: 44.9s\n",
      "166:\tlearn: 0.3712492\ttotal: 8.97s\tremaining: 44.8s\n",
      "167:\tlearn: 0.3711937\ttotal: 9s\tremaining: 44.6s\n",
      "168:\tlearn: 0.3710364\ttotal: 9.03s\tremaining: 44.4s\n",
      "169:\tlearn: 0.3709340\ttotal: 9.07s\tremaining: 44.3s\n",
      "170:\tlearn: 0.3708151\ttotal: 9.1s\tremaining: 44.1s\n",
      "171:\tlearn: 0.3706569\ttotal: 9.14s\tremaining: 44s\n",
      "172:\tlearn: 0.3704882\ttotal: 9.17s\tremaining: 43.8s\n",
      "173:\tlearn: 0.3703502\ttotal: 9.2s\tremaining: 43.7s\n",
      "174:\tlearn: 0.3702679\ttotal: 9.24s\tremaining: 43.6s\n",
      "175:\tlearn: 0.3700740\ttotal: 9.27s\tremaining: 43.4s\n",
      "176:\tlearn: 0.3699961\ttotal: 9.3s\tremaining: 43.2s\n",
      "177:\tlearn: 0.3698881\ttotal: 9.33s\tremaining: 43.1s\n",
      "178:\tlearn: 0.3697923\ttotal: 9.37s\tremaining: 43s\n",
      "179:\tlearn: 0.3695761\ttotal: 9.4s\tremaining: 42.8s\n",
      "180:\tlearn: 0.3694474\ttotal: 9.43s\tremaining: 42.7s\n",
      "181:\tlearn: 0.3693284\ttotal: 9.46s\tremaining: 42.5s\n",
      "182:\tlearn: 0.3691985\ttotal: 9.5s\tremaining: 42.4s\n",
      "183:\tlearn: 0.3690728\ttotal: 9.53s\tremaining: 42.3s\n",
      "184:\tlearn: 0.3689359\ttotal: 9.56s\tremaining: 42.1s\n",
      "185:\tlearn: 0.3688083\ttotal: 9.6s\tremaining: 42s\n",
      "186:\tlearn: 0.3686595\ttotal: 9.63s\tremaining: 41.9s\n",
      "187:\tlearn: 0.3685313\ttotal: 9.67s\tremaining: 41.8s\n",
      "188:\tlearn: 0.3684573\ttotal: 9.7s\tremaining: 41.6s\n",
      "189:\tlearn: 0.3683312\ttotal: 9.74s\tremaining: 41.5s\n",
      "190:\tlearn: 0.3681645\ttotal: 9.77s\tremaining: 41.4s\n",
      "191:\tlearn: 0.3680734\ttotal: 9.8s\tremaining: 41.2s\n",
      "192:\tlearn: 0.3679127\ttotal: 9.82s\tremaining: 41.1s\n",
      "193:\tlearn: 0.3677595\ttotal: 9.85s\tremaining: 40.9s\n",
      "194:\tlearn: 0.3676725\ttotal: 9.88s\tremaining: 40.8s\n",
      "195:\tlearn: 0.3675720\ttotal: 9.91s\tremaining: 40.7s\n",
      "196:\tlearn: 0.3674551\ttotal: 9.95s\tremaining: 40.5s\n",
      "197:\tlearn: 0.3673189\ttotal: 9.99s\tremaining: 40.5s\n",
      "198:\tlearn: 0.3671569\ttotal: 10s\tremaining: 40.4s\n",
      "199:\tlearn: 0.3670886\ttotal: 10.1s\tremaining: 40.2s\n",
      "200:\tlearn: 0.3669489\ttotal: 10.1s\tremaining: 40.1s\n",
      "201:\tlearn: 0.3668435\ttotal: 10.1s\tremaining: 40s\n",
      "202:\tlearn: 0.3667041\ttotal: 10.2s\tremaining: 39.9s\n",
      "203:\tlearn: 0.3664678\ttotal: 10.2s\tremaining: 39.8s\n",
      "204:\tlearn: 0.3663324\ttotal: 10.2s\tremaining: 39.7s\n",
      "205:\tlearn: 0.3661828\ttotal: 10.3s\tremaining: 39.6s\n",
      "206:\tlearn: 0.3660953\ttotal: 10.3s\tremaining: 39.5s\n",
      "207:\tlearn: 0.3659118\ttotal: 10.3s\tremaining: 39.3s\n",
      "208:\tlearn: 0.3657258\ttotal: 10.4s\tremaining: 39.2s\n",
      "209:\tlearn: 0.3655993\ttotal: 10.4s\tremaining: 39.1s\n",
      "210:\tlearn: 0.3654402\ttotal: 10.4s\tremaining: 39s\n",
      "211:\tlearn: 0.3652789\ttotal: 10.5s\tremaining: 38.9s\n",
      "212:\tlearn: 0.3651777\ttotal: 10.5s\tremaining: 38.8s\n",
      "213:\tlearn: 0.3650535\ttotal: 10.5s\tremaining: 38.6s\n",
      "214:\tlearn: 0.3649663\ttotal: 10.6s\tremaining: 38.5s\n",
      "215:\tlearn: 0.3648177\ttotal: 10.6s\tremaining: 38.4s\n",
      "216:\tlearn: 0.3646805\ttotal: 10.6s\tremaining: 38.3s\n",
      "217:\tlearn: 0.3645566\ttotal: 10.7s\tremaining: 38.3s\n",
      "218:\tlearn: 0.3643747\ttotal: 10.7s\tremaining: 38.1s\n",
      "219:\tlearn: 0.3642273\ttotal: 10.7s\tremaining: 38.1s\n",
      "220:\tlearn: 0.3640965\ttotal: 10.8s\tremaining: 38s\n",
      "221:\tlearn: 0.3639621\ttotal: 10.8s\tremaining: 37.9s\n",
      "222:\tlearn: 0.3638355\ttotal: 10.8s\tremaining: 37.7s\n",
      "223:\tlearn: 0.3636924\ttotal: 10.9s\tremaining: 37.6s\n",
      "224:\tlearn: 0.3636080\ttotal: 10.9s\tremaining: 37.5s\n",
      "225:\tlearn: 0.3634749\ttotal: 10.9s\tremaining: 37.4s\n",
      "226:\tlearn: 0.3633822\ttotal: 10.9s\tremaining: 37.3s\n",
      "227:\tlearn: 0.3633045\ttotal: 11s\tremaining: 37.2s\n",
      "228:\tlearn: 0.3631459\ttotal: 11s\tremaining: 37.1s\n",
      "229:\tlearn: 0.3630079\ttotal: 11s\tremaining: 36.9s\n",
      "230:\tlearn: 0.3629543\ttotal: 11.1s\tremaining: 36.8s\n",
      "231:\tlearn: 0.3627931\ttotal: 11.1s\tremaining: 36.8s\n",
      "232:\tlearn: 0.3626903\ttotal: 11.1s\tremaining: 36.7s\n",
      "233:\tlearn: 0.3626308\ttotal: 11.2s\tremaining: 36.6s\n",
      "234:\tlearn: 0.3625440\ttotal: 11.2s\tremaining: 36.5s\n",
      "235:\tlearn: 0.3623601\ttotal: 11.2s\tremaining: 36.3s\n",
      "236:\tlearn: 0.3622308\ttotal: 11.2s\tremaining: 36.2s\n",
      "237:\tlearn: 0.3620950\ttotal: 11.3s\tremaining: 36.1s\n",
      "238:\tlearn: 0.3619345\ttotal: 11.3s\tremaining: 36s\n",
      "239:\tlearn: 0.3618191\ttotal: 11.3s\tremaining: 35.9s\n",
      "240:\tlearn: 0.3617103\ttotal: 11.4s\tremaining: 35.8s\n",
      "241:\tlearn: 0.3615805\ttotal: 11.4s\tremaining: 35.7s\n",
      "242:\tlearn: 0.3614528\ttotal: 11.4s\tremaining: 35.6s\n",
      "243:\tlearn: 0.3613332\ttotal: 11.4s\tremaining: 35.5s\n",
      "244:\tlearn: 0.3612323\ttotal: 11.5s\tremaining: 35.4s\n",
      "245:\tlearn: 0.3610798\ttotal: 11.5s\tremaining: 35.2s\n",
      "246:\tlearn: 0.3609907\ttotal: 11.5s\tremaining: 35.1s\n",
      "247:\tlearn: 0.3608943\ttotal: 11.5s\tremaining: 35s\n",
      "248:\tlearn: 0.3607646\ttotal: 11.6s\tremaining: 34.9s\n",
      "249:\tlearn: 0.3606246\ttotal: 11.6s\tremaining: 34.8s\n",
      "250:\tlearn: 0.3604749\ttotal: 11.6s\tremaining: 34.7s\n",
      "251:\tlearn: 0.3603748\ttotal: 11.7s\tremaining: 34.6s\n",
      "252:\tlearn: 0.3602003\ttotal: 11.7s\tremaining: 34.5s\n",
      "253:\tlearn: 0.3600868\ttotal: 11.7s\tremaining: 34.4s\n",
      "254:\tlearn: 0.3599830\ttotal: 11.8s\tremaining: 34.4s\n",
      "255:\tlearn: 0.3598355\ttotal: 11.8s\tremaining: 34.3s\n",
      "256:\tlearn: 0.3596357\ttotal: 11.8s\tremaining: 34.2s\n",
      "257:\tlearn: 0.3595056\ttotal: 11.9s\tremaining: 34.1s\n",
      "258:\tlearn: 0.3593220\ttotal: 11.9s\tremaining: 34s\n",
      "259:\tlearn: 0.3591695\ttotal: 11.9s\tremaining: 34s\n",
      "260:\tlearn: 0.3590754\ttotal: 12s\tremaining: 33.9s\n",
      "261:\tlearn: 0.3589687\ttotal: 12s\tremaining: 33.8s\n",
      "262:\tlearn: 0.3588207\ttotal: 12s\tremaining: 33.7s\n",
      "263:\tlearn: 0.3586779\ttotal: 12s\tremaining: 33.6s\n",
      "264:\tlearn: 0.3585889\ttotal: 12.1s\tremaining: 33.5s\n",
      "265:\tlearn: 0.3584356\ttotal: 12.1s\tremaining: 33.4s\n",
      "266:\tlearn: 0.3583278\ttotal: 12.2s\tremaining: 33.4s\n",
      "267:\tlearn: 0.3582166\ttotal: 12.2s\tremaining: 33.3s\n",
      "268:\tlearn: 0.3581006\ttotal: 12.2s\tremaining: 33.2s\n",
      "269:\tlearn: 0.3579304\ttotal: 12.2s\tremaining: 33.1s\n",
      "270:\tlearn: 0.3578076\ttotal: 12.3s\tremaining: 33s\n",
      "271:\tlearn: 0.3576794\ttotal: 12.3s\tremaining: 32.9s\n",
      "272:\tlearn: 0.3576118\ttotal: 12.3s\tremaining: 32.8s\n",
      "273:\tlearn: 0.3574245\ttotal: 12.3s\tremaining: 32.7s\n",
      "274:\tlearn: 0.3572206\ttotal: 12.4s\tremaining: 32.6s\n",
      "275:\tlearn: 0.3570899\ttotal: 12.4s\tremaining: 32.5s\n",
      "276:\tlearn: 0.3569886\ttotal: 12.4s\tremaining: 32.4s\n",
      "277:\tlearn: 0.3568586\ttotal: 12.5s\tremaining: 32.4s\n",
      "278:\tlearn: 0.3566851\ttotal: 12.5s\tremaining: 32.3s\n",
      "279:\tlearn: 0.3565319\ttotal: 12.5s\tremaining: 32.2s\n",
      "280:\tlearn: 0.3563944\ttotal: 12.5s\tremaining: 32.1s\n",
      "281:\tlearn: 0.3562594\ttotal: 12.6s\tremaining: 32s\n",
      "282:\tlearn: 0.3561061\ttotal: 12.6s\tremaining: 31.9s\n",
      "283:\tlearn: 0.3559884\ttotal: 12.6s\tremaining: 31.9s\n",
      "284:\tlearn: 0.3558222\ttotal: 12.7s\tremaining: 31.8s\n",
      "285:\tlearn: 0.3556997\ttotal: 12.7s\tremaining: 31.8s\n",
      "286:\tlearn: 0.3554968\ttotal: 12.7s\tremaining: 31.7s\n",
      "287:\tlearn: 0.3553554\ttotal: 12.8s\tremaining: 31.6s\n",
      "288:\tlearn: 0.3552187\ttotal: 12.8s\tremaining: 31.5s\n",
      "289:\tlearn: 0.3550664\ttotal: 12.8s\tremaining: 31.4s\n",
      "290:\tlearn: 0.3549277\ttotal: 12.8s\tremaining: 31.3s\n",
      "291:\tlearn: 0.3547979\ttotal: 12.9s\tremaining: 31.2s\n",
      "292:\tlearn: 0.3546835\ttotal: 12.9s\tremaining: 31.1s\n",
      "293:\tlearn: 0.3545487\ttotal: 12.9s\tremaining: 31s\n",
      "294:\tlearn: 0.3543812\ttotal: 12.9s\tremaining: 30.9s\n",
      "295:\tlearn: 0.3542711\ttotal: 13s\tremaining: 30.8s\n",
      "296:\tlearn: 0.3540656\ttotal: 13s\tremaining: 30.8s\n",
      "297:\tlearn: 0.3539823\ttotal: 13s\tremaining: 30.7s\n",
      "298:\tlearn: 0.3538485\ttotal: 13.1s\tremaining: 30.6s\n",
      "299:\tlearn: 0.3537136\ttotal: 13.1s\tremaining: 30.5s\n",
      "300:\tlearn: 0.3535805\ttotal: 13.1s\tremaining: 30.5s\n",
      "301:\tlearn: 0.3534978\ttotal: 13.1s\tremaining: 30.4s\n",
      "302:\tlearn: 0.3533897\ttotal: 13.2s\tremaining: 30.4s\n",
      "303:\tlearn: 0.3532398\ttotal: 13.2s\tremaining: 30.3s\n",
      "304:\tlearn: 0.3531102\ttotal: 13.3s\tremaining: 30.2s\n",
      "305:\tlearn: 0.3529370\ttotal: 13.3s\tremaining: 30.1s\n",
      "306:\tlearn: 0.3527886\ttotal: 13.3s\tremaining: 30s\n",
      "307:\tlearn: 0.3526540\ttotal: 13.3s\tremaining: 30s\n",
      "308:\tlearn: 0.3525764\ttotal: 13.4s\tremaining: 29.9s\n",
      "309:\tlearn: 0.3524387\ttotal: 13.4s\tremaining: 29.8s\n",
      "310:\tlearn: 0.3523266\ttotal: 13.4s\tremaining: 29.7s\n",
      "311:\tlearn: 0.3521491\ttotal: 13.5s\tremaining: 29.7s\n",
      "312:\tlearn: 0.3520119\ttotal: 13.5s\tremaining: 29.6s\n",
      "313:\tlearn: 0.3518896\ttotal: 13.5s\tremaining: 29.5s\n",
      "314:\tlearn: 0.3518236\ttotal: 13.5s\tremaining: 29.5s\n",
      "315:\tlearn: 0.3516206\ttotal: 13.6s\tremaining: 29.4s\n",
      "316:\tlearn: 0.3515207\ttotal: 13.6s\tremaining: 29.3s\n",
      "317:\tlearn: 0.3513900\ttotal: 13.7s\tremaining: 29.3s\n",
      "318:\tlearn: 0.3512306\ttotal: 13.7s\tremaining: 29.2s\n",
      "319:\tlearn: 0.3511164\ttotal: 13.7s\tremaining: 29.2s\n",
      "320:\tlearn: 0.3509603\ttotal: 13.8s\tremaining: 29.1s\n",
      "321:\tlearn: 0.3508018\ttotal: 13.8s\tremaining: 29.1s\n",
      "322:\tlearn: 0.3506728\ttotal: 13.8s\tremaining: 29s\n",
      "323:\tlearn: 0.3505504\ttotal: 13.9s\tremaining: 29s\n",
      "324:\tlearn: 0.3503539\ttotal: 13.9s\tremaining: 28.9s\n",
      "325:\tlearn: 0.3502111\ttotal: 14s\tremaining: 28.9s\n",
      "326:\tlearn: 0.3499567\ttotal: 14s\tremaining: 28.8s\n",
      "327:\tlearn: 0.3497970\ttotal: 14s\tremaining: 28.8s\n",
      "328:\tlearn: 0.3496389\ttotal: 14.1s\tremaining: 28.7s\n",
      "329:\tlearn: 0.3495898\ttotal: 14.1s\tremaining: 28.6s\n",
      "330:\tlearn: 0.3493912\ttotal: 14.2s\tremaining: 28.6s\n",
      "331:\tlearn: 0.3492070\ttotal: 14.2s\tremaining: 28.6s\n",
      "332:\tlearn: 0.3490644\ttotal: 14.2s\tremaining: 28.5s\n",
      "333:\tlearn: 0.3488806\ttotal: 14.3s\tremaining: 28.4s\n",
      "334:\tlearn: 0.3487795\ttotal: 14.3s\tremaining: 28.4s\n",
      "335:\tlearn: 0.3486305\ttotal: 14.3s\tremaining: 28.4s\n",
      "336:\tlearn: 0.3485722\ttotal: 14.4s\tremaining: 28.3s\n",
      "337:\tlearn: 0.3484096\ttotal: 14.4s\tremaining: 28.2s\n",
      "338:\tlearn: 0.3482545\ttotal: 14.5s\tremaining: 28.2s\n",
      "339:\tlearn: 0.3480444\ttotal: 14.5s\tremaining: 28.1s\n",
      "340:\tlearn: 0.3479098\ttotal: 14.5s\tremaining: 28s\n",
      "341:\tlearn: 0.3477703\ttotal: 14.5s\tremaining: 28s\n",
      "342:\tlearn: 0.3475733\ttotal: 14.6s\tremaining: 27.9s\n",
      "343:\tlearn: 0.3474342\ttotal: 14.6s\tremaining: 27.9s\n",
      "344:\tlearn: 0.3472746\ttotal: 14.7s\tremaining: 27.9s\n",
      "345:\tlearn: 0.3470547\ttotal: 14.7s\tremaining: 27.8s\n",
      "346:\tlearn: 0.3469220\ttotal: 14.8s\tremaining: 27.8s\n",
      "347:\tlearn: 0.3467779\ttotal: 14.8s\tremaining: 27.7s\n",
      "348:\tlearn: 0.3466268\ttotal: 14.8s\tremaining: 27.7s\n",
      "349:\tlearn: 0.3464011\ttotal: 14.9s\tremaining: 27.6s\n",
      "350:\tlearn: 0.3462638\ttotal: 14.9s\tremaining: 27.5s\n",
      "351:\tlearn: 0.3461287\ttotal: 14.9s\tremaining: 27.4s\n",
      "352:\tlearn: 0.3459910\ttotal: 14.9s\tremaining: 27.4s\n",
      "353:\tlearn: 0.3458139\ttotal: 15s\tremaining: 27.3s\n",
      "354:\tlearn: 0.3456790\ttotal: 15s\tremaining: 27.2s\n",
      "355:\tlearn: 0.3455346\ttotal: 15s\tremaining: 27.2s\n",
      "356:\tlearn: 0.3453613\ttotal: 15.1s\tremaining: 27.2s\n",
      "357:\tlearn: 0.3452041\ttotal: 15.1s\tremaining: 27.2s\n",
      "358:\tlearn: 0.3450369\ttotal: 15.2s\tremaining: 27.2s\n",
      "359:\tlearn: 0.3448805\ttotal: 15.3s\tremaining: 27.1s\n",
      "360:\tlearn: 0.3447530\ttotal: 15.3s\tremaining: 27.1s\n",
      "361:\tlearn: 0.3446342\ttotal: 15.4s\tremaining: 27.1s\n",
      "362:\tlearn: 0.3444744\ttotal: 15.4s\tremaining: 27s\n",
      "363:\tlearn: 0.3442911\ttotal: 15.4s\tremaining: 27s\n",
      "364:\tlearn: 0.3441555\ttotal: 15.5s\tremaining: 27s\n",
      "365:\tlearn: 0.3440015\ttotal: 15.6s\tremaining: 27s\n",
      "366:\tlearn: 0.3438742\ttotal: 15.6s\tremaining: 27s\n",
      "367:\tlearn: 0.3437529\ttotal: 15.7s\tremaining: 27s\n",
      "368:\tlearn: 0.3436117\ttotal: 15.8s\tremaining: 27s\n",
      "369:\tlearn: 0.3433943\ttotal: 15.9s\tremaining: 27s\n",
      "370:\tlearn: 0.3432801\ttotal: 15.9s\tremaining: 27s\n",
      "371:\tlearn: 0.3431451\ttotal: 16s\tremaining: 26.9s\n",
      "372:\tlearn: 0.3429849\ttotal: 16s\tremaining: 26.9s\n",
      "373:\tlearn: 0.3428886\ttotal: 16s\tremaining: 26.8s\n",
      "374:\tlearn: 0.3427396\ttotal: 16.1s\tremaining: 26.8s\n",
      "375:\tlearn: 0.3426030\ttotal: 16.1s\tremaining: 26.8s\n",
      "376:\tlearn: 0.3424610\ttotal: 16.2s\tremaining: 26.7s\n",
      "377:\tlearn: 0.3423137\ttotal: 16.2s\tremaining: 26.7s\n",
      "378:\tlearn: 0.3421331\ttotal: 16.3s\tremaining: 26.7s\n",
      "379:\tlearn: 0.3420080\ttotal: 16.3s\tremaining: 26.6s\n",
      "380:\tlearn: 0.3419124\ttotal: 16.3s\tremaining: 26.6s\n",
      "381:\tlearn: 0.3417859\ttotal: 16.4s\tremaining: 26.5s\n",
      "382:\tlearn: 0.3416399\ttotal: 16.4s\tremaining: 26.4s\n",
      "383:\tlearn: 0.3415363\ttotal: 16.4s\tremaining: 26.4s\n",
      "384:\tlearn: 0.3413886\ttotal: 16.5s\tremaining: 26.3s\n",
      "385:\tlearn: 0.3412862\ttotal: 16.5s\tremaining: 26.2s\n",
      "386:\tlearn: 0.3412567\ttotal: 16.5s\tremaining: 26.2s\n",
      "387:\tlearn: 0.3411180\ttotal: 16.6s\tremaining: 26.2s\n",
      "388:\tlearn: 0.3409964\ttotal: 16.6s\tremaining: 26.1s\n",
      "389:\tlearn: 0.3408146\ttotal: 16.7s\tremaining: 26.1s\n",
      "390:\tlearn: 0.3406893\ttotal: 16.8s\tremaining: 26.1s\n",
      "391:\tlearn: 0.3405716\ttotal: 16.8s\tremaining: 26.1s\n",
      "392:\tlearn: 0.3404441\ttotal: 16.9s\tremaining: 26.1s\n",
      "393:\tlearn: 0.3402667\ttotal: 16.9s\tremaining: 26s\n",
      "394:\tlearn: 0.3401569\ttotal: 17s\tremaining: 26s\n",
      "395:\tlearn: 0.3400209\ttotal: 17s\tremaining: 26s\n",
      "396:\tlearn: 0.3398610\ttotal: 17.1s\tremaining: 25.9s\n",
      "397:\tlearn: 0.3397145\ttotal: 17.1s\tremaining: 25.9s\n",
      "398:\tlearn: 0.3395816\ttotal: 17.2s\tremaining: 25.8s\n",
      "399:\tlearn: 0.3394043\ttotal: 17.2s\tremaining: 25.8s\n",
      "400:\tlearn: 0.3392939\ttotal: 17.3s\tremaining: 25.8s\n",
      "401:\tlearn: 0.3391599\ttotal: 17.3s\tremaining: 25.7s\n",
      "402:\tlearn: 0.3390288\ttotal: 17.3s\tremaining: 25.7s\n",
      "403:\tlearn: 0.3388795\ttotal: 17.4s\tremaining: 25.6s\n",
      "404:\tlearn: 0.3387852\ttotal: 17.4s\tremaining: 25.6s\n",
      "405:\tlearn: 0.3386618\ttotal: 17.5s\tremaining: 25.6s\n",
      "406:\tlearn: 0.3385398\ttotal: 17.5s\tremaining: 25.5s\n",
      "407:\tlearn: 0.3383620\ttotal: 17.6s\tremaining: 25.5s\n",
      "408:\tlearn: 0.3382654\ttotal: 17.6s\tremaining: 25.4s\n",
      "409:\tlearn: 0.3380899\ttotal: 17.6s\tremaining: 25.4s\n",
      "410:\tlearn: 0.3379883\ttotal: 17.7s\tremaining: 25.4s\n",
      "411:\tlearn: 0.3379032\ttotal: 17.8s\tremaining: 25.4s\n",
      "412:\tlearn: 0.3377624\ttotal: 17.8s\tremaining: 25.3s\n",
      "413:\tlearn: 0.3376988\ttotal: 17.8s\tremaining: 25.2s\n",
      "414:\tlearn: 0.3375571\ttotal: 17.9s\tremaining: 25.2s\n",
      "415:\tlearn: 0.3374469\ttotal: 17.9s\tremaining: 25.2s\n",
      "416:\tlearn: 0.3373413\ttotal: 18s\tremaining: 25.2s\n",
      "417:\tlearn: 0.3371614\ttotal: 18s\tremaining: 25.1s\n",
      "418:\tlearn: 0.3370706\ttotal: 18.1s\tremaining: 25.1s\n",
      "419:\tlearn: 0.3368888\ttotal: 18.1s\tremaining: 25s\n",
      "420:\tlearn: 0.3367679\ttotal: 18.2s\tremaining: 25s\n",
      "421:\tlearn: 0.3366598\ttotal: 18.2s\tremaining: 24.9s\n",
      "422:\tlearn: 0.3364745\ttotal: 18.3s\tremaining: 24.9s\n",
      "423:\tlearn: 0.3362996\ttotal: 18.3s\tremaining: 24.9s\n",
      "424:\tlearn: 0.3362040\ttotal: 18.4s\tremaining: 24.8s\n",
      "425:\tlearn: 0.3361227\ttotal: 18.4s\tremaining: 24.8s\n",
      "426:\tlearn: 0.3359507\ttotal: 18.4s\tremaining: 24.7s\n",
      "427:\tlearn: 0.3358429\ttotal: 18.5s\tremaining: 24.7s\n",
      "428:\tlearn: 0.3357254\ttotal: 18.5s\tremaining: 24.6s\n",
      "429:\tlearn: 0.3356028\ttotal: 18.5s\tremaining: 24.6s\n",
      "430:\tlearn: 0.3354677\ttotal: 18.6s\tremaining: 24.5s\n",
      "431:\tlearn: 0.3352881\ttotal: 18.6s\tremaining: 24.4s\n",
      "432:\tlearn: 0.3351370\ttotal: 18.6s\tremaining: 24.4s\n",
      "433:\tlearn: 0.3350001\ttotal: 18.7s\tremaining: 24.4s\n",
      "434:\tlearn: 0.3348331\ttotal: 18.7s\tremaining: 24.3s\n",
      "435:\tlearn: 0.3347283\ttotal: 18.8s\tremaining: 24.3s\n",
      "436:\tlearn: 0.3345334\ttotal: 18.8s\tremaining: 24.2s\n",
      "437:\tlearn: 0.3343986\ttotal: 18.8s\tremaining: 24.2s\n",
      "438:\tlearn: 0.3343710\ttotal: 18.9s\tremaining: 24.1s\n",
      "439:\tlearn: 0.3342282\ttotal: 18.9s\tremaining: 24.1s\n",
      "440:\tlearn: 0.3341113\ttotal: 18.9s\tremaining: 24s\n",
      "441:\tlearn: 0.3339620\ttotal: 19s\tremaining: 23.9s\n",
      "442:\tlearn: 0.3337951\ttotal: 19s\tremaining: 23.9s\n",
      "443:\tlearn: 0.3336219\ttotal: 19s\tremaining: 23.8s\n",
      "444:\tlearn: 0.3335014\ttotal: 19s\tremaining: 23.8s\n",
      "445:\tlearn: 0.3333970\ttotal: 19.1s\tremaining: 23.7s\n",
      "446:\tlearn: 0.3331907\ttotal: 19.1s\tremaining: 23.7s\n",
      "447:\tlearn: 0.3330395\ttotal: 19.2s\tremaining: 23.6s\n",
      "448:\tlearn: 0.3328924\ttotal: 19.2s\tremaining: 23.6s\n",
      "449:\tlearn: 0.3328100\ttotal: 19.3s\tremaining: 23.5s\n",
      "450:\tlearn: 0.3326758\ttotal: 19.3s\tremaining: 23.5s\n",
      "451:\tlearn: 0.3325576\ttotal: 19.3s\tremaining: 23.4s\n",
      "452:\tlearn: 0.3324080\ttotal: 19.3s\tremaining: 23.4s\n",
      "453:\tlearn: 0.3322930\ttotal: 19.4s\tremaining: 23.3s\n",
      "454:\tlearn: 0.3321611\ttotal: 19.4s\tremaining: 23.3s\n",
      "455:\tlearn: 0.3320746\ttotal: 19.4s\tremaining: 23.2s\n",
      "456:\tlearn: 0.3319590\ttotal: 19.5s\tremaining: 23.1s\n",
      "457:\tlearn: 0.3319104\ttotal: 19.5s\tremaining: 23.1s\n",
      "458:\tlearn: 0.3318659\ttotal: 19.6s\tremaining: 23.1s\n",
      "459:\tlearn: 0.3317627\ttotal: 19.6s\tremaining: 23s\n",
      "460:\tlearn: 0.3316120\ttotal: 19.7s\tremaining: 23s\n",
      "461:\tlearn: 0.3314514\ttotal: 19.7s\tremaining: 23s\n",
      "462:\tlearn: 0.3313111\ttotal: 19.8s\tremaining: 22.9s\n",
      "463:\tlearn: 0.3312077\ttotal: 19.8s\tremaining: 22.9s\n",
      "464:\tlearn: 0.3310696\ttotal: 19.8s\tremaining: 22.8s\n",
      "465:\tlearn: 0.3309539\ttotal: 19.9s\tremaining: 22.8s\n",
      "466:\tlearn: 0.3307900\ttotal: 19.9s\tremaining: 22.7s\n",
      "467:\tlearn: 0.3306598\ttotal: 19.9s\tremaining: 22.6s\n",
      "468:\tlearn: 0.3305363\ttotal: 20s\tremaining: 22.6s\n",
      "469:\tlearn: 0.3304122\ttotal: 20s\tremaining: 22.5s\n",
      "470:\tlearn: 0.3302756\ttotal: 20s\tremaining: 22.5s\n",
      "471:\tlearn: 0.3301769\ttotal: 20s\tremaining: 22.4s\n",
      "472:\tlearn: 0.3300883\ttotal: 20.1s\tremaining: 22.4s\n",
      "473:\tlearn: 0.3299922\ttotal: 20.1s\tremaining: 22.3s\n",
      "474:\tlearn: 0.3298287\ttotal: 20.1s\tremaining: 22.2s\n",
      "475:\tlearn: 0.3297064\ttotal: 20.1s\tremaining: 22.2s\n",
      "476:\tlearn: 0.3295448\ttotal: 20.2s\tremaining: 22.1s\n",
      "477:\tlearn: 0.3294524\ttotal: 20.2s\tremaining: 22.1s\n",
      "478:\tlearn: 0.3293090\ttotal: 20.2s\tremaining: 22s\n",
      "479:\tlearn: 0.3291669\ttotal: 20.3s\tremaining: 22s\n",
      "480:\tlearn: 0.3289955\ttotal: 20.3s\tremaining: 21.9s\n",
      "481:\tlearn: 0.3288902\ttotal: 20.4s\tremaining: 21.9s\n",
      "482:\tlearn: 0.3287253\ttotal: 20.4s\tremaining: 21.8s\n",
      "483:\tlearn: 0.3286120\ttotal: 20.4s\tremaining: 21.8s\n",
      "484:\tlearn: 0.3284511\ttotal: 20.4s\tremaining: 21.7s\n",
      "485:\tlearn: 0.3283205\ttotal: 20.5s\tremaining: 21.6s\n",
      "486:\tlearn: 0.3282137\ttotal: 20.5s\tremaining: 21.6s\n",
      "487:\tlearn: 0.3280641\ttotal: 20.5s\tremaining: 21.5s\n",
      "488:\tlearn: 0.3279421\ttotal: 20.5s\tremaining: 21.4s\n",
      "489:\tlearn: 0.3278547\ttotal: 20.5s\tremaining: 21.4s\n",
      "490:\tlearn: 0.3276820\ttotal: 20.6s\tremaining: 21.3s\n",
      "491:\tlearn: 0.3275987\ttotal: 20.6s\tremaining: 21.3s\n",
      "492:\tlearn: 0.3274930\ttotal: 20.6s\tremaining: 21.2s\n",
      "493:\tlearn: 0.3273174\ttotal: 20.6s\tremaining: 21.1s\n",
      "494:\tlearn: 0.3271997\ttotal: 20.7s\tremaining: 21.1s\n",
      "495:\tlearn: 0.3270758\ttotal: 20.7s\tremaining: 21s\n",
      "496:\tlearn: 0.3269819\ttotal: 20.7s\tremaining: 21s\n",
      "497:\tlearn: 0.3268822\ttotal: 20.8s\tremaining: 20.9s\n",
      "498:\tlearn: 0.3266961\ttotal: 20.8s\tremaining: 20.9s\n",
      "499:\tlearn: 0.3266150\ttotal: 20.8s\tremaining: 20.8s\n",
      "500:\tlearn: 0.3264649\ttotal: 20.8s\tremaining: 20.8s\n",
      "501:\tlearn: 0.3263347\ttotal: 20.9s\tremaining: 20.7s\n",
      "502:\tlearn: 0.3262109\ttotal: 20.9s\tremaining: 20.6s\n",
      "503:\tlearn: 0.3260722\ttotal: 20.9s\tremaining: 20.6s\n",
      "504:\tlearn: 0.3259863\ttotal: 20.9s\tremaining: 20.5s\n",
      "505:\tlearn: 0.3258776\ttotal: 21s\tremaining: 20.5s\n",
      "506:\tlearn: 0.3257638\ttotal: 21s\tremaining: 20.4s\n",
      "507:\tlearn: 0.3256613\ttotal: 21s\tremaining: 20.4s\n",
      "508:\tlearn: 0.3255891\ttotal: 21s\tremaining: 20.3s\n",
      "509:\tlearn: 0.3254125\ttotal: 21.1s\tremaining: 20.2s\n",
      "510:\tlearn: 0.3252745\ttotal: 21.1s\tremaining: 20.2s\n",
      "511:\tlearn: 0.3251690\ttotal: 21.1s\tremaining: 20.1s\n",
      "512:\tlearn: 0.3250659\ttotal: 21.1s\tremaining: 20.1s\n",
      "513:\tlearn: 0.3249360\ttotal: 21.2s\tremaining: 20s\n",
      "514:\tlearn: 0.3247977\ttotal: 21.2s\tremaining: 20s\n",
      "515:\tlearn: 0.3247025\ttotal: 21.2s\tremaining: 19.9s\n",
      "516:\tlearn: 0.3246020\ttotal: 21.2s\tremaining: 19.8s\n",
      "517:\tlearn: 0.3245071\ttotal: 21.3s\tremaining: 19.8s\n",
      "518:\tlearn: 0.3243736\ttotal: 21.3s\tremaining: 19.7s\n",
      "519:\tlearn: 0.3242297\ttotal: 21.3s\tremaining: 19.7s\n",
      "520:\tlearn: 0.3241028\ttotal: 21.3s\tremaining: 19.6s\n",
      "521:\tlearn: 0.3239839\ttotal: 21.4s\tremaining: 19.6s\n",
      "522:\tlearn: 0.3237945\ttotal: 21.4s\tremaining: 19.5s\n",
      "523:\tlearn: 0.3236498\ttotal: 21.4s\tremaining: 19.4s\n",
      "524:\tlearn: 0.3235209\ttotal: 21.4s\tremaining: 19.4s\n",
      "525:\tlearn: 0.3234122\ttotal: 21.5s\tremaining: 19.3s\n",
      "526:\tlearn: 0.3232838\ttotal: 21.5s\tremaining: 19.3s\n",
      "527:\tlearn: 0.3231387\ttotal: 21.5s\tremaining: 19.2s\n",
      "528:\tlearn: 0.3229944\ttotal: 21.5s\tremaining: 19.2s\n",
      "529:\tlearn: 0.3228770\ttotal: 21.5s\tremaining: 19.1s\n",
      "530:\tlearn: 0.3227393\ttotal: 21.6s\tremaining: 19s\n",
      "531:\tlearn: 0.3225745\ttotal: 21.6s\tremaining: 19s\n",
      "532:\tlearn: 0.3223855\ttotal: 21.6s\tremaining: 18.9s\n",
      "533:\tlearn: 0.3222626\ttotal: 21.6s\tremaining: 18.9s\n",
      "534:\tlearn: 0.3221399\ttotal: 21.7s\tremaining: 18.8s\n",
      "535:\tlearn: 0.3220092\ttotal: 21.7s\tremaining: 18.8s\n",
      "536:\tlearn: 0.3218731\ttotal: 21.7s\tremaining: 18.7s\n",
      "537:\tlearn: 0.3217756\ttotal: 21.8s\tremaining: 18.7s\n",
      "538:\tlearn: 0.3216365\ttotal: 21.8s\tremaining: 18.6s\n",
      "539:\tlearn: 0.3215131\ttotal: 21.8s\tremaining: 18.6s\n",
      "540:\tlearn: 0.3214432\ttotal: 21.8s\tremaining: 18.5s\n",
      "541:\tlearn: 0.3213264\ttotal: 21.9s\tremaining: 18.5s\n",
      "542:\tlearn: 0.3211989\ttotal: 21.9s\tremaining: 18.4s\n",
      "543:\tlearn: 0.3210756\ttotal: 21.9s\tremaining: 18.4s\n",
      "544:\tlearn: 0.3209751\ttotal: 21.9s\tremaining: 18.3s\n",
      "545:\tlearn: 0.3209309\ttotal: 21.9s\tremaining: 18.2s\n",
      "546:\tlearn: 0.3207820\ttotal: 22s\tremaining: 18.2s\n",
      "547:\tlearn: 0.3206917\ttotal: 22s\tremaining: 18.1s\n",
      "548:\tlearn: 0.3205395\ttotal: 22s\tremaining: 18.1s\n",
      "549:\tlearn: 0.3204225\ttotal: 22s\tremaining: 18s\n",
      "550:\tlearn: 0.3202686\ttotal: 22.1s\tremaining: 18s\n",
      "551:\tlearn: 0.3201638\ttotal: 22.1s\tremaining: 17.9s\n",
      "552:\tlearn: 0.3199947\ttotal: 22.1s\tremaining: 17.9s\n",
      "553:\tlearn: 0.3198688\ttotal: 22.1s\tremaining: 17.8s\n",
      "554:\tlearn: 0.3197769\ttotal: 22.2s\tremaining: 17.8s\n",
      "555:\tlearn: 0.3196553\ttotal: 22.2s\tremaining: 17.7s\n",
      "556:\tlearn: 0.3195377\ttotal: 22.3s\tremaining: 17.7s\n",
      "557:\tlearn: 0.3193934\ttotal: 22.3s\tremaining: 17.6s\n",
      "558:\tlearn: 0.3192751\ttotal: 22.3s\tremaining: 17.6s\n",
      "559:\tlearn: 0.3191395\ttotal: 22.3s\tremaining: 17.5s\n",
      "560:\tlearn: 0.3190273\ttotal: 22.4s\tremaining: 17.5s\n",
      "561:\tlearn: 0.3188977\ttotal: 22.4s\tremaining: 17.4s\n",
      "562:\tlearn: 0.3187625\ttotal: 22.4s\tremaining: 17.4s\n",
      "563:\tlearn: 0.3185817\ttotal: 22.4s\tremaining: 17.3s\n",
      "564:\tlearn: 0.3184559\ttotal: 22.4s\tremaining: 17.3s\n",
      "565:\tlearn: 0.3182770\ttotal: 22.5s\tremaining: 17.2s\n",
      "566:\tlearn: 0.3181663\ttotal: 22.5s\tremaining: 17.2s\n",
      "567:\tlearn: 0.3180482\ttotal: 22.5s\tremaining: 17.1s\n",
      "568:\tlearn: 0.3179086\ttotal: 22.5s\tremaining: 17.1s\n",
      "569:\tlearn: 0.3178026\ttotal: 22.6s\tremaining: 17s\n",
      "570:\tlearn: 0.3177167\ttotal: 22.6s\tremaining: 17s\n",
      "571:\tlearn: 0.3175935\ttotal: 22.6s\tremaining: 16.9s\n",
      "572:\tlearn: 0.3174912\ttotal: 22.6s\tremaining: 16.9s\n",
      "573:\tlearn: 0.3173652\ttotal: 22.7s\tremaining: 16.8s\n",
      "574:\tlearn: 0.3172273\ttotal: 22.7s\tremaining: 16.8s\n",
      "575:\tlearn: 0.3171119\ttotal: 22.7s\tremaining: 16.7s\n",
      "576:\tlearn: 0.3170002\ttotal: 22.8s\tremaining: 16.7s\n",
      "577:\tlearn: 0.3169097\ttotal: 22.8s\tremaining: 16.6s\n",
      "578:\tlearn: 0.3168862\ttotal: 22.8s\tremaining: 16.6s\n",
      "579:\tlearn: 0.3168123\ttotal: 22.8s\tremaining: 16.5s\n",
      "580:\tlearn: 0.3167104\ttotal: 22.9s\tremaining: 16.5s\n",
      "581:\tlearn: 0.3165487\ttotal: 22.9s\tremaining: 16.4s\n",
      "582:\tlearn: 0.3164384\ttotal: 22.9s\tremaining: 16.4s\n",
      "583:\tlearn: 0.3163151\ttotal: 22.9s\tremaining: 16.3s\n",
      "584:\tlearn: 0.3161828\ttotal: 23s\tremaining: 16.3s\n",
      "585:\tlearn: 0.3160839\ttotal: 23s\tremaining: 16.2s\n",
      "586:\tlearn: 0.3159137\ttotal: 23s\tremaining: 16.2s\n",
      "587:\tlearn: 0.3157476\ttotal: 23s\tremaining: 16.1s\n",
      "588:\tlearn: 0.3156059\ttotal: 23s\tremaining: 16.1s\n",
      "589:\tlearn: 0.3154960\ttotal: 23.1s\tremaining: 16s\n",
      "590:\tlearn: 0.3153531\ttotal: 23.1s\tremaining: 16s\n",
      "591:\tlearn: 0.3152700\ttotal: 23.1s\tremaining: 15.9s\n",
      "592:\tlearn: 0.3151605\ttotal: 23.1s\tremaining: 15.9s\n",
      "593:\tlearn: 0.3150535\ttotal: 23.2s\tremaining: 15.8s\n",
      "594:\tlearn: 0.3149339\ttotal: 23.2s\tremaining: 15.8s\n",
      "595:\tlearn: 0.3148646\ttotal: 23.2s\tremaining: 15.8s\n",
      "596:\tlearn: 0.3147059\ttotal: 23.3s\tremaining: 15.7s\n",
      "597:\tlearn: 0.3145752\ttotal: 23.3s\tremaining: 15.7s\n",
      "598:\tlearn: 0.3144196\ttotal: 23.3s\tremaining: 15.6s\n",
      "599:\tlearn: 0.3143064\ttotal: 23.3s\tremaining: 15.6s\n",
      "600:\tlearn: 0.3141427\ttotal: 23.4s\tremaining: 15.5s\n",
      "601:\tlearn: 0.3140040\ttotal: 23.4s\tremaining: 15.5s\n",
      "602:\tlearn: 0.3139255\ttotal: 23.4s\tremaining: 15.4s\n",
      "603:\tlearn: 0.3137740\ttotal: 23.4s\tremaining: 15.4s\n",
      "604:\tlearn: 0.3135807\ttotal: 23.5s\tremaining: 15.3s\n",
      "605:\tlearn: 0.3134683\ttotal: 23.5s\tremaining: 15.3s\n",
      "606:\tlearn: 0.3132835\ttotal: 23.5s\tremaining: 15.2s\n",
      "607:\tlearn: 0.3131727\ttotal: 23.5s\tremaining: 15.2s\n",
      "608:\tlearn: 0.3130495\ttotal: 23.6s\tremaining: 15.1s\n",
      "609:\tlearn: 0.3129255\ttotal: 23.6s\tremaining: 15.1s\n",
      "610:\tlearn: 0.3128300\ttotal: 23.6s\tremaining: 15s\n",
      "611:\tlearn: 0.3127266\ttotal: 23.6s\tremaining: 15s\n",
      "612:\tlearn: 0.3125983\ttotal: 23.7s\tremaining: 14.9s\n",
      "613:\tlearn: 0.3125069\ttotal: 23.7s\tremaining: 14.9s\n",
      "614:\tlearn: 0.3123858\ttotal: 23.7s\tremaining: 14.9s\n",
      "615:\tlearn: 0.3122337\ttotal: 23.8s\tremaining: 14.8s\n",
      "616:\tlearn: 0.3121377\ttotal: 23.8s\tremaining: 14.8s\n",
      "617:\tlearn: 0.3120188\ttotal: 23.8s\tremaining: 14.7s\n",
      "618:\tlearn: 0.3119264\ttotal: 23.8s\tremaining: 14.7s\n",
      "619:\tlearn: 0.3118163\ttotal: 23.8s\tremaining: 14.6s\n",
      "620:\tlearn: 0.3116516\ttotal: 23.9s\tremaining: 14.6s\n",
      "621:\tlearn: 0.3115390\ttotal: 23.9s\tremaining: 14.5s\n",
      "622:\tlearn: 0.3114486\ttotal: 23.9s\tremaining: 14.5s\n",
      "623:\tlearn: 0.3113285\ttotal: 23.9s\tremaining: 14.4s\n",
      "624:\tlearn: 0.3111814\ttotal: 24s\tremaining: 14.4s\n",
      "625:\tlearn: 0.3110356\ttotal: 24s\tremaining: 14.3s\n",
      "626:\tlearn: 0.3109434\ttotal: 24s\tremaining: 14.3s\n",
      "627:\tlearn: 0.3108671\ttotal: 24s\tremaining: 14.2s\n",
      "628:\tlearn: 0.3107773\ttotal: 24.1s\tremaining: 14.2s\n",
      "629:\tlearn: 0.3106308\ttotal: 24.1s\tremaining: 14.2s\n",
      "630:\tlearn: 0.3104327\ttotal: 24.1s\tremaining: 14.1s\n",
      "631:\tlearn: 0.3103654\ttotal: 24.2s\tremaining: 14.1s\n",
      "632:\tlearn: 0.3102147\ttotal: 24.2s\tremaining: 14s\n",
      "633:\tlearn: 0.3100678\ttotal: 24.2s\tremaining: 14s\n",
      "634:\tlearn: 0.3099711\ttotal: 24.3s\tremaining: 14s\n",
      "635:\tlearn: 0.3098411\ttotal: 24.3s\tremaining: 13.9s\n",
      "636:\tlearn: 0.3098097\ttotal: 24.4s\tremaining: 13.9s\n",
      "637:\tlearn: 0.3096904\ttotal: 24.4s\tremaining: 13.8s\n",
      "638:\tlearn: 0.3095581\ttotal: 24.4s\tremaining: 13.8s\n",
      "639:\tlearn: 0.3094578\ttotal: 24.4s\tremaining: 13.8s\n",
      "640:\tlearn: 0.3093357\ttotal: 24.5s\tremaining: 13.7s\n",
      "641:\tlearn: 0.3091648\ttotal: 24.5s\tremaining: 13.7s\n",
      "642:\tlearn: 0.3090419\ttotal: 24.5s\tremaining: 13.6s\n",
      "643:\tlearn: 0.3089694\ttotal: 24.5s\tremaining: 13.6s\n",
      "644:\tlearn: 0.3088760\ttotal: 24.6s\tremaining: 13.5s\n",
      "645:\tlearn: 0.3087515\ttotal: 24.6s\tremaining: 13.5s\n",
      "646:\tlearn: 0.3086243\ttotal: 24.6s\tremaining: 13.4s\n",
      "647:\tlearn: 0.3085151\ttotal: 24.6s\tremaining: 13.4s\n",
      "648:\tlearn: 0.3084146\ttotal: 24.7s\tremaining: 13.3s\n",
      "649:\tlearn: 0.3083848\ttotal: 24.7s\tremaining: 13.3s\n",
      "650:\tlearn: 0.3082790\ttotal: 24.7s\tremaining: 13.2s\n",
      "651:\tlearn: 0.3081751\ttotal: 24.7s\tremaining: 13.2s\n",
      "652:\tlearn: 0.3080719\ttotal: 24.8s\tremaining: 13.2s\n",
      "653:\tlearn: 0.3079344\ttotal: 24.8s\tremaining: 13.1s\n",
      "654:\tlearn: 0.3078421\ttotal: 24.8s\tremaining: 13.1s\n",
      "655:\tlearn: 0.3077092\ttotal: 24.9s\tremaining: 13s\n",
      "656:\tlearn: 0.3075792\ttotal: 24.9s\tremaining: 13s\n",
      "657:\tlearn: 0.3074906\ttotal: 24.9s\tremaining: 13s\n",
      "658:\tlearn: 0.3074147\ttotal: 25s\tremaining: 12.9s\n",
      "659:\tlearn: 0.3072852\ttotal: 25s\tremaining: 12.9s\n",
      "660:\tlearn: 0.3071339\ttotal: 25s\tremaining: 12.8s\n",
      "661:\tlearn: 0.3070013\ttotal: 25.1s\tremaining: 12.8s\n",
      "662:\tlearn: 0.3068489\ttotal: 25.1s\tremaining: 12.8s\n",
      "663:\tlearn: 0.3067634\ttotal: 25.1s\tremaining: 12.7s\n",
      "664:\tlearn: 0.3066357\ttotal: 25.2s\tremaining: 12.7s\n",
      "665:\tlearn: 0.3065162\ttotal: 25.2s\tremaining: 12.6s\n",
      "666:\tlearn: 0.3063989\ttotal: 25.2s\tremaining: 12.6s\n",
      "667:\tlearn: 0.3062941\ttotal: 25.2s\tremaining: 12.5s\n",
      "668:\tlearn: 0.3061970\ttotal: 25.3s\tremaining: 12.5s\n",
      "669:\tlearn: 0.3060858\ttotal: 25.3s\tremaining: 12.5s\n",
      "670:\tlearn: 0.3060738\ttotal: 25.3s\tremaining: 12.4s\n",
      "671:\tlearn: 0.3059842\ttotal: 25.4s\tremaining: 12.4s\n",
      "672:\tlearn: 0.3058638\ttotal: 25.4s\tremaining: 12.3s\n",
      "673:\tlearn: 0.3057302\ttotal: 25.4s\tremaining: 12.3s\n",
      "674:\tlearn: 0.3057236\ttotal: 25.4s\tremaining: 12.3s\n",
      "675:\tlearn: 0.3056238\ttotal: 25.5s\tremaining: 12.2s\n",
      "676:\tlearn: 0.3055156\ttotal: 25.5s\tremaining: 12.2s\n",
      "677:\tlearn: 0.3055061\ttotal: 25.5s\tremaining: 12.1s\n",
      "678:\tlearn: 0.3053798\ttotal: 25.6s\tremaining: 12.1s\n",
      "679:\tlearn: 0.3053141\ttotal: 25.6s\tremaining: 12s\n",
      "680:\tlearn: 0.3052048\ttotal: 25.6s\tremaining: 12s\n",
      "681:\tlearn: 0.3050643\ttotal: 25.7s\tremaining: 12s\n",
      "682:\tlearn: 0.3049284\ttotal: 25.7s\tremaining: 11.9s\n",
      "683:\tlearn: 0.3047969\ttotal: 25.7s\tremaining: 11.9s\n",
      "684:\tlearn: 0.3047014\ttotal: 25.8s\tremaining: 11.9s\n",
      "685:\tlearn: 0.3045584\ttotal: 25.8s\tremaining: 11.8s\n",
      "686:\tlearn: 0.3044272\ttotal: 25.8s\tremaining: 11.8s\n",
      "687:\tlearn: 0.3043398\ttotal: 25.9s\tremaining: 11.7s\n",
      "688:\tlearn: 0.3041982\ttotal: 25.9s\tremaining: 11.7s\n",
      "689:\tlearn: 0.3040520\ttotal: 25.9s\tremaining: 11.6s\n",
      "690:\tlearn: 0.3039531\ttotal: 26s\tremaining: 11.6s\n",
      "691:\tlearn: 0.3038637\ttotal: 26s\tremaining: 11.6s\n",
      "692:\tlearn: 0.3037331\ttotal: 26s\tremaining: 11.5s\n",
      "693:\tlearn: 0.3036009\ttotal: 26.1s\tremaining: 11.5s\n",
      "694:\tlearn: 0.3035023\ttotal: 26.1s\tremaining: 11.5s\n",
      "695:\tlearn: 0.3033593\ttotal: 26.1s\tremaining: 11.4s\n",
      "696:\tlearn: 0.3032455\ttotal: 26.2s\tremaining: 11.4s\n",
      "697:\tlearn: 0.3031670\ttotal: 26.2s\tremaining: 11.3s\n",
      "698:\tlearn: 0.3030607\ttotal: 26.3s\tremaining: 11.3s\n",
      "699:\tlearn: 0.3029853\ttotal: 26.3s\tremaining: 11.3s\n",
      "700:\tlearn: 0.3028859\ttotal: 26.4s\tremaining: 11.2s\n",
      "701:\tlearn: 0.3027662\ttotal: 26.4s\tremaining: 11.2s\n",
      "702:\tlearn: 0.3026269\ttotal: 26.4s\tremaining: 11.2s\n",
      "703:\tlearn: 0.3024717\ttotal: 26.5s\tremaining: 11.1s\n",
      "704:\tlearn: 0.3023853\ttotal: 26.5s\tremaining: 11.1s\n",
      "705:\tlearn: 0.3022435\ttotal: 26.5s\tremaining: 11.1s\n",
      "706:\tlearn: 0.3021360\ttotal: 26.6s\tremaining: 11s\n",
      "707:\tlearn: 0.3020426\ttotal: 26.6s\tremaining: 11s\n",
      "708:\tlearn: 0.3019222\ttotal: 26.6s\tremaining: 10.9s\n",
      "709:\tlearn: 0.3017919\ttotal: 26.7s\tremaining: 10.9s\n",
      "710:\tlearn: 0.3016850\ttotal: 26.7s\tremaining: 10.8s\n",
      "711:\tlearn: 0.3015785\ttotal: 26.7s\tremaining: 10.8s\n",
      "712:\tlearn: 0.3014652\ttotal: 26.8s\tremaining: 10.8s\n",
      "713:\tlearn: 0.3014540\ttotal: 26.8s\tremaining: 10.7s\n",
      "714:\tlearn: 0.3013758\ttotal: 26.9s\tremaining: 10.7s\n",
      "715:\tlearn: 0.3012355\ttotal: 26.9s\tremaining: 10.7s\n",
      "716:\tlearn: 0.3011457\ttotal: 26.9s\tremaining: 10.6s\n",
      "717:\tlearn: 0.3009693\ttotal: 27s\tremaining: 10.6s\n",
      "718:\tlearn: 0.3008645\ttotal: 27s\tremaining: 10.6s\n",
      "719:\tlearn: 0.3007721\ttotal: 27s\tremaining: 10.5s\n",
      "720:\tlearn: 0.3006753\ttotal: 27.1s\tremaining: 10.5s\n",
      "721:\tlearn: 0.3005591\ttotal: 27.1s\tremaining: 10.4s\n",
      "722:\tlearn: 0.3004634\ttotal: 27.2s\tremaining: 10.4s\n",
      "723:\tlearn: 0.3003714\ttotal: 27.2s\tremaining: 10.4s\n",
      "724:\tlearn: 0.3002954\ttotal: 27.2s\tremaining: 10.3s\n",
      "725:\tlearn: 0.3001712\ttotal: 27.2s\tremaining: 10.3s\n",
      "726:\tlearn: 0.3000597\ttotal: 27.3s\tremaining: 10.2s\n",
      "727:\tlearn: 0.2999865\ttotal: 27.3s\tremaining: 10.2s\n",
      "728:\tlearn: 0.2998502\ttotal: 27.3s\tremaining: 10.2s\n",
      "729:\tlearn: 0.2998196\ttotal: 27.4s\tremaining: 10.1s\n",
      "730:\tlearn: 0.2997110\ttotal: 27.4s\tremaining: 10.1s\n",
      "731:\tlearn: 0.2996397\ttotal: 27.4s\tremaining: 10s\n",
      "732:\tlearn: 0.2995027\ttotal: 27.5s\tremaining: 10s\n",
      "733:\tlearn: 0.2993698\ttotal: 27.5s\tremaining: 9.96s\n",
      "734:\tlearn: 0.2992224\ttotal: 27.5s\tremaining: 9.92s\n",
      "735:\tlearn: 0.2991182\ttotal: 27.5s\tremaining: 9.88s\n",
      "736:\tlearn: 0.2991024\ttotal: 27.6s\tremaining: 9.84s\n",
      "737:\tlearn: 0.2989628\ttotal: 27.6s\tremaining: 9.8s\n",
      "738:\tlearn: 0.2988968\ttotal: 27.6s\tremaining: 9.77s\n",
      "739:\tlearn: 0.2988135\ttotal: 27.7s\tremaining: 9.72s\n",
      "740:\tlearn: 0.2986725\ttotal: 27.7s\tremaining: 9.69s\n",
      "741:\tlearn: 0.2985643\ttotal: 27.8s\tremaining: 9.66s\n",
      "742:\tlearn: 0.2984296\ttotal: 27.8s\tremaining: 9.63s\n",
      "743:\tlearn: 0.2983214\ttotal: 27.9s\tremaining: 9.6s\n",
      "744:\tlearn: 0.2982272\ttotal: 27.9s\tremaining: 9.56s\n",
      "745:\tlearn: 0.2981254\ttotal: 28s\tremaining: 9.52s\n",
      "746:\tlearn: 0.2980381\ttotal: 28s\tremaining: 9.48s\n",
      "747:\tlearn: 0.2979432\ttotal: 28s\tremaining: 9.45s\n",
      "748:\tlearn: 0.2978045\ttotal: 28.1s\tremaining: 9.41s\n",
      "749:\tlearn: 0.2977008\ttotal: 28.1s\tremaining: 9.37s\n",
      "750:\tlearn: 0.2975678\ttotal: 28.1s\tremaining: 9.33s\n",
      "751:\tlearn: 0.2974585\ttotal: 28.2s\tremaining: 9.29s\n",
      "752:\tlearn: 0.2973753\ttotal: 28.2s\tremaining: 9.24s\n",
      "753:\tlearn: 0.2973040\ttotal: 28.2s\tremaining: 9.21s\n",
      "754:\tlearn: 0.2972412\ttotal: 28.3s\tremaining: 9.17s\n",
      "755:\tlearn: 0.2970951\ttotal: 28.3s\tremaining: 9.14s\n",
      "756:\tlearn: 0.2969880\ttotal: 28.4s\tremaining: 9.1s\n",
      "757:\tlearn: 0.2969077\ttotal: 28.4s\tremaining: 9.06s\n",
      "758:\tlearn: 0.2967868\ttotal: 28.4s\tremaining: 9.02s\n",
      "759:\tlearn: 0.2967192\ttotal: 28.4s\tremaining: 8.98s\n",
      "760:\tlearn: 0.2966130\ttotal: 28.5s\tremaining: 8.95s\n",
      "761:\tlearn: 0.2965109\ttotal: 28.5s\tremaining: 8.91s\n",
      "762:\tlearn: 0.2963918\ttotal: 28.6s\tremaining: 8.87s\n",
      "763:\tlearn: 0.2962840\ttotal: 28.6s\tremaining: 8.84s\n",
      "764:\tlearn: 0.2961361\ttotal: 28.6s\tremaining: 8.8s\n",
      "765:\tlearn: 0.2960245\ttotal: 28.7s\tremaining: 8.76s\n",
      "766:\tlearn: 0.2959406\ttotal: 28.7s\tremaining: 8.72s\n",
      "767:\tlearn: 0.2958666\ttotal: 28.7s\tremaining: 8.68s\n",
      "768:\tlearn: 0.2957653\ttotal: 28.8s\tremaining: 8.65s\n",
      "769:\tlearn: 0.2956889\ttotal: 28.8s\tremaining: 8.61s\n",
      "770:\tlearn: 0.2955538\ttotal: 28.9s\tremaining: 8.57s\n",
      "771:\tlearn: 0.2954526\ttotal: 28.9s\tremaining: 8.54s\n",
      "772:\tlearn: 0.2953085\ttotal: 29s\tremaining: 8.5s\n",
      "773:\tlearn: 0.2952417\ttotal: 29s\tremaining: 8.47s\n",
      "774:\tlearn: 0.2950719\ttotal: 29s\tremaining: 8.43s\n",
      "775:\tlearn: 0.2950220\ttotal: 29.1s\tremaining: 8.39s\n",
      "776:\tlearn: 0.2948909\ttotal: 29.1s\tremaining: 8.35s\n",
      "777:\tlearn: 0.2947770\ttotal: 29.1s\tremaining: 8.31s\n",
      "778:\tlearn: 0.2946815\ttotal: 29.2s\tremaining: 8.27s\n",
      "779:\tlearn: 0.2945902\ttotal: 29.2s\tremaining: 8.23s\n",
      "780:\tlearn: 0.2944998\ttotal: 29.2s\tremaining: 8.2s\n",
      "781:\tlearn: 0.2943818\ttotal: 29.3s\tremaining: 8.16s\n",
      "782:\tlearn: 0.2942675\ttotal: 29.4s\tremaining: 8.14s\n",
      "783:\tlearn: 0.2941946\ttotal: 29.4s\tremaining: 8.11s\n",
      "784:\tlearn: 0.2940576\ttotal: 29.5s\tremaining: 8.07s\n",
      "785:\tlearn: 0.2939491\ttotal: 29.5s\tremaining: 8.04s\n",
      "786:\tlearn: 0.2938177\ttotal: 29.6s\tremaining: 8s\n",
      "787:\tlearn: 0.2937437\ttotal: 29.6s\tremaining: 7.96s\n",
      "788:\tlearn: 0.2936315\ttotal: 29.6s\tremaining: 7.93s\n",
      "789:\tlearn: 0.2935257\ttotal: 29.7s\tremaining: 7.89s\n",
      "790:\tlearn: 0.2933913\ttotal: 29.7s\tremaining: 7.85s\n",
      "791:\tlearn: 0.2933172\ttotal: 29.7s\tremaining: 7.81s\n",
      "792:\tlearn: 0.2932307\ttotal: 29.8s\tremaining: 7.77s\n",
      "793:\tlearn: 0.2931484\ttotal: 29.8s\tremaining: 7.73s\n",
      "794:\tlearn: 0.2930905\ttotal: 29.8s\tremaining: 7.69s\n",
      "795:\tlearn: 0.2930838\ttotal: 29.9s\tremaining: 7.65s\n",
      "796:\tlearn: 0.2929838\ttotal: 29.9s\tremaining: 7.61s\n",
      "797:\tlearn: 0.2929054\ttotal: 29.9s\tremaining: 7.58s\n",
      "798:\tlearn: 0.2927935\ttotal: 30s\tremaining: 7.54s\n",
      "799:\tlearn: 0.2927029\ttotal: 30s\tremaining: 7.5s\n",
      "800:\tlearn: 0.2926377\ttotal: 30s\tremaining: 7.46s\n",
      "801:\tlearn: 0.2925712\ttotal: 30.1s\tremaining: 7.42s\n",
      "802:\tlearn: 0.2924622\ttotal: 30.1s\tremaining: 7.39s\n",
      "803:\tlearn: 0.2923215\ttotal: 30.1s\tremaining: 7.35s\n",
      "804:\tlearn: 0.2922425\ttotal: 30.2s\tremaining: 7.31s\n",
      "805:\tlearn: 0.2921413\ttotal: 30.2s\tremaining: 7.27s\n",
      "806:\tlearn: 0.2920454\ttotal: 30.3s\tremaining: 7.24s\n",
      "807:\tlearn: 0.2919335\ttotal: 30.3s\tremaining: 7.2s\n",
      "808:\tlearn: 0.2918395\ttotal: 30.4s\tremaining: 7.17s\n",
      "809:\tlearn: 0.2917206\ttotal: 30.4s\tremaining: 7.14s\n",
      "810:\tlearn: 0.2916002\ttotal: 30.5s\tremaining: 7.1s\n",
      "811:\tlearn: 0.2915054\ttotal: 30.5s\tremaining: 7.06s\n",
      "812:\tlearn: 0.2914827\ttotal: 30.5s\tremaining: 7.03s\n",
      "813:\tlearn: 0.2913611\ttotal: 30.6s\tremaining: 6.99s\n",
      "814:\tlearn: 0.2912485\ttotal: 30.6s\tremaining: 6.95s\n",
      "815:\tlearn: 0.2911696\ttotal: 30.6s\tremaining: 6.91s\n",
      "816:\tlearn: 0.2910570\ttotal: 30.7s\tremaining: 6.87s\n",
      "817:\tlearn: 0.2909919\ttotal: 30.7s\tremaining: 6.83s\n",
      "818:\tlearn: 0.2908557\ttotal: 30.7s\tremaining: 6.79s\n",
      "819:\tlearn: 0.2907826\ttotal: 30.8s\tremaining: 6.75s\n",
      "820:\tlearn: 0.2907099\ttotal: 30.8s\tremaining: 6.72s\n",
      "821:\tlearn: 0.2905977\ttotal: 30.9s\tremaining: 6.68s\n",
      "822:\tlearn: 0.2904756\ttotal: 30.9s\tremaining: 6.64s\n",
      "823:\tlearn: 0.2904010\ttotal: 30.9s\tremaining: 6.6s\n",
      "824:\tlearn: 0.2903752\ttotal: 30.9s\tremaining: 6.56s\n",
      "825:\tlearn: 0.2902886\ttotal: 31s\tremaining: 6.52s\n",
      "826:\tlearn: 0.2901343\ttotal: 31s\tremaining: 6.48s\n",
      "827:\tlearn: 0.2900208\ttotal: 31s\tremaining: 6.44s\n",
      "828:\tlearn: 0.2899056\ttotal: 31s\tremaining: 6.4s\n",
      "829:\tlearn: 0.2898091\ttotal: 31.1s\tremaining: 6.36s\n",
      "830:\tlearn: 0.2897014\ttotal: 31.1s\tremaining: 6.32s\n",
      "831:\tlearn: 0.2896241\ttotal: 31.1s\tremaining: 6.28s\n",
      "832:\tlearn: 0.2895468\ttotal: 31.1s\tremaining: 6.24s\n",
      "833:\tlearn: 0.2894511\ttotal: 31.2s\tremaining: 6.2s\n",
      "834:\tlearn: 0.2893567\ttotal: 31.2s\tremaining: 6.16s\n",
      "835:\tlearn: 0.2892514\ttotal: 31.2s\tremaining: 6.12s\n",
      "836:\tlearn: 0.2891837\ttotal: 31.2s\tremaining: 6.08s\n",
      "837:\tlearn: 0.2890621\ttotal: 31.3s\tremaining: 6.04s\n",
      "838:\tlearn: 0.2889203\ttotal: 31.3s\tremaining: 6s\n",
      "839:\tlearn: 0.2888099\ttotal: 31.3s\tremaining: 5.97s\n",
      "840:\tlearn: 0.2887104\ttotal: 31.4s\tremaining: 5.93s\n",
      "841:\tlearn: 0.2885818\ttotal: 31.4s\tremaining: 5.89s\n",
      "842:\tlearn: 0.2884737\ttotal: 31.4s\tremaining: 5.85s\n",
      "843:\tlearn: 0.2883219\ttotal: 31.4s\tremaining: 5.81s\n",
      "844:\tlearn: 0.2882088\ttotal: 31.5s\tremaining: 5.77s\n",
      "845:\tlearn: 0.2880504\ttotal: 31.5s\tremaining: 5.73s\n",
      "846:\tlearn: 0.2879610\ttotal: 31.5s\tremaining: 5.69s\n",
      "847:\tlearn: 0.2878874\ttotal: 31.5s\tremaining: 5.65s\n",
      "848:\tlearn: 0.2878152\ttotal: 31.6s\tremaining: 5.61s\n",
      "849:\tlearn: 0.2877165\ttotal: 31.6s\tremaining: 5.57s\n",
      "850:\tlearn: 0.2876214\ttotal: 31.6s\tremaining: 5.54s\n",
      "851:\tlearn: 0.2875190\ttotal: 31.6s\tremaining: 5.5s\n",
      "852:\tlearn: 0.2874392\ttotal: 31.7s\tremaining: 5.46s\n",
      "853:\tlearn: 0.2873340\ttotal: 31.7s\tremaining: 5.42s\n",
      "854:\tlearn: 0.2872256\ttotal: 31.7s\tremaining: 5.38s\n",
      "855:\tlearn: 0.2871358\ttotal: 31.7s\tremaining: 5.34s\n",
      "856:\tlearn: 0.2870423\ttotal: 31.8s\tremaining: 5.3s\n",
      "857:\tlearn: 0.2868946\ttotal: 31.8s\tremaining: 5.27s\n",
      "858:\tlearn: 0.2867817\ttotal: 31.8s\tremaining: 5.23s\n",
      "859:\tlearn: 0.2866697\ttotal: 31.9s\tremaining: 5.19s\n",
      "860:\tlearn: 0.2865909\ttotal: 31.9s\tremaining: 5.15s\n",
      "861:\tlearn: 0.2864426\ttotal: 31.9s\tremaining: 5.11s\n",
      "862:\tlearn: 0.2863672\ttotal: 32s\tremaining: 5.07s\n",
      "863:\tlearn: 0.2862733\ttotal: 32s\tremaining: 5.04s\n",
      "864:\tlearn: 0.2861599\ttotal: 32s\tremaining: 5s\n",
      "865:\tlearn: 0.2860923\ttotal: 32s\tremaining: 4.96s\n",
      "866:\tlearn: 0.2859715\ttotal: 32.1s\tremaining: 4.92s\n",
      "867:\tlearn: 0.2858913\ttotal: 32.1s\tremaining: 4.88s\n",
      "868:\tlearn: 0.2857671\ttotal: 32.1s\tremaining: 4.84s\n",
      "869:\tlearn: 0.2856641\ttotal: 32.1s\tremaining: 4.8s\n",
      "870:\tlearn: 0.2855494\ttotal: 32.2s\tremaining: 4.76s\n",
      "871:\tlearn: 0.2855138\ttotal: 32.2s\tremaining: 4.72s\n",
      "872:\tlearn: 0.2854209\ttotal: 32.2s\tremaining: 4.69s\n",
      "873:\tlearn: 0.2852889\ttotal: 32.2s\tremaining: 4.65s\n",
      "874:\tlearn: 0.2852150\ttotal: 32.3s\tremaining: 4.61s\n",
      "875:\tlearn: 0.2851178\ttotal: 32.3s\tremaining: 4.57s\n",
      "876:\tlearn: 0.2850231\ttotal: 32.3s\tremaining: 4.54s\n",
      "877:\tlearn: 0.2849413\ttotal: 32.4s\tremaining: 4.5s\n",
      "878:\tlearn: 0.2848146\ttotal: 32.4s\tremaining: 4.46s\n",
      "879:\tlearn: 0.2847109\ttotal: 32.4s\tremaining: 4.42s\n",
      "880:\tlearn: 0.2846056\ttotal: 32.4s\tremaining: 4.38s\n",
      "881:\tlearn: 0.2844968\ttotal: 32.5s\tremaining: 4.34s\n",
      "882:\tlearn: 0.2844489\ttotal: 32.5s\tremaining: 4.3s\n",
      "883:\tlearn: 0.2843566\ttotal: 32.5s\tremaining: 4.27s\n",
      "884:\tlearn: 0.2843368\ttotal: 32.6s\tremaining: 4.23s\n",
      "885:\tlearn: 0.2842268\ttotal: 32.6s\tremaining: 4.19s\n",
      "886:\tlearn: 0.2841515\ttotal: 32.6s\tremaining: 4.16s\n",
      "887:\tlearn: 0.2840206\ttotal: 32.7s\tremaining: 4.12s\n",
      "888:\tlearn: 0.2839383\ttotal: 32.7s\tremaining: 4.08s\n",
      "889:\tlearn: 0.2838425\ttotal: 32.7s\tremaining: 4.04s\n",
      "890:\tlearn: 0.2837195\ttotal: 32.7s\tremaining: 4.01s\n",
      "891:\tlearn: 0.2836216\ttotal: 32.8s\tremaining: 3.97s\n",
      "892:\tlearn: 0.2835066\ttotal: 32.8s\tremaining: 3.93s\n",
      "893:\tlearn: 0.2834153\ttotal: 32.9s\tremaining: 3.9s\n",
      "894:\tlearn: 0.2833541\ttotal: 32.9s\tremaining: 3.86s\n",
      "895:\tlearn: 0.2832733\ttotal: 32.9s\tremaining: 3.82s\n",
      "896:\tlearn: 0.2831828\ttotal: 32.9s\tremaining: 3.78s\n",
      "897:\tlearn: 0.2831197\ttotal: 33s\tremaining: 3.74s\n",
      "898:\tlearn: 0.2830283\ttotal: 33s\tremaining: 3.71s\n",
      "899:\tlearn: 0.2829136\ttotal: 33s\tremaining: 3.67s\n",
      "900:\tlearn: 0.2828360\ttotal: 33s\tremaining: 3.63s\n",
      "901:\tlearn: 0.2827414\ttotal: 33.1s\tremaining: 3.59s\n",
      "902:\tlearn: 0.2826647\ttotal: 33.1s\tremaining: 3.56s\n",
      "903:\tlearn: 0.2825872\ttotal: 33.1s\tremaining: 3.52s\n",
      "904:\tlearn: 0.2824864\ttotal: 33.2s\tremaining: 3.48s\n",
      "905:\tlearn: 0.2823451\ttotal: 33.2s\tremaining: 3.44s\n",
      "906:\tlearn: 0.2822747\ttotal: 33.2s\tremaining: 3.41s\n",
      "907:\tlearn: 0.2821662\ttotal: 33.2s\tremaining: 3.37s\n",
      "908:\tlearn: 0.2820552\ttotal: 33.3s\tremaining: 3.33s\n",
      "909:\tlearn: 0.2819522\ttotal: 33.3s\tremaining: 3.29s\n",
      "910:\tlearn: 0.2818575\ttotal: 33.4s\tremaining: 3.26s\n",
      "911:\tlearn: 0.2817409\ttotal: 33.4s\tremaining: 3.22s\n",
      "912:\tlearn: 0.2816142\ttotal: 33.4s\tremaining: 3.19s\n",
      "913:\tlearn: 0.2815563\ttotal: 33.5s\tremaining: 3.15s\n",
      "914:\tlearn: 0.2814497\ttotal: 33.5s\tremaining: 3.11s\n",
      "915:\tlearn: 0.2813406\ttotal: 33.5s\tremaining: 3.07s\n",
      "916:\tlearn: 0.2812605\ttotal: 33.5s\tremaining: 3.04s\n",
      "917:\tlearn: 0.2811184\ttotal: 33.6s\tremaining: 3s\n",
      "918:\tlearn: 0.2810292\ttotal: 33.6s\tremaining: 2.96s\n",
      "919:\tlearn: 0.2809508\ttotal: 33.6s\tremaining: 2.92s\n",
      "920:\tlearn: 0.2808867\ttotal: 33.7s\tremaining: 2.89s\n",
      "921:\tlearn: 0.2807549\ttotal: 33.7s\tremaining: 2.85s\n",
      "922:\tlearn: 0.2806680\ttotal: 33.7s\tremaining: 2.81s\n",
      "923:\tlearn: 0.2805566\ttotal: 33.8s\tremaining: 2.78s\n",
      "924:\tlearn: 0.2804362\ttotal: 33.8s\tremaining: 2.74s\n",
      "925:\tlearn: 0.2803280\ttotal: 33.8s\tremaining: 2.7s\n",
      "926:\tlearn: 0.2802536\ttotal: 33.9s\tremaining: 2.67s\n",
      "927:\tlearn: 0.2801538\ttotal: 33.9s\tremaining: 2.63s\n",
      "928:\tlearn: 0.2800615\ttotal: 33.9s\tremaining: 2.59s\n",
      "929:\tlearn: 0.2799735\ttotal: 34s\tremaining: 2.56s\n",
      "930:\tlearn: 0.2798548\ttotal: 34s\tremaining: 2.52s\n",
      "931:\tlearn: 0.2797558\ttotal: 34s\tremaining: 2.48s\n",
      "932:\tlearn: 0.2796427\ttotal: 34.1s\tremaining: 2.45s\n",
      "933:\tlearn: 0.2795591\ttotal: 34.1s\tremaining: 2.41s\n",
      "934:\tlearn: 0.2794274\ttotal: 34.2s\tremaining: 2.38s\n",
      "935:\tlearn: 0.2793297\ttotal: 34.2s\tremaining: 2.34s\n",
      "936:\tlearn: 0.2792758\ttotal: 34.2s\tremaining: 2.3s\n",
      "937:\tlearn: 0.2791407\ttotal: 34.2s\tremaining: 2.26s\n",
      "938:\tlearn: 0.2789860\ttotal: 34.3s\tremaining: 2.23s\n",
      "939:\tlearn: 0.2788997\ttotal: 34.3s\tremaining: 2.19s\n",
      "940:\tlearn: 0.2787732\ttotal: 34.3s\tremaining: 2.15s\n",
      "941:\tlearn: 0.2786619\ttotal: 34.4s\tremaining: 2.12s\n",
      "942:\tlearn: 0.2785588\ttotal: 34.4s\tremaining: 2.08s\n",
      "943:\tlearn: 0.2784345\ttotal: 34.4s\tremaining: 2.04s\n",
      "944:\tlearn: 0.2783623\ttotal: 34.5s\tremaining: 2s\n",
      "945:\tlearn: 0.2783030\ttotal: 34.5s\tremaining: 1.97s\n",
      "946:\tlearn: 0.2782347\ttotal: 34.5s\tremaining: 1.93s\n",
      "947:\tlearn: 0.2781505\ttotal: 34.5s\tremaining: 1.89s\n",
      "948:\tlearn: 0.2780485\ttotal: 34.6s\tremaining: 1.86s\n",
      "949:\tlearn: 0.2779658\ttotal: 34.6s\tremaining: 1.82s\n",
      "950:\tlearn: 0.2778691\ttotal: 34.6s\tremaining: 1.78s\n",
      "951:\tlearn: 0.2777088\ttotal: 34.6s\tremaining: 1.75s\n",
      "952:\tlearn: 0.2776389\ttotal: 34.7s\tremaining: 1.71s\n",
      "953:\tlearn: 0.2775011\ttotal: 34.7s\tremaining: 1.67s\n",
      "954:\tlearn: 0.2774003\ttotal: 34.7s\tremaining: 1.64s\n",
      "955:\tlearn: 0.2772595\ttotal: 34.8s\tremaining: 1.6s\n",
      "956:\tlearn: 0.2771720\ttotal: 34.8s\tremaining: 1.56s\n",
      "957:\tlearn: 0.2770959\ttotal: 34.8s\tremaining: 1.53s\n",
      "958:\tlearn: 0.2769961\ttotal: 34.9s\tremaining: 1.49s\n",
      "959:\tlearn: 0.2769147\ttotal: 34.9s\tremaining: 1.45s\n",
      "960:\tlearn: 0.2768293\ttotal: 34.9s\tremaining: 1.42s\n",
      "961:\tlearn: 0.2767698\ttotal: 34.9s\tremaining: 1.38s\n",
      "962:\tlearn: 0.2766853\ttotal: 35s\tremaining: 1.34s\n",
      "963:\tlearn: 0.2765525\ttotal: 35s\tremaining: 1.31s\n",
      "964:\tlearn: 0.2764528\ttotal: 35s\tremaining: 1.27s\n",
      "965:\tlearn: 0.2763775\ttotal: 35s\tremaining: 1.23s\n",
      "966:\tlearn: 0.2762590\ttotal: 35.1s\tremaining: 1.2s\n",
      "967:\tlearn: 0.2761849\ttotal: 35.1s\tremaining: 1.16s\n",
      "968:\tlearn: 0.2760622\ttotal: 35.1s\tremaining: 1.12s\n",
      "969:\tlearn: 0.2759289\ttotal: 35.2s\tremaining: 1.09s\n",
      "970:\tlearn: 0.2758124\ttotal: 35.2s\tremaining: 1.05s\n",
      "971:\tlearn: 0.2757170\ttotal: 35.2s\tremaining: 1.01s\n",
      "972:\tlearn: 0.2756402\ttotal: 35.3s\tremaining: 979ms\n",
      "973:\tlearn: 0.2755268\ttotal: 35.3s\tremaining: 943ms\n",
      "974:\tlearn: 0.2754259\ttotal: 35.4s\tremaining: 907ms\n",
      "975:\tlearn: 0.2753029\ttotal: 35.4s\tremaining: 871ms\n",
      "976:\tlearn: 0.2752196\ttotal: 35.5s\tremaining: 835ms\n",
      "977:\tlearn: 0.2751560\ttotal: 35.5s\tremaining: 799ms\n",
      "978:\tlearn: 0.2750393\ttotal: 35.5s\tremaining: 762ms\n",
      "979:\tlearn: 0.2749044\ttotal: 35.6s\tremaining: 726ms\n",
      "980:\tlearn: 0.2747870\ttotal: 35.6s\tremaining: 690ms\n",
      "981:\tlearn: 0.2747001\ttotal: 35.6s\tremaining: 653ms\n",
      "982:\tlearn: 0.2746098\ttotal: 35.7s\tremaining: 617ms\n",
      "983:\tlearn: 0.2745229\ttotal: 35.7s\tremaining: 580ms\n",
      "984:\tlearn: 0.2744290\ttotal: 35.7s\tremaining: 544ms\n",
      "985:\tlearn: 0.2743138\ttotal: 35.8s\tremaining: 508ms\n",
      "986:\tlearn: 0.2741740\ttotal: 35.8s\tremaining: 471ms\n",
      "987:\tlearn: 0.2740446\ttotal: 35.8s\tremaining: 435ms\n",
      "988:\tlearn: 0.2739342\ttotal: 35.9s\tremaining: 399ms\n",
      "989:\tlearn: 0.2738727\ttotal: 35.9s\tremaining: 363ms\n",
      "990:\tlearn: 0.2737747\ttotal: 36s\tremaining: 327ms\n",
      "991:\tlearn: 0.2737402\ttotal: 36s\tremaining: 290ms\n",
      "992:\tlearn: 0.2735988\ttotal: 36s\tremaining: 254ms\n",
      "993:\tlearn: 0.2734955\ttotal: 36.1s\tremaining: 218ms\n",
      "994:\tlearn: 0.2734280\ttotal: 36.1s\tremaining: 181ms\n",
      "995:\tlearn: 0.2733935\ttotal: 36.1s\tremaining: 145ms\n",
      "996:\tlearn: 0.2733350\ttotal: 36.2s\tremaining: 109ms\n",
      "997:\tlearn: 0.2732434\ttotal: 36.2s\tremaining: 72.5ms\n",
      "998:\tlearn: 0.2732162\ttotal: 36.2s\tremaining: 36.3ms\n",
      "999:\tlearn: 0.2731383\ttotal: 36.3s\tremaining: 0us\n",
      "CatBoost default performance on train set: 0.92963\n",
      "CatBoost default performance on test set: 0.82739\n"
     ]
    }
   ],
   "source": [
    "import catboost as cb\n",
    "cat_default = cb.CatBoostClassifier()\n",
    "cat_default.fit(X_train_final, y_train)\n",
    "\n",
    "print('CatBoost default performance on train set: {:.5f}'.format(roc_auc_score(y_train, cat_default.predict_proba(X_train_final)[:,1])))\n",
    "print('CatBoost default performance on test set: {:.5f}'.format(roc_auc_score(y_test, cat_default.predict_proba(X_test_final)[:,1])))"
   ],
   "metadata": {
    "collapsed": false,
    "pycharm": {
     "name": "#%%\n"
    }
   }
  },
  {
   "cell_type": "code",
   "execution_count": 120,
   "outputs": [],
   "source": [
    "dill.dump(cat_default, open(\"cat_default.p\", \"wb\"))"
   ],
   "metadata": {
    "collapsed": false,
    "pycharm": {
     "name": "#%%\n"
    }
   }
  },
  {
   "cell_type": "code",
   "execution_count": null,
   "outputs": [],
   "source": [
    "cat_default = dill.load(open(\"cat_default.p\", \"rb\"))"
   ],
   "metadata": {
    "collapsed": false,
    "pycharm": {
     "name": "#%%\n"
    }
   }
  },
  {
   "cell_type": "markdown",
   "source": [
    "# Bayesian Hyperparameter Optimization"
   ],
   "metadata": {
    "collapsed": false,
    "pycharm": {
     "name": "#%% md\n"
    }
   }
  },
  {
   "cell_type": "markdown",
   "source": [
    "## optuna LightGBM"
   ],
   "metadata": {
    "collapsed": false,
    "pycharm": {
     "name": "#%% md\n"
    }
   }
  },
  {
   "cell_type": "code",
   "execution_count": 25,
   "outputs": [],
   "source": [
    "import optuna\n",
    "from sklearn.metrics import roc_auc_score\n",
    "from sklearn.model_selection import StratifiedKFold"
   ],
   "metadata": {
    "collapsed": false,
    "pycharm": {
     "name": "#%%\n"
    }
   }
  },
  {
   "cell_type": "code",
   "execution_count": 130,
   "outputs": [],
   "source": [
    "from optuna.integration import LightGBMPruningCallback\n",
    "\n",
    "def objective(trial, X_train_final, y_train):\n",
    "    param_grid = {\n",
    "        # \"device_type\": trial.suggest_categorical(\"device_type\", ['gpu']),\n",
    "        \"n_estimators\": trial.suggest_categorical(\"n_estimators\", [10000]),\n",
    "        \"learning_rate\": trial.suggest_float(\"learning_rate\", 0.01, 0.3),\n",
    "        \"num_leaves\": trial.suggest_int(\"num_leaves\", 20, 3000, step=20),\n",
    "        \"max_depth\": trial.suggest_int(\"max_depth\", 3, 12),\n",
    "        \"min_data_in_leaf\": trial.suggest_int(\"min_data_in_leaf\", 200, 10000, step=100),\n",
    "        \"lambda_l1\": trial.suggest_int(\"lambda_l1\", 0, 100, step=5),\n",
    "        \"lambda_l2\": trial.suggest_int(\"lambda_l2\", 0, 100, step=5),\n",
    "        \"min_gain_to_split\": trial.suggest_float(\"min_gain_to_split\", 0, 15),\n",
    "        \"bagging_fraction\": trial.suggest_float(\n",
    "            \"bagging_fraction\", 0.2, 0.95, step=0.1\n",
    "        ),\n",
    "        \"bagging_freq\": trial.suggest_categorical(\"bagging_freq\", [1]),\n",
    "        \"feature_fraction\": trial.suggest_float(\n",
    "            \"feature_fraction\", 0.2, 0.95, step=0.1\n",
    "        ),\n",
    "    }\n",
    "\n",
    "    cv = StratifiedKFold(n_splits=5, shuffle=True, random_state=1121218)\n",
    "\n",
    "    cv_scores = np.empty(5)\n",
    "    for idx, (train_idx, test_idx) in enumerate(cv.split(X_train_final, y_train)):\n",
    "        X_train_o, X_test_o = X_train_final.iloc[train_idx], X_train_final.iloc[test_idx]\n",
    "        y_train_o, y_test_o = y_train[train_idx], y_train[test_idx]\n",
    "\n",
    "        model = lgb.LGBMClassifier(objective=\"binary\", **param_grid)\n",
    "        model.fit(\n",
    "            X_train_o,\n",
    "            y_train_o,\n",
    "            eval_set=[(X_test_o, y_test_o)],\n",
    "            eval_metric=\"auc\",\n",
    "            early_stopping_rounds=100,\n",
    "            callbacks=[\n",
    "                LightGBMPruningCallback(trial, \"auc\")\n",
    "            ],  # Add a pruning callback\n",
    "        )\n",
    "        preds = model.predict_proba(X_test_o)\n",
    "        cv_scores[idx] = roc_auc_score(y_test_o, preds[:, 1])\n",
    "\n",
    "    return np.mean(cv_scores)"
   ],
   "metadata": {
    "collapsed": false,
    "pycharm": {
     "name": "#%%\n"
    }
   }
  },
  {
   "cell_type": "code",
   "execution_count": 131,
   "outputs": [
    {
     "name": "stderr",
     "output_type": "stream",
     "text": [
      "\u001B[32m[I 2022-04-28 21:40:29,295]\u001B[0m A new study created in memory with name: LGBM Classifier\u001B[0m\n",
      "\u001B[32m[I 2022-04-28 21:40:51,210]\u001B[0m Trial 0 finished with value: 0.8153230761066244 and parameters: {'n_estimators': 10000, 'learning_rate': 0.2786062196591043, 'num_leaves': 2320, 'max_depth': 11, 'min_data_in_leaf': 800, 'lambda_l1': 5, 'lambda_l2': 60, 'min_gain_to_split': 4.184861608879479, 'bagging_fraction': 0.5, 'bagging_freq': 1, 'feature_fraction': 0.4}. Best is trial 0 with value: 0.8153230761066244.\u001B[0m\n",
      "\u001B[32m[I 2022-04-28 21:40:54,047]\u001B[0m Trial 1 finished with value: 0.5 and parameters: {'n_estimators': 10000, 'learning_rate': 0.2639879555183171, 'num_leaves': 40, 'max_depth': 11, 'min_data_in_leaf': 9100, 'lambda_l1': 85, 'lambda_l2': 55, 'min_gain_to_split': 9.782277132068298, 'bagging_fraction': 0.8, 'bagging_freq': 1, 'feature_fraction': 0.6000000000000001}. Best is trial 0 with value: 0.8153230761066244.\u001B[0m\n",
      "\u001B[32m[I 2022-04-28 21:41:00,619]\u001B[0m Trial 2 finished with value: 0.7977096844594107 and parameters: {'n_estimators': 10000, 'learning_rate': 0.1304803705180887, 'num_leaves': 1820, 'max_depth': 3, 'min_data_in_leaf': 3300, 'lambda_l1': 100, 'lambda_l2': 30, 'min_gain_to_split': 4.054176146606814, 'bagging_fraction': 0.6000000000000001, 'bagging_freq': 1, 'feature_fraction': 0.7}. Best is trial 0 with value: 0.8153230761066244.\u001B[0m\n",
      "\u001B[32m[I 2022-04-28 21:41:02,769]\u001B[0m Trial 3 finished with value: 0.5 and parameters: {'n_estimators': 10000, 'learning_rate': 0.2367477126579777, 'num_leaves': 500, 'max_depth': 7, 'min_data_in_leaf': 6400, 'lambda_l1': 10, 'lambda_l2': 65, 'min_gain_to_split': 5.416552828716008, 'bagging_fraction': 0.6000000000000001, 'bagging_freq': 1, 'feature_fraction': 0.6000000000000001}. Best is trial 0 with value: 0.8153230761066244.\u001B[0m\n",
      "\u001B[32m[I 2022-04-28 21:41:09,582]\u001B[0m Trial 4 finished with value: 0.7910435677542675 and parameters: {'n_estimators': 10000, 'learning_rate': 0.03525284717262893, 'num_leaves': 2660, 'max_depth': 5, 'min_data_in_leaf': 900, 'lambda_l1': 95, 'lambda_l2': 15, 'min_gain_to_split': 4.502534496198426, 'bagging_fraction': 0.2, 'bagging_freq': 1, 'feature_fraction': 0.4}. Best is trial 0 with value: 0.8153230761066244.\u001B[0m\n",
      "\u001B[32m[I 2022-04-28 21:41:09,846]\u001B[0m Trial 5 pruned. Trial was pruned at iteration 0.\u001B[0m\n",
      "\u001B[32m[I 2022-04-28 21:41:10,126]\u001B[0m Trial 6 pruned. Trial was pruned at iteration 1.\u001B[0m\n",
      "\u001B[32m[I 2022-04-28 21:41:10,588]\u001B[0m Trial 7 pruned. Trial was pruned at iteration 0.\u001B[0m\n",
      "\u001B[32m[I 2022-04-28 21:41:15,569]\u001B[0m Trial 8 finished with value: 0.8004454550024516 and parameters: {'n_estimators': 10000, 'learning_rate': 0.2794120309068457, 'num_leaves': 2060, 'max_depth': 7, 'min_data_in_leaf': 200, 'lambda_l1': 45, 'lambda_l2': 10, 'min_gain_to_split': 14.548104554534174, 'bagging_fraction': 0.5, 'bagging_freq': 1, 'feature_fraction': 0.5}. Best is trial 0 with value: 0.8153230761066244.\u001B[0m\n",
      "\u001B[32m[I 2022-04-28 21:41:15,870]\u001B[0m Trial 9 pruned. Trial was pruned at iteration 0.\u001B[0m\n",
      "\u001B[32m[I 2022-04-28 21:41:16,326]\u001B[0m Trial 10 pruned. Trial was pruned at iteration 0.\u001B[0m\n",
      "\u001B[32m[I 2022-04-28 21:41:26,795]\u001B[0m Trial 11 finished with value: 0.8143450895008426 and parameters: {'n_estimators': 10000, 'learning_rate': 0.29496480271768916, 'num_leaves': 2080, 'max_depth': 7, 'min_data_in_leaf': 300, 'lambda_l1': 25, 'lambda_l2': 40, 'min_gain_to_split': 0.9613237749489532, 'bagging_fraction': 0.4, 'bagging_freq': 1, 'feature_fraction': 0.2}. Best is trial 0 with value: 0.8153230761066244.\u001B[0m\n",
      "\u001B[32m[I 2022-04-28 21:41:34,750]\u001B[0m Trial 12 finished with value: 0.8094741252237945 and parameters: {'n_estimators': 10000, 'learning_rate': 0.2956421073335093, 'num_leaves': 2280, 'max_depth': 8, 'min_data_in_leaf': 1800, 'lambda_l1': 25, 'lambda_l2': 40, 'min_gain_to_split': 0.32774566084962187, 'bagging_fraction': 0.4, 'bagging_freq': 1, 'feature_fraction': 0.2}. Best is trial 0 with value: 0.8153230761066244.\u001B[0m\n",
      "\u001B[32m[I 2022-04-28 21:41:35,583]\u001B[0m Trial 13 pruned. Trial was pruned at iteration 167.\u001B[0m\n",
      "\u001B[32m[I 2022-04-28 21:41:35,925]\u001B[0m Trial 14 pruned. Trial was pruned at iteration 1.\u001B[0m\n",
      "\u001B[32m[I 2022-04-28 21:41:42,076]\u001B[0m Trial 15 finished with value: 0.8166688647843623 and parameters: {'n_estimators': 10000, 'learning_rate': 0.23989517854233786, 'num_leaves': 1320, 'max_depth': 5, 'min_data_in_leaf': 200, 'lambda_l1': 0, 'lambda_l2': 60, 'min_gain_to_split': 6.548656738310118, 'bagging_fraction': 0.5, 'bagging_freq': 1, 'feature_fraction': 0.30000000000000004}. Best is trial 15 with value: 0.8166688647843623.\u001B[0m\n",
      "\u001B[32m[I 2022-04-28 21:41:42,365]\u001B[0m Trial 16 pruned. Trial was pruned at iteration 0.\u001B[0m\n",
      "\u001B[32m[I 2022-04-28 21:41:42,745]\u001B[0m Trial 17 pruned. Trial was pruned at iteration 0.\u001B[0m\n",
      "\u001B[32m[I 2022-04-28 21:41:43,068]\u001B[0m Trial 18 pruned. Trial was pruned at iteration 3.\u001B[0m\n",
      "\u001B[32m[I 2022-04-28 21:41:43,452]\u001B[0m Trial 19 pruned. Trial was pruned at iteration 0.\u001B[0m\n",
      "\u001B[32m[I 2022-04-28 21:41:43,853]\u001B[0m Trial 20 pruned. Trial was pruned at iteration 0.\u001B[0m\n",
      "\u001B[32m[I 2022-04-28 21:41:50,305]\u001B[0m Trial 21 finished with value: 0.8147294230598486 and parameters: {'n_estimators': 10000, 'learning_rate': 0.2696358637488181, 'num_leaves': 2020, 'max_depth': 6, 'min_data_in_leaf': 300, 'lambda_l1': 15, 'lambda_l2': 50, 'min_gain_to_split': 1.7312159428549254, 'bagging_fraction': 0.4, 'bagging_freq': 1, 'feature_fraction': 0.2}. Best is trial 15 with value: 0.8166688647843623.\u001B[0m\n",
      "\u001B[32m[I 2022-04-28 21:41:50,607]\u001B[0m Trial 22 pruned. Trial was pruned at iteration 0.\u001B[0m\n",
      "\u001B[32m[I 2022-04-28 21:41:51,291]\u001B[0m Trial 23 pruned. Trial was pruned at iteration 130.\u001B[0m\n",
      "\u001B[32m[I 2022-04-28 21:41:51,620]\u001B[0m Trial 24 pruned. Trial was pruned at iteration 0.\u001B[0m\n",
      "\u001B[32m[I 2022-04-28 21:41:51,946]\u001B[0m Trial 25 pruned. Trial was pruned at iteration 0.\u001B[0m\n",
      "\u001B[32m[I 2022-04-28 21:41:52,258]\u001B[0m Trial 26 pruned. Trial was pruned at iteration 0.\u001B[0m\n",
      "\u001B[32m[I 2022-04-28 21:41:52,595]\u001B[0m Trial 27 pruned. Trial was pruned at iteration 0.\u001B[0m\n",
      "\u001B[32m[I 2022-04-28 21:41:52,941]\u001B[0m Trial 28 pruned. Trial was pruned at iteration 0.\u001B[0m\n",
      "\u001B[32m[I 2022-04-28 21:41:53,348]\u001B[0m Trial 29 pruned. Trial was pruned at iteration 0.\u001B[0m\n",
      "\u001B[32m[I 2022-04-28 21:41:53,664]\u001B[0m Trial 30 pruned. Trial was pruned at iteration 0.\u001B[0m\n",
      "\u001B[32m[I 2022-04-28 21:42:00,680]\u001B[0m Trial 31 finished with value: 0.8138102586150406 and parameters: {'n_estimators': 10000, 'learning_rate': 0.29996973805763477, 'num_leaves': 2100, 'max_depth': 7, 'min_data_in_leaf': 200, 'lambda_l1': 25, 'lambda_l2': 40, 'min_gain_to_split': 0.15292919503599323, 'bagging_fraction': 0.4, 'bagging_freq': 1, 'feature_fraction': 0.2}. Best is trial 15 with value: 0.8166688647843623.\u001B[0m\n",
      "\u001B[32m[I 2022-04-28 21:42:05,560]\u001B[0m Trial 32 finished with value: 0.8145861740043822 and parameters: {'n_estimators': 10000, 'learning_rate': 0.2775055304040573, 'num_leaves': 1760, 'max_depth': 8, 'min_data_in_leaf': 700, 'lambda_l1': 5, 'lambda_l2': 35, 'min_gain_to_split': 1.5292989133239834, 'bagging_fraction': 0.5, 'bagging_freq': 1, 'feature_fraction': 0.30000000000000004}. Best is trial 15 with value: 0.8166688647843623.\u001B[0m\n",
      "\u001B[32m[I 2022-04-28 21:42:05,961]\u001B[0m Trial 33 pruned. Trial was pruned at iteration 1.\u001B[0m\n",
      "\u001B[32m[I 2022-04-28 21:42:06,332]\u001B[0m Trial 34 pruned. Trial was pruned at iteration 0.\u001B[0m\n",
      "\u001B[32m[I 2022-04-28 21:42:07,903]\u001B[0m Trial 35 pruned. Trial was pruned at iteration 310.\u001B[0m\n",
      "\u001B[32m[I 2022-04-28 21:42:08,262]\u001B[0m Trial 36 pruned. Trial was pruned at iteration 0.\u001B[0m\n",
      "\u001B[32m[I 2022-04-28 21:42:08,624]\u001B[0m Trial 37 pruned. Trial was pruned at iteration 1.\u001B[0m\n",
      "\u001B[32m[I 2022-04-28 21:42:09,056]\u001B[0m Trial 38 pruned. Trial was pruned at iteration 0.\u001B[0m\n",
      "\u001B[32m[I 2022-04-28 21:42:09,388]\u001B[0m Trial 39 pruned. Trial was pruned at iteration 0.\u001B[0m\n",
      "\u001B[32m[I 2022-04-28 21:42:09,807]\u001B[0m Trial 40 pruned. Trial was pruned at iteration 0.\u001B[0m\n",
      "\u001B[32m[I 2022-04-28 21:42:10,140]\u001B[0m Trial 41 pruned. Trial was pruned at iteration 0.\u001B[0m\n",
      "\u001B[32m[I 2022-04-28 21:42:10,453]\u001B[0m Trial 42 pruned. Trial was pruned at iteration 0.\u001B[0m\n",
      "\u001B[32m[I 2022-04-28 21:42:18,707]\u001B[0m Trial 43 finished with value: 0.8156326259102837 and parameters: {'n_estimators': 10000, 'learning_rate': 0.28423255273049547, 'num_leaves': 2200, 'max_depth': 7, 'min_data_in_leaf': 200, 'lambda_l1': 30, 'lambda_l2': 65, 'min_gain_to_split': 0.02313286828308425, 'bagging_fraction': 0.5, 'bagging_freq': 1, 'feature_fraction': 0.2}. Best is trial 15 with value: 0.8166688647843623.\u001B[0m\n",
      "\u001B[32m[I 2022-04-28 21:42:19,028]\u001B[0m Trial 44 pruned. Trial was pruned at iteration 1.\u001B[0m\n",
      "\u001B[32m[I 2022-04-28 21:42:19,347]\u001B[0m Trial 45 pruned. Trial was pruned at iteration 0.\u001B[0m\n",
      "\u001B[32m[I 2022-04-28 21:42:19,685]\u001B[0m Trial 46 pruned. Trial was pruned at iteration 1.\u001B[0m\n",
      "\u001B[32m[I 2022-04-28 21:42:25,049]\u001B[0m Trial 47 finished with value: 0.8154405646945093 and parameters: {'n_estimators': 10000, 'learning_rate': 0.28644785182977567, 'num_leaves': 840, 'max_depth': 7, 'min_data_in_leaf': 2000, 'lambda_l1': 5, 'lambda_l2': 60, 'min_gain_to_split': 1.4313174068423742, 'bagging_fraction': 0.7, 'bagging_freq': 1, 'feature_fraction': 0.30000000000000004}. Best is trial 15 with value: 0.8166688647843623.\u001B[0m\n",
      "\u001B[32m[I 2022-04-28 21:42:25,405]\u001B[0m Trial 48 pruned. Trial was pruned at iteration 0.\u001B[0m\n",
      "\u001B[32m[I 2022-04-28 21:42:26,227]\u001B[0m Trial 49 pruned. Trial was pruned at iteration 149.\u001B[0m\n",
      "\u001B[32m[I 2022-04-28 21:42:26,590]\u001B[0m Trial 50 pruned. Trial was pruned at iteration 1.\u001B[0m\n",
      "\u001B[32m[I 2022-04-28 21:42:30,991]\u001B[0m Trial 51 finished with value: 0.8158553166997434 and parameters: {'n_estimators': 10000, 'learning_rate': 0.27486816120149815, 'num_leaves': 2320, 'max_depth': 8, 'min_data_in_leaf': 600, 'lambda_l1': 5, 'lambda_l2': 65, 'min_gain_to_split': 1.4191181791511893, 'bagging_fraction': 0.6000000000000001, 'bagging_freq': 1, 'feature_fraction': 0.30000000000000004}. Best is trial 15 with value: 0.8166688647843623.\u001B[0m\n",
      "\u001B[32m[I 2022-04-28 21:42:31,288]\u001B[0m Trial 52 pruned. Trial was pruned at iteration 1.\u001B[0m\n",
      "\u001B[32m[I 2022-04-28 21:42:36,751]\u001B[0m Trial 53 finished with value: 0.8187100788080375 and parameters: {'n_estimators': 10000, 'learning_rate': 0.2578668284051681, 'num_leaves': 2700, 'max_depth': 10, 'min_data_in_leaf': 200, 'lambda_l1': 5, 'lambda_l2': 75, 'min_gain_to_split': 0.63591911899281, 'bagging_fraction': 0.7, 'bagging_freq': 1, 'feature_fraction': 0.30000000000000004}. Best is trial 53 with value: 0.8187100788080375.\u001B[0m\n",
      "\u001B[32m[I 2022-04-28 21:42:37,134]\u001B[0m Trial 54 pruned. Trial was pruned at iteration 1.\u001B[0m\n",
      "\u001B[32m[I 2022-04-28 21:42:37,627]\u001B[0m Trial 55 pruned. Trial was pruned at iteration 1.\u001B[0m\n",
      "\u001B[32m[I 2022-04-28 21:42:38,078]\u001B[0m Trial 56 pruned. Trial was pruned at iteration 1.\u001B[0m\n",
      "\u001B[32m[I 2022-04-28 21:42:43,989]\u001B[0m Trial 57 finished with value: 0.8181375218577948 and parameters: {'n_estimators': 10000, 'learning_rate': 0.2164395500609077, 'num_leaves': 2860, 'max_depth': 9, 'min_data_in_leaf': 200, 'lambda_l1': 0, 'lambda_l2': 85, 'min_gain_to_split': 0.6508847796927528, 'bagging_fraction': 0.6000000000000001, 'bagging_freq': 1, 'feature_fraction': 0.4}. Best is trial 53 with value: 0.8187100788080375.\u001B[0m\n",
      "\u001B[32m[I 2022-04-28 21:42:44,386]\u001B[0m Trial 58 pruned. Trial was pruned at iteration 1.\u001B[0m\n",
      "\u001B[32m[I 2022-04-28 21:42:50,584]\u001B[0m Trial 59 finished with value: 0.8187218771778744 and parameters: {'n_estimators': 10000, 'learning_rate': 0.2162376220291415, 'num_leaves': 220, 'max_depth': 9, 'min_data_in_leaf': 200, 'lambda_l1': 5, 'lambda_l2': 85, 'min_gain_to_split': 0.6888745441631701, 'bagging_fraction': 0.6000000000000001, 'bagging_freq': 1, 'feature_fraction': 0.4}. Best is trial 59 with value: 0.8187218771778744.\u001B[0m\n",
      "\u001B[32m[I 2022-04-28 21:42:50,872]\u001B[0m Trial 60 pruned. Trial was pruned at iteration 0.\u001B[0m\n",
      "\u001B[32m[I 2022-04-28 21:42:56,894]\u001B[0m Trial 61 finished with value: 0.8169312068761144 and parameters: {'n_estimators': 10000, 'learning_rate': 0.23915718882423528, 'num_leaves': 600, 'max_depth': 8, 'min_data_in_leaf': 200, 'lambda_l1': 5, 'lambda_l2': 85, 'min_gain_to_split': 0.7118849710605605, 'bagging_fraction': 0.6000000000000001, 'bagging_freq': 1, 'feature_fraction': 0.5}. Best is trial 59 with value: 0.8187218771778744.\u001B[0m\n",
      "\u001B[32m[I 2022-04-28 21:43:02,883]\u001B[0m Trial 62 finished with value: 0.8189353159897458 and parameters: {'n_estimators': 10000, 'learning_rate': 0.16251995644313605, 'num_leaves': 220, 'max_depth': 9, 'min_data_in_leaf': 200, 'lambda_l1': 10, 'lambda_l2': 90, 'min_gain_to_split': 0.6492426196371871, 'bagging_fraction': 0.6000000000000001, 'bagging_freq': 1, 'feature_fraction': 0.5}. Best is trial 62 with value: 0.8189353159897458.\u001B[0m\n",
      "\u001B[32m[I 2022-04-28 21:43:03,213]\u001B[0m Trial 63 pruned. Trial was pruned at iteration 2.\u001B[0m\n",
      "\u001B[32m[I 2022-04-28 21:43:03,545]\u001B[0m Trial 64 pruned. Trial was pruned at iteration 1.\u001B[0m\n",
      "\u001B[32m[I 2022-04-28 21:43:03,941]\u001B[0m Trial 65 pruned. Trial was pruned at iteration 1.\u001B[0m\n",
      "\u001B[32m[I 2022-04-28 21:43:10,035]\u001B[0m Trial 66 finished with value: 0.8174182444770143 and parameters: {'n_estimators': 10000, 'learning_rate': 0.21293387227771451, 'num_leaves': 160, 'max_depth': 9, 'min_data_in_leaf': 200, 'lambda_l1': 0, 'lambda_l2': 90, 'min_gain_to_split': 1.3280247948158364, 'bagging_fraction': 0.6000000000000001, 'bagging_freq': 1, 'feature_fraction': 0.5}. Best is trial 62 with value: 0.8189353159897458.\u001B[0m\n",
      "\u001B[32m[I 2022-04-28 21:43:15,815]\u001B[0m Trial 67 finished with value: 0.8198512791440429 and parameters: {'n_estimators': 10000, 'learning_rate': 0.2131233945776833, 'num_leaves': 40, 'max_depth': 9, 'min_data_in_leaf': 200, 'lambda_l1': 0, 'lambda_l2': 95, 'min_gain_to_split': 2.7190572594492526, 'bagging_fraction': 0.7, 'bagging_freq': 1, 'feature_fraction': 0.5}. Best is trial 67 with value: 0.8198512791440429.\u001B[0m\n",
      "\u001B[32m[I 2022-04-28 21:43:21,627]\u001B[0m Trial 68 finished with value: 0.8196290084935459 and parameters: {'n_estimators': 10000, 'learning_rate': 0.20325880840643565, 'num_leaves': 160, 'max_depth': 9, 'min_data_in_leaf': 200, 'lambda_l1': 0, 'lambda_l2': 95, 'min_gain_to_split': 2.830140147334211, 'bagging_fraction': 0.7, 'bagging_freq': 1, 'feature_fraction': 0.5}. Best is trial 67 with value: 0.8198512791440429.\u001B[0m\n",
      "\u001B[32m[I 2022-04-28 21:43:21,949]\u001B[0m Trial 69 pruned. Trial was pruned at iteration 4.\u001B[0m\n",
      "\u001B[32m[I 2022-04-28 21:43:22,280]\u001B[0m Trial 70 pruned. Trial was pruned at iteration 1.\u001B[0m\n",
      "\u001B[32m[I 2022-04-28 21:43:28,955]\u001B[0m Trial 71 finished with value: 0.8195183709571282 and parameters: {'n_estimators': 10000, 'learning_rate': 0.21532226748626448, 'num_leaves': 100, 'max_depth': 9, 'min_data_in_leaf': 200, 'lambda_l1': 0, 'lambda_l2': 100, 'min_gain_to_split': 3.569840046253124, 'bagging_fraction': 0.7, 'bagging_freq': 1, 'feature_fraction': 0.5}. Best is trial 67 with value: 0.8198512791440429.\u001B[0m\n",
      "\u001B[32m[I 2022-04-28 21:43:34,244]\u001B[0m Trial 72 finished with value: 0.8191375454237082 and parameters: {'n_estimators': 10000, 'learning_rate': 0.2147328856741338, 'num_leaves': 40, 'max_depth': 9, 'min_data_in_leaf': 400, 'lambda_l1': 0, 'lambda_l2': 100, 'min_gain_to_split': 3.4746459846474713, 'bagging_fraction': 0.8, 'bagging_freq': 1, 'feature_fraction': 0.5}. Best is trial 67 with value: 0.8198512791440429.\u001B[0m\n",
      "\u001B[32m[I 2022-04-28 21:43:43,587]\u001B[0m Trial 73 finished with value: 0.817986413288166 and parameters: {'n_estimators': 10000, 'learning_rate': 0.19134539458832667, 'num_leaves': 100, 'max_depth': 9, 'min_data_in_leaf': 500, 'lambda_l1': 5, 'lambda_l2': 100, 'min_gain_to_split': 3.5959295636138315, 'bagging_fraction': 0.9, 'bagging_freq': 1, 'feature_fraction': 0.6000000000000001}. Best is trial 67 with value: 0.8198512791440429.\u001B[0m\n",
      "\u001B[32m[I 2022-04-28 21:43:43,996]\u001B[0m Trial 74 pruned. Trial was pruned at iteration 14.\u001B[0m\n",
      "\u001B[32m[I 2022-04-28 21:43:44,349]\u001B[0m Trial 75 pruned. Trial was pruned at iteration 0.\u001B[0m\n",
      "\u001B[32m[I 2022-04-28 21:43:44,734]\u001B[0m Trial 76 pruned. Trial was pruned at iteration 2.\u001B[0m\n",
      "\u001B[32m[I 2022-04-28 21:43:45,081]\u001B[0m Trial 77 pruned. Trial was pruned at iteration 3.\u001B[0m\n",
      "\u001B[32m[I 2022-04-28 21:43:45,492]\u001B[0m Trial 78 pruned. Trial was pruned at iteration 3.\u001B[0m\n",
      "\u001B[32m[I 2022-04-28 21:43:45,865]\u001B[0m Trial 79 pruned. Trial was pruned at iteration 0.\u001B[0m\n",
      "\u001B[32m[I 2022-04-28 21:43:46,242]\u001B[0m Trial 80 pruned. Trial was pruned at iteration 0.\u001B[0m\n",
      "\u001B[32m[I 2022-04-28 21:43:46,637]\u001B[0m Trial 81 pruned. Trial was pruned at iteration 2.\u001B[0m\n",
      "\u001B[32m[I 2022-04-28 21:43:58,633]\u001B[0m Trial 82 finished with value: 0.8181582863289755 and parameters: {'n_estimators': 10000, 'learning_rate': 0.1890471058724382, 'num_leaves': 100, 'max_depth': 8, 'min_data_in_leaf': 400, 'lambda_l1': 10, 'lambda_l2': 95, 'min_gain_to_split': 3.5863672076310267, 'bagging_fraction': 0.9, 'bagging_freq': 1, 'feature_fraction': 0.6000000000000001}. Best is trial 67 with value: 0.8198512791440429.\u001B[0m\n",
      "\u001B[32m[I 2022-04-28 21:43:58,937]\u001B[0m Trial 83 pruned. Trial was pruned at iteration 0.\u001B[0m\n",
      "\u001B[32m[I 2022-04-28 21:43:59,279]\u001B[0m Trial 84 pruned. Trial was pruned at iteration 1.\u001B[0m\n",
      "\u001B[32m[I 2022-04-28 21:44:09,601]\u001B[0m Trial 85 finished with value: 0.817558720098589 and parameters: {'n_estimators': 10000, 'learning_rate': 0.23344093708968378, 'num_leaves': 500, 'max_depth': 8, 'min_data_in_leaf': 700, 'lambda_l1': 10, 'lambda_l2': 95, 'min_gain_to_split': 2.2239657679235374, 'bagging_fraction': 0.9, 'bagging_freq': 1, 'feature_fraction': 0.7}. Best is trial 67 with value: 0.8198512791440429.\u001B[0m\n",
      "\u001B[32m[I 2022-04-28 21:44:09,922]\u001B[0m Trial 86 pruned. Trial was pruned at iteration 0.\u001B[0m\n",
      "\u001B[32m[I 2022-04-28 21:44:10,246]\u001B[0m Trial 87 pruned. Trial was pruned at iteration 4.\u001B[0m\n",
      "\u001B[32m[I 2022-04-28 21:44:10,568]\u001B[0m Trial 88 pruned. Trial was pruned at iteration 0.\u001B[0m\n",
      "\u001B[32m[I 2022-04-28 21:44:10,872]\u001B[0m Trial 89 pruned. Trial was pruned at iteration 0.\u001B[0m\n",
      "\u001B[32m[I 2022-04-28 21:44:11,191]\u001B[0m Trial 90 pruned. Trial was pruned at iteration 0.\u001B[0m\n",
      "\u001B[32m[I 2022-04-28 21:44:22,201]\u001B[0m Trial 91 finished with value: 0.818151677732191 and parameters: {'n_estimators': 10000, 'learning_rate': 0.1904400282353859, 'num_leaves': 100, 'max_depth': 9, 'min_data_in_leaf': 500, 'lambda_l1': 5, 'lambda_l2': 100, 'min_gain_to_split': 3.5678790328803065, 'bagging_fraction': 0.9, 'bagging_freq': 1, 'feature_fraction': 0.6000000000000001}. Best is trial 67 with value: 0.8198512791440429.\u001B[0m\n",
      "\u001B[32m[I 2022-04-28 21:44:30,768]\u001B[0m Trial 92 finished with value: 0.8195289003571762 and parameters: {'n_estimators': 10000, 'learning_rate': 0.18380244643108185, 'num_leaves': 60, 'max_depth': 9, 'min_data_in_leaf': 200, 'lambda_l1': 5, 'lambda_l2': 95, 'min_gain_to_split': 3.589079830448967, 'bagging_fraction': 0.9, 'bagging_freq': 1, 'feature_fraction': 0.6000000000000001}. Best is trial 67 with value: 0.8198512791440429.\u001B[0m\n",
      "\u001B[32m[I 2022-04-28 21:44:31,085]\u001B[0m Trial 93 pruned. Trial was pruned at iteration 2.\u001B[0m\n",
      "\u001B[32m[I 2022-04-28 21:44:31,421]\u001B[0m Trial 94 pruned. Trial was pruned at iteration 4.\u001B[0m\n",
      "\u001B[32m[I 2022-04-28 21:44:31,779]\u001B[0m Trial 95 pruned. Trial was pruned at iteration 11.\u001B[0m\n",
      "\u001B[32m[I 2022-04-28 21:44:32,104]\u001B[0m Trial 96 pruned. Trial was pruned at iteration 1.\u001B[0m\n",
      "\u001B[32m[I 2022-04-28 21:44:32,476]\u001B[0m Trial 97 pruned. Trial was pruned at iteration 0.\u001B[0m\n",
      "\u001B[32m[I 2022-04-28 21:44:41,834]\u001B[0m Trial 98 finished with value: 0.8190172569079859 and parameters: {'n_estimators': 10000, 'learning_rate': 0.19382190539855035, 'num_leaves': 220, 'max_depth': 9, 'min_data_in_leaf': 200, 'lambda_l1': 0, 'lambda_l2': 80, 'min_gain_to_split': 5.755246134780256, 'bagging_fraction': 0.9, 'bagging_freq': 1, 'feature_fraction': 0.7}. Best is trial 67 with value: 0.8198512791440429.\u001B[0m\n",
      "\u001B[32m[I 2022-04-28 21:44:48,998]\u001B[0m Trial 99 finished with value: 0.8181643447782555 and parameters: {'n_estimators': 10000, 'learning_rate': 0.19417897089064745, 'num_leaves': 220, 'max_depth': 10, 'min_data_in_leaf': 200, 'lambda_l1': 0, 'lambda_l2': 80, 'min_gain_to_split': 6.910225412713766, 'bagging_fraction': 0.8, 'bagging_freq': 1, 'feature_fraction': 0.8}. Best is trial 67 with value: 0.8198512791440429.\u001B[0m\n"
     ]
    }
   ],
   "source": [
    "%%capture\n",
    "study = optuna.create_study(direction=\"maximize\", study_name=\"LGBM Classifier\")\n",
    "func = lambda trial: objective(trial, X_train_final, y_train)\n",
    "study.optimize(func, n_trials=100)"
   ],
   "metadata": {
    "collapsed": false,
    "pycharm": {
     "name": "#%%\n"
    }
   }
  },
  {
   "cell_type": "code",
   "execution_count": 132,
   "outputs": [
    {
     "name": "stdout",
     "output_type": "stream",
     "text": [
      "\tBest value (AUC): 0.81985\n",
      "\tBest params:\n",
      "\t\tn_estimators: 10000\n",
      "\t\tlearning_rate: 0.2131233945776833\n",
      "\t\tnum_leaves: 40\n",
      "\t\tmax_depth: 9\n",
      "\t\tmin_data_in_leaf: 200\n",
      "\t\tlambda_l1: 0\n",
      "\t\tlambda_l2: 95\n",
      "\t\tmin_gain_to_split: 2.7190572594492526\n",
      "\t\tbagging_fraction: 0.7\n",
      "\t\tbagging_freq: 1\n",
      "\t\tfeature_fraction: 0.5\n"
     ]
    }
   ],
   "source": [
    "print(f\"\\tBest value (AUC): {study.best_value:.5f}\")\n",
    "print(f\"\\tBest params:\")\n",
    "\n",
    "for key, value in study.best_params.items():\n",
    "    print(f\"\\t\\t{key}: {value}\")"
   ],
   "metadata": {
    "collapsed": false,
    "pycharm": {
     "name": "#%%\n"
    }
   }
  },
  {
   "cell_type": "code",
   "execution_count": 133,
   "outputs": [
    {
     "name": "stdout",
     "output_type": "stream",
     "text": [
      "[LightGBM] [Warning] feature_fraction is set=0.5, colsample_bytree=1.0 will be ignored. Current value: feature_fraction=0.5\n",
      "[LightGBM] [Warning] min_data_in_leaf is set=200, min_child_samples=20 will be ignored. Current value: min_data_in_leaf=200\n",
      "[LightGBM] [Warning] min_gain_to_split is set=2.7190572594492526, min_split_gain=0.0 will be ignored. Current value: min_gain_to_split=2.7190572594492526\n",
      "[LightGBM] [Warning] lambda_l1 is set=0, reg_alpha=0.0 will be ignored. Current value: lambda_l1=0\n",
      "[LightGBM] [Warning] bagging_fraction is set=0.7, subsample=1.0 will be ignored. Current value: bagging_fraction=0.7\n",
      "[LightGBM] [Warning] lambda_l2 is set=95, reg_lambda=0.0 will be ignored. Current value: lambda_l2=95\n",
      "[LightGBM] [Warning] bagging_freq is set=1, subsample_freq=0 will be ignored. Current value: bagging_freq=1\n",
      "LightGBM best performance on train set: 0.90586\n",
      "LightGBM best performance on test set: 0.80674\n"
     ]
    }
   ],
   "source": [
    "lgb_optuna = lgb.LGBMClassifier(**study.best_params).fit(X_train_final, y_train)\n",
    "print('LightGBM best performance on train set: {:.5f}'.format(roc_auc_score(y_train, lgb_optuna.predict_proba(X_train_final)[:,1])))\n",
    "print('LightGBM best performance on test set: {:.5f}'.format(roc_auc_score(y_test, lgb_optuna.predict_proba(X_test_final)[:,1])))"
   ],
   "metadata": {
    "collapsed": false,
    "pycharm": {
     "name": "#%%\n"
    }
   }
  },
  {
   "cell_type": "code",
   "execution_count": 41,
   "outputs": [
    {
     "data": {
      "text/plain": "{'n_estimators': 10000,\n 'learning_rate': 0.19426827218190934,\n 'num_leaves': 2360,\n 'max_depth': 7,\n 'min_data_in_leaf': 5300,\n 'lambda_l1': 90,\n 'lambda_l2': 60,\n 'min_gain_to_split': 9.168537190385951,\n 'bagging_fraction': 0.30000000000000004,\n 'bagging_freq': 1,\n 'feature_fraction': 0.30000000000000004}"
     },
     "execution_count": 41,
     "metadata": {},
     "output_type": "execute_result"
    }
   ],
   "source": [
    "study.best_params"
   ],
   "metadata": {
    "collapsed": false,
    "pycharm": {
     "name": "#%%\n"
    }
   }
  },
  {
   "cell_type": "code",
   "execution_count": 85,
   "outputs": [],
   "source": [
    "dill.dump(lgb_optuna, open('lgb_optuna.pkl', 'wb'))"
   ],
   "metadata": {
    "collapsed": false,
    "pycharm": {
     "name": "#%%\n"
    }
   }
  },
  {
   "cell_type": "code",
   "execution_count": null,
   "outputs": [],
   "source": [
    "lgb_optuna = dill.load(open('lgb_optuna.pkl', 'rb'))"
   ],
   "metadata": {
    "collapsed": false,
    "pycharm": {
     "name": "#%%\n"
    }
   }
  },
  {
   "cell_type": "markdown",
   "source": [
    "## optuna XGBoost"
   ],
   "metadata": {
    "collapsed": false,
    "pycharm": {
     "name": "#%% md\n"
    }
   }
  },
  {
   "cell_type": "code",
   "execution_count": 95,
   "outputs": [],
   "source": [
    "import optuna\n",
    "import xgboost as xgb\n",
    "from sklearn.metrics import roc_auc_score\n",
    "from sklearn.model_selection import StratifiedKFold\n",
    "from optuna.integration import XGBoostPruningCallback"
   ],
   "metadata": {
    "collapsed": false,
    "pycharm": {
     "name": "#%%\n"
    }
   }
  },
  {
   "cell_type": "code",
   "execution_count": 98,
   "outputs": [],
   "source": [
    "def objective(trial, X_train_final, y_train):\n",
    "    param_grid = {\n",
    "        # \"device_type\": trial.suggest_categorical(\"device_type\", ['gpu']),\n",
    "        \"gamma\": trial.suggest_int(\"gamma\", 1, 15),\n",
    "        \"n_estimators\": trial.suggest_int(\"n_estimators\", 500 , 10000, step=100),\n",
    "        \"learning_rate\": trial.suggest_float(\"learning_rate\", 0.01, 0.5),\n",
    "        \"max_depth\": trial.suggest_int(\"max_depth\", 3, 12),\n",
    "        \"alpha\": trial.suggest_loguniform(\"lambda\", 1e-8, 100.0),\n",
    "        \"lambda\": trial.suggest_loguniform(\"lambda\", 1e-8, 100.0),\n",
    "        \"min_child_weight\": trial.suggest_int(\"min_child_weight\", 0, 20),\n",
    "        'eval_metric':\"auc\",\n",
    "    }\n",
    "\n",
    "    cv = StratifiedKFold(n_splits=5, shuffle=True, random_state=1121218)\n",
    "\n",
    "    cv_scores = np.empty(5)\n",
    "    for idx, (train_idx, test_idx) in enumerate(cv.split(X_train_final, y_train)):\n",
    "        X_train_o, X_test_o = X_train_final.iloc[train_idx], X_train_final.iloc[test_idx]\n",
    "        y_train_o, y_test_o = y_train[train_idx], y_train[test_idx]\n",
    "\n",
    "        model = xgb.XGBClassifier(objective=\"binary:logistic\", **param_grid)\n",
    "        model.fit(\n",
    "            X_train_o,\n",
    "            y_train_o,\n",
    "            eval_set=[(X_test_o, y_test_o)],\n",
    "            early_stopping_rounds=100,\n",
    "            #callbacks=[XGBoostPruningCallback(trial, \"validation-auc\")],  # Add a pruning callback\n",
    "        )\n",
    "        preds = model.predict_proba(X_test_o)\n",
    "        cv_scores[idx] = roc_auc_score(y_test_o, preds[:, 1])\n",
    "\n",
    "    return np.mean(cv_scores)"
   ],
   "metadata": {
    "collapsed": false,
    "pycharm": {
     "name": "#%%\n"
    }
   }
  },
  {
   "cell_type": "code",
   "execution_count": 99,
   "outputs": [
    {
     "name": "stderr",
     "output_type": "stream",
     "text": [
      "\u001B[32m[I 2022-04-28 19:59:14,829]\u001B[0m A new study created in memory with name: XGBoost Classifier\u001B[0m\n",
      "\u001B[32m[I 2022-04-28 20:01:31,302]\u001B[0m Trial 0 finished with value: 0.8173910892852791 and parameters: {'gamma': 2, 'n_estimators': 8000, 'learning_rate': 0.3661065535446032, 'max_depth': 8, 'lambda': 11.375169110236824, 'min_child_weight': 5}. Best is trial 0 with value: 0.8173910892852791.\u001B[0m\n",
      "\u001B[32m[I 2022-04-28 20:03:06,363]\u001B[0m Trial 1 finished with value: 0.8168426290184702 and parameters: {'gamma': 5, 'n_estimators': 9900, 'learning_rate': 0.3255339655727209, 'max_depth': 6, 'lambda': 0.00033089542471768615, 'min_child_weight': 17}. Best is trial 0 with value: 0.8173910892852791.\u001B[0m\n"
     ]
    }
   ],
   "source": [
    "%%capture\n",
    "study = optuna.create_study(direction=\"maximize\", study_name=\"XGBoost Classifier\")\n",
    "func = lambda trial: objective(trial, X_train_final, y_train)\n",
    "study.optimize(func, n_trials=2)"
   ],
   "metadata": {
    "collapsed": false,
    "pycharm": {
     "name": "#%%\n"
    }
   }
  },
  {
   "cell_type": "code",
   "execution_count": 122,
   "outputs": [
    {
     "ename": "KeyboardInterrupt",
     "evalue": "",
     "output_type": "error",
     "traceback": [
      "\u001B[1;31m---------------------------------------------------------------------------\u001B[0m",
      "\u001B[1;31mKeyboardInterrupt\u001B[0m                         Traceback (most recent call last)",
      "Input \u001B[1;32mIn [122]\u001B[0m, in \u001B[0;36m<cell line: 1>\u001B[1;34m()\u001B[0m\n\u001B[1;32m----> 1\u001B[0m xgb_optuna \u001B[38;5;241m=\u001B[39m \u001B[43mxgb\u001B[49m\u001B[38;5;241;43m.\u001B[39;49m\u001B[43mXGBClassifier\u001B[49m\u001B[43m(\u001B[49m\u001B[38;5;241;43m*\u001B[39;49m\u001B[38;5;241;43m*\u001B[39;49m\u001B[43mstudy\u001B[49m\u001B[38;5;241;43m.\u001B[39;49m\u001B[43mbest_params\u001B[49m\u001B[43m)\u001B[49m\u001B[38;5;241;43m.\u001B[39;49m\u001B[43mfit\u001B[49m\u001B[43m(\u001B[49m\u001B[43mX_train_final\u001B[49m\u001B[43m,\u001B[49m\u001B[43m \u001B[49m\u001B[43my_train\u001B[49m\u001B[43m)\u001B[49m\n\u001B[0;32m      2\u001B[0m \u001B[38;5;28mprint\u001B[39m(\u001B[38;5;124m'\u001B[39m\u001B[38;5;124mLightGBM best performance on train set: \u001B[39m\u001B[38;5;132;01m{:.5f}\u001B[39;00m\u001B[38;5;124m'\u001B[39m\u001B[38;5;241m.\u001B[39mformat(roc_auc_score(y_train, xgb_optuna\u001B[38;5;241m.\u001B[39mpredict_proba(X_train_final)[:,\u001B[38;5;241m1\u001B[39m])))\n\u001B[0;32m      3\u001B[0m \u001B[38;5;28mprint\u001B[39m(\u001B[38;5;124m'\u001B[39m\u001B[38;5;124mLightGBM best performance on test set: \u001B[39m\u001B[38;5;132;01m{:.5f}\u001B[39;00m\u001B[38;5;124m'\u001B[39m\u001B[38;5;241m.\u001B[39mformat(roc_auc_score(y_test, xgb_optuna\u001B[38;5;241m.\u001B[39mpredict_proba(X_test_final)[:,\u001B[38;5;241m1\u001B[39m])))\n",
      "File \u001B[1;32m~\\anaconda3\\envs\\lab 3\\lib\\site-packages\\xgboost\\core.py:532\u001B[0m, in \u001B[0;36m_deprecate_positional_args.<locals>.inner_f\u001B[1;34m(*args, **kwargs)\u001B[0m\n\u001B[0;32m    530\u001B[0m \u001B[38;5;28;01mfor\u001B[39;00m k, arg \u001B[38;5;129;01min\u001B[39;00m \u001B[38;5;28mzip\u001B[39m(sig\u001B[38;5;241m.\u001B[39mparameters, args):\n\u001B[0;32m    531\u001B[0m     kwargs[k] \u001B[38;5;241m=\u001B[39m arg\n\u001B[1;32m--> 532\u001B[0m \u001B[38;5;28;01mreturn\u001B[39;00m f(\u001B[38;5;241m*\u001B[39m\u001B[38;5;241m*\u001B[39mkwargs)\n",
      "File \u001B[1;32m~\\anaconda3\\envs\\lab 3\\lib\\site-packages\\xgboost\\sklearn.py:1400\u001B[0m, in \u001B[0;36mXGBClassifier.fit\u001B[1;34m(self, X, y, sample_weight, base_margin, eval_set, eval_metric, early_stopping_rounds, verbose, xgb_model, sample_weight_eval_set, base_margin_eval_set, feature_weights, callbacks)\u001B[0m\n\u001B[0;32m   1379\u001B[0m model, metric, params, early_stopping_rounds, callbacks \u001B[38;5;241m=\u001B[39m \u001B[38;5;28mself\u001B[39m\u001B[38;5;241m.\u001B[39m_configure_fit(\n\u001B[0;32m   1380\u001B[0m     xgb_model, eval_metric, params, early_stopping_rounds, callbacks\n\u001B[0;32m   1381\u001B[0m )\n\u001B[0;32m   1382\u001B[0m train_dmatrix, evals \u001B[38;5;241m=\u001B[39m _wrap_evaluation_matrices(\n\u001B[0;32m   1383\u001B[0m     missing\u001B[38;5;241m=\u001B[39m\u001B[38;5;28mself\u001B[39m\u001B[38;5;241m.\u001B[39mmissing,\n\u001B[0;32m   1384\u001B[0m     X\u001B[38;5;241m=\u001B[39mX,\n\u001B[1;32m   (...)\u001B[0m\n\u001B[0;32m   1397\u001B[0m     enable_categorical\u001B[38;5;241m=\u001B[39m\u001B[38;5;28mself\u001B[39m\u001B[38;5;241m.\u001B[39menable_categorical,\n\u001B[0;32m   1398\u001B[0m )\n\u001B[1;32m-> 1400\u001B[0m \u001B[38;5;28mself\u001B[39m\u001B[38;5;241m.\u001B[39m_Booster \u001B[38;5;241m=\u001B[39m \u001B[43mtrain\u001B[49m\u001B[43m(\u001B[49m\n\u001B[0;32m   1401\u001B[0m \u001B[43m    \u001B[49m\u001B[43mparams\u001B[49m\u001B[43m,\u001B[49m\n\u001B[0;32m   1402\u001B[0m \u001B[43m    \u001B[49m\u001B[43mtrain_dmatrix\u001B[49m\u001B[43m,\u001B[49m\n\u001B[0;32m   1403\u001B[0m \u001B[43m    \u001B[49m\u001B[38;5;28;43mself\u001B[39;49m\u001B[38;5;241;43m.\u001B[39;49m\u001B[43mget_num_boosting_rounds\u001B[49m\u001B[43m(\u001B[49m\u001B[43m)\u001B[49m\u001B[43m,\u001B[49m\n\u001B[0;32m   1404\u001B[0m \u001B[43m    \u001B[49m\u001B[43mevals\u001B[49m\u001B[38;5;241;43m=\u001B[39;49m\u001B[43mevals\u001B[49m\u001B[43m,\u001B[49m\n\u001B[0;32m   1405\u001B[0m \u001B[43m    \u001B[49m\u001B[43mearly_stopping_rounds\u001B[49m\u001B[38;5;241;43m=\u001B[39;49m\u001B[43mearly_stopping_rounds\u001B[49m\u001B[43m,\u001B[49m\n\u001B[0;32m   1406\u001B[0m \u001B[43m    \u001B[49m\u001B[43mevals_result\u001B[49m\u001B[38;5;241;43m=\u001B[39;49m\u001B[43mevals_result\u001B[49m\u001B[43m,\u001B[49m\n\u001B[0;32m   1407\u001B[0m \u001B[43m    \u001B[49m\u001B[43mobj\u001B[49m\u001B[38;5;241;43m=\u001B[39;49m\u001B[43mobj\u001B[49m\u001B[43m,\u001B[49m\n\u001B[0;32m   1408\u001B[0m \u001B[43m    \u001B[49m\u001B[43mcustom_metric\u001B[49m\u001B[38;5;241;43m=\u001B[39;49m\u001B[43mmetric\u001B[49m\u001B[43m,\u001B[49m\n\u001B[0;32m   1409\u001B[0m \u001B[43m    \u001B[49m\u001B[43mverbose_eval\u001B[49m\u001B[38;5;241;43m=\u001B[39;49m\u001B[43mverbose\u001B[49m\u001B[43m,\u001B[49m\n\u001B[0;32m   1410\u001B[0m \u001B[43m    \u001B[49m\u001B[43mxgb_model\u001B[49m\u001B[38;5;241;43m=\u001B[39;49m\u001B[43mmodel\u001B[49m\u001B[43m,\u001B[49m\n\u001B[0;32m   1411\u001B[0m \u001B[43m    \u001B[49m\u001B[43mcallbacks\u001B[49m\u001B[38;5;241;43m=\u001B[39;49m\u001B[43mcallbacks\u001B[49m\u001B[43m,\u001B[49m\n\u001B[0;32m   1412\u001B[0m \u001B[43m\u001B[49m\u001B[43m)\u001B[49m\n\u001B[0;32m   1414\u001B[0m \u001B[38;5;28;01mif\u001B[39;00m \u001B[38;5;129;01mnot\u001B[39;00m callable(\u001B[38;5;28mself\u001B[39m\u001B[38;5;241m.\u001B[39mobjective):\n\u001B[0;32m   1415\u001B[0m     \u001B[38;5;28mself\u001B[39m\u001B[38;5;241m.\u001B[39mobjective \u001B[38;5;241m=\u001B[39m params[\u001B[38;5;124m\"\u001B[39m\u001B[38;5;124mobjective\u001B[39m\u001B[38;5;124m\"\u001B[39m]\n",
      "File \u001B[1;32m~\\anaconda3\\envs\\lab 3\\lib\\site-packages\\xgboost\\core.py:532\u001B[0m, in \u001B[0;36m_deprecate_positional_args.<locals>.inner_f\u001B[1;34m(*args, **kwargs)\u001B[0m\n\u001B[0;32m    530\u001B[0m \u001B[38;5;28;01mfor\u001B[39;00m k, arg \u001B[38;5;129;01min\u001B[39;00m \u001B[38;5;28mzip\u001B[39m(sig\u001B[38;5;241m.\u001B[39mparameters, args):\n\u001B[0;32m    531\u001B[0m     kwargs[k] \u001B[38;5;241m=\u001B[39m arg\n\u001B[1;32m--> 532\u001B[0m \u001B[38;5;28;01mreturn\u001B[39;00m f(\u001B[38;5;241m*\u001B[39m\u001B[38;5;241m*\u001B[39mkwargs)\n",
      "File \u001B[1;32m~\\anaconda3\\envs\\lab 3\\lib\\site-packages\\xgboost\\training.py:181\u001B[0m, in \u001B[0;36mtrain\u001B[1;34m(params, dtrain, num_boost_round, evals, obj, feval, maximize, early_stopping_rounds, evals_result, verbose_eval, xgb_model, callbacks, custom_metric)\u001B[0m\n\u001B[0;32m    179\u001B[0m \u001B[38;5;28;01mif\u001B[39;00m cb_container\u001B[38;5;241m.\u001B[39mbefore_iteration(bst, i, dtrain, evals):\n\u001B[0;32m    180\u001B[0m     \u001B[38;5;28;01mbreak\u001B[39;00m\n\u001B[1;32m--> 181\u001B[0m \u001B[43mbst\u001B[49m\u001B[38;5;241;43m.\u001B[39;49m\u001B[43mupdate\u001B[49m\u001B[43m(\u001B[49m\u001B[43mdtrain\u001B[49m\u001B[43m,\u001B[49m\u001B[43m \u001B[49m\u001B[43mi\u001B[49m\u001B[43m,\u001B[49m\u001B[43m \u001B[49m\u001B[43mobj\u001B[49m\u001B[43m)\u001B[49m\n\u001B[0;32m    182\u001B[0m \u001B[38;5;28;01mif\u001B[39;00m cb_container\u001B[38;5;241m.\u001B[39mafter_iteration(bst, i, dtrain, evals):\n\u001B[0;32m    183\u001B[0m     \u001B[38;5;28;01mbreak\u001B[39;00m\n",
      "File \u001B[1;32m~\\anaconda3\\envs\\lab 3\\lib\\site-packages\\xgboost\\core.py:1733\u001B[0m, in \u001B[0;36mBooster.update\u001B[1;34m(self, dtrain, iteration, fobj)\u001B[0m\n\u001B[0;32m   1730\u001B[0m \u001B[38;5;28mself\u001B[39m\u001B[38;5;241m.\u001B[39m_validate_features(dtrain)\n\u001B[0;32m   1732\u001B[0m \u001B[38;5;28;01mif\u001B[39;00m fobj \u001B[38;5;129;01mis\u001B[39;00m \u001B[38;5;28;01mNone\u001B[39;00m:\n\u001B[1;32m-> 1733\u001B[0m     _check_call(\u001B[43m_LIB\u001B[49m\u001B[38;5;241;43m.\u001B[39;49m\u001B[43mXGBoosterUpdateOneIter\u001B[49m\u001B[43m(\u001B[49m\u001B[38;5;28;43mself\u001B[39;49m\u001B[38;5;241;43m.\u001B[39;49m\u001B[43mhandle\u001B[49m\u001B[43m,\u001B[49m\n\u001B[0;32m   1734\u001B[0m \u001B[43m                                            \u001B[49m\u001B[43mctypes\u001B[49m\u001B[38;5;241;43m.\u001B[39;49m\u001B[43mc_int\u001B[49m\u001B[43m(\u001B[49m\u001B[43miteration\u001B[49m\u001B[43m)\u001B[49m\u001B[43m,\u001B[49m\n\u001B[0;32m   1735\u001B[0m \u001B[43m                                            \u001B[49m\u001B[43mdtrain\u001B[49m\u001B[38;5;241;43m.\u001B[39;49m\u001B[43mhandle\u001B[49m\u001B[43m)\u001B[49m)\n\u001B[0;32m   1736\u001B[0m \u001B[38;5;28;01melse\u001B[39;00m:\n\u001B[0;32m   1737\u001B[0m     pred \u001B[38;5;241m=\u001B[39m \u001B[38;5;28mself\u001B[39m\u001B[38;5;241m.\u001B[39mpredict(dtrain, output_margin\u001B[38;5;241m=\u001B[39m\u001B[38;5;28;01mTrue\u001B[39;00m, training\u001B[38;5;241m=\u001B[39m\u001B[38;5;28;01mTrue\u001B[39;00m)\n",
      "\u001B[1;31mKeyboardInterrupt\u001B[0m: "
     ]
    }
   ],
   "source": [
    "xgb_optuna = xgb.XGBClassifier(**study.best_params).fit(X_train_final, y_train)\n",
    "print('LightGBM best performance on train set: {:.5f}'.format(roc_auc_score(y_train, xgb_optuna.predict_proba(X_train_final)[:,1])))\n",
    "print('LightGBM best performance on test set: {:.5f}'.format(roc_auc_score(y_test, xgb_optuna.predict_proba(X_test_final)[:,1])))"
   ],
   "metadata": {
    "collapsed": false,
    "pycharm": {
     "name": "#%%\n"
    }
   }
  },
  {
   "cell_type": "markdown",
   "source": [
    "# Stacking"
   ],
   "metadata": {
    "collapsed": false,
    "pycharm": {
     "name": "#%% md\n"
    }
   }
  },
  {
   "cell_type": "code",
   "execution_count": 28,
   "outputs": [],
   "source": [
    "from sklearn.ensemble import StackingClassifier\n",
    "from sklearn.linear_model import LogisticRegression"
   ],
   "metadata": {
    "collapsed": false,
    "pycharm": {
     "name": "#%%\n"
    }
   }
  },
  {
   "cell_type": "code",
   "execution_count": 32,
   "outputs": [],
   "source": [
    "lgb_optuna = dill.load(open('lgb_optuna.pkl', 'rb'))\n",
    "lgb_default = dill.load(open('lgb_default.p', 'rb'))\n",
    "cat_default = dill.load(open('cat_default.p', 'rb'))\n",
    "xgb_default = dill.load(open('xgb_default.p', 'rb'))\n",
    "xgb_grid1 = dill.load(open('gsearch1.pkl', 'rb'))\n",
    "xgb_grid2 = dill.load(open('gsearch2.pkl', 'rb'))"
   ],
   "metadata": {
    "collapsed": false,
    "pycharm": {
     "name": "#%%\n"
    }
   }
  },
  {
   "cell_type": "code",
   "execution_count": 33,
   "outputs": [
    {
     "name": "stdout",
     "output_type": "stream",
     "text": [
      "CPU times: total: 0 ns\n",
      "Wall time: 0 ns\n"
     ]
    }
   ],
   "source": [
    "%%time\n",
    "level0 = [('lgb_optuna', lgb_optuna),\n",
    "          ('lgb_default', lgb_default),\n",
    "          ('cat_default', cat_default),\n",
    "          ('xgb_default', xgb_default),\n",
    "          ('xgb_grid1', xgb_grid1),\n",
    "          ('xgb_grid2', xgb_grid2)]\n",
    "\n",
    "level1 = LogisticRegression()\n",
    "\n",
    "stc_class = StackingClassifier(estimators=level0,\n",
    "                             final_estimator=level1,\n",
    "                             cv=5,\n",
    "                             n_jobs=-1)"
   ],
   "metadata": {
    "collapsed": false,
    "pycharm": {
     "name": "#%%\n"
    }
   }
  },
  {
   "cell_type": "code",
   "execution_count": null,
   "outputs": [],
   "source": [
    "%%time\n",
    "stc_class.fit(X_train_final, y_final)\n",
    "print('StackingClassifier best performance on train set: {:.5f}'.format(roc_auc_score(y_train, stc_class.predict_proba(X_train_final)[:, 1])))\n",
    "print('StackingClassifier best performance on test set: {:.5f}'.format(roc_auc_score(y_test, stc_class.predict_proba(X_test_final)[:, 1])))"
   ],
   "metadata": {
    "collapsed": false,
    "pycharm": {
     "name": "#%%\n",
     "is_executing": true
    }
   }
  },
  {
   "cell_type": "code",
   "execution_count": null,
   "outputs": [],
   "source": [
    "dill.dump(stc_class, open('stclass.pkl', 'wb'))"
   ],
   "metadata": {
    "collapsed": false,
    "pycharm": {
     "name": "#%%\n"
    }
   }
  },
  {
   "cell_type": "code",
   "execution_count": null,
   "outputs": [],
   "source": [
    "stc_class = dill.load(open('stclass.pkl', 'rb'))"
   ],
   "metadata": {
    "collapsed": false,
    "pycharm": {
     "name": "#%%\n"
    }
   }
  },
  {
   "cell_type": "markdown",
   "source": [
    "# Test"
   ],
   "metadata": {
    "collapsed": false,
    "pycharm": {
     "name": "#%% md\n"
    }
   }
  },
  {
   "cell_type": "markdown",
   "source": [
    "First the data should be loaded. We assumed that they have the same name as the original data and they are stored in the test folder.\n",
    "All the other objects that we have made shhould be saved in the folder that our notebook is going to be runned.\n",
    "We have used the following libraries that should be installed, for python 3.10:\n",
    "miceforest library requires visual studio and C++ compiler installed on windows.\n",
    "Now that we are finished with project we are questionning whether it was wise to use so many libraries, hopefully it does not lead to any compatibility issues.\n"
   ],
   "metadata": {
    "collapsed": false,
    "pycharm": {
     "name": "#%% md\n"
    }
   }
  },
  {
   "cell_type": "code",
   "execution_count": null,
   "outputs": [],
   "source": [
    "#!pip install numpy\n",
    "#!pip install pandas\n",
    "#!pip install sklearn\n",
    "#!pip install category_encoders\n",
    "#!pip install joblib\n",
    "#!pip install dill\n",
    "#!pip3 install miceforest --no-cache-dir\n",
    "#!pip install autofeat\n",
    "#!pip install openpyxl\n",
    "#!pip install catboost\n",
    "#!pip install xgboost"
   ],
   "metadata": {
    "collapsed": false,
    "pycharm": {
     "name": "#%%\n"
    }
   }
  },
  {
   "cell_type": "code",
   "execution_count": 12,
   "outputs": [
    {
     "name": "stdout",
     "output_type": "stream",
     "text": [
      "Collecting autofeat\n",
      "  Using cached autofeat-2.0.10-py3-none-any.whl (24 kB)\n",
      "Requirement already satisfied: numpy in c:\\jupyterl\\lib\\site-packages (from autofeat) (1.21.2)\n",
      "Collecting pint\n",
      "  Using cached Pint-0.19.2.tar.gz (292 kB)\n",
      "  Installing build dependencies: started\n",
      "  Installing build dependencies: finished with status 'done'\n",
      "  Getting requirements to build wheel: started\n",
      "  Getting requirements to build wheel: finished with status 'done'\n",
      "    Preparing wheel metadata: started\n",
      "    Preparing wheel metadata: finished with status 'done'\n",
      "Requirement already satisfied: future in c:\\jupyterl\\lib\\site-packages (from autofeat) (0.18.2)\n",
      "Requirement already satisfied: joblib in c:\\jupyterl\\lib\\site-packages (from autofeat) (1.1.0)\n",
      "Requirement already satisfied: numba in c:\\jupyterl\\lib\\site-packages (from autofeat) (0.55.1)\n",
      "Requirement already satisfied: scikit-learn in c:\\jupyterl\\lib\\site-packages (from autofeat) (1.0.2)\n",
      "Collecting sympy>=1.7.1\n",
      "  Using cached sympy-1.10.1-py3-none-any.whl (6.4 MB)\n",
      "Requirement already satisfied: pandas>=0.24.0 in c:\\jupyterl\\lib\\site-packages (from autofeat) (1.3.3)\n",
      "Requirement already satisfied: python-dateutil>=2.7.3 in c:\\jupyterl\\lib\\site-packages (from pandas>=0.24.0->autofeat) (2.8.2)\n",
      "Requirement already satisfied: pytz>=2017.3 in c:\\jupyterl\\lib\\site-packages (from pandas>=0.24.0->autofeat) (2021.1)\n",
      "Requirement already satisfied: six>=1.5 in c:\\jupyterl\\lib\\site-packages (from python-dateutil>=2.7.3->pandas>=0.24.0->autofeat) (1.16.0)\n",
      "Collecting mpmath>=0.19\n",
      "  Using cached mpmath-1.2.1-py3-none-any.whl (532 kB)\n",
      "Requirement already satisfied: llvmlite<0.39,>=0.38.0rc1 in c:\\jupyterl\\lib\\site-packages (from numba->autofeat) (0.38.0)\n",
      "Requirement already satisfied: setuptools in c:\\jupyterl\\lib\\site-packages (from numba->autofeat) (58.0.4)\n",
      "Requirement already satisfied: threadpoolctl>=2.0.0 in c:\\jupyterl\\lib\\site-packages (from scikit-learn->autofeat) (3.1.0)\n",
      "Requirement already satisfied: scipy>=1.1.0 in c:\\jupyterl\\lib\\site-packages (from scikit-learn->autofeat) (1.8.0)\n",
      "Building wheels for collected packages: pint\n",
      "  Building wheel for pint (PEP 517): started\n",
      "  Building wheel for pint (PEP 517): finished with status 'done'\n",
      "  Created wheel for pint: filename=Pint-0.19.2-py3-none-any.whl size=231034 sha256=e3d583d7ab53dfd256b7865ca63f958131469d1bb93078b6d2112c6641565694\n",
      "  Stored in directory: c:\\users\\axb190032\\appdata\\local\\pip\\cache\\wheels\\98\\1d\\e0\\a44541f5302ac50028a3be0db9417c18092c61f25009d62145\n",
      "Successfully built pint\n",
      "Installing collected packages: mpmath, sympy, pint, autofeat\n",
      "Successfully installed autofeat-2.0.10 mpmath-1.2.1 pint-0.19.2 sympy-1.10.1\n"
     ]
    }
   ],
   "source": [
    "!pip install autofeat"
   ],
   "metadata": {
    "collapsed": false,
    "pycharm": {
     "name": "#%%\n"
    }
   }
  },
  {
   "cell_type": "code",
   "execution_count": 42,
   "outputs": [
    {
     "name": "stdout",
     "output_type": "stream",
     "text": [
      "Collecting catboost\n",
      "  Downloading catboost-1.0.5-cp38-none-win_amd64.whl (73.9 MB)\n",
      "Requirement already satisfied: matplotlib in c:\\jupyterl\\lib\\site-packages (from catboost) (3.5.1)\n",
      "Requirement already satisfied: numpy>=1.16.0 in c:\\jupyterl\\lib\\site-packages (from catboost) (1.21.2)\n",
      "Collecting plotly\n",
      "  Using cached plotly-5.7.0-py2.py3-none-any.whl (28.8 MB)\n",
      "Requirement already satisfied: pandas>=0.24.0 in c:\\jupyterl\\lib\\site-packages (from catboost) (1.3.3)\n",
      "Requirement already satisfied: scipy in c:\\jupyterl\\lib\\site-packages (from catboost) (1.8.0)\n",
      "Collecting graphviz\n",
      "  Using cached graphviz-0.20-py3-none-any.whl (46 kB)\n",
      "Requirement already satisfied: six in c:\\jupyterl\\lib\\site-packages (from catboost) (1.16.0)\n",
      "Requirement already satisfied: pytz>=2017.3 in c:\\jupyterl\\lib\\site-packages (from pandas>=0.24.0->catboost) (2021.1)\n",
      "Requirement already satisfied: python-dateutil>=2.7.3 in c:\\jupyterl\\lib\\site-packages (from pandas>=0.24.0->catboost) (2.8.2)\n",
      "Requirement already satisfied: fonttools>=4.22.0 in c:\\jupyterl\\lib\\site-packages (from matplotlib->catboost) (4.29.1)\n",
      "Requirement already satisfied: kiwisolver>=1.0.1 in c:\\jupyterl\\lib\\site-packages (from matplotlib->catboost) (1.3.2)\n",
      "Requirement already satisfied: cycler>=0.10 in c:\\jupyterl\\lib\\site-packages (from matplotlib->catboost) (0.10.0)\n",
      "Requirement already satisfied: pyparsing>=2.2.1 in c:\\jupyterl\\lib\\site-packages (from matplotlib->catboost) (2.4.7)\n",
      "Requirement already satisfied: pillow>=6.2.0 in c:\\jupyterl\\lib\\site-packages (from matplotlib->catboost) (8.3.2)\n",
      "Requirement already satisfied: packaging>=20.0 in c:\\jupyterl\\lib\\site-packages (from matplotlib->catboost) (21.3)\n",
      "Collecting tenacity>=6.2.0\n",
      "  Using cached tenacity-8.0.1-py3-none-any.whl (24 kB)\n",
      "Installing collected packages: tenacity, plotly, graphviz, catboost\n",
      "Successfully installed catboost-1.0.5 graphviz-0.20 plotly-5.7.0 tenacity-8.0.1\n"
     ]
    }
   ],
   "source": [
    "!pip install catboost"
   ],
   "metadata": {
    "collapsed": false,
    "pycharm": {
     "name": "#%%\n"
    }
   }
  },
  {
   "cell_type": "code",
   "execution_count": null,
   "outputs": [],
   "source": [
    "!pip install xgboost"
   ],
   "metadata": {
    "collapsed": false,
    "pycharm": {
     "name": "#%%\n"
    }
   }
  },
  {
   "cell_type": "code",
   "execution_count": null,
   "outputs": [],
   "source": [],
   "metadata": {
    "collapsed": false,
    "pycharm": {
     "name": "#%%\n"
    }
   }
  },
  {
   "cell_type": "code",
   "execution_count": 43,
   "outputs": [
    {
     "name": "stdout",
     "output_type": "stream",
     "text": [
      "Our final Classifier AUC score on OOT set: 0.87233398\n"
     ]
    }
   ],
   "source": [
    "# clean the test data\n",
    "import numpy as np\n",
    "import pandas as pd\n",
    "import sklearn\n",
    "import category_encoders as ce\n",
    "import joblib\n",
    "import dill\n",
    "import miceforest\n",
    "import autofeat\n",
    "import openpyxl\n",
    "import catboost\n",
    "import xgboost\n",
    "import lightgbm\n",
    "\n",
    "\n",
    "\n",
    "## UTD_Data\n",
    "names1 = pd.read_excel('./test/Data dictionary for UTD dataset.xlsx', sheet_name='Main Data')\n",
    "name1 = names1['Column Field'].tolist()\n",
    "test_Data = pd.read_csv('./test/UTD_Data_1.csv',names=name1)\n",
    "test_Data = test_Data.astype({\"PullDate\": 'datetime64[ns]'})\n",
    "test_Data = test_Data.astype({\"F0385_LAST_NSF_DATE\": 'datetime64[ns]'})\n",
    "test_Data = test_Data.astype({\"booked_yr_mo\": str})\n",
    "test_Data['booked_yr_mo']=test_Data['booked_yr_mo'].str[:4] + '-' + test_Data['booked_yr_mo'].str[4:] + '-01'\n",
    "test_Data = test_Data.astype({\"booked_yr_mo\": 'datetime64[ns]'})\n",
    "test_Data.rename(columns={'masked_account': 'Masked_Account'}, inplace=True)\n",
    "\n",
    "## UTD_DPD\n",
    "names2 = pd.read_excel('./test/Data dictionary for UTD dataset.xlsx', sheet_name='UTD_DPD', header=None)\n",
    "name2 = names2.iloc[:,0].tolist()\n",
    "test_DPD = pd.read_csv('./test/UTD_DPD.csv',names=name2)\n",
    "test_DPD = test_DPD.astype({\"Business_Date\": 'datetime64[ns]'})\n",
    "\n",
    "test_DPD_1_first= pd.DataFrame(test_DPD[test_DPD[\"DPD\"]==1].groupby(\"Masked_Account\").agg({\"Business_Date\": \"min\" , \"Principal Balance\": \"first\"})).reset_index()\n",
    "MA_1  = test_DPD_1_first['Masked_Account'].unique()\n",
    "test_DPD_1 = test_DPD[test_DPD[\"Masked_Account\"].isin(MA_1)]\n",
    "test_DPD_1_merge = pd.merge(test_DPD_1, test_DPD_1, on='Masked_Account', how='left')\n",
    "test_DPD_1_merge['difference']= (test_DPD_1_merge['Business_Date_y'] - test_DPD_1_merge['Business_Date_x']).dt.days\n",
    "test_DPD_target = test_DPD_1_merge[(test_DPD_1_merge['DPD_x']==1) & (test_DPD_1_merge['difference']==29)].copy()\n",
    "def target_value(x):\n",
    "    if x > 30:\n",
    "        return np.NaN # There is probably a mistake in the dataset\n",
    "    elif x == 30:\n",
    "        return 1 # This is the target\n",
    "    else:\n",
    "        return 0 # if there is something less than -30 there is still the possiblity of mistake but as we are not sure, we leave it as 0\n",
    "\n",
    "test_DPD_target['target'] = test_DPD_target['DPD_y'].apply(target_value)\n",
    "test_DPD_target.dropna(inplace=True)\n",
    "test_DPD_target.drop(['Business_Date_y', 'DPD_x', 'DPD_y' , 'Principal Balance_y' , 'difference'], axis=1, inplace=True)\n",
    "test_DPD_target_s = test_DPD_target.groupby('Masked_Account').sample(n=1).copy()\n",
    "\n",
    "## UTD_Orig\n",
    "names3 = pd.read_excel('./test/Data dictionary for UTD dataset.xlsx', sheet_name='UTD_Orig_Data -Supplement data')\n",
    "name3 = names3['Column Field'].tolist()\n",
    "test_Orig_Data = pd.read_csv('./test/UTD_Orig_Data.csv', names = name3)\n",
    "test_Orig_Data.drop(test_Orig_Data.index[0], inplace = True)\n",
    "test_Orig_Data = test_Orig_Data.iloc[:,0].str.split('\t', expand=True)\n",
    "test_Orig_Data.columns = name3\n",
    "test_Orig_Data = test_Orig_Data.astype({\"Masked_account \": str})\n",
    "test_Orig_Data = test_Orig_Data.astype({\"Applicant_state\": str})\n",
    "test_Orig_Data = test_Orig_Data.astype({\"Credit_tier\": str})\n",
    "test_Orig_Data = test_Orig_Data.astype({\"Loan-Term_length\": int})\n",
    "test_Orig_Data = test_Orig_Data.astype({\"PAYMENT_AMT\": float})\n",
    "test_Orig_Data.reset_index(inplace = True, drop = True)\n",
    "test_Orig_Data.columns = ['Masked_Account', 'Applicant_state', 'Credit_tier', 'Loan-Term_length','PAYMENT_AMT']\n",
    "# merge the test data\n",
    "df = pd.merge(test_DPD_target_s, test_Data, left_on=['Masked_Account','Business_Date_x'], right_on = ['Masked_Account','PullDate'], how=\"inner\")\n",
    "df = pd.merge(df, test_Orig_Data, on = \"Masked_Account\", how=\"left\")\n",
    "df.set_index(['Masked_Account'] , inplace = True)\n",
    "df['BookedDiff']=((df.Business_Date_x.dt.year - df.booked_yr_mo.dt.year) * 12) +(df.Business_Date_x.dt.month - df.booked_yr_mo.dt.month)\n",
    "df.drop(columns=['booked_yr_mo', 'PullDate' , 'Business_Date_x'], inplace = True)\n",
    "df.drop(['DSL_NSF', 'F0385_LAST_NSF_DATE','CBTINDIRECTGEN30','INQ12_5', 'DSL_ext', 'F0306_TODAY_MINUS_LEFT_MESSAGES_DATE' , 'F0317_DAYS_SINCE_LAST_LETTER' ], axis = 1, inplace = True)\n",
    "\n",
    "y=df['target']\n",
    "dill.dump(y, open('target_y.pkl', 'wb'))\n",
    "df = df.drop(['target'], axis = 1)\n",
    "#category encode\n",
    "from sklearn.preprocessing import OneHotEncoder\n",
    "from category_encoders import WOEEncoder\n",
    "from copy import deepcopy\n",
    "import joblib\n",
    "\n",
    "#Columns to drop from ML models\n",
    "cols_to_drop = []\n",
    "#Categorical encoders disctionary\n",
    "cat_encoders = {}\n",
    "#New categorical (encoded) columns\n",
    "cat_enc_columns = []\n",
    "\n",
    "for col in df.columns:\n",
    "    if df[col].dtype == 'object':\n",
    "        if df[col].nunique() < 20:\n",
    "            enc = joblib.load(col+ '_enc.joblib')\n",
    "            enc.transform(df[[col]])\n",
    "            result = enc.transform(df[[col]])\n",
    "            ohe_columns = [col+\"_\"+str(x) for x in enc.categories_[0]]\n",
    "            cat_enc_columns = cat_enc_columns + ohe_columns\n",
    "            result_train = pd.DataFrame(result, columns=ohe_columns , index=df.index)\n",
    "            df = pd.concat([df, result_train.reindex(df.index)], axis=1 , join='inner')\n",
    "        else:\n",
    "            enc = dill.load(open(col+'_trg_'+'pre_processing.p', \"rb\"))\n",
    "            new_col_name = col+\"_trg\"\n",
    "            df[new_col_name] = enc.transform(df[[col]])\n",
    "            cat_encoders[col] = [deepcopy(enc),\"trg\"]\n",
    "            cat_enc_columns.append(new_col_name)\n",
    "\n",
    "        cols_to_drop.append(col)\n",
    "\n",
    "cols_to_drop = ['Applicant_state', 'Credit_tier']\n",
    "\n",
    "df.drop(columns=cols_to_drop, inplace = True)\n",
    "# impute\n",
    "kernel = dill.load(open('kernel.p', 'rb'))\n",
    "df_imp = kernel.impute_new_data(df).complete_data(0)\n",
    "# Feature Engineering\n",
    "auto_feat = dill.load(open('auto_feat.p', 'rb'))\n",
    "df_eng =auto_feat.transform(df_imp.loc[:,['F0146_PAST_DUE_PAYMENTS',\n",
    "                                                'F0068_ATTEMPTED_CONTACT_COUNT',\n",
    "                                                'F0315_DAYS_SINCE_LAST_PROMISE_1',\n",
    "                                                'F0305_TODAY_MINUS_CONTACT_NO_PROMISE_DATE',\n",
    "                                                'F0320_TODAY_MINUS_DAYS_LAST_MONETARY',\n",
    "                                                'Appl_Income']])\n",
    "\n",
    "df_eng.set_index(df_imp.index, inplace=True)\n",
    "\n",
    "df_eng.drop(['F0146_PAST_DUE_PAYMENTS',\n",
    "               'F0068_ATTEMPTED_CONTACT_COUNT',\n",
    "               'F0315_DAYS_SINCE_LAST_PROMISE_1',\n",
    "               'F0305_TODAY_MINUS_CONTACT_NO_PROMISE_DATE',\n",
    "               'F0320_TODAY_MINUS_DAYS_LAST_MONETARY',\n",
    "               'Appl_Income'], axis=1, inplace=True)\n",
    "# final prepared file\n",
    "df_final = pd.concat([df_imp, df_eng], axis=1)\n",
    "dill.dump(df_final, open('df_final.p', 'wb'))\n",
    "from sklearn.metrics import roc_auc_score\n",
    "stc_class = dill.load(open('stclass.pkl', 'rb'))\n",
    "print('Our final Classifier AUC score on OOT set: {:.8f}'.format(roc_auc_score(y, stc_class.predict_proba(df_final)[:, 1])))"
   ],
   "metadata": {
    "collapsed": false,
    "pycharm": {
     "name": "#%%\n"
    }
   }
  },
  {
   "cell_type": "code",
   "execution_count": 36,
   "outputs": [
    {
     "ename": "AttributeError",
     "evalue": "Can't get attribute '_unpickle_block' on <module 'pandas._libs.internals' from 'C:\\\\jupyterL\\\\lib\\\\site-packages\\\\pandas\\\\_libs\\\\internals.cp38-win_amd64.pyd'>",
     "output_type": "error",
     "traceback": [
      "\u001B[1;31m---------------------------------------------------------------------------\u001B[0m",
      "\u001B[1;31mAttributeError\u001B[0m                            Traceback (most recent call last)",
      "\u001B[1;32mC:\\Users\\AXB190~1\\AppData\\Local\\Temp/ipykernel_28144/4256213851.py\u001B[0m in \u001B[0;36m<module>\u001B[1;34m\u001B[0m\n\u001B[1;32m----> 1\u001B[1;33m \u001B[0mpickle\u001B[0m\u001B[1;33m.\u001B[0m\u001B[0mload\u001B[0m\u001B[1;33m(\u001B[0m\u001B[0mopen\u001B[0m\u001B[1;33m(\u001B[0m\u001B[1;34m'kernel.p'\u001B[0m\u001B[1;33m,\u001B[0m \u001B[1;34m'rb'\u001B[0m\u001B[1;33m)\u001B[0m\u001B[1;33m)\u001B[0m\u001B[1;33m\u001B[0m\u001B[1;33m\u001B[0m\u001B[0m\n\u001B[0m",
      "\u001B[1;31mAttributeError\u001B[0m: Can't get attribute '_unpickle_block' on <module 'pandas._libs.internals' from 'C:\\\\jupyterL\\\\lib\\\\site-packages\\\\pandas\\\\_libs\\\\internals.cp38-win_amd64.pyd'>"
     ]
    }
   ],
   "source": [
    "pickle.load(open('kernel.p', 'rb'))"
   ],
   "metadata": {
    "collapsed": false,
    "pycharm": {
     "name": "#%%\n"
    }
   }
  },
  {
   "cell_type": "code",
   "execution_count": 33,
   "outputs": [],
   "source": [
    "auto_feat = dill.load(open('auto_feat.p', 'rb'))"
   ],
   "metadata": {
    "collapsed": false,
    "pycharm": {
     "name": "#%%\n"
    }
   }
  },
  {
   "cell_type": "code",
   "execution_count": 18,
   "outputs": [
    {
     "name": "stderr",
     "output_type": "stream",
     "text": [
      "ERROR: Could not find a version that satisfies the requirement pickle (from versions: none)\n",
      "ERROR: No matching distribution found for pickle\n"
     ]
    }
   ],
   "source": [
    "!pip install pickle"
   ],
   "metadata": {
    "collapsed": false,
    "pycharm": {
     "name": "#%%\n"
    }
   }
  },
  {
   "cell_type": "code",
   "execution_count": 28,
   "outputs": [
    {
     "name": "stdout",
     "output_type": "stream",
     "text": [
      "Requirement already satisfied: pandas in c:\\jupyterl\\lib\\site-packages (1.3.3)\n",
      "Requirement already satisfied: numpy>=1.17.3 in c:\\jupyterl\\lib\\site-packages (from pandas) (1.21.2)\n",
      "Requirement already satisfied: pytz>=2017.3 in c:\\jupyterl\\lib\\site-packages (from pandas) (2021.1)\n",
      "Requirement already satisfied: python-dateutil>=2.7.3 in c:\\jupyterl\\lib\\site-packages (from pandas) (2.8.2)\n",
      "Requirement already satisfied: six>=1.5 in c:\\jupyterl\\lib\\site-packages (from python-dateutil>=2.7.3->pandas) (1.16.0)\n"
     ]
    }
   ],
   "source": [
    "!pip install pandas"
   ],
   "metadata": {
    "collapsed": false,
    "pycharm": {
     "name": "#%%\n"
    }
   }
  },
  {
   "cell_type": "code",
   "execution_count": 19,
   "outputs": [
    {
     "name": "stdout",
     "output_type": "stream",
     "text": [
      "numpy @ file:///D:/bld/numpy_1629092230867/work\n"
     ]
    }
   ],
   "source": [
    "!pip freeze | findstr numpy"
   ],
   "metadata": {
    "collapsed": false,
    "pycharm": {
     "name": "#%%\n"
    }
   }
  },
  {
   "cell_type": "code",
   "execution_count": 20,
   "outputs": [
    {
     "name": "stdout",
     "output_type": "stream",
     "text": [
      "pandas @ file:///D:/bld/pandas_1631466259165/work\n"
     ]
    }
   ],
   "source": [
    "!pip freeze | findstr pandas"
   ],
   "metadata": {
    "collapsed": false,
    "pycharm": {
     "name": "#%%\n"
    }
   }
  },
  {
   "cell_type": "code",
   "execution_count": 44,
   "outputs": [
    {
     "name": "stdout",
     "output_type": "stream",
     "text": [
      "Name: pandas\n",
      "Version: 1.3.3\n",
      "Summary: Powerful data structures for data analysis, time series, and statistics\n",
      "Home-page: https://pandas.pydata.org\n",
      "Author: The Pandas Development Team\n",
      "Author-email: pandas-dev@python.org\n",
      "License: BSD-3-Clause\n",
      "Location: c:\\jupyterl\\lib\\site-packages\n",
      "Requires: python-dateutil, numpy, pytz\n",
      "Required-by: statsmodels, shap, seaborn, category-encoders, catboost, autofeat\n"
     ]
    }
   ],
   "source": [
    "!pip show pandas"
   ],
   "metadata": {
    "collapsed": false,
    "pycharm": {
     "name": "#%%\n"
    }
   }
  },
  {
   "cell_type": "code",
   "execution_count": 21,
   "outputs": [
    {
     "name": "stdout",
     "output_type": "stream",
     "text": [
      "sklearn==0.0\n"
     ]
    }
   ],
   "source": [
    "!pip freeze | findstr sklearn"
   ],
   "metadata": {
    "collapsed": false,
    "pycharm": {
     "name": "#%%\n"
    }
   }
  },
  {
   "cell_type": "code",
   "execution_count": 32,
   "outputs": [
    {
     "name": "stdout",
     "output_type": "stream",
     "text": [
      "cloudpickle==2.0.0\n",
      "pickleshare @ file:///home/conda/feedstock_root/build_artifacts/pickleshare_1602536217715/work\n"
     ]
    }
   ],
   "source": [
    "!pip freeze | findstr pickle"
   ],
   "metadata": {
    "collapsed": false,
    "pycharm": {
     "name": "#%%\n"
    }
   }
  },
  {
   "cell_type": "code",
   "execution_count": 23,
   "outputs": [
    {
     "name": "stdout",
     "output_type": "stream",
     "text": [
      "dill==0.3.4\n"
     ]
    }
   ],
   "source": [
    "!pip freeze | findstr dill"
   ],
   "metadata": {
    "collapsed": false,
    "pycharm": {
     "name": "#%%\n"
    }
   }
  },
  {
   "cell_type": "code",
   "execution_count": 25,
   "outputs": [
    {
     "name": "stdout",
     "output_type": "stream",
     "text": [
      "joblib==1.1.0\n"
     ]
    }
   ],
   "source": [
    "!pip freeze | findstr joblib"
   ],
   "metadata": {
    "collapsed": false,
    "pycharm": {
     "name": "#%%\n"
    }
   }
  },
  {
   "cell_type": "code",
   "execution_count": 26,
   "outputs": [
    {
     "name": "stdout",
     "output_type": "stream",
     "text": [
      "miceforest==5.4.0\n"
     ]
    }
   ],
   "source": [
    "!pip freeze | findstr miceforest"
   ],
   "metadata": {
    "collapsed": false,
    "pycharm": {
     "name": "#%%\n"
    }
   }
  },
  {
   "cell_type": "code",
   "execution_count": 6,
   "outputs": [],
   "source": [
    "# clean the test data\n",
    "import numpy as np\n",
    "import pandas as pd\n",
    "import sklearn\n",
    "import category_encoders as ce\n",
    "import joblib\n",
    "import dill\n",
    "import miceforest\n",
    "#import autofeat\n",
    "import openpyxl\n",
    "\n",
    "\n",
    "\n",
    "## UTD_Data\n",
    "names1 = pd.read_excel('./test/Data dictionary for UTD dataset.xlsx', sheet_name='Main Data')\n",
    "name1 = names1['Column Field'].tolist()\n",
    "test_Data = pd.read_csv('./test/UTD_Data_1.csv',names=name1)\n",
    "test_Data = test_Data.astype({\"PullDate\": 'datetime64[ns]'})\n",
    "test_Data = test_Data.astype({\"F0385_LAST_NSF_DATE\": 'datetime64[ns]'})\n",
    "test_Data = test_Data.astype({\"booked_yr_mo\": str})\n",
    "test_Data['booked_yr_mo']=test_Data['booked_yr_mo'].str[:4] + '-' + test_Data['booked_yr_mo'].str[4:] + '-01'\n",
    "test_Data = test_Data.astype({\"booked_yr_mo\": 'datetime64[ns]'})\n",
    "test_Data.rename(columns={'masked_account': 'Masked_Account'}, inplace=True)\n",
    "\n",
    "## UTD_DPD\n",
    "names2 = pd.read_excel('./test/Data dictionary for UTD dataset.xlsx', sheet_name='UTD_DPD', header=None)\n",
    "name2 = names2.iloc[:,0].tolist()\n",
    "test_DPD = pd.read_csv('./test/UTD_DPD.csv',names=name2)\n",
    "test_DPD = test_DPD.astype({\"Business_Date\": 'datetime64[ns]'})\n",
    "\n",
    "test_DPD_1_first= pd.DataFrame(test_DPD[test_DPD[\"DPD\"]==1].groupby(\"Masked_Account\").agg({\"Business_Date\": \"min\" , \"Principal Balance\": \"first\"})).reset_index()\n",
    "MA_1  = test_DPD_1_first['Masked_Account'].unique()\n",
    "test_DPD_1 = test_DPD[test_DPD[\"Masked_Account\"].isin(MA_1)]\n",
    "test_DPD_1_merge = pd.merge(test_DPD_1, test_DPD_1, on='Masked_Account', how='left')\n",
    "test_DPD_1_merge['difference']= (test_DPD_1_merge['Business_Date_y'] - test_DPD_1_merge['Business_Date_x']).dt.days\n",
    "test_DPD_target = test_DPD_1_merge[(test_DPD_1_merge['DPD_x']==1) & (test_DPD_1_merge['difference']==29)].copy()\n",
    "def target_value(x):\n",
    "    if x > 30:\n",
    "        return np.NaN # There is probably a mistake in the dataset\n",
    "    elif x == 30:\n",
    "        return 1 # This is the target\n",
    "    else:\n",
    "        return 0 # if there is something less than -30 there is still the possiblity of mistake but as we are not sure, we leave it as 0\n",
    "\n",
    "test_DPD_target['target'] = test_DPD_target['DPD_y'].apply(target_value)\n",
    "test_DPD_target.dropna(inplace=True)\n",
    "test_DPD_target.drop(['Business_Date_y', 'DPD_x', 'DPD_y' , 'Principal Balance_y' , 'difference'], axis=1, inplace=True)\n",
    "test_DPD_target_s = test_DPD_target.groupby('Masked_Account').sample(n=1).copy()\n",
    "\n",
    "## UTD_Orig\n",
    "names3 = pd.read_excel('./test/Data dictionary for UTD dataset.xlsx', sheet_name='UTD_Orig_Data -Supplement data')\n",
    "name3 = names3['Column Field'].tolist()\n",
    "test_Orig_Data = pd.read_csv('./test/UTD_Orig_Data.csv', names = name3)\n",
    "test_Orig_Data.drop(test_Orig_Data.index[0], inplace = True)\n",
    "test_Orig_Data = test_Orig_Data.iloc[:,0].str.split('\t', expand=True)\n",
    "test_Orig_Data.columns = name3\n",
    "test_Orig_Data = test_Orig_Data.astype({\"Masked_account \": str})\n",
    "test_Orig_Data = test_Orig_Data.astype({\"Applicant_state\": str})\n",
    "test_Orig_Data = test_Orig_Data.astype({\"Credit_tier\": str})\n",
    "test_Orig_Data = test_Orig_Data.astype({\"Loan-Term_length\": int})\n",
    "test_Orig_Data = test_Orig_Data.astype({\"PAYMENT_AMT\": float})\n",
    "test_Orig_Data.reset_index(inplace = True, drop = True)\n",
    "test_Orig_Data.columns = ['Masked_Account', 'Applicant_state', 'Credit_tier', 'Loan-Term_length','PAYMENT_AMT']\n",
    "# merge the test data\n",
    "df = pd.merge(test_DPD_target_s, test_Data, left_on=['Masked_Account','Business_Date_x'], right_on = ['Masked_Account','PullDate'], how=\"inner\")\n",
    "df = pd.merge(df, test_Orig_Data, on = \"Masked_Account\", how=\"left\")\n",
    "df.set_index(['Masked_Account'] , inplace = True)\n",
    "df['BookedDiff']=((df.Business_Date_x.dt.year - df.booked_yr_mo.dt.year) * 12) +(df.Business_Date_x.dt.month - df.booked_yr_mo.dt.month)\n",
    "df.drop(columns=['booked_yr_mo', 'PullDate' , 'Business_Date_x'], inplace = True)\n",
    "df.drop(['DSL_NSF', 'F0385_LAST_NSF_DATE','CBTINDIRECTGEN30','INQ12_5', 'DSL_ext', 'F0306_TODAY_MINUS_LEFT_MESSAGES_DATE' , 'F0317_DAYS_SINCE_LAST_LETTER' ], axis = 1, inplace = True)\n",
    "\n",
    "y=df['target']\n",
    "dill.dump(y, open('target_y.pkl', 'wb'))\n",
    "df = df.drop(['target'], axis = 1)\n",
    "#category encode\n",
    "from sklearn.preprocessing import OneHotEncoder\n",
    "from category_encoders import WOEEncoder\n",
    "from copy import deepcopy\n",
    "import joblib\n",
    "\n",
    "#Columns to drop from ML models\n",
    "cols_to_drop = []\n",
    "#Categorical encoders disctionary\n",
    "cat_encoders = {}\n",
    "#New categorical (encoded) columns\n",
    "cat_enc_columns = []\n",
    "\n",
    "for col in df.columns:\n",
    "    if df[col].dtype == 'object':\n",
    "        if df[col].nunique() < 20:\n",
    "            enc = joblib.load(col+ '_enc.joblib')\n",
    "            enc.transform(df[[col]])\n",
    "            result = enc.transform(df[[col]])\n",
    "            ohe_columns = [col+\"_\"+str(x) for x in enc.categories_[0]]\n",
    "            cat_enc_columns = cat_enc_columns + ohe_columns\n",
    "            result_train = pd.DataFrame(result, columns=ohe_columns , index=df.index)\n",
    "            df = pd.concat([df, result_train.reindex(df.index)], axis=1 , join='inner')\n",
    "        else:\n",
    "            enc = dill.load(open(col+'_trg_'+'pre_processing.p', \"rb\"))\n",
    "            new_col_name = col+\"_trg\"\n",
    "            df[new_col_name] = enc.transform(df[[col]])\n",
    "            cat_encoders[col] = [deepcopy(enc),\"trg\"]\n",
    "            cat_enc_columns.append(new_col_name)\n",
    "\n",
    "        cols_to_drop.append(col)\n",
    "\n",
    "cols_to_drop = ['Applicant_state', 'Credit_tier']"
   ],
   "metadata": {
    "collapsed": false,
    "pycharm": {
     "name": "#%%\n"
    }
   }
  },
  {
   "cell_type": "code",
   "execution_count": 7,
   "outputs": [
    {
     "name": "stdout",
     "output_type": "stream",
     "text": [
      "<class 'pandas.core.frame.DataFrame'>\n",
      "Index: 34624 entries, 0x0000892A3160BBCC4BDFC8F29945E683ADC3AC16CE13D66C272B70AEBA08B8E3 to 0xFFFC9A8709407BABDC5293E8DDB84972BEC52E8C57D09A7AD290BA954433C48B\n",
      "Data columns (total 93 columns):\n",
      " #   Column                                     Non-Null Count  Dtype  \n",
      "---  ------                                     --------------  -----  \n",
      " 0   Principal Balance_x                        34624 non-null  float64\n",
      " 1   Veh_Value                                  34624 non-null  int64  \n",
      " 2   ApplicantFICOScore                         34624 non-null  int64  \n",
      " 3   DTI                                        34624 non-null  float64\n",
      " 4   LTV                                        34624 non-null  float64\n",
      " 5   PTI_BOOKED                                 34624 non-null  float64\n",
      " 6   SalesTax                                   34624 non-null  float64\n",
      " 7   AMOUNT_FINANCED                            34624 non-null  float64\n",
      " 8   Appl_Debt                                  34624 non-null  float64\n",
      " 9   Appl_Income                                34624 non-null  float64\n",
      " 10  PTI_Approved                               34624 non-null  float64\n",
      " 11  CUSTOM_SCORE                               34624 non-null  int64  \n",
      " 12  DTI_RATIO                                  34624 non-null  float64\n",
      " 13  MOB                                        34624 non-null  int64  \n",
      " 14  DOWN_CASH                                  34624 non-null  float64\n",
      " 15  FINANCED_AMOUNT                            34624 non-null  float64\n",
      " 16  BACKEND_TOTAL                              34624 non-null  float64\n",
      " 17  LINE4_LTV                                  34624 non-null  float64\n",
      " 18  ContactCount                               24248 non-null  float64\n",
      " 19  F0066_CONTACT_NO_PROMISE_COUNT             31238 non-null  float64\n",
      " 20  F0315_DAYS_SINCE_LAST_PROMISE_1            32187 non-null  float64\n",
      " 21  F0065_PROMISES_TAKEN_COUNT                 32986 non-null  float64\n",
      " 22  F0068_ATTEMPTED_CONTACT_COUNT              33119 non-null  float64\n",
      " 23  F0071_CORRESPONDENCE_COUNT                 31046 non-null  float64\n",
      " 24  F0089_PROMISE_AMT_1                        32931 non-null  float64\n",
      " 25  F0283_PROMISES_KEPT_LIFE_TO_DATE           32341 non-null  float64\n",
      " 26  F0304_TODAY_MINUS_PROMISES_TAKEN_DATE      32251 non-null  float64\n",
      " 27  F0305_TODAY_MINUS_CONTACT_NO_PROMISE_DATE  27201 non-null  float64\n",
      " 28  F0307_TODAY_MINUS_ATTEMPTED_CONTACT_DATE   31682 non-null  float64\n",
      " 29  F0314_TODAY_MINUS_DAYS_LAST_CONTACT        32334 non-null  float64\n",
      " 30  F0320_TODAY_MINUS_DAYS_LAST_MONETARY       34624 non-null  float64\n",
      " 31  F0381_DAYS_DELINQUENT_360                  34624 non-null  float64\n",
      " 32  PROMISE_STATUS_O                           34624 non-null  int64  \n",
      " 33  BALANCE_PERCENT_LOAN                       34624 non-null  float64\n",
      " 34  F0146_PAST_DUE_PAYMENTS                    34624 non-null  float64\n",
      " 35  DSLP                                       33444 non-null  float64\n",
      " 36  DAY_OF_MONTH_DUE_DATE                      34624 non-null  float64\n",
      " 37  EXTENSION_ELIGIBLE_Y                       34624 non-null  int64  \n",
      " 38  F0145_BALANCE                              34624 non-null  float64\n",
      " 39  F0180_CURRENT_INTEREST_RATE                34624 non-null  float64\n",
      " 40  F0198_NUMBER_OF_PAYMENTS_PAID              34624 non-null  float64\n",
      " 41  F0217_NSF_HISTORY                          34624 non-null  float64\n",
      " 42  F0223_NUMBER_OF_EXTENSIONS                 34624 non-null  float64\n",
      " 43  PMT_RAT_OBS                                34624 non-null  float64\n",
      " 44  lastchannel_Z                              34624 non-null  int64  \n",
      " 45  LatefeeAmtLast120Days                      34624 non-null  float64\n",
      " 46  PaymentAmtLast120Days                      34624 non-null  float64\n",
      " 47  PaymentAmtLast30Days                       34624 non-null  float64\n",
      " 48  PaymentAmtLast60Days                       34624 non-null  float64\n",
      " 49  PaymentAmtLast90Days                       34624 non-null  float64\n",
      " 50  PaymentNumLast120Days                      34624 non-null  int64  \n",
      " 51  PmtNumFullAmtLast60Days                    34624 non-null  int64  \n",
      " 52  LIFETIME_COUNT_Paymentus_Debit             34624 non-null  int64  \n",
      " 53  D31P_TOT_2                                 34624 non-null  float64\n",
      " 54  D9P_TOT_2                                  34624 non-null  float64\n",
      " 55  D9P_TOT_3                                  34624 non-null  float64\n",
      " 56  D9P_TOT_4                                  34624 non-null  float64\n",
      " 57  D9P_TOT_6                                  34624 non-null  float64\n",
      " 58  D5P_TOT_4                                  34624 non-null  float64\n",
      " 59  D5P_TOT_1                                  34624 non-null  float64\n",
      " 60  D31P_TOT_6                                 34624 non-null  float64\n",
      " 61  DD_AVG_1                                   34624 non-null  float64\n",
      " 62  BAL_RAT_TRN_3                              34621 non-null  float64\n",
      " 63  BAL_RAT_TRN_6                              34621 non-null  float64\n",
      " 64  PMT_RAT_AVG_1                              34624 non-null  float64\n",
      " 65  PMT_RAT_AVG_2                              34624 non-null  float64\n",
      " 66  PMT_RAT_AVG_3                              34624 non-null  float64\n",
      " 67  PMT_RAT_AVG_4                              34624 non-null  float64\n",
      " 68  BAL_TRN_3                                  34624 non-null  float64\n",
      " 69  BAL_TRN_6                                  34624 non-null  float64\n",
      " 70  CBTINDIRECTGEN23                           29712 non-null  float64\n",
      " 71  REM_TM_RAT_OBS                             34624 non-null  int64  \n",
      " 72  LOANFUNDINGSCORE                           34624 non-null  float64\n",
      " 73  VRS                                        34624 non-null  float64\n",
      " 74  LTVEffective                               34624 non-null  float64\n",
      " 75  DepreciationRate                           34624 non-null  float64\n",
      " 76  Applicant_state                            34624 non-null  object \n",
      " 77  Credit_tier                                34624 non-null  object \n",
      " 78  Loan-Term_length                           34624 non-null  int32  \n",
      " 79  PAYMENT_AMT                                34624 non-null  float64\n",
      " 80  BookedDiff                                 34624 non-null  int64  \n",
      " 81  Applicant_state_trg                        34624 non-null  float64\n",
      " 82  Credit_tier_A                              34624 non-null  float64\n",
      " 83  Credit_tier_A+                             34624 non-null  float64\n",
      " 84  Credit_tier_B                              34624 non-null  float64\n",
      " 85  Credit_tier_B+                             34624 non-null  float64\n",
      " 86  Credit_tier_B-                             34624 non-null  float64\n",
      " 87  Credit_tier_C                              34624 non-null  float64\n",
      " 88  Credit_tier_C+                             34624 non-null  float64\n",
      " 89  Credit_tier_C-                             34624 non-null  float64\n",
      " 90  Credit_tier_D                              34624 non-null  float64\n",
      " 91  Credit_tier_D+                             34624 non-null  float64\n",
      " 92  Credit_tier_F                              34624 non-null  float64\n",
      "dtypes: float64(78), int32(1), int64(12), object(2)\n",
      "memory usage: 25.7+ MB\n"
     ]
    }
   ],
   "source": [
    "df.info()"
   ],
   "metadata": {
    "collapsed": false,
    "pycharm": {
     "name": "#%%\n"
    }
   }
  },
  {
   "cell_type": "code",
   "execution_count": 9,
   "outputs": [
    {
     "ename": "KeyError",
     "evalue": "\"['Applicant_state' 'Credit_tier'] not found in axis\"",
     "output_type": "error",
     "traceback": [
      "\u001B[1;31m---------------------------------------------------------------------------\u001B[0m",
      "\u001B[1;31mKeyError\u001B[0m                                  Traceback (most recent call last)",
      "\u001B[1;32mC:\\Users\\AXB190~1\\AppData\\Local\\Temp/ipykernel_28144/1674383280.py\u001B[0m in \u001B[0;36m<module>\u001B[1;34m\u001B[0m\n\u001B[1;32m----> 1\u001B[1;33m \u001B[0mdf\u001B[0m\u001B[1;33m.\u001B[0m\u001B[0mdrop\u001B[0m\u001B[1;33m(\u001B[0m\u001B[0mcolumns\u001B[0m\u001B[1;33m=\u001B[0m\u001B[0mcols_to_drop\u001B[0m\u001B[1;33m,\u001B[0m \u001B[0minplace\u001B[0m \u001B[1;33m=\u001B[0m \u001B[1;32mTrue\u001B[0m\u001B[1;33m)\u001B[0m\u001B[1;33m\u001B[0m\u001B[1;33m\u001B[0m\u001B[0m\n\u001B[0m\u001B[0;32m      2\u001B[0m \u001B[1;31m# impute\u001B[0m\u001B[1;33m\u001B[0m\u001B[1;33m\u001B[0m\u001B[1;33m\u001B[0m\u001B[0m\n\u001B[0;32m      3\u001B[0m \u001B[0mkernel\u001B[0m \u001B[1;33m=\u001B[0m \u001B[0mpickle\u001B[0m\u001B[1;33m.\u001B[0m\u001B[0mload\u001B[0m\u001B[1;33m(\u001B[0m\u001B[0mopen\u001B[0m\u001B[1;33m(\u001B[0m\u001B[1;34m'kernel.p'\u001B[0m\u001B[1;33m,\u001B[0m \u001B[1;34m'rb'\u001B[0m\u001B[1;33m)\u001B[0m\u001B[1;33m)\u001B[0m\u001B[1;33m\u001B[0m\u001B[1;33m\u001B[0m\u001B[0m\n\u001B[0;32m      4\u001B[0m \u001B[0mdf_imp\u001B[0m \u001B[1;33m=\u001B[0m \u001B[0mkernel\u001B[0m\u001B[1;33m.\u001B[0m\u001B[0mimpute_new_data\u001B[0m\u001B[1;33m(\u001B[0m\u001B[0mdf\u001B[0m\u001B[1;33m)\u001B[0m\u001B[1;33m.\u001B[0m\u001B[0mcomplete_data\u001B[0m\u001B[1;33m(\u001B[0m\u001B[1;36m0\u001B[0m\u001B[1;33m)\u001B[0m\u001B[1;33m\u001B[0m\u001B[1;33m\u001B[0m\u001B[0m\n",
      "\u001B[1;32mC:\\jupyterL\\lib\\site-packages\\pandas\\util\\_decorators.py\u001B[0m in \u001B[0;36mwrapper\u001B[1;34m(*args, **kwargs)\u001B[0m\n\u001B[0;32m    309\u001B[0m                     \u001B[0mstacklevel\u001B[0m\u001B[1;33m=\u001B[0m\u001B[0mstacklevel\u001B[0m\u001B[1;33m,\u001B[0m\u001B[1;33m\u001B[0m\u001B[1;33m\u001B[0m\u001B[0m\n\u001B[0;32m    310\u001B[0m                 )\n\u001B[1;32m--> 311\u001B[1;33m             \u001B[1;32mreturn\u001B[0m \u001B[0mfunc\u001B[0m\u001B[1;33m(\u001B[0m\u001B[1;33m*\u001B[0m\u001B[0margs\u001B[0m\u001B[1;33m,\u001B[0m \u001B[1;33m**\u001B[0m\u001B[0mkwargs\u001B[0m\u001B[1;33m)\u001B[0m\u001B[1;33m\u001B[0m\u001B[1;33m\u001B[0m\u001B[0m\n\u001B[0m\u001B[0;32m    312\u001B[0m \u001B[1;33m\u001B[0m\u001B[0m\n\u001B[0;32m    313\u001B[0m         \u001B[1;32mreturn\u001B[0m \u001B[0mwrapper\u001B[0m\u001B[1;33m\u001B[0m\u001B[1;33m\u001B[0m\u001B[0m\n",
      "\u001B[1;32mC:\\jupyterL\\lib\\site-packages\\pandas\\core\\frame.py\u001B[0m in \u001B[0;36mdrop\u001B[1;34m(self, labels, axis, index, columns, level, inplace, errors)\u001B[0m\n\u001B[0;32m   4904\u001B[0m                 \u001B[0mweight\u001B[0m  \u001B[1;36m1.0\u001B[0m     \u001B[1;36m0.8\u001B[0m\u001B[1;33m\u001B[0m\u001B[1;33m\u001B[0m\u001B[0m\n\u001B[0;32m   4905\u001B[0m         \"\"\"\n\u001B[1;32m-> 4906\u001B[1;33m         return super().drop(\n\u001B[0m\u001B[0;32m   4907\u001B[0m             \u001B[0mlabels\u001B[0m\u001B[1;33m=\u001B[0m\u001B[0mlabels\u001B[0m\u001B[1;33m,\u001B[0m\u001B[1;33m\u001B[0m\u001B[1;33m\u001B[0m\u001B[0m\n\u001B[0;32m   4908\u001B[0m             \u001B[0maxis\u001B[0m\u001B[1;33m=\u001B[0m\u001B[0maxis\u001B[0m\u001B[1;33m,\u001B[0m\u001B[1;33m\u001B[0m\u001B[1;33m\u001B[0m\u001B[0m\n",
      "\u001B[1;32mC:\\jupyterL\\lib\\site-packages\\pandas\\core\\generic.py\u001B[0m in \u001B[0;36mdrop\u001B[1;34m(self, labels, axis, index, columns, level, inplace, errors)\u001B[0m\n\u001B[0;32m   4148\u001B[0m         \u001B[1;32mfor\u001B[0m \u001B[0maxis\u001B[0m\u001B[1;33m,\u001B[0m \u001B[0mlabels\u001B[0m \u001B[1;32min\u001B[0m \u001B[0maxes\u001B[0m\u001B[1;33m.\u001B[0m\u001B[0mitems\u001B[0m\u001B[1;33m(\u001B[0m\u001B[1;33m)\u001B[0m\u001B[1;33m:\u001B[0m\u001B[1;33m\u001B[0m\u001B[1;33m\u001B[0m\u001B[0m\n\u001B[0;32m   4149\u001B[0m             \u001B[1;32mif\u001B[0m \u001B[0mlabels\u001B[0m \u001B[1;32mis\u001B[0m \u001B[1;32mnot\u001B[0m \u001B[1;32mNone\u001B[0m\u001B[1;33m:\u001B[0m\u001B[1;33m\u001B[0m\u001B[1;33m\u001B[0m\u001B[0m\n\u001B[1;32m-> 4150\u001B[1;33m                 \u001B[0mobj\u001B[0m \u001B[1;33m=\u001B[0m \u001B[0mobj\u001B[0m\u001B[1;33m.\u001B[0m\u001B[0m_drop_axis\u001B[0m\u001B[1;33m(\u001B[0m\u001B[0mlabels\u001B[0m\u001B[1;33m,\u001B[0m \u001B[0maxis\u001B[0m\u001B[1;33m,\u001B[0m \u001B[0mlevel\u001B[0m\u001B[1;33m=\u001B[0m\u001B[0mlevel\u001B[0m\u001B[1;33m,\u001B[0m \u001B[0merrors\u001B[0m\u001B[1;33m=\u001B[0m\u001B[0merrors\u001B[0m\u001B[1;33m)\u001B[0m\u001B[1;33m\u001B[0m\u001B[1;33m\u001B[0m\u001B[0m\n\u001B[0m\u001B[0;32m   4151\u001B[0m \u001B[1;33m\u001B[0m\u001B[0m\n\u001B[0;32m   4152\u001B[0m         \u001B[1;32mif\u001B[0m \u001B[0minplace\u001B[0m\u001B[1;33m:\u001B[0m\u001B[1;33m\u001B[0m\u001B[1;33m\u001B[0m\u001B[0m\n",
      "\u001B[1;32mC:\\jupyterL\\lib\\site-packages\\pandas\\core\\generic.py\u001B[0m in \u001B[0;36m_drop_axis\u001B[1;34m(self, labels, axis, level, errors)\u001B[0m\n\u001B[0;32m   4183\u001B[0m                 \u001B[0mnew_axis\u001B[0m \u001B[1;33m=\u001B[0m \u001B[0maxis\u001B[0m\u001B[1;33m.\u001B[0m\u001B[0mdrop\u001B[0m\u001B[1;33m(\u001B[0m\u001B[0mlabels\u001B[0m\u001B[1;33m,\u001B[0m \u001B[0mlevel\u001B[0m\u001B[1;33m=\u001B[0m\u001B[0mlevel\u001B[0m\u001B[1;33m,\u001B[0m \u001B[0merrors\u001B[0m\u001B[1;33m=\u001B[0m\u001B[0merrors\u001B[0m\u001B[1;33m)\u001B[0m\u001B[1;33m\u001B[0m\u001B[1;33m\u001B[0m\u001B[0m\n\u001B[0;32m   4184\u001B[0m             \u001B[1;32melse\u001B[0m\u001B[1;33m:\u001B[0m\u001B[1;33m\u001B[0m\u001B[1;33m\u001B[0m\u001B[0m\n\u001B[1;32m-> 4185\u001B[1;33m                 \u001B[0mnew_axis\u001B[0m \u001B[1;33m=\u001B[0m \u001B[0maxis\u001B[0m\u001B[1;33m.\u001B[0m\u001B[0mdrop\u001B[0m\u001B[1;33m(\u001B[0m\u001B[0mlabels\u001B[0m\u001B[1;33m,\u001B[0m \u001B[0merrors\u001B[0m\u001B[1;33m=\u001B[0m\u001B[0merrors\u001B[0m\u001B[1;33m)\u001B[0m\u001B[1;33m\u001B[0m\u001B[1;33m\u001B[0m\u001B[0m\n\u001B[0m\u001B[0;32m   4186\u001B[0m             \u001B[0mresult\u001B[0m \u001B[1;33m=\u001B[0m \u001B[0mself\u001B[0m\u001B[1;33m.\u001B[0m\u001B[0mreindex\u001B[0m\u001B[1;33m(\u001B[0m\u001B[1;33m**\u001B[0m\u001B[1;33m{\u001B[0m\u001B[0maxis_name\u001B[0m\u001B[1;33m:\u001B[0m \u001B[0mnew_axis\u001B[0m\u001B[1;33m}\u001B[0m\u001B[1;33m)\u001B[0m\u001B[1;33m\u001B[0m\u001B[1;33m\u001B[0m\u001B[0m\n\u001B[0;32m   4187\u001B[0m \u001B[1;33m\u001B[0m\u001B[0m\n",
      "\u001B[1;32mC:\\jupyterL\\lib\\site-packages\\pandas\\core\\indexes\\base.py\u001B[0m in \u001B[0;36mdrop\u001B[1;34m(self, labels, errors)\u001B[0m\n\u001B[0;32m   6015\u001B[0m         \u001B[1;32mif\u001B[0m \u001B[0mmask\u001B[0m\u001B[1;33m.\u001B[0m\u001B[0many\u001B[0m\u001B[1;33m(\u001B[0m\u001B[1;33m)\u001B[0m\u001B[1;33m:\u001B[0m\u001B[1;33m\u001B[0m\u001B[1;33m\u001B[0m\u001B[0m\n\u001B[0;32m   6016\u001B[0m             \u001B[1;32mif\u001B[0m \u001B[0merrors\u001B[0m \u001B[1;33m!=\u001B[0m \u001B[1;34m\"ignore\"\u001B[0m\u001B[1;33m:\u001B[0m\u001B[1;33m\u001B[0m\u001B[1;33m\u001B[0m\u001B[0m\n\u001B[1;32m-> 6017\u001B[1;33m                 \u001B[1;32mraise\u001B[0m \u001B[0mKeyError\u001B[0m\u001B[1;33m(\u001B[0m\u001B[1;34mf\"{labels[mask]} not found in axis\"\u001B[0m\u001B[1;33m)\u001B[0m\u001B[1;33m\u001B[0m\u001B[1;33m\u001B[0m\u001B[0m\n\u001B[0m\u001B[0;32m   6018\u001B[0m             \u001B[0mindexer\u001B[0m \u001B[1;33m=\u001B[0m \u001B[0mindexer\u001B[0m\u001B[1;33m[\u001B[0m\u001B[1;33m~\u001B[0m\u001B[0mmask\u001B[0m\u001B[1;33m]\u001B[0m\u001B[1;33m\u001B[0m\u001B[1;33m\u001B[0m\u001B[0m\n\u001B[0;32m   6019\u001B[0m         \u001B[1;32mreturn\u001B[0m \u001B[0mself\u001B[0m\u001B[1;33m.\u001B[0m\u001B[0mdelete\u001B[0m\u001B[1;33m(\u001B[0m\u001B[0mindexer\u001B[0m\u001B[1;33m)\u001B[0m\u001B[1;33m\u001B[0m\u001B[1;33m\u001B[0m\u001B[0m\n",
      "\u001B[1;31mKeyError\u001B[0m: \"['Applicant_state' 'Credit_tier'] not found in axis\""
     ]
    }
   ],
   "source": [
    "df.drop(columns=cols_to_drop, inplace = True)\n",
    "# impute"
   ],
   "metadata": {
    "collapsed": false,
    "pycharm": {
     "name": "#%%\n"
    }
   }
  },
  {
   "cell_type": "code",
   "execution_count": 10,
   "outputs": [
    {
     "ename": "AttributeError",
     "evalue": "Can't get attribute '_unpickle_block' on <module 'pandas._libs.internals' from 'C:\\\\jupyterL\\\\lib\\\\site-packages\\\\pandas\\\\_libs\\\\internals.cp38-win_amd64.pyd'>",
     "output_type": "error",
     "traceback": [
      "\u001B[1;31m---------------------------------------------------------------------------\u001B[0m",
      "\u001B[1;31mAttributeError\u001B[0m                            Traceback (most recent call last)",
      "\u001B[1;32mC:\\Users\\AXB190~1\\AppData\\Local\\Temp/ipykernel_28144/3501443979.py\u001B[0m in \u001B[0;36m<module>\u001B[1;34m\u001B[0m\n\u001B[1;32m----> 1\u001B[1;33m \u001B[0mkernel\u001B[0m \u001B[1;33m=\u001B[0m \u001B[0mpickle\u001B[0m\u001B[1;33m.\u001B[0m\u001B[0mload\u001B[0m\u001B[1;33m(\u001B[0m\u001B[0mopen\u001B[0m\u001B[1;33m(\u001B[0m\u001B[1;34m'kernel.p'\u001B[0m\u001B[1;33m,\u001B[0m \u001B[1;34m'rb'\u001B[0m\u001B[1;33m)\u001B[0m\u001B[1;33m)\u001B[0m\u001B[1;33m\u001B[0m\u001B[1;33m\u001B[0m\u001B[0m\n\u001B[0m\u001B[0;32m      2\u001B[0m \u001B[0mdf_imp\u001B[0m \u001B[1;33m=\u001B[0m \u001B[0mkernel\u001B[0m\u001B[1;33m.\u001B[0m\u001B[0mimpute_new_data\u001B[0m\u001B[1;33m(\u001B[0m\u001B[0mdf\u001B[0m\u001B[1;33m)\u001B[0m\u001B[1;33m.\u001B[0m\u001B[0mcomplete_data\u001B[0m\u001B[1;33m(\u001B[0m\u001B[1;36m0\u001B[0m\u001B[1;33m)\u001B[0m\u001B[1;33m\u001B[0m\u001B[1;33m\u001B[0m\u001B[0m\n",
      "\u001B[1;31mAttributeError\u001B[0m: Can't get attribute '_unpickle_block' on <module 'pandas._libs.internals' from 'C:\\\\jupyterL\\\\lib\\\\site-packages\\\\pandas\\\\_libs\\\\internals.cp38-win_amd64.pyd'>"
     ]
    }
   ],
   "source": [
    "kernel = pickle.load(open('kernel.p', 'rb'))\n",
    "df_imp = kernel.impute_new_data(df).complete_data(0)"
   ],
   "metadata": {
    "collapsed": false,
    "pycharm": {
     "name": "#%%\n"
    }
   }
  }
 ],
 "metadata": {
  "kernelspec": {
   "display_name": "Python 3 (ipykernel)",
   "language": "python",
   "name": "python3"
  },
  "language_info": {
   "codemirror_mode": {
    "name": "ipython",
    "version": 3
   },
   "file_extension": ".py",
   "mimetype": "text/x-python",
   "name": "python",
   "nbconvert_exporter": "python",
   "pygments_lexer": "ipython3",
   "version": "3.9.7"
  }
 },
 "nbformat": 4,
 "nbformat_minor": 5
}